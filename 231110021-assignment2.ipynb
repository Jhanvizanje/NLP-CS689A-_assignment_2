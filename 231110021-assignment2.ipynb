{
  "metadata": {
    "accelerator": "GPU",
    "colab": {
      "gpuType": "T4",
      "provenance": []
    },
    "kernelspec": {
      "name": "python3",
      "display_name": "Python 3",
      "language": "python"
    },
    "language_info": {
      "name": "python",
      "version": "3.10.13",
      "mimetype": "text/x-python",
      "codemirror_mode": {
        "name": "ipython",
        "version": 3
      },
      "pygments_lexer": "ipython3",
      "nbconvert_exporter": "python",
      "file_extension": ".py"
    },
    "widgets": {
      "application/vnd.jupyter.widget-state+json": {
        "6707389e9725490492274b4e6de56a6e": {
          "model_module": "@jupyter-widgets/controls",
          "model_name": "HBoxModel",
          "model_module_version": "1.5.0",
          "state": {
            "_dom_classes": [],
            "_model_module": "@jupyter-widgets/controls",
            "_model_module_version": "1.5.0",
            "_model_name": "HBoxModel",
            "_view_count": null,
            "_view_module": "@jupyter-widgets/controls",
            "_view_module_version": "1.5.0",
            "_view_name": "HBoxView",
            "box_style": "",
            "children": [
              "IPY_MODEL_e658035544ae4c91a2cb86f7a4f657cf",
              "IPY_MODEL_98a729f280e349508ef3f8838f3aa50e",
              "IPY_MODEL_c1b02510fd0c400f92baf47f4cd21198"
            ],
            "layout": "IPY_MODEL_8a921f6ce8f3441392996fb50d000539"
          }
        },
        "e658035544ae4c91a2cb86f7a4f657cf": {
          "model_module": "@jupyter-widgets/controls",
          "model_name": "HTMLModel",
          "model_module_version": "1.5.0",
          "state": {
            "_dom_classes": [],
            "_model_module": "@jupyter-widgets/controls",
            "_model_module_version": "1.5.0",
            "_model_name": "HTMLModel",
            "_view_count": null,
            "_view_module": "@jupyter-widgets/controls",
            "_view_module_version": "1.5.0",
            "_view_name": "HTMLView",
            "description": "",
            "description_tooltip": null,
            "layout": "IPY_MODEL_195747817c194e578e3616c3b6274c55",
            "placeholder": "​",
            "style": "IPY_MODEL_1caf8285870e402b9f81840e1b82b064",
            "value": "Running tokenizer on train dataset (num_proc=4): 100%"
          }
        },
        "98a729f280e349508ef3f8838f3aa50e": {
          "model_module": "@jupyter-widgets/controls",
          "model_name": "FloatProgressModel",
          "model_module_version": "1.5.0",
          "state": {
            "_dom_classes": [],
            "_model_module": "@jupyter-widgets/controls",
            "_model_module_version": "1.5.0",
            "_model_name": "FloatProgressModel",
            "_view_count": null,
            "_view_module": "@jupyter-widgets/controls",
            "_view_module_version": "1.5.0",
            "_view_name": "ProgressView",
            "bar_style": "success",
            "description": "",
            "description_tooltip": null,
            "layout": "IPY_MODEL_84f1958a047f490c9da94364a26339d6",
            "max": 23643,
            "min": 0,
            "orientation": "horizontal",
            "style": "IPY_MODEL_5f5cc48989484d0ab192061662e8b717",
            "value": 23643
          }
        },
        "c1b02510fd0c400f92baf47f4cd21198": {
          "model_module": "@jupyter-widgets/controls",
          "model_name": "HTMLModel",
          "model_module_version": "1.5.0",
          "state": {
            "_dom_classes": [],
            "_model_module": "@jupyter-widgets/controls",
            "_model_module_version": "1.5.0",
            "_model_name": "HTMLModel",
            "_view_count": null,
            "_view_module": "@jupyter-widgets/controls",
            "_view_module_version": "1.5.0",
            "_view_name": "HTMLView",
            "description": "",
            "description_tooltip": null,
            "layout": "IPY_MODEL_f04aaceeb59e4d1ca36a7e73478940dd",
            "placeholder": "​",
            "style": "IPY_MODEL_536b8cc0274c4c1a963d7e05712c0d9b",
            "value": " 23643/23643 [00:13&lt;00:00, 1827.10 examples/s]"
          }
        },
        "8a921f6ce8f3441392996fb50d000539": {
          "model_module": "@jupyter-widgets/base",
          "model_name": "LayoutModel",
          "model_module_version": "1.2.0",
          "state": {
            "_model_module": "@jupyter-widgets/base",
            "_model_module_version": "1.2.0",
            "_model_name": "LayoutModel",
            "_view_count": null,
            "_view_module": "@jupyter-widgets/base",
            "_view_module_version": "1.2.0",
            "_view_name": "LayoutView",
            "align_content": null,
            "align_items": null,
            "align_self": null,
            "border": null,
            "bottom": null,
            "display": null,
            "flex": null,
            "flex_flow": null,
            "grid_area": null,
            "grid_auto_columns": null,
            "grid_auto_flow": null,
            "grid_auto_rows": null,
            "grid_column": null,
            "grid_gap": null,
            "grid_row": null,
            "grid_template_areas": null,
            "grid_template_columns": null,
            "grid_template_rows": null,
            "height": null,
            "justify_content": null,
            "justify_items": null,
            "left": null,
            "margin": null,
            "max_height": null,
            "max_width": null,
            "min_height": null,
            "min_width": null,
            "object_fit": null,
            "object_position": null,
            "order": null,
            "overflow": null,
            "overflow_x": null,
            "overflow_y": null,
            "padding": null,
            "right": null,
            "top": null,
            "visibility": null,
            "width": null
          }
        },
        "195747817c194e578e3616c3b6274c55": {
          "model_module": "@jupyter-widgets/base",
          "model_name": "LayoutModel",
          "model_module_version": "1.2.0",
          "state": {
            "_model_module": "@jupyter-widgets/base",
            "_model_module_version": "1.2.0",
            "_model_name": "LayoutModel",
            "_view_count": null,
            "_view_module": "@jupyter-widgets/base",
            "_view_module_version": "1.2.0",
            "_view_name": "LayoutView",
            "align_content": null,
            "align_items": null,
            "align_self": null,
            "border": null,
            "bottom": null,
            "display": null,
            "flex": null,
            "flex_flow": null,
            "grid_area": null,
            "grid_auto_columns": null,
            "grid_auto_flow": null,
            "grid_auto_rows": null,
            "grid_column": null,
            "grid_gap": null,
            "grid_row": null,
            "grid_template_areas": null,
            "grid_template_columns": null,
            "grid_template_rows": null,
            "height": null,
            "justify_content": null,
            "justify_items": null,
            "left": null,
            "margin": null,
            "max_height": null,
            "max_width": null,
            "min_height": null,
            "min_width": null,
            "object_fit": null,
            "object_position": null,
            "order": null,
            "overflow": null,
            "overflow_x": null,
            "overflow_y": null,
            "padding": null,
            "right": null,
            "top": null,
            "visibility": null,
            "width": null
          }
        },
        "1caf8285870e402b9f81840e1b82b064": {
          "model_module": "@jupyter-widgets/controls",
          "model_name": "DescriptionStyleModel",
          "model_module_version": "1.5.0",
          "state": {
            "_model_module": "@jupyter-widgets/controls",
            "_model_module_version": "1.5.0",
            "_model_name": "DescriptionStyleModel",
            "_view_count": null,
            "_view_module": "@jupyter-widgets/base",
            "_view_module_version": "1.2.0",
            "_view_name": "StyleView",
            "description_width": ""
          }
        },
        "84f1958a047f490c9da94364a26339d6": {
          "model_module": "@jupyter-widgets/base",
          "model_name": "LayoutModel",
          "model_module_version": "1.2.0",
          "state": {
            "_model_module": "@jupyter-widgets/base",
            "_model_module_version": "1.2.0",
            "_model_name": "LayoutModel",
            "_view_count": null,
            "_view_module": "@jupyter-widgets/base",
            "_view_module_version": "1.2.0",
            "_view_name": "LayoutView",
            "align_content": null,
            "align_items": null,
            "align_self": null,
            "border": null,
            "bottom": null,
            "display": null,
            "flex": null,
            "flex_flow": null,
            "grid_area": null,
            "grid_auto_columns": null,
            "grid_auto_flow": null,
            "grid_auto_rows": null,
            "grid_column": null,
            "grid_gap": null,
            "grid_row": null,
            "grid_template_areas": null,
            "grid_template_columns": null,
            "grid_template_rows": null,
            "height": null,
            "justify_content": null,
            "justify_items": null,
            "left": null,
            "margin": null,
            "max_height": null,
            "max_width": null,
            "min_height": null,
            "min_width": null,
            "object_fit": null,
            "object_position": null,
            "order": null,
            "overflow": null,
            "overflow_x": null,
            "overflow_y": null,
            "padding": null,
            "right": null,
            "top": null,
            "visibility": null,
            "width": null
          }
        },
        "5f5cc48989484d0ab192061662e8b717": {
          "model_module": "@jupyter-widgets/controls",
          "model_name": "ProgressStyleModel",
          "model_module_version": "1.5.0",
          "state": {
            "_model_module": "@jupyter-widgets/controls",
            "_model_module_version": "1.5.0",
            "_model_name": "ProgressStyleModel",
            "_view_count": null,
            "_view_module": "@jupyter-widgets/base",
            "_view_module_version": "1.2.0",
            "_view_name": "StyleView",
            "bar_color": null,
            "description_width": ""
          }
        },
        "f04aaceeb59e4d1ca36a7e73478940dd": {
          "model_module": "@jupyter-widgets/base",
          "model_name": "LayoutModel",
          "model_module_version": "1.2.0",
          "state": {
            "_model_module": "@jupyter-widgets/base",
            "_model_module_version": "1.2.0",
            "_model_name": "LayoutModel",
            "_view_count": null,
            "_view_module": "@jupyter-widgets/base",
            "_view_module_version": "1.2.0",
            "_view_name": "LayoutView",
            "align_content": null,
            "align_items": null,
            "align_self": null,
            "border": null,
            "bottom": null,
            "display": null,
            "flex": null,
            "flex_flow": null,
            "grid_area": null,
            "grid_auto_columns": null,
            "grid_auto_flow": null,
            "grid_auto_rows": null,
            "grid_column": null,
            "grid_gap": null,
            "grid_row": null,
            "grid_template_areas": null,
            "grid_template_columns": null,
            "grid_template_rows": null,
            "height": null,
            "justify_content": null,
            "justify_items": null,
            "left": null,
            "margin": null,
            "max_height": null,
            "max_width": null,
            "min_height": null,
            "min_width": null,
            "object_fit": null,
            "object_position": null,
            "order": null,
            "overflow": null,
            "overflow_x": null,
            "overflow_y": null,
            "padding": null,
            "right": null,
            "top": null,
            "visibility": null,
            "width": null
          }
        },
        "536b8cc0274c4c1a963d7e05712c0d9b": {
          "model_module": "@jupyter-widgets/controls",
          "model_name": "DescriptionStyleModel",
          "model_module_version": "1.5.0",
          "state": {
            "_model_module": "@jupyter-widgets/controls",
            "_model_module_version": "1.5.0",
            "_model_name": "DescriptionStyleModel",
            "_view_count": null,
            "_view_module": "@jupyter-widgets/base",
            "_view_module_version": "1.2.0",
            "_view_name": "StyleView",
            "description_width": ""
          }
        },
        "0eadb11b41af43ffb7ab0dd4a8f6efcf": {
          "model_module": "@jupyter-widgets/controls",
          "model_name": "HBoxModel",
          "model_module_version": "1.5.0",
          "state": {
            "_dom_classes": [],
            "_model_module": "@jupyter-widgets/controls",
            "_model_module_version": "1.5.0",
            "_model_name": "HBoxModel",
            "_view_count": null,
            "_view_module": "@jupyter-widgets/controls",
            "_view_module_version": "1.5.0",
            "_view_name": "HBoxView",
            "box_style": "",
            "children": [
              "IPY_MODEL_1a60ac7b17004c7a9e6abddd93fe98b2",
              "IPY_MODEL_2029034c99864da299b0c47ac0ea13f4",
              "IPY_MODEL_280405584ce24428a726d0a52cf49b46"
            ],
            "layout": "IPY_MODEL_fee2bfb6fa6643898a4e4b816a02a90e"
          }
        },
        "1a60ac7b17004c7a9e6abddd93fe98b2": {
          "model_module": "@jupyter-widgets/controls",
          "model_name": "HTMLModel",
          "model_module_version": "1.5.0",
          "state": {
            "_dom_classes": [],
            "_model_module": "@jupyter-widgets/controls",
            "_model_module_version": "1.5.0",
            "_model_name": "HTMLModel",
            "_view_count": null,
            "_view_module": "@jupyter-widgets/controls",
            "_view_module_version": "1.5.0",
            "_view_name": "HTMLView",
            "description": "",
            "description_tooltip": null,
            "layout": "IPY_MODEL_82f149d9b6ac4c1880a8f2f161745a23",
            "placeholder": "​",
            "style": "IPY_MODEL_0581a32f74e64ea4ace6756d26390a95",
            "value": "Running tokenizer on Validation dataset (num_proc=4): 100%"
          }
        },
        "2029034c99864da299b0c47ac0ea13f4": {
          "model_module": "@jupyter-widgets/controls",
          "model_name": "FloatProgressModel",
          "model_module_version": "1.5.0",
          "state": {
            "_dom_classes": [],
            "_model_module": "@jupyter-widgets/controls",
            "_model_module_version": "1.5.0",
            "_model_name": "FloatProgressModel",
            "_view_count": null,
            "_view_module": "@jupyter-widgets/controls",
            "_view_module_version": "1.5.0",
            "_view_name": "ProgressView",
            "bar_style": "success",
            "description": "",
            "description_tooltip": null,
            "layout": "IPY_MODEL_ec361e6db31d4a01aeea36df39eaecfd",
            "max": 120,
            "min": 0,
            "orientation": "horizontal",
            "style": "IPY_MODEL_db3e98cb525149df90a6e6657097c74c",
            "value": 120
          }
        },
        "280405584ce24428a726d0a52cf49b46": {
          "model_module": "@jupyter-widgets/controls",
          "model_name": "HTMLModel",
          "model_module_version": "1.5.0",
          "state": {
            "_dom_classes": [],
            "_model_module": "@jupyter-widgets/controls",
            "_model_module_version": "1.5.0",
            "_model_name": "HTMLModel",
            "_view_count": null,
            "_view_module": "@jupyter-widgets/controls",
            "_view_module_version": "1.5.0",
            "_view_name": "HTMLView",
            "description": "",
            "description_tooltip": null,
            "layout": "IPY_MODEL_d7f71b4287004f0cbd388d9498a1e1dd",
            "placeholder": "​",
            "style": "IPY_MODEL_ae938a3c0fce48738156fdee8ba51620",
            "value": " 120/120 [00:00&lt;00:00, 175.31 examples/s]"
          }
        },
        "fee2bfb6fa6643898a4e4b816a02a90e": {
          "model_module": "@jupyter-widgets/base",
          "model_name": "LayoutModel",
          "model_module_version": "1.2.0",
          "state": {
            "_model_module": "@jupyter-widgets/base",
            "_model_module_version": "1.2.0",
            "_model_name": "LayoutModel",
            "_view_count": null,
            "_view_module": "@jupyter-widgets/base",
            "_view_module_version": "1.2.0",
            "_view_name": "LayoutView",
            "align_content": null,
            "align_items": null,
            "align_self": null,
            "border": null,
            "bottom": null,
            "display": null,
            "flex": null,
            "flex_flow": null,
            "grid_area": null,
            "grid_auto_columns": null,
            "grid_auto_flow": null,
            "grid_auto_rows": null,
            "grid_column": null,
            "grid_gap": null,
            "grid_row": null,
            "grid_template_areas": null,
            "grid_template_columns": null,
            "grid_template_rows": null,
            "height": null,
            "justify_content": null,
            "justify_items": null,
            "left": null,
            "margin": null,
            "max_height": null,
            "max_width": null,
            "min_height": null,
            "min_width": null,
            "object_fit": null,
            "object_position": null,
            "order": null,
            "overflow": null,
            "overflow_x": null,
            "overflow_y": null,
            "padding": null,
            "right": null,
            "top": null,
            "visibility": null,
            "width": null
          }
        },
        "82f149d9b6ac4c1880a8f2f161745a23": {
          "model_module": "@jupyter-widgets/base",
          "model_name": "LayoutModel",
          "model_module_version": "1.2.0",
          "state": {
            "_model_module": "@jupyter-widgets/base",
            "_model_module_version": "1.2.0",
            "_model_name": "LayoutModel",
            "_view_count": null,
            "_view_module": "@jupyter-widgets/base",
            "_view_module_version": "1.2.0",
            "_view_name": "LayoutView",
            "align_content": null,
            "align_items": null,
            "align_self": null,
            "border": null,
            "bottom": null,
            "display": null,
            "flex": null,
            "flex_flow": null,
            "grid_area": null,
            "grid_auto_columns": null,
            "grid_auto_flow": null,
            "grid_auto_rows": null,
            "grid_column": null,
            "grid_gap": null,
            "grid_row": null,
            "grid_template_areas": null,
            "grid_template_columns": null,
            "grid_template_rows": null,
            "height": null,
            "justify_content": null,
            "justify_items": null,
            "left": null,
            "margin": null,
            "max_height": null,
            "max_width": null,
            "min_height": null,
            "min_width": null,
            "object_fit": null,
            "object_position": null,
            "order": null,
            "overflow": null,
            "overflow_x": null,
            "overflow_y": null,
            "padding": null,
            "right": null,
            "top": null,
            "visibility": null,
            "width": null
          }
        },
        "0581a32f74e64ea4ace6756d26390a95": {
          "model_module": "@jupyter-widgets/controls",
          "model_name": "DescriptionStyleModel",
          "model_module_version": "1.5.0",
          "state": {
            "_model_module": "@jupyter-widgets/controls",
            "_model_module_version": "1.5.0",
            "_model_name": "DescriptionStyleModel",
            "_view_count": null,
            "_view_module": "@jupyter-widgets/base",
            "_view_module_version": "1.2.0",
            "_view_name": "StyleView",
            "description_width": ""
          }
        },
        "ec361e6db31d4a01aeea36df39eaecfd": {
          "model_module": "@jupyter-widgets/base",
          "model_name": "LayoutModel",
          "model_module_version": "1.2.0",
          "state": {
            "_model_module": "@jupyter-widgets/base",
            "_model_module_version": "1.2.0",
            "_model_name": "LayoutModel",
            "_view_count": null,
            "_view_module": "@jupyter-widgets/base",
            "_view_module_version": "1.2.0",
            "_view_name": "LayoutView",
            "align_content": null,
            "align_items": null,
            "align_self": null,
            "border": null,
            "bottom": null,
            "display": null,
            "flex": null,
            "flex_flow": null,
            "grid_area": null,
            "grid_auto_columns": null,
            "grid_auto_flow": null,
            "grid_auto_rows": null,
            "grid_column": null,
            "grid_gap": null,
            "grid_row": null,
            "grid_template_areas": null,
            "grid_template_columns": null,
            "grid_template_rows": null,
            "height": null,
            "justify_content": null,
            "justify_items": null,
            "left": null,
            "margin": null,
            "max_height": null,
            "max_width": null,
            "min_height": null,
            "min_width": null,
            "object_fit": null,
            "object_position": null,
            "order": null,
            "overflow": null,
            "overflow_x": null,
            "overflow_y": null,
            "padding": null,
            "right": null,
            "top": null,
            "visibility": null,
            "width": null
          }
        },
        "db3e98cb525149df90a6e6657097c74c": {
          "model_module": "@jupyter-widgets/controls",
          "model_name": "ProgressStyleModel",
          "model_module_version": "1.5.0",
          "state": {
            "_model_module": "@jupyter-widgets/controls",
            "_model_module_version": "1.5.0",
            "_model_name": "ProgressStyleModel",
            "_view_count": null,
            "_view_module": "@jupyter-widgets/base",
            "_view_module_version": "1.2.0",
            "_view_name": "StyleView",
            "bar_color": null,
            "description_width": ""
          }
        },
        "d7f71b4287004f0cbd388d9498a1e1dd": {
          "model_module": "@jupyter-widgets/base",
          "model_name": "LayoutModel",
          "model_module_version": "1.2.0",
          "state": {
            "_model_module": "@jupyter-widgets/base",
            "_model_module_version": "1.2.0",
            "_model_name": "LayoutModel",
            "_view_count": null,
            "_view_module": "@jupyter-widgets/base",
            "_view_module_version": "1.2.0",
            "_view_name": "LayoutView",
            "align_content": null,
            "align_items": null,
            "align_self": null,
            "border": null,
            "bottom": null,
            "display": null,
            "flex": null,
            "flex_flow": null,
            "grid_area": null,
            "grid_auto_columns": null,
            "grid_auto_flow": null,
            "grid_auto_rows": null,
            "grid_column": null,
            "grid_gap": null,
            "grid_row": null,
            "grid_template_areas": null,
            "grid_template_columns": null,
            "grid_template_rows": null,
            "height": null,
            "justify_content": null,
            "justify_items": null,
            "left": null,
            "margin": null,
            "max_height": null,
            "max_width": null,
            "min_height": null,
            "min_width": null,
            "object_fit": null,
            "object_position": null,
            "order": null,
            "overflow": null,
            "overflow_x": null,
            "overflow_y": null,
            "padding": null,
            "right": null,
            "top": null,
            "visibility": null,
            "width": null
          }
        },
        "ae938a3c0fce48738156fdee8ba51620": {
          "model_module": "@jupyter-widgets/controls",
          "model_name": "DescriptionStyleModel",
          "model_module_version": "1.5.0",
          "state": {
            "_model_module": "@jupyter-widgets/controls",
            "_model_module_version": "1.5.0",
            "_model_name": "DescriptionStyleModel",
            "_view_count": null,
            "_view_module": "@jupyter-widgets/base",
            "_view_module_version": "1.2.0",
            "_view_name": "StyleView",
            "description_width": ""
          }
        },
        "1dd42637d4a544479524b8a06d7da839": {
          "model_module": "@jupyter-widgets/controls",
          "model_name": "HBoxModel",
          "model_module_version": "1.5.0",
          "state": {
            "_dom_classes": [],
            "_model_module": "@jupyter-widgets/controls",
            "_model_module_version": "1.5.0",
            "_model_name": "HBoxModel",
            "_view_count": null,
            "_view_module": "@jupyter-widgets/controls",
            "_view_module_version": "1.5.0",
            "_view_name": "HBoxView",
            "box_style": "",
            "children": [
              "IPY_MODEL_7bf6a5559c5c4334819c3dfb07bc06fe",
              "IPY_MODEL_3751b0cf73434cf69fb3fe34f6ebad40",
              "IPY_MODEL_d8b5fb5923b84b10832ac1aa39b0e4dc"
            ],
            "layout": "IPY_MODEL_a5a5d15db76d456986c278688345bb25"
          }
        },
        "7bf6a5559c5c4334819c3dfb07bc06fe": {
          "model_module": "@jupyter-widgets/controls",
          "model_name": "HTMLModel",
          "model_module_version": "1.5.0",
          "state": {
            "_dom_classes": [],
            "_model_module": "@jupyter-widgets/controls",
            "_model_module_version": "1.5.0",
            "_model_name": "HTMLModel",
            "_view_count": null,
            "_view_module": "@jupyter-widgets/controls",
            "_view_module_version": "1.5.0",
            "_view_name": "HTMLView",
            "description": "",
            "description_tooltip": null,
            "layout": "IPY_MODEL_afd0700438484bfc95f5d0a9f0ca0255",
            "placeholder": "​",
            "style": "IPY_MODEL_d880d06ce86f4cf2ad0b5fc30342f3df",
            "value": "Map (num_proc=32): 100%"
          }
        },
        "3751b0cf73434cf69fb3fe34f6ebad40": {
          "model_module": "@jupyter-widgets/controls",
          "model_name": "FloatProgressModel",
          "model_module_version": "1.5.0",
          "state": {
            "_dom_classes": [],
            "_model_module": "@jupyter-widgets/controls",
            "_model_module_version": "1.5.0",
            "_model_name": "FloatProgressModel",
            "_view_count": null,
            "_view_module": "@jupyter-widgets/controls",
            "_view_module_version": "1.5.0",
            "_view_name": "ProgressView",
            "bar_style": "success",
            "description": "",
            "description_tooltip": null,
            "layout": "IPY_MODEL_043ae8d4b8b749f39e0850d56ef6b5f7",
            "max": 54,
            "min": 0,
            "orientation": "horizontal",
            "style": "IPY_MODEL_3bf43fc80d5f46d7acaea9dc4f3da18c",
            "value": 54
          }
        },
        "d8b5fb5923b84b10832ac1aa39b0e4dc": {
          "model_module": "@jupyter-widgets/controls",
          "model_name": "HTMLModel",
          "model_module_version": "1.5.0",
          "state": {
            "_dom_classes": [],
            "_model_module": "@jupyter-widgets/controls",
            "_model_module_version": "1.5.0",
            "_model_name": "HTMLModel",
            "_view_count": null,
            "_view_module": "@jupyter-widgets/controls",
            "_view_module_version": "1.5.0",
            "_view_name": "HTMLView",
            "description": "",
            "description_tooltip": null,
            "layout": "IPY_MODEL_625522c9075140fd8017cd80b52876fc",
            "placeholder": "​",
            "style": "IPY_MODEL_6c27d2972e7c40228bcf4cc65183069e",
            "value": " 54/54 [00:01&lt;00:00, 54.30 examples/s]"
          }
        },
        "a5a5d15db76d456986c278688345bb25": {
          "model_module": "@jupyter-widgets/base",
          "model_name": "LayoutModel",
          "model_module_version": "1.2.0",
          "state": {
            "_model_module": "@jupyter-widgets/base",
            "_model_module_version": "1.2.0",
            "_model_name": "LayoutModel",
            "_view_count": null,
            "_view_module": "@jupyter-widgets/base",
            "_view_module_version": "1.2.0",
            "_view_name": "LayoutView",
            "align_content": null,
            "align_items": null,
            "align_self": null,
            "border": null,
            "bottom": null,
            "display": null,
            "flex": null,
            "flex_flow": null,
            "grid_area": null,
            "grid_auto_columns": null,
            "grid_auto_flow": null,
            "grid_auto_rows": null,
            "grid_column": null,
            "grid_gap": null,
            "grid_row": null,
            "grid_template_areas": null,
            "grid_template_columns": null,
            "grid_template_rows": null,
            "height": null,
            "justify_content": null,
            "justify_items": null,
            "left": null,
            "margin": null,
            "max_height": null,
            "max_width": null,
            "min_height": null,
            "min_width": null,
            "object_fit": null,
            "object_position": null,
            "order": null,
            "overflow": null,
            "overflow_x": null,
            "overflow_y": null,
            "padding": null,
            "right": null,
            "top": null,
            "visibility": null,
            "width": null
          }
        },
        "afd0700438484bfc95f5d0a9f0ca0255": {
          "model_module": "@jupyter-widgets/base",
          "model_name": "LayoutModel",
          "model_module_version": "1.2.0",
          "state": {
            "_model_module": "@jupyter-widgets/base",
            "_model_module_version": "1.2.0",
            "_model_name": "LayoutModel",
            "_view_count": null,
            "_view_module": "@jupyter-widgets/base",
            "_view_module_version": "1.2.0",
            "_view_name": "LayoutView",
            "align_content": null,
            "align_items": null,
            "align_self": null,
            "border": null,
            "bottom": null,
            "display": null,
            "flex": null,
            "flex_flow": null,
            "grid_area": null,
            "grid_auto_columns": null,
            "grid_auto_flow": null,
            "grid_auto_rows": null,
            "grid_column": null,
            "grid_gap": null,
            "grid_row": null,
            "grid_template_areas": null,
            "grid_template_columns": null,
            "grid_template_rows": null,
            "height": null,
            "justify_content": null,
            "justify_items": null,
            "left": null,
            "margin": null,
            "max_height": null,
            "max_width": null,
            "min_height": null,
            "min_width": null,
            "object_fit": null,
            "object_position": null,
            "order": null,
            "overflow": null,
            "overflow_x": null,
            "overflow_y": null,
            "padding": null,
            "right": null,
            "top": null,
            "visibility": null,
            "width": null
          }
        },
        "d880d06ce86f4cf2ad0b5fc30342f3df": {
          "model_module": "@jupyter-widgets/controls",
          "model_name": "DescriptionStyleModel",
          "model_module_version": "1.5.0",
          "state": {
            "_model_module": "@jupyter-widgets/controls",
            "_model_module_version": "1.5.0",
            "_model_name": "DescriptionStyleModel",
            "_view_count": null,
            "_view_module": "@jupyter-widgets/base",
            "_view_module_version": "1.2.0",
            "_view_name": "StyleView",
            "description_width": ""
          }
        },
        "043ae8d4b8b749f39e0850d56ef6b5f7": {
          "model_module": "@jupyter-widgets/base",
          "model_name": "LayoutModel",
          "model_module_version": "1.2.0",
          "state": {
            "_model_module": "@jupyter-widgets/base",
            "_model_module_version": "1.2.0",
            "_model_name": "LayoutModel",
            "_view_count": null,
            "_view_module": "@jupyter-widgets/base",
            "_view_module_version": "1.2.0",
            "_view_name": "LayoutView",
            "align_content": null,
            "align_items": null,
            "align_self": null,
            "border": null,
            "bottom": null,
            "display": null,
            "flex": null,
            "flex_flow": null,
            "grid_area": null,
            "grid_auto_columns": null,
            "grid_auto_flow": null,
            "grid_auto_rows": null,
            "grid_column": null,
            "grid_gap": null,
            "grid_row": null,
            "grid_template_areas": null,
            "grid_template_columns": null,
            "grid_template_rows": null,
            "height": null,
            "justify_content": null,
            "justify_items": null,
            "left": null,
            "margin": null,
            "max_height": null,
            "max_width": null,
            "min_height": null,
            "min_width": null,
            "object_fit": null,
            "object_position": null,
            "order": null,
            "overflow": null,
            "overflow_x": null,
            "overflow_y": null,
            "padding": null,
            "right": null,
            "top": null,
            "visibility": null,
            "width": null
          }
        },
        "3bf43fc80d5f46d7acaea9dc4f3da18c": {
          "model_module": "@jupyter-widgets/controls",
          "model_name": "ProgressStyleModel",
          "model_module_version": "1.5.0",
          "state": {
            "_model_module": "@jupyter-widgets/controls",
            "_model_module_version": "1.5.0",
            "_model_name": "ProgressStyleModel",
            "_view_count": null,
            "_view_module": "@jupyter-widgets/base",
            "_view_module_version": "1.2.0",
            "_view_name": "StyleView",
            "bar_color": null,
            "description_width": ""
          }
        },
        "625522c9075140fd8017cd80b52876fc": {
          "model_module": "@jupyter-widgets/base",
          "model_name": "LayoutModel",
          "model_module_version": "1.2.0",
          "state": {
            "_model_module": "@jupyter-widgets/base",
            "_model_module_version": "1.2.0",
            "_model_name": "LayoutModel",
            "_view_count": null,
            "_view_module": "@jupyter-widgets/base",
            "_view_module_version": "1.2.0",
            "_view_name": "LayoutView",
            "align_content": null,
            "align_items": null,
            "align_self": null,
            "border": null,
            "bottom": null,
            "display": null,
            "flex": null,
            "flex_flow": null,
            "grid_area": null,
            "grid_auto_columns": null,
            "grid_auto_flow": null,
            "grid_auto_rows": null,
            "grid_column": null,
            "grid_gap": null,
            "grid_row": null,
            "grid_template_areas": null,
            "grid_template_columns": null,
            "grid_template_rows": null,
            "height": null,
            "justify_content": null,
            "justify_items": null,
            "left": null,
            "margin": null,
            "max_height": null,
            "max_width": null,
            "min_height": null,
            "min_width": null,
            "object_fit": null,
            "object_position": null,
            "order": null,
            "overflow": null,
            "overflow_x": null,
            "overflow_y": null,
            "padding": null,
            "right": null,
            "top": null,
            "visibility": null,
            "width": null
          }
        },
        "6c27d2972e7c40228bcf4cc65183069e": {
          "model_module": "@jupyter-widgets/controls",
          "model_name": "DescriptionStyleModel",
          "model_module_version": "1.5.0",
          "state": {
            "_model_module": "@jupyter-widgets/controls",
            "_model_module_version": "1.5.0",
            "_model_name": "DescriptionStyleModel",
            "_view_count": null,
            "_view_module": "@jupyter-widgets/base",
            "_view_module_version": "1.2.0",
            "_view_name": "StyleView",
            "description_width": ""
          }
        }
      }
    },
    "kaggle": {
      "accelerator": "gpu",
      "dataSources": [
        {
          "sourceId": 7832156,
          "sourceType": "datasetVersion",
          "datasetId": 4590263
        }
      ],
      "dockerImageVersionId": 30665,
      "isInternetEnabled": true,
      "language": "python",
      "sourceType": "notebook",
      "isGpuEnabled": true
    }
  },
  "nbformat_minor": 0,
  "nbformat": 4,
  "cells": [
    {
      "cell_type": "markdown",
      "source": [
        "# **SetUp**"
      ],
      "metadata": {
        "id": "WlNtlyTnXD5b"
      }
    },
    {
      "cell_type": "code",
      "source": [
        "!pip3 install datasets\n",
        "!pip3 install transformers\n",
        "!pip3 install sentencepiece\n",
        "!pip3 install seqeval\n",
        "# !pip install --upgrade pip\n",
        "# !pip show accelerate\n",
        "# !pip uninstall transformers\n",
        "# !pip install transformers[torch]"
      ],
      "metadata": {
        "colab": {
          "base_uri": "https://localhost:8080/"
        },
        "id": "7fVHDQZHe5pL",
        "outputId": "d9cf420b-7e4e-4b3a-c7da-2fed21e5996c",
        "execution": {
          "iopub.status.busy": "2024-03-13T11:28:22.708464Z",
          "iopub.execute_input": "2024-03-13T11:28:22.708816Z",
          "iopub.status.idle": "2024-03-13T11:29:10.976831Z",
          "shell.execute_reply.started": "2024-03-13T11:28:22.708788Z",
          "shell.execute_reply": "2024-03-13T11:29:10.975703Z"
        },
        "trusted": true
      },
      "execution_count": null,
      "outputs": [
        {
          "name": "stdout",
          "text": "Requirement already satisfied: datasets in /opt/conda/lib/python3.10/site-packages (2.1.0)\nRequirement already satisfied: numpy>=1.17 in /opt/conda/lib/python3.10/site-packages (from datasets) (1.26.4)\nRequirement already satisfied: pyarrow>=5.0.0 in /opt/conda/lib/python3.10/site-packages (from datasets) (11.0.0)\nRequirement already satisfied: dill in /opt/conda/lib/python3.10/site-packages (from datasets) (0.3.8)\nRequirement already satisfied: pandas in /opt/conda/lib/python3.10/site-packages (from datasets) (2.1.4)\nRequirement already satisfied: requests>=2.19.0 in /opt/conda/lib/python3.10/site-packages (from datasets) (2.31.0)\nRequirement already satisfied: tqdm>=4.62.1 in /opt/conda/lib/python3.10/site-packages (from datasets) (4.66.1)\nRequirement already satisfied: xxhash in /opt/conda/lib/python3.10/site-packages (from datasets) (3.4.1)\nRequirement already satisfied: multiprocess in /opt/conda/lib/python3.10/site-packages (from datasets) (0.70.16)\nRequirement already satisfied: fsspec>=2021.05.0 in /opt/conda/lib/python3.10/site-packages (from fsspec[http]>=2021.05.0->datasets) (2024.2.0)\nRequirement already satisfied: aiohttp in /opt/conda/lib/python3.10/site-packages (from datasets) (3.9.1)\nRequirement already satisfied: huggingface-hub<1.0.0,>=0.1.0 in /opt/conda/lib/python3.10/site-packages (from datasets) (0.20.3)\nRequirement already satisfied: packaging in /opt/conda/lib/python3.10/site-packages (from datasets) (21.3)\nRequirement already satisfied: responses<0.19 in /opt/conda/lib/python3.10/site-packages (from datasets) (0.18.0)\nRequirement already satisfied: attrs>=17.3.0 in /opt/conda/lib/python3.10/site-packages (from aiohttp->datasets) (23.2.0)\nRequirement already satisfied: multidict<7.0,>=4.5 in /opt/conda/lib/python3.10/site-packages (from aiohttp->datasets) (6.0.4)\nRequirement already satisfied: yarl<2.0,>=1.0 in /opt/conda/lib/python3.10/site-packages (from aiohttp->datasets) (1.9.3)\nRequirement already satisfied: frozenlist>=1.1.1 in /opt/conda/lib/python3.10/site-packages (from aiohttp->datasets) (1.4.1)\nRequirement already satisfied: aiosignal>=1.1.2 in /opt/conda/lib/python3.10/site-packages (from aiohttp->datasets) (1.3.1)\nRequirement already satisfied: async-timeout<5.0,>=4.0 in /opt/conda/lib/python3.10/site-packages (from aiohttp->datasets) (4.0.3)\nRequirement already satisfied: filelock in /opt/conda/lib/python3.10/site-packages (from huggingface-hub<1.0.0,>=0.1.0->datasets) (3.13.1)\nRequirement already satisfied: pyyaml>=5.1 in /opt/conda/lib/python3.10/site-packages (from huggingface-hub<1.0.0,>=0.1.0->datasets) (6.0.1)\nRequirement already satisfied: typing-extensions>=3.7.4.3 in /opt/conda/lib/python3.10/site-packages (from huggingface-hub<1.0.0,>=0.1.0->datasets) (4.9.0)\nRequirement already satisfied: pyparsing!=3.0.5,>=2.0.2 in /opt/conda/lib/python3.10/site-packages (from packaging->datasets) (3.1.1)\nRequirement already satisfied: charset-normalizer<4,>=2 in /opt/conda/lib/python3.10/site-packages (from requests>=2.19.0->datasets) (3.3.2)\nRequirement already satisfied: idna<4,>=2.5 in /opt/conda/lib/python3.10/site-packages (from requests>=2.19.0->datasets) (3.6)\nRequirement already satisfied: urllib3<3,>=1.21.1 in /opt/conda/lib/python3.10/site-packages (from requests>=2.19.0->datasets) (1.26.18)\nRequirement already satisfied: certifi>=2017.4.17 in /opt/conda/lib/python3.10/site-packages (from requests>=2.19.0->datasets) (2024.2.2)\nRequirement already satisfied: python-dateutil>=2.8.2 in /opt/conda/lib/python3.10/site-packages (from pandas->datasets) (2.8.2)\nRequirement already satisfied: pytz>=2020.1 in /opt/conda/lib/python3.10/site-packages (from pandas->datasets) (2023.3.post1)\nRequirement already satisfied: tzdata>=2022.1 in /opt/conda/lib/python3.10/site-packages (from pandas->datasets) (2023.4)\nRequirement already satisfied: six>=1.5 in /opt/conda/lib/python3.10/site-packages (from python-dateutil>=2.8.2->pandas->datasets) (1.16.0)\nRequirement already satisfied: transformers in /opt/conda/lib/python3.10/site-packages (4.38.2)\nRequirement already satisfied: filelock in /opt/conda/lib/python3.10/site-packages (from transformers) (3.13.1)\nRequirement already satisfied: huggingface-hub<1.0,>=0.19.3 in /opt/conda/lib/python3.10/site-packages (from transformers) (0.20.3)\nRequirement already satisfied: numpy>=1.17 in /opt/conda/lib/python3.10/site-packages (from transformers) (1.26.4)\nRequirement already satisfied: packaging>=20.0 in /opt/conda/lib/python3.10/site-packages (from transformers) (21.3)\nRequirement already satisfied: pyyaml>=5.1 in /opt/conda/lib/python3.10/site-packages (from transformers) (6.0.1)\nRequirement already satisfied: regex!=2019.12.17 in /opt/conda/lib/python3.10/site-packages (from transformers) (2023.12.25)\nRequirement already satisfied: requests in /opt/conda/lib/python3.10/site-packages (from transformers) (2.31.0)\nRequirement already satisfied: tokenizers<0.19,>=0.14 in /opt/conda/lib/python3.10/site-packages (from transformers) (0.15.2)\nRequirement already satisfied: safetensors>=0.4.1 in /opt/conda/lib/python3.10/site-packages (from transformers) (0.4.2)\nRequirement already satisfied: tqdm>=4.27 in /opt/conda/lib/python3.10/site-packages (from transformers) (4.66.1)\nRequirement already satisfied: fsspec>=2023.5.0 in /opt/conda/lib/python3.10/site-packages (from huggingface-hub<1.0,>=0.19.3->transformers) (2024.2.0)\nRequirement already satisfied: typing-extensions>=3.7.4.3 in /opt/conda/lib/python3.10/site-packages (from huggingface-hub<1.0,>=0.19.3->transformers) (4.9.0)\nRequirement already satisfied: pyparsing!=3.0.5,>=2.0.2 in /opt/conda/lib/python3.10/site-packages (from packaging>=20.0->transformers) (3.1.1)\nRequirement already satisfied: charset-normalizer<4,>=2 in /opt/conda/lib/python3.10/site-packages (from requests->transformers) (3.3.2)\nRequirement already satisfied: idna<4,>=2.5 in /opt/conda/lib/python3.10/site-packages (from requests->transformers) (3.6)\nRequirement already satisfied: urllib3<3,>=1.21.1 in /opt/conda/lib/python3.10/site-packages (from requests->transformers) (1.26.18)\nRequirement already satisfied: certifi>=2017.4.17 in /opt/conda/lib/python3.10/site-packages (from requests->transformers) (2024.2.2)\nRequirement already satisfied: sentencepiece in /opt/conda/lib/python3.10/site-packages (0.2.0)\nRequirement already satisfied: seqeval in /opt/conda/lib/python3.10/site-packages (1.2.2)\nRequirement already satisfied: numpy>=1.14.0 in /opt/conda/lib/python3.10/site-packages (from seqeval) (1.26.4)\nRequirement already satisfied: scikit-learn>=0.21.3 in /opt/conda/lib/python3.10/site-packages (from seqeval) (1.2.2)\nRequirement already satisfied: scipy>=1.3.2 in /opt/conda/lib/python3.10/site-packages (from scikit-learn>=0.21.3->seqeval) (1.11.4)\nRequirement already satisfied: joblib>=1.1.1 in /opt/conda/lib/python3.10/site-packages (from scikit-learn>=0.21.3->seqeval) (1.3.2)\nRequirement already satisfied: threadpoolctl>=2.0.0 in /opt/conda/lib/python3.10/site-packages (from scikit-learn>=0.21.3->seqeval) (3.2.0)\n",
          "output_type": "stream"
        }
      ]
    },
    {
      "cell_type": "code",
      "source": [
        "!pip install -U accelerate\n",
        "!pip install -U transformers"
      ],
      "metadata": {
        "execution": {
          "iopub.status.busy": "2024-03-13T11:29:10.978954Z",
          "iopub.execute_input": "2024-03-13T11:29:10.979276Z",
          "iopub.status.idle": "2024-03-13T11:29:35.440791Z",
          "shell.execute_reply.started": "2024-03-13T11:29:10.979247Z",
          "shell.execute_reply": "2024-03-13T11:29:35.439613Z"
        },
        "trusted": true,
        "id": "nEodJjsknhBE",
        "outputId": "0ee53e62-fb3f-4870-bc29-0d0a9052fb1a"
      },
      "execution_count": null,
      "outputs": [
        {
          "name": "stdout",
          "text": "Requirement already satisfied: accelerate in /opt/conda/lib/python3.10/site-packages (0.28.0)\nRequirement already satisfied: numpy>=1.17 in /opt/conda/lib/python3.10/site-packages (from accelerate) (1.26.4)\nRequirement already satisfied: packaging>=20.0 in /opt/conda/lib/python3.10/site-packages (from accelerate) (21.3)\nRequirement already satisfied: psutil in /opt/conda/lib/python3.10/site-packages (from accelerate) (5.9.3)\nRequirement already satisfied: pyyaml in /opt/conda/lib/python3.10/site-packages (from accelerate) (6.0.1)\nRequirement already satisfied: torch>=1.10.0 in /opt/conda/lib/python3.10/site-packages (from accelerate) (2.1.2)\nRequirement already satisfied: huggingface-hub in /opt/conda/lib/python3.10/site-packages (from accelerate) (0.20.3)\nRequirement already satisfied: safetensors>=0.3.1 in /opt/conda/lib/python3.10/site-packages (from accelerate) (0.4.2)\nRequirement already satisfied: pyparsing!=3.0.5,>=2.0.2 in /opt/conda/lib/python3.10/site-packages (from packaging>=20.0->accelerate) (3.1.1)\nRequirement already satisfied: filelock in /opt/conda/lib/python3.10/site-packages (from torch>=1.10.0->accelerate) (3.13.1)\nRequirement already satisfied: typing-extensions in /opt/conda/lib/python3.10/site-packages (from torch>=1.10.0->accelerate) (4.9.0)\nRequirement already satisfied: sympy in /opt/conda/lib/python3.10/site-packages (from torch>=1.10.0->accelerate) (1.12)\nRequirement already satisfied: networkx in /opt/conda/lib/python3.10/site-packages (from torch>=1.10.0->accelerate) (3.2.1)\nRequirement already satisfied: jinja2 in /opt/conda/lib/python3.10/site-packages (from torch>=1.10.0->accelerate) (3.1.2)\nRequirement already satisfied: fsspec in /opt/conda/lib/python3.10/site-packages (from torch>=1.10.0->accelerate) (2024.2.0)\nRequirement already satisfied: requests in /opt/conda/lib/python3.10/site-packages (from huggingface-hub->accelerate) (2.31.0)\nRequirement already satisfied: tqdm>=4.42.1 in /opt/conda/lib/python3.10/site-packages (from huggingface-hub->accelerate) (4.66.1)\nRequirement already satisfied: MarkupSafe>=2.0 in /opt/conda/lib/python3.10/site-packages (from jinja2->torch>=1.10.0->accelerate) (2.1.3)\nRequirement already satisfied: charset-normalizer<4,>=2 in /opt/conda/lib/python3.10/site-packages (from requests->huggingface-hub->accelerate) (3.3.2)\nRequirement already satisfied: idna<4,>=2.5 in /opt/conda/lib/python3.10/site-packages (from requests->huggingface-hub->accelerate) (3.6)\nRequirement already satisfied: urllib3<3,>=1.21.1 in /opt/conda/lib/python3.10/site-packages (from requests->huggingface-hub->accelerate) (1.26.18)\nRequirement already satisfied: certifi>=2017.4.17 in /opt/conda/lib/python3.10/site-packages (from requests->huggingface-hub->accelerate) (2024.2.2)\nRequirement already satisfied: mpmath>=0.19 in /opt/conda/lib/python3.10/site-packages (from sympy->torch>=1.10.0->accelerate) (1.3.0)\nRequirement already satisfied: transformers in /opt/conda/lib/python3.10/site-packages (4.38.2)\nRequirement already satisfied: filelock in /opt/conda/lib/python3.10/site-packages (from transformers) (3.13.1)\nRequirement already satisfied: huggingface-hub<1.0,>=0.19.3 in /opt/conda/lib/python3.10/site-packages (from transformers) (0.20.3)\nRequirement already satisfied: numpy>=1.17 in /opt/conda/lib/python3.10/site-packages (from transformers) (1.26.4)\nRequirement already satisfied: packaging>=20.0 in /opt/conda/lib/python3.10/site-packages (from transformers) (21.3)\nRequirement already satisfied: pyyaml>=5.1 in /opt/conda/lib/python3.10/site-packages (from transformers) (6.0.1)\nRequirement already satisfied: regex!=2019.12.17 in /opt/conda/lib/python3.10/site-packages (from transformers) (2023.12.25)\nRequirement already satisfied: requests in /opt/conda/lib/python3.10/site-packages (from transformers) (2.31.0)\nRequirement already satisfied: tokenizers<0.19,>=0.14 in /opt/conda/lib/python3.10/site-packages (from transformers) (0.15.2)\nRequirement already satisfied: safetensors>=0.4.1 in /opt/conda/lib/python3.10/site-packages (from transformers) (0.4.2)\nRequirement already satisfied: tqdm>=4.27 in /opt/conda/lib/python3.10/site-packages (from transformers) (4.66.1)\nRequirement already satisfied: fsspec>=2023.5.0 in /opt/conda/lib/python3.10/site-packages (from huggingface-hub<1.0,>=0.19.3->transformers) (2024.2.0)\nRequirement already satisfied: typing-extensions>=3.7.4.3 in /opt/conda/lib/python3.10/site-packages (from huggingface-hub<1.0,>=0.19.3->transformers) (4.9.0)\nRequirement already satisfied: pyparsing!=3.0.5,>=2.0.2 in /opt/conda/lib/python3.10/site-packages (from packaging>=20.0->transformers) (3.1.1)\nRequirement already satisfied: charset-normalizer<4,>=2 in /opt/conda/lib/python3.10/site-packages (from requests->transformers) (3.3.2)\nRequirement already satisfied: idna<4,>=2.5 in /opt/conda/lib/python3.10/site-packages (from requests->transformers) (3.6)\nRequirement already satisfied: urllib3<3,>=1.21.1 in /opt/conda/lib/python3.10/site-packages (from requests->transformers) (1.26.18)\nRequirement already satisfied: certifi>=2017.4.17 in /opt/conda/lib/python3.10/site-packages (from requests->transformers) (2024.2.2)\n",
          "output_type": "stream"
        }
      ]
    },
    {
      "cell_type": "code",
      "source": [
        "# Download the Naampadam (Indic NER) dataset\n",
        "from datasets import ClassLabel, load_dataset, load_metric, DownloadMode\n",
        "from sklearn.metrics import precision_recall_fscore_support\n",
        "\n",
        "lang='gu'\n",
        "\n",
        "raw_datasets = load_dataset('ai4bharat/naamapadam', lang)"
      ],
      "metadata": {
        "id": "EBsKA0sAcNqJ",
        "execution": {
          "iopub.status.busy": "2024-03-13T06:48:21.290912Z",
          "iopub.execute_input": "2024-03-13T06:48:21.291223Z",
          "iopub.status.idle": "2024-03-13T06:49:32.719051Z",
          "shell.execute_reply.started": "2024-03-13T06:48:21.291193Z",
          "shell.execute_reply": "2024-03-13T06:49:32.718182Z"
        },
        "trusted": true,
        "colab": {
          "referenced_widgets": [
            "318b5e13828e4575ac7954e236d822dc",
            "725c8f2d90e64fc198574025b4d65b9c",
            "",
            "bbc2f0d5a37a46018af481facd1548e9"
          ]
        },
        "outputId": "ed942cde-fd05-4a89-cb5e-106f67f04c60"
      },
      "execution_count": null,
      "outputs": [
        {
          "output_type": "display_data",
          "data": {
            "text/plain": "Downloading builder script:   0%|          | 0.00/2.86k [00:00<?, ?B/s]",
            "application/vnd.jupyter.widget-view+json": {
              "version_major": 2,
              "version_minor": 0,
              "model_id": "318b5e13828e4575ac7954e236d822dc"
            }
          },
          "metadata": {}
        },
        {
          "name": "stdout",
          "text": "Downloading and preparing dataset naamapadam_pr/gu to /root/.cache/huggingface/datasets/ai4bharat___naamapadam_pr/gu/1.0.0/99b5ec77eabfaa3fbff510d8cf70d7c34519486cb7dbee99ede19474ddff9b20...\n",
          "output_type": "stream"
        },
        {
          "output_type": "display_data",
          "data": {
            "text/plain": "Downloading data:   0%|          | 0.00/26.6M [00:00<?, ?B/s]",
            "application/vnd.jupyter.widget-view+json": {
              "version_major": 2,
              "version_minor": 0,
              "model_id": "725c8f2d90e64fc198574025b4d65b9c"
            }
          },
          "metadata": {}
        },
        {
          "output_type": "display_data",
          "data": {
            "text/plain": "Generating train split: 0 examples [00:00, ? examples/s]",
            "application/vnd.jupyter.widget-view+json": {
              "version_major": 2,
              "version_minor": 0,
              "model_id": ""
            }
          },
          "metadata": {}
        },
        {
          "output_type": "display_data",
          "data": {
            "text/plain": "Generating test split: 0 examples [00:00, ? examples/s]",
            "application/vnd.jupyter.widget-view+json": {
              "version_major": 2,
              "version_minor": 0,
              "model_id": ""
            }
          },
          "metadata": {}
        },
        {
          "output_type": "display_data",
          "data": {
            "text/plain": "Generating validation split: 0 examples [00:00, ? examples/s]",
            "application/vnd.jupyter.widget-view+json": {
              "version_major": 2,
              "version_minor": 0,
              "model_id": ""
            }
          },
          "metadata": {}
        },
        {
          "name": "stdout",
          "text": "Dataset naamapadam_pr downloaded and prepared to /root/.cache/huggingface/datasets/ai4bharat___naamapadam_pr/gu/1.0.0/99b5ec77eabfaa3fbff510d8cf70d7c34519486cb7dbee99ede19474ddff9b20. Subsequent calls will reuse this data.\n",
          "output_type": "stream"
        },
        {
          "output_type": "display_data",
          "data": {
            "text/plain": "  0%|          | 0/3 [00:00<?, ?it/s]",
            "application/vnd.jupyter.widget-view+json": {
              "version_major": 2,
              "version_minor": 0,
              "model_id": "bbc2f0d5a37a46018af481facd1548e9"
            }
          },
          "metadata": {}
        }
      ]
    },
    {
      "cell_type": "code",
      "source": [
        "raw_datasets"
      ],
      "metadata": {
        "colab": {
          "base_uri": "https://localhost:8080/"
        },
        "id": "9-ovxUCjlzSo",
        "outputId": "0ce134db-25e6-4bff-8469-a7fd1dbfdc34",
        "execution": {
          "iopub.status.busy": "2024-03-13T06:49:32.721335Z",
          "iopub.execute_input": "2024-03-13T06:49:32.722129Z",
          "iopub.status.idle": "2024-03-13T06:49:32.728630Z",
          "shell.execute_reply.started": "2024-03-13T06:49:32.722095Z",
          "shell.execute_reply": "2024-03-13T06:49:32.727736Z"
        },
        "trusted": true
      },
      "execution_count": null,
      "outputs": [
        {
          "execution_count": 5,
          "output_type": "execute_result",
          "data": {
            "text/plain": "DatasetDict({\n    train: Dataset({\n        features: ['tokens', 'ner_tags'],\n        num_rows: 472845\n    })\n    test: Dataset({\n        features: ['tokens', 'ner_tags'],\n        num_rows: 1076\n    })\n    validation: Dataset({\n        features: ['tokens', 'ner_tags'],\n        num_rows: 2389\n    })\n})"
          },
          "metadata": {}
        }
      ]
    },
    {
      "cell_type": "code",
      "source": [
        "from datasets import DatasetDict\n",
        "import math\n",
        "\n",
        "\n",
        "# Now, you can create a new DatasetDict with the modified train split to 20% data\n",
        "tarin20=math.ceil(len(raw_datasets['train'])*0.10)\n",
        "test20=math.ceil(len(raw_datasets['test']))\n",
        "valid20=math.ceil(len(raw_datasets['validation']))\n",
        "raw_datasets = DatasetDict({\n",
        "    'train': raw_datasets['train'].select(range(tarin20)),\n",
        "    'test': raw_datasets['test'].select(range(test20)),\n",
        "    'validation': raw_datasets['validation'].select(range(valid20)),\n",
        "})"
      ],
      "metadata": {
        "id": "sBv9V6s3noKe",
        "execution": {
          "iopub.status.busy": "2024-03-13T06:49:32.729852Z",
          "iopub.execute_input": "2024-03-13T06:49:32.730204Z",
          "iopub.status.idle": "2024-03-13T06:49:32.754311Z",
          "shell.execute_reply.started": "2024-03-13T06:49:32.730172Z",
          "shell.execute_reply": "2024-03-13T06:49:32.753394Z"
        },
        "trusted": true
      },
      "execution_count": null,
      "outputs": []
    },
    {
      "cell_type": "code",
      "source": [
        "raw_datasets"
      ],
      "metadata": {
        "colab": {
          "base_uri": "https://localhost:8080/"
        },
        "id": "x1XZNfopn0ah",
        "outputId": "1cc7f109-c92f-4a20-e65b-558d095bdd02",
        "execution": {
          "iopub.status.busy": "2024-03-13T06:49:32.755611Z",
          "iopub.execute_input": "2024-03-13T06:49:32.755965Z",
          "iopub.status.idle": "2024-03-13T06:49:32.762327Z",
          "shell.execute_reply.started": "2024-03-13T06:49:32.755933Z",
          "shell.execute_reply": "2024-03-13T06:49:32.761410Z"
        },
        "trusted": true
      },
      "execution_count": null,
      "outputs": [
        {
          "execution_count": 7,
          "output_type": "execute_result",
          "data": {
            "text/plain": "DatasetDict({\n    train: Dataset({\n        features: ['tokens', 'ner_tags'],\n        num_rows: 47285\n    })\n    test: Dataset({\n        features: ['tokens', 'ner_tags'],\n        num_rows: 1076\n    })\n    validation: Dataset({\n        features: ['tokens', 'ner_tags'],\n        num_rows: 2389\n    })\n})"
          },
          "metadata": {}
        }
      ]
    },
    {
      "cell_type": "code",
      "source": [
        "column_names = raw_datasets[\"train\"].column_names\n",
        "print(column_names)\n",
        "\n",
        "features = raw_datasets[\"train\"].features\n",
        "print(features)"
      ],
      "metadata": {
        "colab": {
          "base_uri": "https://localhost:8080/"
        },
        "id": "h9XrVhgresd9",
        "outputId": "fa7bc7a0-bbe2-419a-a5e4-2a889f7c90a9",
        "execution": {
          "iopub.status.busy": "2024-03-13T06:49:32.763633Z",
          "iopub.execute_input": "2024-03-13T06:49:32.763972Z",
          "iopub.status.idle": "2024-03-13T06:49:32.772924Z",
          "shell.execute_reply.started": "2024-03-13T06:49:32.763941Z",
          "shell.execute_reply": "2024-03-13T06:49:32.772117Z"
        },
        "trusted": true
      },
      "execution_count": null,
      "outputs": [
        {
          "name": "stdout",
          "text": "['tokens', 'ner_tags']\n{'tokens': Sequence(feature=Value(dtype='string', id=None), length=-1, id=None), 'ner_tags': Sequence(feature=ClassLabel(num_classes=7, names=['O', 'B-PER', 'I-PER', 'B-ORG', 'I-ORG', 'B-LOC', 'I-LOC'], id=None), length=-1, id=None)}\n",
          "output_type": "stream"
        }
      ]
    },
    {
      "cell_type": "code",
      "source": [
        "text_column_name = \"tokens\"\n",
        "label_column_name = \"ner_tags\""
      ],
      "metadata": {
        "id": "k381clOvfF_Y",
        "execution": {
          "iopub.status.busy": "2024-03-13T06:49:32.774257Z",
          "iopub.execute_input": "2024-03-13T06:49:32.774596Z",
          "iopub.status.idle": "2024-03-13T06:49:32.782504Z",
          "shell.execute_reply.started": "2024-03-13T06:49:32.774566Z",
          "shell.execute_reply": "2024-03-13T06:49:32.781780Z"
        },
        "trusted": true
      },
      "execution_count": null,
      "outputs": []
    },
    {
      "cell_type": "code",
      "source": [
        "# If the labels are of type ClassLabel, they are already integers and we have the map stored somewhere.\n",
        "\n",
        "label_list = features[label_column_name].feature.names\n",
        "print(label_list)\n",
        "\n",
        "label_to_id = {label_list[i]: features[label_column_name].feature.str2int( label_list[i] ) for i in range(len(label_list))}\n",
        "\n",
        "print(label_to_id)\n",
        "\n",
        "num_labels = len(label_list)\n"
      ],
      "metadata": {
        "colab": {
          "base_uri": "https://localhost:8080/"
        },
        "id": "mhCcY9GofM0b",
        "outputId": "d7507dd4-6ce4-4739-b795-400031b92d89",
        "execution": {
          "iopub.status.busy": "2024-03-13T06:49:32.783673Z",
          "iopub.execute_input": "2024-03-13T06:49:32.783961Z",
          "iopub.status.idle": "2024-03-13T06:49:32.794493Z",
          "shell.execute_reply.started": "2024-03-13T06:49:32.783937Z",
          "shell.execute_reply": "2024-03-13T06:49:32.793659Z"
        },
        "trusted": true
      },
      "execution_count": null,
      "outputs": [
        {
          "name": "stdout",
          "text": "['O', 'B-PER', 'I-PER', 'B-ORG', 'I-ORG', 'B-LOC', 'I-LOC']\n{'O': 0, 'B-PER': 1, 'I-PER': 2, 'B-ORG': 3, 'I-ORG': 4, 'B-LOC': 5, 'I-LOC': 6}\n",
          "output_type": "stream"
        }
      ]
    },
    {
      "cell_type": "code",
      "source": [
        "raw_datasets['test']"
      ],
      "metadata": {
        "colab": {
          "base_uri": "https://localhost:8080/"
        },
        "id": "BiL3VJR5ksvd",
        "outputId": "01449e77-98fa-4e92-ed2d-83d2e22b5285",
        "execution": {
          "iopub.status.busy": "2024-03-13T06:49:32.798791Z",
          "iopub.execute_input": "2024-03-13T06:49:32.799487Z",
          "iopub.status.idle": "2024-03-13T06:49:32.806994Z",
          "shell.execute_reply.started": "2024-03-13T06:49:32.799437Z",
          "shell.execute_reply": "2024-03-13T06:49:32.805833Z"
        },
        "trusted": true
      },
      "execution_count": null,
      "outputs": [
        {
          "execution_count": 11,
          "output_type": "execute_result",
          "data": {
            "text/plain": "Dataset({\n    features: ['tokens', 'ner_tags'],\n    num_rows: 1076\n})"
          },
          "metadata": {}
        }
      ]
    },
    {
      "cell_type": "markdown",
      "source": [
        "# **Question 2**"
      ],
      "metadata": {
        "id": "z_aHs3I2ikvf"
      }
    },
    {
      "cell_type": "markdown",
      "source": [
        "## **2.1) INDIC-BERT**"
      ],
      "metadata": {
        "id": "v4GCN-4wi2hK"
      }
    },
    {
      "cell_type": "code",
      "source": [
        "# Import all the necessary classes and initialize the tokenizer and model.\n",
        "from transformers import AutoModelForTokenClassification, AutoConfig, AutoTokenizer, TrainingArguments, Trainer, DataCollatorForTokenClassification\n",
        "import numpy as np\n",
        "import torch\n",
        "from sklearn.metrics import precision_recall_fscore_support\n",
        "\n",
        "config = AutoConfig.from_pretrained('ai4bharat/indic-bert', num_labels=num_labels, finetuning_task='ner')\n",
        "bert_tokenizer = AutoTokenizer.from_pretrained(\"ai4bharat/indic-bert\")\n",
        "bert_model = AutoModelForTokenClassification.from_pretrained('ai4bharat/indic-bert', num_labels=num_labels )"
      ],
      "metadata": {
        "colab": {
          "base_uri": "https://localhost:8080/",
          "referenced_widgets": [
            "4b2b5244ae2d4c6882cb9c2d282f79b4",
            "9f58ce2f2d3845329f2611b551cc654e",
            "ddf1dfbaf5054454ac62378fa97fb83c"
          ]
        },
        "id": "ITFCEgH5jBr7",
        "outputId": "baf57835-3cab-4aad-eed9-d9a8989bdfce",
        "execution": {
          "iopub.status.busy": "2024-03-13T06:49:32.808137Z",
          "iopub.execute_input": "2024-03-13T06:49:32.808414Z",
          "iopub.status.idle": "2024-03-13T06:49:53.558433Z",
          "shell.execute_reply.started": "2024-03-13T06:49:32.808392Z",
          "shell.execute_reply": "2024-03-13T06:49:53.557584Z"
        },
        "trusted": true
      },
      "execution_count": null,
      "outputs": [
        {
          "name": "stderr",
          "text": "2024-03-13 06:49:40.555419: E external/local_xla/xla/stream_executor/cuda/cuda_dnn.cc:9261] Unable to register cuDNN factory: Attempting to register factory for plugin cuDNN when one has already been registered\n2024-03-13 06:49:40.555532: E external/local_xla/xla/stream_executor/cuda/cuda_fft.cc:607] Unable to register cuFFT factory: Attempting to register factory for plugin cuFFT when one has already been registered\n2024-03-13 06:49:40.696071: E external/local_xla/xla/stream_executor/cuda/cuda_blas.cc:1515] Unable to register cuBLAS factory: Attempting to register factory for plugin cuBLAS when one has already been registered\n",
          "output_type": "stream"
        },
        {
          "output_type": "display_data",
          "data": {
            "text/plain": "config.json:   0%|          | 0.00/507 [00:00<?, ?B/s]",
            "application/vnd.jupyter.widget-view+json": {
              "version_major": 2,
              "version_minor": 0,
              "model_id": "4b2b5244ae2d4c6882cb9c2d282f79b4"
            }
          },
          "metadata": {}
        },
        {
          "output_type": "display_data",
          "data": {
            "text/plain": "spiece.model:   0%|          | 0.00/5.65M [00:00<?, ?B/s]",
            "application/vnd.jupyter.widget-view+json": {
              "version_major": 2,
              "version_minor": 0,
              "model_id": "9f58ce2f2d3845329f2611b551cc654e"
            }
          },
          "metadata": {}
        },
        {
          "output_type": "display_data",
          "data": {
            "text/plain": "pytorch_model.bin:   0%|          | 0.00/135M [00:00<?, ?B/s]",
            "application/vnd.jupyter.widget-view+json": {
              "version_major": 2,
              "version_minor": 0,
              "model_id": "ddf1dfbaf5054454ac62378fa97fb83c"
            }
          },
          "metadata": {}
        },
        {
          "name": "stderr",
          "text": "/opt/conda/lib/python3.10/site-packages/torch/_utils.py:831: UserWarning: TypedStorage is deprecated. It will be removed in the future and UntypedStorage will be the only storage class. This should only matter to you if you are using storages directly.  To access UntypedStorage directly, use tensor.untyped_storage() instead of tensor.storage()\n  return self.fget.__get__(instance, owner)()\nSome weights of AlbertForTokenClassification were not initialized from the model checkpoint at ai4bharat/indic-bert and are newly initialized: ['classifier.bias', 'classifier.weight']\nYou should probably TRAIN this model on a down-stream task to be able to use it for predictions and inference.\n",
          "output_type": "stream"
        }
      ]
    },
    {
      "cell_type": "code",
      "source": [
        "# bert_model=bert_model.to(\"cuda\")"
      ],
      "metadata": {
        "id": "H1zz7na6jBr8",
        "execution": {
          "iopub.status.busy": "2024-03-13T06:49:53.559722Z",
          "iopub.execute_input": "2024-03-13T06:49:53.560299Z",
          "iopub.status.idle": "2024-03-13T06:49:53.564564Z",
          "shell.execute_reply.started": "2024-03-13T06:49:53.560272Z",
          "shell.execute_reply": "2024-03-13T06:49:53.563518Z"
        },
        "trusted": true
      },
      "execution_count": null,
      "outputs": []
    },
    {
      "cell_type": "code",
      "source": [
        "data_collator = DataCollatorForTokenClassification(bert_tokenizer)"
      ],
      "metadata": {
        "id": "I7yUxSH8jBr8",
        "execution": {
          "iopub.status.busy": "2024-03-13T06:49:53.565625Z",
          "iopub.execute_input": "2024-03-13T06:49:53.565927Z",
          "iopub.status.idle": "2024-03-13T06:49:53.575466Z",
          "shell.execute_reply.started": "2024-03-13T06:49:53.565903Z",
          "shell.execute_reply": "2024-03-13T06:49:53.574506Z"
        },
        "trusted": true
      },
      "execution_count": null,
      "outputs": []
    },
    {
      "cell_type": "code",
      "source": [
        "# Tokenize all texts and align the labels with them.\n",
        "padding = \"max_length\"\n",
        "text_column_name = \"tokens\"\n",
        "label_column_name = \"ner_tags\"\n",
        "def tokenize_and_align_labels(examples):\n",
        "    tokenized_inputs = bert_tokenizer(\n",
        "        examples[text_column_name],\n",
        "        padding=padding,\n",
        "        truncation=True,\n",
        "        max_length=512,\n",
        "        # We use this argument because the texts in our dataset are lists of words (with a label for each word).\n",
        "        is_split_into_words=True,\n",
        "    )\n",
        "    labels = []\n",
        "    for i, label in enumerate(examples[label_column_name]):\n",
        "        # print('=====')\n",
        "        # print('{} {}'.format(i,label)) #ak\n",
        "        word_ids = tokenized_inputs.word_ids(batch_index=i)\n",
        "\n",
        "        previous_word_idx = None\n",
        "        label_ids = []\n",
        "        for word_idx in word_ids:\n",
        "            # Special tokens have a word id that is None. We set the label to -100 so they are automatically\n",
        "            # ignored in the loss function.\n",
        "            if word_idx is None:\n",
        "                label_ids.append(-100)\n",
        "            # We set the label for the first token of each word.\n",
        "            elif word_idx != previous_word_idx:\n",
        "                label_ids.append(label[word_idx])\n",
        "            # For the other tokens in a word, we set the label to either the current label or -100, depending on\n",
        "            # the label_all_tokens flag.\n",
        "            else:\n",
        "                label_ids.append(-100)\n",
        "            previous_word_idx = word_idx\n",
        "\n",
        "        labels.append(label_ids)\n",
        "    tokenized_inputs[\"labels\"] = labels\n",
        "    return tokenized_inputs"
      ],
      "metadata": {
        "id": "Bfoj1pvbjBr8",
        "execution": {
          "iopub.status.busy": "2024-03-13T06:49:53.576671Z",
          "iopub.execute_input": "2024-03-13T06:49:53.576956Z",
          "iopub.status.idle": "2024-03-13T06:49:53.587606Z",
          "shell.execute_reply.started": "2024-03-13T06:49:53.576932Z",
          "shell.execute_reply": "2024-03-13T06:49:53.586744Z"
        },
        "trusted": true
      },
      "execution_count": null,
      "outputs": []
    },
    {
      "cell_type": "code",
      "source": [
        "# Metrics\n",
        "metric = load_metric(\"seqeval\")\n",
        "\n",
        "def compute_metrics(p):\n",
        "    predictions, labels = p\n",
        "    predictions = np.argmax(predictions, axis=2)\n",
        "\n",
        "    # Remove ignored index (special tokens)\n",
        "    true_predictions = [\n",
        "        [label_list[p] for (p, l) in zip(prediction, label) if l != -100]\n",
        "        for prediction, label in zip(predictions, labels)\n",
        "    ]\n",
        "    true_labels = [\n",
        "        [label_list[l] for (p, l) in zip(prediction, label) if l != -100]\n",
        "        for prediction, label in zip(predictions, labels)\n",
        "    ]\n",
        "\n",
        "    results = metric.compute(predictions=true_predictions, references=true_labels)\n",
        "    print(results)\n",
        "    # Unpack nested dictionaries\n",
        "    final_results = {}\n",
        "    for key, value in results.items():\n",
        "        if isinstance(value, dict):\n",
        "            for n, v in value.items():\n",
        "                final_results[f\"{key}_{n}\"] = v\n",
        "        else:\n",
        "            final_results[key] = value\n",
        "    return final_results"
      ],
      "metadata": {
        "colab": {
          "base_uri": "https://localhost:8080/",
          "referenced_widgets": [
            "5a6faa715a6940d789412f9b4979ffa7"
          ]
        },
        "id": "U4LY9445jBr8",
        "outputId": "9588c3c4-71fe-4365-8244-7a02ff4ea321",
        "execution": {
          "iopub.status.busy": "2024-03-13T06:49:53.588773Z",
          "iopub.execute_input": "2024-03-13T06:49:53.589151Z",
          "iopub.status.idle": "2024-03-13T06:49:53.908436Z",
          "shell.execute_reply.started": "2024-03-13T06:49:53.589115Z",
          "shell.execute_reply": "2024-03-13T06:49:53.907483Z"
        },
        "trusted": true
      },
      "execution_count": null,
      "outputs": [
        {
          "output_type": "display_data",
          "data": {
            "text/plain": "Downloading builder script:   0%|          | 0.00/2.47k [00:00<?, ?B/s]",
            "application/vnd.jupyter.widget-view+json": {
              "version_major": 2,
              "version_minor": 0,
              "model_id": "5a6faa715a6940d789412f9b4979ffa7"
            }
          },
          "metadata": {}
        }
      ]
    },
    {
      "cell_type": "code",
      "source": [
        "# import torch\n",
        "# torch.cuda.is_available()\n"
      ],
      "metadata": {
        "id": "IXNME9zQjBr9",
        "execution": {
          "iopub.status.busy": "2024-03-13T06:49:53.909714Z",
          "iopub.execute_input": "2024-03-13T06:49:53.909967Z",
          "iopub.status.idle": "2024-03-13T06:49:53.913822Z",
          "shell.execute_reply.started": "2024-03-13T06:49:53.909946Z",
          "shell.execute_reply": "2024-03-13T06:49:53.912999Z"
        },
        "trusted": true
      },
      "execution_count": null,
      "outputs": []
    },
    {
      "cell_type": "code",
      "source": [
        "# Run the next cell if you want to use a GPU. Make sure that the Colab runtime is set accordingly\n",
        "\n",
        "# model=model.to(\"cuda\")"
      ],
      "metadata": {
        "id": "mwxviwh3jBr9",
        "execution": {
          "iopub.status.busy": "2024-03-13T06:49:53.914829Z",
          "iopub.execute_input": "2024-03-13T06:49:53.915089Z",
          "iopub.status.idle": "2024-03-13T06:49:53.925156Z",
          "shell.execute_reply.started": "2024-03-13T06:49:53.915060Z",
          "shell.execute_reply": "2024-03-13T06:49:53.924287Z"
        },
        "trusted": true
      },
      "execution_count": null,
      "outputs": []
    },
    {
      "cell_type": "code",
      "source": [
        "train_dataset = raw_datasets[\"train\"]\n",
        "train_dataset = train_dataset.map(\n",
        "    tokenize_and_align_labels,\n",
        "    batched=True,\n",
        "    num_proc=4,\n",
        "    load_from_cache_file=True,\n",
        "    desc=\"Running tokenizer on train dataset\",\n",
        ")"
      ],
      "metadata": {
        "colab": {
          "base_uri": "https://localhost:8080/",
          "height": 66,
          "referenced_widgets": [
            "6707389e9725490492274b4e6de56a6e",
            "e658035544ae4c91a2cb86f7a4f657cf",
            "98a729f280e349508ef3f8838f3aa50e",
            "c1b02510fd0c400f92baf47f4cd21198",
            "8a921f6ce8f3441392996fb50d000539",
            "195747817c194e578e3616c3b6274c55",
            "1caf8285870e402b9f81840e1b82b064",
            "84f1958a047f490c9da94364a26339d6",
            "5f5cc48989484d0ab192061662e8b717",
            "f04aaceeb59e4d1ca36a7e73478940dd",
            "536b8cc0274c4c1a963d7e05712c0d9b",
            "19661d6dd78c44178507293b079d4116",
            "28df8d4d3d174d40b6c3787150130489",
            "1f4f8daa94974120b409285705be2fcd",
            "97cdd51d5c4145f68cbbc6ec7812febc"
          ]
        },
        "id": "9wwDpzcCjBr9",
        "outputId": "a2246d1c-3e49-42d3-8d87-2008d98e65ba",
        "execution": {
          "iopub.status.busy": "2024-03-13T06:49:53.926203Z",
          "iopub.execute_input": "2024-03-13T06:49:53.926480Z",
          "iopub.status.idle": "2024-03-13T06:50:08.511838Z",
          "shell.execute_reply.started": "2024-03-13T06:49:53.926435Z",
          "shell.execute_reply": "2024-03-13T06:50:08.510764Z"
        },
        "trusted": true
      },
      "execution_count": null,
      "outputs": [
        {
          "name": "stdout",
          "text": "      ",
          "output_type": "stream"
        },
        {
          "output_type": "display_data",
          "data": {
            "text/plain": "Running tokenizer on train dataset #0:   0%|          | 0/12 [00:00<?, ?ba/s]",
            "application/vnd.jupyter.widget-view+json": {
              "version_major": 2,
              "version_minor": 0,
              "model_id": "19661d6dd78c44178507293b079d4116"
            }
          },
          "metadata": {}
        },
        {
          "name": "stdout",
          "text": "  ",
          "output_type": "stream"
        },
        {
          "output_type": "display_data",
          "data": {
            "text/plain": "Running tokenizer on train dataset #1:   0%|          | 0/12 [00:00<?, ?ba/s]",
            "application/vnd.jupyter.widget-view+json": {
              "version_major": 2,
              "version_minor": 0,
              "model_id": "28df8d4d3d174d40b6c3787150130489"
            }
          },
          "metadata": {}
        },
        {
          "output_type": "display_data",
          "data": {
            "text/plain": "Running tokenizer on train dataset #2:   0%|          | 0/12 [00:00<?, ?ba/s]",
            "application/vnd.jupyter.widget-view+json": {
              "version_major": 2,
              "version_minor": 0,
              "model_id": "1f4f8daa94974120b409285705be2fcd"
            }
          },
          "metadata": {}
        },
        {
          "output_type": "display_data",
          "data": {
            "text/plain": "Running tokenizer on train dataset #3:   0%|          | 0/12 [00:00<?, ?ba/s]",
            "application/vnd.jupyter.widget-view+json": {
              "version_major": 2,
              "version_minor": 0,
              "model_id": "97cdd51d5c4145f68cbbc6ec7812febc"
            }
          },
          "metadata": {}
        }
      ]
    },
    {
      "cell_type": "code",
      "source": [
        "raw_datasets[\"train\"]"
      ],
      "metadata": {
        "colab": {
          "base_uri": "https://localhost:8080/"
        },
        "id": "iu8mT8cOylJo",
        "outputId": "dce44415-6014-4ec3-a0d7-41e1d980547b",
        "execution": {
          "iopub.status.busy": "2024-03-13T06:50:08.513518Z",
          "iopub.execute_input": "2024-03-13T06:50:08.513908Z",
          "iopub.status.idle": "2024-03-13T06:50:08.521164Z",
          "shell.execute_reply.started": "2024-03-13T06:50:08.513868Z",
          "shell.execute_reply": "2024-03-13T06:50:08.520092Z"
        },
        "trusted": true
      },
      "execution_count": null,
      "outputs": [
        {
          "execution_count": 20,
          "output_type": "execute_result",
          "data": {
            "text/plain": "Dataset({\n    features: ['tokens', 'ner_tags'],\n    num_rows: 47285\n})"
          },
          "metadata": {}
        }
      ]
    },
    {
      "cell_type": "code",
      "source": [
        "train_dataset[text_column_name]"
      ],
      "metadata": {
        "id": "gyQtnQiNjBr9",
        "colab": {
          "base_uri": "https://localhost:8080/"
        },
        "outputId": "c2892004-e397-4b31-cdec-4fb57df00fb9",
        "execution": {
          "iopub.status.busy": "2024-03-13T06:50:08.522527Z",
          "iopub.execute_input": "2024-03-13T06:50:08.522885Z",
          "iopub.status.idle": "2024-03-13T06:50:11.333627Z",
          "shell.execute_reply.started": "2024-03-13T06:50:08.522852Z",
          "shell.execute_reply": "2024-03-13T06:50:11.332608Z"
        },
        "trusted": true
      },
      "execution_count": null,
      "outputs": [
        {
          "execution_count": 21,
          "output_type": "execute_result",
          "data": {
            "text/plain": "[['લક્ઝરી', 'સેન્ટ', 'એન્ડ્રુ', 'માતાનો', 'ચર્ચ'],\n ['આ', 'દિવસે', 'ભગવાન', 'ગણેશની', 'પૂજાનું', 'વધારે', 'મહત્ત્વ', 'છે', '.'],\n ['આદુ', 'પાવડર', '-', '1', 'ટીસ્પૂન'],\n ['તે',\n  'સમયે',\n  'સુભાષ',\n  'કાલાબુરાગી',\n  'શહેરમાં',\n  'MR',\n  'મેડિકલ',\n  'કોલેજના',\n  'ત્રીજા',\n  'વર્ષનો',\n  'વિદ્યાર્થી',\n  'હતો',\n  '.'],\n ['ઓરેન્જ', 'ઓરા'],\n ['આ',\n  'પહેલાં',\n  'તેઓ',\n  'બેંગલુરુ',\n  'રેકોર્ડિંગ',\n  'કંપનીમાં',\n  'ટ્રાન્સલેટર',\n  'તરીકે',\n  'કાર્ય',\n  'કરતી',\n  'હતી',\n  '.'],\n ['5',\n  'રાજ્યોની',\n  'ચૂંટણીઃ',\n  'તેલંગાણા',\n  'અને',\n  'મઝોરમમાં',\n  'બીજેપીને',\n  'કોઈએ',\n  'તક',\n  'નથી',\n  'આપી',\n  '.'],\n ['આસ્તિકવાદની', 'મર્યાદાઓ'],\n ['કાર્તિક', 'આર્યન', 'ઘણો', 'ફની', 'છે', ':', 'અનન્યા', 'પાન્ડે'],\n ['અમેરિકના',\n  'નાણા',\n  'મંત્રાલયે',\n  'ભારતીય',\n  'મુદ્રાને',\n  'પોતાની',\n  'મોનિટરીંગ',\n  'લીસ્ટમાંથી',\n  'હટાવી',\n  'દીધી',\n  'છે',\n  '.'],\n ['ટીમ',\n  'ઇન્ડિયાના',\n  'ફાસ્ટ',\n  'બોલર',\n  'મોહંમદ',\n  'શમીની',\n  'ભૂતપૂર્વ',\n  'પત્ની',\n  'હસીન',\n  'જહાં',\n  'ફરી',\n  'એક',\n  'વાર',\n  'સમાચારોમાં',\n  'ઝળકી',\n  'છે',\n  '.'],\n ['જુઓ', 'એના', 'હોટ', 'ફોટોઝ', '.', '.', '.'],\n ['ભારત',\n  'એરક્રાફ્ટ',\n  'મેન્ટેનન્સ',\n  ',',\n  'રિપેરિંગ',\n  'અને',\n  'ઓવરહૉલ',\n  '(',\n  'MRO',\n  ')',\n  'માટે',\n  'વૈશ્વિક',\n  'હબ',\n  'બનશે'],\n ['ભારતની', 'ભૂમિકા'],\n ['માનચેસ્ટરમાં',\n  'રહેલી',\n  'ઓલ્ડ',\n  'ટ્રાફોર્ડ',\n  'સ્ટેડિયમમાં',\n  'આ',\n  'મેચ',\n  'રમાશે',\n  '.'],\n ['અમેરિકાના',\n  'રાષ્ટ્રપ્રમુખ',\n  'ડોનાલ્ડ',\n  'ટ્રમ્પ',\n  'પણ',\n  'હાજર',\n  'રહેશે',\n  '.'],\n ['~',\n  '/',\n  '.',\n  'Xauthority',\n  'ફાઈલ',\n  'ખરાબ',\n  'રીતે',\n  'રૂપરેખાંકિત',\n  'થયેલ',\n  'છે',\n  'અથવા',\n  'ગુમ',\n  'થયેલ',\n  'છે',\n  '.'],\n ['અનિલ',\n  'કપૂરનો',\n  'વીડિયો',\n  \"'\",\n  'ઇન્સ્ટાગ્રામ',\n  'એકાઉન્ટ',\n  'પર',\n  'શેર',\n  'કરવામાં',\n  'આવ્યો',\n  'છે',\n  '.'],\n ['કોંગ્રેસના',\n  'નેતા',\n  'રાહુલ',\n  'ગાંધીએ',\n  'ભાજપ',\n  'પર',\n  'જોરદાર',\n  'પ્રહાર',\n  'કર્યા',\n  'છે',\n  '.'],\n ['સ્ક્રિનસેવર', 'માટે', 'પ્લાઝમા'],\n ['પ્રધાનમંત્રી',\n  'શ્રી',\n  'નરેન્દ્ર',\n  'મોદીએ',\n  'આજે',\n  'મ્યાનમારમાં',\n  'બાગાનમાં',\n  'આનંદ',\n  'ટેમ્પલની',\n  'મુલાકાત',\n  'લીધી',\n  'હતી',\n  '.'],\n ['તે',\n  'પછી',\n  'જનસંઘનો',\n  'સ્થાપક',\n  'સભ્ય',\n  'રહ્યો',\n  'હતો',\n  'અને',\n  'તે',\n  'પછી',\n  'ભાજપનો',\n  'સ્થાપક',\n  'સભ્યોમાં',\n  'પણ',\n  'સામેલ',\n  'હતો',\n  '.'],\n ['ભારતીય',\n  'વાયુસેનાં',\n  'પાસે',\n  'મિગ',\n  '-',\n  '29',\n  'પહેલાથી',\n  'જ',\n  'સામેલ',\n  'છે',\n  '.'],\n ['જ્વાળામુખીની', 'રાખ'],\n ['તે', 'બાદ', 'કેરડાનું', 'પાણી', 'નીકાળી', 'લો', '.'],\n ['આકાશ',\n  'અને',\n  'શ્લોકા',\n  'ધીરુંભાઈ',\n  'અંબાણી',\n  'ઇન્ટરનેશનલ',\n  'સ્કૂલમાં',\n  'સાથે',\n  'ભણ્યા',\n  'હતા',\n  '.'],\n ['લંડન', 'પાછા'],\n ['આ',\n  'પૂર્વે',\n  'મહારાષ્ટ્ર',\n  'કો',\n  '-',\n  'ઓપરેટીવ',\n  'સોસાયટી',\n  'એકટ',\n  'હેઠળ',\n  'એક',\n  'અર્ધ',\n  'ન્યાયિક',\n  'તપાસ',\n  'સમિતિએ',\n  'આ',\n  'કેસમાં',\n  'પવાર',\n  'સહિત',\n  'અનેક',\n  'લોકોને',\n  'જવાબદાર',\n  'ઠેરવ્યા',\n  'હતા',\n  '.'],\n ['આતંકવાદી',\n  'સંગઠન',\n  'જૈશ',\n  '-',\n  'એ',\n  '-',\n  'મોહમ્મદનું',\n  'વડું',\n  'મથક',\n  'પાકિસ્તાનના',\n  'પંજાબના',\n  'બહાવલપુરમાં',\n  'આવેલું',\n  'છે',\n  '.'],\n ['પ્રધાનમંત્રીનું',\n  'કાર્યાલય',\n  'પ્રધાનમંત્રીએ',\n  'કાદરી',\n  'ગોપાલનાથના',\n  'નિધન',\n  'પર',\n  'શોક',\n  'વ્યક્ત',\n  'કર્યો',\n  'પ્રધાનમંત્રી',\n  'શ્રી',\n  'નરેન્દ્ર',\n  'મોદીએ',\n  'આજે',\n  'કર્ણાટક',\n  'સંગીતના',\n  'વરિષ્ઠ',\n  'સંગીતકાર',\n  'શ્રી',\n  'કાદરી',\n  'ગોપાલનાથના',\n  'નિધન',\n  'પર',\n  'શોક',\n  'વ્યક્ત',\n  'કર્યો',\n  'હતો',\n  '.'],\n ['Eye', 'of', 'GNOME', 'માટે', 'Python', 'કન્સોલ'],\n ['તે', 'ધાર્મિક', 'ઝંડા', 'હતા', '.'],\n ['મહતમ',\n  'તાપમાનની',\n  'વાત',\n  'કરીએ',\n  'તો',\n  'અમદાવાદ',\n  'અને',\n  'ગાંધીનગરમાં',\n  '44',\n  'ડિગ્રી',\n  'તાપમાન',\n  'જોવા',\n  'મળ્યું',\n  'હતું',\n  '.'],\n ['આ',\n  'અવસર',\n  'પર',\n  'પીએમ',\n  'મોદી',\n  'વિદ્વાનો',\n  ',',\n  'ચિકિત્સકો',\n  'અને',\n  'આયુષ',\n  'પ્રણાલીથી',\n  'ઇલાજ',\n  'કરનારાઓના',\n  'સન્માનમાં',\n  '12',\n  'સ્મારક',\n  'પોસ્ટ',\n  'ટિકિટ',\n  'પણ',\n  'ઇશ્યુ',\n  'કરશે',\n  '.'],\n ['એકતા',\n  'કપૂરના',\n  'સુપરહિટ',\n  'શો',\n  \"'\",\n  'કસૌટી',\n  'ઝિંદગી',\n  'કી',\n  '2',\n  \"'\",\n  'માં',\n  'મિસ્ટર',\n  'બજાજનો',\n  'રોલ',\n  'કરશો',\n  'ટીવીનો',\n  'સુપર',\n  'હોટ',\n  'એક્ટર',\n  'કરણ',\n  'વાહી',\n  '.'],\n ['છછુંદર', 'ઉંદર', 'ખાય', '?'],\n ['15માં',\n  'MIFFમાં',\n  'ઘણી',\n  'પ્રસિદ્ધ',\n  'ડોક્યુમેન્ટરી',\n  'સબમિટ',\n  'થઈ',\n  'હતી',\n  'તથા',\n  'ભારત',\n  'અને',\n  'દુનિયાનાં',\n  'વિવિધ',\n  'દેશોમાંથી',\n  'શોર્ટ',\n  'ફિલ્મ',\n  'નિર્માતાઓએ',\n  'એમની',\n  'ફિલ્મો',\n  'મોકલી',\n  'હતી',\n  '.'],\n ['સુપરસ્ટાર',\n  'WWE',\n  'દિવા',\n  'ચાર્લોટ',\n  'ફ્લેર',\n  'બોલિવૂડ',\n  'એક્ટર',\n  'વરૂણ',\n  'ધવનને',\n  'તેની',\n  'હાલની',\n  'ભારત',\n  'યાત્રા',\n  'દરમિયાન',\n  'મળી',\n  'હતી',\n  '.'],\n ['ગુજરાત', 'ફોરચ્યૂન', 'જાયન્ટસ'],\n ['રાજસ્થાન', 'પત્રીકાના'],\n ['વધુ', 'મૃત્યુ'],\n ['બિગ',\n  'બૉસ',\n  '13માં',\n  'સિદ્ધાર્થ',\n  'શુક્લા',\n  'અને',\n  'રશ્મિ',\n  'દેસાઈ',\n  'વચ્ચે',\n  'ફાઈટ',\n  'જોવા',\n  'મળશે',\n  '.'],\n ['ભારતીય',\n  'ક્રિકેટ',\n  'ટીમના',\n  'પૂર્વ',\n  'સુકાની',\n  'મહેન્દ્રસિંહ',\n  'ધોની',\n  'અને',\n  'ટેનિસના',\n  'દિગ્ગજ',\n  'ખેલાડી',\n  'લિએન્ડર',\n  'પેસ',\n  'ખેલના',\n  'મેદાન',\n  'પર',\n  'એકસાથે',\n  'જોવા',\n  'મળ્યાં',\n  'હતા',\n  '.'],\n ['જથ્થાબંધ', 'અને', 'છૂટક', 'વેપાર'],\n ['શિલ્પીનું', 'ઘટનાસ્થળે', 'મોત', 'નીપજ્યું', 'હતું', '.'],\n ['આ',\n  'પુસ્તક',\n  'શ્રી',\n  'એન',\n  'ચંદ્રશેખરન',\n  'અને',\n  'શ્રીમતી',\n  'રુપા',\n  'પુરુષોત્તમે',\n  'લખ્યું',\n  'છે',\n  '.'],\n ['પ્રિયા',\n  'ફિલ્મમાં',\n  'સુપરસ્ટાર',\n  'શ્રીદેવીનું',\n  'કિરદાર',\n  'નિભાવી',\n  'રહી',\n  'છે',\n  '.'],\n ['પાકિસ્તાનના', 'પ્રમુખ', 'સમાચાર', 'પત્ર', '.'],\n ['સુભાષચંદ્ર',\n  'બોઝના',\n  'કોંગ્રેસમાંથી',\n  'રાજીનામું',\n  'આપ્યા',\n  'બાદ',\n  'આ',\n  'દંપતી',\n  'તેમની',\n  'સાથે',\n  'ફોરવર્ડ',\n  'બ્લૉકમાં',\n  'જોડાયા',\n  'હતા',\n  '.'],\n ['મહાનાયક',\n  'અમિતાભ',\n  'બચ્ચને',\n  'હાલમાં',\n  'જ',\n  'તેમનાં',\n  'દિવંગત',\n  'પિતા',\n  'અને',\n  'કવિ',\n  'હરિવંશ',\n  'રાય',\n  'બચ્ચનની',\n  'કવિતાનો',\n  'પાઠ',\n  'કરવા',\n  'બદલ',\n  'આપ',\n  'નેતા',\n  'કુમાર',\n  'વિશ્વાસને',\n  'કાયદાકીય',\n  'નોટીસ',\n  'મોકલી',\n  'દીધી',\n  'હતી',\n  '.'],\n ['આ',\n  'નદી',\n  'પર',\n  'બાંધવામાં',\n  'આવેલ',\n  'મેજા',\n  'બંધ',\n  'ભિલવાડા',\n  'જિલ્લાને',\n  'પીવાના',\n  'પાણીની',\n  'સવલત',\n  'પૂરી',\n  'પાડે',\n  'છે',\n  '.'],\n ['કર્ણાટક',\n  'અને',\n  'તમિલનાડુ',\n  'કાવેરી',\n  'ઘાટી',\n  'સાથે',\n  'સંબંધિત',\n  'બે',\n  'મુખ્ય',\n  'રાજ્યો',\n  'છે',\n  '.'],\n ['મનરેગા',\n  'હેઠળ',\n  'લાભાર્થી',\n  '90',\n  'દિવસનો',\n  'બિનકુશળ',\n  'શ્રમ',\n  'મેળવવા',\n  'માટે',\n  'હકદાર',\n  'છે',\n  '.'],\n ['મુંબઈમાં',\n  'વહેલી',\n  'સવારના',\n  'વરસાદને',\n  'કારણે',\n  'કિંગ્સ',\n  'સર્કલ',\n  'રેલ્વે',\n  'સ્ટેશન',\n  'અને',\n  'ગાંધી',\n  'માર્કેટ',\n  'નજીકના',\n  'વિસ્તારોમાં',\n  'પાણી',\n  'ભરાયા',\n  'હતા',\n  '.'],\n ['હું',\n  'એ',\n  'જ',\n  'બસ',\n  'ડ્રાઇવર',\n  'છું',\n  ',',\n  'જેણે',\n  'ટિકિટ',\n  'વિશે',\n  'વાત',\n  'કરી',\n  'હતી',\n  '.'],\n ['ક્રિસ', 'કાહિલ'],\n ['ફેસબુકે', 'શું', 'કહ્યું', '?'],\n ['ડોલીનું',\n  'વતન',\n  'કેન્યાના',\n  'મોટા',\n  'શહેરોમાં',\n  'ત્રીજા',\n  'સ્થાને',\n  'હતું',\n  '.'],\n ['આ', 'બીમારીમાં', 'મોટેભાગે', 'વૃદ્ધ', 'લોકો', 'સપડાય', 'છે', '.'],\n ['ડીજીપીના',\n  'દાવા',\n  'પર',\n  'કમેલશ',\n  'તિવારીના',\n  'પુત્ર',\n  'સત્યમ',\n  'તિવારીએ',\n  'સવાલ',\n  'ઉઠાવતા',\n  'એનઆઈએ',\n  'પાસે',\n  'તપાસ',\n  'કરાવવાની',\n  'માગ',\n  'કરી',\n  'છે',\n  '.'],\n ['અમેરિકા',\n  'અને',\n  'કૅનેડામાં',\n  'આ',\n  'મોબાઇલ',\n  'ઍપ્લિકેશન',\n  'ચાલે',\n  'છે',\n  '.'],\n ['તેમના',\n  'બાદ',\n  'ભાજપના',\n  'નેતા',\n  'લાલ',\n  'કૃષ્ણ',\n  'અડવાણી',\n  'અને',\n  'કોંગ્રેસ',\n  'અધ્યક્ષા',\n  'સોનિયા',\n  'ગાંધીએ',\n  'શપથ',\n  'લીધા',\n  '.'],\n ['નવી',\n  'દિલ્હી',\n  ':',\n  'વડાપ્રધાન',\n  'મોદીએ',\n  'રાષ્ટ્રીય',\n  'કાર્યકારિણી',\n  'બેઠકને',\n  'સંબોધિત',\n  'કરી',\n  '.'],\n ['અમેરિકા', 'અને', 'ઈરાન', 'વચ્ચે', 'યુદ્ધની', 'સ્થિતિ', 'સર્જાઇ', 'છે', '.'],\n ['કરણ', 'જોહર', 'ફિલ્મના', 'નિર્માતા', 'તરીકે', 'છે', '.'],\n ['નિર્માતા',\n  'સાજિદ',\n  'નડિયાદવાલા',\n  'કિક',\n  'સાથે',\n  'દિગ્દર્શક',\n  'તરીકે',\n  'ડેબ્યુ',\n  'કરી',\n  'રહ્યાં',\n  'છે',\n  '.'],\n ['માધુરી',\n  'ગુપ્તા',\n  'આઈએસઆઈના',\n  'બે',\n  'અધિકારીઓ',\n  'એમ',\n  '.',\n  'રાજા',\n  'રાણા',\n  'અને',\n  'જમશેદના',\n  'સંપર્કમાં',\n  'હતાં',\n  'અને',\n  'કેટલીક',\n  'સંવેદનશીલ',\n  'માહિતી',\n  'ઉપલબ્ધ',\n  'કરાવતાં',\n  'હતાં',\n  '.'],\n ['લોકો', 'ખર્ચમાં', 'કાપ', 'મૂકી', 'રહ્યા', 'છે', '.'],\n ['સીએઃ',\n  'અને',\n  'જો',\n  'તમે',\n  'સ્પેસશીપમાં',\n  'હોત',\n  'તો',\n  'તે',\n  'વસ્તુની',\n  'આસપાસ',\n  'કોઈક',\n  'રીતે',\n  'વમળવું',\n  ',',\n  'તે',\n  'કેટલો',\n  'સમય',\n  'લેશે',\n  'ખરેખર',\n  'તેની',\n  'આસપાસ',\n  'જવું',\n  'છે',\n  '?'],\n ['મુખ્યમંત્રી',\n  'વિજય',\n  'રૂપાણીએ',\n  'રાજપારડીના',\n  'પોલીસ',\n  'જવાનોની',\n  'પ્રશંસા',\n  'કરી',\n  'હતી',\n  '.'],\n ['આ', 'કોંગ્રેસની', 'કામ', 'કરવાની', 'રીત', 'છે', '.'],\n ['ICUમાં',\n  'થોડી',\n  'વાર',\n  'માટે',\n  'નિકટના',\n  'સ્વજનો',\n  'સિવાયો',\n  'કોઈને',\n  'પણ',\n  'જવાની',\n  'મંજૂરી',\n  'નથી',\n  'મળતી',\n  '.'],\n ['ક્રિકેટર',\n  'મોહમ્મદ',\n  'શમી',\n  'વિરુદ્વ',\n  'ધરપકડ',\n  'વોરંટ',\n  'જારી',\n  'કરાયું',\n  'છે',\n  '.'],\n ['બોની', 'કપૂરની', 'બીજી', 'પત્ની', 'છે', 'શ્રીદેવી'],\n ['ફ્રોજન', 'સ્વીટ', 'કોર્ન', '1', 'કપ', 'બાફેલા'],\n ['ભારત', 'પ્રવાસે', 'આવશે', 'ડોનાલ્ડ', 'ટ્રમ્પ'],\n ['આ', 'જૂથ', 'ત્રણ', 'પ્રકારના', 'વિભાજિત', 'કરવામાં', 'આવે', 'છે', '.'],\n ['કુકરદા',\n  'ગામના',\n  'લોકોનો',\n  'મુખ્ય',\n  'વ્યવસાય',\n  'ખેતી',\n  ',',\n  'ખેતમજૂરી',\n  'તેમ',\n  'જ',\n  'પશુપાલન',\n  'છે',\n  '.'],\n ['ત્રીજા', 'દિવસે', 'ચંદ્રાઘંટા', 'માતાજીની', 'પૂજા', 'થાય', 'છે', '.'],\n ['વારાણસી',\n  ',',\n  'હિન્દુ',\n  'ધર્મના',\n  'સૌથી',\n  'પવિત્રતમ',\n  'શહેરોમાંથી',\n  'એક',\n  'છે',\n  '.'],\n ['આ',\n  'પેકેજ',\n  'અંગે',\n  'જાહેરાત',\n  'કરતી',\n  'વખતે',\n  'પ્રધાનમંત્રીએ',\n  'PM',\n  'CARES',\n  'ભંડોળમાં',\n  'ઉદાર',\n  'હાથે',\n  'યોગદાન',\n  'આપનારા',\n  'તમામ',\n  'લોકોનો',\n  'આભાર',\n  'વ્યક્ત',\n  'કર્યો',\n  'હતો',\n  'જેનો',\n  'ઉપયોગ',\n  'કોવિડ',\n  '-',\n  '1',\n  'સામેની',\n  'લડાઇમાં',\n  'કરવામાં',\n  'આવશે',\n  '.',\n  'a',\n  ')',\n  '50,000',\n  'વેન્ટીલેટર',\n  'b',\n  ')',\n  'પરપ્રાંતીય',\n  'શ્રમિકો',\n  'માટે',\n  'રાહતના',\n  'પગલાં',\n  'c',\n  ')',\n  'રસી',\n  'વિકાસાવવી',\n  'કોવિડ',\n  '-',\n  '1',\n  'સામેની',\n  'રસી',\n  'અત્યારે',\n  'સૌથી',\n  'વધુ',\n  'જરૂરિયાત',\n  'છે',\n  'અને',\n  'ભારતીય',\n  'વિદ્વાનો',\n  ',',\n  'સ્ટાર્ટ',\n  '-',\n  'અપ',\n  'તેમજ',\n  'ઉદ્યોગો',\n  'સાથે',\n  'મળીને',\n  'કોવિડ',\n  '-',\n  '1',\n  'રસીના',\n  'ડિઝાઇનર',\n  'અને',\n  'વિકાસકર્તાઓને',\n  'સહકાર',\n  'આપીને',\n  'અદ્યતન',\n  'રસીની',\n  'ડિઝાઇન',\n  'અને',\n  'વિકાસનું',\n  'કાર્ય',\n  'આગળ',\n  'વધારી',\n  'રહ્યા',\n  'હોવાથી',\n  'તેમને',\n  'PM',\n  'CARES',\n  'ભંડોળમાંથી',\n  'રૂપિયા',\n  '100',\n  'કરોડની',\n  'આર્થિક',\n  'સહાય',\n  'કરવામાં',\n  'આવશે',\n  '.'],\n ['બિલ્ડિંગની',\n  'બાજુમાં',\n  'કાર',\n  'ગેરેજ',\n  'માટેનું',\n  'એક',\n  'શેરીનું',\n  'ચિહ્ન',\n  '.'],\n ['ASEAN',\n  'માં',\n  'ઇન્ડોનેશિયા',\n  ',',\n  'મલેશિયા',\n  ',',\n  'ફિલિપાઇન્સ',\n  ',',\n  'સિંગાપોર',\n  ',',\n  'થાઇલેન્ડ',\n  ',',\n  'બ્રુનેઇ',\n  ',',\n  'વિયેટનામ',\n  ',',\n  'લાઓસ',\n  ',',\n  'મ્યાનમાર',\n  'અને',\n  'કંબોડિયા',\n  'શામેલ',\n  'છે',\n  '.'],\n ['આ',\n  'ફિલ્મમાં',\n  'આલિયા',\n  'ભટ્ટની',\n  'સાથે',\n  'રણબીર',\n  'કપૂર',\n  'પણ',\n  'જોવા',\n  'મળશે',\n  '.'],\n ['કોંગી', 'નેતાઓએ', 'પણ', 'સરકાર', 'સામે', 'આક્ષેપો', 'કર્યા'],\n ['અમૃતા', 'અરોરા', 'અને', 'કરિશ્મા', 'કપૂર'],\n ['ત્યાં',\n  'જાપાનના',\n  'નિક્કેઈમાં',\n  'પણ',\n  '3.7',\n  'ટકા',\n  ',',\n  'કોરિયાના',\n  'કોપ્સી',\n  '2.9',\n  'ટકા',\n  'અને',\n  'શંઘાઈના',\n  'કંપોજિટમાં',\n  '2.4',\n  'ટકા',\n  'કડાકો',\n  'થયો',\n  '.'],\n ['માતા', 'અથવા', 'પિતા'],\n ['પ્રધાનમંત્રીએ',\n  'રાજ્યના',\n  'લોકોને',\n  'ખાતરી',\n  'આપી',\n  'હતી',\n  'કે',\n  ',',\n  'આ',\n  'મુશ્કેલીના',\n  'સમયમાં',\n  'રાજ્ય',\n  'સરકાર',\n  'સાથે',\n  'નિકટતાપૂર્વક',\n  'કેન્દ્ર',\n  'સરકાર',\n  'કામ',\n  'કરીને',\n  'તમામ',\n  'અસરગ્રસ્ત',\n  'વિસ્તારોમાં',\n  'પુનઃસ્થાપન',\n  'અને',\n  'ઇન્ફ્રાસ્ટ્રક્ચરના',\n  'પુનઃનિર્માણ',\n  'પર',\n  'શક્ય',\n  'હોય',\n  'તેવી',\n  'તમામ',\n  'મદદ',\n  'પૂરી',\n  'પાડશે'],\n ['સીબીઆઈના',\n  'સ્પેશિયલ',\n  'ડાયરેક્ટર',\n  'રાકેશ',\n  'આસ્થાનાની',\n  'ધરપકડ',\n  'કરવા',\n  'અંગે',\n  'દિલ્હી',\n  'હાઈ',\n  'કોર્ટમાં',\n  'લાંચ',\n  'કેસમાં',\n  'સુનાવણી',\n  'કરવામાં',\n  'આવી',\n  'હતી',\n  '.'],\n ['LGએ',\n  'ડિવાઈસના',\n  'બેક',\n  'પેનલ',\n  'પર',\n  'કસ્ટમર્સને',\n  'પોતાનું',\n  'નામ',\n  'કોતરવાનો',\n  'વિકલ્પ',\n  'પણ',\n  'આપ્યો',\n  'છે',\n  '.'],\n ['દિગ્ગજ',\n  'સ્પિનર',\n  'હરભજન',\n  'સિંહ',\n  'સોશિયલ',\n  'મીડિયા',\n  'પર',\n  'પણ',\n  'ખૂબ',\n  'જ',\n  'એક્ટિવ',\n  'રહે',\n  'છે',\n  '.'],\n ['બિનજરૂરી', 'ડ્રાઈવીંગ', 'ટાળો'],\n ['તમિલનાડુ',\n  'સરકારે',\n  'આ',\n  'ઘટનાની',\n  'તપાસ',\n  'માટે',\n  'એક',\n  'આયોગની',\n  'રચના',\n  'પણ',\n  'કરી',\n  'દીધી',\n  'છે',\n  '.'],\n ['પોલીસ', 'એક', 'આરોપીને', 'પકડી', 'પાડ્યો', 'હતો', '.'],\n ['વાંચોઃ',\n  'PNB',\n  'કૌભાંડના',\n  'આરોપી',\n  'નીરવ',\n  'મોદીની',\n  'લંડનમાંથી',\n  'ધરપકડ'],\n ['ત્યારે',\n  'કરીના',\n  'કપૂર',\n  'ખાન',\n  ',',\n  'કરિશ્મા',\n  'કપૂર',\n  'ખાન',\n  ',',\n  'નીતુ',\n  'કપૂર',\n  ',',\n  'રિદ્ધિમા',\n  'કપૂર',\n  'સહાની',\n  'સહિતના',\n  'કપૂર',\n  'ખાનદાનના',\n  'સભ્યોએ',\n  'સોશિયલ',\n  'મીડિયા',\n  'પર',\n  'પોસ્ટ',\n  'મૂકીને',\n  'તેમને',\n  'યાદ',\n  'કર્યા',\n  'હતા',\n  '.'],\n ['તેમણે',\n  'ભુવનેશ્વરમાં',\n  'નવી',\n  'ઇએસઆઇસી',\n  'હોસ્પિટલનું',\n  'પણ',\n  'ઉદઘાટન',\n  'કર્યું',\n  'હતું',\n  '.'],\n ['IDBI',\n  'બેન્કે',\n  'સેબીને',\n  'આપી',\n  '772',\n  'કરોડ',\n  'રૂપિયા',\n  'કૌભાંડની',\n  'જાણકારી',\n  ',',\n  'શેર',\n  '3.5',\n  'ટકા',\n  'ગગડ્યા'],\n ['ઇરાને',\n  'ઇઝરાયેલને',\n  'આ',\n  'હત્યા',\n  'માટે',\n  'દોષી',\n  'ઠેરવ્યું',\n  'છે',\n  ',',\n  'જે',\n  'અગાઉના',\n  'ઇરાની',\n  'પરમાણુ',\n  'વૈજ્ઞાનિકોની',\n  'હત્યામાં',\n  'પણ',\n  'શંકાસ્પદ',\n  'છે',\n  '.'],\n ['જેમાં', 'ભાજપે', 'ર૮', 'બેઠકો', 'જીતી', '.'],\n ['આ',\n  'દક્ષિણ',\n  'ભારતીય',\n  'વાસ્તુકળાનું',\n  'સર્વશ્રેષ્ઠ',\n  'ઉદાહરણ',\n  'માનવામાં',\n  'આવે',\n  'છે',\n  '.'],\n ['સૂરજ',\n  'બડજાત્યાએ',\n  'ફિલ્મમાં',\n  'સલમાન',\n  'ખાન',\n  'ઉપરાંત',\n  'સોનમ',\n  'કપૂર',\n  ',',\n  'નીલ',\n  'નીતિન',\n  'મુકેશ',\n  ',',\n  'સ્વરા',\n  'ભાસ્કર',\n  ',',\n  'અનુપમ',\n  'ખેર',\n  ',',\n  'દીપક',\n  'ડોબરિયાલ',\n  'અને',\n  'સમીરા',\n  'રાવના',\n  'નામ',\n  'ફિલ્મમાં',\n  'ફાઇનલ',\n  'કરી',\n  'નાખ્યાં',\n  'છે',\n  '.'],\n ['ભવિષ્ય', 'અંગે', 'અનિશ્ચિતતા', 'છે', '.'],\n ['તે',\n  'આ',\n  'ફિલ્મમાં',\n  'સાવિત્રીબાઇ',\n  'માલુસરેની',\n  'ભૂમિકા',\n  'નિભાવી',\n  'રહી',\n  'છે',\n  '.'],\n ['આ', 'પણ', 'લોટ', 'અને', 'રાંધવાના', 'પાવડર', 'ઉમેર્યા', 'છે', '.'],\n ['આ',\n  'મામલે',\n  'ચીફ',\n  'જસ્ટિસ',\n  'રંજન',\n  'ગોગોઇ',\n  'અને',\n  'જસ્ટિર',\n  'એસકે',\n  'કૌલની',\n  'પીઠની',\n  'સામે',\n  'સૂચીબદ્ધ',\n  'કરવામાં',\n  'આવ્યા',\n  'છે',\n  '.'],\n ['ગૃહ',\n  'મંત્રાલય',\n  'ગૃહ',\n  'મંત્રાલયે',\n  'ઝૂમ',\n  'મીટિંગ',\n  'પ્લેટફોર્મનાં',\n  'સુરક્ષિત',\n  'ઉપયોગ',\n  'પર',\n  'સૂચના',\n  'જાહેર',\n  'કરી',\n  'આ',\n  'ડોક્યુમેન્ટ',\n  'ઇન્ડિયન',\n  'કમ્પ્યુટર',\n  'ઇમરજન્સી',\n  'રિસ્પોન્સ',\n  'ટીમ',\n  '(',\n  'સીઇઆરટી',\n  '-',\n  'ઇન',\n  ')',\n  'ના',\n  'અગાઉનાં',\n  'સૂચનો',\n  'વિશે',\n  'જાણકારી',\n  'આપે',\n  'છે',\n  ',',\n  'જેમાં',\n  'જણાવવામાં',\n  'આવ્યું',\n  'છે',\n  'કે',\n  ',',\n  'ઝૂમ',\n  'સુરક્ષિત',\n  'પ્લેટફોર્મ',\n  'નથી',\n  '.'],\n ['તેમણે',\n  'કહ્યું',\n  'હતું',\n  'કે',\n  'રાજ્યપાલ',\n  'કાર્યાલયનો',\n  'ઉપયોગ',\n  'ક્ષય',\n  'રોગ',\n  'પ્રત્યે',\n  'જનજાગૃતિ',\n  'ફેલાવવા',\n  'અને',\n  'ભારતની',\n  '2025',\n  'સુધીમાં',\n  'ક્ષય',\n  'રોગથી',\n  'મુક્ત',\n  'કરાવવા',\n  'જેવા',\n  'ચોક્કસ',\n  'હેતુઓ',\n  'માટે',\n  'પણ',\n  'કરી',\n  'શકાય',\n  'છે',\n  '.'],\n ['મે', 'મારી', 'એક', 'સારી', 'મિત્રને', 'ગુમાવી', 'છે', '.'],\n ['ઈન્દિરા',\n  'નૂયી',\n  'બન્યા',\n  'ICCના',\n  'પહેલા',\n  'સ્વતંત્ર',\n  'મહિલા',\n  'ડાઇરેક્ટર'],\n ['ફિલ્મ',\n  \"'\",\n  'મુબારકા',\n  \"'\",\n  'માં',\n  'પણ',\n  'અનિલ',\n  'કપૂર',\n  'અને',\n  'અર્જૂન',\n  'કપૂર',\n  'કાકા',\n  '-',\n  'ભત્રીજાના',\n  'કેરેક્ટરમાં',\n  'જ',\n  'જોવા',\n  'મળશે',\n  '.'],\n ['એ',\n  'પ્રસંગે',\n  'ફિલ્મના',\n  'કલાકારો',\n  'સ્ટેન્ડ',\n  '-',\n  'અપ',\n  'કોમેડિયન',\n  'કપિલ',\n  'શર્મા',\n  ',',\n  'મોનિકા',\n  'ગિલ',\n  'અને',\n  'ઈશિતા',\n  'દત્તાએ',\n  'હાજરી',\n  'આપી',\n  'હતી',\n  '.'],\n ['\"',\n  'સુધારણા',\n  'પામેલી',\n  'ડિસ્કવરી',\n  'ચેનલની',\n  'નવી',\n  'ટેગલાઇન',\n  '\"',\n  '\"',\n  '\"',\n  '\"',\n  'લેટ્સ',\n  'ઓલ',\n  'ડિસ્કવર',\n  '.',\n  '.',\n  '.',\n  '\"',\n  '\"',\n  '\"',\n  '\"',\n  'સાથે',\n  'તે',\n  'કાર્યક્રમ',\n  'સાથે',\n  'સંબંધિત',\n  'શબ્દ',\n  'સમૂહ',\n  'અથવા',\n  'વાક્ય',\n  'પૂરી',\n  'થતી',\n  'હતી',\n  '.',\n  '\"'],\n ['બેન્ટલી', 'કોન્ટિનેન્ટલ', 'GT'],\n ['મહેશ', 'ભટ્ટે', 'કર્યો', 'ખુલાસોઃ'],\n ['પરંતુ',\n  'શિવસેના',\n  'અને',\n  'ભાજપ',\n  'વચ્ચે',\n  'હજુ',\n  'સુધી',\n  'સીટોની',\n  'વહેંચણી',\n  'પર',\n  'કોઈ',\n  'નિર્ણય',\n  'કરાયો',\n  'નથી',\n  '.'],\n ['હાઈકોર્ટે', 'નકારી', 'અરજી'],\n ['ભારતમાં',\n  'રાજ્યની',\n  'રાજનીતિમાં',\n  'રાજ્યપાલની',\n  'ભૂમિકાની',\n  'આલોચનાત્મક',\n  'પરીક્ષણ',\n  'કરો',\n  ',',\n  'વિશેષ',\n  'રીતે',\n  'બિહારના',\n  'સંદર્ભમાં',\n  '.'],\n ['ગલવાન',\n  'વેલીના',\n  'શહીદોને',\n  'આખું',\n  'રાષ્ટ્ર',\n  'શ્રદ્ધાંજલિ',\n  'અર્પે',\n  'છે',\n  '.'],\n ['આમાંથી',\n  ',',\n  'ઇન્ડિગોનાં',\n  'આઠ',\n  'વિમાન',\n  'હતાં',\n  ',',\n  'જ્યારે',\n  'બાકીનાં',\n  'વિમાન',\n  'ગોએરનાં',\n  'હતાં',\n  '.'],\n ['અનિલ',\n  'અંબાણીના',\n  'પ્રવક્તાએ',\n  'આ',\n  'આરોપોને',\n  'ખારીજ',\n  'કર્યા',\n  'છે',\n  '.'],\n ['સરનામાનો', 'પુરાવો'],\n ['ફુડ',\n  'કોર્પોરેશન',\n  'ઓફ',\n  'ઇન્ડિયા',\n  '(',\n  'FCI',\n  ')',\n  'એ',\n  'કસોટીના',\n  'માહોલ',\n  'વચ્ચે',\n  'દેશવ્યાપી',\n  'લૉકડાઉન',\n  'દરમિયાન',\n  'દુનિયામાં',\n  'સૌથી',\n  'મોટા',\n  'જાહેર',\n  'વિતરણ',\n  'તંત્ર',\n  'માટે',\n  'સૌથી',\n  'મોટી',\n  'ખાદ્યાન્ન',\n  'પૂરવઠા',\n  'સાંકળ',\n  'ચલાવવાનો',\n  'પડકાર',\n  'ઝીલ્યો',\n  'છે',\n  '.'],\n ['બાળકોને', 'એમનાથી', 'દૂર', 'રાખવા', '.'],\n ['બોલીવુડ', 'અને', 'ક્રિકેટનો', 'ઘણો', 'જ', 'જુનો', '.'],\n ['બાજરાનો', 'લોટ', '-', '100', 'ગ્રામ'],\n ['પ્રધાનમંત્રી',\n  'ભારતીય',\n  'જન',\n  'ઔષધિ',\n  '(',\n  'PMBJP',\n  ')',\n  'પરિયોજનાના',\n  \"'\",\n  'સ્વસ્થ',\n  'કે',\n  'સિપાહી',\n  \"'\",\n  'આવશ્યક',\n  'સેવાઓ',\n  'અને',\n  'દવાઓ',\n  'દર્દીઓ',\n  'તથા',\n  'વૃદ્ધોને',\n  'ઘર',\n  'આંગણે',\n  'પૂરી',\n  'પાડી',\n  'રહ્યા',\n  'છે'],\n ['Home',\n  'એન્ટરટેમેન્ટ',\n  'સસુરાલ',\n  'સિમર',\n  'કા',\n  'ફેમ',\n  'ચાઈલ્ડ',\n  'આર્ટિસ્ટ',\n  'શિવલેખ',\n  'સિંહનું',\n  'કાર',\n  'એક્સિડન્ટમાં',\n  'મોત'],\n ['\"',\n  'ભારત',\n  'સ્પષ્ટપણે',\n  'ખુબજ',\n  'ઝડપથી',\n  'ડિજિટલ',\n  'ટ્રાન્સફોર્મેશનની',\n  'દિશામાં',\n  'આગળ',\n  'વધી',\n  'રહ્યું',\n  'છે',\n  '.'],\n ['રાજનીતીની',\n  'ABCની',\n  'ખબર',\n  'નહી',\n  'પરંતુ',\n  'દેશભક્તિ',\n  'અમારા',\n  'લોહીમાં',\n  'છેઃ',\n  'ધર્મેન્દ્ર'],\n ['તેના',\n  'પર',\n  'ગ્રેફિટી',\n  'સાથે',\n  'જૂની',\n  'ત્યજી',\n  'દેવાયેલી',\n  'ટ્રેન',\n  'કાર'],\n ['%', 's', ':', 'પુનઃશરૂ', 'કરવામાં', 'નિષ્ફળઃ', '%', 's'],\n ['રાહુલ', 'ગાંધીએ', 'ફરી', 'મોદી', 'સરકાર', 'પર', 'કર્યા', 'પ્રહાર'],\n ['શ્રી',\n  'રાજનાથ',\n  'સિંહે',\n  'કહ્યું',\n  'કે',\n  'અજાણતા',\n  'પણ',\n  'જો',\n  'કોઈ',\n  'ઘટના',\n  'ઘટી',\n  'હોય',\n  'તો',\n  'બંને',\n  'પક્ષોના',\n  'પ્રતિનિધિઓ',\n  'દ્વારા',\n  'સંયુક્ત',\n  'પરિક્ષણ',\n  'અને',\n  'તપાસ',\n  'દ્વારા',\n  'પરિસ્થિતિનું',\n  'નિરાકરણ',\n  'લાવવું',\n  'જોઈએ',\n  '.'],\n ['નવ્યા',\n  'અમિતાભ',\n  'બચ્ચનની',\n  'દોહિત્રી',\n  '(',\n  'શ્વેતા',\n  'નંદાની',\n  'દીકરી',\n  ')',\n  'છે',\n  '.'],\n ['આ', 'બાદ', 'તે', 'મુંબઈ', 'આવી', 'ગઈ', '.'],\n ['આપનો', 'આભાર', 'અને', 'વેલકમ', 'ટૂ', 'ફેસબુક'],\n ['તમને', 'મોટો', 'ફાયદો', 'થશે', '.'],\n ['પરંતુ',\n  'તેમાં',\n  'મારુતિ',\n  'સુઝુકીનું',\n  '7',\n  'ઈંચ',\n  'સ્માર્ટપ્લે',\n  'સ્ટુડિયો',\n  'ટચસ્ક્રીન',\n  'ઈન્ફોટેનમેન્ટ',\n  'સિસ્ટમ',\n  'આપવામાં',\n  'આવી',\n  'શકે',\n  'છે',\n  '.'],\n ['ભગવાન',\n  'તેમના',\n  'આત્માને',\n  'શાંતિ',\n  'આપે',\n  'અને',\n  'પરિવારજનોને',\n  'દુઃખ',\n  'સહન',\n  'કરવાની',\n  'સકિત',\n  'આપે',\n  'એ',\n  'જ',\n  'પ્રાર્થના',\n  'સાથે',\n  'શ્રધ્ધાંજલી',\n  'અર્પુ',\n  'છું',\n  '.'],\n ['હરમનપ્રીત',\n  'કૌર',\n  ',',\n  'કેપ્ટન',\n  '(',\n  'ભારત',\n  ')',\n  ',',\n  'મંધાના',\n  '(',\n  'ભારત',\n  ')',\n  ',',\n  'એલિસા',\n  'હિલી',\n  '(',\n  'ઓસ્ટ્રેલિયા',\n  ')',\n  ',',\n  'સૂઝી',\n  'બેટ્સ',\n  '(',\n  'ન્યૂઝીલેન્ડ',\n  ')',\n  ',',\n  'નતાલી',\n  'સ્કીવર',\n  '(',\n  'ઇંગ્લેન્ડ',\n  ')',\n  ',',\n  'એલિસા',\n  'પેરી',\n  '(',\n  'ઓસ્ટ્રેલિયા',\n  ')',\n  ',',\n  'લેગ',\n  'કાસ્પેરેક',\n  '(',\n  'ન્યૂઝીલેન્ડ',\n  ')',\n  ',',\n  'મેગન',\n  'શટ',\n  '(',\n  'ઓસ્ટ્રેલિયા',\n  ')',\n  ',',\n  'રૂમાના',\n  'એહમદ',\n  '(',\n  'બાંગ્લાદેશ',\n  ')',\n  ',',\n  'પૂનમ',\n  'યાદવ',\n  '(',\n  'ભારત',\n  ')',\n  '.'],\n ['તમામ', 'છવાયા', 'હતા', '.'],\n ['કોરોના', 'કહેર', 'દિવસેને', 'દિવસે', 'વધતો', 'જાય', 'છે', '.'],\n ['આવું', 'અત્યારસુધી', 'નથી', 'થઇ', 'શક્યું', '.'],\n ['ચાર', 'વિકેટે', 'રાજસ્થાને', 'જીત', 'મેળવી', 'લીધી', 'હતી', '.'],\n ['જે',\n  'અંગે',\n  'બેઠકમાં',\n  'પણ',\n  'પીએમ',\n  'મોદીએ',\n  'સંબોધન',\n  'કર્યું',\n  'હતું',\n  '.'],\n ['એક',\n  'ભાગ',\n  'ખંડેરાવ',\n  'ગાયકવાડ',\n  '(',\n  'દ્વીતીય',\n  ')',\n  'દ્વારા',\n  'અને',\n  'બીજો',\n  'ભાગ',\n  'મહારાજા',\n  'સયાજીરાવ',\n  'ગાયકવાડ',\n  '(',\n  'તૃતીય',\n  ')',\n  'દ્વારા',\n  'બંધાવવામાં',\n  'આવ્યો',\n  'હતો',\n  '.'],\n ['સાઉથ',\n  'આફ્રિકાએ',\n  'ટોસ',\n  'જીતીને',\n  'પ્રથમ',\n  'બોલિંગ',\n  'કરવાનો',\n  'નિર્ણય',\n  'લીધો',\n  'છે',\n  '.'],\n ['પૅટ', 'કમિન્સ', '15.50', 'કરોડ'],\n ['આ',\n  'વિમાન',\n  'ઈન્ડોનેશિયાના',\n  'સુરાબયા',\n  'શહેરથી',\n  'સિંગાપુર',\n  'જઈ',\n  'રહ્યું',\n  'હતું',\n  '.'],\n ['આ',\n  'ફિલ્મમાં',\n  'અક્ષય',\n  'કુમાર',\n  'મુખ્ય',\n  'રોલમાં',\n  'નજરે',\n  'પડનાર',\n  'છે',\n  '.'],\n ['આ',\n  'સમગ્ર',\n  'ઘટના',\n  'કેમેરામાં',\n  'કેદ',\n  'થઈ',\n  'છે',\n  'અને',\n  'હાલમાં',\n  'આ',\n  'વીડિયો',\n  'ભારે',\n  'વાયરલ',\n  'થઈ',\n  'રહ્યો',\n  'છે',\n  '.'],\n ['જ્યારે', 'ભાજપને', '73', 'બેઠકો', 'પર', 'જીત', 'મળી', 'છે', '.'],\n ['સુન્ની',\n  'આતંકવાદી',\n  'જૂથ',\n  'જૈશ',\n  '-',\n  'ઉલ',\n  '-',\n  'ઇસ્લામે',\n  'આ',\n  'જીવલેણ',\n  'હુમલાની',\n  'જવાબદારી',\n  'સ્વીકારી',\n  'હતી',\n  '.'],\n ['વિનોદ',\n  'કે',\n  'પૉલ',\n  'અને',\n  'ચીફ',\n  'ઓફ',\n  'ડિફેન્સ',\n  'સ્ટાફ',\n  'શ્રી',\n  'બિપીન',\n  'રાવત',\n  'ઉપસ્થિત',\n  'હતા'],\n ['હાલમાં',\n  'સોશિયલ',\n  'મીડિયામાં',\n  'નિક',\n  'અને',\n  'પ્રિયંકાની',\n  'તસવીરો',\n  'વાયરલ',\n  'થઈ',\n  'રહી',\n  'છે',\n  '.'],\n ['પશ્ચિમ',\n  'બંગાળમા',\n  'એનઆરસી',\n  'મુદ્દે',\n  'રાજકારણ',\n  'ચરમ',\n  'પર',\n  ',',\n  'મમતા',\n  'બેનર્જીનો',\n  'અમલ',\n  'કરવાથી',\n  'ઇનકાર'],\n ['મુખ્ય', 'ફુગાવો', 'દર', 'માટે', 'લક્ષ્ય', '2', 'ટકા', 'છે', '.'],\n ['આગામી', 'ચૂંટણી', 'અમે', 'સાથે', 'મળીને', 'લડીશું', '.'],\n ['આ',\n  'ફિલ્મમાં',\n  'તેની',\n  'સાથે',\n  'કાર્તિક',\n  'આર્યને',\n  'કામ',\n  'કર્યું',\n  'હતું',\n  '.'],\n ['૧૭',\n  ',',\n  '૧૮',\n  '.',\n  '(',\n  'ક',\n  ')',\n  'અમુક',\n  'વખતે',\n  'પ્રેરિતોને',\n  'કેમ',\n  'નમ્રતા',\n  'વિષેનું',\n  'ઈસુનું',\n  'શિક્ષણ',\n  'સ્વીકારવું',\n  'અઘરું',\n  'લાગ્યું',\n  '?'],\n ['આ',\n  'સંતુલન',\n  'એક',\n  'મજબૂત',\n  'અને',\n  'સમાવેશી',\n  'ભારતના',\n  'નિર્માણમાં',\n  'યોગદાન',\n  'આપશે'],\n ['ભારત',\n  '-',\n  'ચીન',\n  'વિવાદઃ',\n  'બન્ને',\n  'દેશોના',\n  'રાજનાયીકો',\n  'વચ્ચે',\n  'ટુંક',\n  'સમયમાં',\n  'થશે',\n  'વાાતચીત'],\n ['નોર્થપોલ', '.', 'કોમ'],\n ['[', 'પાન', '૨૩', 'પર', 'ચિત્ર', ']'],\n ['ભૂગર્ભનો',\n  'અસ્પષ્ટ',\n  'ઉલ્લેખ',\n  'છે',\n  'જેમાંથી',\n  'એક',\n  'વણશોધાયેલો',\n  'માર્ગ',\n  'ટાર્ટારસની',\n  'સજા',\n  'સુધી',\n  'જાય',\n  'છે',\n  'જ્યારે',\n  'બીજા',\n  'માર્ગ',\n  'ઇરેબસ',\n  'અને',\n  'એલિસિયન',\n  'ફિલ્ડમાંથી',\n  'પસાર',\n  'થાય',\n  'છે',\n  '.'],\n ['વાવમાં',\n  'જે',\n  'કોતરણી',\n  'છે',\n  'તેમાં',\n  'મોટા',\n  'ભાગે',\n  'ભગવાન',\n  'વિષ્ણુના',\n  '10',\n  'અવતારો',\n  'દર્શાવવામાં',\n  'આવ્યા',\n  'છે',\n  '.'],\n ['હેથ', 'પોઈન્ટ'],\n ['શાહડોલ', 'જિલ્લાનું', 'મુખ્યાલય', 'શાહડોલમાં', 'છે', '.'],\n ['દીપિકા', 'અહીં', 'શો', 'સ્ટોપર', 'બની', 'હતી', '.'],\n ['તેની', 'પુત્રી', 'સ્ટોર્મી', 'સાથે', 'કાઈલી', 'જેનર'],\n ['વડાપ્રધાન', 'મોદી', 'ટીમ', 'સાથે'],\n ['કપરાડાએ',\n  'કપરાડા',\n  'પોલીસ',\n  'મથકે',\n  'ફરિયાદ',\n  'નોંધાવતા',\n  'પોલીસે',\n  'ગુનો',\n  'નોંધીને',\n  'તપાસ',\n  'હાથ',\n  'ધરી',\n  'હતી',\n  '.'],\n ['ફિલ્મની',\n  'સ્ટારકાસ્ટમાં',\n  'અક્ષય',\n  'કુમાર',\n  ',',\n  'કરીના',\n  'કપૂર',\n  ',',\n  'દિલજિત',\n  'દોસાંજ',\n  'અને',\n  'કિઆરા',\n  'અડવાણી',\n  'છે',\n  '.'],\n ['બધા', 'સેમસન', '?'],\n ['આ',\n  'અગાઉ',\n  'ઇન્ટર',\n  'ગવર્મેન્ટલ',\n  'કન્સલ્ટેશન',\n  'મીટ',\n  'દરમિયાન',\n  'પ્રધાનમંત્રી',\n  'નરેન્દ્ર',\n  'મોદીએ',\n  'નિયમ',\n  'આધારિત',\n  'વિશ્વ',\n  'વ્યવસ્થાનું',\n  'નિર્માણ',\n  'કરવામાં',\n  'અને',\n  'તેને',\n  'પોષવામાં',\n  'યુરોપિયન',\n  'સંઘના',\n  'દેશોએ',\n  'મોટી',\n  'ભૂમિકા',\n  'ભજવી',\n  'હોવાનું',\n  'જણાવ્યું',\n  'હતું',\n  '.'],\n ['સોશ્યલ',\n  'મીડિયા',\n  'પર',\n  'ટ્વીટ',\n  'કરીને',\n  'આ',\n  'અંગેની',\n  'જાણકારી',\n  'આપી',\n  'છે',\n  '.'],\n ['જ્હાન્વી',\n  'કપૂરની',\n  'ડેબ્યૂ',\n  'ફિલ્મ',\n  \"'\",\n  'ધડક',\n  \"'\",\n  'નું',\n  'શૂટિંગ',\n  'પૂરું',\n  'થઈ',\n  'ગયું',\n  'છે',\n  '.'],\n ['તેમની', 'કામગીરીને', 'બિરદાવાય', 'છે', '.'],\n ['વેન્ટિલેટર્સ', 'બનાવશે', 'મહિન્દ્રા', 'ગ્રુપ'],\n ['તો',\n  'બિહારની',\n  '40',\n  'લોકસભા',\n  'સીટોમાંથી',\n  '39',\n  'પર',\n  'એનડીએને',\n  'સરસાઈ',\n  'મળી',\n  'રહી',\n  'છે',\n  '.'],\n ['તેથી', 'તે', 'સફદરઝંગ', 'હોસ્પિટલ', 'પહોંચી', 'હતી', '.'],\n ['બૌદ્ધિક',\n  'સંપત્તિના',\n  'ક્ષેત્રે',\n  'શ્રેષ્ઠ',\n  'પદ્ધતિઓ',\n  ',',\n  'અનુભવો',\n  'અને',\n  'જ્ઞાનનું',\n  'આદાન',\n  '-',\n  'પ્રદાન',\n  'અને',\n  'ઉદ્યોગ',\n  ',',\n  'વિશ્વવિદ્યાલયો',\n  ',',\n  'સંશોધન',\n  'અને',\n  'વિકાસ',\n  'સંસ્થાઓ',\n  'તેમજ',\n  'નાના',\n  'અને',\n  'મધ્યમ',\n  'એકમોમાં',\n  'તેનો',\n  'પ્રસાર'],\n ['અહી', 'દરેક', 'લોકો', 'પરેશાન', 'છે', '.'],\n ['સંપૂર્ણ', 'ગુજરાત', 'ભાજપ', 'સાથે', 'અડીખમ', 'છે', '.'],\n ['પ્રધાનમંત્રીએ',\n  'સમગ્ર',\n  '1',\n  'જુદા',\n  'જુદા',\n  'ક્ષેત્રોની',\n  'અંદર',\n  '4',\n  'સરકારી',\n  'કાર્યક્રમો',\n  'અને',\n  'યોજનાઓને',\n  'લગતી',\n  'ફરિયાદ',\n  'નિવારણની',\n  'પણ',\n  'સમીક્ષા',\n  'કરી',\n  'હતી',\n  '.'],\n ['મેટ્રો',\n  'ટ્રેન',\n  'પ્રોજેક્ટ',\n  'નરેન્દ્ર',\n  'મોદીનો',\n  'મહત્ત્વાકાંક્ષી',\n  'અને',\n  'ડ્રીમ',\n  'પ્રોજેક્ટ',\n  'છે',\n  '.'],\n ['જેમાં',\n  'વડાપ્રધાન',\n  'નરેન્દ્ર',\n  'મોદી',\n  'ઉપરાંત',\n  'ગૃહમંત્રી',\n  'અમિત',\n  'શાહ',\n  ',',\n  'સંરક્ષણ',\n  'મંત્રી',\n  'રાજનાથ',\n  'સિંહ',\n  ',',\n  'નાણાંમંત્રી',\n  'નિર્મલા',\n  'સીતારમણ',\n  ',',\n  'વિદેશ',\n  'મંત્રી',\n  'એસ',\n  'જયશંકરનો',\n  'સમાવેશ',\n  'થાય',\n  'છે',\n  '.'],\n ['ભારતીય',\n  'રેલવે',\n  'સમગ્ર',\n  'દેશમાં',\n  'રેલવે',\n  'સાથે',\n  'જોડાયેલા',\n  'તમામ',\n  'જિલ્લાઓમાંથી',\n  'શ્રમિક',\n  'વિશેષ',\n  'ટ્રેનોનું',\n  'પરિચાલન',\n  'કરવા',\n  'માટે',\n  'તૈયાર',\n  'છે',\n  '.'],\n ['સેમસંગ', 'ઇલેક્ટ્રોનિક્સ', 'કો', '.'],\n ['કોંગ્રેસ', 'રેલી'],\n ['સણાથા',\n  'ગામના',\n  'લોકોનો',\n  'મુખ્ય',\n  'વ્યવસાય',\n  'ખેતી',\n  ',',\n  'ખેતમજૂરી',\n  'તેમ',\n  'જ',\n  'પશુપાલન',\n  'છે',\n  '.'],\n ['પાવર', 'લાઈન', 'વાયર', 'ઉપર', 'આકાશમાં', 'ઉડ્ડયન', 'પ્લેન', '.'],\n ['વડા', 'પ્રધાન', 'મોદીએ', 'તેનું', 'નેતૃત્વ', 'કર્યું', 'હતું', '.'],\n ['અગાઉ', 'આ', 'ખરડો', 'લોકસભામાં', 'પસાર', 'થઇ', 'ચૂક્યો', 'હતો', '.'],\n ['>',\n  'હિમાચલ',\n  'પ્રદેશના',\n  'કુલ્લૂમાં',\n  'મોટી',\n  'દૂર્ઘટના',\n  ',',\n  'ખીણમાં',\n  'બસ',\n  'પડતા',\n  '44ના',\n  'મોત'],\n ['તેણે',\n  'યુનિવર્સિટી',\n  'ઓફ',\n  'ગુવાનાજુ',\n  'આટોમાંથી',\n  'ઈન્ટરનેશનલ',\n  'કોમર્સમાં',\n  'ડિગ્રી',\n  'મેળવી',\n  'છે',\n  '.'],\n ['પ્રધાનમંત્રીએ',\n  'લોકસભાને',\n  'એવું',\n  'પણ',\n  'જણાવ્યું',\n  'હતું',\n  'કે',\n  ',',\n  '1.20',\n  'કરોડથી',\n  'વધારે',\n  'લોકોની',\n  'નોંધણી',\n  'નેશનલ',\n  'પેન્શન',\n  'સિસ્ટમ',\n  'કે',\n  'એનપીએસ',\n  'હેઠળ',\n  'થઈ',\n  'છે',\n  '.'],\n ['F', '-', 'Spot', 'માંથી', 'તકતી', 'પૂર્વદર્શનને', 'દર્શાવો'],\n ['સંજય',\n  'લીલા',\n  'ભણસાલીની',\n  'ફિલ્મ',\n  'પદ્માવતી',\n  'અત્યાર',\n  'સુધી',\n  'અનેક',\n  'વાર',\n  'વિવાદોને',\n  'ભોગ',\n  'બની',\n  'છે',\n  '.'],\n ['નમ્રતાના',\n  'ગુણે',\n  'કઈ',\n  'રીતે',\n  'નાબોથના',\n  'કુટુંબીજનો',\n  'અને',\n  'મિત્રોનું',\n  'રક્ષણ',\n  'કર્યું',\n  'હશે',\n  '?'],\n ['કોઝીકોડ',\n  'ખાતે',\n  'યોજાયેલ',\n  'ગ્લોબલ',\n  'આયુર્વેદ',\n  'ફેસ્ટિવલમાં',\n  'વિઝન',\n  'કોન્ક્લેવ',\n  'સમયે',\n  'પ્રધાનમંત્રીના',\n  'વક્તવ્યનો',\n  'મૂળ',\n  'પાઠ'],\n ['આ',\n  'મામલે',\n  'બાળકીની',\n  'માતાએ',\n  'શાહપુર',\n  'પોલીસ',\n  'સ્ટેશનમાં',\n  'ફરિયાદ',\n  'નોંધાવી',\n  'હતી',\n  '.'],\n ['એક',\n  'બાઇક',\n  'રેસર',\n  'એ',\n  'રેશિંગમાં',\n  'એક',\n  'શોર્ફ',\n  'ટર્નિંગ',\n  'કરી',\n  'રહ્યું',\n  'છે',\n  '.'],\n ['\"',\n  '11',\n  'એપ્રિલ',\n  '1964ના',\n  'રોજ',\n  ',',\n  'સીપીઆઇ',\n  'નેશનલ',\n  'કાઉન્સીલની',\n  'યોજાયેલી',\n  'બેઠકમાં',\n  '32',\n  'કાઉન્સીલના',\n  'સભ્યોએ',\n  'વિરોધમાં',\n  'બેઠકનો',\n  'ત્યાગ',\n  'કર્યો',\n  'હતો',\n  'અને',\n  'ડાંગે',\n  'અને',\n  'તેમના',\n  'અનુયાયીઓને',\n  '\"',\n  '\"',\n  'એકતા',\n  'વિરોધી',\n  'અને',\n  'વિરોધી',\n  'કોમ્યુનિસ્ટ',\n  'નીતિ',\n  '\"',\n  '\"',\n  'બદલ',\n  'આરોપી',\n  'ઠરાવ્યા',\n  'હતા',\n  '.',\n  '\"'],\n ['આ', 'કમિટીએ', 'અહેવાલ', 'કુલનાયકને', 'સુપરત', 'કરી', 'દીધો', 'છે', '.'],\n ['ચોંટાડો', 'બદલો'],\n ['હિમાચલ',\n  'પ્રદેશઃ',\n  'વિદ્યાર્થીઓને',\n  'ઘરે',\n  'જ',\n  'રહીને',\n  'અભ્યાસ',\n  'કરવા',\n  'માટે',\n  'રાજ્ય',\n  'સરકાર',\n  'દ્વારા',\n  \"'\",\n  'હર',\n  'ઘર',\n  'પાઠશાલા',\n  \"'\",\n  'કાર્યક્રમ',\n  'શરૂ',\n  'કરવામાં',\n  'આવ્યો',\n  'જેથી',\n  'રાજ્યમાં',\n  'કોરોના',\n  'મહામારીના',\n  'કારણે',\n  'લાગુ',\n  'કરવામાં',\n  'આવેલા',\n  'કર્ફ્યૂ',\n  'દરમિયાન',\n  'તેમના',\n  'અભ્યાસમાં',\n  'કોઇ',\n  'વિક્ષેપ',\n  'પડે',\n  'નહીં',\n  '.'],\n ['આ',\n  'શહેરોમાં',\n  'મુંબઇ',\n  ',',\n  'દિલ્હી',\n  ',',\n  'ચેન્નાઇ',\n  ',',\n  'કોલકત્તા',\n  ',',\n  'બેંગલોર',\n  'અને',\n  'હૈદરાબાદનો',\n  'સમાવેશ',\n  'થાય',\n  'છે',\n  '.'],\n ['સૈફ', 'અલી', 'ખાનની', 'આ', 'ટેવથી', 'પરેશાન', 'છે', 'કરીના', 'કપૂર'],\n ['ભારતીય', 'મહેસૂલ', 'સેવા'],\n ['ત્યારથી',\n  'વેસ્ટઈન્ડિઝની',\n  'ભારતમાં',\n  'આ',\n  'ત્રીજી',\n  'વનડે',\n  'સીરીઝ',\n  'છે',\n  '.'],\n ['આ', 'સંદેશ', 'શું', 'કરે', 'છે', '?'],\n ['આ', 'પ્રશ્ન', 'માત્ર', 'ભારતીય', 'સમુદાયને', 'જ', 'સતાવતો', 'નથી', '.'],\n ['સાથે', 'સાથે', 'પંકજ', 'ત્રિપાઠીની', 'પણ', 'ફિલ્મમાં', 'ભૂમિકા', 'છે', '.'],\n ['જી20ના',\n  '1',\n  'સભ્યો',\n  'દેશોમાં',\n  'આર્જેન્ટિના',\n  ',',\n  'ઓસ્ટ્રેલિયા',\n  ',',\n  'બ્રાઝિલ',\n  ',',\n  'કેનેડા',\n  ',',\n  'ચીન',\n  ',',\n  'જર્મની',\n  ',',\n  'ફ્રાંસ',\n  ',',\n  'ઇન્ડોનેશિયા',\n  ',',\n  'ઇટાલી',\n  ',',\n  'જાપાન',\n  ',',\n  'મેક્સિકો',\n  ',',\n  'રશિયન',\n  'સંઘ',\n  ',',\n  'સાઉદી',\n  'અરબ',\n  ',',\n  'દક્ષિણ',\n  'આફ્રિકા',\n  ',',\n  'દક્ષિણ',\n  'કોરિયા',\n  ',',\n  'તુર્કી',\n  ',',\n  'યુકે',\n  ',',\n  'અમેરિકા',\n  'અને',\n  'ભારત',\n  'સામેલ',\n  'છે',\n  '.'],\n ['ફિલ્મના', 'સંવાદો', 'દિગ્દર્શક', 'નિરજ', 'પાંડેએ', 'લખ્યા', 'છે', '.'],\n ['અને',\n  'સમગ્ર',\n  'મામલાની',\n  'તપાસ',\n  'માટે',\n  'SITની',\n  'રચના',\n  'કરી',\n  'દેવામાં',\n  'આવી',\n  'છે',\n  '.'],\n ['એની', 'આંખો', 'પણ', 'ભરાઈ', 'આવી', '.'],\n ['સાધ્વી',\n  'પ્રજ્ઞા',\n  'સિંહ',\n  'ઠાકુર',\n  'મહારાષ્ટ્રના',\n  'માલેગાંવ',\n  'વિસ્ફોટના',\n  'આરોપી',\n  'છે',\n  '.'],\n ['સાઉદી', 'અરેબિયામાં', 'વધુ', 'અમેરિકન', 'સૈનિકોની', 'તૈનાત'],\n ['નવી',\n  'દિલ્હીઃબુકિંગ',\n  'કાઉન્ટર',\n  'પર',\n  'ભીડ',\n  'ઓછી',\n  'કરવાના',\n  'પ્રયાસના',\n  'ભાગરૂપે',\n  'રેલવે',\n  'વિભાગે',\n  'પેટીએમ',\n  ',',\n  'જિયોમની',\n  'અને',\n  'એરટેલ',\n  'મની',\n  'જેવા',\n  'ઇ',\n  '-',\n  'વોલેટ',\n  'પરથી',\n  'રેલવેની',\n  'અનરિઝર્વ્ડ',\n  'ટિકિટનું',\n  'બુકિંગ',\n  'શરૂ',\n  'કરવા',\n  'અંગે',\n  'વિચારણા',\n  'હાથ',\n  'ધરી',\n  'છે',\n  '.'],\n ['હેમા',\n  '-',\n  'ધર્મેન્દ્રને',\n  'બે',\n  'દીકરીઓ',\n  'એશા',\n  'દેઓલ',\n  'તથા',\n  'આહના',\n  'દેઓલ',\n  'છે',\n  '.'],\n ['એનીમેટેડ', 'ફીચર', 'ફિલ્મઃ', 'કોકો'],\n ['પગલું', 'નંબર', 'એક', 'છે', '.'],\n ['શું', 'બુલેટ', 'ટ્રેન', 'ભારતની', 'જરૂરિયાત', 'છે', '?'],\n ['હેમંત', 'કરકરેનું', 'મોત', 'મારા', 'શ્રાપથી', 'થયુંઃ', 'સાધ્વી', 'પ્રજ્ઞા'],\n ['વડાપ્રધાન',\n  'નરેન્દ્ર',\n  'મોદી',\n  ',',\n  'કોંગ્રેસના',\n  'નેતા',\n  'રાહુલ',\n  'ગાંધી',\n  'સહિત',\n  'અનેક',\n  'મોટી',\n  'હસ્તીઓએ',\n  'સુજીતની',\n  'સલામતી',\n  'માટે',\n  'દુઆઓ',\n  'કરી',\n  'હતી',\n  '.'],\n ['આ', 'ફિલ્મના', 'પ્રોડયૂસર', 'કરણ', 'જોહર', 'છે', '.'],\n ['દિલ્હી',\n  'વિધાનસભા',\n  'ચૂંટણીઃ',\n  'ભાજપે',\n  '57',\n  'ઉમેદવારોની',\n  'પ્રથમ',\n  'યાદી',\n  'કરી',\n  'જાહેર'],\n ['રણવીર',\n  'સિંહ',\n  'અને',\n  'દીપિકા',\n  'પાદુકોણને',\n  'લગ્ન',\n  'બાદ',\n  'ફેન્સ',\n  'અને',\n  'સેલેબ્રિટી',\n  'શુભકામનાઓ',\n  'આપી',\n  'રહ્યા',\n  'છે',\n  '.'],\n ['જોકે', ',', 'તેઓ', 'એકલાં', 'ન', 'થવો', 'જોઈએ', '.'],\n ['તેના',\n  'પિતાનું',\n  'નામ',\n  'જીવણભાઇ',\n  'ખીમજીભાઇ',\n  'રાઠોડ',\n  'અને',\n  'માતાનું',\n  'નામ',\n  'પુરીબેન',\n  'છે',\n  '.'],\n ['મહાત્મા', 'ગાંધીના', 'પ્રપૌત્રનું', 'નિધન'],\n ['PM', 'મોદી', 'અને', 'ઈમરાન', 'ખાન', 'વચ્ચે', 'મુલાકાત', 'થવાની', 'છે', '?'],\n ['ધારુથા',\n  'ભારત',\n  'દેશના',\n  'પશ્ચિમ',\n  'ભાગમાં',\n  'આવેલા',\n  'ગુજરાત',\n  'રાજ્યના',\n  'સુરત',\n  'જિલ્લામાં',\n  'આવેલા',\n  'કામરેજ',\n  'તાલુકામાં',\n  'આવેલું',\n  'ગામ',\n  'છે',\n  '.'],\n ['બંને', 'રાજ્યોમાં', 'એક', 'જ', 'તબક્કામાં', 'મતદાન', 'યોજનાર', 'છે', '.'],\n ['સુરભિ', 'અગ્રવાલ', 'નવી', 'દિલ્હી'],\n ['યૂનિયન', 'બેંક'],\n ['કુમારપાળ',\n  'દ્વારા',\n  'બાંધવામાં',\n  'આવેલું',\n  'તારંગાનું',\n  'વિશાળ',\n  'અજિતનાથ',\n  'મંદિર',\n  'હજુ',\n  'પણ',\n  'ટકી',\n  'રહેલું',\n  'છે',\n  ',',\n  'જ્યારે',\n  'તેમના',\n  'મોટાભાગના',\n  'મંદિરો',\n  'હવે',\n  'અસ્તિત્વમાં',\n  'નથી',\n  '.'],\n ['આ',\n  'સમજૂતીકરાર',\n  'હેઠળ',\n  'દ્વિપક્ષીય',\n  'સહકારનાં',\n  'ક્ષેત્રોમાં',\n  'સામેલ',\n  'છેઃ'],\n ['જેમાં', 'આખું', 'ગામ', 'જોડાયું', 'હતું', '.'],\n ['જેમાં',\n  'સીઆરપીએફનો',\n  'એક',\n  'જવાન',\n  'શહીદ',\n  'થઈ',\n  'ગયો',\n  'અને',\n  'એક',\n  'નાગરિકનુ',\n  'મોત',\n  'થઈ',\n  'ગયુ',\n  '.'],\n ['રમતો', 'અને', 'સંગીત', 'ઉત્સવોમાંનો', '.'],\n ['રોહિત',\n  'શર્માએ',\n  '153',\n  'બોલમાં',\n  '208',\n  'ફટકારી',\n  'નોટ',\n  'આઉટ',\n  'રહ્યો',\n  '.'],\n ['કૃષિ',\n  'અને',\n  'ખેડૂત',\n  'કલ્યાણ',\n  'મંત્રાલયનાં',\n  'રાજ્ય',\n  'મંત્રી',\n  'શ્રી',\n  'પરષોત્તમ',\n  'રૂપાલા',\n  'અને',\n  'સચિવ',\n  '(',\n  'ACFW',\n  ')',\n  'શ્રી',\n  'કૈલાસ',\n  'ચૌધરી',\n  ',',\n  'શ્રી',\n  'સંજય',\n  'અગ્રવાલ',\n  'તથા',\n  'મંત્રાલયના',\n  'અન્ય',\n  'વરિષ્ઠ',\n  'અધિકારીઓએ',\n  'વીડિયો',\n  'કોન્ફરન્સ',\n  'મારફતે',\n  'આજની',\n  'કોન્ફરન્સમાં',\n  'ભાગ',\n  'લીધો',\n  'હતો',\n  '.'],\n ['સુરતના', 'વેપારીઓ', 'નારાજ'],\n ['શું', 'આ', 'ખરાબ', 'છે', '?'],\n ['શ્રમ',\n  'અને',\n  'રોજગાર',\n  'મંત્રાલય',\n  'હેઠળ',\n  'આવતા',\n  'કર્મચારી',\n  'ભવિષ્ય',\n  'નિધિ',\n  'સંગઠન',\n  '(',\n  'EPFO',\n  ')',\n  'એ',\n  'લૉકડાઉન',\n  'દરમિયાન',\n  'EPFની',\n  'ચુકવણીની',\n  'પ્રક્રિયા',\n  'વધુ',\n  'ઝડપી',\n  'કરીને',\n  'પ્રધાનમંત્રી',\n  'ગરીબ',\n  'કલ્યાણ',\n  'યોજના',\n  '(',\n  'PMGKY',\n  ')',\n  'અંતર્ગત',\n  '7.40',\n  'લાખ',\n  'કોવિડ',\n  '-',\n  '19',\n  'દાવા',\n  'સહિત',\n  'કુલ',\n  '12.91',\n  'લાખ',\n  'દાવાની',\n  'પતાવટ',\n  'કરીને',\n  'કર્મચારીઓને',\n  'તેની',\n  'રકમ',\n  'ચુકવણી',\n  'દીધી',\n  'છે',\n  '.'],\n ['શિવરાજ',\n  'સિંહ',\n  'ચૌહાણે',\n  'હાલમાં',\n  'જ',\n  'સંઘ',\n  'પ્રમુખ',\n  'મોહન',\n  'ભાગવત',\n  ',',\n  'બીજેપી',\n  'અધ્યક્ષ',\n  'રાજનાથ',\n  'સિંહ',\n  'અને',\n  'વરિષ્ઠ',\n  'નેતા',\n  'લાલકૃષ્ણ',\n  'અડવાણી',\n  'સાથે',\n  'મુલાકાત',\n  'કરી',\n  'હતી',\n  '.'],\n ['મેકાલેસ્ટર', 'કોલેજ'],\n ['યુપી',\n  'વિધાનસભામાં',\n  'ભાજપની',\n  'પાસે',\n  '325',\n  'ધારાસભ્યોની',\n  'સાથે',\n  'ત્રણ',\n  'ચતુર્થાંસથી',\n  'વધારે',\n  'બહુમતી',\n  'છે',\n  '.'],\n ['%', 's', 'માટે', '%', 's', 'પર', 'IMAP', 'સેવા'],\n ['બૉલિવુડ',\n  'અભિનેતા',\n  'ઈરફાન',\n  'ખાનના',\n  'નિધન',\n  'બાદ',\n  'તેમના',\n  'ફેન્સ',\n  'શોકમાં',\n  'છે',\n  '.'],\n ['આ', 'એક્ટર', 'તેની', 'ટ્રીટમેન્ટ', 'માટે', 'લંડન', 'ગયો', 'હતો', '.'],\n ['કોમેડી',\n  'કિંગ',\n  'કપિલ',\n  'શર્મા',\n  'નાના',\n  'પડદા',\n  'પર',\n  'જલ્દી',\n  'એન્ટ્રી',\n  'કરવા',\n  'જઈ',\n  'રહ્યો',\n  'છે',\n  '.'],\n ['હજી',\n  'સુધી',\n  'કોઈ',\n  'આતંકવાદી',\n  'સંગઠનોએ',\n  'હુમલાની',\n  'જવાબદારી',\n  'સ્વીકારી',\n  'નથી',\n  '.'],\n ['જેના', 'કારણે', 'મહારાષ્ટ્ર', 'સરકાર', 'નારાજ', 'થઈ', 'ગઈ', 'છે', '.'],\n ['રાષ્ટ્રીય', 'મ્યુઝિયમ', '.'],\n ['લેખકઃ', 'કુછહવા', 'હુહ'],\n ['સઇદ',\n  'અને',\n  'જમાત',\n  'અને',\n  'ફલાહના',\n  '37',\n  'સભ્યોને',\n  'એક્ઝિટ',\n  'કંટ્રોલ',\n  'લિસ્ટમાં',\n  'નાખી',\n  'દીધા',\n  'છે',\n  'અને',\n  'તેના',\n  'હેઠળ',\n  'તેમને',\n  'દેશ',\n  'છોડવા',\n  'પર',\n  'પ્રતિબંધ',\n  'લગાવી',\n  'દીધો',\n  'છે',\n  '.'],\n ['મોદીએ',\n  'જીવનસાથી',\n  'તરીકે',\n  'જશોદાબહેનનું',\n  'નામ',\n  'જણાવ્યું',\n  'હતું',\n  '.'],\n ['[', 'પાન', '૫', 'પર', 'બોક્સ', ']'],\n ['અમદાવાદ',\n  'શહેરમાં',\n  'દિવસેને',\n  'દિવસે',\n  'ક્રાઈમનો',\n  'રેશિયો',\n  'વધી',\n  'રહ્યો',\n  'છે',\n  '.'],\n ['હું', 'બોલિવુડની', 'ત્રણ', 'ફિલ્મોમાં', 'કામ', 'કરી', 'રહી', 'છું', '.'],\n ['વડા',\n  'પ્રધાન',\n  'નરેન્દ્ર',\n  'મોદીની',\n  'સીટ',\n  'વારાણસીમાં',\n  'પણ',\n  'મતદાન',\n  'થશે',\n  '.'],\n ['જોકે', ',', 'પૂનમે', 'ઇન્કાર', 'કરી', 'દીધો', 'હતો', '.'],\n ['મેટલ', 'પોલ્સ', 'પર', 'ઘણા', 'મોટા', 'લાલ', 'સ્ટોપ', 'ચિહ્નો', '.'],\n ['જુના',\n  'ટિંબરવા',\n  'ગામના',\n  'લોકોનો',\n  'મુખ્ય',\n  'વ્યવસાય',\n  'ખેતી',\n  ',',\n  'ખેતમજૂરી',\n  'તેમ',\n  'જ',\n  'પશુપાલન',\n  'છે',\n  '.'],\n ['મુંબઈમાં',\n  'એલફિન્સ્ટન',\n  'રોડ',\n  'રેલવે',\n  'સ્ટેશનના',\n  'ફૂટ',\n  'ઓવરબ્રિજ',\n  'પર',\n  'નાસભાગમાં',\n  '22નાં',\n  'મોત'],\n ['રાષ્ટ્રપતિ',\n  'પૉલ',\n  'કગામેએ',\n  'વર્ષ',\n  '2017માં',\n  'ભારતની',\n  'સત્તાવાર',\n  'યાત્રા',\n  'કરી',\n  'હતી',\n  'તથા',\n  'ત્યારબાદ',\n  'ક્રમશઃ',\n  'વાઇબ્રન્ટ',\n  'ગુજરાત',\n  'અને',\n  'આંતરરાષ્ટ્રીય',\n  'સૌર',\n  'ગઠબંધનનાં',\n  'સ્થાપના',\n  'સંમેલનમાં',\n  'ભાગ',\n  'લીધો',\n  'હતો',\n  '.'],\n ['તમારાં',\n  'બાળકોનાં',\n  'દિલ',\n  'સુધી',\n  'પહોંચવા',\n  'તમે',\n  'પણ',\n  'ઈસુની',\n  'જેમ',\n  'શીખવી',\n  'શકો',\n  '.',\n  '-',\n  'લુક',\n  '૨૪ઃ',\n  '૧૫',\n  '-',\n  '૧૯',\n  ',',\n  '૨૭',\n  ',',\n  '૩૨',\n  'વાંચો',\n  '.'],\n ['\"',\n  'કઈંક',\n  'અલગ',\n  'કરવાની',\n  'ચાહતમાં',\n  '32',\n  'વર્ષના',\n  'મનોજે',\n  '2015',\n  'માં',\n  \"'\",\n  'મનોજ',\n  'પટેલ',\n  'ડિઝાઇન',\n  'સ્ટૂડિયો',\n  \"'\",\n  '(',\n  'એમપીડીએસ',\n  ')',\n  'નામથી',\n  'પોતાની',\n  'ફર્મ',\n  'શરૂ',\n  'કરી',\n  '.'],\n ['ભગવાન', 'બધાને', 'આશીર્વાદ', 'આપે', '.'],\n ['માધુરી',\n  'સાથે',\n  'તેના',\n  'બાળકો',\n  'અરિન',\n  'અને',\n  'રયાન',\n  'પણ',\n  'આવ્યા',\n  'છે',\n  '.'],\n ['ફાયર',\n  'બ્રિગેડના',\n  'લાશ્કરો',\n  'બનાવની',\n  'જાણ',\n  'થતાં',\n  'સ્થળ',\n  'પર',\n  'પહોંચી',\n  'ગયા',\n  'હતા',\n  '.'],\n ['લ્યુપસના', 'લક્ષણો'],\n ['આ',\n  'દરમિયાન',\n  'ટ્રમ્પ',\n  'અને',\n  'મોદી',\n  'વચ્ચે',\n  'દ્વિપક્ષીય',\n  'વાટાઘાટો',\n  'થઈ',\n  'હતી',\n  '.'],\n ['કંપની',\n  \"'\",\n  'નૈનોસેંટ',\n  \"'\",\n  'ના',\n  'સહસંસ્થાપક',\n  'ઓરેન',\n  'ગૈવરિલી',\n  'અને',\n  'ઇરાન',\n  'રોમના',\n  'અનુસાર',\n  'આ',\n  'સેંસર',\n  'એક',\n  'ઇલેક્ટ્રોનિક',\n  'નાકની',\n  'માફક',\n  'કરે',\n  'છે',\n  'અને',\n  'તેને',\n  'સ્માર્ટફોનમાં',\n  'લગાવી',\n  'શકાય',\n  'છે',\n  '.'],\n ['UPS',\n  'એ',\n  'જટિલ',\n  'સ્તરની',\n  'નીચે',\n  'છે',\n  'અને',\n  'આ',\n  'કમ્પ્યૂટર',\n  'બંધ',\n  'થવા',\n  'જઈ',\n  'રહ્યું',\n  'છે',\n  '.'],\n ['તેમની',\n  'આવનારી',\n  'ફિલ્મ',\n  'બ્રહ્માસ્ત્ર',\n  'છે',\n  'જેમાં',\n  'રણવીર',\n  'કપૂર',\n  ',',\n  'અમિતાભ',\n  'બચ્ચન',\n  'અને',\n  'આલિયા',\n  'ભટ્ટ',\n  'મુખ્ય',\n  'ભૂમિકા',\n  'ભજવશે',\n  '.'],\n ['માર્બલ', ',', 'પ્લાસ્ટર', 'અને', 'મેટલ', '.'],\n ['અગાઉ',\n  'સિનાએ',\n  'કપિલ',\n  'શર્મા',\n  'અને',\n  'સિંગર',\n  'દલેર',\n  'મહેંદીના',\n  'પણ',\n  'ફોટો',\n  'શેર',\n  'કર્યા',\n  'હતા',\n  '.'],\n ['શર્માએ',\n  'હનુમા',\n  'વિહારીની',\n  'સાથે',\n  'મળીને',\n  '112',\n  'રનની',\n  'સાઝેદારી',\n  'બનાવી',\n  'હતી',\n  '.'],\n ['શેરીમાં', 'એક', 'ખૂબ', 'મોટી', 'તેજસ્વી', 'નારંગી', 'રંગીન', 'બસ', '.'],\n ['યુપી', 'સરકાર'],\n ['કેન્દ્રીય',\n  'ગૃહમંત્રી',\n  'અમિત',\n  'શાહે',\n  'આ',\n  'બિલ',\n  'પર',\n  'સંસદમાં',\n  'પોતાની',\n  'વાત',\n  'રજૂ',\n  'કરી',\n  'હતી',\n  '.'],\n ['એરપોર્ટના',\n  'સત્તાવાળાઓના',\n  'જણાવ્યાનુસાર',\n  'એર',\n  'ફ્રાંસનું',\n  'વિમાન',\n  '૩૨',\n  ',',\n  '૦૦૦',\n  'ફુટની',\n  'ઉંચાઇએ',\n  'ઊડી',\n  'રહ્યું',\n  'હતું',\n  'ત્યારે',\n  'એતિહાદનું',\n  'વિમાન',\n  '૩૧',\n  ',',\n  '૦૦૦',\n  'ફુટની',\n  'ઉંચાઇએ',\n  'હતું',\n  '.'],\n ['કન્ઝ્યુ',\n  'હેલ્થકેર',\n  'બિઝનેસ',\n  'આગામી',\n  'સમયમાં',\n  'OTC',\n  'અને',\n  'સેન્સોડાઇન',\n  ',',\n  'ઇનો',\n  'જેવી',\n  'ઓરલ',\n  'હેલ્થ',\n  'બ્રાન્ડ્સ',\n  'જેવી',\n  'વૃદ્ધિની',\n  'તકોમાં',\n  'રોકાણ',\n  'કરવાનું',\n  'ચાલુ',\n  'રાખશે',\n  '.'],\n ['તમને',\n  'પોતાની',\n  'મનપસંદ',\n  'કંપની',\n  'માં',\n  'ઈન્ટરવ્યૂ',\n  'માટે',\n  'બોલાવવામાં',\n  'આવી',\n  'શકે',\n  'છે',\n  '.'],\n ['આ',\n  'ક્રાઇમ',\n  'ફિલ્મ',\n  '\"',\n  'વાસ્તવિક',\n  'જીવનના',\n  'દાણચોર',\n  'હાજી',\n  'મસ્તાન',\n  'પર',\n  'આધારિત',\n  'હતી',\n  'જેમાં',\n  'એક',\n  'પોલિસ',\n  'અધિકારી',\n  'અને',\n  'તેનો',\n  'ગેંગ',\n  'લીડર',\n  'ભાઈ',\n  'આમને',\n  'સામને',\n  'આવી',\n  'જાય',\n  'છે',\n  '.',\n  '\"'],\n ['પરંતુ',\n  'આજદિન',\n  'સુધી',\n  'મોદીની',\n  'લોકપ્રિયતાનો',\n  'ગ્રાફ',\n  'સતત',\n  'ઊંચો',\n  'જ',\n  'જઇ',\n  'રહ્યો',\n  'છે',\n  '.'],\n ['પોલીસે',\n  'આ',\n  'મામલે',\n  'ગુનો',\n  'નોંધી',\n  'કાયદેસરની',\n  'કાર્યવાહી',\n  'હાથ',\n  'ધરી',\n  'છે',\n  '.'],\n ['પ્રાપ્ત',\n  'વિગતો',\n  'અનુસાર',\n  ',',\n  'દિગ્વિજય',\n  'સિંહે',\n  'પૂર્વ',\n  'વડા',\n  'પ્રધાન',\n  'મનમોહન',\n  'સિંહ',\n  'માટે',\n  'નાણાકીય',\n  'સંસદીય',\n  'સ્થાયી',\n  'સમિતિમાંથી',\n  'રાજીનામું',\n  'આપી',\n  'દીધું',\n  'છે',\n  '.'],\n ['સરકાર',\n  'દ્વારા',\n  '1',\n  'કરોડથી',\n  'વધુની',\n  'રોકડ',\n  'પર',\n  'આજથી',\n  '2',\n  'ટકા',\n  'TDS',\n  'લગાવવાની',\n  'જાહેરાત',\n  'કરાઈ',\n  'છે',\n  '.'],\n ['બોલીવુડના',\n  'સૌથી',\n  'ક્યૂટ',\n  'કપલમાંના',\n  'એક',\n  'કાર્તિક',\n  'આર્યન',\n  'અને',\n  'સારા',\n  'અલી',\n  'ખાન',\n  'હને',\n  'જુદાં',\n  'થઈ',\n  'ચૂક્યા',\n  'છે',\n  '.'],\n ['વિદેશ',\n  'રાજ્યમંત્રી',\n  'અકબર',\n  'પર',\n  'પ્રથમ',\n  'આરોપ',\n  'વરિષ્ઠ',\n  'પત્રકાર',\n  'પ્રિયા',\n  'રમાનીએ',\n  'લગાવ્યો',\n  'હતો',\n  '.'],\n ['મુંબઈ',\n  '-',\n  'ગોવા',\n  'હાઇવે',\n  'પર',\n  'થયેલા',\n  'અકસ્માતમાં',\n  'ચાર',\n  'જણનાં',\n  'મૃત્યુ'],\n ['ચાલુ', 'રાખો', ',', 'પછી', 'પુનરાવર્તન', 'કરો', '.'],\n ['પ્રધાનમંત્રી',\n  'રાષ્ટ્રપતિ',\n  'ફ્રાંસ્વા',\n  'ઓલાંદેને',\n  'ચંદીગઢ',\n  'અને',\n  'દિલ્હીમાં',\n  'મળશે',\n  '.'],\n ['કેટલાક',\n  'લાકડાના',\n  'ચર્ચ',\n  'થાંભલાઓ',\n  'અને',\n  'ફ્લેગ્સ',\n  'અને',\n  'દિવાલ',\n  'અટકી'],\n ['નોંધઃ',\n  'અંદાજિત',\n  'આઇઇએસ',\n  'ફક્ત',\n  'હાલની',\n  'યોજનાનાં',\n  'સંબંધમાં',\n  'છે',\n  '.'],\n ['પ્રધાનમંત્રીએ',\n  'કહ્યું',\n  ',',\n  'આપણા',\n  'નજીકના',\n  'દરિયાઇ',\n  'પાડોશી',\n  ',',\n  'રાષ્ટ્રપતિ',\n  'શ્રી',\n  'જોકો',\n  'વિડોડોને',\n  'ઇન્ડોનેશિયાના',\n  'રાષ્ટ્રપતિ',\n  'તરીકે',\n  'બીજી',\n  'વાર',\n  'ચૂંટાવા',\n  'બદલ',\n  'સહૃદય',\n  'અભિનંદન',\n  '.'],\n ['સાદ્',\n  'અહેમદ',\n  ',',\n  'નીતુ',\n  'પ્રસાદ',\n  ',',\n  'સહલ',\n  'બી',\n  '.',\n  'અને',\n  'ડેશમોન્ડ',\n  'ઓનયેમચી',\n  'ઓકોચાએ',\n  'તેમના',\n  'પેપર',\n  'જુદા',\n  'જુદા',\n  'વિષયો',\n  'પર',\n  'પ્રસ્તુત',\n  'કર્યા',\n  'હતા',\n  '.'],\n ['ભક્તિકાળના',\n  'સંત',\n  'ઘીસાદાસ',\n  'પણ',\n  'આ',\n  'દિવસે',\n  'જન્મ્યા',\n  'હતા',\n  ',',\n  'તે',\n  'કબીરદાસના',\n  'શિષ્ય',\n  'હતા',\n  '.'],\n ['પ્રધાનમંત્રી',\n  'શ્રી',\n  'નરેન્દ્ર',\n  'મોદીની',\n  'અધ્યક્ષતામાં',\n  'કેન્દ્રીય',\n  'મંત્રીમંડળને',\n  'આંતરરાષ્ટ્રીય',\n  'ઊર્જા',\n  'એજન્સી',\n  '(',\n  'આઈઈએ',\n  ')',\n  'અંતર્ગત',\n  'એડવાન્સ',\n  'મોટર',\n  'ફ્યુઅલ',\n  'ટેકનોલોજી',\n  'સહયોગ',\n  'કાર્યક્રમ',\n  '(',\n  'એએમએફ',\n  'ટીસીપી',\n  ')',\n  'નાં',\n  'સભ્ય',\n  'સ્વરૂપે',\n  'ભારતનાં',\n  'જોડાણ',\n  'વિશે',\n  'જાણકારી',\n  'આપવામાં',\n  'આવી',\n  'છે',\n  '.'],\n ['વૈશ્વિક', 'ભારત'],\n ['અંધાત્રી',\n  'ભારત',\n  'દેશના',\n  'પશ્ચિમ',\n  'ભાગમાં',\n  'આવેલા',\n  'ગુજરાત',\n  'રાજ્યના',\n  'સુરત',\n  'જિલ્લાના',\n  'મહુવા',\n  'તાલુકાનું',\n  'ગામ',\n  'છે',\n  '.'],\n ['જોકે',\n  'અંતિમ',\n  'નિર્ણય',\n  'રાજ્ય',\n  'સરકારો',\n  'પર',\n  'છોડવામાં',\n  'આવ્યો',\n  'છે',\n  '.'],\n ['બાઇબલ',\n  'એ',\n  'જણાવતું',\n  'નથી',\n  'કે',\n  'પૃથ્વી',\n  'અને',\n  'સૂર્યમંડળને',\n  'કેટલાં',\n  'વર્ષ',\n  'થયાં',\n  'છે',\n  '.'],\n ['રાષ્ટ્રપતિ',\n  'ડોનાલ્ડ',\n  'ટ્રમ્પ',\n  'અને',\n  'ડ્રેમોકેટિક',\n  'પક્ષ',\n  'તરફથી',\n  'પૂર્વ',\n  'ઉપરાષ્ટ્રપતિ',\n  'જોબિડેન',\n  'મેદાનમાં',\n  'છે',\n  '.'],\n ['ફિલ્મની', 'કથા', 'પાણીપતના', 'ત્રીજા', 'યુદ્ધ', 'પર', 'આધારિત', 'છે', '.'],\n ['હળદરમાં', 'કરક્યુમિન', 'નામનું', 'તત્ત્વ', 'રહેલું', 'છે', '.'],\n ['દિવસ', 'દરમિયાન', 'ઘાસવાળું', 'ક્ષેત્ર', 'પર', 'જીરાફનું', 'ટોળું', '.'],\n ['રાજેન્દ્ર',\n  'પાલ',\n  'ગૌતમ',\n  'ઉત્તર',\n  '-',\n  'પૂર્વ',\n  'દિલ્હીની',\n  'સીમાપુરી',\n  'વિધાનસભા',\n  'સીટ',\n  'પરથી',\n  'ધારાસભ્ય',\n  'છે',\n  '.'],\n ['કેન્દ્રીય',\n  'મંત્રી',\n  'ગિરિરાજ',\n  'સિંહે',\n  'કહ્યું',\n  ',',\n  \"'\",\n  'હવે',\n  'હિંદૂઓની',\n  'સહનશક્તિની',\n  'હદ',\n  'આવી',\n  'ગઈ',\n  'છે',\n  '.'],\n ['માય', 'ગોડ', '.'],\n ['આમાં',\n  'અમિત',\n  'શાહને',\n  'ગૃહમંત્રી',\n  ',',\n  'નિર્મલા',\n  'સીતારમણને',\n  'નાણા',\n  'અને',\n  'રાજનાથ',\n  'સિંહને',\n  'સંરક્ષણ',\n  'મંત્રી',\n  'બનાવવામાં',\n  'આવ્યા',\n  '.'],\n [\"'\",\n  'મન',\n  'કી',\n  'બાત',\n  \"'\",\n  'માં',\n  'PM',\n  'મોદીએ',\n  'આપી',\n  'પાણી',\n  'બચાવવાની',\n  'સલાહ'],\n ['આ',\n  'પહેલા',\n  'બજરંગ',\n  'પુનિયાએ',\n  'પુરુષ',\n  'ફ્રીસ્ટાઈલના',\n  '૬૫',\n  'કિગ્રા',\n  'વર્ગમાં',\n  'રજત',\n  'ચંદ્રક',\n  'જીત્યો',\n  'હતો',\n  '.'],\n ['કેન્દ્ર',\n  'શાસિત',\n  'પ્રદેશ',\n  'વહીવટીતંત્ર',\n  'અને',\n  'તેના',\n  'સંલગ્ન',\n  'આરોગ્ય',\n  'વિભાગ',\n  'દ્વારા',\n  'તમામ',\n  'પ્રવૃત્તિઓ',\n  'હાથ',\n  'ધરવામાં',\n  'આવી',\n  'રહી',\n  'છે',\n  '.'],\n ['એક્ટર',\n  'અને',\n  'વીજે',\n  'પૂરબ',\n  'કોહલીએ',\n  'પોતાની',\n  'ગર્લફ્રેન્ડ',\n  'લૂસી',\n  'પેટન',\n  'સાથે',\n  'લગ્ન',\n  'કરી',\n  'લીધા',\n  'છે',\n  '.'],\n ['તેમજ',\n  'N95',\n  'માસ્ક',\n  ',',\n  'PPE',\n  'કીટ્સ',\n  'અને',\n  'HCQ',\n  'ટેબલેટની',\n  'ઉપલબ્ધતા',\n  'માટે',\n  'પણ',\n  'મદદ',\n  'કરવામાં',\n  'આવી',\n  'છે',\n  '.'],\n ['સંયોગવશ', 'તેનું', 'નામ', 'તાહિર', 'છે', '.'],\n ['મેજર', 'સંદીપ', 'ઉન્નીકૃષ્ણનન'],\n ['શાહરૂખની', 'છેલ્લી', 'ફિલ્મ', \"'\", 'જીરો', \"'\", 'ફ્લોપ', 'હતી', '.'],\n ['જેની', 'તસવીર', 'વાયરલ', 'થઈ', 'હતી', '.'],\n ['જેમનું',\n  'સ્વાગત',\n  'સીએમ',\n  'વિજય',\n  'રૂપાણી',\n  'અને',\n  'રાજ્યપાલ',\n  'દેવવ્રત',\n  'આચાર્ય',\n  'સ્વાગત',\n  'કરશે',\n  '.'],\n ['હું', 'શાહરુખ', 'ખાનની', 'જેમ', 'બનવા', 'માંગતી', 'હતી', '.'],\n ['મેચમાં',\n  'ન્યૂઝીલેન્ડે',\n  'ટોસ',\n  'જીતીને',\n  'પ્રથમ',\n  'બેટિંગ',\n  'કરવાનો',\n  'નિર્ણય',\n  'લીધો',\n  'હતો',\n  '.'],\n ['દક્ષિણ',\n  'આફ્રિકા',\n  'ટીમઃ',\n  'જીન',\n  'પોલ',\n  'ડ્યુમિનિ',\n  ',',\n  'વાયન',\n  'પાર્નેલ',\n  ',',\n  'ડેવિડ',\n  'મિલર',\n  ',',\n  'ટીમ્બા',\n  'બેવુમા',\n  ',',\n  'એરોન',\n  'ફેંગીસ્કો',\n  ',',\n  'ફાફ',\n  'ડુ',\n  'પ્લેસીસ',\n  ',',\n  'ફરહાન',\n  'બહેર્ડિયન',\n  ',',\n  'કીન્ટન',\n  'દ',\n  'કોક',\n  ',',\n  'કાજિસો',\n  'રબડા',\n  '.'],\n ['ત્યારબાદ',\n  'ટાસ્ક',\n  'ફોર્સ',\n  ',',\n  'નોર્થ',\n  'ઝોન',\n  'ટીમ',\n  ',',\n  'હૈદરાબાદ',\n  'સીટી',\n  'પોલીસે',\n  'ખોવાયેલ',\n  'મહિલાની',\n  'શોધખોળ',\n  'કરવાનું',\n  'બીડું',\n  'ઝડપ્યું',\n  '.'],\n ['તેઓ', 'વાસણોનું', 'ઉત્પાદન', 'અને', 'નિકાસ', 'કરે', 'છે', '.'],\n ['જાકે',\n  'સુપ્રીમ',\n  'કોર્ટના',\n  'નિર્ણયથી',\n  'સુન્ની',\n  'વકફ',\n  'બોર્ડે',\n  'અસંતોષ',\n  'વ્યકત',\n  'કર્યો',\n  'હતો',\n  '.'],\n ['આ',\n  'સમયે',\n  'તેમના',\n  'ફેસબુક',\n  'અને',\n  'ટ્વિટર',\n  'પર',\n  'કરોડો',\n  'ફોલોઅર્સ',\n  'છે',\n  '.'],\n ['ભાજપ', '25', 'શિવસેના', '23', 'બેઠક', 'પર', 'ચૂંટણી', 'લડશે', '.'],\n ['કંપની',\n  'હાલ',\n  'સેલ્સફોર્સ',\n  'ક્વોટ',\n  '-',\n  'ટુ',\n  '-',\n  'કેશ',\n  'એપ્લિકેશન્સ',\n  'માટે',\n  '૪',\n  ',',\n  '૫૦૦થી',\n  'વધુ',\n  'પ્રોજેક્ટ',\n  'માટે',\n  'ક્લાઉડ',\n  'કન્સલ્ટિંગ',\n  ',',\n  'અમલીકરણ',\n  ',',\n  'ડેટાનું',\n  'જોડાણ',\n  ',',\n  'ચેન્જ',\n  'મેનેજમેન્ટ',\n  'અને',\n  'ટ્રેનિંગ',\n  'સર્વિસ',\n  'ક્ષેત્રે',\n  'અગ્રણી',\n  'પ્રોવાઇડર',\n  'અને',\n  'એડવાઇઝર',\n  'છે',\n  '.'],\n ['તબીબી',\n  'ઉપકરણ',\n  '-',\n  'વેન્ટિલેટર્સ',\n  'અને',\n  'પીપીઇની',\n  'ઉપલબ્ધતાઃ',\n  'પર્યાપ્ત',\n  'સંખ્યામાં',\n  'પર્સનલ',\n  'પ્રોટેક્ટિવ',\n  'ઇક્વિપમેન્ટ',\n  '(',\n  'પીપીઇ',\n  ')',\n  ',',\n  'વેન્ટિલેટર્સ',\n  'વગેરેની',\n  'ઉપલબ્ધતા',\n  'કોવિડ',\n  '-',\n  '19',\n  'સામેની',\n  'લડાઈમાં',\n  'મહત્ત્વપૂર્ણ',\n  'બની',\n  'રહેશે',\n  '.'],\n ['અર્થશાસ્ત્ર',\n  'ક્ષેત્રે',\n  'વિલિયમ',\n  'નોર્ડહોસ',\n  ',',\n  'પોલ',\n  'રોમનને',\n  'મળશે',\n  'નોબેલ',\n  'પુરસ્કાર'],\n ['અમિતભા',\n  'બચ્ચન',\n  'અત્યારે',\n  'ફિલ્મ',\n  \"'\",\n  'ઠગ્સ',\n  'ઓફ',\n  'હિંદુસ્તાન',\n  \"'\",\n  'ના',\n  'શુટિંગમાં',\n  'વ્યસ્ત',\n  'છે',\n  '.'],\n ['તાજેતરમાં',\n  'પ્રિયંકા',\n  'ચોપરા',\n  'બર્લિનમાં',\n  'PM',\n  'નરેન્દ્ર',\n  'મોદીને',\n  'મળી',\n  'હતી',\n  '.'],\n ['પગલું', '2', ':', 'ગણતરીના', 'આંકડા', 'બનાવો'],\n ['તેઓ', 'વ્યારાની', 'જનરલ', 'હોસ્પિટલમાં', 'દાખલ', 'થયા', 'હતા', '.'],\n ['કિરેન',\n  'રિજીજુ',\n  ':',\n  'યુવા',\n  'બાબતો',\n  'અને',\n  'રમત',\n  'મંત્રાલય',\n  ',',\n  'લઘુમતી',\n  'બાબતોના',\n  'મંત્રાલયમાં',\n  'રાજ્યકક્ષાના',\n  'મંત્રી'],\n ['આ',\n  'બનાવ',\n  'અંગે',\n  'આણંદ',\n  'શહેર',\n  'પોલીસ',\n  'મથકમાં',\n  'ફરિયાદ',\n  'નોંધાઈ',\n  'છે',\n  '.'],\n ['શું', 'કહ્યું', 'વડાપ્રધાન', 'નરેન્દ્ર', 'મોદીએ', '-'],\n ['વડાપ્રધાન',\n  'નરેન્દ્ર',\n  'મોદીનું',\n  'ચીનના',\n  'પ્રમુખ',\n  'શી',\n  'જિનપિંગે',\n  'ઝીમેને',\n  'ઇન્ટરનેશનલ',\n  'કોન્ફરન્સ',\n  'સેન્ટરમાં',\n  'સ્વાગત',\n  'કર્યું',\n  'હતું',\n  '.'],\n ['ગીતો', 'કર્ણપ્રિય', 'છે', '.'],\n ['તે',\n  'પછીના',\n  'જ',\n  'વર્ષમાં',\n  ',',\n  'પ્રથમ',\n  '-',\n  'કક્ષાની',\n  'ટીમો',\n  'વચ્ચે',\n  'પ્રથમ',\n  'સંપૂર્ણ',\n  '-',\n  'કક્ષાની',\n  'એક',\n  '-',\n  'દિવસીય',\n  'નોક',\n  '-',\n  'આઉટ',\n  'સ્પર્ધા',\n  'જીલેટ',\n  'કપ',\n  'યોજાઇ',\n  ',',\n  'જેમાં',\n  'સસેક્સ',\n  'વિજયી',\n  'રહ્યું',\n  'હતું',\n  '.'],\n ['ઈજાગ્રસ્તોને',\n  'સારવાર',\n  'અર્થે',\n  'સોલા',\n  'સિવિલ',\n  'હોસ્પિટલમાં',\n  'દાખલ',\n  'કરાયા',\n  'છે',\n  '.'],\n ['(',\n  'નીતિવચનો',\n  '૨૩ઃ',\n  '૨૦',\n  '.',\n  'તીતસ',\n  '૨ઃ',\n  '૨',\n  ',',\n  '૩',\n  'વાંચો',\n  '.',\n  ')'],\n ['જોકે',\n  'ઇમરાન',\n  'ખાને',\n  'આ',\n  'પ્રકારની',\n  'વાતોનું',\n  'ખંડન',\n  'કર્યું',\n  'છે',\n  '.'],\n ['પોલીસને', 'આ', 'લાશ', 'એક', 'ખંડેરમાંથી', 'મળી', 'આવી', 'છે', '.'],\n ['આ',\n  'રેન્કિંગમાં',\n  'નોર્વે',\n  '62.07',\n  'એમબીપીએસની',\n  'સરેરાશ',\n  'સ્પીડની',\n  'સાથે',\n  'પહેલા',\n  'નંબરે',\n  'રહ્યું',\n  '.'],\n ['હુ', 'કહો', 'છો', '!'],\n [\"'\",\n  'રોયલ',\n  'ચેલેન્જર્સની',\n  'બેટિંગ',\n  'એબી',\n  'ડી',\n  'વિલિયર્સ',\n  'અને',\n  'વિરાટ',\n  'કોહલી',\n  'પર',\n  'જ',\n  'આધારીત',\n  'છે',\n  '.'],\n ['બાલીંટા',\n  'ગામના',\n  'લોકોનો',\n  'મુખ્ય',\n  'વ્યવસાય',\n  'ખેતી',\n  ',',\n  'ખેતમજૂરી',\n  'તેમ',\n  'જ',\n  'પશુપાલન',\n  'છે',\n  '.'],\n ['શા',\n  'માટે',\n  'અલીગઢ',\n  'મુસ્લિમ',\n  'યુનિવર્સિટી',\n  ',',\n  'જામિયા',\n  'દલિતોને',\n  'અનામત',\n  'પૂરી',\n  'પાડી',\n  'શકતી',\n  'નથી',\n  ':',\n  'યોગી',\n  'આદિત્યનાથ'],\n ['પીએમ',\n  'મોદી',\n  'જે',\n  'કાર્યક્રમમાં',\n  'બોલી',\n  'રહ્યા',\n  'હતા',\n  'તે',\n  'નગર',\n  'વિકાસ',\n  'સાથે',\n  'જોડાયેલી',\n  'સરકારની',\n  'ત્રણ',\n  'મહત્વપૂર્ણ',\n  'યોજનાઓ',\n  'વડાપ્રધાન',\n  'આવાસ',\n  'યોજના',\n  '(',\n  'શહેરી',\n  ')',\n  ',',\n  'અટલ',\n  'મિશન',\n  'ફૉર',\n  'રીજુવેનેશન',\n  'ઓફ',\n  'અરબન',\n  'ટ્રાંસફૉર્મેશન',\n  '(',\n  'અમૃત',\n  ')',\n  'અને',\n  'સ્માર્ટ',\n  'સિટીઝ',\n  'મિશનની',\n  'ત્રીજી',\n  'વર્ષગાંઠ',\n  'પર',\n  'આયોજિત',\n  'કરવામાં',\n  'આવ્યું',\n  'હતું',\n  '.'],\n ['ભારતના',\n  'સૌથી',\n  'ધનિક',\n  'બિઝનેસમેન',\n  'મુકેશ',\n  'અંબાણીની',\n  'દીકરી',\n  'ઈશા',\n  'અંબાણી',\n  'અને',\n  'આનંદ',\n  'પીરામલે',\n  'પ્રભુતામાં',\n  'પગલા',\n  'માંડ્યા',\n  'છે',\n  '.'],\n ['કાકાના',\n  'ચમારીયા',\n  'ભારત',\n  'દેશના',\n  'પશ્ચિમ',\n  'ભાગમાં',\n  'આવેલા',\n  'ગુજરાત',\n  'રાજ્યના',\n  'મધ્ય',\n  'ભાગમાં',\n  'આવેલા',\n  'મહીસાગર',\n  'જિલ્લામાં',\n  'આવેલા',\n  'લુણાવાડા',\n  'તાલુકાનું',\n  'એક',\n  'ગામ',\n  'છે',\n  '.'],\n ['તેઓ', 'ખૂબ', 'ચોક્કસ', 'છે', '.'],\n ['પ્રધાનમંત્રી',\n  'શ્રી',\n  'ડેવિડ',\n  'કેમરુન',\n  'ભારતના',\n  'એક',\n  'સારા',\n  'મિત્ર',\n  'છે',\n  'અને',\n  'અમે',\n  'ભારતવાસીઓને',\n  'પ્રધાનમંત્રીના',\n  'રૂપમાં',\n  'તેમના',\n  'પહેલા',\n  'કાર્યકાળ',\n  'દરમિયાન',\n  'ત્રણ',\n  'ચાર',\n  'વખત',\n  'તેમનું',\n  'સ્વાગત',\n  'કરવા',\n  'માટેનો',\n  'અવસર',\n  'મળેલો',\n  'છે',\n  '.'],\n ['આ', 'માત્ર', 'ભાજપની', 'વોટ', 'પોલિટિક્સ', 'છે', '.'],\n ['આ', 'ઘટના', 'ચતરા', 'જિલ્લાના', 'રાજા', 'તેન્દુઆ', 'ગામની', 'છે', '.'],\n ['પાણી', 'ઉમેરો', 'અને', 'કણક', 'તદ્દન', 'જાડા', 'ભેળવી', '.'],\n ['તેથી',\n  ',',\n  'ગૅલ',\n  'અને',\n  'તેમના',\n  'પતિ',\n  'ડેરિક',\n  'પાસેથી',\n  ',',\n  'હું',\n  'અને',\n  'ગ્વેન',\n  'બાઇબલમાંથી',\n  'અભ્યાસ',\n  'કરવા',\n  'રાજી',\n  'થયાં',\n  '.'],\n ['આ',\n  'હુમલાની',\n  'જવાબદારી',\n  'આતંકવાદી',\n  'સંગઠન',\n  'આઈએસ',\n  '(',\n  'IS',\n  ')',\n  'એ',\n  'લીધી',\n  'છે',\n  '.'],\n ['બેસ્ટ',\n  'એક્ટ્રેસ',\n  '(',\n  'ક્રિટિક્સ',\n  'ચોઈસ',\n  ')',\n  '-',\n  'ભૂમિ',\n  'પેડણેકર',\n  'અને',\n  'તાપસી',\n  'પન્નૂ'],\n ['જે',\n  'બાદ',\n  'આ',\n  'પ્રસ્તાવને',\n  'મંજૂરી',\n  'માટે',\n  'નાણા',\n  'મંત્રાલય',\n  'પાસે',\n  'મોકલવામાં',\n  'આવ્યું',\n  'હતું',\n  '.'],\n ['જવાબ', ':', 'પાતાલ', 'પૂરી'],\n ['દેશનું',\n  'અર્થતંત્ર',\n  'નોટબંધી',\n  'અને',\n  'જીએસટીના',\n  'લીધે',\n  'ડામાડાળો',\n  'થયું',\n  'છે',\n  '.'],\n ['તે', 'ખૂબ', 'જ', 'સરળ', 'પદ્ધતિ', 'વાપરે', 'છે', '.'],\n ['પંજાબ',\n  'અને',\n  'હરિયાણા',\n  'સહિતની',\n  'અન્ય',\n  'વિસ્તારોના',\n  'ખેડૂતો',\n  'છેલ્લા',\n  'ઘણા',\n  'દિવસોથી',\n  'કૃષિ',\n  'બિલ',\n  'સામે',\n  'વિરોધ',\n  'પ્રદર્શન',\n  'કરી',\n  'રહ્યા',\n  'છે',\n  '.'],\n ['પાકિસ્તાની', 'ટીમ', '.'],\n ['આસામમાં',\n  'કોવિડ',\n  '-',\n  '1ની',\n  'કટોકટી',\n  'વચ્ચે',\n  'કેટલાક',\n  'ઇસ્લામિક',\n  'સંગઠનોએ',\n  'રાજ્યમાં',\n  'સમગ્ર',\n  'મુસ્લિમ',\n  'સમાજને',\n  'અપીલ',\n  'કરી',\n  'કે',\n  ',',\n  'શબ',\n  '-',\n  'એ',\n  '-',\n  'બારાત',\n  'ઘરે',\n  'કરો',\n  '.'],\n ['નાણાં',\n  'મંત્રીએ',\n  'પશુપાલન',\n  'અને',\n  'મત્સ્યપાલનની',\n  'વિવિધ',\n  'કામગીરી',\n  'કરતાં',\n  'ખેડૂતોને',\n  'વ્યાજમાં',\n  '2',\n  'ટકા',\n  'માફી',\n  'આપવાની',\n  'જાહેરાત',\n  'કરી',\n  'હતી',\n  ',',\n  'જેમણે',\n  'કિસાન',\n  'ક્રેડિટ',\n  'કાર્ડ',\n  'મારફતે',\n  'લોનનો',\n  'લાભ',\n  'લીધો',\n  'છે',\n  '.'],\n ['ત્યારે',\n  'ગુજરાત',\n  'હાઈકોર્ટેના',\n  'એક્ટિંગ',\n  'ચીફ',\n  'જસ્ટિસ',\n  'તરીકે',\n  'અનંત',\n  'એસ',\n  'દવેની',\n  'નિમણૂક',\n  'કરવામાં',\n  'આવી',\n  '.'],\n ['શા', 'માટે', 'ડુઇટરિંગ', '?'],\n ['સિલિકોન', 'ગ્રાફિક્સ', 'ચિત્ર'],\n ['ત્યાર',\n  'બાદ',\n  'ન્યુ',\n  'ચિરમીરી',\n  'પોન્ડી',\n  'હિલ્સ',\n  ',',\n  'વેસ્ટ',\n  'ચિરમીરી',\n  ',',\n  'ડ્યુમન',\n  'હિલ',\n  'અને',\n  'કોરિયા',\n  'કોલિયરી',\n  'શરૂ',\n  'કરવામાં',\n  'આવી',\n  'હતી',\n  '.'],\n ['ખોલવા', 'માટે', 'ફાઇલો', 'પસંદ', 'કરો'],\n ['બોલિવૂડ',\n  'ડાયરેક્ટર',\n  'અનુરાગ',\n  'કશ્યપ',\n  'ઉપર',\n  'અભિનેત્રી',\n  'પાયલ',\n  'ઘોષે',\n  'જાતીય',\n  'શોષણનો',\n  'આરોપ',\n  'લગાવ્યો',\n  'હતો',\n  '.'],\n ['જેમાં',\n  'તમામ',\n  'મૂળ',\n  'રાજસ્થાનના',\n  'વતની',\n  'હોવાનું',\n  'બહાર',\n  'આવ્યું',\n  'છે',\n  '.'],\n ['\"',\n  'ત્યારબાદ',\n  'તેમણે',\n  'કલકત્તાની',\n  '\"',\n  '\"',\n  'મોર્ટન',\n  'સ્કૂલ',\n  '\"',\n  '\"',\n  'માં',\n  'પ્રવેશ',\n  'મેળવ્યો',\n  '.',\n  '\"'],\n ['દર્શનાબેન', 'મહેતા'],\n ['જેમાં',\n  'ઐશ્વર્યા',\n  'રાય',\n  ',',\n  'અનુષ્કા',\n  'શર્મા',\n  ',',\n  'આલિયા',\n  'ભટ્ટ',\n  'સહિત',\n  'અનેક',\n  'બોલીવુડ',\n  'સેલેબ્સ',\n  'જોડાયા',\n  'હતા',\n  '.'],\n ['તેઓ',\n  'પસંદગીનાં',\n  'લાભાર્થીઓને',\n  'પીએમ',\n  '-',\n  'એસવાયએમ',\n  'કાર્ડનું',\n  'વિતરણ',\n  'પણ',\n  'કરશે',\n  '.'],\n ['અમેરિકન',\n  'રાષ્ટ્રપતિ',\n  'ડોનાલ્ડ',\n  'ટ્રમ્પ',\n  'ફેબ્રુઆરીમાં',\n  'ભારત',\n  'આવશેઃ',\n  'CM',\n  'રૂપાણી'],\n ['તે', 'ફિલ્મનું', 'દિગ્દર્શન', 'રાજકુમાર', 'સંતોષીએ', 'કર્યું', 'હતું', '.'],\n ['ઓસ્ટ્રેલિયા',\n  'ત્રિકોણીય',\n  'શ્રેણીની',\n  'ફાઈનલમાં',\n  'પહેલેથી',\n  'જ',\n  'પ્રવેશી',\n  'ચૂક્યું',\n  'છે',\n  '.'],\n [\"'\",\n  'બિલાવલે',\n  'એ',\n  'પણ',\n  'કહ્યું',\n  'કે',\n  ',',\n  \"'\",\n  'પ્રત્યેક',\n  'રાજનૈતિક',\n  'દળ',\n  'અને',\n  'વેપારી',\n  ',',\n  'શિક્ષક',\n  ',',\n  'ડોક્ટર',\n  'તથા',\n  'મજૂર',\n  'સહિત',\n  'દરેક',\n  'તબક્કાના',\n  'લોકો',\n  'સરકારની',\n  'નીતિઓથી',\n  'નાખુશ',\n  'છે',\n  '.'],\n ['નેહાએ',\n  'બોલિવૂડ',\n  'ઉપરાંત',\n  'તેલુગુ',\n  'અને',\n  'મલયાલમ',\n  'ફિલ્મોમાં',\n  'કામ',\n  'કર્યું',\n  'છે',\n  '.'],\n ['મુકેશ',\n  'અંબાણીના',\n  'પત્ની',\n  'નીતા',\n  'અંબાણી',\n  'મુંબઈ',\n  'ઈન્ડિયનની',\n  'તેમની',\n  'ટીમના',\n  'વિજય',\n  'તેમજ',\n  'પરાજયમાં',\n  'પણ',\n  'ભારે',\n  'ગૌરવપૂર્ણ',\n  'વર્તન',\n  'દ્વારા',\n  'દાખલો',\n  'બેસાડ્યો',\n  'હતો',\n  '.'],\n ['કોણ', 'છે', 'મહુઆ', 'મોઇત્રા', '?'],\n ['આ',\n  'કરારથી',\n  'ભારત',\n  'નવીનીકરણ',\n  'અને',\n  'IP',\n  'એરોસિસ્ટમમાં',\n  'અનુભવનું',\n  'આદાનપ્રદાન',\n  'કરી',\n  'શકશે',\n  'જેનો',\n  'બંને',\n  'પક્ષે',\n  'આંતરપ્રિન્યોર',\n  ',',\n  'રોકાણકાર',\n  'અને',\n  'વેપારને',\n  'પર્યાપ્ત',\n  'લાભ',\n  'થશે',\n  '.'],\n ['શ્રીનગરના',\n  'બાહરી',\n  'વિસ્તારમાં',\n  'સુરક્ષાબળો',\n  'સાથે',\n  'અથડામણમાં',\n  'ત્રણ',\n  'આતંકી',\n  'ઠાર'],\n ['મી', 'છે', 'અને', 'વજન', '80', 'કિલો', 'છે', '.'],\n ['મલાઈકા',\n  'અરોરા',\n  'અને',\n  'અર્જુન',\n  'કપૂર',\n  'આ',\n  'દિવસોમાં',\n  'વિદેશમાં',\n  'વેકેશન',\n  'માણી',\n  'રહ્યા',\n  'છે',\n  '.'],\n ['આ',\n  'અવસર',\n  'પર',\n  'ભાજપના',\n  'કાર્યકારી',\n  'અધ્યક્ષ',\n  'જેપી',\n  'નડ્ડા',\n  'અને',\n  'હરિયાણાના',\n  'મુખ્યમંત્રી',\n  'મનોહર',\n  'લાલ',\n  'ખટ્ટર',\n  'હાજર',\n  'રહ્યા',\n  'હતા',\n  '.'],\n ['વનાર',\n  'ગામના',\n  'લોકોનો',\n  'મુખ્ય',\n  'વ્યવસાય',\n  'ખેતી',\n  ',',\n  'ખેતમજૂરી',\n  'તેમ',\n  'જ',\n  'પશુપાલન',\n  'છે',\n  '.'],\n ['આ',\n  'લગ્નથી',\n  'તેને',\n  'બે',\n  'દીકરીઓ',\n  'શ્રુતિ',\n  'અને',\n  'અક્ષરા',\n  'હસન',\n  'થઇ',\n  '.'],\n ['વાઇબ્રન્ટ', 'બેડરૂમ'],\n ['તે', 'માફિયા', 'ડોન', 'દાઉદ', 'ઇબ્રાહિમ', 'સાથે', 'સંકળાયેલો', 'હતો', '.'],\n ['ફિલ્મને', 'ગૌતમ', 'તિન્નૌરી', 'ડાયરેક્ટ', 'કરી', 'રહ્યા', 'છે', '.'],\n ['અજીમ',\n  'પ્રેમજી',\n  'ફાઉંડેશને',\n  'બેગલુરૂમાં',\n  'અજીમ',\n  'પ્રેમજી',\n  'યુનિવર્સિટી',\n  'પણ',\n  'ખોલી',\n  'છે',\n  '.'],\n ['આ',\n  'પ્રસંગે',\n  'ખાસ',\n  'મહેમાન',\n  'હતા',\n  'ગુજરાતના',\n  'મુખ્યમંત્રી',\n  'શ્રીમાન',\n  'વિજય',\n  'રૂપાણી',\n  '.'],\n ['તમને',\n  'જણાવી',\n  'દઈએ',\n  'કે',\n  'લૉકડાઉનના',\n  'કારણે',\n  'ઘરોથી',\n  'દૂર',\n  'દેશના',\n  'વિવિધ',\n  'શહેરોમાં',\n  'ફસાયેલા',\n  'પ્રવાસી',\n  'મજૂરો',\n  ',',\n  'પર્યટકો',\n  ',',\n  'છાત્રો',\n  'અને',\n  'અન્ય',\n  'લોકોને',\n  'શરતો',\n  'સાથે',\n  'તેમના',\n  'ઘરે',\n  'જવાની',\n  'અનુમતિ',\n  'કેન્દ્રીય',\n  'ગૃહ',\n  'મંત્રાલયે',\n  'આપી',\n  'છે'],\n ['તેથી', 'ભાજપ', 'સાથે', 'મળીને', 'સાજિશ', 'રચી', 'હતી', '.'],\n ['મજબૂત', 'તફાવતો'],\n ['ફોર્બ્સ',\n  'ધનવાન',\n  'યાદીમાં',\n  'પેટીએમના',\n  'સ્થાપક',\n  'વિજય',\n  'શેખર',\n  'શર્મા',\n  'સૌથી',\n  'યુવા',\n  'ભારતીય'],\n ['હું', 'ભારતમાં', 'મોટો', 'થયો', 'છું', '.'],\n ['પ્રધાનમંત્રી',\n  'રાસમુસેન',\n  'આ',\n  'મુલાકાત',\n  'દરમિયાન',\n  '19',\n  'જાન્યુઆરીનાં',\n  'રોજ',\n  'નવી',\n  'દિલ્હીમાં',\n  'ડેનિશ',\n  'કલ્ચરલ',\n  'ઇન્સ્ટિટ્યૂટ',\n  'અને',\n  'ડેનિશ',\n  'દૂતાવાસનાં',\n  'નવા',\n  'ભવનનું',\n  'ઉદઘાટન',\n  'કરશે',\n  '.'],\n ['નાબાર્ડે',\n  'ગયા',\n  'મહિને',\n  '21',\n  'હજાર',\n  'કરોડ',\n  'રૂપિયાની',\n  'વ્યવસ્થા',\n  'કરી',\n  'હતી',\n  '.'],\n ['આ',\n  'ફિલ્મમાં',\n  'કાદર',\n  'ખાન',\n  'કરિશ્માના',\n  'પિતા',\n  'હતા',\n  'અને',\n  'ગોવિંદા',\n  'એ',\n  'જમાઈનો',\n  'રોલ',\n  'કર્યો',\n  'હતો',\n  '.'],\n ['વિદ્યાર્થીઓ', 'માટે', 'થોડી', 'મહેનત', 'કરવી', 'પડશે', '.'],\n ['રૂપિયાના',\n  'સંદર્ભમાં',\n  'માત્ર',\n  'બે',\n  'સ્ટોક્સ',\n  '(',\n  'બજાજ',\n  'ફાઇનાન્સ',\n  'અને',\n  'HUL',\n  ')',\n  '20',\n  'ટકા',\n  'કરતાં',\n  'વધુ',\n  'વળતર',\n  'આપવામાં',\n  'સફળ',\n  'રહ્યા',\n  'છે',\n  '.'],\n ['તમારા', 'ભવિષ્ય', 'માટેની', 'યોજના'],\n ['ગુજરાતને',\n  'સવા',\n  'બે',\n  'કરોડ',\n  'એલઇડી',\n  'બલ્બ',\n  'પ્રસ્થાપિત',\n  'કરીને',\n  'એલઇડી',\n  'બલ્લના',\n  'મામલામાં',\n  'હિન્દુસ્તાનમાં',\n  'નંબર',\n  '1',\n  'સ્થાન',\n  'હાંસલ',\n  'કર્યું',\n  'છે',\n  '.'],\n ['ફિલ્મનું', 'નિર્દેશન', 'સોનાલી', 'બોસ', 'કરી', 'રહી', 'છે', '.'],\n ['CPIના',\n  'ધારાસભ્ય',\n  'જેમ્સ',\n  'મૈથ્યૂએ',\n  'મુખ્યમંત્રીના',\n  'વિધાનસભા',\n  'રજુ',\n  'કરાયેલા',\n  'પ્રસ્તાવનું',\n  'સમર્થન',\n  'કર્યું',\n  '.'],\n ['રાજસ્થાનના',\n  'મુખ્ય',\n  'મંત્રી',\n  'અશોક',\n  'ગેહલોતે',\n  'પણ',\n  'આ',\n  'દુર્ઘટના',\n  'પર',\n  'શોક',\n  'વ્યક્ત',\n  'કર્યો',\n  'હતો'],\n ['આ',\n  'કાર્યક્રમમાં',\n  'વિન્સે',\n  'અને',\n  'શેન',\n  'મેકમોહન',\n  'એક',\n  'શેરી',\n  'યુદ્ધમાં',\n  'પણ',\n  'હતા',\n  ',',\n  'જ્યારે',\n  'એડ્જ',\n  'અને',\n  'ક્રિસ્ટીનને',\n  'હાર્ડી',\n  'બોયઝ',\n  'અને',\n  'ડબલી',\n  'બોયઝને',\n  'બીજી',\n  'મેજ',\n  ',',\n  'નસિરણી',\n  'અને',\n  'ખુરશીની',\n  'સ્પર્ધામાં',\n  'હરાવીને',\n  'WWF',\n  'ટેગ',\n  'ટીમ',\n  'હરીફાઇમાં',\n  'જીતી',\n  'હતી',\n  '.'],\n ['સંજય',\n  'લીલા',\n  'ભંસાલી',\n  'ફિલ્મ',\n  \"'\",\n  'દેવદાસ',\n  \"'\",\n  'બનાવી',\n  'રહયા',\n  'હતા',\n  '.'],\n ['તેનો', 'ઉપયોગ', 'કરવાની', 'યોજના', '.'],\n ['રાષ્ટ્રપતિ',\n  'દ્વારા',\n  'ખેડૂત',\n  'નેતા',\n  'રામ',\n  'શકલ',\n  ',',\n  'લેખક',\n  'અને',\n  'ભાજપના',\n  'નેતા',\n  'રાકેશ',\n  'સિન્હા',\n  ',',\n  'શિલ્પીકાર',\n  'રઘુનાથ',\n  'મહાપાત્ર',\n  'અને',\n  'ક્લાસિકલ',\n  'ડાંસર',\n  'સોનલ',\n  'માનસિંહનું',\n  'નામ',\n  'શામેલ',\n  'છે',\n  '.'],\n ['બંગાળના',\n  'અખાત',\n  'ઉપરથી',\n  'ફૂંકાતા',\n  'ઉત્તર',\n  '-',\n  'પૂર્વીય',\n  'પવનમાં',\n  'પણ',\n  'હલચલ',\n  'વધતી',\n  'દેખાઇ',\n  'રહી',\n  'છે',\n  '.'],\n ['વિદ્યાર્થીઓ', 'અભ્યાસમાં', 'સારું', 'પ્રદર્શન', 'કરી', 'શકશે', '.'],\n ['આ',\n  'સી2સીનો',\n  'આશય',\n  'વિદ્યાર્થીઓ',\n  'અને',\n  'અન્ય',\n  'સહભાગીઓનું',\n  'કૌશલ્ય',\n  'વધારવાનો',\n  'છે',\n  ',',\n  'જે',\n  'ભારતની',\n  'અંદર',\n  'અને',\n  'બહાર',\n  'રોજગારીની',\n  'તકો',\n  'વધારશે',\n  '.'],\n ['અમેરિકા', 'વિશ્વની', 'એકમાત્ર', 'મહાસત્તા', 'છે', '.'],\n ['ફિલ્મમાં',\n  'અનિલ',\n  'કપૂર',\n  'સાથે',\n  'અર્જૂન',\n  'કપૂર',\n  'ડબલ',\n  'રોલમાં',\n  'છે',\n  '.'],\n ['આ', 'મામલે', 'ભારતે', 'ચીનને', 'પણ', 'પછાડ્યું', 'છે', '.'],\n ['ફિલ્મમાં',\n  'સલમાન',\n  'ખાનની',\n  'ઓપોઝિટમાં',\n  'કેટરીના',\n  'કૈફ',\n  'જોવા',\n  'મળશે',\n  '.'],\n ['દિવસેને', 'દિવસે', 'ડેંગ્યુના', 'કેસો', 'વધી', 'રહ્યા', 'છે', '.'],\n ['ફિલ્મ',\n  'પાકિસ્તાની',\n  'મૂળના',\n  'એક',\n  'બ્રિટિશ',\n  'આતંકવાદી',\n  'અહમદ',\n  'ઉમર',\n  'સઇદ',\n  'શેખના',\n  'જીવન',\n  'પર',\n  'બનાવવામાં',\n  'આવી',\n  'છે',\n  '.'],\n ['આ',\n  'એક',\n  'નોન',\n  'બેન્કિંગ',\n  'નાણાકીય',\n  'કંપની',\n  '(',\n  'એનબીએફસી',\n  ')',\n  'છે',\n  '.'],\n ['આઠ',\n  'કાર્યરત',\n  'ટેકનોલોજી',\n  'કેન્દ્રો',\n  ',',\n  'સૂક્ષ્મ',\n  ',',\n  'નાનાં',\n  'અને',\n  'મધ્યમ',\n  'ઉદ્યોગસાહસો',\n  '(',\n  'એમએસએમઈ',\n  ')',\n  'અંતર્ગત',\n  'સ્વાયત્ત',\n  'સંસ્થાઓ',\n  'કોવિડ',\n  '-',\n  '1',\n  'સામેની',\n  'આ',\n  'લડાઈમાં',\n  'તેમની',\n  'ભૂમિકા',\n  'ભજવી',\n  'રહી',\n  'છે',\n  'અને',\n  'યોગદાન',\n  'આપી',\n  'રહી',\n  'છે',\n  '.'],\n ['શું', 'તારણ', 'ઉપરથી', 'દોરવામાં', 'થવો', 'જોઈએ', '?'],\n ['આ', 'ફિલ્મને', 'સોનાલી', 'બોસે', 'ડિરેક્ટ', 'કરી', 'છે', '.'],\n ['લેટિન',\n  'માધ્યમ',\n  'દ્વારા',\n  'અને',\n  'ઓવિડના',\n  'કામ',\n  'દ્વારા',\n  ',',\n  'ગ્રીક',\n  'પૌરાણિક',\n  'કથાઓએ',\n  'મધ્યયુગ',\n  'અને',\n  'અને',\n  'મધ્યયુગ',\n  'પૂર્વેના',\n  'પ્રાચીન',\n  'કાળના',\n  'ઈટાલીના',\n  'કવિઓ',\n  'જેવા',\n  'કે',\n  'પેટ્રાર્ક',\n  ',',\n  'બોકાસિઓ',\n  'અને',\n  'દાંતેને',\n  'પ્રભાવિત',\n  'કર્યા',\n  '.'],\n ['યેલ',\n  'યુનિવર્સિટીમાંથી',\n  'સાયકોલોજી',\n  'અને',\n  'એશિયન',\n  'સ્ટડીઝમાં',\n  'ગ્રેજ્યુએશન',\n  'કરનારી',\n  'ઈશાને',\n  'સ્માર્ટ',\n  'બિઝનેસવુમનનું',\n  'ટેગ',\n  'મળ્યુ',\n  'છે',\n  '.'],\n ['ફિલ્મનું', 'નિર્દેશન', 'સંજય', 'ગુપ્તા', 'કરી', 'રહ્યા', 'છે', '.'],\n ['ત્યાં',\n  'જ',\n  'સૈફ',\n  'અલી',\n  'ખાન',\n  ',',\n  'તબ્બુ',\n  ',',\n  'નીલમ',\n  'અને',\n  'સોનાલી',\n  'બેન્દ્રેને',\n  'આ',\n  'કેસમાં',\n  'નિર્દોષ',\n  'જાહેર',\n  'કરી',\n  'મુક્ત',\n  'કરવામાં',\n  'આવ્યા',\n  'છે',\n  '.'],\n ['સબરીમાલામાં',\n  'મહિલાઓ',\n  'અંગે',\n  'સુપ્રીમનો',\n  'ચુકાદો',\n  \"'\",\n  'અંતિમ',\n  'શબ્દ',\n  \"'\",\n  'નથીઃ',\n  'જસ્ટિસ',\n  'બોબડે'],\n ['આ',\n  'કોન્ફરન્સ',\n  'દરમિયાન',\n  'રાજ્ય',\n  'કક્ષાનાં',\n  'કેન્દ્રીય',\n  'નાણાં',\n  'અને',\n  'કૉર્પોરેટ',\n  'મંત્રી',\n  'શ્રી',\n  'અનુરાગ',\n  'સિંહ',\n  'ઠાકુર',\n  ',',\n  'નાણાં',\n  'સચિવ',\n  'શ્રી',\n  'એ',\n  'બી',\n  'પાંડે',\n  'અને',\n  'આર્થિક',\n  'બાબતોનાં',\n  'વિભાગનાં',\n  'સચિવ',\n  'શ્રી',\n  'અતાનુ',\n  'ચક્રવર્તી',\n  'પણ',\n  'ઉપસ્થિત',\n  'હતા'],\n ['તેમની', 'બે', 'દીકરીઓ', 'છે', 'રાધ્યા', 'અને', 'મિરાયા', 'તખ્તાની', '.'],\n ['ગેલિક',\n  'રમતોમાં',\n  'ગેલિક',\n  'ફુટબૉલ',\n  ',',\n  'હર્લિંગ',\n  ',',\n  'ગેલિક',\n  'હૅન્ડબૉલ',\n  'અને',\n  'રાઉન્ડર્સનો',\n  'સમાવેશ',\n  'થાય',\n  'છે',\n  '.'],\n ['કર્ણાટકના',\n  'ચિક્કાબાલાપુરથી',\n  'આપણી',\n  'સાથે',\n  'શ્રી',\n  'નવીન',\n  'કુમારજી',\n  'જોડાઈ',\n  'રહ્યા',\n  'છે'],\n ['આ',\n  'મંદિર',\n  'ગુજરાતનાં',\n  'કઠિયાવાડમાં',\n  'આવેલું',\n  'ને',\n  'આરબીસમૃદ્રનાં',\n  'કિનારા',\n  'પરનું',\n  'ભવ્ય',\n  'મંદિર',\n  'છે',\n  '.'],\n ['જમીનની',\n  'અંદર',\n  'ઘણું',\n  'ધન',\n  'દબાયેલું',\n  'છે',\n  'તેમાં',\n  'કોઈ',\n  'શંકાને',\n  'સ્થાન',\n  'નથી',\n  '.',\n  'પરંતુ',\n  'તમામ',\n  'પ્રયાસો',\n  'છતાં',\n  'પણ',\n  'પુરાતત્વવાદીઓને',\n  'એલેક્ઝાન્ડ્રિયામાં',\n  'સંગ્રહાલય',\n  'અને',\n  '\"',\n  'પોમ્પીસ',\n  'પીલ્લર',\n  '\"',\n  'ના',\n  'પડોશની',\n  'બહાર',\n  'વધારે',\n  'કંઈ',\n  'જોવા',\n  'મળ્યું',\n  'નથી',\n  '.'],\n ['\"',\n  'ઈશ્વરની',\n  'તથા',\n  'માણસોની',\n  'સાથે',\n  'તેં',\n  'યુદ્ધ',\n  'કર્યું',\n  'છે',\n  ',',\n  'ને',\n  'જય',\n  'પામ્યો',\n  'છે',\n  '.',\n  '\"',\n  '-',\n  'ઉત',\n  '.'],\n ['તસવીરમાં',\n  'મૃણાલ',\n  'ઠાકુર',\n  ',',\n  'એરિકા',\n  ',',\n  'મનીષ',\n  'મલ્હોત્રા',\n  ',',\n  'કરિશ્મા',\n  'તન્ના',\n  ',',\n  'એક્તા',\n  ',',\n  'હિના',\n  ',',\n  'અનુપ્રિયા',\n  'ગોયેન્કા',\n  ',',\n  'રિદ્ધી',\n  'ડોગરા',\n  ',',\n  'મોહિત',\n  'સહગલ',\n  ',',\n  'ઉર્વશી',\n  'ઢોળકિયા',\n  'અને',\n  'આકાંક્ષા',\n  'રંજન',\n  'કપૂર',\n  'એક',\n  'ફ્રેમમાં',\n  'દેખાયા',\n  'હતા',\n  '.'],\n ['જેમાં', 'હું', 'પણ', 'સામેલ', 'છું', '.'],\n ['ત્યારે', 'નેપાળે', 'તેનો', 'વિરોધ', 'કરયો', 'હતો', '.'],\n ['તરીકે', 'ઓળખાશે', '.'],\n ['\"',\n  'સ્થાન',\n  'કે',\n  'જે',\n  '\"',\n  '\"',\n  'નોર્વિચ',\n  'બસ',\n  'સ્ટેશન',\n  '\"',\n  '\"',\n  'વાંચે',\n  'છે',\n  'તે',\n  'પ્રવેશદ્વાર',\n  '.',\n  '\"'],\n ['ઈનકમ',\n  'ટેક્સ',\n  'ફાઈલ',\n  'કરાવવા',\n  'માટે',\n  'આધારકાર્ડ',\n  'અને',\n  'પાનકાર્ડ',\n  'લિંક',\n  'કરાવેલું',\n  'હોવું',\n  'જરૂરી',\n  'છે',\n  '.'],\n ['કાઝીરંગામાં',\n  'રહેતી',\n  'અન્ય',\n  'પક્ષી',\n  'પ્રજાતિઓમાં',\n  'ભારતીય',\n  'વિશાળ',\n  'દૂધરાજ',\n  '(',\n  'હોર્નબિલ',\n  ')',\n  'અને',\n  'પોલું',\n  'દૂધરાજ',\n  ',',\n  'પ્રાચીન',\n  'વિશ્વ',\n  'બેબ્લર',\n  'જેવાકે',\n  'જેર્ડનનો',\n  'બેબ્લર',\n  'અને',\n  'કળણ',\n  'બેબ્લર',\n  ',',\n  'સુઘરીઓ',\n  'જેવીકે',\n  'સામાન્ય',\n  'બયા',\n  'સુધરી',\n  ',',\n  'ભયાતીત',\n  'ફીનની',\n  'સુઘરી',\n  ',',\n  'થ્રશ',\n  'પક્ષી',\n  'જેવાકે',\n  'હોગસનની',\n  'બુશચેટ',\n  'અને',\n  'પ્રાચીન',\n  'વિશ્વ',\n  'વોર્બલર્સ',\n  'જેવાકે',\n  'બરછટ',\n  'ઘાસપંખી',\n  '.'],\n ['કોવિડ',\n  '-',\n  '19',\n  'અંગે',\n  'આરોગ્ય',\n  'અને',\n  'પરિવાર',\n  'કલ્યાણ',\n  'મંત્રાલયમાંથી',\n  'અપડેટ્સ',\n  '.',\n  'ICMRના',\n  'સેરો',\n  '-',\n  'સર્વેલન્સ',\n  'અભ્યાસમાં',\n  'જાણવા',\n  'મળ્યું',\n  'કે',\n  ',',\n  'સર્વેમાં',\n  'આવરી',\n  'લેવામાં',\n  'આવેલા',\n  'લોકોમાંથી',\n  'માત્ર',\n  '0.73',\n  '%',\n  'લોકો',\n  'કોવિડ',\n  '-',\n  '19થી',\n  'ચેપગ્રસ્ત',\n  'છે'],\n ['આ', 'આસન', 'ધ્યાન', 'અને', 'સમાધિમાં', 'સહાયક', 'છે', '.'],\n ['એવું',\n  'પ્રથમવાર',\n  'બન્યું',\n  'છે',\n  'જ્યારે',\n  'ટીમ',\n  'ઇન્ડિયાએ',\n  'ઓસ્ટ્રેલિયામાં',\n  'સીરિઝની',\n  'પ્રથમ',\n  'ટેસ્ટમાં',\n  'વિજય',\n  'મેળવ્યો',\n  'છે',\n  '.'],\n ['જયારે',\n  'નાગાલેન્ડમાં',\n  'એનડીપીપી',\n  'પ્રમુખ',\n  'નિફીયુ',\n  'રીયોને',\n  'ઉત્તરી',\n  'અંગામી',\n  'દ્વિતીય',\n  'વિધાનસભા',\n  'બેઠક',\n  'પર',\n  'બિનહરીફ',\n  'ચૂંટી',\n  'કાઢવામાં',\n  'આવ્યા',\n  'છે',\n  '.'],\n ['જોકે',\n  ',',\n  'તેમની',\n  'વસ્તી',\n  'અમેરિકા',\n  'જેટલી',\n  'ઝડપથી',\n  'વધી',\n  'રહી',\n  'નથી',\n  ',',\n  'જ્યાં',\n  'પશ્ચિમી',\n  'રાષ્ટ્રોમાં',\n  'સૌથી',\n  'વધુ',\n  'જન્મ',\n  'દર',\n  'અને',\n  'ઊંચા',\n  'દરે',\n  'બીજા',\n  'દેશોમાંથી',\n  'કાયમી',\n  'વસાહતિઓના',\n  'આગમન',\n  'પણ',\n  'પૂરક',\n  'કારણો',\n  'છે',\n  '.'],\n ['આ',\n  'એ',\n  'છે',\n  'જેનો',\n  'અમલીકરણ',\n  ',',\n  'ઉત્તરીય',\n  'ચાઇના',\n  'અને',\n  'ભારત',\n  'નદીઓના',\n  'પુનર્વસન',\n  'માટે',\n  'કરી',\n  'રહ્યા',\n  'છે',\n  '.'],\n ['તેનાથી',\n  'વડાપ્રધાન',\n  'નરેન્દ્ર',\n  'મોદી',\n  'અને',\n  'ભાજપ',\n  'પ્રમુખ',\n  'અમિત',\n  'શાહના',\n  'ચૂંટણી',\n  'જીતવાના',\n  'રેકોર્ડમાં',\n  'વધુ',\n  'એક',\n  'છોગું',\n  'ઉમેરાયું',\n  'છે',\n  '.'],\n ['ભાઈઓ',\n  'અને',\n  'બહેનો',\n  ',',\n  '60',\n  'વર્ષની',\n  'ઉંમર',\n  'પછી',\n  ',',\n  'વડીલોને',\n  'એક',\n  'નિશ્ચિત',\n  'રકમ',\n  'પર',\n  ',',\n  'એક',\n  'નિશ્ચિત',\n  'વ્યાજ',\n  'મળે',\n  ',',\n  'તેમનું',\n  'રોકાણ',\n  'સુરક્ષિત',\n  'રહે',\n  ',',\n  'તેની',\n  'માટે',\n  'અમારી',\n  'સરકારે',\n  'પ્રધાનમંત્રી',\n  'વય',\n  'વંદના',\n  'યોજના',\n  'પણ',\n  'શરુ',\n  'કરી',\n  'હતી',\n  '.'],\n ['વિન્ટર', 'પ્રવાસોમાં'],\n ['તેમજ', 'ડો', 'રચેલે', 'જણાવ્યું', 'હતું', '.'],\n ['બોલિવૂડના',\n  'મહાનાયક',\n  'અમિતાભ',\n  'બચ્ચન',\n  'અન્ય',\n  'સ્ટાર્સની',\n  'સરખામણીએ',\n  'સોશિયલ',\n  'મીડિયા',\n  'પર',\n  'વધુ',\n  'એક્ટિવ',\n  'રહે',\n  'છે',\n  '.'],\n ['માર્ટિન', 'લ્યુથર', 'કિંગની', 'હત્યા'],\n ['હાલમાં',\n  'માત્ર',\n  'સંગઠનોને',\n  'જ',\n  'આતંકવાદી',\n  'જાહેર',\n  'કરી',\n  'શકાય',\n  'છે',\n  '.'],\n ['હજુ',\n  'આ',\n  'મામલે',\n  'સુપ્રીમ',\n  'કોર્ટમાં',\n  'સુનાવણી',\n  'થવાની',\n  'બાકી',\n  'છે',\n  '.'],\n ['રોબર્ટ', 'લંડ'],\n ['[', 'પાન', '૧૪', 'પર', 'ચિત્રની', 'ક્રેડીટ', 'લાઈન', ']'],\n ['ચિનોઈથ', 'કહે', 'છે', '.'],\n ['નાયડુની', 'વાત', 'કેમ', 'નથી', 'માની', 'રહ્યા', 'PM', 'મોદી', '?'],\n ['દિલ્હીના',\n  'સીએમ',\n  'અરવિંદ',\n  'કેજરીવાલને',\n  '9.3',\n  'ટકા',\n  ',',\n  'અખિલેશ',\n  'યાદવને',\n  '7',\n  'ટકા',\n  ',',\n  'મમતા',\n  'બેનરજીને',\n  '4.2',\n  'ટકા',\n  'અને',\n  'માયાવતીને',\n  '3.1',\n  'ટકા',\n  'લોકોએ',\n  'પસંદ',\n  'કર્યા',\n  'છે',\n  '.'],\n ['ડરામણી', 'ફિલ્મ', '.'],\n ['\"',\n  'આ',\n  'પહેલા',\n  'સૈફ',\n  'અલી',\n  'ખાન',\n  'અને',\n  'અજય',\n  'દેવગણ',\n  '\"',\n  '\"',\n  'ઓમકારા',\n  '\"',\n  '\"',\n  'ફિલ્મમાં',\n  'બંને',\n  'સાથે',\n  'કામ',\n  'કરી',\n  'ચુક્યા',\n  'છે',\n  '.',\n  '\"'],\n ['રિપબ્લિકન',\n  'ઉમેદવાર',\n  'ડોનાલ્ડ',\n  'ટ્રમ્પ',\n  'અને',\n  'ડેમોક્રેટ',\n  'ઉમેદવાર',\n  'જો',\n  'બાઈડેન',\n  'વચ્ચે',\n  'બરાબરની',\n  'ટક્કર',\n  'છે',\n  '.'],\n ['નવી',\n  'દિલ્હીઃ',\n  'ભારતીય',\n  'રેલવેએ',\n  'શતાબ્દી',\n  'ટ્રેનને',\n  'નવો',\n  'લૂક',\n  'આપવાની',\n  'તૈયારી',\n  'શરૂ',\n  'કરી',\n  'છે',\n  '.'],\n ['અમેરીકી',\n  'પ્રમુખ',\n  'ડોનાલ્ડ',\n  'ટ્રમ્પે',\n  'રાષ્ટ્રીય',\n  'કટોકટી',\n  'જાહેર',\n  'કરી'],\n ['શું', 'સફળ', 'થશે', 'પાકિસ્તાનની', 'ચાલ', '?'],\n ['વિદેશી',\n  'બાબતો',\n  'પર',\n  'તેમને',\n  'અપડેટ',\n  'રાખવા',\n  'માટે',\n  'બનાવવામાં',\n  'આવેલી',\n  'અન્ય',\n  'સમિતિઓમાં',\n  'આનંદ',\n  'શર્મા',\n  'અને',\n  'શશી',\n  'થરૂર',\n  'જેવા',\n  'નેતાઓ',\n  'શામેલ',\n  'છે',\n  '.',\n  'અને',\n  'ત્રીજી',\n  'સમિતિમાં',\n  'ગુલામ',\n  'નબી',\n  'આઝાદ',\n  'અને',\n  'વીરપ્પા',\n  'મોઇલી',\n  'છે',\n  '.'],\n ['પ્રધાનમંત્રી',\n  'શ્રી',\n  'નરેન્દ્ર',\n  'મોદીએ',\n  'ભૂતપૂર્વ',\n  'પ્રધાનમંત્રી',\n  'શ્રી',\n  'ચૌધરી',\n  'ચરણ',\n  'સિંહને',\n  'તેમની',\n  'જન્મ',\n  'જયંતિ',\n  'પર',\n  'શ્રદ્ધાંજલિ',\n  'આપી',\n  'હતી'],\n ['અથવા',\n  '24/7',\n  'ન્યૂઝ',\n  'ચેનલ્સ',\n  'માટે',\n  'ઘણી',\n  'સમસ્યા',\n  'પેદા',\n  'થશે',\n  '.'],\n ['[', 'પાન', '૬', 'પર', 'ચિત્રનું', 'મથાળું', ']'],\n ['વહી', 'ગયેલી', 'વાર્તા', '.', '.', '.'],\n ['ભારતીય', 'સેનાએ', 'આપેલા', '.'],\n ['આપણી',\n  'જોઇ',\n  'શકીએ',\n  'છીએ',\n  'કે',\n  'ડીડીયુજીવાઇ',\n  'અંતર્ગત',\n  'વીજળી',\n  'આપવામાં',\n  'આવેલા',\n  'ગામોની',\n  'વાર્ષિક',\n  'વુદ્ધિ',\n  'આરજીજીવીવાઇથી',\n  'ખુબ',\n  'જ',\n  'ઓછી',\n  'છે'],\n ['પીઢ', 'અભિનેતા', 'વિજુ', 'ખોટેનું', 'નિધન'],\n ['કોલકાતાની',\n  'મેડિકલ',\n  'કોલેજમાં',\n  'લાગી',\n  'ભીષણ',\n  'આગ',\n  ',',\n  '250',\n  'લોકોને',\n  'સુરક્ષિત',\n  'બહાર',\n  'કઢાયા'],\n ['માનસિક', 'તાણ', 'ઘેરી', 'લેશે', '.'],\n ['ભારત', 'વિશ્ર્વનો', 'સૌથી', 'યુવા', 'દેશ', 'છે', '.'],\n ['બાઇબલ',\n  'એ',\n  'પણ',\n  'બતાવે',\n  'છે',\n  'કે',\n  'યહોવાહ',\n  'સત્યના',\n  'પરમેશ્વર',\n  'છે',\n  '.'],\n ['ત્રણ',\n  'વખતથી',\n  'મુખ્યમંત્રી',\n  'બની',\n  'આવતી',\n  'શીલા',\n  'દીક્ષિત',\n  'રાજકારણના',\n  'નવાનિશાળિયા',\n  'અરવિંદ',\n  'કેજરીવાલના',\n  'સામે',\n  'ભારે',\n  'મતોથી',\n  'હારી',\n  'ગઇ',\n  '.'],\n ['લાહોર',\n  'કિલ્લાના',\n  'મામલા',\n  'માટે',\n  'જવાબદાર',\n  'ધ',\n  'વોલ્ડ',\n  'સિટી',\n  'ઓફ',\n  'લાહોર',\n  'ઓથોરિટીએ',\n  'આ',\n  'ઘટના',\n  'પર',\n  'આશ્ચર્ય',\n  'વ્યક્ત',\n  'કર્યું',\n  'હતું',\n  'અને',\n  'ઇદ',\n  'બાદ',\n  'તુરંત',\n  'આ',\n  'પ્રતિમાને',\n  'ઠીક',\n  'કરવાની',\n  'વાત',\n  'કરી',\n  'હતી',\n  '.'],\n ['આજુબાજુના',\n  'કેટલાક',\n  'ટ્રાફિક',\n  'ચિહ્નો',\n  'સાથે',\n  'લીલા',\n  'પર',\n  'ટ્રાફિક',\n  'લાઇટ'],\n ['મોટી',\n  'ઝાંઝરી',\n  'ભારત',\n  'દેશના',\n  'પશ્ચિમ',\n  'ભાગમાં',\n  'આવેલા',\n  'ગુજરાત',\n  'રાજ્યના',\n  'મધ્ય',\n  'ભાગમાં',\n  'આવેલા',\n  'મહીસાગર',\n  'જિલ્લામાં',\n  'આવેલા',\n  'લુણાવાડા',\n  'તાલુકાનું',\n  'એક',\n  'ગામ',\n  'છે',\n  '.'],\n ['આ',\n  'પ્રશ્નપત્ર',\n  'અરુણાચલ',\n  'પ્રદેશ',\n  ',',\n  'મણિપુર',\n  ',',\n  'મેઘાલય',\n  ',',\n  'મિઝોરમ',\n  ',',\n  'નાગાલેન્ડગ',\n  'અને',\n  'સિક્કીમના',\n  'ઉમેદવારો',\n  'માટે',\n  'ફરજિયાત',\n  'નથી',\n  '.',\n  'પ્રશ્નપત્ર',\n  'ર',\n  '.'],\n ['લેક', 'વાન'],\n ['અને', 'મલયકુમાર', '?'],\n ['લોદ્રાણી',\n  'ગામના',\n  'લોકોનો',\n  'મુખ્ય',\n  'વ્યવસાય',\n  'ખેતી',\n  ',',\n  'ખેતમજૂરી',\n  'તેમજ',\n  'પશુપાલન',\n  'છે',\n  '.'],\n ['શૌચના', 'પાંચ', 'પ્રકાર', 'છે', '.'],\n ['ત્યારે', 'તેઓ', 'પશ્ચિમ', 'બંગાળમાં', 'વિપક્ષના', 'નેતા', 'હતા', '.'],\n ['હજારોની',\n  'સંખ્યામાં',\n  'યાત્રીઓ',\n  'અમદાવાદ',\n  'રેલવે',\n  'સ્ટેશન',\n  'બહાર',\n  'ઉભા',\n  'છે',\n  '.'],\n ['પ્રાંતિય',\n  'ભાષાઓમાં',\n  'ઈ',\n  '-',\n  'કોર્સિસ',\n  'ડેવલોપ',\n  'કરાશે',\n  ',',\n  'વર્ચ્યુઅલ',\n  'લેબ',\n  'બનાવવામાં',\n  'આવશે',\n  'અને',\n  'નેશનલ',\n  'એજ્યુકેશનલ',\n  'ટેક્નોલોજી',\n  'ફોરમ',\n  '(',\n  'એનઈટીએફ',\n  ')',\n  'બનાવવામાં',\n  'આવશે',\n  '.'],\n ['હું', 'આ', 'પરિસ્થિતીથી', 'ખુશ', 'નથી', '.'],\n ['વાતોમાં', 'નરીમન', 'ઈરાનીની', 'પત્ની', 'પણ', 'બેઠી', 'હતી', '.'],\n ['પી',\n  'કે',\n  'મિશ્રાએ',\n  'ચીનમાં',\n  'ફાટી',\n  'નીકળેલા',\n  'કોરોના',\n  'વાયરસ',\n  'પર',\n  'ઉચ્ચ',\n  'સ્તરીય',\n  'બેઠકની',\n  'અધ્યક્ષતા',\n  'કરી',\n  'હતી',\n  '.'],\n ['23',\n  'મે',\n  ',',\n  '2017ના',\n  'રોજ',\n  'રાષ્ટ્રપતિ',\n  'લૉરેન્સ',\n  'સ્કૂલ',\n  ',',\n  'ઉટકમંડ',\n  ',',\n  'નીલગિરીના',\n  '159મા',\n  'સ્થાપના',\n  'દિવસ',\n  'સમારોહના',\n  'અવસર',\n  'પર',\n  'સંબોધન',\n  'કરશે',\n  '.'],\n ['કોંગ્રેસના',\n  'નેતા',\n  'રાહુલ',\n  'ગાંધીની',\n  'મુશ્કેલીમાં',\n  'વધારો',\n  'થયો',\n  'છે',\n  '.'],\n ['કમોલિકાના',\n  'નામથી',\n  'પ્રખ્યાત',\n  'ઉર્વશી',\n  'ધોળકિયાએ',\n  \"'\",\n  'બિગ',\n  'બોસ',\n  'સીઝન',\n  '6',\n  \"'\",\n  'જીતી',\n  '.'],\n ['એટલે', 'સોનિયા', 'ગાંધીએ', 'ના', 'પાડી', 'દીધી', 'છે', '.'],\n ['કુતિયાણા',\n  'ભારત',\n  'દેશના',\n  'પશ્ચિમ',\n  'ભાગમાં',\n  'આવેલા',\n  'ગુજરાત',\n  'રાજ્યના',\n  'પોરબંદર',\n  'જિલ્લાના',\n  'કુતિયાણા',\n  'તાલુકાનું',\n  'નગર',\n  'અને',\n  'તાલુકાનું',\n  'મુખ્ય',\n  'મથક',\n  'છે',\n  '.'],\n ['કિવિ', '-', '100', 'ગ્રામ', '.'],\n ['વિશ્વના',\n  'સૌથી',\n  'શક્તિશાળી',\n  '૧૦',\n  'લોકોમાં',\n  'નરેન્દ્ર',\n  'મોદીનો',\n  'સમાવેશ',\n  ':',\n  'ફોર્બ્સ'],\n ['ફ્રાંસ', ',', '૧૨', '/', '૧'],\n ['નકલી', 'ડિગ્રીધારક', 'દિલ્હીના', 'કાયદા', 'પ્રધાન', 'રિમાન્ડ', 'પર'],\n ['આ',\n  'નામ',\n  'સુયોજીત',\n  'કરી',\n  'શકાશે',\n  'જો',\n  'તમને',\n  'ડેસ્કટોપ',\n  'પર',\n  'નેટવર્ક',\n  'સર્વરો',\n  'ચિહ્ન',\n  'માટે',\n  'વૈવિધ્યપૂર્ણ',\n  'નામ',\n  'જોઈએ',\n  '.'],\n ['નવા', 'શહેરમાં', '.'],\n ['ધોનીને', 'મેન', 'ઓફ', 'ધ', 'મેચ', 'જાહેર', 'કરાયો', 'હતો', '.'],\n ['કાર્યભાર',\n  'સંભાળ્યા',\n  'બાદ',\n  'શ્રી',\n  'રિઝવીએ',\n  'કહ્યું',\n  'કે',\n  'આયોગ',\n  'લઘુમતિઓના',\n  'કલ્યાણ',\n  'અને',\n  'વિકાસ',\n  'માટે',\n  'કાર્ય',\n  'કરશે'],\n ['પ્રધાનમંત્રીએ',\n  'રાષ્ટ્રપતિ',\n  'શેખ',\n  'ખલિફા',\n  'બિન',\n  'ઝાયેદ',\n  'અલ',\n  'નાહ્યાનને',\n  'યુએઇના',\n  'રાષ્ટ્રપતિ',\n  'તરીકે',\n  'ફરી',\n  'ચૂંટાવા',\n  'બદલ',\n  'અભિનંદન',\n  'પાઠવ્યા'],\n ['આ',\n  'યોજના',\n  'માં',\n  'લગભગ',\n  'દેશના',\n  '3',\n  'કરોડ',\n  'નાના',\n  'નાના',\n  'વેપારીઓને',\n  'જોડવામાં',\n  'આવશે',\n  '.'],\n ['ફિલ્મને', 'રાજ', 'મહેતાએ', 'ડાયરેક્ટ', 'કરી', 'છે', '.'],\n ['\"', 'એમ', 'આલમનું', 'કહેવું', 'છે', '.'],\n ['એક', 'લશ્કરી', 'જેટ', 'આકાશમાં', 'ઉડ્ડયન', 'ઓવરહેડ'],\n ['એજન્સી', ',', 'નવી', 'દિલ્હી', ':'],\n ['કૃષ્ણ',\n  'જન્માષ્ટમીના',\n  'દિવસે',\n  'શ્રી',\n  'કૃષ્ણના',\n  'જન્મોત્સવને',\n  'ખુબજ',\n  'ધામ',\n  'ધુમથી',\n  'મનાવવામાં',\n  'આવે',\n  'છે',\n  '.'],\n ['તેમણે',\n  'જણાવ્યું',\n  'હતું',\n  'કે',\n  ',',\n  'છઠ્ઠી',\n  'જાહેરાત',\n  'એ',\n  'છે',\n  'કે',\n  'હવે',\n  'કેન્દ્ર',\n  'સરકારનાં',\n  'તમામ',\n  'જાહેર',\n  'સાહસોને',\n  'જીઇએમમાં',\n  'સામેલ',\n  'થવું',\n  'પડશે',\n  '.'],\n ['ભારતીય',\n  'આર્મીએ',\n  'તેનો',\n  'જડબાતોડ',\n  'જવાબ',\n  'આપતા',\n  'પાકિસ્તાની',\n  'ચોકીઓને',\n  'નિશાન',\n  'બનાવી',\n  '.'],\n ['બંગાળઃ',\n  'હિંસાના',\n  'વિરોધમાં',\n  'BJP',\n  'દ્વારા',\n  'મનાવાઇ',\n  'રહ્યો',\n  'છે',\n  'બ્લેક',\n  'ડે'],\n ['પરંતુ', 'ત્યાં', 'હજુ', 'સુધી', 'અન્ય', 'તફાવત', 'છે', '.'],\n ['ક્રિસ',\n  'ગેઇલ',\n  '13',\n  'બોલમાં',\n  '2',\n  'છગ્ગા',\n  'અને',\n  '3',\n  'ચોગ્ગા',\n  'ફટકારી',\n  '29',\n  'રન',\n  'બનાવી',\n  'આઉટ',\n  'થયો',\n  '.'],\n ['મલિહા',\n  'લોધી',\n  'અને',\n  'પાકિસ્તાની',\n  'પ્રતિનિધિમંડળ',\n  'સંયુક્ત',\n  'રાષ્ટ્રમાં',\n  'સતત',\n  'કાશ્મીર',\n  'મુદ્દો',\n  'ઉઠાવતા',\n  'રહ્યા',\n  'છે',\n  '.'],\n ['હિમાચલ',\n  'પ્રદેશની',\n  'ચારેય',\n  'સીટ',\n  'પર',\n  'બીજેપીએ',\n  'જીત',\n  'હાંસલ',\n  'કરી',\n  'છે',\n  '.'],\n ['દેશમાં',\n  '13',\n  'નવા',\n  'એઈમ્સની',\n  'જાહેરાત',\n  'કરવામાં',\n  'આવી',\n  'છે',\n  'જેમાં',\n  'આઠ',\n  'પર',\n  'કામ',\n  'શરુ',\n  'કરી',\n  'દેવામાં',\n  'આવ્યું',\n  'છે',\n  '.'],\n ['તો', 'જુઓ', 'આ', '10', 'વેબસાઈટ્સ'],\n ['UK',\n  'કોર્ટને',\n  'પણ',\n  'આ',\n  'મામલે',\n  'માહિતીગાર',\n  'કરવામાં',\n  'આવી',\n  'હતી',\n  '.'],\n ['ક્લાસિક', ',', 'ક્લચ', 'અથવા', 'રેટિક્યૂલ', '?'],\n ['મૃતકોમાં', 'મોટાભાગે', 'બિહાર', 'અને', 'બંગાળના', 'લોકો', 'છે', '.'],\n ['આ', 'છે', 'રાજસ્થાન', 'કોંગ્રેસના', 'અધ્યક્ષ', 'સચિન', 'પાયલટ', '.'],\n ['પોલીસે',\n  'સમગ્ર',\n  'કેસની',\n  'ફરિયાદ',\n  'નોંધી',\n  'વધુ',\n  'તપાસ',\n  'હાથ',\n  'ધરી',\n  'છે',\n  '.'],\n ['એબી',\n  '-',\n  'એનએચપીએમ',\n  'તમામ',\n  'લક્ષિત',\n  'લાભાર્થીઓને',\n  'આવરી',\n  'લેવાનાં',\n  'ઉદ્દેશ',\n  'સાથે',\n  'તમામ',\n  'રાજ્યો',\n  '/',\n  'કેન્દ્રશાસિત',\n  'પ્રદેશોમાં',\n  'શરૂ',\n  'કરવામાં',\n  'આવશે',\n  '.'],\n ['હિમા',\n  '400',\n  'મીટર',\n  'ફાઈનલના',\n  'પોતાના',\n  'વર્ગમાં',\n  'બીજા',\n  'નંબરે',\n  'રહી',\n  'અને',\n  'સિલ્વર',\n  'મેડલ',\n  'પોતાના',\n  'નામે',\n  'કર્યો',\n  '.'],\n ['મધ્યપ્રદેશના',\n  'રાજ્યપાલ',\n  'આનંદીબેન',\n  'પટેલે',\n  'તેમને',\n  'હોદ્દા',\n  'અને',\n  'ગુપ્તતતાના',\n  'શપથ',\n  'લેવડાવ્યા',\n  'હતા',\n  '.'],\n ['\"',\n  'ફોર્ડ',\n  'વેસ્ટર્ન',\n  ',',\n  '\"',\n  '\"',\n  'ધ',\n  'ફ્રિસ્કો',\n  'કિડ',\n  '\"',\n  '\"',\n  '(',\n  '1979',\n  ')',\n  'માં',\n  'જીન',\n  'વાઇલ્ડર',\n  'સાથે',\n  'સહઅભિનેતા',\n  'પણ',\n  'હતો',\n  'અને',\n  'તેમાં',\n  'તેણે',\n  'ખુલ્લા',\n  'દિલના',\n  'એક',\n  'બેન્ક',\n  'લૂંટારાની',\n  'ભૂમિકા',\n  'ભજવી',\n  'છે',\n  '.',\n  '\"'],\n ['પાંચમી', 'વિકેટ', 'બેન', 'સ્ટોક્સની', 'પડી', '.'],\n ['આ',\n  'ફિલ્મમાં',\n  'તેણે',\n  'રાજા',\n  'રાવલ',\n  'રતન',\n  'સિંહનું',\n  'પાત્ર',\n  'ભજવ્યું',\n  'હતું',\n  '.'],\n ['ચૂંટણી',\n  'પંચે',\n  'જણાવ્યુ',\n  'કે',\n  'અરુણાચલ',\n  'પ્રદેશ',\n  '-',\n  '1',\n  ',',\n  'બિહાર',\n  '-',\n  '5',\n  ',',\n  'છત્તીસગઢ',\n  '-',\n  '1',\n  ',',\n  'અસમ',\n  '-',\n  '4',\n  ',',\n  'ગુજરાત',\n  '-',\n  '4',\n  ',',\n  'હિમાચલ',\n  'પ્રદેશ',\n  '-',\n  '2',\n  ',',\n  'કર્ણાટક',\n  '-',\n  '15',\n  ',',\n  'કેરળ',\n  '-',\n  '5',\n  ',',\n  'મધ્ય',\n  'પ્રદેશ',\n  '-',\n  '1',\n  ',',\n  'મેઘાલય',\n  '-',\n  '1',\n  ',',\n  'ઓડિશા',\n  '-',\n  '1',\n  ',',\n  'પુડુચેરી',\n  '-',\n  '1',\n  ',',\n  'પંજાબ',\n  '-',\n  '4',\n  ',',\n  'રાજસ્થાન',\n  '-',\n  '2',\n  ',',\n  'સિક્કિમ',\n  '-',\n  '3',\n  ',',\n  'તમિલનાડુ',\n  '-',\n  '2',\n  ',',\n  'તેલંગાના',\n  '-',\n  '1',\n  'અને',\n  'ઉત્તરપ્રદેશ',\n  '-',\n  '11ની',\n  '64',\n  'સીટો',\n  'માટે',\n  'પેટાચૂંટણી',\n  '21',\n  'ઓક્ટોબરે',\n  'થશે',\n  'જ્યારે',\n  'મતોની',\n  'ગણતરી',\n  '24',\n  'ઓક્ટોબરે',\n  'થશે'],\n ['લતા',\n  'મંગેશકરને',\n  'બ્રીચ',\n  'કેન્ડી',\n  'હોસ્પિટલમાં',\n  'દાખલ',\n  'કરવામાં',\n  'આવ્યા',\n  'છે',\n  '.'],\n ['આ', 'ફિલ્મ', 'અભિષેક', 'કપૂર', 'બનાવી', 'રહ્યા', 'છે', '.'],\n ['બંને', 'ઉચ્ચ', 'શિક્ષિત', 'છે', '.'],\n ['કૉન્ગ્રેસને', 'માત્ર', 'બે', 'સીટ', 'મળી', 'છે', '.'],\n ['રામાયણમાં',\n  'ભગવાન',\n  'રામનું',\n  'પાત્ર',\n  'અરુણ',\n  'ગોવિલે',\n  'ભજવ્યું',\n  'હતું',\n  '.'],\n ['ફિલ્મનું', 'નિર્દેશન', 'રાજ', 'મહેતાએ', 'કર્યું', 'છે', '.'],\n ['હાલ', 'વૉલમાર્ટના', 'ભારતમાં', '21', 'સ્ટોર', 'છે', '.'],\n ['પણ', 'મોટી', 'દુર્ઘટના', 'સહેજમાં', 'ટળી', 'હતી', '.'],\n ['પોલોક', 'કોઈ', 'જવાબ', 'હતો', '.'],\n ['>', 'ન્યૂયોર્કમાં', 'ગોળીબારમાં', '4', 'લોકોના', 'મોત', ',', '3', 'ઘાયલ'],\n ['રમત',\n  'ગમત',\n  'એ',\n  'શારીરિક',\n  'સક્ષમતા',\n  ',',\n  'માનસિક',\n  'સતર્કતા',\n  'અને',\n  'વ્યક્તિત્વ',\n  'વિકસાવવાની',\n  'બાબત',\n  'છે',\n  '.',\n  'ભારતને',\n  'અદભૂત',\n  'રમત',\n  'પ્રતિભાના',\n  'આશીર્વાદ',\n  'છે',\n  '.'],\n ['સેમસંગ',\n  'અને',\n  'હ્યુઆવેઇ',\n  'જેવી',\n  'બ્રાન્ડ્સ',\n  'ન્યૂ',\n  'રિવર્સ',\n  'વાયરલેસ',\n  'ચાર્જિંગ',\n  'ટેક્નોલોજીનો',\n  'પ્રયોગ',\n  'કરી',\n  'રહ્યા',\n  'છે',\n  ',',\n  'જે',\n  'ફોનને',\n  'ટર્ન',\n  'કરતાં',\n  'ચાર્જિંગ',\n  'પેડમાં',\n  'ફેરવાય',\n  'જાય',\n  'છે',\n  '.'],\n ['કાનૂની', 'નિયમના', '.'],\n ['લિપલૉક',\n  '/',\n  'ક્લબમાં',\n  'કાર્તિક',\n  'આર્યનને',\n  'લિપલૉક',\n  'કરતી',\n  'જોવા',\n  'મળી',\n  'સારા',\n  'અલી',\n  'ખાન'],\n ['ધાંધલ',\n  'દરમિયાન',\n  'રાજ્યના',\n  'નાણાં',\n  'પ્રધાન',\n  'નીતિન',\n  'પટેલે',\n  'શંકરસિંહ',\n  'વાઘેલા',\n  'સહિત',\n  'કોંગ્રેસના',\n  'વિધાનસભ્યોના',\n  'નામ',\n  'દઈને',\n  'તેમને',\n  'સસ્પેન્ડ',\n  'કરવાનો',\n  'પ્રસ્તાવ',\n  'રજૂ',\n  'કર્યો',\n  'હતો',\n  '.'],\n ['સાથિયામાં',\n  'ચાર',\n  'દિશાઓ',\n  'હોય',\n  'છે',\n  'પૂર્વ',\n  ',',\n  'પશ્ચિમ',\n  ',',\n  'ઉત્તર',\n  'અને',\n  'દક્ષિણ',\n  '.'],\n ['કેનેરા', 'બેન્ક', ',', 'સિન્ડીકેટ', 'બેન્ક'],\n ['રાજ્ય',\n  'કક્ષાના',\n  'કેન્દ્રીય',\n  'જહાજ',\n  'તથા',\n  'રસાયણ',\n  'અને',\n  'ખાતર',\n  'મંત્રી',\n  'શ્રી',\n  'મનસુખ',\n  'માંડવિયાએ',\n  'કહ્યું',\n  'છે',\n  'કે',\n  ',',\n  'કોવિડ',\n  '-',\n  '19',\n  'સ્થિતિમાં',\n  'જન',\n  'ઔષધિ',\n  'કેન્દ્રો',\n  'મહત્ત્વપૂર્ણ',\n  'ભૂમિકા',\n  'ભજવી',\n  'રહ્યાં',\n  'છે',\n  ',',\n  'કારણ',\n  'કે',\n  'દરરોજ',\n  '6000',\n  'જન',\n  'ઔષધિ',\n  'કેન્દ્રોની',\n  'મુલાકાત',\n  'આશરે',\n  '10',\n  'લાખ',\n  'લોકો',\n  'વાજબી',\n  'કિંમતની',\n  'ગુણવત્તાયુક્ત',\n  'દવાઓ',\n  'ખરીદવા',\n  'માટે',\n  'લઈ',\n  'રહ્યાં',\n  'છે',\n  '.'],\n ['આવા', 'લોકો', 'માટે', 'ભારતમાં', 'કોઈ', 'સ્થાન', 'નથી', '.'],\n ['ખાડિયા',\n  '-',\n  'જમાલપુર',\n  'બેઠક',\n  'ઉપર',\n  'ભાજપના',\n  'વર્તમાન',\n  'ધારાસભ્ય',\n  'ભૂષણ',\n  'ભટ્ટને',\n  'કોંગ્રેસના',\n  'ઈમરાન',\n  'ખેડાવાલાએ',\n  'પરાજય',\n  'આપ્યો',\n  'છે',\n  '.'],\n ['તે', 'પછી', 'કેસ', 'સુપ્રીમ', 'કોર્ટમાં', 'પહોંચ્યો', '.'],\n ['અમદાવાદમાં', 'વાઈબ્રન્ટ', 'નવરાત્રી'],\n ['ભાજપ', 'સરકારે', 'આમાંથી', 'રૂ', '.'],\n ['હસ્તીનાપુરના',\n  'માર્ગે',\n  'જતાં',\n  '-',\n  'પાંડુરાજાનો',\n  'મદ્રના',\n  'રાજા',\n  'શલ્યની',\n  'સેના',\n  'સાથે',\n  'સંપર્ક',\n  'થયો',\n  '.'],\n ['સિદ્ધાંત',\n  '8',\n  '.',\n  'આંકડાકીય',\n  'ઢાંચામાં',\n  'સાતત્ય',\n  'અને',\n  'કાર્યક્ષમતા',\n  'મેળવવા',\n  'માટે',\n  'વિવિધ',\n  'દેશોની',\n  'આંકડાકીય',\n  'સંસ્થાઓ',\n  'વચ્ચે',\n  'સંકલન',\n  'જરૂરી',\n  'છે',\n  '.'],\n ['દાદીનું', 'અવસાન', 'થયું', '.'],\n ['આરબીઆઇ', 'દ્વારા', 'નવી', 'રૂા', '.'],\n ['Nextસરકારે',\n  'કહ્યુંઃ',\n  'NIA',\n  'બિલ',\n  'રાષ્ટ્રહિતમાં',\n  ',',\n  'કોંગ્રેસે',\n  'કહ્યું',\n  ',',\n  'ભારતને',\n  \"'\",\n  'પોલીસ',\n  'સ્ટેટ',\n  \"'\",\n  'માં',\n  'ફેરવવાનો',\n  'પ્રયાસ'],\n ['શું', 'છે', 'મોલ્ડિંગ', 'ઓફ', 'રિલીફ', '?'],\n ['તો',\n  'અનુરાગ',\n  'કશ્યપે',\n  'પાયલ',\n  'ઘોષ',\n  'દ્વારા',\n  'લગાવવામાં',\n  'આવેલા',\n  'તમામ',\n  'આક્ષેપોને',\n  'પાયાવિહોણા',\n  'ગણાવ્યા',\n  'છે',\n  '.'],\n ['રવી',\n  '2020',\n  '-',\n  '21ની',\n  'મોસમમાં',\n  'ટેકાના',\n  'ભાવની',\n  'યોજના',\n  '(',\n  'PSS',\n  ')',\n  'અંતર્ગત',\n  'કર્ણાટક',\n  ',',\n  'આંધ્રપ્રદેશ',\n  ',',\n  'તેલંગાણા',\n  ',',\n  'રાજસ્થાન',\n  ',',\n  'મહારાષ્ટ્ર',\n  ',',\n  'ઉત્તરપ્રદેશ',\n  'અને',\n  'હરિયાણામાં',\n  'ખેડૂતો',\n  'પાસેથી',\n  'લઘુતમ',\n  'ટેકાના',\n  'ભાવે',\n  '(',\n  'MSP',\n  ')',\n  'દાળ',\n  'અને',\n  'તેલીબિયાની',\n  'ખરીદીની',\n  'કામગીરી',\n  'ચાલી',\n  'રહી',\n  'છે',\n  '.'],\n ['સૌરવ',\n  'ગાંગુલીની',\n  'આગેવાની',\n  'હેઠળની',\n  'ટીમ',\n  'ઈન્ડિયાએ',\n  'રોમાંચક',\n  'મેચમાં',\n  'ઇંગ્લેન્ડને',\n  'હરાવીને',\n  'ફાઈનલનો',\n  'ખિતાબ',\n  'મેળવ્યો',\n  'હતો',\n  '.'],\n ['આ',\n  'હુમલાની',\n  'જવાબદારી',\n  'લશ્કર',\n  '-',\n  'એ',\n  '-',\n  'તૈયબાએ',\n  'સ્વીકારી',\n  'હતી',\n  '.'],\n ['ડિમાન્ડ', 'અત્યારે', 'ઓછી', 'છે', '.'],\n ['તે',\n  'રેન્જર્સની',\n  'પ્રથમ',\n  'એશિયન',\n  'આંતરરાષ્ટ્રીય',\n  'ફૂટબોલર',\n  'પણ',\n  'છે',\n  '.'],\n ['દણોલી',\n  'ગામના',\n  'લોકોનો',\n  'મુખ્ય',\n  'વ્યવસાય',\n  'ખેતી',\n  ',',\n  'ખેતમજૂરી',\n  'તેમ',\n  'જ',\n  'પશુપાલન',\n  'છે',\n  '.'],\n ['ચંદીગઢઃ',\n  'રાજ્યમાં',\n  '256',\n  'નવા',\n  'દર્દીઓ',\n  'નોંધાયા',\n  'હોવાથી',\n  'રાજ્યમાં',\n  'કોવિડ',\n  '-',\n  '1ના',\n  'કુલ',\n  'નોંધાયેલા',\n  'કેસનો',\n  'આંકડો',\n  '8,856',\n  'થઇ',\n  'ગયો',\n  'છે',\n  'જ્યારે',\n  'હાલમાં',\n  'સક્રિય',\n  'કેસની',\n  'સંખ્યા',\n  '2884',\n  'છે',\n  '.'],\n ['ભારતે', 'ખૂબ', 'મજબૂત', 'શરૂઆત', 'કરી', 'છે', '.'],\n ['પણ', 'ભારતના', 'વીરે', 'હાર', 'નહિ', 'માની', '.'],\n ['સત્યાનો', 'પતિ', 'અજય', 'દુર્ગુણો', 'અને', 'વિકૃતિનો', 'માણસ', 'છે', '.'],\n ['મોટેરા',\n  'સ્ટેડિયમને',\n  'નરેન્દ્ર',\n  'મોદી',\n  'સ્ટેડિયમ',\n  'નામ',\n  'અપાયું',\n  'છે',\n  '.'],\n ['નવી',\n  'દિલ્હીઃ',\n  'ભારતીય',\n  'ઓલિમ્પિક',\n  'સંઘ',\n  '(',\n  'IOA',\n  ')',\n  'દ્વારા',\n  'કોમનવેલ્થ',\n  'કૌભાંડના',\n  'આરોપી',\n  'નેતાઓ',\n  'સુરેશ',\n  'કલમાડી',\n  'અને',\n  'અભય',\n  'ચૌટાલાને',\n  'આજીવન',\n  'અધ્યક્ષ',\n  'બનાવવા',\n  'સામે',\n  'કેન્દ્ર',\n  'સરકારે',\n  'કડક',\n  'વલણ',\n  'અપનાવ્યું',\n  'છે',\n  '.'],\n ['મધ્યપ્રદેશમાં',\n  'આવેલું',\n  'આ',\n  'ઓમકારેશ્વર',\n  'જ્યોતિર્લીંગ',\n  'નર્મદા',\n  'નદીના',\n  'કિનારે',\n  'આવેલું',\n  'છે',\n  '.'],\n ['બ્રિટનમાં',\n  'ભારત',\n  'ત્રીજો',\n  'સૌથી',\n  'મોટો',\n  'રોકાણકાર',\n  'દેશ',\n  'છે',\n  'અને',\n  'ભારતમાં',\n  'જી20',\n  'રોકાણકારમાં',\n  'બ્રિટન',\n  'સૌથી',\n  'મોટો',\n  'રોકાણકાર',\n  'દેશ',\n  'છે',\n  '.'],\n ['પરંતુ',\n  'ગુજરાતના',\n  'પૂર્વ',\n  'આઈપીએસ',\n  'સંજીવ',\n  'ભટ્ટ',\n  'સરકારની',\n  'સામે',\n  'હોવાને',\n  'કારણે',\n  'જામનગર',\n  'કસ્ટોડિયલ',\n  'કેસમાં',\n  'એમને',\n  'આજીવન',\n  'કારાવાસની',\n  'સજા',\n  'થઈ',\n  'છે',\n  '.'],\n ['કાશરપુરા',\n  'કંપો',\n  'ગામના',\n  'લોકોનો',\n  'મુખ્ય',\n  'વ્યવસાય',\n  'ખેતી',\n  ',',\n  'ખેતમજૂરી',\n  'તેમ',\n  'જ',\n  'પશુપાલન',\n  'છે',\n  '.'],\n ['ઉપરાંત',\n  'બ્લૂ',\n  'ડાર્ટે',\n  'આશરે',\n  '14',\n  'એપ્રિલથી',\n  '23',\n  'એપ્રિલ',\n  ',',\n  '2020',\n  'વચ્ચે',\n  'ગુઆંગ્ઝોથી',\n  'આશરે',\n  '86',\n  'ટન',\n  'તબીબી',\n  'પુરવઠાને',\n  'લાવવામાં',\n  'આવ્યો',\n  'છે'],\n ['ચાંદની', 'ચોક', 'ટુ', 'ચાઇના'],\n ['બાઇકોનો', 'એક', 'ટોળું', 'કર્બ', 'પર', 'જતી', 'રહે', 'છે'],\n ['કાલા',\n  'લખીમપુર',\n  'જિલ્લામાં',\n  'ત્રણ',\n  'લાખથી',\n  'વધારે',\n  'લોકો',\n  'પૂરના',\n  'સકંજામાં',\n  'આવી',\n  'ગયા',\n  'છે',\n  '.'],\n ['બાંદ્રા',\n  'પોલિસે',\n  'માંગી',\n  'યશરાજ',\n  'ફિલ્મ્સ',\n  'અને',\n  'સુશાંત',\n  'સિંહ',\n  'રાજપૂત',\n  'વચ્ચેના',\n  'કૉન્ટ્રાક્ટની',\n  'કૉપી'],\n ['આ',\n  'સમજૂતી',\n  'કરાર',\n  'પર',\n  'સિંગાપોરના',\n  'પ્રધાનમંત્રીની',\n  'આગામી',\n  'ચોથીથી',\n  'સાતમી',\n  'ઓક્ટોબર',\n  ',',\n  '2016',\n  'દરમિયાનની',\n  'ભારતની',\n  'મુલાકાત',\n  'વેળાએ',\n  'હસ્તાક્ષર',\n  'કરવામાં',\n  'આવશે',\n  '.'],\n ['ખરીફ',\n  'પાકની',\n  'માર્કેટિંગ',\n  'મોસમ',\n  '2020',\n  '-',\n  '21',\n  'માટે',\n  'લઘુતમ',\n  'ટેકાના',\n  'ભાવ',\n  '(',\n  'MSP',\n  ')',\n  'વધારવામાં',\n  'આવ્યા'],\n ['તેમના', 'સેમ્પલો', 'લીધા', 'છે', '.'],\n ['આ',\n  'ફિલ્મમાં',\n  'સલમાન',\n  'ખાનની',\n  'સાથે',\n  'અભિનેત્રી',\n  'તરીકે',\n  'સોનાક્ષી',\n  'સિંહા',\n  'જ',\n  'છે',\n  '.'],\n ['જેમાં', '5', 'પોલીસ', 'જવાનોનો', 'પણ', 'સમાવેશ', 'થાય', 'છે', '.'],\n ['ન્યુઝીલેન્ડ',\n  'ટીમઃ',\n  'એમજે',\n  'ગુપટીલ',\n  ',',\n  'ટ્રેન્ટ',\n  'બોલ્ટ',\n  ',',\n  'કેન',\n  'વિલિયમસન',\n  ',',\n  'કોલિન',\n  'ડી',\n  'ગ્રાન્ડહોમ',\n  ',',\n  'કોલિન',\n  'મુનરો',\n  ',',\n  'સિંઘ',\n  'સોઢી',\n  'નામનાં',\n  ',',\n  'બેન',\n  'વ્હીલર',\n  ',',\n  'મિસલ',\n  'સેંથર',\n  ',',\n  'ટોમ',\n  'બ્રુસ',\n  ',',\n  'ગ્લેન',\n  'ફિલિપ્સ',\n  ',',\n  'સેઠ',\n  'રાન્સ'],\n ['કેલિફોર્નિયા', 'ઈન્સ્ટિટ્યુટ', 'ઓફ', 'ટેકનોલોજી'],\n ['અશ્વિન',\n  'અને',\n  'પંત',\n  'ઉપરાંત',\n  'ભારતનાં',\n  'મોહમ્મદ',\n  'સિરાજ',\n  'અને',\n  'ટી',\n  '.',\n  'નટરાજન',\n  'પણ',\n  'આ',\n  'પુરસ્કારની',\n  'રેસમાં',\n  'છે',\n  '.'],\n ['કાશ્મીર',\n  'ઘાટીના',\n  '10',\n  'જિલ્લામાં',\n  'કર્ફ્યુ',\n  'લાગાવી',\n  'દેવામાં',\n  'આવ્યું',\n  '.'],\n ['તમારે',\n  'લાંબા',\n  'ગાળામાં',\n  'નિયમિત',\n  'રીતે',\n  'રોકાણ',\n  'કરવાનું',\n  'રહેશે',\n  '.'],\n ['સોનમ',\n  'કપૂર',\n  'પણ',\n  'ફિલ્મના',\n  'દૃશ્યોમાં',\n  'સારા',\n  'લાગી',\n  'રહ્યાં',\n  'છે',\n  '.'],\n ['આ',\n  'મામલાની',\n  'સુનાવણી',\n  'ચીફ',\n  'જસ્ટિસ',\n  'રંજન',\n  'ગોગોઈ',\n  ',',\n  'જસ્ટિસ',\n  'એસએ',\n  'બોબડે',\n  ',',\n  'ડીવાય',\n  'ચંદ્રચૂડ',\n  ',',\n  'અશોક',\n  'ભૂષણ',\n  'અને',\n  'અબ્દુલ',\n  'નઝીરે',\n  'કરી',\n  'હતી',\n  '.'],\n ['આફ્રિદી',\n  ',',\n  'ઈમરાન',\n  'અને',\n  'બાજવા',\n  'જેવા',\n  'જોકર',\n  'ભારત',\n  'અને',\n  'વડાપ્રધાન',\n  'નરેન્દ્ર',\n  'મોદી',\n  'માટે',\n  'ઝેર',\n  'જ',\n  'ઓકી',\n  'શકે',\n  'છે',\n  'જેનાથી',\n  'પાકિસ્તાનના',\n  'લોકોને',\n  'મૂર્ખ',\n  'બનાવતા',\n  'રહે',\n  'પણ',\n  'નિર્ણયના',\n  'દિવસે',\n  'કાશ્મીર',\n  'નહીં',\n  'મળે',\n  '!'],\n ['નિર્માતાઃ', 'ફ્રાઈડે', 'ફિલ્મવર્ક્સ'],\n ['આ',\n  'પરિસ્થિતીને',\n  'થાળે',\n  'પાડવા',\n  'માટે',\n  'પોલીસનો',\n  'કાફલો',\n  'ઘટના',\n  'સ્થળે',\n  'પહોંચ્યો',\n  'હતો',\n  '.'],\n ['પરંતુ',\n  'સૈફ',\n  'અને',\n  'મેં',\n  'આધુનિક',\n  'અભિગમ',\n  'અપનાવ્યો',\n  'હોવાથી',\n  ',',\n  'અમે',\n  'તે',\n  'કરી',\n  'શકતા',\n  'નથી',\n  '.'],\n ['બાબરીયા',\n  'ઇન્સ્ટિટયૂટ',\n  'ઓફ',\n  'ફાર્મસી',\n  'બિટ',\n  'કેમ્પસ',\n  ',',\n  'વડોદરા',\n  '-',\n  'મુંબઇ',\n  'ને',\n  '.',\n  'હા',\n  '.',\n  '૮',\n  ',',\n  'વર્ણામામ',\n  ',',\n  'વડોદરા',\n  '-',\n  '૩૯૧૨૪૦'],\n ['તો',\n  'પછી',\n  ',',\n  'શું',\n  'તમે',\n  'સહમત',\n  'નહિ',\n  'થાવ',\n  'કે',\n  'જુલીયો',\n  'અને',\n  'ક્રિસ્ટીનાના',\n  'કુટુંબ',\n  'સાથે',\n  'જે',\n  'થયું',\n  'એમાં',\n  'ઈશ્વરનો',\n  'હાથ',\n  'જરાય',\n  'ન',\n  'હતો',\n  '?'],\n ['હવે', 'આ', 'ફિલ્મનું', 'પહેલું', 'પોસ્ટર', 'બહાર', 'આવ્યું', 'છે', '.'],\n ['આ',\n  'સાથે',\n  'જ',\n  'વિરાટ',\n  'કોહલી',\n  'એન્ડ',\n  'કંપનીએ',\n  'વર્ષની',\n  'પહેલી',\n  'સીરિઝમાં',\n  '2',\n  '-',\n  '0થી',\n  'જીત',\n  'હાસલ',\n  'કરી',\n  '.'],\n ['CMનાં', 'બેજવાબદારીભર્યા', 'નિવેદન'],\n ['એક', 'લાડવો', 'ગાંધીનગરમાં', 'અને', 'એક', 'લાડવો', 'દિલ્હીમાં'],\n ['તેઓ',\n  'હાર્વર્ડ',\n  'યુનિવર્સિટીના',\n  'વિદ્યાર્થી',\n  'રહી',\n  'ચૂક્યા',\n  'છે',\n  '.'],\n ['\"',\n  'જ્યાં',\n  'આજે',\n  'મોદી',\n  'પેરિસના',\n  'રાષ્ટ્રપતિ',\n  'ફ્રાંસ્વા',\n  'ઓલાંદ',\n  'સાથે',\n  'કરશે',\n  '\"',\n  '\"',\n  'નાવ',\n  'પર',\n  'ચર્ચા',\n  '\"',\n  '\"',\n  '\"'],\n ['પ્રધાનમંત્રી',\n  'શ્રી',\n  'નરેન્દ્ર',\n  'મોદીની',\n  'અધ્યક્ષતામાં',\n  'મંત્રીમંડળે',\n  'બહુનિષયક',\n  'સાયબર',\n  '-',\n  'ફિઝિકલ',\n  'પ્રણાલિઓ',\n  '(',\n  'NM',\n  '-',\n  'ICPS',\n  ')',\n  'ના',\n  'રાષ્ટ્રીય',\n  'મિશનની',\n  'સ્થાપના',\n  'કરવા',\n  'માટે',\n  'મંજૂરી',\n  'આપી',\n  'છે',\n  ',',\n  'તેને',\n  'વિજ્ઞાન',\n  'અને',\n  'ટેકનોલોજી',\n  'વિભાગ',\n  'દ્વારા',\n  'કુલ',\n  'રૂ',\n  '.'],\n ['તેઓ', 'વિવિધ', 'રીતો', 'છે', '.'],\n ['વિસ્તારમાંનું', 'ચક્રવાતweather', 'condition'],\n ['લોકો', 'સખ્ત', 'ઠંડીમાં', 'ઠુંઠવાયા', 'હતા', '.'],\n ['ચીફ',\n  'જસ્ટિસ',\n  'ટીએસ',\n  'ઠાકુર',\n  'અને',\n  'જસ્ટિસ',\n  'ડીવાય',\n  'ચંદ્રચુડ',\n  'તથા',\n  'એલ',\n  'નાગેશ્ર્વર',\n  'રાવની',\n  'બનેલી',\n  'બેંચે',\n  'તમામ',\n  'બીસીસીઆઈના',\n  'ખાતામાં',\n  'ચકાસણી',\n  'કરવા',\n  'એક',\n  'સ્વતંત્ર',\n  'ઓડિટરની',\n  'નિમણૂંક',\n  'કરવા',\n  'લોધા',\n  'પેનલને',\n  'સૂચના',\n  'આપી',\n  'છે',\n  '.'],\n ['ભીમતાલથી',\n  'લગભગ',\n  '૨',\n  'કિમીનાં',\n  'અંતરે',\n  'નળ',\n  '-',\n  'દમયંતી',\n  'નામનું',\n  'નાનું',\n  'કુદરતી',\n  'તળાવ',\n  'આવેલું',\n  'છે',\n  '.'],\n ['ધાંબોલીયા',\n  'ગામના',\n  'લોકોનો',\n  'મુખ્ય',\n  'વ્યવસાય',\n  'ખેતી',\n  ',',\n  'ખેતમજૂરી',\n  'તેમ',\n  'જ',\n  'પશુપાલન',\n  'છે',\n  '.'],\n ['લોન્ગલેન્ગ',\n  'જિલ્લો',\n  'ભારત',\n  'દેશના',\n  'પૂર્વ',\n  'ભાગમાં',\n  'આવેલા',\n  'નાગાલેંડ',\n  'રાજ્યનો',\n  'એક',\n  'જિલ્લો',\n  'છે',\n  '.'],\n ['અત્યાર',\n  'સુધીમાં',\n  '12',\n  'રાજ્યો',\n  '(',\n  'પંજાબ',\n  ',',\n  'ઓડિશા',\n  ',',\n  'ગુજરાત',\n  ',',\n  'રાજસ્થાન',\n  ',',\n  'પશ્ચિમ',\n  'બંગાળ',\n  ',',\n  'મહારાષ્ટ્ર',\n  ',',\n  'હરિયાણા',\n  ',',\n  'આંધ્રપ્રદેશ',\n  ',',\n  'તામિલનાડુ',\n  ',',\n  'ઉત્તરાખંડ',\n  ',',\n  'ઉત્તરપ્રદેશ',\n  'અને',\n  'ઝારખંડ',\n  ')',\n  'ના',\n  'FPOએ',\n  'વેપારમાં',\n  'ભાગ',\n  'લીધો',\n  'છે'],\n ['ઉનાળામાં',\n  ',',\n  'ફોલ્સ',\n  'ખાડીનું',\n  'પાણી',\n  'સરેરાશ',\n  'થોડુંક',\n  ',',\n  'સમાન',\n  'ઊંચાઇ',\n  'સાથે',\n  '.'],\n ['આ',\n  'સિવાય',\n  'રાષ્ટ્રપતિ',\n  'કોવિંદ',\n  ',',\n  'ઉપરાષ્ટ્રપતિ',\n  'વેંકૈયા',\n  'નાયડૂ',\n  ',',\n  'વડાપ્રધાન',\n  'મોદી',\n  ',',\n  'યુપીએ',\n  'અધ્યક્ષ',\n  'સોનિયા',\n  'ગાંધી',\n  ',',\n  'પૂર્વ',\n  'વડાપ્રધાન',\n  'મનમોહન',\n  'સિંહ',\n  'સહિત',\n  'ઘણાં',\n  'નેતાઓ',\n  'શ્રદ્ધાંજલિ',\n  'આપવા',\n  'પહોંચ્યા',\n  'હતા',\n  '.'],\n ['છેલ્લા',\n  'થોડા',\n  'મહિનાથી',\n  'ક્રૂડની',\n  'કિંમતમાં',\n  'સતત',\n  'વધારો',\n  'જોવા',\n  'મળી',\n  'રહ્યો',\n  'છે',\n  '.'],\n ['QNam', 'નેટવર્ક', 'પ્લગઇન'],\n ['આ',\n  'અભ્યાસ',\n  'અમેરિકન',\n  'કોલેજ',\n  'ઓફ',\n  'કાર્ડિયોલોજીમાં',\n  'પ્રકાશિત',\n  'થયો',\n  'છે',\n  '.'],\n ['ત્યારબાદ',\n  'તેને',\n  'સારવાર',\n  'માટે',\n  'સ્મીમેરમાં',\n  'ખસેડાતા',\n  'તબીબોેએ',\n  'મૃત',\n  'ઘોષિત',\n  'કર્યો',\n  'હતો',\n  '.'],\n ['છોડની',\n  'જાળવણીનવેમ્બર',\n  '2020માં',\n  ',',\n  'વર્ગીઝે',\n  '10',\n  'ટાવરમાં',\n  'બટાટા',\n  ',',\n  'ગાજર',\n  ',',\n  'ટામેટાં',\n  ',',\n  'કેપ્સિકમ',\n  'અને',\n  'કેટલીક',\n  'વધુ',\n  'શાકભાજી',\n  'લગાવી',\n  'હતી',\n  '.'],\n ['મુંબઈઃ',\n  'બોલિવૂડ',\n  'અભિનેતા',\n  'આમિર',\n  'ખાનની',\n  'પુત્રી',\n  'ઈરા',\n  'ખાન',\n  'લાઈમલાઈટથી',\n  'દૂર',\n  'વધારે',\n  'રહેવાનું',\n  'પસંદ',\n  'કરે',\n  'છે',\n  '.'],\n ['ટ્રમ્પનો',\n  'અંતિમ',\n  'લક્ષ્યાંક',\n  'લોકશાહીનો',\n  'ખાતમો',\n  'બોલાવવાનો',\n  'છે',\n  ':',\n  'ક્લિન્ટન'],\n ['હવે',\n  'આપણે',\n  'આ',\n  'વિશિષ્ટ',\n  'માહિતી',\n  'નવા',\n  'નમૂના',\n  'કદ',\n  'અને',\n  'ફંડનુ',\n  'મુલ્ય',\n  'અને',\n  '0s',\n  'ની',\n  'સંખ્યાનો',\n  'ઉપયોગ',\n  'કરીને',\n  'આપણા',\n  'મેટ્રિક્સ',\n  ',',\n  'માન્યતા',\n  'વર્ગીકરણ',\n  'મેટ્રિક્સને',\n  'સમાયોજિત',\n  'કરી',\n  'શકીએ',\n  'છીએ',\n  '.'],\n ['બચાવ',\n  'અને',\n  'રાહત',\n  'કામગીરીના',\n  'સુપરવિઝન',\n  'માટે',\n  'ઉપમુખ્યમંત્રી',\n  'એન',\n  '.',\n  'સી',\n  '.',\n  'રાજપ્પા',\n  'પૂર્વી',\n  'ગોદાવરી',\n  'જિલ્લાના',\n  'ભૈરવાપાલમ',\n  'ગામમાં',\n  'કેંપ',\n  'કરી',\n  'રહ્યા',\n  'છે',\n  '.'],\n ['હવે',\n  'તેની',\n  'જગ્યાઓ',\n  'જોનપુરના',\n  'સાંસદ',\n  'શ્યામ',\n  'સિંહ',\n  'યાદવને',\n  'સંસદીય',\n  'દળનો',\n  'નેતા',\n  'નિયુક્ત',\n  'કરવમાં',\n  'આવ્યા',\n  'છે',\n  '.'],\n ['કશું', 'ઉઘડતું', 'નહોતું', '.'],\n ['પ્રેષિત',\n  'પાઊલે',\n  'ખ્રિસ્તીઓને',\n  'આ',\n  'ભય',\n  'વિષે',\n  'જણાવતા',\n  'લખ્યુંઃ',\n  '\"',\n  'પણ',\n  'મને',\n  'ભય',\n  'લાગે',\n  'છે',\n  ',',\n  'રખેને',\n  'જેમ',\n  'સર્પે',\n  'પોતાના',\n  'કપટથી',\n  'હવાને',\n  'ભુલાવી',\n  ',',\n  'તેમ',\n  'ખ્રિસ્તમાં',\n  'જે',\n  'નિખાલસપણું',\n  'તથા',\n  'પવિત્રતા',\n  'છે',\n  'તે',\n  'તજીને',\n  'તમારાં',\n  'મન',\n  'હરકોઈ',\n  'રીતે',\n  'ભ્રષ્ટ',\n  'થાય',\n  '.',\n  '\"',\n  '-',\n  '૨',\n  'કોરીંથી',\n  '૧૧ઃ',\n  '૩',\n  ',',\n  '૧૪',\n  '.'],\n ['બૃહન્નમુંબઈ',\n  'મહાપાલિકા',\n  '(',\n  'BMC',\n  ')',\n  'ના',\n  'ચીફ',\n  'કમિશનર',\n  'પ્રવીણ',\n  'પરદેસીની',\n  'બદલી',\n  'કરવામાં',\n  'આવી',\n  'છે',\n  '.'],\n ['IFFIની',\n  'આ',\n  'ઇવેન્ટમાં',\n  'કેન્દ્રીય',\n  'પ્રધાન',\n  'પ્રકાશ',\n  'જાવડેકર',\n  'પણ',\n  'હાજર',\n  'હતા',\n  '.'],\n ['પોતાને', 'કોરડા', 'મારીને', 'પરમેશ્વરને', 'ખુશ', 'કરવા', 'માંગતા', 'લોકો'],\n ['આ',\n  'ઇવેન્ટમાં',\n  'સલમાનની',\n  'બહેન',\n  'અર્પિતા',\n  'ખાન',\n  'તેના',\n  'પુત્ર',\n  'આહિલ',\n  'સાથે',\n  'પહોંચી',\n  'હતી',\n  '.'],\n ['સમયથી', 'વધારે', 'કિંમતી', 'શું', 'હોઈ', 'શકે', '?'],\n ['ન્યાયાધીશ',\n  'સંજય',\n  'કારોલ',\n  'પટના',\n  'વડી',\n  'અદાલતનાં',\n  'મુખ્ય',\n  'ન્યાયાધીશ',\n  'તરીકે',\n  'શપથ',\n  'ગ્રહણ',\n  'કર્યા'],\n ['દીવ',\n  'તાલુકો',\n  'ભારત',\n  'દેશના',\n  'પશ્ચિમ',\n  'ભાગમાં',\n  'આવેલા',\n  'કેન્દ્રશાસિત',\n  'પ્રદેશ',\n  'દમણ',\n  'અને',\n  'દીવમાં',\n  'આવેલા',\n  'દીવ',\n  'જિલ્લાનો',\n  'એકમાત્ર',\n  'તાલુકો',\n  'છે',\n  '.'],\n ['શ્વેતાએ',\n  'પોતાના',\n  'અનેક',\n  'ફોટોઝ',\n  'ઈન્સ્ટાગ્રામ',\n  'પર',\n  'શૅર',\n  'કર્યા',\n  'છે',\n  '.'],\n ['હજુ', 'સુધી', 'કોઇની', 'પણ', 'ધરપકડ', 'કરાઈ', 'નથી', '.'],\n ['આ',\n  'ફિલ્મને',\n  'ચિરંજીવીના',\n  'દીકરા',\n  'રામ',\n  'ચરણે',\n  'પ્રોડ્યુસ',\n  'કરી',\n  'છે',\n  ',',\n  'અને',\n  'સુરેન્દ્દ',\n  'રેડ્ડીએ',\n  'ડિરેક્ટ',\n  'કરી',\n  'છે',\n  '.'],\n ['દક્ષિણ',\n  'ગુજરાત',\n  ',',\n  'સૌરાષ્ટ્ર',\n  ',',\n  'મધ્ય',\n  'ગુજરાતમાં',\n  'વરસેલા',\n  'વરસાદથી',\n  'ખેડૂતોમાં',\n  'ખુશીની',\n  'લહેર',\n  'જોવા',\n  'મળી',\n  'છે',\n  '.'],\n ['જુગલ',\n  'હંસરાજ',\n  '(',\n  'ડાબે',\n  ')',\n  'અને',\n  'ઊર્મિલા',\n  'માતોંડકર',\n  '(',\n  'જમણે',\n  ')',\n  'માસૂમ',\n  'ફિલ્મની',\n  'તસવીર',\n  '.'],\n ['આ',\n  'ઉપરાંત',\n  'ઇજાગ્રસ્ત',\n  'અન્ય',\n  'બે',\n  'જવાનોને',\n  'સારવાર',\n  'માટે',\n  'સ્થાનિક',\n  'હોસ્પિટલમાં',\n  'દાખલ',\n  'કરાયા',\n  'છે',\n  '.'],\n ['આરજેડી', 'બિહારની', 'સૌથી', 'મોટી', 'પાર્ટી', 'બની'],\n ['(',\n  'ખ',\n  ')',\n  'ઈશ્વરનું',\n  'કામ',\n  'પૂરું',\n  'કરવા',\n  'આપણને',\n  'શું',\n  'મદદ',\n  'કરશે',\n  '?'],\n ['કેટલી', 'ડિગ્રી', '?'],\n ['ત્યારબાદ',\n  'ભીડને',\n  'વિખેરવા',\n  'માટે',\n  'પબ્લિક',\n  'ઑર્ડર',\n  'પોલિસિંગ',\n  'યૂનિટને',\n  'બોલાવવામાં',\n  'આવી',\n  '.'],\n ['ભારતમાં',\n  'લોન્ચ',\n  'થયો',\n  'Oppo',\n  'F3',\n  'દીપિકા',\n  'પાદૂકોણ',\n  'લિમિટેડ',\n  'એડિશન'],\n ['ભારતમાં',\n  '47',\n  'હજારથી',\n  'વધુ',\n  'પ્લાન્ટ',\n  'સ્પેસિસ',\n  'જોવા',\n  'મળે',\n  'છે',\n  'અને',\n  'જાનવરોની',\n  '89',\n  'હજારથી',\n  'વધુ',\n  'પ્રજાતીઓ',\n  'છે',\n  '.'],\n ['બોલિવૂડના',\n  'સક્સેસફુલ',\n  'એક્ટર્સના',\n  'લિસ્ટમાં',\n  'વરુણ',\n  'ધવન',\n  'સામેલ',\n  'છે',\n  '.'],\n ['છાત્રો', 'ધો', '.'],\n ['કમિશનના',\n  'ચેરમેન',\n  'વિનય',\n  'કુમાર',\n  'સક્સેના',\n  'તરફથી',\n  'વાણિજ્ય',\n  'અને',\n  'ઉદ્યોગ',\n  'મંત્રી',\n  'પીયૂષ',\n  'ગોયલને',\n  'ઝંડાના',\n  'વેચાણમાં',\n  'થયેલા',\n  'ઘટાડાની',\n  'જાણકારી',\n  'આપવામાં',\n  'આવી',\n  'છે',\n  '.'],\n ['આર્થિક', 'સ્થિતિ', 'સુદૃઢ', 'થશે', '.'],\n ['સંસદીય',\n  'બોર્ડે',\n  'જે',\n  '.',\n  'પી',\n  '.',\n  'નડ્ડાને',\n  'કાર્યકારી',\n  'અધ્યક્ષ',\n  'બનાવવાનું',\n  'નક્કી',\n  'કર્યું',\n  'છે',\n  '.'],\n ['લંડન', ',', 'યુકે', 'લંડન', ',', 'યુકે'],\n ['આ',\n  'ફિલ્મમાં',\n  'તેમની',\n  'સાથે',\n  'શાહરૂખ',\n  'ખાન',\n  'અને',\n  'અમરીશ',\n  'પુરી',\n  'પણ',\n  'હતા',\n  '.'],\n ['આપણે',\n  'આપણા',\n  'દેશોમાં',\n  'શાંતિપૂર્ણ',\n  'સંબંધો',\n  ',',\n  'પરસ્પર',\n  'સમજ',\n  'અને',\n  'સહયોગને',\n  'પ્રોત્સાહન',\n  'આપવું',\n  'પડશે',\n  '.'],\n ['ટ્રમ્પે',\n  'કહ્યું',\n  ':',\n  'ભારત',\n  '-',\n  'પાકિસ્તાનની',\n  'સ્થિતિ',\n  'હવે',\n  'થોડીક',\n  'ઓછી',\n  'તંગદિલીભરી',\n  '.',\n  'મધ્યસ્થીની',\n  'ઓફર',\n  'ફરી',\n  'દોહરાવી'],\n ['ઓનલાઇન', 'પોર્ટફોલિયો', 'બનાવો', '.'],\n ['શ્રી',\n  'મોદીએ',\n  'જણાવ્યું',\n  'હતું',\n  'કે',\n  ',',\n  'ભારત',\n  'સરકાર',\n  'કોલકાતામાં',\n  'ઇન્ડિયન',\n  'ગવર્મેન્ટ',\n  'મિન્ટ',\n  'ખાતે',\n  'કોઇનેજ',\n  'એન્ડ',\n  'કોમર્સનું',\n  'મ્યુઝિયમ',\n  'સ્થાપિત',\n  'કરવાનો',\n  'વિચાર',\n  'કરી',\n  'રહી',\n  'છે',\n  '.'],\n ['NIIO',\n  'એવું',\n  'સમર્પિત',\n  'માળખું',\n  'આપે',\n  'છે',\n  'જેની',\n  'મદદથી',\n  'છેવટના',\n  'વપરાશકર્તા',\n  'આત્મનિર્ભર',\n  'ભારતની',\n  'દૂરંદેશીને',\n  'ધ્યાનમાં',\n  'રાખીને',\n  'સંરક્ષણ',\n  'ક્ષેત્રે',\n  'આત્મનિર્ભરતા',\n  'માટે',\n  'નાવીન્યતા',\n  'અને',\n  'સ્વદેશીકરણને',\n  'આગળ',\n  'ધપાવવા',\n  'શૈક્ષણિક',\n  'સંસ્થાઓ',\n  'અને',\n  'ઉદ્યોગો',\n  'સાથે',\n  'વાર્તાલાપ',\n  'કરી',\n  'શકે',\n  'છે',\n  '.'],\n ['શું', 'આ', 'પ્રયત્નો', 'સફળ', 'થતા', 'રહેશે', '?'],\n ['યુપીએ',\n  'સરકારે',\n  'વાયુસેનાને',\n  '126',\n  'વિમાન',\n  'ખરીદવાની',\n  'મંજૂરી',\n  'આપી',\n  'હતી',\n  '.'],\n ['તેઓ', 'માત્ર', 'પર', 'કામ', 'કરવાની', 'જરૂર', 'છે', '.'],\n ['હોકી', 'વર્લ્ડ', 'કપમાં', 'ભારતનો', 'દેખાવ'],\n ['પ્રિયંકાએ',\n  'પોતાના',\n  'લુકને',\n  'સિલ્વર',\n  'પંપ્સ',\n  'અને',\n  'પર્પલ',\n  'ડ્રોપ',\n  'ઇયરિંગ્સ',\n  ',',\n  'મલ્ટી',\n  'લેયર',\n  'પેંડેંટથી',\n  'કમ્પ્લીટ',\n  'કર્યો',\n  '.'],\n ['અમારું',\n  'પ્લોટ',\n  'ઘણા',\n  'બધા',\n  'પોઇન્ટ્સથી',\n  'ભરવામાં',\n  'આવશે',\n  'કારણ',\n  'કે',\n  'આપણે',\n  'કદાચ',\n  '3000,4000,5000',\n  'અથવા',\n  '10000',\n  'પોઇન્ટ્સ',\n  'સાથે',\n  'કામ',\n  'કરી',\n  'રહ્યા',\n  'હોઇએ',\n  '.'],\n ['પાકિસ્તાનનાં',\n  'પ્રથમ',\n  'મહિલા',\n  'અવકાશયાત્રીએ',\n  \"'\",\n  'ચંદ્રયાન',\n  '-',\n  '2',\n  \"'\",\n  'મિશન',\n  'માટે',\n  '.'],\n ['આ',\n  'ફિલ્મને',\n  'રોહિત',\n  'શેટ્ટી',\n  'અને',\n  'કરણ',\n  'જોહર',\n  'પ્રોડ્યૂસ',\n  'કરી',\n  'રહ્યાં',\n  'છે',\n  '.'],\n ['ભારતની', 'ચિંતા'],\n ['તે', 'સાચો', 'પ્રેમ', '.'],\n ['રાષ્ટ્રપતિ',\n  'રામનાથ',\n  'કોવિંદ',\n  'લોન્ચિંગ',\n  'જોવા',\n  'માટે',\n  'શ્રીહરિકોટામાં',\n  'જ',\n  'હતા',\n  '.'],\n ['અમેરિકાની',\n  'પ્રખ્યાત',\n  'સિંગર',\n  'ટેલર',\n  'સ્વિફ્ટ',\n  'પોતાના',\n  'સોંગ્સને',\n  'લઈને',\n  'દુનિયાભરમાં',\n  'ફેમશ',\n  'છે',\n  '.'],\n ['રાજ્યસભામાં', 'હજી', 'આ', 'ખરડો', 'પસાર', 'થવાનો', 'બાકી', 'છે', '.'],\n ['શૉનું', 'કામ', 'ચાલવું', 'જોઈએ', '.'],\n ['કોફી', 'વિથ', 'કરણ'],\n ['તેમ',\n  'સંસદીય',\n  'મંત્રી',\n  'મુખ્તાર',\n  'અબ્બાસ',\n  'નકવીએ',\n  'જણાવ્યું',\n  'હતું',\n  '.'],\n ['લોકો', 'મૂર્ખ', 'નથી', '.'],\n ['અહીના',\n  'ક્રાઉન',\n  'પ્રિન્સ',\n  'મોહમ્મદ',\n  'બિન',\n  'સલમાન',\n  'કંપનીની',\n  'વેલ્યુએશ',\n  '2',\n  'ટ્રિલિયન',\n  'ડોલર',\n  'ગણે',\n  'છે',\n  '.'],\n ['તેઓ',\n  'અમેરિકન',\n  'પોલિટિકલ',\n  'અફેર્સ',\n  'મિનિસ્ટર',\n  'ડેવિડ',\n  'હેલ',\n  'અને',\n  'આર્મ્સ',\n  'કંટ્રોલ',\n  'એન્ડ',\n  'ઈન્ટરનેશનલ',\n  'સિક્યુરિટીના',\n  'અંડર',\n  'સેક્રેટરી',\n  'ઓફ',\n  'સ્ટેટ',\n  'એન્ડ્રિયા',\n  'થોમ્પ્સનને',\n  'મળ્યા',\n  'હતા',\n  '.'],\n ['સોનમ', 'કપૂર', 'બોલિવૂડમાં', 'બબલી', 'ગર્લ', 'તરીકે', 'જાણીતી', 'છે', '.'],\n ['ઇસરોને',\n  'તેની',\n  'શાનદાર',\n  'સફળતા',\n  'બદલ',\n  'વડાપ્રધાન',\n  'નરેન્દ્ર',\n  'મોદીએ',\n  'પણ',\n  'શુભેચ્છા',\n  'પાઠવી',\n  'છે',\n  '.'],\n ['કર્ણાટકનાં',\n  'પુર્વમુખ્યમંત્રી',\n  'સિદ્ધરમૈયા',\n  'રાષ્ટ્રીય',\n  'રાજધાની',\n  'દિલ્હીમાં',\n  'હતા',\n  'અને',\n  'તેમણે',\n  'મંત્રીપદનાં',\n  'દેવાદારો',\n  'સાથે',\n  'વાતચીત',\n  'કરી',\n  'હતી',\n  '.'],\n ['હું',\n  'ભારતમાં',\n  'કામ',\n  'કરું',\n  'છું',\n  ',',\n  'જેણે',\n  'અવિશ્વસનીય',\n  'પ્રગતિ',\n  'કરી',\n  'છે',\n  'બધા',\n  'માટે',\n  'પ્રારંભિક',\n  'શિક્ષણ',\n  'લાવવામાં',\n  '.'],\n ['તેમને', 'શામાંથી', 'મદદ', 'મળી', '?'],\n ['રેલવે',\n  'મંત્રાલય',\n  '(',\n  'એમઓઆર',\n  ')',\n  'અને',\n  'આર્થિક',\n  'બાબતો',\n  'અને',\n  'ઊર્જા',\n  'માટેનું',\n  'મંત્રાલય'],\n ['જીજાજી',\n  'આયુષની',\n  'ફિલ્મમાં',\n  'સાળા',\n  'સલમાન',\n  'ખાનનો',\n  'પણ',\n  'ખાસ',\n  'રોલ',\n  'છે',\n  '.'],\n ['કેટલીક',\n  'કંપનીઓ',\n  'ચીન',\n  ',',\n  'અમેરિકા',\n  ',',\n  'સિંગાપુર',\n  'અને',\n  'યૂએઈમાં',\n  'પણ',\n  'છે',\n  '.'],\n ['આ',\n  'ટ્રેન',\n  'અમદાવાદથી',\n  'નવી',\n  'દિલ્હી',\n  'વાયા',\n  'પાલનપુર',\n  ',',\n  'આબુરોડ',\n  ',',\n  'જયપુર',\n  'થઈને',\n  'જશે',\n  '.'],\n ['\"', '\"', '\"', 'જીવન', 'સારું', 'છે', '.', '\"', '\"', '\"'],\n ['ઇજાગ્રસ્તોને',\n  'તાત્કાલિક',\n  'દાહોદ',\n  'સરકારી',\n  'દવાખાને',\n  'ખસેડવામાં',\n  'આવ્યા',\n  'હતા',\n  '.'],\n ['કોંગ્રેસ', 'જૂઠા', 'વચનો', 'નથી', 'આપતી', '.', '.', '.'],\n ['રોહિત',\n  'શર્મા',\n  'અને',\n  'લોકેશ',\n  'રાહુલે',\n  'સારી',\n  'શરૂઆત',\n  'કરી',\n  'હતી',\n  '.'],\n ['3', 'ઓપન', 'સ્ટોલ્સ', 'સાથે', 'અસ્પષ્ટપણે', 'ફેક્ટરી', 'બાથરૂમ', '.'],\n ['સાંડ',\n  'કી',\n  'આંખ',\n  'ઉત્તર',\n  'પ્રદેશની',\n  'જૌહડી',\n  'ગામની',\n  'વુદ્ધ',\n  'શાર્પશૂટર',\n  'પ્રકાશી',\n  'તોમર',\n  'અને',\n  'ચંદ્રો',\n  'તોમરની',\n  'રિયલ',\n  'લાઈફની',\n  'સ્ટોરી',\n  'બેસ્ટ',\n  'છે',\n  '.'],\n ['અમેરિકા',\n  ',',\n  'રશિયા',\n  ',',\n  'ફ્રાન્સ',\n  ',',\n  'ચીન',\n  'અને',\n  'બ્રિટન',\n  'બાદ',\n  'ઈન્ટરકોન્ટિનેન્ટલ',\n  'બેલાસ્ટિક',\n  'મિસાઈલ',\n  'બનાવનારો',\n  'ભારત',\n  'છઠ્ઠો',\n  'દેશ',\n  'બની',\n  'ગયો',\n  'છે',\n  '.'],\n ['આ',\n  'મહીને',\n  'રજૂ',\n  'થયેલ',\n  'સીપીડબલ્યૂડીની',\n  'વાર્ષિક',\n  'રિપોર્ટ',\n  'અનુસાર',\n  'સરકારે',\n  'ભારત',\n  '-',\n  'ચીન',\n  'સીમા',\n  'પર',\n  'રણનૈતિક',\n  'ઉદ્દેશ્યથી',\n  'ખૂબ',\n  'જ',\n  'મહત્વપૂર્ણ',\n  '44',\n  'માર્ગોનાં',\n  'નિર્માણનો',\n  'આદેશ',\n  'આપ્યો',\n  'છે',\n  '.'],\n ['રાજસ્થાનઃ',\n  'આજે',\n  'બપોરે',\n  '2',\n  'વાગ્યા',\n  'સુધીમાં',\n  'રાજ્યમાં',\n  'કોવિડ',\n  '-',\n  '19ના',\n  'વધુ',\n  '173',\n  'કેસ',\n  'પોઝિટીવ',\n  'હોવાની',\n  'પુષ્ટિ',\n  'થઇ',\n  'છે',\n  'જેથી',\n  'રાજ્યમાં',\n  'કુલ',\n  'પોઝિટીવ',\n  'કેસોનો',\n  'આંકડો',\n  'વધીને',\n  '5375',\n  'થયો',\n  'છે',\n  '.'],\n ['અકસ્માતને',\n  'પગલે',\n  'કાર',\n  'ચાલકનુ',\n  'ઘટના',\n  'સ્થળેજ',\n  'મોત',\n  'નિપજ્યુ',\n  'હતું',\n  '.'],\n ['જેએનપીટી',\n  'બંદર',\n  'અને',\n  'મુન્દ્રા',\n  'દેશનાં',\n  'બે',\n  'સૌથી',\n  'મોટા',\n  'કન્ટેનર',\n  'મેઇન્ટેનન્સ',\n  '(',\n  'ફક્ત',\n  'મધ્યમ',\n  'કદનાં',\n  'કન્ટેનર',\n  'જહાજ',\n  'માટે',\n  ')',\n  'કરતાં',\n  'બંદર',\n  'છે',\n  '.',\n  'એમની',\n  'ડ્રાફ્ટ',\n  'અનુક્રમે',\n  '15',\n  'એમ',\n  'અને',\n  '16',\n  'એમ',\n  'છે',\n  ',',\n  'ત્યારે',\n  'દુનિયાનાં',\n  'સૌથી',\n  'મોટા',\n  'કન્ટેનર',\n  'મેઇન્ટેનન્સ',\n  'કરતાં',\n  'આધુનિક',\n  'ડીપ',\n  'ડ્રાફ્ટ',\n  'બંદ',\n  'માટે',\n  '18',\n  'એમ',\n  'અને',\n  '16',\n  'એમની',\n  'જરૂર',\n  'છે',\n  '.'],\n ['પીએમ',\n  'નરેન્દ્ર',\n  'મોદીના',\n  'નેતૃત્વવાળી',\n  'એનડીએ',\n  'સરકાર',\n  'તરફથી',\n  'કેન્દ્રીય',\n  'કર્મચારીઓને',\n  'ટૂંક',\n  'સમયમાં',\n  'જ',\n  'ખુશખબરી',\n  'મળી',\n  'શકે',\n  'છે',\n  '.'],\n ['વિક્ટોરિયા', 'પાર્ક'],\n ['સોહા',\n  'અલી',\n  'ખાન',\n  'સાથે',\n  'પોતાના',\n  'લગ્નની',\n  'પાંચમી',\n  'વર્ષગાંઠના',\n  'અવસરે',\n  'કુણાલ',\n  'ખેમૂએ',\n  'ઇન્સ્ટાગ્રામ',\n  'અકાઉન્ટ',\n  'પર',\n  'પોતાના',\n  'લગ્નનો',\n  'એક',\n  'અનસીન',\n  'વીડિયો',\n  'પણ',\n  'શૅર',\n  'કર્યો',\n  'છે',\n  '.'],\n ['અમાલા',\n  'પોલ',\n  'એક',\n  'ભારતીય',\n  'કલાકાર',\n  'છે',\n  'જે',\n  'સાઉથની',\n  'ફિલ્મોમાં',\n  'કામ',\n  'કરે',\n  'છે',\n  '.'],\n ['શૅલ', 'આદેશ', 'ચલાવો'],\n ['આંબળા', 'અને', 'નારિયેળનું', 'તેલ'],\n ['સુપ્રીમ', 'કોર્ટે', 'પર', 'તેની', 'ઉપર', 'નિર્ણય', 'કર્યો', 'છે', '.'],\n ['ફોટોગ્રાફર', 'મારિયો', 'ટેસ્ટિનો'],\n ['અમે',\n  'અગાઉના',\n  'મોડ્યુલની',\n  'ચર્ચા',\n  'કરી',\n  'હતી',\n  'કે',\n  'ઉપજ',\n  'શક્તિ',\n  'શું',\n  'છે',\n  '.'],\n ['બેંગ', 'સાથે', 'અથવા', 'વગર', '?'],\n ['આ', 'મામલે', 'બે', 'લોકોની', 'ધરપકડ', 'કરાઈ', 'હતી', '.'],\n ['લેખકઃ', 'શ્રી', 'નરેન્દ્ર', 'મોદી'],\n ['લોંગે', 'પોઈન્ટ', 'ડી', 'મીંગન'],\n ['અમલનેર',\n  'નગર',\n  'ખાતે',\n  'આ',\n  'તાલુકાનું',\n  'મુખ્ય',\n  'મથક',\n  'આવેલું',\n  'છે',\n  '.'],\n ['ફ્લેશ',\n  'ઇલેક્ટ્રોનીક્સે',\n  'અમેરિકામાં',\n  'રોયલ',\n  'એનફિલ્ડ',\n  'સામે',\n  'પેટન્ટના',\n  'ઉલ્લંઘનનો',\n  'કેસ',\n  'કર્યો'],\n ['કેમકે',\n  'જિયો',\n  'નેટવર્ક',\n  'પર',\n  'વૉઇસ',\n  'કૉલ',\n  'ફ્રી',\n  'છે',\n  ',',\n  'આ',\n  'કારણે',\n  'કંપનીને',\n  'ભારતી',\n  'એરટેલ',\n  'અને',\n  'વોડાફોન',\n  'આઇડિયા',\n  'જેવી',\n  'ઑપરેટર્સને',\n  'કરવામાં',\n  'આવતા',\n  'કૉલ્સ',\n  'માટે',\n  '13,500',\n  'કરોડ',\n  'રૂપિયાની',\n  'ચુકવણી',\n  'કરવી',\n  'પડી',\n  'છે',\n  '.'],\n ['ડેમોક્રેટિક', 'પાર્ટી', 'પોલિટિક્સ'],\n ['ભારતીય',\n  'કેપ્ટન',\n  'વિરાટ',\n  'કોહલીને',\n  'ઓસ્ટ્રેલિયા',\n  'વિરૂદ્ધ',\n  'રાંચીમાં',\n  'રમાયેલી',\n  'ત્રીજી',\n  'ટેસ્ટ',\n  'દરમિયાન',\n  'ઈજા',\n  'થઈ',\n  'હતી',\n  '.'],\n ['મારુતિ',\n  'સ્વિફ્ટ',\n  '12,631',\n  'યુનિટ્સના',\n  'વેચાણ',\n  'સાથે',\n  'આ',\n  'લિસ્ટમાં',\n  'છઠ્ઠા',\n  'સ્થાને',\n  'રહી',\n  '.'],\n ['આ',\n  'ફિલ્મમાં',\n  'સુનીલ',\n  'પત્રકારનું',\n  'પાત્ર',\n  'ભજવી',\n  'રહ્યાં',\n  'છે',\n  '.'],\n ['ઘટનામાં',\n  'પથ્થરમારામાં',\n  'ભાજપના',\n  'કાર્યકરને',\n  'ઈજા',\n  'પહોંચી',\n  'હતી',\n  '.'],\n ['બ્રિટિશ', 'એરવેઝ', '.'],\n ['ડુંગરાપુરા',\n  'ગામના',\n  'લોકોનો',\n  'મુખ્ય',\n  'વ્યવસાય',\n  'ખેતી',\n  ',',\n  'ખેતમજૂરી',\n  'તેમ',\n  'જ',\n  'પશુપાલન',\n  'છે',\n  '.'],\n ['તને',\n  'પોતાના',\n  'ઘર',\n  '-',\n  'પરિવાર',\n  'સાથે',\n  'કોઈ',\n  'આનંદદાયક',\n  'યાત્રા',\n  'પર',\n  'જઇ',\n  'શકો',\n  'છો',\n  '.'],\n ['બિમલ',\n  'જુલ્કા',\n  'ચીફ',\n  'ઇન્ફર્મેશન',\n  'કમિશનર',\n  '(',\n  'સીઆઇસી',\n  ')',\n  'તરીકે',\n  'નિમણુંક'],\n ['પીપરાલી',\n  'ગામના',\n  'લોકોનો',\n  'મુખ્ય',\n  'વ્યવસાય',\n  'ખેતી',\n  ',',\n  'ખેતમજૂરી',\n  'તેમ',\n  'જ',\n  'પશુપાલન',\n  'છે',\n  '.'],\n ['પ્રધાનમંત્રી',\n  'શ્રી',\n  'નરેન્દ્ર',\n  'મોદીની',\n  'અધ્યક્ષતામાં',\n  'આયોજિત',\n  'કેન્દ્રીય',\n  'મંત્રીમંડળની',\n  'બેઠકમાં',\n  'આરોગ્ય',\n  'અને',\n  'ચિકિત્સાના',\n  'ક્ષેત્રમાં',\n  'ભારત',\n  'અને',\n  'સેનેગલ',\n  'વચ્ચે',\n  'થયેલા',\n  'સમજૂતી',\n  'કરાર',\n  '(',\n  'એમઓયુ',\n  ')',\n  'ને',\n  'મંજૂરી',\n  'આપવામાં',\n  'આવી',\n  'હતી',\n  '.'],\n ['વડીલોની', 'જવાબદારી', 'અદા', 'કરવી', 'હિતાવહ', 'રહેશે', '.'],\n ['જમ્મુ',\n  '-',\n  'કાશ્મીર',\n  ':',\n  'ભારે',\n  'વરસાદના',\n  'કારણે',\n  'બાલટાલમાં',\n  'રોકાઈ',\n  'અમરનાથ',\n  'યાત્રા'],\n ['સંચાલકશ્રી',\n  ',',\n  'નુતન',\n  'એજ્યુકેશન',\n  'ટ્રસ્ટ',\n  'સંચાલિત',\n  'ઔદ્યોગિક',\n  'તાલીમ',\n  'કેન્દ્ર',\n  ',',\n  'મુ',\n  '.',\n  'પો',\n  '.'],\n ['કેન્દ્રીય', 'મંત્રી', 'પિયુષ', 'ગોયેલ', 'સભામાં', 'અનુપસ્થિત', 'હતા', '.'],\n ['અલી',\n  'ફઝલ',\n  ',',\n  'રિચા',\n  'ચઢ્ઢાએ',\n  'એમનાં',\n  'લગ્નની',\n  'વાતોને',\n  'રદિયો',\n  'આપ્યો'],\n ['ચૂંટણીપંચ',\n  'દ્વારા',\n  'આ',\n  'મામલે',\n  'કડક',\n  'કાર્યવાહી',\n  'કરવી',\n  'જોઈએ',\n  '.'],\n ['ગૃહ',\n  'મંત્રીએ',\n  'પશ્ચિમ',\n  'રાજ્યોનાં',\n  'મહત્ત્વ',\n  'પર',\n  'ભાર',\n  'મૂકીને',\n  'જણાવ્યું',\n  'હતું',\n  'કે',\n  ',',\n  'પશ્ચિમ',\n  'વિસ્તાર',\n  'ભારતીય',\n  'અર્થતંત્રને',\n  'વેગ',\n  'આપવામાં',\n  'સહાયક',\n  'રહ્યો',\n  'છે',\n  ',',\n  'કારણ',\n  'કે',\n  'આ',\n  'વિસ્તારનાં',\n  'રાજ્ય',\n  'કુલ',\n  'સ્થાનિક',\n  'ઉત્પાદનમાં',\n  'લગભગ',\n  '24',\n  'ટકા',\n  'અને',\n  'દેશનાં',\n  'કુલ',\n  'નિકાસમાં',\n  '45',\n  'ટકા',\n  'પ્રદાન',\n  'આપે',\n  'છે',\n  '.'],\n ['હાલમાં',\n  ',',\n  'પીએસયુ',\n  'માટે',\n  'કોલસાના',\n  'ઉત્પાદનનું',\n  'લક્ષ્ય',\n  '660',\n  'મિલિયન',\n  'ટન',\n  'રાખવામાં',\n  'આવ્યું',\n  'છે',\n  ',',\n  'જે',\n  'દેશના',\n  'કુલ',\n  'કોલસા',\n  'ઉત્પાદનમાં',\n  '82',\n  'ટકા',\n  'છે',\n  '.'],\n ['એમ', 'કઈ', 'રીતે', 'કરી', 'શકાય', '?'],\n ['અભિષેક', 'શર્માને', 'ક્રિસ', 'મૉરિસે', 'આઉટ', 'કર્યો', '.'],\n ['હર્ષલ', 'પટેલ'],\n ['આ', 'ગીતને', 'ફરાહ', 'ખાન', 'કોરિયોગ્રાફ', 'કરી', 'રહ્યા', 'છે', '.'],\n ['ક્યા', 'ગેર્બર', 'અને', 'સિન્ડી', 'ક્રોફોર્ડ'],\n ['ટેક્સાસ',\n  ',',\n  'લુસિયાના',\n  ',',\n  'કેંટકી',\n  'અને',\n  'મિસૌરીમાં',\n  'અત્યાર',\n  'સુધીમાં',\n  '21',\n  'લોકોના',\n  'મોત',\n  'થયા',\n  'છે',\n  '.'],\n ['હરિયાણાઃ',\n  'છઠ્ઠા',\n  'આંતરરાષ્ટ્રીય',\n  'યોગ',\n  'દિવસ',\n  'પૂર્વે',\n  'હરિયાણાના',\n  'મુખ્યમંત્રીએ',\n  'રાજ્યના',\n  'લોકોને',\n  'અપીલ',\n  'કરી',\n  'છે',\n  'કે',\n  ',',\n  'કોવિડ',\n  '-',\n  '19',\n  'મહામારીના',\n  'કારણે',\n  'આવે',\n  'વર્ષે',\n  'તેઓ',\n  'ઘરમાં',\n  'જ',\n  'રહીને',\n  ',',\n  'પરિવાર',\n  'સાથે',\n  'મળીને',\n  'યોગ',\n  'કરે',\n  '.'],\n ['ભારત',\n  'વેક્સિનેશનના',\n  'પહેલા',\n  'તબક્કામાં',\n  '3',\n  'કરોડ',\n  'લોકોને',\n  'રસી',\n  'લગાવા',\n  'જઇ',\n  'રહ્યું',\n  'છે',\n  '.'],\n ['પોલીસે', 'દુર્ઘટનાવશ', 'મોતનો', 'એક', 'કેસ', 'દાખલ', 'કર્યો', 'છે', '.'],\n ['ઝારખંડ',\n  'વિધાનસભા',\n  'ચુંટણીઃ',\n  'ચોથા',\n  'તબક્કાનું',\n  'મતદાન',\n  'શરૂ',\n  ',',\n  '15',\n  'સીટો',\n  'પર',\n  'થઇ',\n  'રહ્યું',\n  'છે',\n  'મતદાન'],\n ['આઈએનએક્સ', 'મિડિયા', 'મની', 'લોન્ડરિંગ', 'કેસમાં', '.'],\n ['આ',\n  'ઉપરાંત',\n  'સારા',\n  'રણવીરસિંહ',\n  'સાથે',\n  'રોહિત',\n  'શેટ્ટી',\n  'અને',\n  'કરણ',\n  'જોહરની',\n  'ફ્લ્મિ',\n  'સિમ્બામાં',\n  'પણ',\n  'જોવા',\n  'મળવાની',\n  'છે',\n  '.'],\n ['ગૃહ',\n  'મંત્રાલયના',\n  '29',\n  '.',\n  '૦૩',\n  '.',\n  '2020ના',\n  'રોજ',\n  'આપવામાં',\n  'આવેલ',\n  'આદેશ',\n  'અનુસાર',\n  'ડૉ',\n  '.',\n  'પી',\n  '.',\n  'ડી',\n  '.',\n  'વાઘેલા',\n  ',',\n  'સચિવ',\n  ',',\n  'ફાર્માસ્યુટિકલ',\n  'અને',\n  'સચિવ',\n  ',',\n  'DPIIT',\n  ',',\n  'સચિવ',\n  ',',\n  'ટેકસટાઇલ',\n  ',',\n  'ચેરમેન',\n  ',',\n  'CBIC',\n  ',',\n  'સચિવ',\n  ',',\n  'DRDO',\n  ',',\n  'PMOના',\n  'વરિષ્ઠ',\n  'અધિકારીઓ',\n  ',',\n  'કેબીનેટ',\n  'સચિવ',\n  ',',\n  'વિદેશી',\n  'બાબતોના',\n  'મંત્રાલય',\n  ',',\n  'ગૃહ',\n  'બાબતોના',\n  'મંત્રાલય',\n  ',',\n  'આરોગ્ય',\n  'અને',\n  'પરિવાર',\n  'કલ્યાણ',\n  'મંત્રાલય',\n  ',',\n  'આરોગ્ય',\n  'સંશોધન',\n  'વિભાગ',\n  'વગેરે',\n  'સહીતની',\n  'સંયોજકતા',\n  'અંતર્ગત',\n  'એમ્પાવર્ડ',\n  'ગ્રુપ',\n  '૩ની',\n  'રચના',\n  'કરવામાં',\n  'આવી',\n  'હતી',\n  '.'],\n ['૧૧ઃ', '૨', '.', 'પ્રકટી', '.'],\n ['નાણામંત્રી',\n  'અરુણ',\n  'જેટલીએ',\n  'શરૂ',\n  'કર્યું',\n  'સામાન્ય',\n  'બજેટનું',\n  'ભાષણ',\n  '.'],\n ['આંધ્રપ્રદેશઃ',\n  'છેલ્લા',\n  '24',\n  'કલાકમાં',\n  '82',\n  'નવા',\n  'કેસ',\n  'નોંધાતા',\n  'કુલ',\n  'કેસ',\n  '125',\n  'થયા',\n  '.'],\n ['આ',\n  'સમજૂતી',\n  'પર',\n  'તા',\n  '.',\n  '10',\n  'એપ્રિલ',\n  ',',\n  '2018ના',\n  'રોજ',\n  'નવી',\n  'દિલ્હીમાં',\n  'હસ્તાક્ષર',\n  'થયા',\n  'હતા',\n  '.'],\n ['તેમણે', 'કહ્યું', 'કે', ',', 'કોંગ્રેસ', 'નિરાશ', 'છે', '.'],\n ['ભાજપ', 'પાસે', 'કોઇ', 'ચહેરો', 'નથી', '.'],\n ['જેમાં',\n  'રાહુલ',\n  'ગાંધીએ',\n  'પ્રધાનમંત્રી',\n  'નરેન્દ્ર',\n  'મોદી',\n  'પર',\n  'નિશાન',\n  'તાક્યું',\n  '.'],\n ['કાર્તિક',\n  'માસના',\n  'કૃષ્ણ',\n  'પક્ષની',\n  'ચતુર્થીએ',\n  'કરવાચોથનું',\n  'વ્રત',\n  'ઉજવાય',\n  'છે',\n  '.'],\n ['ભારત',\n  'અને',\n  'પાક',\n  'વચ્ચે',\n  'ડેવિસ',\n  'કપ',\n  'મુકાબલો',\n  'હવે',\n  'નૂર',\n  'સુલ્તાનમાં',\n  'રમાશે'],\n ['રાજેશ',\n  'ખન્નાની',\n  'છેલ્લી',\n  'ફિલ્મ',\n  'રિયાસત',\n  'તેમના',\n  'જન્મ',\n  'દિવસે',\n  'રિલીઝ',\n  'થશે'],\n ['બધા',\n  'સ્થાનિક',\n  'પક્ષો',\n  'ભાજપને',\n  'હરાવવા',\n  'માટે',\n  'એક',\n  'સાથે',\n  'આવી',\n  'રહ્યા',\n  'છે',\n  '.'],\n ['ઉડ્ડયન',\n  'ખાતા',\n  'સાથે',\n  'સંકળાયેલા',\n  'વધુ',\n  'એક',\n  'મનીલોન્ડરિંગના',\n  'કેસને',\n  'મામલે',\n  'અગાઉ',\n  'ઈડી',\n  'દ્વારા',\n  'તેમની',\n  'પૂછપરછ',\n  'કરવામાં',\n  'આવી',\n  'હતી',\n  '.'],\n ['તે', 'હિસ્સે', 'પ્રાંતના', 'સૌથી', 'મોટું', 'શહેર', 'છે', '.'],\n ['\"',\n  'મારા',\n  'પગોને',\n  'સારુ',\n  'તારું',\n  'વચન',\n  'દીવારૂપ',\n  'છે',\n  '.',\n  'તે',\n  'મારા',\n  'માર્ગને',\n  'સારુ',\n  'અજવાળારૂપ',\n  'છે',\n  '.',\n  '\"',\n  '-',\n  'ગીતશાસ્ત્ર',\n  '૧૧૯ઃ',\n  '૧૦૫',\n  '.'],\n ['કેન્દ્રીય',\n  'મંત્રી',\n  'અનંત',\n  'કુમારના',\n  'નિધન',\n  'પર',\n  'રાજનેતાઓએ',\n  'દુઃખ',\n  'વ્યક્ત',\n  'કર્યુ'],\n ['પ્રધાનમંત્રી',\n  'શેખ',\n  'હસીનાએ',\n  'જણાવ્યું',\n  'હતું',\n  'કે',\n  ',',\n  'બાંગ્લાદેશનાં',\n  'લોકો',\n  'તીસ્તાનાં',\n  'પાણીની',\n  'વહેંચણી',\n  'માટે',\n  'વચગાળાની',\n  'સમજૂતીનાં',\n  'માળખા',\n  'પર',\n  'વહેલાસર',\n  'હસ્તાક્ષર',\n  'કરવા',\n  'અને',\n  'એનો',\n  'અમલ',\n  'કરવા',\n  'આતુરતાપૂર્વક',\n  'રાહ',\n  'જોઈ',\n  'રહ્યાં',\n  'છે',\n  '.'],\n ['પરંતુ', 'ભારતમાં'],\n ['સંજયભાઇ', 'ગદ્રે', 'રૂ', '.'],\n ['સેનાના',\n  'જવાન',\n  'જ્યારે',\n  'આર્મી',\n  'ટ્રકમાં',\n  'જઇ',\n  'રહ્યા',\n  'હતા',\n  'ત્યારે',\n  'આ',\n  'બ્લાસ્ટ',\n  'કરવામાં',\n  'આવ્યો',\n  'હતો',\n  '.'],\n ['વાડરાને',\n  'જમીન',\n  'સોદામાં',\n  '50',\n  'કરોડનો',\n  'ગેરકાયદે',\n  'ફાયદોઃ',\n  'પંચ',\n  'આર્ટિકલ',\n  'શો'],\n ['શાકિબે',\n  'અગ્રવાલના',\n  'આંતરીક',\n  'સૂચના',\n  'હાંસલ',\n  'કરવાની',\n  'આ',\n  'આગ્રહની',\n  'જાણકારી',\n  'એસીયૂ',\n  'અથવા',\n  'કોઇ',\n  'અન્ય',\n  'ભ્રષ્ટાચાર',\n  'વિરોધી',\n  'અધિકારીને',\n  'ન',\n  'આપી',\n  '.'],\n ['કાળા', 'મરચા', '-', '1', 'ચમચી'],\n ['તેઓ',\n  'કાર્યકારી',\n  'પાર્ટી',\n  'અધ્યક્ષ',\n  'જેપી',\n  'નડ્ડાને',\n  'મળ્યા',\n  'હતા',\n  '.'],\n ['શાહનો', 'રાહુલ', 'અને', 'સોનિયાને', 'ટોણો'],\n ['તેથી', 'ભારત', 'કેવી', 'રીતે', 'ચાલે', 'છે', '.'],\n ['આ',\n  'ફિલ્મમાં',\n  'કંગના',\n  'ઉપરાંત',\n  'અંકિતા',\n  'લોખંડે',\n  ',',\n  'અતુલ',\n  'કુલકર્ણી',\n  'અને',\n  'સોનૂ',\n  'સૂદ',\n  'પણ',\n  'જોવા',\n  'મળશે',\n  '.'],\n ['ભાદરવા',\n  'સુદ',\n  'ચોથને',\n  'શ્રી',\n  'ગણેશ',\n  'ચતુર્થીના',\n  'નામથી',\n  'ઉજવવામાં',\n  'આવે',\n  'છે',\n  '.'],\n ['ડોનાલ્ડ',\n  'ટ્રમ્પે',\n  'વ્હાઈટ',\n  'હાઉસમાં',\n  'ઉજવી',\n  'દિવાળી',\n  '.',\n  'ભારતીય',\n  'મૂળના',\n  'અનેક',\n  'ઓફિસરો',\n  'જોડાયા'],\n ['9મા',\n  'બ્રિક્સ',\n  'શિખર',\n  'સંમેલનમાં',\n  'બ્રિક્સના',\n  'નેતાઓનું',\n  'જાહેરનામું',\n  'સભ્ય',\n  'દેશો',\n  'વચ્ચે',\n  'વ્યવહારિક',\n  'સહકારને',\n  'પ્રોત્સાહન',\n  'આપવા',\n  'માટે',\n  'પ્રેરિત',\n  'કરે',\n  'છે',\n  '.'],\n ['એર', 'ન્યુ', 'ઝિલેન્ડ'],\n ['તે',\n  'ઉપરાંત',\n  'અમેરિકી',\n  'રાષ્ટ્રપતિ',\n  'ડોનાલ્ડ',\n  'ટ્રમ્પ',\n  'પણ',\n  'પીએમ',\n  'મોદી',\n  'તરફ',\n  'ઊભેલા',\n  'દેખાય',\n  'છે',\n  '.'],\n ['ઘટના',\n  'બાદ',\n  'મુખ્યમંત્રી',\n  'દેવેન્દ્ર',\n  'ફડણવીસે',\n  'ઘટનાસ્થળની',\n  'મુલાકાત',\n  'કરી',\n  'તેની',\n  'તપાસના',\n  'આદેશ',\n  'આપ્યા',\n  'હતા',\n  '.'],\n ['આ',\n  'આરોપ',\n  'કોંગ્રેસના',\n  'નેતા',\n  'અને',\n  'ભૂતપૂર્વ',\n  'કેન્દ્રીય',\n  'પ્રધાન',\n  'મનીષ',\n  'તિવારીએ',\n  'લગાવ્યો',\n  'છે',\n  '.'],\n ['મુખ્ય', 'મુદ્દાઓ'],\n ['નવી',\n  'દિલ્હીઃ',\n  'હાલ',\n  'વિશ્વભરમાં',\n  'કોરોના',\n  'વાયરસને',\n  'કારણે',\n  'ડરનો',\n  'માહોલ',\n  'છે',\n  '.'],\n ['જાધવને',\n  'બીસીસીઆઇની',\n  'મેડિકલ',\n  'ટીમની',\n  'દેખરેખ',\n  'હેઠળ',\n  'રાખવામાં',\n  'આવ્યો',\n  'છે',\n  '.'],\n ['આ',\n  'પ્રક્રિયા',\n  'અપનાવવા',\n  'થી',\n  'લોક',\n  'ઝુંબેશ',\n  'યોજના',\n  'ને',\n  'મહત્વપૂર્ણ',\n  'સફળતા',\n  'મળી',\n  'છે',\n  '.'],\n ['આ', 'માર્ગ', 'ગયા', 'વર્ષે', '18', 'મેના', 'રોજ', 'ખુલ્યો', 'હતો'],\n ['જેમાં', 'વડાપ્રધાન', 'નરેન્દ્ર', 'મોદી', 'ખાસ', 'ઉપસ્થિત', 'રહશે', '.'],\n ['એસબીઆઇ', 'ગ્રાહકોને', 'ઝાટકો'],\n ['માઈકલ', 'જેક્સનનું', 'મૃત્યુ'],\n ['સાથે',\n  'જ',\n  'સરકારી',\n  'નોકરીમાં',\n  'મહિલાઓને',\n  '33',\n  'ટકા',\n  'અનામત',\n  'આપવાની',\n  'વાત',\n  'કરી',\n  'છે',\n  '.'],\n ['આપ',\n  'જાણો',\n  'છો',\n  'એમ',\n  ',',\n  'હું',\n  'અને',\n  'પ્રધાનમંત્રી',\n  'નજીબ',\n  'બન્ને',\n  ',',\n  'બ્રિકફીલ્ડમાં',\n  'લિટલ',\n  'ઈન્ડિયાનાં',\n  'પ્રવેશ',\n  'દ્વાર',\n  'તોરણ',\n  'ગેટનું',\n  'ઉદધાટન',\n  'કરવાના',\n  'છીએ',\n  '.'],\n ['આઇઓસીની', 'વેબસાઇટ', 'પર', 'આ', 'માહિતી', 'આપવામાં', 'આવી', 'છે', '.'],\n ['આ',\n  'ફિલ્મમાં',\n  'કરીના',\n  'સાથે',\n  'સોનમ',\n  'કપૂર',\n  ',',\n  'સ્વરા',\n  'ભાસ્કર',\n  'અને',\n  'શિખા',\n  'તલસાણિયા',\n  'ચમકી',\n  'રહી',\n  'છે',\n  '.'],\n ['કંપનીની', 'કરજમર્યાદા', 'રૂ', '.'],\n ['ઓરિસ્સાનાં', 'મુખ્યમંત્રી', 'નવીન', 'પટનાયકની', 'કરી', 'પ્રશંસા'],\n ['આ', 'મામલે', 'હાઈકોર્ટમાં', 'પણ', 'પીટીશન', 'કરવામાં', 'આવી', 'છે', '.'],\n ['આરોપીઓ',\n  'વિનય',\n  'શર્મા',\n  'અને',\n  'મુકેશની',\n  'ક્યુરેટિવ',\n  'પિટીશન',\n  'પર',\n  'સુપ્રીમ',\n  'કોર્ટના',\n  'જજ',\n  'એન',\n  'વી',\n  'રમન્ના',\n  ',',\n  'અરૂણ',\n  'મિશ્રા',\n  ',',\n  'આર',\n  'એફ',\n  'નરીમન',\n  ',',\n  'આર',\n  'ભાનુમતિ',\n  'અને',\n  'અશોક',\n  'ભૂષણની',\n  'બેંચ',\n  'સુનાવણી',\n  'કરશે',\n  '.'],\n ['INX',\n  'મીડિયા',\n  'કેસ',\n  '/',\n  'ચિદમ્બરમની',\n  'જામીન',\n  'અરજી',\n  'પર',\n  'સુપ્રીમ',\n  'કોર્ટે',\n  'EDને',\n  'નોટિસ',\n  'ફટકારી',\n  'જવાબ',\n  'માંગ્યો'],\n ['ભારતીય',\n  'પશુ',\n  'ચિકિત્સા',\n  'પરિષદ',\n  '(',\n  'ફી',\n  'અને',\n  'ભથ્થાઓ',\n  ')',\n  'નિયમન',\n  ',',\n  '૧૯૯૨'],\n ['આ',\n  'ફિલ્મને',\n  'વાઇકોમ',\n  '18',\n  'મોશન',\n  'પિક્ચર્સ',\n  ',',\n  'કાઇટા',\n  'પ્રોડક્શન',\n  'અને',\n  'વીએ',\n  'ફિલ્મ',\n  'કંપની',\n  'અંતર્ગત',\n  'બનાવવામાં',\n  'આવી',\n  'રહી',\n  'છે',\n  '.'],\n ['સીબીઆઈએ',\n  'પણ',\n  'કેટલાક',\n  'સમય',\n  'પહેલા',\n  'આ',\n  'મામલામાં',\n  'એક',\n  'ચાર્જશીટ',\n  'દાખલ',\n  'કરી',\n  'હતી',\n  '.'],\n ['પરંતુ', 'આ', 'મહત્વપૂર્ણ', 'છે', '.'],\n ['ભગતે', 'કહ્યું', '.'],\n ['શરૂપુર',\n  'ટિંબી',\n  'ગામના',\n  'લોકોનો',\n  'મુખ્ય',\n  'વ્યવસાય',\n  'ખેતી',\n  ',',\n  'ખેતમજૂરી',\n  'તેમ',\n  'જ',\n  'પશુપાલન',\n  'છે',\n  '.'],\n ['ઇયુ',\n  'અને',\n  'યુકે',\n  'માટે',\n  'આ',\n  'એકદમ',\n  'યોગ્ય',\n  'અને',\n  'ન્યાયી',\n  'કરાર',\n  'છે',\n  'અને',\n  'તે',\n  'ઉકેલ',\n  'શોધવાની',\n  'અમારી',\n  'પ્રતિબદ્ધતા',\n  'દર્શાવે',\n  'છે',\n  '.'],\n ['આ', 'વિકલ્પ', 'તપાસો'],\n ['જેમાં',\n  'કૃષિ',\n  ',',\n  'ગ્રામીણ',\n  'વિકાસ',\n  ',',\n  'પેય',\n  'જળ',\n  ',',\n  'પશુપાલન',\n  ',',\n  'ખાદ્ય',\n  'અને',\n  'જાહેર',\n  'વિતરણ',\n  ',',\n  'જળ',\n  'સંસાધન',\n  ',',\n  'ગૃહને',\n  'લગતી',\n  'બાબતો',\n  ',',\n  'નાણાં',\n  'અને',\n  'રેલવે',\n  'મંત્રાલય',\n  'આ',\n  'બેઠકના',\n  'ચર્ચા',\n  '-',\n  'વિમર્શમાં',\n  'સામેલ',\n  'હતા',\n  '.'],\n ['રાહુલ',\n  'ગાંધી',\n  'લોકસભા',\n  'ચૂંટણીમાં',\n  'પોતાની',\n  'પાર્ટીની',\n  'હારની',\n  'નૈતિક',\n  'જવાબદારી',\n  'લેતા',\n  'આ',\n  'સપ્તાહના',\n  'શરૂમાં',\n  'કોંગ્રેસ',\n  'પ્રમુખના',\n  'પદ',\n  'પરથી',\n  'રાજીનામું',\n  'આપી',\n  'દીધું',\n  'હતું',\n  '.'],\n ['વેસ્ટ',\n  'ઈન્ડિઝઃ',\n  'જેસન',\n  'હોલ્ડર',\n  '(',\n  'કેપ્ટન',\n  ')',\n  ',',\n  'સુનીલ',\n  'એમ્બ્રિસ',\n  ',',\n  'દેવેન્દ્ર',\n  'વિશૂ',\n  ',',\n  'ક્રેગ',\n  'બ્રૈથવેટ',\n  ',',\n  'રોસ્ટન',\n  'ચેઝ',\n  ',',\n  'શેન',\n  'ડોવરિચ',\n  ',',\n  'શૈનન',\n  'ગૈબ્રિયલ',\n  ',',\n  'જહમર',\n  'હેમિલ્ટન',\n  ',',\n  'શિમરોન',\n  'હેટમાયરષ',\n  'સાઈ',\n  'હોપ',\n  ',',\n  'અલજારી',\n  'જોસેફ',\n  ',',\n  'કીમો',\n  'પોલ',\n  ',',\n  'કીરેન',\n  'પોવેલ',\n  ',',\n  'કેમાર',\n  'રોચ',\n  'અને',\n  'જોમેલ',\n  'વારિકન',\n  '.'],\n ['આરોગ્ય', 'મંત્રાલયના', '.'],\n ['તેની',\n  'પાછળ',\n  'એક',\n  'સફેદ',\n  'બિલ્ડિંગ',\n  'સાથે',\n  'એક',\n  'કાળા',\n  'અને',\n  'સફેદ',\n  'શેરી',\n  'સાઇન',\n  '.'],\n ['ઈજાગ્રસ્તોને',\n  'સારવાર',\n  'માટે',\n  'હિંમતનગર',\n  'સિવિલ',\n  'હોસ્પિટલમાં',\n  'ખસેડવામાં',\n  'આવ્યા',\n  'હતા',\n  '.'],\n ['આથી',\n  'તેને',\n  'સારવાર',\n  'માટે',\n  'સયાજી',\n  'હોસ્પિટલમાં',\n  'ખસેડવામાં',\n  'આવ્યો',\n  'હતો',\n  '.'],\n ['ગુજરાતના', 'મુખ્યમંત્રી', 'વિજય', 'રૂપાણીએ', 'કર્યું', 'એલાન'],\n ['જ્યારે',\n  'જેડીયુ',\n  'નેતા',\n  'શરદ',\n  'યાદવે',\n  'પણ',\n  'પ્રતિક્રિયા',\n  'આપી',\n  'હતી',\n  '.'],\n ['લુણાવાડા',\n  ')',\n  'ભારત',\n  'દેશના',\n  'પશ્ચિમ',\n  'ભાગમાં',\n  'આવેલા',\n  'ગુજરાત',\n  'રાજ્યના',\n  'મધ્ય',\n  'ભાગમાં',\n  'આવેલા',\n  'મહીસાગર',\n  'જિલ્લામાં',\n  'આવેલા',\n  'લુણાવાડા',\n  'તાલુકાનું',\n  'એક',\n  'ગામ',\n  'છે',\n  '.'],\n ['ભય', 'તેને', 'લાગતો', 'નથી', '.'],\n ['ભારતીય', 'ટીમના', 'કેપ્ટન', 'વિરાટ', 'કોહલી', ',', '.', '.', '.'],\n ['બોલિવૂડ',\n  'અભિનેત્રી',\n  'કંગના',\n  'રનૌત',\n  'દરોરજ',\n  'કોઈને',\n  'કોઈ',\n  'વાતને',\n  'લઈ',\n  'ચર્ચામાં',\n  'રહેતી',\n  'હોય',\n  'છે',\n  '.'],\n ['આ',\n  'પણ',\n  'વાંચોઃ',\n  'નાગરિકતા',\n  'સંશોધન',\n  'બિલને',\n  'ખોટું',\n  'સાબિત',\n  'કરો',\n  ',',\n  'પાછું',\n  'લઈ',\n  'લઈશુંઃ',\n  'અમિત',\n  'શાહ'],\n ['શોમાં', 'જુઓ', 'શું', 'છે', '?'],\n ['પ્રધાનમંત્રી',\n  'શ્રી',\n  'નરેન્દ્ર',\n  'મોદીએ',\n  'ઇસરોને',\n  '103',\n  'નેનો',\n  'સેટેલાઇટ',\n  'સાથે',\n  'પીએસએલવી',\n  '-',\n  'સી37',\n  'અને',\n  'કાર્ટોસેટ',\n  'સેટેલાઇટ',\n  'છોડવા',\n  'બદલ',\n  'અભિનંદન',\n  'આપ્યા',\n  'છે',\n  '.'],\n ['ભાજપ',\n  'લોકસભાની',\n  'ચૂંટણીમાં',\n  'સન્ની',\n  'દેઓલને',\n  'ગુરુદાસ',\n  'પુર',\n  'અથવા',\n  'ચંદીગઢ',\n  'બેઠક',\n  'પર',\n  'ટિકિટ',\n  'આપે',\n  'તેવી',\n  'શક્યતા',\n  'છે',\n  '.'],\n ['સારા',\n  'અલી',\n  'ખાન',\n  'હાલમાં',\n  'ડેવિડ',\n  'ધવનની',\n  'ફિલ્મ',\n  \"'\",\n  'કુલ',\n  'નંબર',\n  '1',\n  \"'\",\n  'માં',\n  'વ્યસ્ત',\n  'છે',\n  '.'],\n ['અન્ય',\n  'નોંધનીય',\n  'પ્રોજેકટોમાં',\n  'સમગ્ર',\n  'મધ્ય',\n  'અને',\n  'પૂર્વીય',\n  'યુરોપમાં',\n  'વિજ્ઞાનીઓને',\n  'તથા',\n  'યુનિવર્સિટીઓને',\n  'આપેલી',\n  'સહાય',\n  ',',\n  'સારાજેવોના',\n  'યુદ્ધઘેરા',\n  'દરમ્યાન',\n  'સામાન્ય',\n  'નાગરિકોને',\n  'પહોંચાડેલી',\n  'મદદ',\n  ',',\n  'અને',\n  'ટ્રાન્સપરન્સી',\n  'ઈન્ટરનેશનલને',\n  'પૂરી',\n  'પાડેલી',\n  'સહાય',\n  'સામેલ',\n  'છે',\n  '.'],\n ['ગુજરાતમાં', 'પણ', 'હાઇ', 'એલર્ટ'],\n ['જે', 'બીજેપી', 'માટે', 'મુશ્કેલી', 'સર્જી', 'શકે', 'છે', '.'],\n ['જે', 'ગીતને', 'આશા', 'ભોંસલેએ', 'કંઠ', 'આપ્યો', 'છે', '.'],\n ['બચત',\n  'ખાતાઓને',\n  'એફડીઆઇસી',\n  'દ્વારા',\n  '$',\n  '250,000',\n  'સુધી',\n  'વીમાકૃત',\n  'કરવામાં',\n  'આવે',\n  'છે',\n  '.'],\n ['એનરોને',\n  'તેનું',\n  'દેવું',\n  'છુપાવવા',\n  'માટે',\n  '2001',\n  'સુધીમાં',\n  'કુલ',\n  'મળીને',\n  'સકડો',\n  'ખાસ',\n  'હેતુ',\n  'માટેની',\n  'કંપનીઓનો',\n  'ઉપયોગ',\n  'કર્યો',\n  'હતો',\n  '.'],\n ['આ', 'વાહનો', 'કબ્જે', 'કર્યા', 'હતા', '.'],\n ['જેમ્સ',\n  'બોન્ડની',\n  'ફિલ્મ',\n  \"'\",\n  'નો',\n  'ટાઇમ',\n  'ટૂ',\n  'ડાઇ',\n  \"'\",\n  'નું',\n  'પ્રથમ',\n  'પોસ્ટર',\n  'રિલીઝ'],\n ['કેન્દ્રીય',\n  'તપાસ',\n  'બ્યૂરોએ',\n  '(',\n  'CBI',\n  ')',\n  'સર્વોચ્ચ',\n  'ન્યાયાલયના',\n  'વકીલ',\n  'ઇંદિયા',\n  'જયસિંહ',\n  'અને',\n  'આનંદ',\n  'ગ્રોવરના',\n  'દિલ્હી',\n  'અને',\n  'મુંબઇ',\n  'સ્થિત',\n  'ઘરો',\n  'પર',\n  'દરોડા',\n  'પાડ્યા',\n  'છે',\n  '.'],\n ['ઇક્વિટી', 'મ્યુચ્યુલ', 'ફંડ'],\n ['તેણે',\n  'આ',\n  'વિડીયો',\n  'પોતાની',\n  'યુટ્યુબ',\n  'ચેનલ',\n  'પર',\n  'શેર',\n  'કર્યો',\n  'છે',\n  '.'],\n ['સારા',\n  'અલી',\n  'ખાન',\n  'મશહૂર',\n  'ફિલ્મ',\n  'એક્ટર',\n  'સૈફ',\n  'અલી',\n  'ખાનની',\n  'દીકરી',\n  'છે',\n  'અને',\n  'પોતે',\n  'પણ',\n  'એક્ટ્રેસ',\n  'છે',\n  '.'],\n ['ઉદાહરણઃ', 'ધ', 'ન્યૂ', 'યોર્ક', 'ટાઇમ્સ'],\n ['આ', 'ફિલ્મમાં', 'ઋષિ', 'કપૂર', 'પણ', 'છે', '.'],\n ['મોદી', 'જવાબ', 'આપતા', 'નથી', 'માત્ર', 'ભાષણો', 'જ', 'આપે', 'છે', '.'],\n [\"'\",\n  'બાહુબલી',\n  \"'\",\n  'સીરીઝની',\n  'બંન્ને',\n  'ફિલ્મોમાં',\n  'એક્ટ્રેસ',\n  'રામ્યા',\n  'કૃષ્ણને',\n  'શિવગામી',\n  'દેવીની',\n  'ભૂમિકા',\n  'ભજવી',\n  'છે',\n  '.'],\n ['સુત્રો',\n  'તરફથી',\n  'મળતી',\n  'માહિતી',\n  'પ્રમાણે',\n  ',',\n  'રાહુલ',\n  'ગાંધી',\n  'કોંગ્રેસ',\n  'અધ્યક્ષ',\n  'પદ',\n  'પર',\n  'રહેવા',\n  'માની',\n  'ગયા',\n  'છે',\n  '.'],\n ['ડીસીસી',\n  'એ',\n  'ટેલિકોમ',\n  'વિભાગમાં',\n  'નિર્ણય',\n  'લેનાર',\n  'સૌથી',\n  'મોટી',\n  'સંસ્થા',\n  'છે',\n  '.'],\n ['કોંગ્રેસ', 'પક્ષ', 'તેને', 'સ્વીકારશે', 'નહિ', '.'],\n ['પછી', 'આ', 'એક', 'પ્રયાસ', 'કરો', '.'],\n ['ગોવાના', 'મુખ્યમંત્રી'],\n ['આ',\n  'બેઠકમાં',\n  'વડાપ્રધાન',\n  'નરેન્દ્ર',\n  'મોદી',\n  'અને',\n  'પાર્ટીના',\n  'રાષ્ટ્રય',\n  'અધ્યક્ષ',\n  'અમિત',\n  'શાહ',\n  'સહિત',\n  'ટોચના',\n  'નેતાઓ',\n  'ભાગ',\n  'લઈ',\n  'રહ્યા',\n  'છે',\n  '.'],\n ['જનરલ', 'ઉખાણાઓ'],\n ['ગૂગલ',\n  'ફોટોસ્કેન',\n  'એપ',\n  'તમારી',\n  'જૂની',\n  'યાદોને',\n  'સ્માર્ટફોનમાં',\n  'જીવિત',\n  'રાખશે',\n  ',',\n  'જાણો'],\n ['CVS', 'પ્લગઇન'],\n ['પછી',\n  'યોહાનના',\n  'શિષ્યો',\n  'ઈસુની',\n  'પાસે',\n  'આવ્યા',\n  '.',\n  'તેઓએ',\n  'ઈસુને',\n  'પૂછયું',\n  'કે',\n  ',',\n  '\"',\n  'અમે',\n  'અને',\n  'ફરોશીઓ',\n  'વારંવાર',\n  'ઉપવાસ',\n  'કરીએ',\n  'છીએ',\n  'તો',\n  'તારા',\n  'શિષ્યો',\n  'શા',\n  'માટે',\n  'ઉપવાસ',\n  'કરતા',\n  'નથી',\n  '?',\n  '\"'],\n ['રાહુલ', 'ગાંધીના', 'નિવેદનથી', 'દુઃખ', 'થયું', 'છે', '.'],\n ['તે', 'તમારા', 'દુઃખમાં', 'પણ', 'સહભાગી', 'થઈ', 'શકે', '.'],\n ['આ', 'લગ્નનો', 'કાર્યક્રમ', 'મુંબઈમાં', 'કરવામાં', 'આવશે', '.'],\n ['હાલમાં',\n  'અક્ષય',\n  'કુમાર',\n  'આનંદ',\n  'એલ',\n  '.',\n  'રાયની',\n  'ફિલ્મ',\n  'અતરંગીનું',\n  'કામ',\n  'કરી',\n  'રહ્યો',\n  'છે',\n  '.'],\n ['ઈન્ટરનેટ', 'શટડાઉનના', 'મામલે', 'ભારત', 'વિશ્વમાં', 'ટોપ'],\n ['ભગવાન',\n  'બુદ્ધનો',\n  'શાંતિ',\n  'અને',\n  'સંવેદનાનો',\n  'સંદેશો',\n  'આપણને',\n  'સૌને',\n  'જોડે',\n  'છે',\n  '.'],\n ['બેઠક',\n  'બાદ',\n  'કેન્દ્રીય',\n  'મંત્રી',\n  'રવિશંકર',\n  'પ્રસાદે',\n  'મોદીના',\n  'સંબોધનની',\n  'મુખ્યવાતો',\n  'મીડિયાને',\n  'જણાવી',\n  '.'],\n ['તેમના', 'નિવેદન', 'પર', 'પાર્ટીએ', 'પણ', 'અંતર', 'જાળવ્યું', 'હતું', '.'],\n ['કેન્ટ',\n  'પોલીસ',\n  'કમાન્ડર',\n  'જારોડ',\n  'કાસનરના',\n  'જણાવ્યાં',\n  'મુજબ',\n  'સિખ',\n  'અને',\n  'અન્ય',\n  'સમુદાય',\n  'પરના',\n  'લોકો',\n  'પર',\n  'થઈ',\n  'રહેલા',\n  'હુમલા',\n  'ચિંતાના',\n  'વાત',\n  'છે',\n  '.'],\n ['દિલ્હીઃ',\n  'દિલ્હી',\n  'હિંસામાં',\n  'મૃત્યુઆંક',\n  'વધીને',\n  '42',\n  'થઈ',\n  'ગયો',\n  'છે',\n  '.'],\n ['યુએસ',\n  'જિયોલોજિકલ',\n  'સર્વે',\n  'મુજબ',\n  'ભૂકંપની',\n  'શરૂઆતી',\n  'તીવ્રતા',\n  '7.5',\n  'હતી',\n  '.'],\n ['હોલોકાસ્ટની', 'શરૂઆત'],\n ['માચિસ', 'અને', 'બ્રશ', '.'],\n ['બેસ્ટ',\n  'ડેબ્યુ',\n  'ફિલ્મ',\n  'ઓફ',\n  'અ',\n  'ડિરેક્ટર',\n  '-',\n  'દીપ',\n  'ચૌધરી',\n  '(',\n  'અલિફા',\n  ')'],\n ['વાસ્તવવાદી', 'છબીઓ', '.'],\n ['હવામાન', 'વિભાગના', 'સૂત્રોના', 'જણાવ્યાનુસાર', 'દ', '.'],\n ['વરથુ',\n  'ગામના',\n  'લોકોનો',\n  'મુખ્ય',\n  'વ્યવસાય',\n  'ખેતી',\n  ',',\n  'ખેતમજૂરી',\n  'તેમ',\n  'જ',\n  'પશુપાલન',\n  'છે',\n  '.'],\n ['પ્રધાનમંત્રી',\n  'શ્રી',\n  'નરેન્દ્ર',\n  'મોદીની',\n  'અધ્યક્ષતામાં',\n  'મંત્રીમંડળે',\n  'ટેલીકોમ',\n  'સેવા',\n  'ક્ષેત્રની',\n  'નાણાકીય',\n  'ખેંચની',\n  'સમસ્યાને',\n  'હળવી',\n  'કરવા',\n  'માટેનાં',\n  'એક',\n  'દરખાસ્તને',\n  'મંજૂરી',\n  'આપી',\n  'છે',\n  ',',\n  'જે',\n  'નીચે',\n  'મુજબ',\n  'છેઃ'],\n ['ભૂકંપના',\n  'ઝાટકા',\n  'નિકારાગુઆની',\n  'રાજધાની',\n  'માનાગુઆ',\n  'અને',\n  'કોસ્ટા',\n  'રિકાની',\n  'રાજધાની',\n  'સૈન',\n  'જોસ',\n  'સુધી',\n  'મહેસૂસ',\n  'થયા',\n  '.'],\n ['આ',\n  'સમય',\n  'દરમિયાન',\n  ',',\n  'ઓરેકલ',\n  '(',\n  'Oracle',\n  ')',\n  'સાયબેઝથી',\n  'પાછળ',\n  'ધકેલાયું',\n  '.'],\n ['તે',\n  'ખાલી',\n  'પેટ',\n  'પર',\n  'તે',\n  'લેવા',\n  'માટે',\n  'ભલામણ',\n  'કરવામાં',\n  'આવે',\n  'છે',\n  '.'],\n ['મોદીએ', 'આપ્યો', 'જવાબ'],\n ['\"',\n  'તેમના',\n  '\"',\n  '\"',\n  'એન્કોમિયમ',\n  'ટુ',\n  'હાલેન',\n  '\"',\n  '\"',\n  'માં',\n  ',',\n  'ગોર્ગીયાસે',\n  'પણ',\n  'ત્રોજન',\n  'યુદ્ધના',\n  'પ્રારંભમાં',\n  'પૌરાણિક',\n  'હાલેનની',\n  'દોષોને',\n  'સાબિત',\n  'કરવા',\n  'માટે',\n  'પોતાની',\n  'ખુશી',\n  'વ્યક્ત',\n  'કરીને',\n  'કલ્પાનમાં',\n  'રેટરિક',\n  'લાગુ',\n  'પાડ્યો',\n  'હોત',\n  '.',\n  '\"'],\n ['આને', 'કારણે', 'કોંગ્રેસને', 'મોટો', 'ફટકો', 'પડ્યો', 'છે', '.'],\n ['રૈના',\n  'અને',\n  'શિખર',\n  'વચ્ચે',\n  'ત્રીજી',\n  'વિકેટ',\n  'માટે',\n  '68',\n  'રનોની',\n  'ભાગીદારી',\n  'થઇ',\n  'હતી',\n  '.'],\n ['ચાર',\n  'રાજ્યોના',\n  'વિધાનસભા',\n  'ચૂંટણીના',\n  'પરિણામ',\n  'સામે',\n  'આવી',\n  'ચુક્યા',\n  'છે',\n  '.'],\n ['રાષ્ટ્રપતિ',\n  'પુતિને',\n  'આર્કટિક',\n  'ક્ષેત્રમાં',\n  'પ્રાકૃતિક',\n  'ગેસની',\n  'ક્ષમતાનો',\n  'ઉલ્લેખ',\n  'કરીને',\n  'ભારતને',\n  'ત્યાં',\n  'નિવેશ',\n  'માટે',\n  'આમંત્રણ',\n  'પાઠવ્યું',\n  'છે',\n  '.'],\n ['તેમજ', 'આ', 'બાબતે', 'કાર્યવાહી', 'કરવા', 'રજૂઆત', 'પણ', 'કરી', 'હતી', '.'],\n ['આ',\n  'ડેટામાં',\n  'મહારાષ્ટ્ર',\n  ',',\n  'ગુજરાત',\n  ',',\n  'દિલ્હી',\n  ',',\n  'ઉત્તરપ્રદેશ',\n  ',',\n  'પશ્ચિમ',\n  'બંગાળ',\n  'અને',\n  'આંધ્રપ્રદેશનો',\n  'સમાવેશ',\n  'થાય',\n  'છે',\n  '.'],\n ['આ', 'માટે', 'કારણો', 'હોઈ', 'શકે', 'છેઃ'],\n ['જગન્નાથ', 'મંદિર', ',', 'પુરીઃ'],\n ['ગૃહમંત્રી',\n  'રાજનાથ',\n  'સિંહ',\n  'ગુજરાતના',\n  'બારડોલીમાં',\n  'ભાજપની',\n  'ગૌરવ',\n  'યાત્રામાં',\n  'હાજર',\n  'રહ્યા',\n  'હતા',\n  '.'],\n [\"'\",\n  'રાહુલજીએ',\n  'જ્યારે',\n  'જોઇ',\n  'તો',\n  'તેમણે',\n  '30',\n  'ચિલિંગ',\n  'પ્લાન્ટ',\n  'લગાવ્યા',\n  '.'],\n ['કેવી', 'રીતે', 'અધિકાર', 'વિષય', 'પસંદ', 'કરવા', 'માટે', '?'],\n ['ભારતીય',\n  'વન',\n  'સેવા',\n  '(',\n  'આઈએફએસ',\n  ')',\n  'ના',\n  'અધિકારી',\n  'પ્રવીણ',\n  'કસવાને',\n  'આ',\n  'વીડિયો',\n  'શેર',\n  'કર્યો',\n  'છે',\n  '.'],\n ['ફિલ્મમાં',\n  'અનિલ',\n  'કપુર',\n  'અને',\n  'કૃણાલ',\n  'ખેમુની',\n  'પણ',\n  'ભૂમિકા',\n  'રહેલી',\n  'છે',\n  '.'],\n ['કુટુંબનો', 'સહકાર'],\n ['ભાજપ', 'માટે', 'મતની', 'માગશે', '.'],\n ['હું', 'આઈપીએલ', 'માટે', 'ઉપલબ્ધ', 'નથી', '.'],\n ['જોવા', 'મળે', 'છે', '.'],\n ['કોરિયા',\n  'પ્લસે',\n  'લગભગ',\n  'બે',\n  'વર્ષનાં',\n  'ટૂંકા',\n  'ગાળામાં',\n  '100થી',\n  'વધારે',\n  'કોરિયન',\n  'રોકાણકારોને',\n  'સન્માનિત',\n  'કર્યા',\n  'છે',\n  '.'],\n ['તદોબા',\n  'રિસર્વ',\n  'મહારાષ્ટ્ર',\n  'ચન્દ્રપુર',\n  'જિલ્લામાં',\n  'આવેલું',\n  'છે',\n  '.'],\n ['ધાર્મિક',\n  'પ્રવૃત્તિઓ',\n  'અને',\n  'પ્રકાશનોઃ',\n  'દેશભરમાં',\n  'ધાર્મિક',\n  'પ્રવૃત્તિઓ',\n  'હાથ',\n  'ધરવામાં',\n  'આવશે',\n  '.'],\n ['આમ', 'પાંચ', 'બેઠકો', 'ભાજપના', 'હાથમાં', 'હતી', '.'],\n ['આ', 'ઉપાય', 'રોજ', 'કરી', 'શકાય', 'છે', '.'],\n ['ગુજરાતને',\n  'સરદાર',\n  'પટેલ',\n  'અને',\n  'મહાત્મા',\n  'ગાંધી',\n  'જેવા',\n  'મહાન',\n  'નેતાઓની',\n  \"'\",\n  'જન્મભૂમિ',\n  \"'\",\n  'અને',\n  \"'\",\n  'કર્મભૂમિ',\n  \"'\",\n  'ગણાવીને',\n  'ઉપ',\n  '-',\n  'રાષ્ટ્રપતિએ',\n  'ગ્રામ',\n  'સ્વરાજના',\n  'વિઝનનું',\n  'વાસ્તવિકતામાં',\n  'રૂપાંતર',\n  'કરવા',\n  'અનુરોધ',\n  'કર્યો',\n  'હતો',\n  '.'],\n ['સલમાન',\n  'ખાન',\n  ',',\n  'રણવીર',\n  'સિંઘ',\n  ',',\n  'વિકી',\n  'કૌશલ',\n  ',',\n  'માધૂરી',\n  'દીક્ષિત',\n  ',',\n  'કેટરીના',\n  'કૈફ',\n  'અને',\n  'સારા',\n  'અલી',\n  'ખાન',\n  'જેવા',\n  'સિતારાઓ',\n  'મંચપ્રદર્શન',\n  'કરીને',\n  'સૌને',\n  'મંત્રમુગ્ધ',\n  'કરશે',\n  '.'],\n ['આ', 'ફિલ્મને', 'આશિક', 'અબૂએ', 'ડિરેક્ટ', 'કરી', 'છે', '.'],\n ['ફિલ્મમાં',\n  'સૂરજ',\n  'શર્મા',\n  'ભૂત',\n  'અનુષ્કાને',\n  'મળે',\n  'છે',\n  'અને',\n  'તેના',\n  'લગ્ન',\n  'અનિચ્છાએ',\n  'એક',\n  'ઝાડ',\n  'સાથે',\n  'થઈ',\n  'જાય',\n  'છે',\n  '.'],\n ['પ્રધાનમંત્રી',\n  'શ્રી',\n  'નરેન્દ્ર',\n  'મોદીએ',\n  'આજે',\n  'જીએસટીના',\n  'અમલ',\n  'માટેની',\n  'સ્થિતિમાં',\n  'થયેલી',\n  'પ્રગતિની',\n  'સમીક્ષા',\n  'કરી',\n  'હતી',\n  ',',\n  'જેનો',\n  '1',\n  'જુલાઈથી',\n  'અમલ',\n  'થવાનો',\n  'છે'],\n ['તે', 'ખરીદો', 'વર્થ', 'છે', '?'],\n ['આ',\n  'ફિલ્મમાં',\n  'અનુષ્કા',\n  'સાથે',\n  'શહરૂખ',\n  'ખાન',\n  'અને',\n  'કેટરીના',\n  'કૈફ',\n  'હતા',\n  '.'],\n ['અમેરિકાના',\n  'રાષ્ટ્રપતિ',\n  'ડોનાલ્ડ',\n  'ટ્રમ્પ',\n  'અમદાવાદ',\n  'એરપોર્ટ',\n  'પર',\n  'ઉતરશે'],\n ['વન્યજીવન',\n  'અભયારણ્ય',\n  'ખાતે',\n  'મુખ્યત્વે',\n  'વેટલેન્ડ',\n  'છે',\n  ',',\n  'જે',\n  'ગંડકી',\n  'નદીના',\n  'પૂરક્ષેત્રમાં',\n  'આવેલ',\n  'ઓક્સબો',\n  'તળાવ',\n  'ખાતે',\n  'સ્થિત',\n  'છે',\n  '.'],\n ['મનમોહનસિંહ',\n  'અને',\n  'પ્રિયંકા',\n  'ગાંધીએ',\n  'રાહુલ',\n  'સાથે',\n  'બેઠક',\n  'યોજી',\n  'હતી',\n  '.'],\n ['નીચાણવાળા', 'વિસ્તારોમાં', 'સ્થિતિ', 'ખરાબ', 'થયેલી', 'છે', '.'],\n ['\"',\n  'તેના',\n  'ઉદાહરણોમાં',\n  'યુરોપીયન',\n  'યુનિફાઇટ',\n  ',',\n  'મેટ',\n  'લાર્સન',\n  'દ્વારા',\n  'વિકસાવવામાં',\n  'આવેલી',\n  'યુ',\n  '.',\n  'એસ',\n  '.',\n  'લશ્કરની',\n  'તકરારી',\n  'પદ્ધતિ',\n  ',',\n  'ઇઝરાયેલી',\n  'લશ્કર',\n  'તેના',\n  'સૈનિકોને',\n  'કાપાપ',\n  'અને',\n  'ક્રાવ',\n  'માગામાં',\n  'તાલીમ',\n  'આપે',\n  'છે',\n  'અને',\n  'યુએસ',\n  'મરીન',\n  'કોર્પસના',\n  '\"',\n  '\"',\n  'મરીન',\n  'કોર્પસ',\n  'માર્શલ',\n  'આર્ટસ',\n  'પ્રોગ્રામ',\n  '\"',\n  '\"',\n  '(',\n  'એમસીએમએપી',\n  ')',\n  'નો',\n  'સમાવેશ',\n  'થાય',\n  'છે',\n  '.',\n  '\"'],\n ['બ્રિક્સ',\n  'સંગઠનનાં',\n  'સભ્ય',\n  'દેશોનાં',\n  'શ્રમ',\n  'અને',\n  'રોજગારી',\n  'કાર્યકારી',\n  'જૂથ',\n  '(',\n  'ઇડબલ્યુજી',\n  ')',\n  'ની',\n  'પ્રથમ',\n  'બેઠક',\n  '-',\n  '7થી',\n  '10',\n  'મે',\n  '(',\n  'મ્પુમલંગા',\n  ')'],\n ['Skydome', 'ઢાળ', 'શરૂઆત', 'રંગ'],\n ['જ્યારે', 'ભાજપ', '8', 'બેઠકો', 'પર', 'આગળ', 'ચાલી', 'રહ્યો', 'છે', '.'],\n ['હાલમાં',\n  'તેની',\n  'સામે',\n  'લંડનની',\n  'કોર્ટમાં',\n  'પ્રત્યાર્પણનો',\n  'કેસ',\n  'ચાલે',\n  'છે',\n  '.'],\n ['હવે',\n  'આ',\n  'કેસની',\n  'તપાસ',\n  'સીબીઆઈ',\n  ',',\n  'ઈડી',\n  'અને',\n  'એનસીબી',\n  'જેવી',\n  'એજન્સીઓ',\n  'કરી',\n  'રહી',\n  'છે',\n  '.'],\n ['છ', 'લોકો', 'સામે', 'નોંધાયો', 'ગુનો'],\n ['દોહા',\n  'ડેવલપમેન્ટ',\n  'એજન્ડા',\n  '(',\n  'ડીડીએ',\n  ')',\n  'ના',\n  'મુદ્દાઓ',\n  'પર',\n  'પ્રાથમિકતાના',\n  'ધોરણે',\n  'વધુ',\n  'વાતચીત',\n  'હાથ',\n  'ધરવાની',\n  'જરૂરિયાત',\n  'પર',\n  'પણ',\n  'અમે',\n  'ભાર',\n  'મૂક્યો',\n  '.'],\n ['સીનિયર',\n  '55',\n  'કિગ્રાની',\n  'કેટેગરીમાં',\n  'સોરોઇખાઇબામ',\n  'બિંદિયા',\n  'રાની',\n  'અને',\n  'મત્સા',\n  'સંતોષીઍ',\n  'અનુક્રમે',\n  'ગોલ્ડ',\n  'અને',\n  'સિલ્વર',\n  'મેડલ',\n  'જીત્યો',\n  'હતો',\n  '.'],\n ['બજાજ',\n  'ઓટોએ',\n  '2020',\n  'સુધીમાં',\n  'ઇલેક્ટ્રિક',\n  'વાહનો',\n  'માટે',\n  'નવી',\n  'બ્રાન્ડ',\n  \"'\",\n  'અર્બનાઇટ',\n  \"'\",\n  'લોન્ચ',\n  'કરવાની',\n  'જાહેરાત',\n  'કરી',\n  'છે',\n  '.'],\n ['માસ્ટર', 'ઓફ', 'આર્ટસ', '-', 'સમાજશાસ્ત્ર', '(', 'MSO', ')'],\n ['આ',\n  'ત્રણેય',\n  'આરોપીઓનાં',\n  'નામ',\n  'વૈભવ',\n  'રાઉત',\n  ',',\n  'શરદ',\n  'કલાસ્કર',\n  'અને',\n  'સુધન્વા',\n  'ગોંડલેકર',\n  'છે',\n  '.'],\n ['દક્ષિણ',\n  'ગુજરાતમાં',\n  'ભારેથી',\n  'અતિભારે',\n  'વરસાદની',\n  'હવામાન',\n  'ખાતાની',\n  'આગાહી'],\n ['આઇએનએક્સ',\n  'મીડિયા',\n  'મની',\n  'લોન્ડરિંગ',\n  'કેસમાં',\n  'આરોપી',\n  'પૂર્વ',\n  'નાણામંત્રી',\n  'પી',\n  '.',\n  'ચિદમ્બરમ',\n  'ના',\n  'પુત્ર',\n  'કાર્તિ',\n  'ચિદમ્બરમની',\n  'ધરપકડ',\n  'કરવામાં',\n  'આવી',\n  'છે',\n  '.'],\n ['પ્રધાનમંત્રી',\n  'આવતીકાલે',\n  'દાદરા',\n  'અને',\n  'નગર',\n  'હવેલીની',\n  'મુલાકાત',\n  'લેશે'],\n ['મોતેસરી',\n  'ગામના',\n  'લોકોનો',\n  'મુખ્ય',\n  'વ્યવસાય',\n  'ખેતી',\n  ',',\n  'ખેતમજૂરી',\n  'તેમ',\n  'જ',\n  'પશુપાલન',\n  'છે',\n  '.'],\n ['અન્ય', 'કાયદાકીય', 'માહિતી'],\n ['પ્રધાનમંત્રીનું',\n  'કાર્યાલય',\n  'પ્રધાનમંત્રીએ',\n  'વીડિયો',\n  'કોન્ફરન્સનાં',\n  'માધ્યમથી',\n  'દેશભરમાં',\n  'ગ્રામીણ',\n  'વિદ્યુતીકરણ',\n  'અને',\n  'સૌભાગ્ય',\n  'યોજનાઓનાં',\n  'લાભાર્થીઓ',\n  'સાથે',\n  'વાર્તાલાપ',\n  'કર્યો',\n  'પ્રધાનમંત્રી',\n  'શ્રી',\n  'નરેન્દ્ર',\n  'મોદીએ',\n  'વર્ષ',\n  '2014',\n  'પછી',\n  'વિદ્યુતીકરણ',\n  'થયેલા',\n  'દેશભરનાં',\n  'ગામડાંઓનાં',\n  'નાગરિકોની',\n  'સાથે',\n  'આજે',\n  'વાતચીત',\n  'કરી',\n  'હતી',\n  '.'],\n ['કોંગ્રેસના', 'ભાજપ', 'સરકરા', 'પર', 'આરોપ'],\n ['આ',\n  'અંગે',\n  'ચાંદખેડા',\n  'પોલીસે',\n  'ગુનો',\n  'દાખલ',\n  'કરી',\n  'વધુ',\n  'તપાસ',\n  'હાથ',\n  'ધરી',\n  'છે',\n  '.'],\n ['પોલીસે',\n  'આ',\n  'ઘટનાની',\n  'તપાસ',\n  'હેઠળ',\n  '200',\n  'શકમંદોની',\n  'પૂછપરછ',\n  'કરી',\n  'અને',\n  'બીજે',\n  'જ',\n  'દિવસે',\n  'ઝાબુઆમાંથી',\n  '30',\n  'વર્ષીય',\n  'આદિવાસી',\n  'નંદી',\n  'ગમાડની',\n  'ધરપકડ',\n  'કરી',\n  'લીધી',\n  '.'],\n ['કોંગ્રેસના',\n  'રાષ્ટ્રીય',\n  'અધ્યક્ષ',\n  'રાહુલ',\n  'ગાંધીએ',\n  'તાજેતરમાં',\n  'ચૂંટણી',\n  'પ્રચાર',\n  'દરમિયાન',\n  \"'\",\n  'બધા',\n  'મોદી',\n  'ચોર',\n  'છે',\n  \"'\",\n  'એ',\n  'બાબતે',\n  'નિવેદન',\n  'આપ્યું',\n  'હતું',\n  '.'],\n ['આ',\n  'ફિલ્મ',\n  'ધર્મા',\n  'પ્રોડક્શન',\n  'દ્વારા',\n  'તૈયાર',\n  'કરવામાં',\n  'આવી',\n  'હતી',\n  '.'],\n ['ત્રણ', 'શ્વાન', 'તેમના', 'માલિકો', 'સાથે', 'મળીને', 'huddled', 'છે'],\n ['તો',\n  'બીજી',\n  'તરફ',\n  'ભાજપ',\n  'અધ્યક્ષ',\n  'અમિત',\n  'શાહ',\n  'અને',\n  'કેન્દ્રીય',\n  'પ્રધાનોની',\n  'ફોજે',\n  'પ્રચાર',\n  'માટે',\n  'જોર',\n  'લગાવ્યું',\n  '.'],\n ['મોટોરોલા',\n  'મોટો',\n  'જી4',\n  'પ્લસમાં',\n  'ઓક્ટા',\n  '-',\n  'કોર',\n  'ક્વોલકોમ',\n  'સ્નેપડ્રેગન',\n  '617',\n  'પ્રોસેસર',\n  'છે',\n  '.'],\n ['આ', 'કૌભાંડને', 'ઈડી', 'પણ', 'તપાસી', 'રહ્યું', 'છે', '.'],\n ['જોકે',\n  'આ',\n  'પ્લાનને',\n  'હજુ',\n  'સરકારનું',\n  'ગ્રીન',\n  'સિગ્નલ',\n  'મળવાનું',\n  'બાકી',\n  'છે',\n  '.'],\n ['નેહા',\n  'કક્કડ',\n  'સાથે',\n  'બ્રેકઅપ',\n  'અંગે',\n  'પહેલીવાર',\n  'હિમાંશ',\n  'કોહલીએ',\n  'કર્યો',\n  'ખુલાસો'],\n ['આ',\n  'બેઠકમાં',\n  'ગુજરાતના',\n  'મુખ્યપ્રધાન',\n  'વિજય',\n  'રૂપાણી',\n  ',',\n  'ગોવાના',\n  'સીએમ',\n  'ડૉ',\n  '.',\n  'પ્રમોદ',\n  'સાંવત',\n  ',',\n  'મહારાષ્ટ્રના',\n  'સીએમ',\n  'દેવેન્દ્ર',\n  'ફડણવીસ',\n  'અને',\n  'દમણ',\n  'અને',\n  'દીવ',\n  'અને',\n  'દાદરા',\n  'અને',\n  'નગર',\n  'હવેલીના',\n  'કેન્દ્ર',\n  'શાસિત',\n  'પ્રશાસક',\n  'પ્રફુલ',\n  'પટેલ',\n  'અને',\n  'વરિષ્ઠ',\n  'અધિકારીઓ',\n  'ઉપસ્થિત',\n  'રહ્યાં',\n  'હતાં',\n  '.'],\n ['છત્તીસગઢમાં', '90', 'સીટો', 'આવેલી', 'છે', '.'],\n ['બે', 'જિરાફ', 'કેટલાક', 'બ્રશ', 'નજીક', 'ગરદન', 'માટે', 'ગરદન', 'ઉભા', '.'],\n ['મુખ્ય',\n  'ઘરેલું',\n  'પ્લેયરમાં',\n  'M',\n  '/',\n  's',\n  'ભારત',\n  'ઇલેક્ટ્રોનીક્સ',\n  'લિમિટેડ',\n  '(',\n  'સ્કેનરે',\n  'સાથેના',\n  'સહયોગ',\n  'વડે',\n  ')',\n  'નો',\n  'સમાવેશ',\n  'થાય',\n  'છે',\n  'કે',\n  'જેને',\n  '૩૦',\n  ',',\n  '000',\n  'વેન્ટીલેટર્સનો',\n  'ઓર્ડર',\n  'આપવામાં',\n  'આવ્યો',\n  'છે',\n  '.'],\n ['પેટ્રોલિયમ', 'અને', 'કુદરતી', 'ગેસ', 'મંત્રી', 'તથા', 'સ્ટીલ', 'મંત્રી'],\n ['હું', 'મુંબઇમાં', 'અજાણી', 'હતી', '.'],\n ['નંદા',\n  'દેવી',\n  'પર્વત',\n  'દેશની',\n  'બીજી',\n  'સૌથી',\n  'ઉંચી',\n  'પર્વત',\n  'શ્રેણી',\n  'છે',\n  '.'],\n ['\"',\n  'એડવાન્ટેજ',\n  'આસામ',\n  ':',\n  'ભારતનો',\n  'આસિયાન',\n  'તરફનો',\n  'એક્સપ્રેસ',\n  'માર્ગ',\n  '\"',\n  '-',\n  'આ',\n  'માત્ર',\n  'એક',\n  'વાક્ય',\n  'નથી',\n  'પરંતુ',\n  'એક',\n  'સંપૂર્ણ',\n  'દ્રષ્ટિકોણ',\n  'છે',\n  '.'],\n ['બૌદ્ધ',\n  'મઠ',\n  'ઝાંગ',\n  'ધોક',\n  'પાલરી',\n  'પોડાંગ',\n  'ઘણા',\n  'અલભ્ય',\n  'તિબેટીઅન',\n  'બૌદ્ધધર્મના',\n  'ગ્રંથ',\n  'ધરાવે',\n  'છે',\n  '.'],\n ['રાજ્યનાં',\n  'રાજ્યપાલ',\n  'પ્રોફેસર',\n  'ગણેશી',\n  'લાલ',\n  ',',\n  'મુખ્યમંત્રી',\n  'શ્રી',\n  'નવીન',\n  'પટનાયક',\n  'તથા',\n  'કેન્દ્રીય',\n  'પેટ્રોલિયમ',\n  'અને',\n  'કુદરતી',\n  'ગેસ',\n  'મંત્રી',\n  'શ્રી',\n  'ધર્મેન્દ્ર',\n  'પ્રધાન',\n  'પણ',\n  'હવાઈ',\n  'સર્વેક્ષણમાં',\n  'પ્રધાનમંત્રી',\n  'સાથે',\n  'જોડાયા',\n  'હતા'],\n ['અને', 'વિરોધ', 'દર્શાવ્યો', 'હતો', '.'],\n ['તેમણે',\n  'બાંગ્લાદેશના',\n  'કમાન્ડ',\n  'એન્ડ',\n  'સ્ટાફ',\n  'કોલેજથી',\n  'ડિફેન્સ',\n  'સ્ટડીઝમાં',\n  'માસ્ટર',\n  'ડિગ્રી',\n  'લીધી',\n  'છે',\n  '.'],\n ['લોસાર',\n  ',',\n  'લુસોન્ગ',\n  ',',\n  'સાગા',\n  'દવા',\n  ',',\n  'લ્હાબાબ',\n  'દ્યુચેન',\n  ',',\n  'દ્રુપ્કા',\n  'તેશી',\n  'અને',\n  'ભુમચુ',\n  'જેવા',\n  'બૌદ્ધ',\n  'તહેવારો',\n  'સિક્કિમમાં',\n  'ઉજવાય',\n  'છે',\n  '.'],\n ['આ', 'ફિલ્મનું', 'પોસ્ટર', 'રિલીઝ', 'થયું', 'છે', '.'],\n ['યુટીએસ',\n  'અને',\n  'પીઆરએસ',\n  'સહિત',\n  'બુકિંગ',\n  'માટે',\n  'તમામ',\n  'ટિકિટ',\n  'કાઉન્ટર',\n  'વધારે',\n  'ઓર્ડર્સ',\n  'સુધી',\n  'સસ્પેન્ડ',\n  'રહેશેઆગળની',\n  'સૂચના',\n  'સુધી',\n  'ઇ',\n  '-',\n  'ટિકિટ',\n  'સહિત',\n  'ટ્રેનોની',\n  'ટિકિટ',\n  'માટે',\n  'એડવાન્સ',\n  'રિઝર્વેશન',\n  'નહીં',\n  'થાય',\n  '.',\n  'જોકે',\n  'ઓનલાઇન',\n  'ટિકિટ',\n  'રદ',\n  'કરવાની',\n  'સુવિધા',\n  'કાર્યરત',\n  'રહશેરદ',\n  'થયેલી',\n  'ટ્રેનોના',\n  'રિઝર્વેશન',\n  'માટે',\n  'પૂરેપુરૂ',\n  'રિફંડ',\n  'મળશેજે',\n  'ટ્રેનો',\n  'હજુ',\n  'રદ',\n  'થઈ',\n  'નથી',\n  'એ',\n  'લોકો',\n  'માટે',\n  'ટિકિટનું',\n  'એડવાન્સ',\n  'બુકિંગ',\n  'રદ',\n  'કરાવનાર',\n  'લોકોને',\n  'પૂરેપુરૂ',\n  'રિફંડ',\n  'મળશે'],\n ['યુનિયન',\n  'બેંક',\n  'ઑફ',\n  'ઇન્ડિયાની',\n  'ફરિયાદ',\n  'પર',\n  'CBIએ',\n  'ટોટેમ',\n  'ઇન્ફ્રાસ્ટ્રક્ચર',\n  'લિમિટે',\n  'તેના',\n  'પ્રોમોટર',\n  '-',\n  'ડિરેક્ટર',\n  'ટોટેમપુદી',\n  'સલાલિથ',\n  'અને',\n  'ટોટમપુદી',\n  'કવિતા',\n  'વિરુદ્ઘ',\n  'કેસ',\n  'નોંધી',\n  'લીધો',\n  'છે',\n  '.'],\n ['ડિરેક્ટરઃ', 'તનુજા', 'ચંદ્રા'],\n ['વાહિની',\n  'અને',\n  'એબીવીપી',\n  'દ્વારા',\n  'હાથ',\n  'ધરવામાં',\n  'આવેલી',\n  'હિંસાના',\n  'વિરોધમાં',\n  'એએમયુના',\n  'વિદ્યાર્થીઓએ',\n  'પ્રદર્શન',\n  'કર્યા',\n  'હતા',\n  '.'],\n ['અલકા', 'લાંબાએ', 'આમ', 'આદમી', 'પાર્ટીમાંથી', 'આપ્યું', 'રાજીનામું'],\n ['3', 'મોટી', 'ચમચી', 'વાટેલુ', 'લસણ'],\n ['દિલ્લીમાં',\n  'એક',\n  'પછી',\n  'એક',\n  'આગ',\n  'લાગવાની',\n  'દૂર્ઘટનાઓ',\n  'બની',\n  'રહી',\n  'છે',\n  '.'],\n ['ન્યૂઝીલેન્ડ',\n  '4',\n  'મેચમાં',\n  '7',\n  'પોઈન્ટ',\n  'મેળવીને',\n  'પોઈન્ટ્સ',\n  'ટેબલમાં',\n  'પહેલા',\n  'નંબર',\n  'પર',\n  'છે'],\n ['આ', 'કોઈ', 'નાની', 'મોટી', 'રકમ', 'નથી', '.'],\n ['ચક્રી',\n  'તોલેતી',\n  'ડાયરેક્શનમાં',\n  'બનેલી',\n  'આ',\n  'ફિલ્મમાં',\n  'સોનાક્ષી',\n  'પંજાબી',\n  'સિંગર',\n  'અને',\n  'અભિનેતા',\n  'દલજીત',\n  'દોસાંત',\n  'સાથે',\n  'જોવા',\n  'મળશે',\n  '.'],\n ['આ',\n  'ફિલ્મમાં',\n  'ઇન્ડિયન',\n  'એક્ટ્રેસ',\n  'ડિમ્પલ',\n  'કાપડિયા',\n  'પણ',\n  'સામેલ',\n  'છે',\n  '.'],\n ['તેઓ',\n  'મનીષા',\n  'કોઇરાલા',\n  'મારફત',\n  'મને',\n  'મળવા',\n  'માટે',\n  'આવ્યા',\n  'હતા',\n  '.'],\n ['તે',\n  'એસ',\n  '.',\n  'ડી',\n  '.',\n  'યુ',\n  '.',\n  'નીચલા',\n  'સ્તરની',\n  'પીડીયુમાં',\n  'દાખલ',\n  'કરવામાં',\n  'આવે',\n  'છે',\n  'અને',\n  'OSI',\n  'સ્ટેકની',\n  'PHY',\n  ',',\n  'ભૌતિક',\n  'અથવા',\n  'નીચલા',\n  'સ્તર',\n  'સુધી',\n  'પહોંચતા',\n  'પ્રક્રિયા',\n  'ચાલુ',\n  'રહે',\n  'છે',\n  '.'],\n ['ખાસ',\n  'કરીને',\n  'દક્ષિણ',\n  'ગુજરાત',\n  'અને',\n  'સૌરાષ્ટ્રમાં',\n  'ભારે',\n  'વરસાદની',\n  'શક્યતા',\n  'જોવાઇ',\n  'રહી',\n  'છે',\n  '.'],\n ['વર્ક',\n  'ફ્રન્ટની',\n  'વાત',\n  'કરીએ',\n  'તો',\n  'આમિર',\n  'ખાન',\n  'હાલ',\n  'તેની',\n  'આવનારી',\n  'ફિલ્મ',\n  \"'\",\n  'લાલ',\n  'સિંહ',\n  'ચઢ્ઢા',\n  \"'\",\n  'ની',\n  'તૈયારીઓમાં',\n  'લાગેલા',\n  'છે',\n  '.'],\n ['કોંગ્રેસની', 'પાસે', 'કોઇ', 'રોડમેપ', 'નથી', '.'],\n ['પાત્રને',\n  'પ્રત્યેકરૂપે',\n  'વાસ્તવિક',\n  'બનાવી',\n  'રાખવા',\n  'માટે',\n  ',',\n  'ફિલ્મની',\n  'આખી',\n  'સ્ટારકાસ્ટે',\n  'માત્ર',\n  'એક',\n  'પોશાકમાં',\n  'જ',\n  'ફિલ્મની',\n  'આખી',\n  'શૂટિંગ',\n  'પૂરી',\n  'કરી',\n  'છે',\n  '.'],\n ['કોણ', 'છે', 'કાંધલ', 'જાડેજા', '?'],\n ['આ',\n  'ફિલ્મની',\n  'ટક્કર',\n  'બોક્સ',\n  'ઓફિસ',\n  'પર',\n  'અજય',\n  'દેવગણની',\n  'ફિલ્મ',\n  \"'\",\n  'તાનાજીઃ',\n  'ધ',\n  'અનસંગ',\n  'વોરિયર',\n  \"'\",\n  'સાથે',\n  'થશે',\n  '.'],\n ['ભારત', 'બહુ', 'મોટું', 'માર્કેટ', 'છે', '.'],\n ['ભાજપમાં', 'આંતરકલહ', 'પણ', 'કાંઈ', 'ઓછો', 'નથી', '.'],\n ['ઓક્લાહોમા', 'શહેર', 'NEXRAD'],\n ['વધુ', 'માહિતીનો', 'ઈંતેજાર', 'છે', '.'],\n ['રિતેશ', 'દેશમુખ', 'અને', 'જેનેલિયા', 'ડિસુઝા'],\n ['આ',\n  'કરાર',\n  'પર',\n  'રાષ્ટ્રપતિ',\n  'ટ્રમ્પ',\n  'અને',\n  'ચીનના',\n  'નાયબ',\n  'વડા',\n  'પ્રધાન',\n  'લિયુ',\n  'હી',\n  'દ્વારા',\n  'હસ્તાક્ષર',\n  'થયા',\n  '.'],\n ['ફેમિલી', 'જીવનસાથી', 'સાથે', 'સંબંધ', 'મજબૂત', 'બનશે', '.'],\n ['જે',\n  'સ્થળોએ',\n  'કોસ્ટ',\n  'ગાર્ડના',\n  'જહાજ',\n  'અને',\n  'હેલિકોપ્ટર',\n  'ભાગ',\n  'લેશે',\n  'તેની',\n  'વિગતો',\n  'આ',\n  'પ્રમાણે',\n  'છે',\n  ':',\n  'અનુક્રમ',\n  'નંબર',\n  'સ્થળ',\n  'જહાજ',\n  'હેલિકોપ્ટર',\n  '01',\n  'પોરબંદર',\n  'દમણ',\n  '02',\n  'ઓખા',\n  'મુંબઇ',\n  '03',\n  'રત્નાગીરી',\n  'ગોવા',\n  '04',\n  'દહાનુ',\n  'ચેન્નઇ',\n  '05',\n  'મુરુદ',\n  'પોર્ટ',\n  'બ્લેર',\n  '06',\n  'ગોવા',\n  '0',\n  'ન્યૂ',\n  'મેંગલોર',\n  '08',\n  'કાવરાત્તી',\n  '0',\n  'તૂતીકોરિન',\n  '10',\n  'કન્યાકુમારી',\n  '11',\n  'ચેન્નઇ',\n  '12',\n  'કૃષ્ણાપટ્ટનમ',\n  '13',\n  'નિઝામાપટ્ટનમ',\n  '14',\n  'પુડુચેરી',\n  '15',\n  'કાકીનાડા',\n  '16',\n  'પારાદીપ',\n  '1',\n  '18',\n  'સાગર',\n  'દ્વીપ',\n  '1',\n  'પોર્ટ',\n  'બ્લેર',\n  '20',\n  'દિગલીપુર',\n  '21',\n  'માયાબંદર',\n  '22',\n  'હટબે',\n  '23',\n  'કેમ્પબેલ',\n  'બે',\n  'કોસ્ટ',\n  'ગાર્ડના',\n  'જહાજ',\n  'અને',\n  'હેલિકોપ્ટર',\n  'સમુદ્રમાં',\n  'ચુસ્ત',\n  'દેખરેખ',\n  'રાખી',\n  'રહ્યા',\n  'છે',\n  'અને',\n  'ભારતીય',\n  'ઉપમહાદ્વીપની',\n  'આસપાસમાં',\n  'સુરક્ષિત',\n  'તેમજ',\n  'સંરક્ષિત',\n  'સાગર',\n  'સુનિશ્ચિત',\n  'કરવા',\n  'માટે',\n  'પ્રતિબદ્ધ',\n  'છે',\n  '.'],\n ['આ', 'વિસ્તારમાં', 'ચુસ્ત', 'પોલીસ', 'બંદોબસ્ત', 'ગોઠવાયો', 'છે', '.'],\n ['તમારા', 'ફોન', 'પુનઃશરૂ', 'કરો'],\n ['સુરક્ષા', 'અને', 'સંરક્ષણ', 'સહયોગ'],\n ['ગરીબોને',\n  'તેમના',\n  'ગામમાં',\n  'જ',\n  'રોજગારી',\n  'મળી',\n  'રહે',\n  'તે',\n  'માટે',\n  'ગરીબ',\n  'કલ્યાણ',\n  'રોજગાર',\n  'યોજના',\n  'શરૂ',\n  'કરવામાં',\n  'આવી',\n  'છે',\n  '.'],\n ...]"
          },
          "metadata": {}
        }
      ]
    },
    {
      "cell_type": "code",
      "source": [
        "# tokenize_and_align_labels(train_dataset)"
      ],
      "metadata": {
        "id": "MCSpngOYjBr9",
        "execution": {
          "iopub.status.busy": "2024-03-13T06:50:11.334890Z",
          "iopub.execute_input": "2024-03-13T06:50:11.335189Z",
          "iopub.status.idle": "2024-03-13T06:50:11.338936Z",
          "shell.execute_reply.started": "2024-03-13T06:50:11.335164Z",
          "shell.execute_reply": "2024-03-13T06:50:11.338000Z"
        },
        "trusted": true
      },
      "execution_count": null,
      "outputs": []
    },
    {
      "cell_type": "code",
      "source": [
        "eval_dataset = raw_datasets[\"validation\"]\n",
        "eval_dataset = eval_dataset.map(\n",
        "    tokenize_and_align_labels,\n",
        "    batched=True,\n",
        "    num_proc=4,\n",
        "    load_from_cache_file=True,\n",
        "    desc=\"Running tokenizer on Validation dataset\",\n",
        ")"
      ],
      "metadata": {
        "colab": {
          "base_uri": "https://localhost:8080/",
          "height": 66,
          "referenced_widgets": [
            "0eadb11b41af43ffb7ab0dd4a8f6efcf",
            "1a60ac7b17004c7a9e6abddd93fe98b2",
            "2029034c99864da299b0c47ac0ea13f4",
            "280405584ce24428a726d0a52cf49b46",
            "fee2bfb6fa6643898a4e4b816a02a90e",
            "82f149d9b6ac4c1880a8f2f161745a23",
            "0581a32f74e64ea4ace6756d26390a95",
            "ec361e6db31d4a01aeea36df39eaecfd",
            "db3e98cb525149df90a6e6657097c74c",
            "d7f71b4287004f0cbd388d9498a1e1dd",
            "ae938a3c0fce48738156fdee8ba51620",
            "aef5b19c0fa1453cb18e1f41e6381700",
            "c0340126211047439730fab75f2bba30",
            "1f86d43e876d454885f167d7004e2043",
            "3c5bd38a290245c8a15a7f01a0f03f84"
          ]
        },
        "id": "1uPiOenijBr9",
        "outputId": "9236faad-895d-4d31-80fd-04c5683f1e4c",
        "execution": {
          "iopub.status.busy": "2024-03-13T06:50:11.340250Z",
          "iopub.execute_input": "2024-03-13T06:50:11.340551Z",
          "iopub.status.idle": "2024-03-13T06:50:12.393829Z",
          "shell.execute_reply.started": "2024-03-13T06:50:11.340526Z",
          "shell.execute_reply": "2024-03-13T06:50:12.392619Z"
        },
        "trusted": true
      },
      "execution_count": null,
      "outputs": [
        {
          "name": "stdout",
          "text": "        ",
          "output_type": "stream"
        },
        {
          "output_type": "display_data",
          "data": {
            "text/plain": "Running tokenizer on Validation dataset #1:   0%|          | 0/1 [00:00<?, ?ba/s]",
            "application/vnd.jupyter.widget-view+json": {
              "version_major": 2,
              "version_minor": 0,
              "model_id": "aef5b19c0fa1453cb18e1f41e6381700"
            }
          },
          "metadata": {}
        },
        {
          "output_type": "display_data",
          "data": {
            "text/plain": "Running tokenizer on Validation dataset #0:   0%|          | 0/1 [00:00<?, ?ba/s]",
            "application/vnd.jupyter.widget-view+json": {
              "version_major": 2,
              "version_minor": 0,
              "model_id": "c0340126211047439730fab75f2bba30"
            }
          },
          "metadata": {}
        },
        {
          "output_type": "display_data",
          "data": {
            "text/plain": "Running tokenizer on Validation dataset #2:   0%|          | 0/1 [00:00<?, ?ba/s]",
            "application/vnd.jupyter.widget-view+json": {
              "version_major": 2,
              "version_minor": 0,
              "model_id": "1f86d43e876d454885f167d7004e2043"
            }
          },
          "metadata": {}
        },
        {
          "output_type": "display_data",
          "data": {
            "text/plain": "Running tokenizer on Validation dataset #3:   0%|          | 0/1 [00:00<?, ?ba/s]",
            "application/vnd.jupyter.widget-view+json": {
              "version_major": 2,
              "version_minor": 0,
              "model_id": "3c5bd38a290245c8a15a7f01a0f03f84"
            }
          },
          "metadata": {}
        }
      ]
    },
    {
      "cell_type": "code",
      "source": [
        "# !pip install accelerate>=0.21.0\n"
      ],
      "metadata": {
        "id": "UMfSKzXFjBr-",
        "execution": {
          "iopub.status.busy": "2024-03-13T06:50:12.395503Z",
          "iopub.execute_input": "2024-03-13T06:50:12.396189Z",
          "iopub.status.idle": "2024-03-13T06:50:12.401923Z",
          "shell.execute_reply.started": "2024-03-13T06:50:12.396147Z",
          "shell.execute_reply": "2024-03-13T06:50:12.399498Z"
        },
        "trusted": true
      },
      "execution_count": null,
      "outputs": []
    },
    {
      "cell_type": "code",
      "source": [
        "# args=TrainingArguments(output_dir='output_dir',max_steps=5)\n",
        "args=TrainingArguments(\n",
        "    output_dir='indic_bert',\n",
        "    evaluation_strategy=\"epoch\",\n",
        "    learning_rate=2e-5,\n",
        "    per_device_train_batch_size=8,\n",
        "    per_device_eval_batch_size=8,\n",
        "    num_train_epochs=3,\n",
        "    weight_decay=0.01,\n",
        "    save_strategy=\"no\")"
      ],
      "metadata": {
        "id": "bFTHtsSxjBr-",
        "execution": {
          "iopub.status.busy": "2024-03-13T06:50:12.403942Z",
          "iopub.execute_input": "2024-03-13T06:50:12.404300Z",
          "iopub.status.idle": "2024-03-13T06:50:12.516803Z",
          "shell.execute_reply.started": "2024-03-13T06:50:12.404272Z",
          "shell.execute_reply": "2024-03-13T06:50:12.515759Z"
        },
        "trusted": true
      },
      "execution_count": null,
      "outputs": []
    },
    {
      "cell_type": "code",
      "source": [
        "# Initialize the trainer\n",
        "trainer = Trainer(\n",
        "    model=bert_model,\n",
        "    train_dataset=train_dataset,\n",
        "    eval_dataset=eval_dataset,\n",
        "    tokenizer=bert_tokenizer,\n",
        "    data_collator=data_collator,\n",
        "    compute_metrics=compute_metrics,\n",
        "    args=args,\n",
        ")"
      ],
      "metadata": {
        "id": "kLWO5RHTjBr-",
        "execution": {
          "iopub.status.busy": "2024-03-13T06:50:12.518853Z",
          "iopub.execute_input": "2024-03-13T06:50:12.520155Z",
          "iopub.status.idle": "2024-03-13T06:50:13.635017Z",
          "shell.execute_reply.started": "2024-03-13T06:50:12.520112Z",
          "shell.execute_reply": "2024-03-13T06:50:13.634257Z"
        },
        "trusted": true,
        "outputId": "0c7f0a6c-4152-400d-a341-7f65d35ef795"
      },
      "execution_count": null,
      "outputs": [
        {
          "name": "stderr",
          "text": "/opt/conda/lib/python3.10/site-packages/accelerate/accelerator.py:432: FutureWarning: Passing the following arguments to `Accelerator` is deprecated and will be removed in version 1.0 of Accelerate: dict_keys(['dispatch_batches', 'split_batches', 'even_batches', 'use_seedable_sampler']). Please pass an `accelerate.DataLoaderConfiguration` instead: \ndataloader_config = DataLoaderConfiguration(dispatch_batches=None, split_batches=False, even_batches=True, use_seedable_sampler=True)\n  warnings.warn(\n",
          "output_type": "stream"
        }
      ]
    },
    {
      "cell_type": "code",
      "source": [
        "# # Train the model and get the result\n",
        "train_result = trainer.train()"
      ],
      "metadata": {
        "colab": {
          "base_uri": "https://localhost:8080/",
          "height": 259
        },
        "id": "ooJsFYdYjBr-",
        "outputId": "8b8926ca-a96e-4115-89b6-59c94c1bf15c",
        "execution": {
          "iopub.status.busy": "2024-03-13T06:50:13.636150Z",
          "iopub.execute_input": "2024-03-13T06:50:13.636438Z",
          "iopub.status.idle": "2024-03-13T08:59:37.681040Z",
          "shell.execute_reply.started": "2024-03-13T06:50:13.636414Z",
          "shell.execute_reply": "2024-03-13T08:59:37.679870Z"
        },
        "trusted": true
      },
      "execution_count": null,
      "outputs": [
        {
          "name": "stderr",
          "text": "\u001b[34m\u001b[1mwandb\u001b[0m: Logging into wandb.ai. (Learn how to deploy a W&B server locally: https://wandb.me/wandb-server)\n\u001b[34m\u001b[1mwandb\u001b[0m: You can find your API key in your browser here: https://wandb.ai/authorize\n\u001b[34m\u001b[1mwandb\u001b[0m: Paste an API key from your profile and hit enter, or press ctrl+c to quit:",
          "output_type": "stream"
        },
        {
          "output_type": "stream",
          "name": "stdin",
          "text": "  ········································\n"
        },
        {
          "name": "stderr",
          "text": "\u001b[34m\u001b[1mwandb\u001b[0m: Appending key for api.wandb.ai to your netrc file: /root/.netrc\n",
          "output_type": "stream"
        },
        {
          "output_type": "display_data",
          "data": {
            "text/plain": "<IPython.core.display.HTML object>",
            "text/html": "wandb version 0.16.4 is available!  To upgrade, please run:\n $ pip install wandb --upgrade"
          },
          "metadata": {}
        },
        {
          "output_type": "display_data",
          "data": {
            "text/plain": "<IPython.core.display.HTML object>",
            "text/html": "Tracking run with wandb version 0.16.3"
          },
          "metadata": {}
        },
        {
          "output_type": "display_data",
          "data": {
            "text/plain": "<IPython.core.display.HTML object>",
            "text/html": "Run data is saved locally in <code>/kaggle/working/wandb/run-20240313_065340-9h986uqm</code>"
          },
          "metadata": {}
        },
        {
          "output_type": "display_data",
          "data": {
            "text/plain": "<IPython.core.display.HTML object>",
            "text/html": "Syncing run <strong><a href='https://wandb.ai/hz05/huggingface/runs/9h986uqm' target=\"_blank\">deep-cosmos-2</a></strong> to <a href='https://wandb.ai/hz05/huggingface' target=\"_blank\">Weights & Biases</a> (<a href='https://wandb.me/run' target=\"_blank\">docs</a>)<br/>"
          },
          "metadata": {}
        },
        {
          "output_type": "display_data",
          "data": {
            "text/plain": "<IPython.core.display.HTML object>",
            "text/html": " View project at <a href='https://wandb.ai/hz05/huggingface' target=\"_blank\">https://wandb.ai/hz05/huggingface</a>"
          },
          "metadata": {}
        },
        {
          "output_type": "display_data",
          "data": {
            "text/plain": "<IPython.core.display.HTML object>",
            "text/html": " View run at <a href='https://wandb.ai/hz05/huggingface/runs/9h986uqm' target=\"_blank\">https://wandb.ai/hz05/huggingface/runs/9h986uqm</a>"
          },
          "metadata": {}
        },
        {
          "output_type": "display_data",
          "data": {
            "text/plain": "<IPython.core.display.HTML object>",
            "text/html": "\n    <div>\n      \n      <progress value='17733' max='17733' style='width:300px; height:20px; vertical-align: middle;'></progress>\n      [17733/17733 2:05:25, Epoch 3/3]\n    </div>\n    <table border=\"1\" class=\"dataframe\">\n  <thead>\n <tr style=\"text-align: left;\">\n      <th>Epoch</th>\n      <th>Training Loss</th>\n      <th>Validation Loss</th>\n      <th>Loc Precision</th>\n      <th>Loc Recall</th>\n      <th>Loc F1</th>\n      <th>Loc Number</th>\n      <th>Org Precision</th>\n      <th>Org Recall</th>\n      <th>Org F1</th>\n      <th>Org Number</th>\n      <th>Per Precision</th>\n      <th>Per Recall</th>\n      <th>Per F1</th>\n      <th>Per Number</th>\n      <th>Overall Precision</th>\n      <th>Overall Recall</th>\n      <th>Overall F1</th>\n      <th>Overall Accuracy</th>\n    </tr>\n  </thead>\n  <tbody>\n    <tr>\n      <td>1</td>\n      <td>0.321300</td>\n      <td>0.301482</td>\n      <td>0.680362</td>\n      <td>0.685430</td>\n      <td>0.682887</td>\n      <td>1208</td>\n      <td>0.526786</td>\n      <td>0.556604</td>\n      <td>0.541284</td>\n      <td>1060</td>\n      <td>0.734375</td>\n      <td>0.698452</td>\n      <td>0.715963</td>\n      <td>1615</td>\n      <td>0.657372</td>\n      <td>0.655679</td>\n      <td>0.656524</td>\n      <td>0.903365</td>\n    </tr>\n    <tr>\n      <td>2</td>\n      <td>0.266000</td>\n      <td>0.281296</td>\n      <td>0.764151</td>\n      <td>0.670530</td>\n      <td>0.714286</td>\n      <td>1208</td>\n      <td>0.604526</td>\n      <td>0.529245</td>\n      <td>0.564386</td>\n      <td>1060</td>\n      <td>0.745408</td>\n      <td>0.728793</td>\n      <td>0.737007</td>\n      <td>1615</td>\n      <td>0.714326</td>\n      <td>0.656194</td>\n      <td>0.684027</td>\n      <td>0.913175</td>\n    </tr>\n    <tr>\n      <td>3</td>\n      <td>0.235300</td>\n      <td>0.268023</td>\n      <td>0.731356</td>\n      <td>0.714404</td>\n      <td>0.722781</td>\n      <td>1208</td>\n      <td>0.619335</td>\n      <td>0.580189</td>\n      <td>0.599123</td>\n      <td>1060</td>\n      <td>0.752185</td>\n      <td>0.746130</td>\n      <td>0.749145</td>\n      <td>1615</td>\n      <td>0.710728</td>\n      <td>0.690961</td>\n      <td>0.700705</td>\n      <td>0.917048</td>\n    </tr>\n  </tbody>\n</table><p>"
          },
          "metadata": {}
        },
        {
          "name": "stdout",
          "text": "{'LOC': {'precision': 0.6803615447822514, 'recall': 0.6854304635761589, 'f1': 0.6828865979381443, 'number': 1208}, 'ORG': {'precision': 0.5267857142857143, 'recall': 0.5566037735849056, 'f1': 0.5412844036697247, 'number': 1060}, 'PER': {'precision': 0.734375, 'recall': 0.698452012383901, 'f1': 0.7159631862900667, 'number': 1615}, 'overall_precision': 0.6573715466046992, 'overall_recall': 0.6556785990213753, 'overall_f1': 0.6565239814337288, 'overall_accuracy': 0.9033650793650794}\n{'LOC': {'precision': 0.7641509433962265, 'recall': 0.6705298013245033, 'f1': 0.7142857142857144, 'number': 1208}, 'ORG': {'precision': 0.6045258620689655, 'recall': 0.529245283018868, 'f1': 0.5643863179074446, 'number': 1060}, 'PER': {'precision': 0.7454084863837872, 'recall': 0.7287925696594427, 'f1': 0.7370068879148403, 'number': 1615}, 'overall_precision': 0.7143257639472946, 'overall_recall': 0.6561936646922483, 'overall_f1': 0.684026845637584, 'overall_accuracy': 0.9131746031746032}\n{'LOC': {'precision': 0.7313559322033898, 'recall': 0.7144039735099338, 'f1': 0.7227805695142379, 'number': 1208}, 'ORG': {'precision': 0.6193353474320241, 'recall': 0.5801886792452831, 'f1': 0.599123234291281, 'number': 1060}, 'PER': {'precision': 0.7521847690387016, 'recall': 0.7461300309597523, 'f1': 0.74914516630401, 'number': 1615}, 'overall_precision': 0.710728476821192, 'overall_recall': 0.6909605974761782, 'overall_f1': 0.7007051449464612, 'overall_accuracy': 0.917047619047619}\n",
          "output_type": "stream"
        }
      ]
    },
    {
      "cell_type": "code",
      "source": [
        "# import os\n",
        "\n",
        "# # Define the folder path where the trainer will be saved\n",
        "# trainer_folder_path = \"/kaggle/working/saved_trainer_bert\"\n",
        "\n",
        "# # Save the model, tokenizer, and training arguments\n",
        "# bert_tokenizer.save_pretrained(trainer_folder_path)\n",
        "# bert_model.save_pretrained(trainer_folder_path)\n",
        "\n",
        "# # Optionally, save training arguments if needed\n",
        "# # args.save_to_json(os.path.join(trainer_folder_path, \"training_args.json\"))\n"
      ],
      "metadata": {
        "execution": {
          "iopub.status.busy": "2024-03-13T09:01:45.086410Z",
          "iopub.execute_input": "2024-03-13T09:01:45.086809Z",
          "iopub.status.idle": "2024-03-13T09:01:45.465632Z",
          "shell.execute_reply.started": "2024-03-13T09:01:45.086778Z",
          "shell.execute_reply": "2024-03-13T09:01:45.464385Z"
        },
        "trusted": true,
        "id": "vj72euiAnhBJ"
      },
      "execution_count": null,
      "outputs": []
    },
    {
      "cell_type": "code",
      "source": [
        "# import shutil\n",
        "# shutil.make_archive(\"/kaggle/working/saved_trainer_bert\", 'zip', \"/kaggle/working/saved_trainer_bert\")\n"
      ],
      "metadata": {
        "execution": {
          "iopub.status.busy": "2024-03-13T09:04:04.661314Z",
          "iopub.execute_input": "2024-03-13T09:04:04.662013Z",
          "iopub.status.idle": "2024-03-13T09:04:13.180219Z",
          "shell.execute_reply.started": "2024-03-13T09:04:04.661978Z",
          "shell.execute_reply": "2024-03-13T09:04:13.178961Z"
        },
        "trusted": true,
        "id": "YuwLLhOrnhBJ",
        "outputId": "045990f7-2d4b-40c4-9583-5362405af009"
      },
      "execution_count": null,
      "outputs": [
        {
          "execution_count": 31,
          "output_type": "execute_result",
          "data": {
            "text/plain": "'/kaggle/working/saved_trainer_ner.zip'"
          },
          "metadata": {}
        }
      ]
    },
    {
      "cell_type": "code",
      "source": [
        "# bert_tokenizer_pre = AutoTokenizer.from_pretrained(trainer_folder_path)\n",
        "\n",
        "# # Load model\n",
        "# # num_labels = 10  # Replace with the number of labels used during training\n",
        "# bert_model_pre = AutoModelForTokenClassification.from_pretrained(trainer_folder_path, num_labels=num_labels)"
      ],
      "metadata": {
        "id": "TMyLIWQxXnxt",
        "execution": {
          "iopub.status.busy": "2024-03-13T08:59:38.313344Z",
          "iopub.status.idle": "2024-03-13T08:59:38.313882Z",
          "shell.execute_reply.started": "2024-03-13T08:59:38.313614Z",
          "shell.execute_reply": "2024-03-13T08:59:38.313639Z"
        },
        "trusted": true
      },
      "execution_count": null,
      "outputs": []
    },
    {
      "cell_type": "code",
      "source": [
        "tokenized_test_set = raw_datasets['test'].map(\n",
        "    tokenize_and_align_labels,\n",
        "    batched=True,\n",
        "    num_proc=32,\n",
        "    load_from_cache_file=True\n",
        ")"
      ],
      "metadata": {
        "id": "okz5cY6njBr_",
        "colab": {
          "base_uri": "https://localhost:8080/",
          "height": 49,
          "referenced_widgets": [
            "1dd42637d4a544479524b8a06d7da839",
            "7bf6a5559c5c4334819c3dfb07bc06fe",
            "3751b0cf73434cf69fb3fe34f6ebad40",
            "d8b5fb5923b84b10832ac1aa39b0e4dc",
            "a5a5d15db76d456986c278688345bb25",
            "afd0700438484bfc95f5d0a9f0ca0255",
            "d880d06ce86f4cf2ad0b5fc30342f3df",
            "043ae8d4b8b749f39e0850d56ef6b5f7",
            "3bf43fc80d5f46d7acaea9dc4f3da18c",
            "625522c9075140fd8017cd80b52876fc",
            "6c27d2972e7c40228bcf4cc65183069e",
            "46b850b99a3b42af950864f4232e6f80",
            "c693b365d71f4cd2a0338a819dc26a85",
            "fe40dba1261d4e60a301105941042c6e",
            "d936453c6a7a46a3af067c8bd3114662",
            "e9e03e70c94c4de3b5a4d4ebe3907df2",
            "bfd6ac1ced4845548e79cdfbf7e45ace",
            "e0600b6f1b8f451890e3113a5d9a76b8",
            "7f37307e9aac40a7a90c9b30dad9a48f",
            "5b757020173c4397895352ce4090d77f",
            "27509dc4bdec434a93fcc0752848a9cc",
            "442362ef97b14c96921dd764a88c6ab4",
            "df799c45a249410e8cde9fb730546fab",
            "1e64443d746c42588a0abcdfb5fb7d29",
            "c78f11f178e44cb0ab7f05d1b88c5221",
            "69b0dc1ebb354522b43b98beb69b538d",
            "7e8e6d3018a34398a1bc269604bcdeb0",
            "4a43fd076fd04d91a2125a91000f0147",
            "b58659b7dd3240c3bffbeddfe29a51d3",
            "df6573fc3f9d47e7bdd79fb16f6eae0b",
            "0290a0e753494a16b50ab74a45512311",
            "f35110370c4f4a7ab9bd30ccfd380c64",
            "12309c29a1d54aa3b4166989c64aeb33",
            "1e9d873b84764a3b9a3082d9b4a8fcd9",
            "78cb83612d2b4a20a15edb122e54b470",
            "ea2d189074474725abecaae5dd37f6e3",
            "37754522c330437296609c31b24bbd3f",
            "e3efbae85fbb4bb9a0d79e50f2c8a2d9",
            "39b05cf096d04d99b91c13fdea6c6c4d",
            "261c7b91c7654dbb8aa0ca6d9654067d",
            "c215ee05537b452f9685d89528ea3fdc",
            "80db66befff248e9aca398547ea2a6f2",
            "fc3723e3b5e34f8cb7a36ce7253e9918"
          ]
        },
        "outputId": "2baaf1db-76c9-4b1a-a2af-213404fffe5b",
        "execution": {
          "iopub.status.busy": "2024-03-13T09:05:56.630561Z",
          "iopub.execute_input": "2024-03-13T09:05:56.631483Z",
          "iopub.status.idle": "2024-03-13T09:05:59.537260Z",
          "shell.execute_reply.started": "2024-03-13T09:05:56.631437Z",
          "shell.execute_reply": "2024-03-13T09:05:59.536155Z"
        },
        "trusted": true
      },
      "execution_count": null,
      "outputs": [
        {
          "name": "stdout",
          "text": "                                   ",
          "output_type": "stream"
        },
        {
          "output_type": "display_data",
          "data": {
            "text/plain": "#0:   0%|          | 0/1 [00:00<?, ?ba/s]",
            "application/vnd.jupyter.widget-view+json": {
              "version_major": 2,
              "version_minor": 0,
              "model_id": "46b850b99a3b42af950864f4232e6f80"
            }
          },
          "metadata": {}
        },
        {
          "name": "stdout",
          "text": " ",
          "output_type": "stream"
        },
        {
          "output_type": "display_data",
          "data": {
            "text/plain": "#1:   0%|          | 0/1 [00:00<?, ?ba/s]",
            "application/vnd.jupyter.widget-view+json": {
              "version_major": 2,
              "version_minor": 0,
              "model_id": "c693b365d71f4cd2a0338a819dc26a85"
            }
          },
          "metadata": {}
        },
        {
          "name": "stdout",
          "text": " ",
          "output_type": "stream"
        },
        {
          "output_type": "display_data",
          "data": {
            "text/plain": "#2:   0%|          | 0/1 [00:00<?, ?ba/s]",
            "application/vnd.jupyter.widget-view+json": {
              "version_major": 2,
              "version_minor": 0,
              "model_id": "fe40dba1261d4e60a301105941042c6e"
            }
          },
          "metadata": {}
        },
        {
          "name": "stdout",
          "text": "  ",
          "output_type": "stream"
        },
        {
          "output_type": "display_data",
          "data": {
            "text/plain": "#3:   0%|          | 0/1 [00:00<?, ?ba/s]",
            "application/vnd.jupyter.widget-view+json": {
              "version_major": 2,
              "version_minor": 0,
              "model_id": "d936453c6a7a46a3af067c8bd3114662"
            }
          },
          "metadata": {}
        },
        {
          "name": "stdout",
          "text": " ",
          "output_type": "stream"
        },
        {
          "output_type": "display_data",
          "data": {
            "text/plain": "#4:   0%|          | 0/1 [00:00<?, ?ba/s]",
            "application/vnd.jupyter.widget-view+json": {
              "version_major": 2,
              "version_minor": 0,
              "model_id": "e9e03e70c94c4de3b5a4d4ebe3907df2"
            }
          },
          "metadata": {}
        },
        {
          "output_type": "display_data",
          "data": {
            "text/plain": "#5:   0%|          | 0/1 [00:00<?, ?ba/s]",
            "application/vnd.jupyter.widget-view+json": {
              "version_major": 2,
              "version_minor": 0,
              "model_id": "bfd6ac1ced4845548e79cdfbf7e45ace"
            }
          },
          "metadata": {}
        },
        {
          "name": "stdout",
          "text": "   ",
          "output_type": "stream"
        },
        {
          "output_type": "display_data",
          "data": {
            "text/plain": "#6:   0%|          | 0/1 [00:00<?, ?ba/s]",
            "application/vnd.jupyter.widget-view+json": {
              "version_major": 2,
              "version_minor": 0,
              "model_id": "e0600b6f1b8f451890e3113a5d9a76b8"
            }
          },
          "metadata": {}
        },
        {
          "name": "stdout",
          "text": " ",
          "output_type": "stream"
        },
        {
          "output_type": "display_data",
          "data": {
            "text/plain": "#7:   0%|          | 0/1 [00:00<?, ?ba/s]",
            "application/vnd.jupyter.widget-view+json": {
              "version_major": 2,
              "version_minor": 0,
              "model_id": "7f37307e9aac40a7a90c9b30dad9a48f"
            }
          },
          "metadata": {}
        },
        {
          "output_type": "display_data",
          "data": {
            "text/plain": "#8:   0%|          | 0/1 [00:00<?, ?ba/s]",
            "application/vnd.jupyter.widget-view+json": {
              "version_major": 2,
              "version_minor": 0,
              "model_id": "5b757020173c4397895352ce4090d77f"
            }
          },
          "metadata": {}
        },
        {
          "name": "stdout",
          "text": " ",
          "output_type": "stream"
        },
        {
          "output_type": "display_data",
          "data": {
            "text/plain": "#10:   0%|          | 0/1 [00:00<?, ?ba/s]",
            "application/vnd.jupyter.widget-view+json": {
              "version_major": 2,
              "version_minor": 0,
              "model_id": "27509dc4bdec434a93fcc0752848a9cc"
            }
          },
          "metadata": {}
        },
        {
          "output_type": "display_data",
          "data": {
            "text/plain": "#9:   0%|          | 0/1 [00:00<?, ?ba/s]",
            "application/vnd.jupyter.widget-view+json": {
              "version_major": 2,
              "version_minor": 0,
              "model_id": "442362ef97b14c96921dd764a88c6ab4"
            }
          },
          "metadata": {}
        },
        {
          "name": "stdout",
          "text": "   ",
          "output_type": "stream"
        },
        {
          "output_type": "display_data",
          "data": {
            "text/plain": "#11:   0%|          | 0/1 [00:00<?, ?ba/s]",
            "application/vnd.jupyter.widget-view+json": {
              "version_major": 2,
              "version_minor": 0,
              "model_id": "df799c45a249410e8cde9fb730546fab"
            }
          },
          "metadata": {}
        },
        {
          "name": "stdout",
          "text": " ",
          "output_type": "stream"
        },
        {
          "output_type": "display_data",
          "data": {
            "text/plain": "#12:   0%|          | 0/1 [00:00<?, ?ba/s]",
            "application/vnd.jupyter.widget-view+json": {
              "version_major": 2,
              "version_minor": 0,
              "model_id": "1e64443d746c42588a0abcdfb5fb7d29"
            }
          },
          "metadata": {}
        },
        {
          "name": "stdout",
          "text": "  ",
          "output_type": "stream"
        },
        {
          "output_type": "display_data",
          "data": {
            "text/plain": "#14:   0%|          | 0/1 [00:00<?, ?ba/s]",
            "application/vnd.jupyter.widget-view+json": {
              "version_major": 2,
              "version_minor": 0,
              "model_id": "c78f11f178e44cb0ab7f05d1b88c5221"
            }
          },
          "metadata": {}
        },
        {
          "name": "stdout",
          "text": " ",
          "output_type": "stream"
        },
        {
          "output_type": "display_data",
          "data": {
            "text/plain": "#13:   0%|          | 0/1 [00:00<?, ?ba/s]",
            "application/vnd.jupyter.widget-view+json": {
              "version_major": 2,
              "version_minor": 0,
              "model_id": "69b0dc1ebb354522b43b98beb69b538d"
            }
          },
          "metadata": {}
        },
        {
          "output_type": "display_data",
          "data": {
            "text/plain": "#17:   0%|          | 0/1 [00:00<?, ?ba/s]",
            "application/vnd.jupyter.widget-view+json": {
              "version_major": 2,
              "version_minor": 0,
              "model_id": "7e8e6d3018a34398a1bc269604bcdeb0"
            }
          },
          "metadata": {}
        },
        {
          "output_type": "display_data",
          "data": {
            "text/plain": "#16:   0%|          | 0/1 [00:00<?, ?ba/s]",
            "application/vnd.jupyter.widget-view+json": {
              "version_major": 2,
              "version_minor": 0,
              "model_id": "4a43fd076fd04d91a2125a91000f0147"
            }
          },
          "metadata": {}
        },
        {
          "name": "stdout",
          "text": " ",
          "output_type": "stream"
        },
        {
          "output_type": "display_data",
          "data": {
            "text/plain": "#15:   0%|          | 0/1 [00:00<?, ?ba/s]",
            "application/vnd.jupyter.widget-view+json": {
              "version_major": 2,
              "version_minor": 0,
              "model_id": "b58659b7dd3240c3bffbeddfe29a51d3"
            }
          },
          "metadata": {}
        },
        {
          "name": "stdout",
          "text": "  ",
          "output_type": "stream"
        },
        {
          "output_type": "display_data",
          "data": {
            "text/plain": "#18:   0%|          | 0/1 [00:00<?, ?ba/s]",
            "application/vnd.jupyter.widget-view+json": {
              "version_major": 2,
              "version_minor": 0,
              "model_id": "df6573fc3f9d47e7bdd79fb16f6eae0b"
            }
          },
          "metadata": {}
        },
        {
          "output_type": "display_data",
          "data": {
            "text/plain": "#19:   0%|          | 0/1 [00:00<?, ?ba/s]",
            "application/vnd.jupyter.widget-view+json": {
              "version_major": 2,
              "version_minor": 0,
              "model_id": "0290a0e753494a16b50ab74a45512311"
            }
          },
          "metadata": {}
        },
        {
          "name": "stdout",
          "text": "   ",
          "output_type": "stream"
        },
        {
          "output_type": "display_data",
          "data": {
            "text/plain": "#20:   0%|          | 0/1 [00:00<?, ?ba/s]",
            "application/vnd.jupyter.widget-view+json": {
              "version_major": 2,
              "version_minor": 0,
              "model_id": "f35110370c4f4a7ab9bd30ccfd380c64"
            }
          },
          "metadata": {}
        },
        {
          "name": "stdout",
          "text": "  ",
          "output_type": "stream"
        },
        {
          "output_type": "display_data",
          "data": {
            "text/plain": "#22:   0%|          | 0/1 [00:00<?, ?ba/s]",
            "application/vnd.jupyter.widget-view+json": {
              "version_major": 2,
              "version_minor": 0,
              "model_id": "12309c29a1d54aa3b4166989c64aeb33"
            }
          },
          "metadata": {}
        },
        {
          "output_type": "display_data",
          "data": {
            "text/plain": "#21:   0%|          | 0/1 [00:00<?, ?ba/s]",
            "application/vnd.jupyter.widget-view+json": {
              "version_major": 2,
              "version_minor": 0,
              "model_id": "1e9d873b84764a3b9a3082d9b4a8fcd9"
            }
          },
          "metadata": {}
        },
        {
          "name": "stdout",
          "text": " ",
          "output_type": "stream"
        },
        {
          "output_type": "display_data",
          "data": {
            "text/plain": "#23:   0%|          | 0/1 [00:00<?, ?ba/s]",
            "application/vnd.jupyter.widget-view+json": {
              "version_major": 2,
              "version_minor": 0,
              "model_id": "78cb83612d2b4a20a15edb122e54b470"
            }
          },
          "metadata": {}
        },
        {
          "name": "stdout",
          "text": " ",
          "output_type": "stream"
        },
        {
          "output_type": "display_data",
          "data": {
            "text/plain": "#24:   0%|          | 0/1 [00:00<?, ?ba/s]",
            "application/vnd.jupyter.widget-view+json": {
              "version_major": 2,
              "version_minor": 0,
              "model_id": "ea2d189074474725abecaae5dd37f6e3"
            }
          },
          "metadata": {}
        },
        {
          "name": "stdout",
          "text": " ",
          "output_type": "stream"
        },
        {
          "output_type": "display_data",
          "data": {
            "text/plain": "#25:   0%|          | 0/1 [00:00<?, ?ba/s]",
            "application/vnd.jupyter.widget-view+json": {
              "version_major": 2,
              "version_minor": 0,
              "model_id": "37754522c330437296609c31b24bbd3f"
            }
          },
          "metadata": {}
        },
        {
          "output_type": "display_data",
          "data": {
            "text/plain": "#27:   0%|          | 0/1 [00:00<?, ?ba/s]",
            "application/vnd.jupyter.widget-view+json": {
              "version_major": 2,
              "version_minor": 0,
              "model_id": "e3efbae85fbb4bb9a0d79e50f2c8a2d9"
            }
          },
          "metadata": {}
        },
        {
          "output_type": "display_data",
          "data": {
            "text/plain": "#26:   0%|          | 0/1 [00:00<?, ?ba/s]",
            "application/vnd.jupyter.widget-view+json": {
              "version_major": 2,
              "version_minor": 0,
              "model_id": "39b05cf096d04d99b91c13fdea6c6c4d"
            }
          },
          "metadata": {}
        },
        {
          "name": "stdout",
          "text": " ",
          "output_type": "stream"
        },
        {
          "output_type": "display_data",
          "data": {
            "text/plain": "#29:   0%|          | 0/1 [00:00<?, ?ba/s]",
            "application/vnd.jupyter.widget-view+json": {
              "version_major": 2,
              "version_minor": 0,
              "model_id": "261c7b91c7654dbb8aa0ca6d9654067d"
            }
          },
          "metadata": {}
        },
        {
          "output_type": "display_data",
          "data": {
            "text/plain": "#28:   0%|          | 0/1 [00:00<?, ?ba/s]",
            "application/vnd.jupyter.widget-view+json": {
              "version_major": 2,
              "version_minor": 0,
              "model_id": "c215ee05537b452f9685d89528ea3fdc"
            }
          },
          "metadata": {}
        },
        {
          "output_type": "display_data",
          "data": {
            "text/plain": "#30:   0%|          | 0/1 [00:00<?, ?ba/s]",
            "application/vnd.jupyter.widget-view+json": {
              "version_major": 2,
              "version_minor": 0,
              "model_id": "80db66befff248e9aca398547ea2a6f2"
            }
          },
          "metadata": {}
        },
        {
          "output_type": "display_data",
          "data": {
            "text/plain": "#31:   0%|          | 0/1 [00:00<?, ?ba/s]",
            "application/vnd.jupyter.widget-view+json": {
              "version_major": 2,
              "version_minor": 0,
              "model_id": "fc3723e3b5e34f8cb7a36ce7253e9918"
            }
          },
          "metadata": {}
        }
      ]
    },
    {
      "cell_type": "markdown",
      "source": [
        "Prediction on train set"
      ],
      "metadata": {
        "id": "EUd93z3vAY4D"
      }
    },
    {
      "cell_type": "code",
      "source": [
        "final_metrics = {}\n",
        "\n",
        "\n",
        "predictions, labels, bert_metrics = trainer.predict(train_dataset)\n",
        "\n",
        "lang_specific_results = {}\n",
        "for key in bert_metrics:\n",
        "  if 'overall_precision' in key:\n",
        "    lang_specific_results['Precision'] = bert_metrics[key]\n",
        "  elif 'overall_recall' in key:\n",
        "    lang_specific_results['Recall'] = bert_metrics[key]\n",
        "  elif 'overall_f1' in key:\n",
        "    lang_specific_results['F1'] = bert_metrics[key]\n",
        "final_metrics[lang] = lang_specific_results"
      ],
      "metadata": {
        "id": "DHPDnA-WQP7g",
        "execution": {
          "iopub.status.busy": "2024-03-13T09:10:38.354632Z",
          "iopub.execute_input": "2024-03-13T09:10:38.355033Z",
          "iopub.status.idle": "2024-03-13T09:26:34.595413Z",
          "shell.execute_reply.started": "2024-03-13T09:10:38.355002Z",
          "shell.execute_reply": "2024-03-13T09:26:34.594385Z"
        },
        "trusted": true,
        "outputId": "86824672-5b7d-4afa-c991-95ee93e4036a"
      },
      "execution_count": null,
      "outputs": [
        {
          "output_type": "display_data",
          "data": {
            "text/plain": "<IPython.core.display.HTML object>",
            "text/html": ""
          },
          "metadata": {}
        },
        {
          "name": "stdout",
          "text": "{'LOC': {'precision': 0.758201899172678, 'recall': 0.7803363952854326, 'f1': 0.7691099259994211, 'number': 23841}, 'ORG': {'precision': 0.6807599958241988, 'recall': 0.6304137664346481, 'f1': 0.6546202881092205, 'number': 20688}, 'PER': {'precision': 0.7961045907932413, 'recall': 0.7845757876457454, 'f1': 0.7902981461525247, 'number': 32248}, 'overall_precision': 0.7545047432296359, 'overall_recall': 0.7417195253786941, 'overall_f1': 0.7480575095400418, 'overall_accuracy': 0.9320804574209403}\n",
          "output_type": "stream"
        }
      ]
    },
    {
      "cell_type": "code",
      "source": [
        "final_metrics"
      ],
      "metadata": {
        "id": "TmyyJL45jBr_",
        "execution": {
          "iopub.status.busy": "2024-03-13T09:26:34.598541Z",
          "iopub.execute_input": "2024-03-13T09:26:34.599158Z",
          "iopub.status.idle": "2024-03-13T09:26:34.606497Z",
          "shell.execute_reply.started": "2024-03-13T09:26:34.599126Z",
          "shell.execute_reply": "2024-03-13T09:26:34.605368Z"
        },
        "trusted": true,
        "outputId": "6ff2c040-bd0d-432d-a0d4-6f5062d4342d"
      },
      "execution_count": null,
      "outputs": [
        {
          "execution_count": 56,
          "output_type": "execute_result",
          "data": {
            "text/plain": "{'gu': {'Precision': 0.7545047432296359,\n  'Recall': 0.7417195253786941,\n  'F1': 0.7480575095400418}}"
          },
          "metadata": {}
        }
      ]
    },
    {
      "cell_type": "markdown",
      "source": [
        "Prediction on test set"
      ],
      "metadata": {
        "id": "Ix3wsNa2ANpP"
      }
    },
    {
      "cell_type": "code",
      "source": [
        "final_metrics = {}\n",
        "\n",
        "\n",
        "predictions, labels, bert_metrics = trainer.predict(tokenized_test_set)\n",
        "\n",
        "lang_specific_results = {}\n",
        "for key in bert_metrics:\n",
        "  if 'overall_precision' in key:\n",
        "    lang_specific_results['Precision'] = bert_metrics[key]\n",
        "  elif 'overall_recall' in key:\n",
        "    lang_specific_results['Recall'] = bert_metrics[key]\n",
        "  elif 'overall_f1' in key:\n",
        "    lang_specific_results['F1'] = bert_metrics[key]\n",
        "final_metrics[lang] = lang_specific_results"
      ],
      "metadata": {
        "id": "R6v3FErLjBr_",
        "colab": {
          "base_uri": "https://localhost:8080/",
          "height": 54
        },
        "outputId": "eea200d2-384f-4fcd-e44b-ab8ee5a7a246",
        "execution": {
          "iopub.status.busy": "2024-03-13T09:06:04.556133Z",
          "iopub.execute_input": "2024-03-13T09:06:04.557065Z",
          "iopub.status.idle": "2024-03-13T09:06:26.231829Z",
          "shell.execute_reply.started": "2024-03-13T09:06:04.557005Z",
          "shell.execute_reply": "2024-03-13T09:06:26.229935Z"
        },
        "trusted": true
      },
      "execution_count": null,
      "outputs": [
        {
          "output_type": "display_data",
          "data": {
            "text/plain": "<IPython.core.display.HTML object>",
            "text/html": ""
          },
          "metadata": {}
        },
        {
          "name": "stdout",
          "text": "{'LOC': {'precision': 0.7726523887973641, 'recall': 0.7248840803709428, 'f1': 0.748006379585327, 'number': 647}, 'ORG': {'precision': 0.611353711790393, 'recall': 0.6682577565632458, 'f1': 0.6385404789053591, 'number': 419}, 'PER': {'precision': 0.8364197530864198, 'recall': 0.8017751479289941, 'f1': 0.8187311178247735, 'number': 676}, 'overall_precision': 0.7536485697606539, 'overall_recall': 0.7411021814006888, 'overall_f1': 0.7473227206946454, 'overall_accuracy': 0.9290503204892065}\n",
          "output_type": "stream"
        }
      ]
    },
    {
      "cell_type": "code",
      "source": [
        "final_metrics"
      ],
      "metadata": {
        "id": "re-sCUY3ARvu",
        "colab": {
          "base_uri": "https://localhost:8080/"
        },
        "outputId": "b259f4d7-7cd5-40cb-e5c6-002e2ae4e529",
        "execution": {
          "iopub.status.busy": "2024-03-13T09:06:26.234102Z",
          "iopub.execute_input": "2024-03-13T09:06:26.234524Z",
          "iopub.status.idle": "2024-03-13T09:06:26.242917Z",
          "shell.execute_reply.started": "2024-03-13T09:06:26.234485Z",
          "shell.execute_reply": "2024-03-13T09:06:26.241850Z"
        },
        "trusted": true
      },
      "execution_count": null,
      "outputs": [
        {
          "execution_count": 34,
          "output_type": "execute_result",
          "data": {
            "text/plain": "{'gu': {'Precision': 0.7536485697606539,\n  'Recall': 0.7411021814006888,\n  'F1': 0.7473227206946454}}"
          },
          "metadata": {}
        }
      ]
    },
    {
      "cell_type": "markdown",
      "source": [
        "Prediction on validation set"
      ],
      "metadata": {
        "id": "oJK1zFTTAS40"
      }
    },
    {
      "cell_type": "code",
      "source": [
        "final_metrics = {}\n",
        "\n",
        "\n",
        "predictions, labels, bert_metrics = trainer.predict(eval_dataset)\n",
        "\n",
        "lang_specific_results = {}\n",
        "for key in bert_metrics:\n",
        "  if 'overall_precision' in key:\n",
        "    lang_specific_results['Precision'] = bert_metrics[key]\n",
        "  elif 'overall_recall' in key:\n",
        "    lang_specific_results['Recall'] = bert_metrics[key]\n",
        "  elif 'overall_f1' in key:\n",
        "    lang_specific_results['F1'] = bert_metrics[key]\n",
        "final_metrics[lang] = lang_specific_results"
      ],
      "metadata": {
        "id": "dc5WnkI_QBsj",
        "execution": {
          "iopub.status.busy": "2024-03-13T09:06:26.244240Z",
          "iopub.execute_input": "2024-03-13T09:06:26.244577Z",
          "iopub.status.idle": "2024-03-13T09:07:14.323495Z",
          "shell.execute_reply.started": "2024-03-13T09:06:26.244550Z",
          "shell.execute_reply": "2024-03-13T09:07:14.322335Z"
        },
        "trusted": true,
        "outputId": "2fa4cda5-d16b-49f2-b2fd-7b6cc09753bf"
      },
      "execution_count": null,
      "outputs": [
        {
          "output_type": "display_data",
          "data": {
            "text/plain": "<IPython.core.display.HTML object>",
            "text/html": ""
          },
          "metadata": {}
        },
        {
          "name": "stdout",
          "text": "{'LOC': {'precision': 0.7313559322033898, 'recall': 0.7144039735099338, 'f1': 0.7227805695142379, 'number': 1208}, 'ORG': {'precision': 0.6193353474320241, 'recall': 0.5801886792452831, 'f1': 0.599123234291281, 'number': 1060}, 'PER': {'precision': 0.7521847690387016, 'recall': 0.7461300309597523, 'f1': 0.74914516630401, 'number': 1615}, 'overall_precision': 0.710728476821192, 'overall_recall': 0.6909605974761782, 'overall_f1': 0.7007051449464612, 'overall_accuracy': 0.917047619047619}\n",
          "output_type": "stream"
        }
      ]
    },
    {
      "cell_type": "code",
      "source": [
        "final_metrics"
      ],
      "metadata": {
        "id": "k2lWy8AdAXLP",
        "execution": {
          "iopub.status.busy": "2024-03-13T09:07:14.325389Z",
          "iopub.execute_input": "2024-03-13T09:07:14.325707Z",
          "iopub.status.idle": "2024-03-13T09:07:14.334605Z",
          "shell.execute_reply.started": "2024-03-13T09:07:14.325682Z",
          "shell.execute_reply": "2024-03-13T09:07:14.333343Z"
        },
        "trusted": true,
        "outputId": "3ddcda5e-7178-4e10-e05e-432156374aaf"
      },
      "execution_count": null,
      "outputs": [
        {
          "execution_count": 36,
          "output_type": "execute_result",
          "data": {
            "text/plain": "{'gu': {'Precision': 0.710728476821192,\n  'Recall': 0.6909605974761782,\n  'F1': 0.7007051449464612}}"
          },
          "metadata": {}
        }
      ]
    },
    {
      "cell_type": "markdown",
      "source": [
        "## **2.2) INDIC-NER**"
      ],
      "metadata": {
        "id": "KWWh1qiOEyMU"
      }
    },
    {
      "cell_type": "code",
      "source": [
        "# Import all the necessary classes and initialize the tokenizer and model.\n",
        "from transformers import AutoModelForTokenClassification, AutoConfig, AutoTokenizer, TrainingArguments, Trainer, DataCollatorForTokenClassification\n",
        "import numpy as np\n",
        "import torch\n",
        "from sklearn.metrics import precision_recall_fscore_support\n",
        "\n",
        "tokenizer = AutoTokenizer.from_pretrained(\"ai4bharat/IndicNER\")\n",
        "\n",
        "model = AutoModelForTokenClassification.from_pretrained(\"ai4bharat/IndicNER\")"
      ],
      "metadata": {
        "id": "STKXwS2BEyMU",
        "execution": {
          "iopub.status.busy": "2024-03-13T11:37:16.002862Z",
          "iopub.execute_input": "2024-03-13T11:37:16.003274Z",
          "iopub.status.idle": "2024-03-13T11:37:16.638014Z",
          "shell.execute_reply.started": "2024-03-13T11:37:16.003240Z",
          "shell.execute_reply": "2024-03-13T11:37:16.636940Z"
        },
        "trusted": true
      },
      "execution_count": null,
      "outputs": []
    },
    {
      "cell_type": "code",
      "source": [
        "# model=model.to(\"cuda\")"
      ],
      "metadata": {
        "id": "dtmwoPdZBNly",
        "execution": {
          "iopub.status.busy": "2024-03-13T11:37:16.640183Z",
          "iopub.execute_input": "2024-03-13T11:37:16.640566Z",
          "iopub.status.idle": "2024-03-13T11:37:16.645823Z",
          "shell.execute_reply.started": "2024-03-13T11:37:16.640528Z",
          "shell.execute_reply": "2024-03-13T11:37:16.644801Z"
        },
        "trusted": true
      },
      "execution_count": null,
      "outputs": []
    },
    {
      "cell_type": "code",
      "source": [
        "data_collator = DataCollatorForTokenClassification(tokenizer)"
      ],
      "metadata": {
        "id": "T1kAi3kVEyMV",
        "execution": {
          "iopub.status.busy": "2024-03-13T11:37:16.912002Z",
          "iopub.execute_input": "2024-03-13T11:37:16.912745Z",
          "iopub.status.idle": "2024-03-13T11:37:16.918055Z",
          "shell.execute_reply.started": "2024-03-13T11:37:16.912717Z",
          "shell.execute_reply": "2024-03-13T11:37:16.916886Z"
        },
        "trusted": true
      },
      "execution_count": null,
      "outputs": []
    },
    {
      "cell_type": "code",
      "source": [
        "# Tokenize all texts and align the labels with them.\n",
        "padding = \"max_length\"\n",
        "text_column_name = \"tokens\"\n",
        "label_column_name = \"ner_tags\"\n",
        "def tokenize_and_align_labels(examples):\n",
        "    tokenized_inputs = tokenizer(\n",
        "        examples[text_column_name],\n",
        "        padding=padding,\n",
        "        truncation=True,\n",
        "        max_length=512,\n",
        "        # We use this argument because the texts in our dataset are lists of words (with a label for each word).\n",
        "        is_split_into_words=True,\n",
        "    )\n",
        "    labels = []\n",
        "    for i, label in enumerate(examples[label_column_name]):\n",
        "        # print('=====')\n",
        "        # print('{} {}'.format(i,label)) #ak\n",
        "        word_ids = tokenized_inputs.word_ids(batch_index=i)\n",
        "\n",
        "        previous_word_idx = None\n",
        "        label_ids = []\n",
        "        for word_idx in word_ids:\n",
        "            # Special tokens have a word id that is None. We set the label to -100 so they are automatically\n",
        "            # ignored in the loss function.\n",
        "            if word_idx is None:\n",
        "                label_ids.append(-100)\n",
        "            # We set the label for the first token of each word.\n",
        "            elif word_idx != previous_word_idx:\n",
        "                label_ids.append(label[word_idx])\n",
        "            # For the other tokens in a word, we set the label to either the current label or -100, depending on\n",
        "            # the label_all_tokens flag.\n",
        "            else:\n",
        "                label_ids.append(-100)\n",
        "            previous_word_idx = word_idx\n",
        "\n",
        "        labels.append(label_ids)\n",
        "    tokenized_inputs[\"labels\"] = labels\n",
        "    return tokenized_inputs"
      ],
      "metadata": {
        "id": "FOlQ6CI9FaFw",
        "execution": {
          "iopub.status.busy": "2024-03-13T11:37:17.426989Z",
          "iopub.execute_input": "2024-03-13T11:37:17.427676Z",
          "iopub.status.idle": "2024-03-13T11:37:17.437751Z",
          "shell.execute_reply.started": "2024-03-13T11:37:17.427644Z",
          "shell.execute_reply": "2024-03-13T11:37:17.436629Z"
        },
        "trusted": true
      },
      "execution_count": null,
      "outputs": []
    },
    {
      "cell_type": "code",
      "source": [
        "# Metrics\n",
        "metric = load_metric(\"seqeval\")\n",
        "\n",
        "def compute_metrics(p):\n",
        "    predictions, labels = p\n",
        "    predictions = np.argmax(predictions, axis=2)\n",
        "\n",
        "    # Remove ignored index (special tokens)\n",
        "    true_predictions = [\n",
        "        [label_list[p] for (p, l) in zip(prediction, label) if l != -100]\n",
        "        for prediction, label in zip(predictions, labels)\n",
        "    ]\n",
        "    true_labels = [\n",
        "        [label_list[l] for (p, l) in zip(prediction, label) if l != -100]\n",
        "        for prediction, label in zip(predictions, labels)\n",
        "    ]\n",
        "\n",
        "    results = metric.compute(predictions=true_predictions, references=true_labels)\n",
        "    # Unpack nested dictionaries\n",
        "    final_results = {}\n",
        "    for key, value in results.items():\n",
        "        if isinstance(value, dict):\n",
        "            for n, v in value.items():\n",
        "                final_results[f\"{key}_{n}\"] = v\n",
        "        else:\n",
        "            final_results[key] = value\n",
        "    return final_results"
      ],
      "metadata": {
        "id": "j0J3_xW5FeWf",
        "colab": {
          "base_uri": "https://localhost:8080/",
          "height": 173,
          "referenced_widgets": [
            "fcf6f294cf4644d78a4df8fd14d319a9",
            "7fb69bf0aa6948539f9289a2986ed7be",
            "d5ee80e82f7446418bb4f0bbfc7d9e24",
            "cb796ae2c087453ebeac855718fe288e",
            "b69f05469e8f4422b9bfde60f39afdfc",
            "6946fb2ea0d5499c81233451c9276305",
            "e18a2de6acfb4455b54017424765d926",
            "b595ac97c73b45bd95ed78766d9421ef",
            "95cf41268e164479ab9b5e1884315889",
            "922489f7798148288bb12937e09e6ae6",
            "896488f78f2a4184a40895600456490b",
            "86534688a54b469fad4b9db57887d42c"
          ]
        },
        "outputId": "dc00a079-8d74-4f68-a959-0c417beeb4b6",
        "execution": {
          "iopub.status.busy": "2024-03-13T07:37:46.522448Z",
          "iopub.execute_input": "2024-03-13T07:37:46.522723Z",
          "iopub.status.idle": "2024-03-13T07:37:46.857225Z",
          "shell.execute_reply.started": "2024-03-13T07:37:46.522701Z",
          "shell.execute_reply": "2024-03-13T07:37:46.856493Z"
        },
        "trusted": true
      },
      "execution_count": null,
      "outputs": [
        {
          "output_type": "display_data",
          "data": {
            "text/plain": "Downloading builder script:   0%|          | 0.00/2.47k [00:00<?, ?B/s]",
            "application/vnd.jupyter.widget-view+json": {
              "version_major": 2,
              "version_minor": 0,
              "model_id": "86534688a54b469fad4b9db57887d42c"
            }
          },
          "metadata": {}
        }
      ]
    },
    {
      "cell_type": "code",
      "source": [
        "# import torch\n",
        "# torch.cuda.is_available()\n"
      ],
      "metadata": {
        "id": "tEgsIrghEyMV",
        "execution": {
          "iopub.status.busy": "2024-03-13T07:37:46.858418Z",
          "iopub.execute_input": "2024-03-13T07:37:46.858724Z",
          "iopub.status.idle": "2024-03-13T07:37:46.862390Z",
          "shell.execute_reply.started": "2024-03-13T07:37:46.858700Z",
          "shell.execute_reply": "2024-03-13T07:37:46.861471Z"
        },
        "trusted": true
      },
      "execution_count": null,
      "outputs": []
    },
    {
      "cell_type": "code",
      "source": [
        "# Run the next cell if you want to use a GPU. Make sure that the Colab runtime is set accordingly\n",
        "\n",
        "# model=model.to(\"cuda\")"
      ],
      "metadata": {
        "id": "-8ILfD2hEyMV",
        "execution": {
          "iopub.status.busy": "2024-03-13T07:37:46.863373Z",
          "iopub.execute_input": "2024-03-13T07:37:46.863620Z",
          "iopub.status.idle": "2024-03-13T07:37:46.873760Z",
          "shell.execute_reply.started": "2024-03-13T07:37:46.863599Z",
          "shell.execute_reply": "2024-03-13T07:37:46.872820Z"
        },
        "trusted": true
      },
      "execution_count": null,
      "outputs": []
    },
    {
      "cell_type": "code",
      "source": [
        "train_dataset = raw_datasets[\"train\"]\n",
        "train_dataset = train_dataset.map(\n",
        "    tokenize_and_align_labels,\n",
        "    batched=True,\n",
        "    num_proc=4,\n",
        "    load_from_cache_file=True,\n",
        "    desc=\"Running tokenizer on train dataset\",\n",
        ")"
      ],
      "metadata": {
        "id": "Pu5I0OxaEyMV",
        "colab": {
          "base_uri": "https://localhost:8080/",
          "height": 49,
          "referenced_widgets": [
            "a9ef350b58f549bc87fc595943ca6636",
            "e1a63302616447feaef3968de47d512c",
            "6f91d4b4942145b7ab5a3aa68a2d0c5d",
            "887d4322b3b74bd3805f20cbde9914e6",
            "a0c432b38447424ca164b481e1a00629",
            "78c832dae932475f8c1e3511dce9ba92",
            "de55e904dc9643f7b1bcba4757f44900",
            "89be04dd735e4510ad0c14a1c27d20a3",
            "05f05fd3b8de417985d30209141ce86b",
            "bfb2c4a004e74a6a89f7d5892cd65d73",
            "b710687f8b2b4821b3381d26b4779b98",
            "788f529ec31048f692b2e469e7efe901",
            "f2c6525fea1642739800f9e7e739339f",
            "fe10b6bbede4413e819257a7d8a13fb1",
            "771b105498ed46ca82416627e7070c86"
          ]
        },
        "outputId": "cfc81d42-9728-4a47-de71-514d3792196d",
        "execution": {
          "iopub.status.busy": "2024-03-13T11:37:26.425249Z",
          "iopub.execute_input": "2024-03-13T11:37:26.425955Z",
          "iopub.status.idle": "2024-03-13T11:37:39.533702Z",
          "shell.execute_reply.started": "2024-03-13T11:37:26.425925Z",
          "shell.execute_reply": "2024-03-13T11:37:39.532522Z"
        },
        "trusted": true
      },
      "execution_count": null,
      "outputs": [
        {
          "name": "stdout",
          "text": "     ",
          "output_type": "stream"
        },
        {
          "output_type": "display_data",
          "data": {
            "text/plain": "Running tokenizer on train dataset #0:   0%|          | 0/12 [00:00<?, ?ba/s]",
            "application/vnd.jupyter.widget-view+json": {
              "version_major": 2,
              "version_minor": 0,
              "model_id": "788f529ec31048f692b2e469e7efe901"
            }
          },
          "metadata": {}
        },
        {
          "name": "stdout",
          "text": "  ",
          "output_type": "stream"
        },
        {
          "output_type": "display_data",
          "data": {
            "text/plain": "Running tokenizer on train dataset #1:   0%|          | 0/12 [00:00<?, ?ba/s]",
            "application/vnd.jupyter.widget-view+json": {
              "version_major": 2,
              "version_minor": 0,
              "model_id": "f2c6525fea1642739800f9e7e739339f"
            }
          },
          "metadata": {}
        },
        {
          "name": "stdout",
          "text": " ",
          "output_type": "stream"
        },
        {
          "output_type": "display_data",
          "data": {
            "text/plain": "Running tokenizer on train dataset #2:   0%|          | 0/12 [00:00<?, ?ba/s]",
            "application/vnd.jupyter.widget-view+json": {
              "version_major": 2,
              "version_minor": 0,
              "model_id": "fe10b6bbede4413e819257a7d8a13fb1"
            }
          },
          "metadata": {}
        },
        {
          "output_type": "display_data",
          "data": {
            "text/plain": "Running tokenizer on train dataset #3:   0%|          | 0/12 [00:00<?, ?ba/s]",
            "application/vnd.jupyter.widget-view+json": {
              "version_major": 2,
              "version_minor": 0,
              "model_id": "771b105498ed46ca82416627e7070c86"
            }
          },
          "metadata": {}
        }
      ]
    },
    {
      "cell_type": "code",
      "source": [
        "train_dataset[text_column_name]"
      ],
      "metadata": {
        "id": "AbfXyC-9EyMW",
        "colab": {
          "base_uri": "https://localhost:8080/"
        },
        "outputId": "b50284c0-fdaf-4440-9ecc-ac2b5c659e5f",
        "_kg_hide-output": true,
        "execution": {
          "iopub.status.busy": "2024-03-13T07:38:01.399243Z",
          "iopub.execute_input": "2024-03-13T07:38:01.399544Z",
          "iopub.status.idle": "2024-03-13T07:38:02.878119Z",
          "shell.execute_reply.started": "2024-03-13T07:38:01.399516Z",
          "shell.execute_reply": "2024-03-13T07:38:02.877119Z"
        },
        "trusted": true
      },
      "execution_count": null,
      "outputs": [
        {
          "execution_count": 20,
          "output_type": "execute_result",
          "data": {
            "text/plain": "[['લક્ઝરી', 'સેન્ટ', 'એન્ડ્રુ', 'માતાનો', 'ચર્ચ'],\n ['આ', 'દિવસે', 'ભગવાન', 'ગણેશની', 'પૂજાનું', 'વધારે', 'મહત્ત્વ', 'છે', '.'],\n ['આદુ', 'પાવડર', '-', '1', 'ટીસ્પૂન'],\n ['તે',\n  'સમયે',\n  'સુભાષ',\n  'કાલાબુરાગી',\n  'શહેરમાં',\n  'MR',\n  'મેડિકલ',\n  'કોલેજના',\n  'ત્રીજા',\n  'વર્ષનો',\n  'વિદ્યાર્થી',\n  'હતો',\n  '.'],\n ['ઓરેન્જ', 'ઓરા'],\n ['આ',\n  'પહેલાં',\n  'તેઓ',\n  'બેંગલુરુ',\n  'રેકોર્ડિંગ',\n  'કંપનીમાં',\n  'ટ્રાન્સલેટર',\n  'તરીકે',\n  'કાર્ય',\n  'કરતી',\n  'હતી',\n  '.'],\n ['5',\n  'રાજ્યોની',\n  'ચૂંટણીઃ',\n  'તેલંગાણા',\n  'અને',\n  'મઝોરમમાં',\n  'બીજેપીને',\n  'કોઈએ',\n  'તક',\n  'નથી',\n  'આપી',\n  '.'],\n ['આસ્તિકવાદની', 'મર્યાદાઓ'],\n ['કાર્તિક', 'આર્યન', 'ઘણો', 'ફની', 'છે', ':', 'અનન્યા', 'પાન્ડે'],\n ['અમેરિકના',\n  'નાણા',\n  'મંત્રાલયે',\n  'ભારતીય',\n  'મુદ્રાને',\n  'પોતાની',\n  'મોનિટરીંગ',\n  'લીસ્ટમાંથી',\n  'હટાવી',\n  'દીધી',\n  'છે',\n  '.'],\n ['ટીમ',\n  'ઇન્ડિયાના',\n  'ફાસ્ટ',\n  'બોલર',\n  'મોહંમદ',\n  'શમીની',\n  'ભૂતપૂર્વ',\n  'પત્ની',\n  'હસીન',\n  'જહાં',\n  'ફરી',\n  'એક',\n  'વાર',\n  'સમાચારોમાં',\n  'ઝળકી',\n  'છે',\n  '.'],\n ['જુઓ', 'એના', 'હોટ', 'ફોટોઝ', '.', '.', '.'],\n ['ભારત',\n  'એરક્રાફ્ટ',\n  'મેન્ટેનન્સ',\n  ',',\n  'રિપેરિંગ',\n  'અને',\n  'ઓવરહૉલ',\n  '(',\n  'MRO',\n  ')',\n  'માટે',\n  'વૈશ્વિક',\n  'હબ',\n  'બનશે'],\n ['ભારતની', 'ભૂમિકા'],\n ['માનચેસ્ટરમાં',\n  'રહેલી',\n  'ઓલ્ડ',\n  'ટ્રાફોર્ડ',\n  'સ્ટેડિયમમાં',\n  'આ',\n  'મેચ',\n  'રમાશે',\n  '.'],\n ['અમેરિકાના',\n  'રાષ્ટ્રપ્રમુખ',\n  'ડોનાલ્ડ',\n  'ટ્રમ્પ',\n  'પણ',\n  'હાજર',\n  'રહેશે',\n  '.'],\n ['~',\n  '/',\n  '.',\n  'Xauthority',\n  'ફાઈલ',\n  'ખરાબ',\n  'રીતે',\n  'રૂપરેખાંકિત',\n  'થયેલ',\n  'છે',\n  'અથવા',\n  'ગુમ',\n  'થયેલ',\n  'છે',\n  '.'],\n ['અનિલ',\n  'કપૂરનો',\n  'વીડિયો',\n  \"'\",\n  'ઇન્સ્ટાગ્રામ',\n  'એકાઉન્ટ',\n  'પર',\n  'શેર',\n  'કરવામાં',\n  'આવ્યો',\n  'છે',\n  '.'],\n ['કોંગ્રેસના',\n  'નેતા',\n  'રાહુલ',\n  'ગાંધીએ',\n  'ભાજપ',\n  'પર',\n  'જોરદાર',\n  'પ્રહાર',\n  'કર્યા',\n  'છે',\n  '.'],\n ['સ્ક્રિનસેવર', 'માટે', 'પ્લાઝમા'],\n ['પ્રધાનમંત્રી',\n  'શ્રી',\n  'નરેન્દ્ર',\n  'મોદીએ',\n  'આજે',\n  'મ્યાનમારમાં',\n  'બાગાનમાં',\n  'આનંદ',\n  'ટેમ્પલની',\n  'મુલાકાત',\n  'લીધી',\n  'હતી',\n  '.'],\n ['તે',\n  'પછી',\n  'જનસંઘનો',\n  'સ્થાપક',\n  'સભ્ય',\n  'રહ્યો',\n  'હતો',\n  'અને',\n  'તે',\n  'પછી',\n  'ભાજપનો',\n  'સ્થાપક',\n  'સભ્યોમાં',\n  'પણ',\n  'સામેલ',\n  'હતો',\n  '.'],\n ['ભારતીય',\n  'વાયુસેનાં',\n  'પાસે',\n  'મિગ',\n  '-',\n  '29',\n  'પહેલાથી',\n  'જ',\n  'સામેલ',\n  'છે',\n  '.'],\n ['જ્વાળામુખીની', 'રાખ'],\n ['તે', 'બાદ', 'કેરડાનું', 'પાણી', 'નીકાળી', 'લો', '.'],\n ['આકાશ',\n  'અને',\n  'શ્લોકા',\n  'ધીરુંભાઈ',\n  'અંબાણી',\n  'ઇન્ટરનેશનલ',\n  'સ્કૂલમાં',\n  'સાથે',\n  'ભણ્યા',\n  'હતા',\n  '.'],\n ['લંડન', 'પાછા'],\n ['આ',\n  'પૂર્વે',\n  'મહારાષ્ટ્ર',\n  'કો',\n  '-',\n  'ઓપરેટીવ',\n  'સોસાયટી',\n  'એકટ',\n  'હેઠળ',\n  'એક',\n  'અર્ધ',\n  'ન્યાયિક',\n  'તપાસ',\n  'સમિતિએ',\n  'આ',\n  'કેસમાં',\n  'પવાર',\n  'સહિત',\n  'અનેક',\n  'લોકોને',\n  'જવાબદાર',\n  'ઠેરવ્યા',\n  'હતા',\n  '.'],\n ['આતંકવાદી',\n  'સંગઠન',\n  'જૈશ',\n  '-',\n  'એ',\n  '-',\n  'મોહમ્મદનું',\n  'વડું',\n  'મથક',\n  'પાકિસ્તાનના',\n  'પંજાબના',\n  'બહાવલપુરમાં',\n  'આવેલું',\n  'છે',\n  '.'],\n ['પ્રધાનમંત્રીનું',\n  'કાર્યાલય',\n  'પ્રધાનમંત્રીએ',\n  'કાદરી',\n  'ગોપાલનાથના',\n  'નિધન',\n  'પર',\n  'શોક',\n  'વ્યક્ત',\n  'કર્યો',\n  'પ્રધાનમંત્રી',\n  'શ્રી',\n  'નરેન્દ્ર',\n  'મોદીએ',\n  'આજે',\n  'કર્ણાટક',\n  'સંગીતના',\n  'વરિષ્ઠ',\n  'સંગીતકાર',\n  'શ્રી',\n  'કાદરી',\n  'ગોપાલનાથના',\n  'નિધન',\n  'પર',\n  'શોક',\n  'વ્યક્ત',\n  'કર્યો',\n  'હતો',\n  '.'],\n ['Eye', 'of', 'GNOME', 'માટે', 'Python', 'કન્સોલ'],\n ['તે', 'ધાર્મિક', 'ઝંડા', 'હતા', '.'],\n ['મહતમ',\n  'તાપમાનની',\n  'વાત',\n  'કરીએ',\n  'તો',\n  'અમદાવાદ',\n  'અને',\n  'ગાંધીનગરમાં',\n  '44',\n  'ડિગ્રી',\n  'તાપમાન',\n  'જોવા',\n  'મળ્યું',\n  'હતું',\n  '.'],\n ['આ',\n  'અવસર',\n  'પર',\n  'પીએમ',\n  'મોદી',\n  'વિદ્વાનો',\n  ',',\n  'ચિકિત્સકો',\n  'અને',\n  'આયુષ',\n  'પ્રણાલીથી',\n  'ઇલાજ',\n  'કરનારાઓના',\n  'સન્માનમાં',\n  '12',\n  'સ્મારક',\n  'પોસ્ટ',\n  'ટિકિટ',\n  'પણ',\n  'ઇશ્યુ',\n  'કરશે',\n  '.'],\n ['એકતા',\n  'કપૂરના',\n  'સુપરહિટ',\n  'શો',\n  \"'\",\n  'કસૌટી',\n  'ઝિંદગી',\n  'કી',\n  '2',\n  \"'\",\n  'માં',\n  'મિસ્ટર',\n  'બજાજનો',\n  'રોલ',\n  'કરશો',\n  'ટીવીનો',\n  'સુપર',\n  'હોટ',\n  'એક્ટર',\n  'કરણ',\n  'વાહી',\n  '.'],\n ['છછુંદર', 'ઉંદર', 'ખાય', '?'],\n ['15માં',\n  'MIFFમાં',\n  'ઘણી',\n  'પ્રસિદ્ધ',\n  'ડોક્યુમેન્ટરી',\n  'સબમિટ',\n  'થઈ',\n  'હતી',\n  'તથા',\n  'ભારત',\n  'અને',\n  'દુનિયાનાં',\n  'વિવિધ',\n  'દેશોમાંથી',\n  'શોર્ટ',\n  'ફિલ્મ',\n  'નિર્માતાઓએ',\n  'એમની',\n  'ફિલ્મો',\n  'મોકલી',\n  'હતી',\n  '.'],\n ['સુપરસ્ટાર',\n  'WWE',\n  'દિવા',\n  'ચાર્લોટ',\n  'ફ્લેર',\n  'બોલિવૂડ',\n  'એક્ટર',\n  'વરૂણ',\n  'ધવનને',\n  'તેની',\n  'હાલની',\n  'ભારત',\n  'યાત્રા',\n  'દરમિયાન',\n  'મળી',\n  'હતી',\n  '.'],\n ['ગુજરાત', 'ફોરચ્યૂન', 'જાયન્ટસ'],\n ['રાજસ્થાન', 'પત્રીકાના'],\n ['વધુ', 'મૃત્યુ'],\n ['બિગ',\n  'બૉસ',\n  '13માં',\n  'સિદ્ધાર્થ',\n  'શુક્લા',\n  'અને',\n  'રશ્મિ',\n  'દેસાઈ',\n  'વચ્ચે',\n  'ફાઈટ',\n  'જોવા',\n  'મળશે',\n  '.'],\n ['ભારતીય',\n  'ક્રિકેટ',\n  'ટીમના',\n  'પૂર્વ',\n  'સુકાની',\n  'મહેન્દ્રસિંહ',\n  'ધોની',\n  'અને',\n  'ટેનિસના',\n  'દિગ્ગજ',\n  'ખેલાડી',\n  'લિએન્ડર',\n  'પેસ',\n  'ખેલના',\n  'મેદાન',\n  'પર',\n  'એકસાથે',\n  'જોવા',\n  'મળ્યાં',\n  'હતા',\n  '.'],\n ['જથ્થાબંધ', 'અને', 'છૂટક', 'વેપાર'],\n ['શિલ્પીનું', 'ઘટનાસ્થળે', 'મોત', 'નીપજ્યું', 'હતું', '.'],\n ['આ',\n  'પુસ્તક',\n  'શ્રી',\n  'એન',\n  'ચંદ્રશેખરન',\n  'અને',\n  'શ્રીમતી',\n  'રુપા',\n  'પુરુષોત્તમે',\n  'લખ્યું',\n  'છે',\n  '.'],\n ['પ્રિયા',\n  'ફિલ્મમાં',\n  'સુપરસ્ટાર',\n  'શ્રીદેવીનું',\n  'કિરદાર',\n  'નિભાવી',\n  'રહી',\n  'છે',\n  '.'],\n ['પાકિસ્તાનના', 'પ્રમુખ', 'સમાચાર', 'પત્ર', '.'],\n ['સુભાષચંદ્ર',\n  'બોઝના',\n  'કોંગ્રેસમાંથી',\n  'રાજીનામું',\n  'આપ્યા',\n  'બાદ',\n  'આ',\n  'દંપતી',\n  'તેમની',\n  'સાથે',\n  'ફોરવર્ડ',\n  'બ્લૉકમાં',\n  'જોડાયા',\n  'હતા',\n  '.'],\n ['મહાનાયક',\n  'અમિતાભ',\n  'બચ્ચને',\n  'હાલમાં',\n  'જ',\n  'તેમનાં',\n  'દિવંગત',\n  'પિતા',\n  'અને',\n  'કવિ',\n  'હરિવંશ',\n  'રાય',\n  'બચ્ચનની',\n  'કવિતાનો',\n  'પાઠ',\n  'કરવા',\n  'બદલ',\n  'આપ',\n  'નેતા',\n  'કુમાર',\n  'વિશ્વાસને',\n  'કાયદાકીય',\n  'નોટીસ',\n  'મોકલી',\n  'દીધી',\n  'હતી',\n  '.'],\n ['આ',\n  'નદી',\n  'પર',\n  'બાંધવામાં',\n  'આવેલ',\n  'મેજા',\n  'બંધ',\n  'ભિલવાડા',\n  'જિલ્લાને',\n  'પીવાના',\n  'પાણીની',\n  'સવલત',\n  'પૂરી',\n  'પાડે',\n  'છે',\n  '.'],\n ['કર્ણાટક',\n  'અને',\n  'તમિલનાડુ',\n  'કાવેરી',\n  'ઘાટી',\n  'સાથે',\n  'સંબંધિત',\n  'બે',\n  'મુખ્ય',\n  'રાજ્યો',\n  'છે',\n  '.'],\n ['મનરેગા',\n  'હેઠળ',\n  'લાભાર્થી',\n  '90',\n  'દિવસનો',\n  'બિનકુશળ',\n  'શ્રમ',\n  'મેળવવા',\n  'માટે',\n  'હકદાર',\n  'છે',\n  '.'],\n ['મુંબઈમાં',\n  'વહેલી',\n  'સવારના',\n  'વરસાદને',\n  'કારણે',\n  'કિંગ્સ',\n  'સર્કલ',\n  'રેલ્વે',\n  'સ્ટેશન',\n  'અને',\n  'ગાંધી',\n  'માર્કેટ',\n  'નજીકના',\n  'વિસ્તારોમાં',\n  'પાણી',\n  'ભરાયા',\n  'હતા',\n  '.'],\n ['હું',\n  'એ',\n  'જ',\n  'બસ',\n  'ડ્રાઇવર',\n  'છું',\n  ',',\n  'જેણે',\n  'ટિકિટ',\n  'વિશે',\n  'વાત',\n  'કરી',\n  'હતી',\n  '.'],\n ['ક્રિસ', 'કાહિલ'],\n ['ફેસબુકે', 'શું', 'કહ્યું', '?'],\n ['ડોલીનું',\n  'વતન',\n  'કેન્યાના',\n  'મોટા',\n  'શહેરોમાં',\n  'ત્રીજા',\n  'સ્થાને',\n  'હતું',\n  '.'],\n ['આ', 'બીમારીમાં', 'મોટેભાગે', 'વૃદ્ધ', 'લોકો', 'સપડાય', 'છે', '.'],\n ['ડીજીપીના',\n  'દાવા',\n  'પર',\n  'કમેલશ',\n  'તિવારીના',\n  'પુત્ર',\n  'સત્યમ',\n  'તિવારીએ',\n  'સવાલ',\n  'ઉઠાવતા',\n  'એનઆઈએ',\n  'પાસે',\n  'તપાસ',\n  'કરાવવાની',\n  'માગ',\n  'કરી',\n  'છે',\n  '.'],\n ['અમેરિકા',\n  'અને',\n  'કૅનેડામાં',\n  'આ',\n  'મોબાઇલ',\n  'ઍપ્લિકેશન',\n  'ચાલે',\n  'છે',\n  '.'],\n ['તેમના',\n  'બાદ',\n  'ભાજપના',\n  'નેતા',\n  'લાલ',\n  'કૃષ્ણ',\n  'અડવાણી',\n  'અને',\n  'કોંગ્રેસ',\n  'અધ્યક્ષા',\n  'સોનિયા',\n  'ગાંધીએ',\n  'શપથ',\n  'લીધા',\n  '.'],\n ['નવી',\n  'દિલ્હી',\n  ':',\n  'વડાપ્રધાન',\n  'મોદીએ',\n  'રાષ્ટ્રીય',\n  'કાર્યકારિણી',\n  'બેઠકને',\n  'સંબોધિત',\n  'કરી',\n  '.'],\n ['અમેરિકા', 'અને', 'ઈરાન', 'વચ્ચે', 'યુદ્ધની', 'સ્થિતિ', 'સર્જાઇ', 'છે', '.'],\n ['કરણ', 'જોહર', 'ફિલ્મના', 'નિર્માતા', 'તરીકે', 'છે', '.'],\n ['નિર્માતા',\n  'સાજિદ',\n  'નડિયાદવાલા',\n  'કિક',\n  'સાથે',\n  'દિગ્દર્શક',\n  'તરીકે',\n  'ડેબ્યુ',\n  'કરી',\n  'રહ્યાં',\n  'છે',\n  '.'],\n ['માધુરી',\n  'ગુપ્તા',\n  'આઈએસઆઈના',\n  'બે',\n  'અધિકારીઓ',\n  'એમ',\n  '.',\n  'રાજા',\n  'રાણા',\n  'અને',\n  'જમશેદના',\n  'સંપર્કમાં',\n  'હતાં',\n  'અને',\n  'કેટલીક',\n  'સંવેદનશીલ',\n  'માહિતી',\n  'ઉપલબ્ધ',\n  'કરાવતાં',\n  'હતાં',\n  '.'],\n ['લોકો', 'ખર્ચમાં', 'કાપ', 'મૂકી', 'રહ્યા', 'છે', '.'],\n ['સીએઃ',\n  'અને',\n  'જો',\n  'તમે',\n  'સ્પેસશીપમાં',\n  'હોત',\n  'તો',\n  'તે',\n  'વસ્તુની',\n  'આસપાસ',\n  'કોઈક',\n  'રીતે',\n  'વમળવું',\n  ',',\n  'તે',\n  'કેટલો',\n  'સમય',\n  'લેશે',\n  'ખરેખર',\n  'તેની',\n  'આસપાસ',\n  'જવું',\n  'છે',\n  '?'],\n ['મુખ્યમંત્રી',\n  'વિજય',\n  'રૂપાણીએ',\n  'રાજપારડીના',\n  'પોલીસ',\n  'જવાનોની',\n  'પ્રશંસા',\n  'કરી',\n  'હતી',\n  '.'],\n ['આ', 'કોંગ્રેસની', 'કામ', 'કરવાની', 'રીત', 'છે', '.'],\n ['ICUમાં',\n  'થોડી',\n  'વાર',\n  'માટે',\n  'નિકટના',\n  'સ્વજનો',\n  'સિવાયો',\n  'કોઈને',\n  'પણ',\n  'જવાની',\n  'મંજૂરી',\n  'નથી',\n  'મળતી',\n  '.'],\n ['ક્રિકેટર',\n  'મોહમ્મદ',\n  'શમી',\n  'વિરુદ્વ',\n  'ધરપકડ',\n  'વોરંટ',\n  'જારી',\n  'કરાયું',\n  'છે',\n  '.'],\n ['બોની', 'કપૂરની', 'બીજી', 'પત્ની', 'છે', 'શ્રીદેવી'],\n ['ફ્રોજન', 'સ્વીટ', 'કોર્ન', '1', 'કપ', 'બાફેલા'],\n ['ભારત', 'પ્રવાસે', 'આવશે', 'ડોનાલ્ડ', 'ટ્રમ્પ'],\n ['આ', 'જૂથ', 'ત્રણ', 'પ્રકારના', 'વિભાજિત', 'કરવામાં', 'આવે', 'છે', '.'],\n ['કુકરદા',\n  'ગામના',\n  'લોકોનો',\n  'મુખ્ય',\n  'વ્યવસાય',\n  'ખેતી',\n  ',',\n  'ખેતમજૂરી',\n  'તેમ',\n  'જ',\n  'પશુપાલન',\n  'છે',\n  '.'],\n ['ત્રીજા', 'દિવસે', 'ચંદ્રાઘંટા', 'માતાજીની', 'પૂજા', 'થાય', 'છે', '.'],\n ['વારાણસી',\n  ',',\n  'હિન્દુ',\n  'ધર્મના',\n  'સૌથી',\n  'પવિત્રતમ',\n  'શહેરોમાંથી',\n  'એક',\n  'છે',\n  '.'],\n ['આ',\n  'પેકેજ',\n  'અંગે',\n  'જાહેરાત',\n  'કરતી',\n  'વખતે',\n  'પ્રધાનમંત્રીએ',\n  'PM',\n  'CARES',\n  'ભંડોળમાં',\n  'ઉદાર',\n  'હાથે',\n  'યોગદાન',\n  'આપનારા',\n  'તમામ',\n  'લોકોનો',\n  'આભાર',\n  'વ્યક્ત',\n  'કર્યો',\n  'હતો',\n  'જેનો',\n  'ઉપયોગ',\n  'કોવિડ',\n  '-',\n  '1',\n  'સામેની',\n  'લડાઇમાં',\n  'કરવામાં',\n  'આવશે',\n  '.',\n  'a',\n  ')',\n  '50,000',\n  'વેન્ટીલેટર',\n  'b',\n  ')',\n  'પરપ્રાંતીય',\n  'શ્રમિકો',\n  'માટે',\n  'રાહતના',\n  'પગલાં',\n  'c',\n  ')',\n  'રસી',\n  'વિકાસાવવી',\n  'કોવિડ',\n  '-',\n  '1',\n  'સામેની',\n  'રસી',\n  'અત્યારે',\n  'સૌથી',\n  'વધુ',\n  'જરૂરિયાત',\n  'છે',\n  'અને',\n  'ભારતીય',\n  'વિદ્વાનો',\n  ',',\n  'સ્ટાર્ટ',\n  '-',\n  'અપ',\n  'તેમજ',\n  'ઉદ્યોગો',\n  'સાથે',\n  'મળીને',\n  'કોવિડ',\n  '-',\n  '1',\n  'રસીના',\n  'ડિઝાઇનર',\n  'અને',\n  'વિકાસકર્તાઓને',\n  'સહકાર',\n  'આપીને',\n  'અદ્યતન',\n  'રસીની',\n  'ડિઝાઇન',\n  'અને',\n  'વિકાસનું',\n  'કાર્ય',\n  'આગળ',\n  'વધારી',\n  'રહ્યા',\n  'હોવાથી',\n  'તેમને',\n  'PM',\n  'CARES',\n  'ભંડોળમાંથી',\n  'રૂપિયા',\n  '100',\n  'કરોડની',\n  'આર્થિક',\n  'સહાય',\n  'કરવામાં',\n  'આવશે',\n  '.'],\n ['બિલ્ડિંગની',\n  'બાજુમાં',\n  'કાર',\n  'ગેરેજ',\n  'માટેનું',\n  'એક',\n  'શેરીનું',\n  'ચિહ્ન',\n  '.'],\n ['ASEAN',\n  'માં',\n  'ઇન્ડોનેશિયા',\n  ',',\n  'મલેશિયા',\n  ',',\n  'ફિલિપાઇન્સ',\n  ',',\n  'સિંગાપોર',\n  ',',\n  'થાઇલેન્ડ',\n  ',',\n  'બ્રુનેઇ',\n  ',',\n  'વિયેટનામ',\n  ',',\n  'લાઓસ',\n  ',',\n  'મ્યાનમાર',\n  'અને',\n  'કંબોડિયા',\n  'શામેલ',\n  'છે',\n  '.'],\n ['આ',\n  'ફિલ્મમાં',\n  'આલિયા',\n  'ભટ્ટની',\n  'સાથે',\n  'રણબીર',\n  'કપૂર',\n  'પણ',\n  'જોવા',\n  'મળશે',\n  '.'],\n ['કોંગી', 'નેતાઓએ', 'પણ', 'સરકાર', 'સામે', 'આક્ષેપો', 'કર્યા'],\n ['અમૃતા', 'અરોરા', 'અને', 'કરિશ્મા', 'કપૂર'],\n ['ત્યાં',\n  'જાપાનના',\n  'નિક્કેઈમાં',\n  'પણ',\n  '3.7',\n  'ટકા',\n  ',',\n  'કોરિયાના',\n  'કોપ્સી',\n  '2.9',\n  'ટકા',\n  'અને',\n  'શંઘાઈના',\n  'કંપોજિટમાં',\n  '2.4',\n  'ટકા',\n  'કડાકો',\n  'થયો',\n  '.'],\n ['માતા', 'અથવા', 'પિતા'],\n ['પ્રધાનમંત્રીએ',\n  'રાજ્યના',\n  'લોકોને',\n  'ખાતરી',\n  'આપી',\n  'હતી',\n  'કે',\n  ',',\n  'આ',\n  'મુશ્કેલીના',\n  'સમયમાં',\n  'રાજ્ય',\n  'સરકાર',\n  'સાથે',\n  'નિકટતાપૂર્વક',\n  'કેન્દ્ર',\n  'સરકાર',\n  'કામ',\n  'કરીને',\n  'તમામ',\n  'અસરગ્રસ્ત',\n  'વિસ્તારોમાં',\n  'પુનઃસ્થાપન',\n  'અને',\n  'ઇન્ફ્રાસ્ટ્રક્ચરના',\n  'પુનઃનિર્માણ',\n  'પર',\n  'શક્ય',\n  'હોય',\n  'તેવી',\n  'તમામ',\n  'મદદ',\n  'પૂરી',\n  'પાડશે'],\n ['સીબીઆઈના',\n  'સ્પેશિયલ',\n  'ડાયરેક્ટર',\n  'રાકેશ',\n  'આસ્થાનાની',\n  'ધરપકડ',\n  'કરવા',\n  'અંગે',\n  'દિલ્હી',\n  'હાઈ',\n  'કોર્ટમાં',\n  'લાંચ',\n  'કેસમાં',\n  'સુનાવણી',\n  'કરવામાં',\n  'આવી',\n  'હતી',\n  '.'],\n ['LGએ',\n  'ડિવાઈસના',\n  'બેક',\n  'પેનલ',\n  'પર',\n  'કસ્ટમર્સને',\n  'પોતાનું',\n  'નામ',\n  'કોતરવાનો',\n  'વિકલ્પ',\n  'પણ',\n  'આપ્યો',\n  'છે',\n  '.'],\n ['દિગ્ગજ',\n  'સ્પિનર',\n  'હરભજન',\n  'સિંહ',\n  'સોશિયલ',\n  'મીડિયા',\n  'પર',\n  'પણ',\n  'ખૂબ',\n  'જ',\n  'એક્ટિવ',\n  'રહે',\n  'છે',\n  '.'],\n ['બિનજરૂરી', 'ડ્રાઈવીંગ', 'ટાળો'],\n ['તમિલનાડુ',\n  'સરકારે',\n  'આ',\n  'ઘટનાની',\n  'તપાસ',\n  'માટે',\n  'એક',\n  'આયોગની',\n  'રચના',\n  'પણ',\n  'કરી',\n  'દીધી',\n  'છે',\n  '.'],\n ['પોલીસ', 'એક', 'આરોપીને', 'પકડી', 'પાડ્યો', 'હતો', '.'],\n ['વાંચોઃ',\n  'PNB',\n  'કૌભાંડના',\n  'આરોપી',\n  'નીરવ',\n  'મોદીની',\n  'લંડનમાંથી',\n  'ધરપકડ'],\n ['ત્યારે',\n  'કરીના',\n  'કપૂર',\n  'ખાન',\n  ',',\n  'કરિશ્મા',\n  'કપૂર',\n  'ખાન',\n  ',',\n  'નીતુ',\n  'કપૂર',\n  ',',\n  'રિદ્ધિમા',\n  'કપૂર',\n  'સહાની',\n  'સહિતના',\n  'કપૂર',\n  'ખાનદાનના',\n  'સભ્યોએ',\n  'સોશિયલ',\n  'મીડિયા',\n  'પર',\n  'પોસ્ટ',\n  'મૂકીને',\n  'તેમને',\n  'યાદ',\n  'કર્યા',\n  'હતા',\n  '.'],\n ['તેમણે',\n  'ભુવનેશ્વરમાં',\n  'નવી',\n  'ઇએસઆઇસી',\n  'હોસ્પિટલનું',\n  'પણ',\n  'ઉદઘાટન',\n  'કર્યું',\n  'હતું',\n  '.'],\n ['IDBI',\n  'બેન્કે',\n  'સેબીને',\n  'આપી',\n  '772',\n  'કરોડ',\n  'રૂપિયા',\n  'કૌભાંડની',\n  'જાણકારી',\n  ',',\n  'શેર',\n  '3.5',\n  'ટકા',\n  'ગગડ્યા'],\n ['ઇરાને',\n  'ઇઝરાયેલને',\n  'આ',\n  'હત્યા',\n  'માટે',\n  'દોષી',\n  'ઠેરવ્યું',\n  'છે',\n  ',',\n  'જે',\n  'અગાઉના',\n  'ઇરાની',\n  'પરમાણુ',\n  'વૈજ્ઞાનિકોની',\n  'હત્યામાં',\n  'પણ',\n  'શંકાસ્પદ',\n  'છે',\n  '.'],\n ['જેમાં', 'ભાજપે', 'ર૮', 'બેઠકો', 'જીતી', '.'],\n ['આ',\n  'દક્ષિણ',\n  'ભારતીય',\n  'વાસ્તુકળાનું',\n  'સર્વશ્રેષ્ઠ',\n  'ઉદાહરણ',\n  'માનવામાં',\n  'આવે',\n  'છે',\n  '.'],\n ['સૂરજ',\n  'બડજાત્યાએ',\n  'ફિલ્મમાં',\n  'સલમાન',\n  'ખાન',\n  'ઉપરાંત',\n  'સોનમ',\n  'કપૂર',\n  ',',\n  'નીલ',\n  'નીતિન',\n  'મુકેશ',\n  ',',\n  'સ્વરા',\n  'ભાસ્કર',\n  ',',\n  'અનુપમ',\n  'ખેર',\n  ',',\n  'દીપક',\n  'ડોબરિયાલ',\n  'અને',\n  'સમીરા',\n  'રાવના',\n  'નામ',\n  'ફિલ્મમાં',\n  'ફાઇનલ',\n  'કરી',\n  'નાખ્યાં',\n  'છે',\n  '.'],\n ['ભવિષ્ય', 'અંગે', 'અનિશ્ચિતતા', 'છે', '.'],\n ['તે',\n  'આ',\n  'ફિલ્મમાં',\n  'સાવિત્રીબાઇ',\n  'માલુસરેની',\n  'ભૂમિકા',\n  'નિભાવી',\n  'રહી',\n  'છે',\n  '.'],\n ['આ', 'પણ', 'લોટ', 'અને', 'રાંધવાના', 'પાવડર', 'ઉમેર્યા', 'છે', '.'],\n ['આ',\n  'મામલે',\n  'ચીફ',\n  'જસ્ટિસ',\n  'રંજન',\n  'ગોગોઇ',\n  'અને',\n  'જસ્ટિર',\n  'એસકે',\n  'કૌલની',\n  'પીઠની',\n  'સામે',\n  'સૂચીબદ્ધ',\n  'કરવામાં',\n  'આવ્યા',\n  'છે',\n  '.'],\n ['ગૃહ',\n  'મંત્રાલય',\n  'ગૃહ',\n  'મંત્રાલયે',\n  'ઝૂમ',\n  'મીટિંગ',\n  'પ્લેટફોર્મનાં',\n  'સુરક્ષિત',\n  'ઉપયોગ',\n  'પર',\n  'સૂચના',\n  'જાહેર',\n  'કરી',\n  'આ',\n  'ડોક્યુમેન્ટ',\n  'ઇન્ડિયન',\n  'કમ્પ્યુટર',\n  'ઇમરજન્સી',\n  'રિસ્પોન્સ',\n  'ટીમ',\n  '(',\n  'સીઇઆરટી',\n  '-',\n  'ઇન',\n  ')',\n  'ના',\n  'અગાઉનાં',\n  'સૂચનો',\n  'વિશે',\n  'જાણકારી',\n  'આપે',\n  'છે',\n  ',',\n  'જેમાં',\n  'જણાવવામાં',\n  'આવ્યું',\n  'છે',\n  'કે',\n  ',',\n  'ઝૂમ',\n  'સુરક્ષિત',\n  'પ્લેટફોર્મ',\n  'નથી',\n  '.'],\n ['તેમણે',\n  'કહ્યું',\n  'હતું',\n  'કે',\n  'રાજ્યપાલ',\n  'કાર્યાલયનો',\n  'ઉપયોગ',\n  'ક્ષય',\n  'રોગ',\n  'પ્રત્યે',\n  'જનજાગૃતિ',\n  'ફેલાવવા',\n  'અને',\n  'ભારતની',\n  '2025',\n  'સુધીમાં',\n  'ક્ષય',\n  'રોગથી',\n  'મુક્ત',\n  'કરાવવા',\n  'જેવા',\n  'ચોક્કસ',\n  'હેતુઓ',\n  'માટે',\n  'પણ',\n  'કરી',\n  'શકાય',\n  'છે',\n  '.'],\n ['મે', 'મારી', 'એક', 'સારી', 'મિત્રને', 'ગુમાવી', 'છે', '.'],\n ['ઈન્દિરા',\n  'નૂયી',\n  'બન્યા',\n  'ICCના',\n  'પહેલા',\n  'સ્વતંત્ર',\n  'મહિલા',\n  'ડાઇરેક્ટર'],\n ['ફિલ્મ',\n  \"'\",\n  'મુબારકા',\n  \"'\",\n  'માં',\n  'પણ',\n  'અનિલ',\n  'કપૂર',\n  'અને',\n  'અર્જૂન',\n  'કપૂર',\n  'કાકા',\n  '-',\n  'ભત્રીજાના',\n  'કેરેક્ટરમાં',\n  'જ',\n  'જોવા',\n  'મળશે',\n  '.'],\n ['એ',\n  'પ્રસંગે',\n  'ફિલ્મના',\n  'કલાકારો',\n  'સ્ટેન્ડ',\n  '-',\n  'અપ',\n  'કોમેડિયન',\n  'કપિલ',\n  'શર્મા',\n  ',',\n  'મોનિકા',\n  'ગિલ',\n  'અને',\n  'ઈશિતા',\n  'દત્તાએ',\n  'હાજરી',\n  'આપી',\n  'હતી',\n  '.'],\n ['\"',\n  'સુધારણા',\n  'પામેલી',\n  'ડિસ્કવરી',\n  'ચેનલની',\n  'નવી',\n  'ટેગલાઇન',\n  '\"',\n  '\"',\n  '\"',\n  '\"',\n  'લેટ્સ',\n  'ઓલ',\n  'ડિસ્કવર',\n  '.',\n  '.',\n  '.',\n  '\"',\n  '\"',\n  '\"',\n  '\"',\n  'સાથે',\n  'તે',\n  'કાર્યક્રમ',\n  'સાથે',\n  'સંબંધિત',\n  'શબ્દ',\n  'સમૂહ',\n  'અથવા',\n  'વાક્ય',\n  'પૂરી',\n  'થતી',\n  'હતી',\n  '.',\n  '\"'],\n ['બેન્ટલી', 'કોન્ટિનેન્ટલ', 'GT'],\n ['મહેશ', 'ભટ્ટે', 'કર્યો', 'ખુલાસોઃ'],\n ['પરંતુ',\n  'શિવસેના',\n  'અને',\n  'ભાજપ',\n  'વચ્ચે',\n  'હજુ',\n  'સુધી',\n  'સીટોની',\n  'વહેંચણી',\n  'પર',\n  'કોઈ',\n  'નિર્ણય',\n  'કરાયો',\n  'નથી',\n  '.'],\n ['હાઈકોર્ટે', 'નકારી', 'અરજી'],\n ['ભારતમાં',\n  'રાજ્યની',\n  'રાજનીતિમાં',\n  'રાજ્યપાલની',\n  'ભૂમિકાની',\n  'આલોચનાત્મક',\n  'પરીક્ષણ',\n  'કરો',\n  ',',\n  'વિશેષ',\n  'રીતે',\n  'બિહારના',\n  'સંદર્ભમાં',\n  '.'],\n ['ગલવાન',\n  'વેલીના',\n  'શહીદોને',\n  'આખું',\n  'રાષ્ટ્ર',\n  'શ્રદ્ધાંજલિ',\n  'અર્પે',\n  'છે',\n  '.'],\n ['આમાંથી',\n  ',',\n  'ઇન્ડિગોનાં',\n  'આઠ',\n  'વિમાન',\n  'હતાં',\n  ',',\n  'જ્યારે',\n  'બાકીનાં',\n  'વિમાન',\n  'ગોએરનાં',\n  'હતાં',\n  '.'],\n ['અનિલ',\n  'અંબાણીના',\n  'પ્રવક્તાએ',\n  'આ',\n  'આરોપોને',\n  'ખારીજ',\n  'કર્યા',\n  'છે',\n  '.'],\n ['સરનામાનો', 'પુરાવો'],\n ['ફુડ',\n  'કોર્પોરેશન',\n  'ઓફ',\n  'ઇન્ડિયા',\n  '(',\n  'FCI',\n  ')',\n  'એ',\n  'કસોટીના',\n  'માહોલ',\n  'વચ્ચે',\n  'દેશવ્યાપી',\n  'લૉકડાઉન',\n  'દરમિયાન',\n  'દુનિયામાં',\n  'સૌથી',\n  'મોટા',\n  'જાહેર',\n  'વિતરણ',\n  'તંત્ર',\n  'માટે',\n  'સૌથી',\n  'મોટી',\n  'ખાદ્યાન્ન',\n  'પૂરવઠા',\n  'સાંકળ',\n  'ચલાવવાનો',\n  'પડકાર',\n  'ઝીલ્યો',\n  'છે',\n  '.'],\n ['બાળકોને', 'એમનાથી', 'દૂર', 'રાખવા', '.'],\n ['બોલીવુડ', 'અને', 'ક્રિકેટનો', 'ઘણો', 'જ', 'જુનો', '.'],\n ['બાજરાનો', 'લોટ', '-', '100', 'ગ્રામ'],\n ['પ્રધાનમંત્રી',\n  'ભારતીય',\n  'જન',\n  'ઔષધિ',\n  '(',\n  'PMBJP',\n  ')',\n  'પરિયોજનાના',\n  \"'\",\n  'સ્વસ્થ',\n  'કે',\n  'સિપાહી',\n  \"'\",\n  'આવશ્યક',\n  'સેવાઓ',\n  'અને',\n  'દવાઓ',\n  'દર્દીઓ',\n  'તથા',\n  'વૃદ્ધોને',\n  'ઘર',\n  'આંગણે',\n  'પૂરી',\n  'પાડી',\n  'રહ્યા',\n  'છે'],\n ['Home',\n  'એન્ટરટેમેન્ટ',\n  'સસુરાલ',\n  'સિમર',\n  'કા',\n  'ફેમ',\n  'ચાઈલ્ડ',\n  'આર્ટિસ્ટ',\n  'શિવલેખ',\n  'સિંહનું',\n  'કાર',\n  'એક્સિડન્ટમાં',\n  'મોત'],\n ['\"',\n  'ભારત',\n  'સ્પષ્ટપણે',\n  'ખુબજ',\n  'ઝડપથી',\n  'ડિજિટલ',\n  'ટ્રાન્સફોર્મેશનની',\n  'દિશામાં',\n  'આગળ',\n  'વધી',\n  'રહ્યું',\n  'છે',\n  '.'],\n ['રાજનીતીની',\n  'ABCની',\n  'ખબર',\n  'નહી',\n  'પરંતુ',\n  'દેશભક્તિ',\n  'અમારા',\n  'લોહીમાં',\n  'છેઃ',\n  'ધર્મેન્દ્ર'],\n ['તેના',\n  'પર',\n  'ગ્રેફિટી',\n  'સાથે',\n  'જૂની',\n  'ત્યજી',\n  'દેવાયેલી',\n  'ટ્રેન',\n  'કાર'],\n ['%', 's', ':', 'પુનઃશરૂ', 'કરવામાં', 'નિષ્ફળઃ', '%', 's'],\n ['રાહુલ', 'ગાંધીએ', 'ફરી', 'મોદી', 'સરકાર', 'પર', 'કર્યા', 'પ્રહાર'],\n ['શ્રી',\n  'રાજનાથ',\n  'સિંહે',\n  'કહ્યું',\n  'કે',\n  'અજાણતા',\n  'પણ',\n  'જો',\n  'કોઈ',\n  'ઘટના',\n  'ઘટી',\n  'હોય',\n  'તો',\n  'બંને',\n  'પક્ષોના',\n  'પ્રતિનિધિઓ',\n  'દ્વારા',\n  'સંયુક્ત',\n  'પરિક્ષણ',\n  'અને',\n  'તપાસ',\n  'દ્વારા',\n  'પરિસ્થિતિનું',\n  'નિરાકરણ',\n  'લાવવું',\n  'જોઈએ',\n  '.'],\n ['નવ્યા',\n  'અમિતાભ',\n  'બચ્ચનની',\n  'દોહિત્રી',\n  '(',\n  'શ્વેતા',\n  'નંદાની',\n  'દીકરી',\n  ')',\n  'છે',\n  '.'],\n ['આ', 'બાદ', 'તે', 'મુંબઈ', 'આવી', 'ગઈ', '.'],\n ['આપનો', 'આભાર', 'અને', 'વેલકમ', 'ટૂ', 'ફેસબુક'],\n ['તમને', 'મોટો', 'ફાયદો', 'થશે', '.'],\n ['પરંતુ',\n  'તેમાં',\n  'મારુતિ',\n  'સુઝુકીનું',\n  '7',\n  'ઈંચ',\n  'સ્માર્ટપ્લે',\n  'સ્ટુડિયો',\n  'ટચસ્ક્રીન',\n  'ઈન્ફોટેનમેન્ટ',\n  'સિસ્ટમ',\n  'આપવામાં',\n  'આવી',\n  'શકે',\n  'છે',\n  '.'],\n ['ભગવાન',\n  'તેમના',\n  'આત્માને',\n  'શાંતિ',\n  'આપે',\n  'અને',\n  'પરિવારજનોને',\n  'દુઃખ',\n  'સહન',\n  'કરવાની',\n  'સકિત',\n  'આપે',\n  'એ',\n  'જ',\n  'પ્રાર્થના',\n  'સાથે',\n  'શ્રધ્ધાંજલી',\n  'અર્પુ',\n  'છું',\n  '.'],\n ['હરમનપ્રીત',\n  'કૌર',\n  ',',\n  'કેપ્ટન',\n  '(',\n  'ભારત',\n  ')',\n  ',',\n  'મંધાના',\n  '(',\n  'ભારત',\n  ')',\n  ',',\n  'એલિસા',\n  'હિલી',\n  '(',\n  'ઓસ્ટ્રેલિયા',\n  ')',\n  ',',\n  'સૂઝી',\n  'બેટ્સ',\n  '(',\n  'ન્યૂઝીલેન્ડ',\n  ')',\n  ',',\n  'નતાલી',\n  'સ્કીવર',\n  '(',\n  'ઇંગ્લેન્ડ',\n  ')',\n  ',',\n  'એલિસા',\n  'પેરી',\n  '(',\n  'ઓસ્ટ્રેલિયા',\n  ')',\n  ',',\n  'લેગ',\n  'કાસ્પેરેક',\n  '(',\n  'ન્યૂઝીલેન્ડ',\n  ')',\n  ',',\n  'મેગન',\n  'શટ',\n  '(',\n  'ઓસ્ટ્રેલિયા',\n  ')',\n  ',',\n  'રૂમાના',\n  'એહમદ',\n  '(',\n  'બાંગ્લાદેશ',\n  ')',\n  ',',\n  'પૂનમ',\n  'યાદવ',\n  '(',\n  'ભારત',\n  ')',\n  '.'],\n ['તમામ', 'છવાયા', 'હતા', '.'],\n ['કોરોના', 'કહેર', 'દિવસેને', 'દિવસે', 'વધતો', 'જાય', 'છે', '.'],\n ['આવું', 'અત્યારસુધી', 'નથી', 'થઇ', 'શક્યું', '.'],\n ['ચાર', 'વિકેટે', 'રાજસ્થાને', 'જીત', 'મેળવી', 'લીધી', 'હતી', '.'],\n ['જે',\n  'અંગે',\n  'બેઠકમાં',\n  'પણ',\n  'પીએમ',\n  'મોદીએ',\n  'સંબોધન',\n  'કર્યું',\n  'હતું',\n  '.'],\n ['એક',\n  'ભાગ',\n  'ખંડેરાવ',\n  'ગાયકવાડ',\n  '(',\n  'દ્વીતીય',\n  ')',\n  'દ્વારા',\n  'અને',\n  'બીજો',\n  'ભાગ',\n  'મહારાજા',\n  'સયાજીરાવ',\n  'ગાયકવાડ',\n  '(',\n  'તૃતીય',\n  ')',\n  'દ્વારા',\n  'બંધાવવામાં',\n  'આવ્યો',\n  'હતો',\n  '.'],\n ['સાઉથ',\n  'આફ્રિકાએ',\n  'ટોસ',\n  'જીતીને',\n  'પ્રથમ',\n  'બોલિંગ',\n  'કરવાનો',\n  'નિર્ણય',\n  'લીધો',\n  'છે',\n  '.'],\n ['પૅટ', 'કમિન્સ', '15.50', 'કરોડ'],\n ['આ',\n  'વિમાન',\n  'ઈન્ડોનેશિયાના',\n  'સુરાબયા',\n  'શહેરથી',\n  'સિંગાપુર',\n  'જઈ',\n  'રહ્યું',\n  'હતું',\n  '.'],\n ['આ',\n  'ફિલ્મમાં',\n  'અક્ષય',\n  'કુમાર',\n  'મુખ્ય',\n  'રોલમાં',\n  'નજરે',\n  'પડનાર',\n  'છે',\n  '.'],\n ['આ',\n  'સમગ્ર',\n  'ઘટના',\n  'કેમેરામાં',\n  'કેદ',\n  'થઈ',\n  'છે',\n  'અને',\n  'હાલમાં',\n  'આ',\n  'વીડિયો',\n  'ભારે',\n  'વાયરલ',\n  'થઈ',\n  'રહ્યો',\n  'છે',\n  '.'],\n ['જ્યારે', 'ભાજપને', '73', 'બેઠકો', 'પર', 'જીત', 'મળી', 'છે', '.'],\n ['સુન્ની',\n  'આતંકવાદી',\n  'જૂથ',\n  'જૈશ',\n  '-',\n  'ઉલ',\n  '-',\n  'ઇસ્લામે',\n  'આ',\n  'જીવલેણ',\n  'હુમલાની',\n  'જવાબદારી',\n  'સ્વીકારી',\n  'હતી',\n  '.'],\n ['વિનોદ',\n  'કે',\n  'પૉલ',\n  'અને',\n  'ચીફ',\n  'ઓફ',\n  'ડિફેન્સ',\n  'સ્ટાફ',\n  'શ્રી',\n  'બિપીન',\n  'રાવત',\n  'ઉપસ્થિત',\n  'હતા'],\n ['હાલમાં',\n  'સોશિયલ',\n  'મીડિયામાં',\n  'નિક',\n  'અને',\n  'પ્રિયંકાની',\n  'તસવીરો',\n  'વાયરલ',\n  'થઈ',\n  'રહી',\n  'છે',\n  '.'],\n ['પશ્ચિમ',\n  'બંગાળમા',\n  'એનઆરસી',\n  'મુદ્દે',\n  'રાજકારણ',\n  'ચરમ',\n  'પર',\n  ',',\n  'મમતા',\n  'બેનર્જીનો',\n  'અમલ',\n  'કરવાથી',\n  'ઇનકાર'],\n ['મુખ્ય', 'ફુગાવો', 'દર', 'માટે', 'લક્ષ્ય', '2', 'ટકા', 'છે', '.'],\n ['આગામી', 'ચૂંટણી', 'અમે', 'સાથે', 'મળીને', 'લડીશું', '.'],\n ['આ',\n  'ફિલ્મમાં',\n  'તેની',\n  'સાથે',\n  'કાર્તિક',\n  'આર્યને',\n  'કામ',\n  'કર્યું',\n  'હતું',\n  '.'],\n ['૧૭',\n  ',',\n  '૧૮',\n  '.',\n  '(',\n  'ક',\n  ')',\n  'અમુક',\n  'વખતે',\n  'પ્રેરિતોને',\n  'કેમ',\n  'નમ્રતા',\n  'વિષેનું',\n  'ઈસુનું',\n  'શિક્ષણ',\n  'સ્વીકારવું',\n  'અઘરું',\n  'લાગ્યું',\n  '?'],\n ['આ',\n  'સંતુલન',\n  'એક',\n  'મજબૂત',\n  'અને',\n  'સમાવેશી',\n  'ભારતના',\n  'નિર્માણમાં',\n  'યોગદાન',\n  'આપશે'],\n ['ભારત',\n  '-',\n  'ચીન',\n  'વિવાદઃ',\n  'બન્ને',\n  'દેશોના',\n  'રાજનાયીકો',\n  'વચ્ચે',\n  'ટુંક',\n  'સમયમાં',\n  'થશે',\n  'વાાતચીત'],\n ['નોર્થપોલ', '.', 'કોમ'],\n ['[', 'પાન', '૨૩', 'પર', 'ચિત્ર', ']'],\n ['ભૂગર્ભનો',\n  'અસ્પષ્ટ',\n  'ઉલ્લેખ',\n  'છે',\n  'જેમાંથી',\n  'એક',\n  'વણશોધાયેલો',\n  'માર્ગ',\n  'ટાર્ટારસની',\n  'સજા',\n  'સુધી',\n  'જાય',\n  'છે',\n  'જ્યારે',\n  'બીજા',\n  'માર્ગ',\n  'ઇરેબસ',\n  'અને',\n  'એલિસિયન',\n  'ફિલ્ડમાંથી',\n  'પસાર',\n  'થાય',\n  'છે',\n  '.'],\n ['વાવમાં',\n  'જે',\n  'કોતરણી',\n  'છે',\n  'તેમાં',\n  'મોટા',\n  'ભાગે',\n  'ભગવાન',\n  'વિષ્ણુના',\n  '10',\n  'અવતારો',\n  'દર્શાવવામાં',\n  'આવ્યા',\n  'છે',\n  '.'],\n ['હેથ', 'પોઈન્ટ'],\n ['શાહડોલ', 'જિલ્લાનું', 'મુખ્યાલય', 'શાહડોલમાં', 'છે', '.'],\n ['દીપિકા', 'અહીં', 'શો', 'સ્ટોપર', 'બની', 'હતી', '.'],\n ['તેની', 'પુત્રી', 'સ્ટોર્મી', 'સાથે', 'કાઈલી', 'જેનર'],\n ['વડાપ્રધાન', 'મોદી', 'ટીમ', 'સાથે'],\n ['કપરાડાએ',\n  'કપરાડા',\n  'પોલીસ',\n  'મથકે',\n  'ફરિયાદ',\n  'નોંધાવતા',\n  'પોલીસે',\n  'ગુનો',\n  'નોંધીને',\n  'તપાસ',\n  'હાથ',\n  'ધરી',\n  'હતી',\n  '.'],\n ['ફિલ્મની',\n  'સ્ટારકાસ્ટમાં',\n  'અક્ષય',\n  'કુમાર',\n  ',',\n  'કરીના',\n  'કપૂર',\n  ',',\n  'દિલજિત',\n  'દોસાંજ',\n  'અને',\n  'કિઆરા',\n  'અડવાણી',\n  'છે',\n  '.'],\n ['બધા', 'સેમસન', '?'],\n ['આ',\n  'અગાઉ',\n  'ઇન્ટર',\n  'ગવર્મેન્ટલ',\n  'કન્સલ્ટેશન',\n  'મીટ',\n  'દરમિયાન',\n  'પ્રધાનમંત્રી',\n  'નરેન્દ્ર',\n  'મોદીએ',\n  'નિયમ',\n  'આધારિત',\n  'વિશ્વ',\n  'વ્યવસ્થાનું',\n  'નિર્માણ',\n  'કરવામાં',\n  'અને',\n  'તેને',\n  'પોષવામાં',\n  'યુરોપિયન',\n  'સંઘના',\n  'દેશોએ',\n  'મોટી',\n  'ભૂમિકા',\n  'ભજવી',\n  'હોવાનું',\n  'જણાવ્યું',\n  'હતું',\n  '.'],\n ['સોશ્યલ',\n  'મીડિયા',\n  'પર',\n  'ટ્વીટ',\n  'કરીને',\n  'આ',\n  'અંગેની',\n  'જાણકારી',\n  'આપી',\n  'છે',\n  '.'],\n ['જ્હાન્વી',\n  'કપૂરની',\n  'ડેબ્યૂ',\n  'ફિલ્મ',\n  \"'\",\n  'ધડક',\n  \"'\",\n  'નું',\n  'શૂટિંગ',\n  'પૂરું',\n  'થઈ',\n  'ગયું',\n  'છે',\n  '.'],\n ['તેમની', 'કામગીરીને', 'બિરદાવાય', 'છે', '.'],\n ['વેન્ટિલેટર્સ', 'બનાવશે', 'મહિન્દ્રા', 'ગ્રુપ'],\n ['તો',\n  'બિહારની',\n  '40',\n  'લોકસભા',\n  'સીટોમાંથી',\n  '39',\n  'પર',\n  'એનડીએને',\n  'સરસાઈ',\n  'મળી',\n  'રહી',\n  'છે',\n  '.'],\n ['તેથી', 'તે', 'સફદરઝંગ', 'હોસ્પિટલ', 'પહોંચી', 'હતી', '.'],\n ['બૌદ્ધિક',\n  'સંપત્તિના',\n  'ક્ષેત્રે',\n  'શ્રેષ્ઠ',\n  'પદ્ધતિઓ',\n  ',',\n  'અનુભવો',\n  'અને',\n  'જ્ઞાનનું',\n  'આદાન',\n  '-',\n  'પ્રદાન',\n  'અને',\n  'ઉદ્યોગ',\n  ',',\n  'વિશ્વવિદ્યાલયો',\n  ',',\n  'સંશોધન',\n  'અને',\n  'વિકાસ',\n  'સંસ્થાઓ',\n  'તેમજ',\n  'નાના',\n  'અને',\n  'મધ્યમ',\n  'એકમોમાં',\n  'તેનો',\n  'પ્રસાર'],\n ['અહી', 'દરેક', 'લોકો', 'પરેશાન', 'છે', '.'],\n ['સંપૂર્ણ', 'ગુજરાત', 'ભાજપ', 'સાથે', 'અડીખમ', 'છે', '.'],\n ['પ્રધાનમંત્રીએ',\n  'સમગ્ર',\n  '1',\n  'જુદા',\n  'જુદા',\n  'ક્ષેત્રોની',\n  'અંદર',\n  '4',\n  'સરકારી',\n  'કાર્યક્રમો',\n  'અને',\n  'યોજનાઓને',\n  'લગતી',\n  'ફરિયાદ',\n  'નિવારણની',\n  'પણ',\n  'સમીક્ષા',\n  'કરી',\n  'હતી',\n  '.'],\n ['મેટ્રો',\n  'ટ્રેન',\n  'પ્રોજેક્ટ',\n  'નરેન્દ્ર',\n  'મોદીનો',\n  'મહત્ત્વાકાંક્ષી',\n  'અને',\n  'ડ્રીમ',\n  'પ્રોજેક્ટ',\n  'છે',\n  '.'],\n ['જેમાં',\n  'વડાપ્રધાન',\n  'નરેન્દ્ર',\n  'મોદી',\n  'ઉપરાંત',\n  'ગૃહમંત્રી',\n  'અમિત',\n  'શાહ',\n  ',',\n  'સંરક્ષણ',\n  'મંત્રી',\n  'રાજનાથ',\n  'સિંહ',\n  ',',\n  'નાણાંમંત્રી',\n  'નિર્મલા',\n  'સીતારમણ',\n  ',',\n  'વિદેશ',\n  'મંત્રી',\n  'એસ',\n  'જયશંકરનો',\n  'સમાવેશ',\n  'થાય',\n  'છે',\n  '.'],\n ['ભારતીય',\n  'રેલવે',\n  'સમગ્ર',\n  'દેશમાં',\n  'રેલવે',\n  'સાથે',\n  'જોડાયેલા',\n  'તમામ',\n  'જિલ્લાઓમાંથી',\n  'શ્રમિક',\n  'વિશેષ',\n  'ટ્રેનોનું',\n  'પરિચાલન',\n  'કરવા',\n  'માટે',\n  'તૈયાર',\n  'છે',\n  '.'],\n ['સેમસંગ', 'ઇલેક્ટ્રોનિક્સ', 'કો', '.'],\n ['કોંગ્રેસ', 'રેલી'],\n ['સણાથા',\n  'ગામના',\n  'લોકોનો',\n  'મુખ્ય',\n  'વ્યવસાય',\n  'ખેતી',\n  ',',\n  'ખેતમજૂરી',\n  'તેમ',\n  'જ',\n  'પશુપાલન',\n  'છે',\n  '.'],\n ['પાવર', 'લાઈન', 'વાયર', 'ઉપર', 'આકાશમાં', 'ઉડ્ડયન', 'પ્લેન', '.'],\n ['વડા', 'પ્રધાન', 'મોદીએ', 'તેનું', 'નેતૃત્વ', 'કર્યું', 'હતું', '.'],\n ['અગાઉ', 'આ', 'ખરડો', 'લોકસભામાં', 'પસાર', 'થઇ', 'ચૂક્યો', 'હતો', '.'],\n ['>',\n  'હિમાચલ',\n  'પ્રદેશના',\n  'કુલ્લૂમાં',\n  'મોટી',\n  'દૂર્ઘટના',\n  ',',\n  'ખીણમાં',\n  'બસ',\n  'પડતા',\n  '44ના',\n  'મોત'],\n ['તેણે',\n  'યુનિવર્સિટી',\n  'ઓફ',\n  'ગુવાનાજુ',\n  'આટોમાંથી',\n  'ઈન્ટરનેશનલ',\n  'કોમર્સમાં',\n  'ડિગ્રી',\n  'મેળવી',\n  'છે',\n  '.'],\n ['પ્રધાનમંત્રીએ',\n  'લોકસભાને',\n  'એવું',\n  'પણ',\n  'જણાવ્યું',\n  'હતું',\n  'કે',\n  ',',\n  '1.20',\n  'કરોડથી',\n  'વધારે',\n  'લોકોની',\n  'નોંધણી',\n  'નેશનલ',\n  'પેન્શન',\n  'સિસ્ટમ',\n  'કે',\n  'એનપીએસ',\n  'હેઠળ',\n  'થઈ',\n  'છે',\n  '.'],\n ['F', '-', 'Spot', 'માંથી', 'તકતી', 'પૂર્વદર્શનને', 'દર્શાવો'],\n ['સંજય',\n  'લીલા',\n  'ભણસાલીની',\n  'ફિલ્મ',\n  'પદ્માવતી',\n  'અત્યાર',\n  'સુધી',\n  'અનેક',\n  'વાર',\n  'વિવાદોને',\n  'ભોગ',\n  'બની',\n  'છે',\n  '.'],\n ['નમ્રતાના',\n  'ગુણે',\n  'કઈ',\n  'રીતે',\n  'નાબોથના',\n  'કુટુંબીજનો',\n  'અને',\n  'મિત્રોનું',\n  'રક્ષણ',\n  'કર્યું',\n  'હશે',\n  '?'],\n ['કોઝીકોડ',\n  'ખાતે',\n  'યોજાયેલ',\n  'ગ્લોબલ',\n  'આયુર્વેદ',\n  'ફેસ્ટિવલમાં',\n  'વિઝન',\n  'કોન્ક્લેવ',\n  'સમયે',\n  'પ્રધાનમંત્રીના',\n  'વક્તવ્યનો',\n  'મૂળ',\n  'પાઠ'],\n ['આ',\n  'મામલે',\n  'બાળકીની',\n  'માતાએ',\n  'શાહપુર',\n  'પોલીસ',\n  'સ્ટેશનમાં',\n  'ફરિયાદ',\n  'નોંધાવી',\n  'હતી',\n  '.'],\n ['એક',\n  'બાઇક',\n  'રેસર',\n  'એ',\n  'રેશિંગમાં',\n  'એક',\n  'શોર્ફ',\n  'ટર્નિંગ',\n  'કરી',\n  'રહ્યું',\n  'છે',\n  '.'],\n ['\"',\n  '11',\n  'એપ્રિલ',\n  '1964ના',\n  'રોજ',\n  ',',\n  'સીપીઆઇ',\n  'નેશનલ',\n  'કાઉન્સીલની',\n  'યોજાયેલી',\n  'બેઠકમાં',\n  '32',\n  'કાઉન્સીલના',\n  'સભ્યોએ',\n  'વિરોધમાં',\n  'બેઠકનો',\n  'ત્યાગ',\n  'કર્યો',\n  'હતો',\n  'અને',\n  'ડાંગે',\n  'અને',\n  'તેમના',\n  'અનુયાયીઓને',\n  '\"',\n  '\"',\n  'એકતા',\n  'વિરોધી',\n  'અને',\n  'વિરોધી',\n  'કોમ્યુનિસ્ટ',\n  'નીતિ',\n  '\"',\n  '\"',\n  'બદલ',\n  'આરોપી',\n  'ઠરાવ્યા',\n  'હતા',\n  '.',\n  '\"'],\n ['આ', 'કમિટીએ', 'અહેવાલ', 'કુલનાયકને', 'સુપરત', 'કરી', 'દીધો', 'છે', '.'],\n ['ચોંટાડો', 'બદલો'],\n ['હિમાચલ',\n  'પ્રદેશઃ',\n  'વિદ્યાર્થીઓને',\n  'ઘરે',\n  'જ',\n  'રહીને',\n  'અભ્યાસ',\n  'કરવા',\n  'માટે',\n  'રાજ્ય',\n  'સરકાર',\n  'દ્વારા',\n  \"'\",\n  'હર',\n  'ઘર',\n  'પાઠશાલા',\n  \"'\",\n  'કાર્યક્રમ',\n  'શરૂ',\n  'કરવામાં',\n  'આવ્યો',\n  'જેથી',\n  'રાજ્યમાં',\n  'કોરોના',\n  'મહામારીના',\n  'કારણે',\n  'લાગુ',\n  'કરવામાં',\n  'આવેલા',\n  'કર્ફ્યૂ',\n  'દરમિયાન',\n  'તેમના',\n  'અભ્યાસમાં',\n  'કોઇ',\n  'વિક્ષેપ',\n  'પડે',\n  'નહીં',\n  '.'],\n ['આ',\n  'શહેરોમાં',\n  'મુંબઇ',\n  ',',\n  'દિલ્હી',\n  ',',\n  'ચેન્નાઇ',\n  ',',\n  'કોલકત્તા',\n  ',',\n  'બેંગલોર',\n  'અને',\n  'હૈદરાબાદનો',\n  'સમાવેશ',\n  'થાય',\n  'છે',\n  '.'],\n ['સૈફ', 'અલી', 'ખાનની', 'આ', 'ટેવથી', 'પરેશાન', 'છે', 'કરીના', 'કપૂર'],\n ['ભારતીય', 'મહેસૂલ', 'સેવા'],\n ['ત્યારથી',\n  'વેસ્ટઈન્ડિઝની',\n  'ભારતમાં',\n  'આ',\n  'ત્રીજી',\n  'વનડે',\n  'સીરીઝ',\n  'છે',\n  '.'],\n ['આ', 'સંદેશ', 'શું', 'કરે', 'છે', '?'],\n ['આ', 'પ્રશ્ન', 'માત્ર', 'ભારતીય', 'સમુદાયને', 'જ', 'સતાવતો', 'નથી', '.'],\n ['સાથે', 'સાથે', 'પંકજ', 'ત્રિપાઠીની', 'પણ', 'ફિલ્મમાં', 'ભૂમિકા', 'છે', '.'],\n ['જી20ના',\n  '1',\n  'સભ્યો',\n  'દેશોમાં',\n  'આર્જેન્ટિના',\n  ',',\n  'ઓસ્ટ્રેલિયા',\n  ',',\n  'બ્રાઝિલ',\n  ',',\n  'કેનેડા',\n  ',',\n  'ચીન',\n  ',',\n  'જર્મની',\n  ',',\n  'ફ્રાંસ',\n  ',',\n  'ઇન્ડોનેશિયા',\n  ',',\n  'ઇટાલી',\n  ',',\n  'જાપાન',\n  ',',\n  'મેક્સિકો',\n  ',',\n  'રશિયન',\n  'સંઘ',\n  ',',\n  'સાઉદી',\n  'અરબ',\n  ',',\n  'દક્ષિણ',\n  'આફ્રિકા',\n  ',',\n  'દક્ષિણ',\n  'કોરિયા',\n  ',',\n  'તુર્કી',\n  ',',\n  'યુકે',\n  ',',\n  'અમેરિકા',\n  'અને',\n  'ભારત',\n  'સામેલ',\n  'છે',\n  '.'],\n ['ફિલ્મના', 'સંવાદો', 'દિગ્દર્શક', 'નિરજ', 'પાંડેએ', 'લખ્યા', 'છે', '.'],\n ['અને',\n  'સમગ્ર',\n  'મામલાની',\n  'તપાસ',\n  'માટે',\n  'SITની',\n  'રચના',\n  'કરી',\n  'દેવામાં',\n  'આવી',\n  'છે',\n  '.'],\n ['એની', 'આંખો', 'પણ', 'ભરાઈ', 'આવી', '.'],\n ['સાધ્વી',\n  'પ્રજ્ઞા',\n  'સિંહ',\n  'ઠાકુર',\n  'મહારાષ્ટ્રના',\n  'માલેગાંવ',\n  'વિસ્ફોટના',\n  'આરોપી',\n  'છે',\n  '.'],\n ['સાઉદી', 'અરેબિયામાં', 'વધુ', 'અમેરિકન', 'સૈનિકોની', 'તૈનાત'],\n ['નવી',\n  'દિલ્હીઃબુકિંગ',\n  'કાઉન્ટર',\n  'પર',\n  'ભીડ',\n  'ઓછી',\n  'કરવાના',\n  'પ્રયાસના',\n  'ભાગરૂપે',\n  'રેલવે',\n  'વિભાગે',\n  'પેટીએમ',\n  ',',\n  'જિયોમની',\n  'અને',\n  'એરટેલ',\n  'મની',\n  'જેવા',\n  'ઇ',\n  '-',\n  'વોલેટ',\n  'પરથી',\n  'રેલવેની',\n  'અનરિઝર્વ્ડ',\n  'ટિકિટનું',\n  'બુકિંગ',\n  'શરૂ',\n  'કરવા',\n  'અંગે',\n  'વિચારણા',\n  'હાથ',\n  'ધરી',\n  'છે',\n  '.'],\n ['હેમા',\n  '-',\n  'ધર્મેન્દ્રને',\n  'બે',\n  'દીકરીઓ',\n  'એશા',\n  'દેઓલ',\n  'તથા',\n  'આહના',\n  'દેઓલ',\n  'છે',\n  '.'],\n ['એનીમેટેડ', 'ફીચર', 'ફિલ્મઃ', 'કોકો'],\n ['પગલું', 'નંબર', 'એક', 'છે', '.'],\n ['શું', 'બુલેટ', 'ટ્રેન', 'ભારતની', 'જરૂરિયાત', 'છે', '?'],\n ['હેમંત', 'કરકરેનું', 'મોત', 'મારા', 'શ્રાપથી', 'થયુંઃ', 'સાધ્વી', 'પ્રજ્ઞા'],\n ['વડાપ્રધાન',\n  'નરેન્દ્ર',\n  'મોદી',\n  ',',\n  'કોંગ્રેસના',\n  'નેતા',\n  'રાહુલ',\n  'ગાંધી',\n  'સહિત',\n  'અનેક',\n  'મોટી',\n  'હસ્તીઓએ',\n  'સુજીતની',\n  'સલામતી',\n  'માટે',\n  'દુઆઓ',\n  'કરી',\n  'હતી',\n  '.'],\n ['આ', 'ફિલ્મના', 'પ્રોડયૂસર', 'કરણ', 'જોહર', 'છે', '.'],\n ['દિલ્હી',\n  'વિધાનસભા',\n  'ચૂંટણીઃ',\n  'ભાજપે',\n  '57',\n  'ઉમેદવારોની',\n  'પ્રથમ',\n  'યાદી',\n  'કરી',\n  'જાહેર'],\n ['રણવીર',\n  'સિંહ',\n  'અને',\n  'દીપિકા',\n  'પાદુકોણને',\n  'લગ્ન',\n  'બાદ',\n  'ફેન્સ',\n  'અને',\n  'સેલેબ્રિટી',\n  'શુભકામનાઓ',\n  'આપી',\n  'રહ્યા',\n  'છે',\n  '.'],\n ['જોકે', ',', 'તેઓ', 'એકલાં', 'ન', 'થવો', 'જોઈએ', '.'],\n ['તેના',\n  'પિતાનું',\n  'નામ',\n  'જીવણભાઇ',\n  'ખીમજીભાઇ',\n  'રાઠોડ',\n  'અને',\n  'માતાનું',\n  'નામ',\n  'પુરીબેન',\n  'છે',\n  '.'],\n ['મહાત્મા', 'ગાંધીના', 'પ્રપૌત્રનું', 'નિધન'],\n ['PM', 'મોદી', 'અને', 'ઈમરાન', 'ખાન', 'વચ્ચે', 'મુલાકાત', 'થવાની', 'છે', '?'],\n ['ધારુથા',\n  'ભારત',\n  'દેશના',\n  'પશ્ચિમ',\n  'ભાગમાં',\n  'આવેલા',\n  'ગુજરાત',\n  'રાજ્યના',\n  'સુરત',\n  'જિલ્લામાં',\n  'આવેલા',\n  'કામરેજ',\n  'તાલુકામાં',\n  'આવેલું',\n  'ગામ',\n  'છે',\n  '.'],\n ['બંને', 'રાજ્યોમાં', 'એક', 'જ', 'તબક્કામાં', 'મતદાન', 'યોજનાર', 'છે', '.'],\n ['સુરભિ', 'અગ્રવાલ', 'નવી', 'દિલ્હી'],\n ['યૂનિયન', 'બેંક'],\n ['કુમારપાળ',\n  'દ્વારા',\n  'બાંધવામાં',\n  'આવેલું',\n  'તારંગાનું',\n  'વિશાળ',\n  'અજિતનાથ',\n  'મંદિર',\n  'હજુ',\n  'પણ',\n  'ટકી',\n  'રહેલું',\n  'છે',\n  ',',\n  'જ્યારે',\n  'તેમના',\n  'મોટાભાગના',\n  'મંદિરો',\n  'હવે',\n  'અસ્તિત્વમાં',\n  'નથી',\n  '.'],\n ['આ',\n  'સમજૂતીકરાર',\n  'હેઠળ',\n  'દ્વિપક્ષીય',\n  'સહકારનાં',\n  'ક્ષેત્રોમાં',\n  'સામેલ',\n  'છેઃ'],\n ['જેમાં', 'આખું', 'ગામ', 'જોડાયું', 'હતું', '.'],\n ['જેમાં',\n  'સીઆરપીએફનો',\n  'એક',\n  'જવાન',\n  'શહીદ',\n  'થઈ',\n  'ગયો',\n  'અને',\n  'એક',\n  'નાગરિકનુ',\n  'મોત',\n  'થઈ',\n  'ગયુ',\n  '.'],\n ['રમતો', 'અને', 'સંગીત', 'ઉત્સવોમાંનો', '.'],\n ['રોહિત',\n  'શર્માએ',\n  '153',\n  'બોલમાં',\n  '208',\n  'ફટકારી',\n  'નોટ',\n  'આઉટ',\n  'રહ્યો',\n  '.'],\n ['કૃષિ',\n  'અને',\n  'ખેડૂત',\n  'કલ્યાણ',\n  'મંત્રાલયનાં',\n  'રાજ્ય',\n  'મંત્રી',\n  'શ્રી',\n  'પરષોત્તમ',\n  'રૂપાલા',\n  'અને',\n  'સચિવ',\n  '(',\n  'ACFW',\n  ')',\n  'શ્રી',\n  'કૈલાસ',\n  'ચૌધરી',\n  ',',\n  'શ્રી',\n  'સંજય',\n  'અગ્રવાલ',\n  'તથા',\n  'મંત્રાલયના',\n  'અન્ય',\n  'વરિષ્ઠ',\n  'અધિકારીઓએ',\n  'વીડિયો',\n  'કોન્ફરન્સ',\n  'મારફતે',\n  'આજની',\n  'કોન્ફરન્સમાં',\n  'ભાગ',\n  'લીધો',\n  'હતો',\n  '.'],\n ['સુરતના', 'વેપારીઓ', 'નારાજ'],\n ['શું', 'આ', 'ખરાબ', 'છે', '?'],\n ['શ્રમ',\n  'અને',\n  'રોજગાર',\n  'મંત્રાલય',\n  'હેઠળ',\n  'આવતા',\n  'કર્મચારી',\n  'ભવિષ્ય',\n  'નિધિ',\n  'સંગઠન',\n  '(',\n  'EPFO',\n  ')',\n  'એ',\n  'લૉકડાઉન',\n  'દરમિયાન',\n  'EPFની',\n  'ચુકવણીની',\n  'પ્રક્રિયા',\n  'વધુ',\n  'ઝડપી',\n  'કરીને',\n  'પ્રધાનમંત્રી',\n  'ગરીબ',\n  'કલ્યાણ',\n  'યોજના',\n  '(',\n  'PMGKY',\n  ')',\n  'અંતર્ગત',\n  '7.40',\n  'લાખ',\n  'કોવિડ',\n  '-',\n  '19',\n  'દાવા',\n  'સહિત',\n  'કુલ',\n  '12.91',\n  'લાખ',\n  'દાવાની',\n  'પતાવટ',\n  'કરીને',\n  'કર્મચારીઓને',\n  'તેની',\n  'રકમ',\n  'ચુકવણી',\n  'દીધી',\n  'છે',\n  '.'],\n ['શિવરાજ',\n  'સિંહ',\n  'ચૌહાણે',\n  'હાલમાં',\n  'જ',\n  'સંઘ',\n  'પ્રમુખ',\n  'મોહન',\n  'ભાગવત',\n  ',',\n  'બીજેપી',\n  'અધ્યક્ષ',\n  'રાજનાથ',\n  'સિંહ',\n  'અને',\n  'વરિષ્ઠ',\n  'નેતા',\n  'લાલકૃષ્ણ',\n  'અડવાણી',\n  'સાથે',\n  'મુલાકાત',\n  'કરી',\n  'હતી',\n  '.'],\n ['મેકાલેસ્ટર', 'કોલેજ'],\n ['યુપી',\n  'વિધાનસભામાં',\n  'ભાજપની',\n  'પાસે',\n  '325',\n  'ધારાસભ્યોની',\n  'સાથે',\n  'ત્રણ',\n  'ચતુર્થાંસથી',\n  'વધારે',\n  'બહુમતી',\n  'છે',\n  '.'],\n ['%', 's', 'માટે', '%', 's', 'પર', 'IMAP', 'સેવા'],\n ['બૉલિવુડ',\n  'અભિનેતા',\n  'ઈરફાન',\n  'ખાનના',\n  'નિધન',\n  'બાદ',\n  'તેમના',\n  'ફેન્સ',\n  'શોકમાં',\n  'છે',\n  '.'],\n ['આ', 'એક્ટર', 'તેની', 'ટ્રીટમેન્ટ', 'માટે', 'લંડન', 'ગયો', 'હતો', '.'],\n ['કોમેડી',\n  'કિંગ',\n  'કપિલ',\n  'શર્મા',\n  'નાના',\n  'પડદા',\n  'પર',\n  'જલ્દી',\n  'એન્ટ્રી',\n  'કરવા',\n  'જઈ',\n  'રહ્યો',\n  'છે',\n  '.'],\n ['હજી',\n  'સુધી',\n  'કોઈ',\n  'આતંકવાદી',\n  'સંગઠનોએ',\n  'હુમલાની',\n  'જવાબદારી',\n  'સ્વીકારી',\n  'નથી',\n  '.'],\n ['જેના', 'કારણે', 'મહારાષ્ટ્ર', 'સરકાર', 'નારાજ', 'થઈ', 'ગઈ', 'છે', '.'],\n ['રાષ્ટ્રીય', 'મ્યુઝિયમ', '.'],\n ['લેખકઃ', 'કુછહવા', 'હુહ'],\n ['સઇદ',\n  'અને',\n  'જમાત',\n  'અને',\n  'ફલાહના',\n  '37',\n  'સભ્યોને',\n  'એક્ઝિટ',\n  'કંટ્રોલ',\n  'લિસ્ટમાં',\n  'નાખી',\n  'દીધા',\n  'છે',\n  'અને',\n  'તેના',\n  'હેઠળ',\n  'તેમને',\n  'દેશ',\n  'છોડવા',\n  'પર',\n  'પ્રતિબંધ',\n  'લગાવી',\n  'દીધો',\n  'છે',\n  '.'],\n ['મોદીએ',\n  'જીવનસાથી',\n  'તરીકે',\n  'જશોદાબહેનનું',\n  'નામ',\n  'જણાવ્યું',\n  'હતું',\n  '.'],\n ['[', 'પાન', '૫', 'પર', 'બોક્સ', ']'],\n ['અમદાવાદ',\n  'શહેરમાં',\n  'દિવસેને',\n  'દિવસે',\n  'ક્રાઈમનો',\n  'રેશિયો',\n  'વધી',\n  'રહ્યો',\n  'છે',\n  '.'],\n ['હું', 'બોલિવુડની', 'ત્રણ', 'ફિલ્મોમાં', 'કામ', 'કરી', 'રહી', 'છું', '.'],\n ['વડા',\n  'પ્રધાન',\n  'નરેન્દ્ર',\n  'મોદીની',\n  'સીટ',\n  'વારાણસીમાં',\n  'પણ',\n  'મતદાન',\n  'થશે',\n  '.'],\n ['જોકે', ',', 'પૂનમે', 'ઇન્કાર', 'કરી', 'દીધો', 'હતો', '.'],\n ['મેટલ', 'પોલ્સ', 'પર', 'ઘણા', 'મોટા', 'લાલ', 'સ્ટોપ', 'ચિહ્નો', '.'],\n ['જુના',\n  'ટિંબરવા',\n  'ગામના',\n  'લોકોનો',\n  'મુખ્ય',\n  'વ્યવસાય',\n  'ખેતી',\n  ',',\n  'ખેતમજૂરી',\n  'તેમ',\n  'જ',\n  'પશુપાલન',\n  'છે',\n  '.'],\n ['મુંબઈમાં',\n  'એલફિન્સ્ટન',\n  'રોડ',\n  'રેલવે',\n  'સ્ટેશનના',\n  'ફૂટ',\n  'ઓવરબ્રિજ',\n  'પર',\n  'નાસભાગમાં',\n  '22નાં',\n  'મોત'],\n ['રાષ્ટ્રપતિ',\n  'પૉલ',\n  'કગામેએ',\n  'વર્ષ',\n  '2017માં',\n  'ભારતની',\n  'સત્તાવાર',\n  'યાત્રા',\n  'કરી',\n  'હતી',\n  'તથા',\n  'ત્યારબાદ',\n  'ક્રમશઃ',\n  'વાઇબ્રન્ટ',\n  'ગુજરાત',\n  'અને',\n  'આંતરરાષ્ટ્રીય',\n  'સૌર',\n  'ગઠબંધનનાં',\n  'સ્થાપના',\n  'સંમેલનમાં',\n  'ભાગ',\n  'લીધો',\n  'હતો',\n  '.'],\n ['તમારાં',\n  'બાળકોનાં',\n  'દિલ',\n  'સુધી',\n  'પહોંચવા',\n  'તમે',\n  'પણ',\n  'ઈસુની',\n  'જેમ',\n  'શીખવી',\n  'શકો',\n  '.',\n  '-',\n  'લુક',\n  '૨૪ઃ',\n  '૧૫',\n  '-',\n  '૧૯',\n  ',',\n  '૨૭',\n  ',',\n  '૩૨',\n  'વાંચો',\n  '.'],\n ['\"',\n  'કઈંક',\n  'અલગ',\n  'કરવાની',\n  'ચાહતમાં',\n  '32',\n  'વર્ષના',\n  'મનોજે',\n  '2015',\n  'માં',\n  \"'\",\n  'મનોજ',\n  'પટેલ',\n  'ડિઝાઇન',\n  'સ્ટૂડિયો',\n  \"'\",\n  '(',\n  'એમપીડીએસ',\n  ')',\n  'નામથી',\n  'પોતાની',\n  'ફર્મ',\n  'શરૂ',\n  'કરી',\n  '.'],\n ['ભગવાન', 'બધાને', 'આશીર્વાદ', 'આપે', '.'],\n ['માધુરી',\n  'સાથે',\n  'તેના',\n  'બાળકો',\n  'અરિન',\n  'અને',\n  'રયાન',\n  'પણ',\n  'આવ્યા',\n  'છે',\n  '.'],\n ['ફાયર',\n  'બ્રિગેડના',\n  'લાશ્કરો',\n  'બનાવની',\n  'જાણ',\n  'થતાં',\n  'સ્થળ',\n  'પર',\n  'પહોંચી',\n  'ગયા',\n  'હતા',\n  '.'],\n ['લ્યુપસના', 'લક્ષણો'],\n ['આ',\n  'દરમિયાન',\n  'ટ્રમ્પ',\n  'અને',\n  'મોદી',\n  'વચ્ચે',\n  'દ્વિપક્ષીય',\n  'વાટાઘાટો',\n  'થઈ',\n  'હતી',\n  '.'],\n ['કંપની',\n  \"'\",\n  'નૈનોસેંટ',\n  \"'\",\n  'ના',\n  'સહસંસ્થાપક',\n  'ઓરેન',\n  'ગૈવરિલી',\n  'અને',\n  'ઇરાન',\n  'રોમના',\n  'અનુસાર',\n  'આ',\n  'સેંસર',\n  'એક',\n  'ઇલેક્ટ્રોનિક',\n  'નાકની',\n  'માફક',\n  'કરે',\n  'છે',\n  'અને',\n  'તેને',\n  'સ્માર્ટફોનમાં',\n  'લગાવી',\n  'શકાય',\n  'છે',\n  '.'],\n ['UPS',\n  'એ',\n  'જટિલ',\n  'સ્તરની',\n  'નીચે',\n  'છે',\n  'અને',\n  'આ',\n  'કમ્પ્યૂટર',\n  'બંધ',\n  'થવા',\n  'જઈ',\n  'રહ્યું',\n  'છે',\n  '.'],\n ['તેમની',\n  'આવનારી',\n  'ફિલ્મ',\n  'બ્રહ્માસ્ત્ર',\n  'છે',\n  'જેમાં',\n  'રણવીર',\n  'કપૂર',\n  ',',\n  'અમિતાભ',\n  'બચ્ચન',\n  'અને',\n  'આલિયા',\n  'ભટ્ટ',\n  'મુખ્ય',\n  'ભૂમિકા',\n  'ભજવશે',\n  '.'],\n ['માર્બલ', ',', 'પ્લાસ્ટર', 'અને', 'મેટલ', '.'],\n ['અગાઉ',\n  'સિનાએ',\n  'કપિલ',\n  'શર્મા',\n  'અને',\n  'સિંગર',\n  'દલેર',\n  'મહેંદીના',\n  'પણ',\n  'ફોટો',\n  'શેર',\n  'કર્યા',\n  'હતા',\n  '.'],\n ['શર્માએ',\n  'હનુમા',\n  'વિહારીની',\n  'સાથે',\n  'મળીને',\n  '112',\n  'રનની',\n  'સાઝેદારી',\n  'બનાવી',\n  'હતી',\n  '.'],\n ['શેરીમાં', 'એક', 'ખૂબ', 'મોટી', 'તેજસ્વી', 'નારંગી', 'રંગીન', 'બસ', '.'],\n ['યુપી', 'સરકાર'],\n ['કેન્દ્રીય',\n  'ગૃહમંત્રી',\n  'અમિત',\n  'શાહે',\n  'આ',\n  'બિલ',\n  'પર',\n  'સંસદમાં',\n  'પોતાની',\n  'વાત',\n  'રજૂ',\n  'કરી',\n  'હતી',\n  '.'],\n ['એરપોર્ટના',\n  'સત્તાવાળાઓના',\n  'જણાવ્યાનુસાર',\n  'એર',\n  'ફ્રાંસનું',\n  'વિમાન',\n  '૩૨',\n  ',',\n  '૦૦૦',\n  'ફુટની',\n  'ઉંચાઇએ',\n  'ઊડી',\n  'રહ્યું',\n  'હતું',\n  'ત્યારે',\n  'એતિહાદનું',\n  'વિમાન',\n  '૩૧',\n  ',',\n  '૦૦૦',\n  'ફુટની',\n  'ઉંચાઇએ',\n  'હતું',\n  '.'],\n ['કન્ઝ્યુ',\n  'હેલ્થકેર',\n  'બિઝનેસ',\n  'આગામી',\n  'સમયમાં',\n  'OTC',\n  'અને',\n  'સેન્સોડાઇન',\n  ',',\n  'ઇનો',\n  'જેવી',\n  'ઓરલ',\n  'હેલ્થ',\n  'બ્રાન્ડ્સ',\n  'જેવી',\n  'વૃદ્ધિની',\n  'તકોમાં',\n  'રોકાણ',\n  'કરવાનું',\n  'ચાલુ',\n  'રાખશે',\n  '.'],\n ['તમને',\n  'પોતાની',\n  'મનપસંદ',\n  'કંપની',\n  'માં',\n  'ઈન્ટરવ્યૂ',\n  'માટે',\n  'બોલાવવામાં',\n  'આવી',\n  'શકે',\n  'છે',\n  '.'],\n ['આ',\n  'ક્રાઇમ',\n  'ફિલ્મ',\n  '\"',\n  'વાસ્તવિક',\n  'જીવનના',\n  'દાણચોર',\n  'હાજી',\n  'મસ્તાન',\n  'પર',\n  'આધારિત',\n  'હતી',\n  'જેમાં',\n  'એક',\n  'પોલિસ',\n  'અધિકારી',\n  'અને',\n  'તેનો',\n  'ગેંગ',\n  'લીડર',\n  'ભાઈ',\n  'આમને',\n  'સામને',\n  'આવી',\n  'જાય',\n  'છે',\n  '.',\n  '\"'],\n ['પરંતુ',\n  'આજદિન',\n  'સુધી',\n  'મોદીની',\n  'લોકપ્રિયતાનો',\n  'ગ્રાફ',\n  'સતત',\n  'ઊંચો',\n  'જ',\n  'જઇ',\n  'રહ્યો',\n  'છે',\n  '.'],\n ['પોલીસે',\n  'આ',\n  'મામલે',\n  'ગુનો',\n  'નોંધી',\n  'કાયદેસરની',\n  'કાર્યવાહી',\n  'હાથ',\n  'ધરી',\n  'છે',\n  '.'],\n ['પ્રાપ્ત',\n  'વિગતો',\n  'અનુસાર',\n  ',',\n  'દિગ્વિજય',\n  'સિંહે',\n  'પૂર્વ',\n  'વડા',\n  'પ્રધાન',\n  'મનમોહન',\n  'સિંહ',\n  'માટે',\n  'નાણાકીય',\n  'સંસદીય',\n  'સ્થાયી',\n  'સમિતિમાંથી',\n  'રાજીનામું',\n  'આપી',\n  'દીધું',\n  'છે',\n  '.'],\n ['સરકાર',\n  'દ્વારા',\n  '1',\n  'કરોડથી',\n  'વધુની',\n  'રોકડ',\n  'પર',\n  'આજથી',\n  '2',\n  'ટકા',\n  'TDS',\n  'લગાવવાની',\n  'જાહેરાત',\n  'કરાઈ',\n  'છે',\n  '.'],\n ['બોલીવુડના',\n  'સૌથી',\n  'ક્યૂટ',\n  'કપલમાંના',\n  'એક',\n  'કાર્તિક',\n  'આર્યન',\n  'અને',\n  'સારા',\n  'અલી',\n  'ખાન',\n  'હને',\n  'જુદાં',\n  'થઈ',\n  'ચૂક્યા',\n  'છે',\n  '.'],\n ['વિદેશ',\n  'રાજ્યમંત્રી',\n  'અકબર',\n  'પર',\n  'પ્રથમ',\n  'આરોપ',\n  'વરિષ્ઠ',\n  'પત્રકાર',\n  'પ્રિયા',\n  'રમાનીએ',\n  'લગાવ્યો',\n  'હતો',\n  '.'],\n ['મુંબઈ',\n  '-',\n  'ગોવા',\n  'હાઇવે',\n  'પર',\n  'થયેલા',\n  'અકસ્માતમાં',\n  'ચાર',\n  'જણનાં',\n  'મૃત્યુ'],\n ['ચાલુ', 'રાખો', ',', 'પછી', 'પુનરાવર્તન', 'કરો', '.'],\n ['પ્રધાનમંત્રી',\n  'રાષ્ટ્રપતિ',\n  'ફ્રાંસ્વા',\n  'ઓલાંદેને',\n  'ચંદીગઢ',\n  'અને',\n  'દિલ્હીમાં',\n  'મળશે',\n  '.'],\n ['કેટલાક',\n  'લાકડાના',\n  'ચર્ચ',\n  'થાંભલાઓ',\n  'અને',\n  'ફ્લેગ્સ',\n  'અને',\n  'દિવાલ',\n  'અટકી'],\n ['નોંધઃ',\n  'અંદાજિત',\n  'આઇઇએસ',\n  'ફક્ત',\n  'હાલની',\n  'યોજનાનાં',\n  'સંબંધમાં',\n  'છે',\n  '.'],\n ['પ્રધાનમંત્રીએ',\n  'કહ્યું',\n  ',',\n  'આપણા',\n  'નજીકના',\n  'દરિયાઇ',\n  'પાડોશી',\n  ',',\n  'રાષ્ટ્રપતિ',\n  'શ્રી',\n  'જોકો',\n  'વિડોડોને',\n  'ઇન્ડોનેશિયાના',\n  'રાષ્ટ્રપતિ',\n  'તરીકે',\n  'બીજી',\n  'વાર',\n  'ચૂંટાવા',\n  'બદલ',\n  'સહૃદય',\n  'અભિનંદન',\n  '.'],\n ['સાદ્',\n  'અહેમદ',\n  ',',\n  'નીતુ',\n  'પ્રસાદ',\n  ',',\n  'સહલ',\n  'બી',\n  '.',\n  'અને',\n  'ડેશમોન્ડ',\n  'ઓનયેમચી',\n  'ઓકોચાએ',\n  'તેમના',\n  'પેપર',\n  'જુદા',\n  'જુદા',\n  'વિષયો',\n  'પર',\n  'પ્રસ્તુત',\n  'કર્યા',\n  'હતા',\n  '.'],\n ['ભક્તિકાળના',\n  'સંત',\n  'ઘીસાદાસ',\n  'પણ',\n  'આ',\n  'દિવસે',\n  'જન્મ્યા',\n  'હતા',\n  ',',\n  'તે',\n  'કબીરદાસના',\n  'શિષ્ય',\n  'હતા',\n  '.'],\n ['પ્રધાનમંત્રી',\n  'શ્રી',\n  'નરેન્દ્ર',\n  'મોદીની',\n  'અધ્યક્ષતામાં',\n  'કેન્દ્રીય',\n  'મંત્રીમંડળને',\n  'આંતરરાષ્ટ્રીય',\n  'ઊર્જા',\n  'એજન્સી',\n  '(',\n  'આઈઈએ',\n  ')',\n  'અંતર્ગત',\n  'એડવાન્સ',\n  'મોટર',\n  'ફ્યુઅલ',\n  'ટેકનોલોજી',\n  'સહયોગ',\n  'કાર્યક્રમ',\n  '(',\n  'એએમએફ',\n  'ટીસીપી',\n  ')',\n  'નાં',\n  'સભ્ય',\n  'સ્વરૂપે',\n  'ભારતનાં',\n  'જોડાણ',\n  'વિશે',\n  'જાણકારી',\n  'આપવામાં',\n  'આવી',\n  'છે',\n  '.'],\n ['વૈશ્વિક', 'ભારત'],\n ['અંધાત્રી',\n  'ભારત',\n  'દેશના',\n  'પશ્ચિમ',\n  'ભાગમાં',\n  'આવેલા',\n  'ગુજરાત',\n  'રાજ્યના',\n  'સુરત',\n  'જિલ્લાના',\n  'મહુવા',\n  'તાલુકાનું',\n  'ગામ',\n  'છે',\n  '.'],\n ['જોકે',\n  'અંતિમ',\n  'નિર્ણય',\n  'રાજ્ય',\n  'સરકારો',\n  'પર',\n  'છોડવામાં',\n  'આવ્યો',\n  'છે',\n  '.'],\n ['બાઇબલ',\n  'એ',\n  'જણાવતું',\n  'નથી',\n  'કે',\n  'પૃથ્વી',\n  'અને',\n  'સૂર્યમંડળને',\n  'કેટલાં',\n  'વર્ષ',\n  'થયાં',\n  'છે',\n  '.'],\n ['રાષ્ટ્રપતિ',\n  'ડોનાલ્ડ',\n  'ટ્રમ્પ',\n  'અને',\n  'ડ્રેમોકેટિક',\n  'પક્ષ',\n  'તરફથી',\n  'પૂર્વ',\n  'ઉપરાષ્ટ્રપતિ',\n  'જોબિડેન',\n  'મેદાનમાં',\n  'છે',\n  '.'],\n ['ફિલ્મની', 'કથા', 'પાણીપતના', 'ત્રીજા', 'યુદ્ધ', 'પર', 'આધારિત', 'છે', '.'],\n ['હળદરમાં', 'કરક્યુમિન', 'નામનું', 'તત્ત્વ', 'રહેલું', 'છે', '.'],\n ['દિવસ', 'દરમિયાન', 'ઘાસવાળું', 'ક્ષેત્ર', 'પર', 'જીરાફનું', 'ટોળું', '.'],\n ['રાજેન્દ્ર',\n  'પાલ',\n  'ગૌતમ',\n  'ઉત્તર',\n  '-',\n  'પૂર્વ',\n  'દિલ્હીની',\n  'સીમાપુરી',\n  'વિધાનસભા',\n  'સીટ',\n  'પરથી',\n  'ધારાસભ્ય',\n  'છે',\n  '.'],\n ['કેન્દ્રીય',\n  'મંત્રી',\n  'ગિરિરાજ',\n  'સિંહે',\n  'કહ્યું',\n  ',',\n  \"'\",\n  'હવે',\n  'હિંદૂઓની',\n  'સહનશક્તિની',\n  'હદ',\n  'આવી',\n  'ગઈ',\n  'છે',\n  '.'],\n ['માય', 'ગોડ', '.'],\n ['આમાં',\n  'અમિત',\n  'શાહને',\n  'ગૃહમંત્રી',\n  ',',\n  'નિર્મલા',\n  'સીતારમણને',\n  'નાણા',\n  'અને',\n  'રાજનાથ',\n  'સિંહને',\n  'સંરક્ષણ',\n  'મંત્રી',\n  'બનાવવામાં',\n  'આવ્યા',\n  '.'],\n [\"'\",\n  'મન',\n  'કી',\n  'બાત',\n  \"'\",\n  'માં',\n  'PM',\n  'મોદીએ',\n  'આપી',\n  'પાણી',\n  'બચાવવાની',\n  'સલાહ'],\n ['આ',\n  'પહેલા',\n  'બજરંગ',\n  'પુનિયાએ',\n  'પુરુષ',\n  'ફ્રીસ્ટાઈલના',\n  '૬૫',\n  'કિગ્રા',\n  'વર્ગમાં',\n  'રજત',\n  'ચંદ્રક',\n  'જીત્યો',\n  'હતો',\n  '.'],\n ['કેન્દ્ર',\n  'શાસિત',\n  'પ્રદેશ',\n  'વહીવટીતંત્ર',\n  'અને',\n  'તેના',\n  'સંલગ્ન',\n  'આરોગ્ય',\n  'વિભાગ',\n  'દ્વારા',\n  'તમામ',\n  'પ્રવૃત્તિઓ',\n  'હાથ',\n  'ધરવામાં',\n  'આવી',\n  'રહી',\n  'છે',\n  '.'],\n ['એક્ટર',\n  'અને',\n  'વીજે',\n  'પૂરબ',\n  'કોહલીએ',\n  'પોતાની',\n  'ગર્લફ્રેન્ડ',\n  'લૂસી',\n  'પેટન',\n  'સાથે',\n  'લગ્ન',\n  'કરી',\n  'લીધા',\n  'છે',\n  '.'],\n ['તેમજ',\n  'N95',\n  'માસ્ક',\n  ',',\n  'PPE',\n  'કીટ્સ',\n  'અને',\n  'HCQ',\n  'ટેબલેટની',\n  'ઉપલબ્ધતા',\n  'માટે',\n  'પણ',\n  'મદદ',\n  'કરવામાં',\n  'આવી',\n  'છે',\n  '.'],\n ['સંયોગવશ', 'તેનું', 'નામ', 'તાહિર', 'છે', '.'],\n ['મેજર', 'સંદીપ', 'ઉન્નીકૃષ્ણનન'],\n ['શાહરૂખની', 'છેલ્લી', 'ફિલ્મ', \"'\", 'જીરો', \"'\", 'ફ્લોપ', 'હતી', '.'],\n ['જેની', 'તસવીર', 'વાયરલ', 'થઈ', 'હતી', '.'],\n ['જેમનું',\n  'સ્વાગત',\n  'સીએમ',\n  'વિજય',\n  'રૂપાણી',\n  'અને',\n  'રાજ્યપાલ',\n  'દેવવ્રત',\n  'આચાર્ય',\n  'સ્વાગત',\n  'કરશે',\n  '.'],\n ['હું', 'શાહરુખ', 'ખાનની', 'જેમ', 'બનવા', 'માંગતી', 'હતી', '.'],\n ['મેચમાં',\n  'ન્યૂઝીલેન્ડે',\n  'ટોસ',\n  'જીતીને',\n  'પ્રથમ',\n  'બેટિંગ',\n  'કરવાનો',\n  'નિર્ણય',\n  'લીધો',\n  'હતો',\n  '.'],\n ['દક્ષિણ',\n  'આફ્રિકા',\n  'ટીમઃ',\n  'જીન',\n  'પોલ',\n  'ડ્યુમિનિ',\n  ',',\n  'વાયન',\n  'પાર્નેલ',\n  ',',\n  'ડેવિડ',\n  'મિલર',\n  ',',\n  'ટીમ્બા',\n  'બેવુમા',\n  ',',\n  'એરોન',\n  'ફેંગીસ્કો',\n  ',',\n  'ફાફ',\n  'ડુ',\n  'પ્લેસીસ',\n  ',',\n  'ફરહાન',\n  'બહેર્ડિયન',\n  ',',\n  'કીન્ટન',\n  'દ',\n  'કોક',\n  ',',\n  'કાજિસો',\n  'રબડા',\n  '.'],\n ['ત્યારબાદ',\n  'ટાસ્ક',\n  'ફોર્સ',\n  ',',\n  'નોર્થ',\n  'ઝોન',\n  'ટીમ',\n  ',',\n  'હૈદરાબાદ',\n  'સીટી',\n  'પોલીસે',\n  'ખોવાયેલ',\n  'મહિલાની',\n  'શોધખોળ',\n  'કરવાનું',\n  'બીડું',\n  'ઝડપ્યું',\n  '.'],\n ['તેઓ', 'વાસણોનું', 'ઉત્પાદન', 'અને', 'નિકાસ', 'કરે', 'છે', '.'],\n ['જાકે',\n  'સુપ્રીમ',\n  'કોર્ટના',\n  'નિર્ણયથી',\n  'સુન્ની',\n  'વકફ',\n  'બોર્ડે',\n  'અસંતોષ',\n  'વ્યકત',\n  'કર્યો',\n  'હતો',\n  '.'],\n ['આ',\n  'સમયે',\n  'તેમના',\n  'ફેસબુક',\n  'અને',\n  'ટ્વિટર',\n  'પર',\n  'કરોડો',\n  'ફોલોઅર્સ',\n  'છે',\n  '.'],\n ['ભાજપ', '25', 'શિવસેના', '23', 'બેઠક', 'પર', 'ચૂંટણી', 'લડશે', '.'],\n ['કંપની',\n  'હાલ',\n  'સેલ્સફોર્સ',\n  'ક્વોટ',\n  '-',\n  'ટુ',\n  '-',\n  'કેશ',\n  'એપ્લિકેશન્સ',\n  'માટે',\n  '૪',\n  ',',\n  '૫૦૦થી',\n  'વધુ',\n  'પ્રોજેક્ટ',\n  'માટે',\n  'ક્લાઉડ',\n  'કન્સલ્ટિંગ',\n  ',',\n  'અમલીકરણ',\n  ',',\n  'ડેટાનું',\n  'જોડાણ',\n  ',',\n  'ચેન્જ',\n  'મેનેજમેન્ટ',\n  'અને',\n  'ટ્રેનિંગ',\n  'સર્વિસ',\n  'ક્ષેત્રે',\n  'અગ્રણી',\n  'પ્રોવાઇડર',\n  'અને',\n  'એડવાઇઝર',\n  'છે',\n  '.'],\n ['તબીબી',\n  'ઉપકરણ',\n  '-',\n  'વેન્ટિલેટર્સ',\n  'અને',\n  'પીપીઇની',\n  'ઉપલબ્ધતાઃ',\n  'પર્યાપ્ત',\n  'સંખ્યામાં',\n  'પર્સનલ',\n  'પ્રોટેક્ટિવ',\n  'ઇક્વિપમેન્ટ',\n  '(',\n  'પીપીઇ',\n  ')',\n  ',',\n  'વેન્ટિલેટર્સ',\n  'વગેરેની',\n  'ઉપલબ્ધતા',\n  'કોવિડ',\n  '-',\n  '19',\n  'સામેની',\n  'લડાઈમાં',\n  'મહત્ત્વપૂર્ણ',\n  'બની',\n  'રહેશે',\n  '.'],\n ['અર્થશાસ્ત્ર',\n  'ક્ષેત્રે',\n  'વિલિયમ',\n  'નોર્ડહોસ',\n  ',',\n  'પોલ',\n  'રોમનને',\n  'મળશે',\n  'નોબેલ',\n  'પુરસ્કાર'],\n ['અમિતભા',\n  'બચ્ચન',\n  'અત્યારે',\n  'ફિલ્મ',\n  \"'\",\n  'ઠગ્સ',\n  'ઓફ',\n  'હિંદુસ્તાન',\n  \"'\",\n  'ના',\n  'શુટિંગમાં',\n  'વ્યસ્ત',\n  'છે',\n  '.'],\n ['તાજેતરમાં',\n  'પ્રિયંકા',\n  'ચોપરા',\n  'બર્લિનમાં',\n  'PM',\n  'નરેન્દ્ર',\n  'મોદીને',\n  'મળી',\n  'હતી',\n  '.'],\n ['પગલું', '2', ':', 'ગણતરીના', 'આંકડા', 'બનાવો'],\n ['તેઓ', 'વ્યારાની', 'જનરલ', 'હોસ્પિટલમાં', 'દાખલ', 'થયા', 'હતા', '.'],\n ['કિરેન',\n  'રિજીજુ',\n  ':',\n  'યુવા',\n  'બાબતો',\n  'અને',\n  'રમત',\n  'મંત્રાલય',\n  ',',\n  'લઘુમતી',\n  'બાબતોના',\n  'મંત્રાલયમાં',\n  'રાજ્યકક્ષાના',\n  'મંત્રી'],\n ['આ',\n  'બનાવ',\n  'અંગે',\n  'આણંદ',\n  'શહેર',\n  'પોલીસ',\n  'મથકમાં',\n  'ફરિયાદ',\n  'નોંધાઈ',\n  'છે',\n  '.'],\n ['શું', 'કહ્યું', 'વડાપ્રધાન', 'નરેન્દ્ર', 'મોદીએ', '-'],\n ['વડાપ્રધાન',\n  'નરેન્દ્ર',\n  'મોદીનું',\n  'ચીનના',\n  'પ્રમુખ',\n  'શી',\n  'જિનપિંગે',\n  'ઝીમેને',\n  'ઇન્ટરનેશનલ',\n  'કોન્ફરન્સ',\n  'સેન્ટરમાં',\n  'સ્વાગત',\n  'કર્યું',\n  'હતું',\n  '.'],\n ['ગીતો', 'કર્ણપ્રિય', 'છે', '.'],\n ['તે',\n  'પછીના',\n  'જ',\n  'વર્ષમાં',\n  ',',\n  'પ્રથમ',\n  '-',\n  'કક્ષાની',\n  'ટીમો',\n  'વચ્ચે',\n  'પ્રથમ',\n  'સંપૂર્ણ',\n  '-',\n  'કક્ષાની',\n  'એક',\n  '-',\n  'દિવસીય',\n  'નોક',\n  '-',\n  'આઉટ',\n  'સ્પર્ધા',\n  'જીલેટ',\n  'કપ',\n  'યોજાઇ',\n  ',',\n  'જેમાં',\n  'સસેક્સ',\n  'વિજયી',\n  'રહ્યું',\n  'હતું',\n  '.'],\n ['ઈજાગ્રસ્તોને',\n  'સારવાર',\n  'અર્થે',\n  'સોલા',\n  'સિવિલ',\n  'હોસ્પિટલમાં',\n  'દાખલ',\n  'કરાયા',\n  'છે',\n  '.'],\n ['(',\n  'નીતિવચનો',\n  '૨૩ઃ',\n  '૨૦',\n  '.',\n  'તીતસ',\n  '૨ઃ',\n  '૨',\n  ',',\n  '૩',\n  'વાંચો',\n  '.',\n  ')'],\n ['જોકે',\n  'ઇમરાન',\n  'ખાને',\n  'આ',\n  'પ્રકારની',\n  'વાતોનું',\n  'ખંડન',\n  'કર્યું',\n  'છે',\n  '.'],\n ['પોલીસને', 'આ', 'લાશ', 'એક', 'ખંડેરમાંથી', 'મળી', 'આવી', 'છે', '.'],\n ['આ',\n  'રેન્કિંગમાં',\n  'નોર્વે',\n  '62.07',\n  'એમબીપીએસની',\n  'સરેરાશ',\n  'સ્પીડની',\n  'સાથે',\n  'પહેલા',\n  'નંબરે',\n  'રહ્યું',\n  '.'],\n ['હુ', 'કહો', 'છો', '!'],\n [\"'\",\n  'રોયલ',\n  'ચેલેન્જર્સની',\n  'બેટિંગ',\n  'એબી',\n  'ડી',\n  'વિલિયર્સ',\n  'અને',\n  'વિરાટ',\n  'કોહલી',\n  'પર',\n  'જ',\n  'આધારીત',\n  'છે',\n  '.'],\n ['બાલીંટા',\n  'ગામના',\n  'લોકોનો',\n  'મુખ્ય',\n  'વ્યવસાય',\n  'ખેતી',\n  ',',\n  'ખેતમજૂરી',\n  'તેમ',\n  'જ',\n  'પશુપાલન',\n  'છે',\n  '.'],\n ['શા',\n  'માટે',\n  'અલીગઢ',\n  'મુસ્લિમ',\n  'યુનિવર્સિટી',\n  ',',\n  'જામિયા',\n  'દલિતોને',\n  'અનામત',\n  'પૂરી',\n  'પાડી',\n  'શકતી',\n  'નથી',\n  ':',\n  'યોગી',\n  'આદિત્યનાથ'],\n ['પીએમ',\n  'મોદી',\n  'જે',\n  'કાર્યક્રમમાં',\n  'બોલી',\n  'રહ્યા',\n  'હતા',\n  'તે',\n  'નગર',\n  'વિકાસ',\n  'સાથે',\n  'જોડાયેલી',\n  'સરકારની',\n  'ત્રણ',\n  'મહત્વપૂર્ણ',\n  'યોજનાઓ',\n  'વડાપ્રધાન',\n  'આવાસ',\n  'યોજના',\n  '(',\n  'શહેરી',\n  ')',\n  ',',\n  'અટલ',\n  'મિશન',\n  'ફૉર',\n  'રીજુવેનેશન',\n  'ઓફ',\n  'અરબન',\n  'ટ્રાંસફૉર્મેશન',\n  '(',\n  'અમૃત',\n  ')',\n  'અને',\n  'સ્માર્ટ',\n  'સિટીઝ',\n  'મિશનની',\n  'ત્રીજી',\n  'વર્ષગાંઠ',\n  'પર',\n  'આયોજિત',\n  'કરવામાં',\n  'આવ્યું',\n  'હતું',\n  '.'],\n ['ભારતના',\n  'સૌથી',\n  'ધનિક',\n  'બિઝનેસમેન',\n  'મુકેશ',\n  'અંબાણીની',\n  'દીકરી',\n  'ઈશા',\n  'અંબાણી',\n  'અને',\n  'આનંદ',\n  'પીરામલે',\n  'પ્રભુતામાં',\n  'પગલા',\n  'માંડ્યા',\n  'છે',\n  '.'],\n ['કાકાના',\n  'ચમારીયા',\n  'ભારત',\n  'દેશના',\n  'પશ્ચિમ',\n  'ભાગમાં',\n  'આવેલા',\n  'ગુજરાત',\n  'રાજ્યના',\n  'મધ્ય',\n  'ભાગમાં',\n  'આવેલા',\n  'મહીસાગર',\n  'જિલ્લામાં',\n  'આવેલા',\n  'લુણાવાડા',\n  'તાલુકાનું',\n  'એક',\n  'ગામ',\n  'છે',\n  '.'],\n ['તેઓ', 'ખૂબ', 'ચોક્કસ', 'છે', '.'],\n ['પ્રધાનમંત્રી',\n  'શ્રી',\n  'ડેવિડ',\n  'કેમરુન',\n  'ભારતના',\n  'એક',\n  'સારા',\n  'મિત્ર',\n  'છે',\n  'અને',\n  'અમે',\n  'ભારતવાસીઓને',\n  'પ્રધાનમંત્રીના',\n  'રૂપમાં',\n  'તેમના',\n  'પહેલા',\n  'કાર્યકાળ',\n  'દરમિયાન',\n  'ત્રણ',\n  'ચાર',\n  'વખત',\n  'તેમનું',\n  'સ્વાગત',\n  'કરવા',\n  'માટેનો',\n  'અવસર',\n  'મળેલો',\n  'છે',\n  '.'],\n ['આ', 'માત્ર', 'ભાજપની', 'વોટ', 'પોલિટિક્સ', 'છે', '.'],\n ['આ', 'ઘટના', 'ચતરા', 'જિલ્લાના', 'રાજા', 'તેન્દુઆ', 'ગામની', 'છે', '.'],\n ['પાણી', 'ઉમેરો', 'અને', 'કણક', 'તદ્દન', 'જાડા', 'ભેળવી', '.'],\n ['તેથી',\n  ',',\n  'ગૅલ',\n  'અને',\n  'તેમના',\n  'પતિ',\n  'ડેરિક',\n  'પાસેથી',\n  ',',\n  'હું',\n  'અને',\n  'ગ્વેન',\n  'બાઇબલમાંથી',\n  'અભ્યાસ',\n  'કરવા',\n  'રાજી',\n  'થયાં',\n  '.'],\n ['આ',\n  'હુમલાની',\n  'જવાબદારી',\n  'આતંકવાદી',\n  'સંગઠન',\n  'આઈએસ',\n  '(',\n  'IS',\n  ')',\n  'એ',\n  'લીધી',\n  'છે',\n  '.'],\n ['બેસ્ટ',\n  'એક્ટ્રેસ',\n  '(',\n  'ક્રિટિક્સ',\n  'ચોઈસ',\n  ')',\n  '-',\n  'ભૂમિ',\n  'પેડણેકર',\n  'અને',\n  'તાપસી',\n  'પન્નૂ'],\n ['જે',\n  'બાદ',\n  'આ',\n  'પ્રસ્તાવને',\n  'મંજૂરી',\n  'માટે',\n  'નાણા',\n  'મંત્રાલય',\n  'પાસે',\n  'મોકલવામાં',\n  'આવ્યું',\n  'હતું',\n  '.'],\n ['જવાબ', ':', 'પાતાલ', 'પૂરી'],\n ['દેશનું',\n  'અર્થતંત્ર',\n  'નોટબંધી',\n  'અને',\n  'જીએસટીના',\n  'લીધે',\n  'ડામાડાળો',\n  'થયું',\n  'છે',\n  '.'],\n ['તે', 'ખૂબ', 'જ', 'સરળ', 'પદ્ધતિ', 'વાપરે', 'છે', '.'],\n ['પંજાબ',\n  'અને',\n  'હરિયાણા',\n  'સહિતની',\n  'અન્ય',\n  'વિસ્તારોના',\n  'ખેડૂતો',\n  'છેલ્લા',\n  'ઘણા',\n  'દિવસોથી',\n  'કૃષિ',\n  'બિલ',\n  'સામે',\n  'વિરોધ',\n  'પ્રદર્શન',\n  'કરી',\n  'રહ્યા',\n  'છે',\n  '.'],\n ['પાકિસ્તાની', 'ટીમ', '.'],\n ['આસામમાં',\n  'કોવિડ',\n  '-',\n  '1ની',\n  'કટોકટી',\n  'વચ્ચે',\n  'કેટલાક',\n  'ઇસ્લામિક',\n  'સંગઠનોએ',\n  'રાજ્યમાં',\n  'સમગ્ર',\n  'મુસ્લિમ',\n  'સમાજને',\n  'અપીલ',\n  'કરી',\n  'કે',\n  ',',\n  'શબ',\n  '-',\n  'એ',\n  '-',\n  'બારાત',\n  'ઘરે',\n  'કરો',\n  '.'],\n ['નાણાં',\n  'મંત્રીએ',\n  'પશુપાલન',\n  'અને',\n  'મત્સ્યપાલનની',\n  'વિવિધ',\n  'કામગીરી',\n  'કરતાં',\n  'ખેડૂતોને',\n  'વ્યાજમાં',\n  '2',\n  'ટકા',\n  'માફી',\n  'આપવાની',\n  'જાહેરાત',\n  'કરી',\n  'હતી',\n  ',',\n  'જેમણે',\n  'કિસાન',\n  'ક્રેડિટ',\n  'કાર્ડ',\n  'મારફતે',\n  'લોનનો',\n  'લાભ',\n  'લીધો',\n  'છે',\n  '.'],\n ['ત્યારે',\n  'ગુજરાત',\n  'હાઈકોર્ટેના',\n  'એક્ટિંગ',\n  'ચીફ',\n  'જસ્ટિસ',\n  'તરીકે',\n  'અનંત',\n  'એસ',\n  'દવેની',\n  'નિમણૂક',\n  'કરવામાં',\n  'આવી',\n  '.'],\n ['શા', 'માટે', 'ડુઇટરિંગ', '?'],\n ['સિલિકોન', 'ગ્રાફિક્સ', 'ચિત્ર'],\n ['ત્યાર',\n  'બાદ',\n  'ન્યુ',\n  'ચિરમીરી',\n  'પોન્ડી',\n  'હિલ્સ',\n  ',',\n  'વેસ્ટ',\n  'ચિરમીરી',\n  ',',\n  'ડ્યુમન',\n  'હિલ',\n  'અને',\n  'કોરિયા',\n  'કોલિયરી',\n  'શરૂ',\n  'કરવામાં',\n  'આવી',\n  'હતી',\n  '.'],\n ['ખોલવા', 'માટે', 'ફાઇલો', 'પસંદ', 'કરો'],\n ['બોલિવૂડ',\n  'ડાયરેક્ટર',\n  'અનુરાગ',\n  'કશ્યપ',\n  'ઉપર',\n  'અભિનેત્રી',\n  'પાયલ',\n  'ઘોષે',\n  'જાતીય',\n  'શોષણનો',\n  'આરોપ',\n  'લગાવ્યો',\n  'હતો',\n  '.'],\n ['જેમાં',\n  'તમામ',\n  'મૂળ',\n  'રાજસ્થાનના',\n  'વતની',\n  'હોવાનું',\n  'બહાર',\n  'આવ્યું',\n  'છે',\n  '.'],\n ['\"',\n  'ત્યારબાદ',\n  'તેમણે',\n  'કલકત્તાની',\n  '\"',\n  '\"',\n  'મોર્ટન',\n  'સ્કૂલ',\n  '\"',\n  '\"',\n  'માં',\n  'પ્રવેશ',\n  'મેળવ્યો',\n  '.',\n  '\"'],\n ['દર્શનાબેન', 'મહેતા'],\n ['જેમાં',\n  'ઐશ્વર્યા',\n  'રાય',\n  ',',\n  'અનુષ્કા',\n  'શર્મા',\n  ',',\n  'આલિયા',\n  'ભટ્ટ',\n  'સહિત',\n  'અનેક',\n  'બોલીવુડ',\n  'સેલેબ્સ',\n  'જોડાયા',\n  'હતા',\n  '.'],\n ['તેઓ',\n  'પસંદગીનાં',\n  'લાભાર્થીઓને',\n  'પીએમ',\n  '-',\n  'એસવાયએમ',\n  'કાર્ડનું',\n  'વિતરણ',\n  'પણ',\n  'કરશે',\n  '.'],\n ['અમેરિકન',\n  'રાષ્ટ્રપતિ',\n  'ડોનાલ્ડ',\n  'ટ્રમ્પ',\n  'ફેબ્રુઆરીમાં',\n  'ભારત',\n  'આવશેઃ',\n  'CM',\n  'રૂપાણી'],\n ['તે', 'ફિલ્મનું', 'દિગ્દર્શન', 'રાજકુમાર', 'સંતોષીએ', 'કર્યું', 'હતું', '.'],\n ['ઓસ્ટ્રેલિયા',\n  'ત્રિકોણીય',\n  'શ્રેણીની',\n  'ફાઈનલમાં',\n  'પહેલેથી',\n  'જ',\n  'પ્રવેશી',\n  'ચૂક્યું',\n  'છે',\n  '.'],\n [\"'\",\n  'બિલાવલે',\n  'એ',\n  'પણ',\n  'કહ્યું',\n  'કે',\n  ',',\n  \"'\",\n  'પ્રત્યેક',\n  'રાજનૈતિક',\n  'દળ',\n  'અને',\n  'વેપારી',\n  ',',\n  'શિક્ષક',\n  ',',\n  'ડોક્ટર',\n  'તથા',\n  'મજૂર',\n  'સહિત',\n  'દરેક',\n  'તબક્કાના',\n  'લોકો',\n  'સરકારની',\n  'નીતિઓથી',\n  'નાખુશ',\n  'છે',\n  '.'],\n ['નેહાએ',\n  'બોલિવૂડ',\n  'ઉપરાંત',\n  'તેલુગુ',\n  'અને',\n  'મલયાલમ',\n  'ફિલ્મોમાં',\n  'કામ',\n  'કર્યું',\n  'છે',\n  '.'],\n ['મુકેશ',\n  'અંબાણીના',\n  'પત્ની',\n  'નીતા',\n  'અંબાણી',\n  'મુંબઈ',\n  'ઈન્ડિયનની',\n  'તેમની',\n  'ટીમના',\n  'વિજય',\n  'તેમજ',\n  'પરાજયમાં',\n  'પણ',\n  'ભારે',\n  'ગૌરવપૂર્ણ',\n  'વર્તન',\n  'દ્વારા',\n  'દાખલો',\n  'બેસાડ્યો',\n  'હતો',\n  '.'],\n ['કોણ', 'છે', 'મહુઆ', 'મોઇત્રા', '?'],\n ['આ',\n  'કરારથી',\n  'ભારત',\n  'નવીનીકરણ',\n  'અને',\n  'IP',\n  'એરોસિસ્ટમમાં',\n  'અનુભવનું',\n  'આદાનપ્રદાન',\n  'કરી',\n  'શકશે',\n  'જેનો',\n  'બંને',\n  'પક્ષે',\n  'આંતરપ્રિન્યોર',\n  ',',\n  'રોકાણકાર',\n  'અને',\n  'વેપારને',\n  'પર્યાપ્ત',\n  'લાભ',\n  'થશે',\n  '.'],\n ['શ્રીનગરના',\n  'બાહરી',\n  'વિસ્તારમાં',\n  'સુરક્ષાબળો',\n  'સાથે',\n  'અથડામણમાં',\n  'ત્રણ',\n  'આતંકી',\n  'ઠાર'],\n ['મી', 'છે', 'અને', 'વજન', '80', 'કિલો', 'છે', '.'],\n ['મલાઈકા',\n  'અરોરા',\n  'અને',\n  'અર્જુન',\n  'કપૂર',\n  'આ',\n  'દિવસોમાં',\n  'વિદેશમાં',\n  'વેકેશન',\n  'માણી',\n  'રહ્યા',\n  'છે',\n  '.'],\n ['આ',\n  'અવસર',\n  'પર',\n  'ભાજપના',\n  'કાર્યકારી',\n  'અધ્યક્ષ',\n  'જેપી',\n  'નડ્ડા',\n  'અને',\n  'હરિયાણાના',\n  'મુખ્યમંત્રી',\n  'મનોહર',\n  'લાલ',\n  'ખટ્ટર',\n  'હાજર',\n  'રહ્યા',\n  'હતા',\n  '.'],\n ['વનાર',\n  'ગામના',\n  'લોકોનો',\n  'મુખ્ય',\n  'વ્યવસાય',\n  'ખેતી',\n  ',',\n  'ખેતમજૂરી',\n  'તેમ',\n  'જ',\n  'પશુપાલન',\n  'છે',\n  '.'],\n ['આ',\n  'લગ્નથી',\n  'તેને',\n  'બે',\n  'દીકરીઓ',\n  'શ્રુતિ',\n  'અને',\n  'અક્ષરા',\n  'હસન',\n  'થઇ',\n  '.'],\n ['વાઇબ્રન્ટ', 'બેડરૂમ'],\n ['તે', 'માફિયા', 'ડોન', 'દાઉદ', 'ઇબ્રાહિમ', 'સાથે', 'સંકળાયેલો', 'હતો', '.'],\n ['ફિલ્મને', 'ગૌતમ', 'તિન્નૌરી', 'ડાયરેક્ટ', 'કરી', 'રહ્યા', 'છે', '.'],\n ['અજીમ',\n  'પ્રેમજી',\n  'ફાઉંડેશને',\n  'બેગલુરૂમાં',\n  'અજીમ',\n  'પ્રેમજી',\n  'યુનિવર્સિટી',\n  'પણ',\n  'ખોલી',\n  'છે',\n  '.'],\n ['આ',\n  'પ્રસંગે',\n  'ખાસ',\n  'મહેમાન',\n  'હતા',\n  'ગુજરાતના',\n  'મુખ્યમંત્રી',\n  'શ્રીમાન',\n  'વિજય',\n  'રૂપાણી',\n  '.'],\n ['તમને',\n  'જણાવી',\n  'દઈએ',\n  'કે',\n  'લૉકડાઉનના',\n  'કારણે',\n  'ઘરોથી',\n  'દૂર',\n  'દેશના',\n  'વિવિધ',\n  'શહેરોમાં',\n  'ફસાયેલા',\n  'પ્રવાસી',\n  'મજૂરો',\n  ',',\n  'પર્યટકો',\n  ',',\n  'છાત્રો',\n  'અને',\n  'અન્ય',\n  'લોકોને',\n  'શરતો',\n  'સાથે',\n  'તેમના',\n  'ઘરે',\n  'જવાની',\n  'અનુમતિ',\n  'કેન્દ્રીય',\n  'ગૃહ',\n  'મંત્રાલયે',\n  'આપી',\n  'છે'],\n ['તેથી', 'ભાજપ', 'સાથે', 'મળીને', 'સાજિશ', 'રચી', 'હતી', '.'],\n ['મજબૂત', 'તફાવતો'],\n ['ફોર્બ્સ',\n  'ધનવાન',\n  'યાદીમાં',\n  'પેટીએમના',\n  'સ્થાપક',\n  'વિજય',\n  'શેખર',\n  'શર્મા',\n  'સૌથી',\n  'યુવા',\n  'ભારતીય'],\n ['હું', 'ભારતમાં', 'મોટો', 'થયો', 'છું', '.'],\n ['પ્રધાનમંત્રી',\n  'રાસમુસેન',\n  'આ',\n  'મુલાકાત',\n  'દરમિયાન',\n  '19',\n  'જાન્યુઆરીનાં',\n  'રોજ',\n  'નવી',\n  'દિલ્હીમાં',\n  'ડેનિશ',\n  'કલ્ચરલ',\n  'ઇન્સ્ટિટ્યૂટ',\n  'અને',\n  'ડેનિશ',\n  'દૂતાવાસનાં',\n  'નવા',\n  'ભવનનું',\n  'ઉદઘાટન',\n  'કરશે',\n  '.'],\n ['નાબાર્ડે',\n  'ગયા',\n  'મહિને',\n  '21',\n  'હજાર',\n  'કરોડ',\n  'રૂપિયાની',\n  'વ્યવસ્થા',\n  'કરી',\n  'હતી',\n  '.'],\n ['આ',\n  'ફિલ્મમાં',\n  'કાદર',\n  'ખાન',\n  'કરિશ્માના',\n  'પિતા',\n  'હતા',\n  'અને',\n  'ગોવિંદા',\n  'એ',\n  'જમાઈનો',\n  'રોલ',\n  'કર્યો',\n  'હતો',\n  '.'],\n ['વિદ્યાર્થીઓ', 'માટે', 'થોડી', 'મહેનત', 'કરવી', 'પડશે', '.'],\n ['રૂપિયાના',\n  'સંદર્ભમાં',\n  'માત્ર',\n  'બે',\n  'સ્ટોક્સ',\n  '(',\n  'બજાજ',\n  'ફાઇનાન્સ',\n  'અને',\n  'HUL',\n  ')',\n  '20',\n  'ટકા',\n  'કરતાં',\n  'વધુ',\n  'વળતર',\n  'આપવામાં',\n  'સફળ',\n  'રહ્યા',\n  'છે',\n  '.'],\n ['તમારા', 'ભવિષ્ય', 'માટેની', 'યોજના'],\n ['ગુજરાતને',\n  'સવા',\n  'બે',\n  'કરોડ',\n  'એલઇડી',\n  'બલ્બ',\n  'પ્રસ્થાપિત',\n  'કરીને',\n  'એલઇડી',\n  'બલ્લના',\n  'મામલામાં',\n  'હિન્દુસ્તાનમાં',\n  'નંબર',\n  '1',\n  'સ્થાન',\n  'હાંસલ',\n  'કર્યું',\n  'છે',\n  '.'],\n ['ફિલ્મનું', 'નિર્દેશન', 'સોનાલી', 'બોસ', 'કરી', 'રહી', 'છે', '.'],\n ['CPIના',\n  'ધારાસભ્ય',\n  'જેમ્સ',\n  'મૈથ્યૂએ',\n  'મુખ્યમંત્રીના',\n  'વિધાનસભા',\n  'રજુ',\n  'કરાયેલા',\n  'પ્રસ્તાવનું',\n  'સમર્થન',\n  'કર્યું',\n  '.'],\n ['રાજસ્થાનના',\n  'મુખ્ય',\n  'મંત્રી',\n  'અશોક',\n  'ગેહલોતે',\n  'પણ',\n  'આ',\n  'દુર્ઘટના',\n  'પર',\n  'શોક',\n  'વ્યક્ત',\n  'કર્યો',\n  'હતો'],\n ['આ',\n  'કાર્યક્રમમાં',\n  'વિન્સે',\n  'અને',\n  'શેન',\n  'મેકમોહન',\n  'એક',\n  'શેરી',\n  'યુદ્ધમાં',\n  'પણ',\n  'હતા',\n  ',',\n  'જ્યારે',\n  'એડ્જ',\n  'અને',\n  'ક્રિસ્ટીનને',\n  'હાર્ડી',\n  'બોયઝ',\n  'અને',\n  'ડબલી',\n  'બોયઝને',\n  'બીજી',\n  'મેજ',\n  ',',\n  'નસિરણી',\n  'અને',\n  'ખુરશીની',\n  'સ્પર્ધામાં',\n  'હરાવીને',\n  'WWF',\n  'ટેગ',\n  'ટીમ',\n  'હરીફાઇમાં',\n  'જીતી',\n  'હતી',\n  '.'],\n ['સંજય',\n  'લીલા',\n  'ભંસાલી',\n  'ફિલ્મ',\n  \"'\",\n  'દેવદાસ',\n  \"'\",\n  'બનાવી',\n  'રહયા',\n  'હતા',\n  '.'],\n ['તેનો', 'ઉપયોગ', 'કરવાની', 'યોજના', '.'],\n ['રાષ્ટ્રપતિ',\n  'દ્વારા',\n  'ખેડૂત',\n  'નેતા',\n  'રામ',\n  'શકલ',\n  ',',\n  'લેખક',\n  'અને',\n  'ભાજપના',\n  'નેતા',\n  'રાકેશ',\n  'સિન્હા',\n  ',',\n  'શિલ્પીકાર',\n  'રઘુનાથ',\n  'મહાપાત્ર',\n  'અને',\n  'ક્લાસિકલ',\n  'ડાંસર',\n  'સોનલ',\n  'માનસિંહનું',\n  'નામ',\n  'શામેલ',\n  'છે',\n  '.'],\n ['બંગાળના',\n  'અખાત',\n  'ઉપરથી',\n  'ફૂંકાતા',\n  'ઉત્તર',\n  '-',\n  'પૂર્વીય',\n  'પવનમાં',\n  'પણ',\n  'હલચલ',\n  'વધતી',\n  'દેખાઇ',\n  'રહી',\n  'છે',\n  '.'],\n ['વિદ્યાર્થીઓ', 'અભ્યાસમાં', 'સારું', 'પ્રદર્શન', 'કરી', 'શકશે', '.'],\n ['આ',\n  'સી2સીનો',\n  'આશય',\n  'વિદ્યાર્થીઓ',\n  'અને',\n  'અન્ય',\n  'સહભાગીઓનું',\n  'કૌશલ્ય',\n  'વધારવાનો',\n  'છે',\n  ',',\n  'જે',\n  'ભારતની',\n  'અંદર',\n  'અને',\n  'બહાર',\n  'રોજગારીની',\n  'તકો',\n  'વધારશે',\n  '.'],\n ['અમેરિકા', 'વિશ્વની', 'એકમાત્ર', 'મહાસત્તા', 'છે', '.'],\n ['ફિલ્મમાં',\n  'અનિલ',\n  'કપૂર',\n  'સાથે',\n  'અર્જૂન',\n  'કપૂર',\n  'ડબલ',\n  'રોલમાં',\n  'છે',\n  '.'],\n ['આ', 'મામલે', 'ભારતે', 'ચીનને', 'પણ', 'પછાડ્યું', 'છે', '.'],\n ['ફિલ્મમાં',\n  'સલમાન',\n  'ખાનની',\n  'ઓપોઝિટમાં',\n  'કેટરીના',\n  'કૈફ',\n  'જોવા',\n  'મળશે',\n  '.'],\n ['દિવસેને', 'દિવસે', 'ડેંગ્યુના', 'કેસો', 'વધી', 'રહ્યા', 'છે', '.'],\n ['ફિલ્મ',\n  'પાકિસ્તાની',\n  'મૂળના',\n  'એક',\n  'બ્રિટિશ',\n  'આતંકવાદી',\n  'અહમદ',\n  'ઉમર',\n  'સઇદ',\n  'શેખના',\n  'જીવન',\n  'પર',\n  'બનાવવામાં',\n  'આવી',\n  'છે',\n  '.'],\n ['આ',\n  'એક',\n  'નોન',\n  'બેન્કિંગ',\n  'નાણાકીય',\n  'કંપની',\n  '(',\n  'એનબીએફસી',\n  ')',\n  'છે',\n  '.'],\n ['આઠ',\n  'કાર્યરત',\n  'ટેકનોલોજી',\n  'કેન્દ્રો',\n  ',',\n  'સૂક્ષ્મ',\n  ',',\n  'નાનાં',\n  'અને',\n  'મધ્યમ',\n  'ઉદ્યોગસાહસો',\n  '(',\n  'એમએસએમઈ',\n  ')',\n  'અંતર્ગત',\n  'સ્વાયત્ત',\n  'સંસ્થાઓ',\n  'કોવિડ',\n  '-',\n  '1',\n  'સામેની',\n  'આ',\n  'લડાઈમાં',\n  'તેમની',\n  'ભૂમિકા',\n  'ભજવી',\n  'રહી',\n  'છે',\n  'અને',\n  'યોગદાન',\n  'આપી',\n  'રહી',\n  'છે',\n  '.'],\n ['શું', 'તારણ', 'ઉપરથી', 'દોરવામાં', 'થવો', 'જોઈએ', '?'],\n ['આ', 'ફિલ્મને', 'સોનાલી', 'બોસે', 'ડિરેક્ટ', 'કરી', 'છે', '.'],\n ['લેટિન',\n  'માધ્યમ',\n  'દ્વારા',\n  'અને',\n  'ઓવિડના',\n  'કામ',\n  'દ્વારા',\n  ',',\n  'ગ્રીક',\n  'પૌરાણિક',\n  'કથાઓએ',\n  'મધ્યયુગ',\n  'અને',\n  'અને',\n  'મધ્યયુગ',\n  'પૂર્વેના',\n  'પ્રાચીન',\n  'કાળના',\n  'ઈટાલીના',\n  'કવિઓ',\n  'જેવા',\n  'કે',\n  'પેટ્રાર્ક',\n  ',',\n  'બોકાસિઓ',\n  'અને',\n  'દાંતેને',\n  'પ્રભાવિત',\n  'કર્યા',\n  '.'],\n ['યેલ',\n  'યુનિવર્સિટીમાંથી',\n  'સાયકોલોજી',\n  'અને',\n  'એશિયન',\n  'સ્ટડીઝમાં',\n  'ગ્રેજ્યુએશન',\n  'કરનારી',\n  'ઈશાને',\n  'સ્માર્ટ',\n  'બિઝનેસવુમનનું',\n  'ટેગ',\n  'મળ્યુ',\n  'છે',\n  '.'],\n ['ફિલ્મનું', 'નિર્દેશન', 'સંજય', 'ગુપ્તા', 'કરી', 'રહ્યા', 'છે', '.'],\n ['ત્યાં',\n  'જ',\n  'સૈફ',\n  'અલી',\n  'ખાન',\n  ',',\n  'તબ્બુ',\n  ',',\n  'નીલમ',\n  'અને',\n  'સોનાલી',\n  'બેન્દ્રેને',\n  'આ',\n  'કેસમાં',\n  'નિર્દોષ',\n  'જાહેર',\n  'કરી',\n  'મુક્ત',\n  'કરવામાં',\n  'આવ્યા',\n  'છે',\n  '.'],\n ['સબરીમાલામાં',\n  'મહિલાઓ',\n  'અંગે',\n  'સુપ્રીમનો',\n  'ચુકાદો',\n  \"'\",\n  'અંતિમ',\n  'શબ્દ',\n  \"'\",\n  'નથીઃ',\n  'જસ્ટિસ',\n  'બોબડે'],\n ['આ',\n  'કોન્ફરન્સ',\n  'દરમિયાન',\n  'રાજ્ય',\n  'કક્ષાનાં',\n  'કેન્દ્રીય',\n  'નાણાં',\n  'અને',\n  'કૉર્પોરેટ',\n  'મંત્રી',\n  'શ્રી',\n  'અનુરાગ',\n  'સિંહ',\n  'ઠાકુર',\n  ',',\n  'નાણાં',\n  'સચિવ',\n  'શ્રી',\n  'એ',\n  'બી',\n  'પાંડે',\n  'અને',\n  'આર્થિક',\n  'બાબતોનાં',\n  'વિભાગનાં',\n  'સચિવ',\n  'શ્રી',\n  'અતાનુ',\n  'ચક્રવર્તી',\n  'પણ',\n  'ઉપસ્થિત',\n  'હતા'],\n ['તેમની', 'બે', 'દીકરીઓ', 'છે', 'રાધ્યા', 'અને', 'મિરાયા', 'તખ્તાની', '.'],\n ['ગેલિક',\n  'રમતોમાં',\n  'ગેલિક',\n  'ફુટબૉલ',\n  ',',\n  'હર્લિંગ',\n  ',',\n  'ગેલિક',\n  'હૅન્ડબૉલ',\n  'અને',\n  'રાઉન્ડર્સનો',\n  'સમાવેશ',\n  'થાય',\n  'છે',\n  '.'],\n ['કર્ણાટકના',\n  'ચિક્કાબાલાપુરથી',\n  'આપણી',\n  'સાથે',\n  'શ્રી',\n  'નવીન',\n  'કુમારજી',\n  'જોડાઈ',\n  'રહ્યા',\n  'છે'],\n ['આ',\n  'મંદિર',\n  'ગુજરાતનાં',\n  'કઠિયાવાડમાં',\n  'આવેલું',\n  'ને',\n  'આરબીસમૃદ્રનાં',\n  'કિનારા',\n  'પરનું',\n  'ભવ્ય',\n  'મંદિર',\n  'છે',\n  '.'],\n ['જમીનની',\n  'અંદર',\n  'ઘણું',\n  'ધન',\n  'દબાયેલું',\n  'છે',\n  'તેમાં',\n  'કોઈ',\n  'શંકાને',\n  'સ્થાન',\n  'નથી',\n  '.',\n  'પરંતુ',\n  'તમામ',\n  'પ્રયાસો',\n  'છતાં',\n  'પણ',\n  'પુરાતત્વવાદીઓને',\n  'એલેક્ઝાન્ડ્રિયામાં',\n  'સંગ્રહાલય',\n  'અને',\n  '\"',\n  'પોમ્પીસ',\n  'પીલ્લર',\n  '\"',\n  'ના',\n  'પડોશની',\n  'બહાર',\n  'વધારે',\n  'કંઈ',\n  'જોવા',\n  'મળ્યું',\n  'નથી',\n  '.'],\n ['\"',\n  'ઈશ્વરની',\n  'તથા',\n  'માણસોની',\n  'સાથે',\n  'તેં',\n  'યુદ્ધ',\n  'કર્યું',\n  'છે',\n  ',',\n  'ને',\n  'જય',\n  'પામ્યો',\n  'છે',\n  '.',\n  '\"',\n  '-',\n  'ઉત',\n  '.'],\n ['તસવીરમાં',\n  'મૃણાલ',\n  'ઠાકુર',\n  ',',\n  'એરિકા',\n  ',',\n  'મનીષ',\n  'મલ્હોત્રા',\n  ',',\n  'કરિશ્મા',\n  'તન્ના',\n  ',',\n  'એક્તા',\n  ',',\n  'હિના',\n  ',',\n  'અનુપ્રિયા',\n  'ગોયેન્કા',\n  ',',\n  'રિદ્ધી',\n  'ડોગરા',\n  ',',\n  'મોહિત',\n  'સહગલ',\n  ',',\n  'ઉર્વશી',\n  'ઢોળકિયા',\n  'અને',\n  'આકાંક્ષા',\n  'રંજન',\n  'કપૂર',\n  'એક',\n  'ફ્રેમમાં',\n  'દેખાયા',\n  'હતા',\n  '.'],\n ['જેમાં', 'હું', 'પણ', 'સામેલ', 'છું', '.'],\n ['ત્યારે', 'નેપાળે', 'તેનો', 'વિરોધ', 'કરયો', 'હતો', '.'],\n ['તરીકે', 'ઓળખાશે', '.'],\n ['\"',\n  'સ્થાન',\n  'કે',\n  'જે',\n  '\"',\n  '\"',\n  'નોર્વિચ',\n  'બસ',\n  'સ્ટેશન',\n  '\"',\n  '\"',\n  'વાંચે',\n  'છે',\n  'તે',\n  'પ્રવેશદ્વાર',\n  '.',\n  '\"'],\n ['ઈનકમ',\n  'ટેક્સ',\n  'ફાઈલ',\n  'કરાવવા',\n  'માટે',\n  'આધારકાર્ડ',\n  'અને',\n  'પાનકાર્ડ',\n  'લિંક',\n  'કરાવેલું',\n  'હોવું',\n  'જરૂરી',\n  'છે',\n  '.'],\n ['કાઝીરંગામાં',\n  'રહેતી',\n  'અન્ય',\n  'પક્ષી',\n  'પ્રજાતિઓમાં',\n  'ભારતીય',\n  'વિશાળ',\n  'દૂધરાજ',\n  '(',\n  'હોર્નબિલ',\n  ')',\n  'અને',\n  'પોલું',\n  'દૂધરાજ',\n  ',',\n  'પ્રાચીન',\n  'વિશ્વ',\n  'બેબ્લર',\n  'જેવાકે',\n  'જેર્ડનનો',\n  'બેબ્લર',\n  'અને',\n  'કળણ',\n  'બેબ્લર',\n  ',',\n  'સુઘરીઓ',\n  'જેવીકે',\n  'સામાન્ય',\n  'બયા',\n  'સુધરી',\n  ',',\n  'ભયાતીત',\n  'ફીનની',\n  'સુઘરી',\n  ',',\n  'થ્રશ',\n  'પક્ષી',\n  'જેવાકે',\n  'હોગસનની',\n  'બુશચેટ',\n  'અને',\n  'પ્રાચીન',\n  'વિશ્વ',\n  'વોર્બલર્સ',\n  'જેવાકે',\n  'બરછટ',\n  'ઘાસપંખી',\n  '.'],\n ['કોવિડ',\n  '-',\n  '19',\n  'અંગે',\n  'આરોગ્ય',\n  'અને',\n  'પરિવાર',\n  'કલ્યાણ',\n  'મંત્રાલયમાંથી',\n  'અપડેટ્સ',\n  '.',\n  'ICMRના',\n  'સેરો',\n  '-',\n  'સર્વેલન્સ',\n  'અભ્યાસમાં',\n  'જાણવા',\n  'મળ્યું',\n  'કે',\n  ',',\n  'સર્વેમાં',\n  'આવરી',\n  'લેવામાં',\n  'આવેલા',\n  'લોકોમાંથી',\n  'માત્ર',\n  '0.73',\n  '%',\n  'લોકો',\n  'કોવિડ',\n  '-',\n  '19થી',\n  'ચેપગ્રસ્ત',\n  'છે'],\n ['આ', 'આસન', 'ધ્યાન', 'અને', 'સમાધિમાં', 'સહાયક', 'છે', '.'],\n ['એવું',\n  'પ્રથમવાર',\n  'બન્યું',\n  'છે',\n  'જ્યારે',\n  'ટીમ',\n  'ઇન્ડિયાએ',\n  'ઓસ્ટ્રેલિયામાં',\n  'સીરિઝની',\n  'પ્રથમ',\n  'ટેસ્ટમાં',\n  'વિજય',\n  'મેળવ્યો',\n  'છે',\n  '.'],\n ['જયારે',\n  'નાગાલેન્ડમાં',\n  'એનડીપીપી',\n  'પ્રમુખ',\n  'નિફીયુ',\n  'રીયોને',\n  'ઉત્તરી',\n  'અંગામી',\n  'દ્વિતીય',\n  'વિધાનસભા',\n  'બેઠક',\n  'પર',\n  'બિનહરીફ',\n  'ચૂંટી',\n  'કાઢવામાં',\n  'આવ્યા',\n  'છે',\n  '.'],\n ['જોકે',\n  ',',\n  'તેમની',\n  'વસ્તી',\n  'અમેરિકા',\n  'જેટલી',\n  'ઝડપથી',\n  'વધી',\n  'રહી',\n  'નથી',\n  ',',\n  'જ્યાં',\n  'પશ્ચિમી',\n  'રાષ્ટ્રોમાં',\n  'સૌથી',\n  'વધુ',\n  'જન્મ',\n  'દર',\n  'અને',\n  'ઊંચા',\n  'દરે',\n  'બીજા',\n  'દેશોમાંથી',\n  'કાયમી',\n  'વસાહતિઓના',\n  'આગમન',\n  'પણ',\n  'પૂરક',\n  'કારણો',\n  'છે',\n  '.'],\n ['આ',\n  'એ',\n  'છે',\n  'જેનો',\n  'અમલીકરણ',\n  ',',\n  'ઉત્તરીય',\n  'ચાઇના',\n  'અને',\n  'ભારત',\n  'નદીઓના',\n  'પુનર્વસન',\n  'માટે',\n  'કરી',\n  'રહ્યા',\n  'છે',\n  '.'],\n ['તેનાથી',\n  'વડાપ્રધાન',\n  'નરેન્દ્ર',\n  'મોદી',\n  'અને',\n  'ભાજપ',\n  'પ્રમુખ',\n  'અમિત',\n  'શાહના',\n  'ચૂંટણી',\n  'જીતવાના',\n  'રેકોર્ડમાં',\n  'વધુ',\n  'એક',\n  'છોગું',\n  'ઉમેરાયું',\n  'છે',\n  '.'],\n ['ભાઈઓ',\n  'અને',\n  'બહેનો',\n  ',',\n  '60',\n  'વર્ષની',\n  'ઉંમર',\n  'પછી',\n  ',',\n  'વડીલોને',\n  'એક',\n  'નિશ્ચિત',\n  'રકમ',\n  'પર',\n  ',',\n  'એક',\n  'નિશ્ચિત',\n  'વ્યાજ',\n  'મળે',\n  ',',\n  'તેમનું',\n  'રોકાણ',\n  'સુરક્ષિત',\n  'રહે',\n  ',',\n  'તેની',\n  'માટે',\n  'અમારી',\n  'સરકારે',\n  'પ્રધાનમંત્રી',\n  'વય',\n  'વંદના',\n  'યોજના',\n  'પણ',\n  'શરુ',\n  'કરી',\n  'હતી',\n  '.'],\n ['વિન્ટર', 'પ્રવાસોમાં'],\n ['તેમજ', 'ડો', 'રચેલે', 'જણાવ્યું', 'હતું', '.'],\n ['બોલિવૂડના',\n  'મહાનાયક',\n  'અમિતાભ',\n  'બચ્ચન',\n  'અન્ય',\n  'સ્ટાર્સની',\n  'સરખામણીએ',\n  'સોશિયલ',\n  'મીડિયા',\n  'પર',\n  'વધુ',\n  'એક્ટિવ',\n  'રહે',\n  'છે',\n  '.'],\n ['માર્ટિન', 'લ્યુથર', 'કિંગની', 'હત્યા'],\n ['હાલમાં',\n  'માત્ર',\n  'સંગઠનોને',\n  'જ',\n  'આતંકવાદી',\n  'જાહેર',\n  'કરી',\n  'શકાય',\n  'છે',\n  '.'],\n ['હજુ',\n  'આ',\n  'મામલે',\n  'સુપ્રીમ',\n  'કોર્ટમાં',\n  'સુનાવણી',\n  'થવાની',\n  'બાકી',\n  'છે',\n  '.'],\n ['રોબર્ટ', 'લંડ'],\n ['[', 'પાન', '૧૪', 'પર', 'ચિત્રની', 'ક્રેડીટ', 'લાઈન', ']'],\n ['ચિનોઈથ', 'કહે', 'છે', '.'],\n ['નાયડુની', 'વાત', 'કેમ', 'નથી', 'માની', 'રહ્યા', 'PM', 'મોદી', '?'],\n ['દિલ્હીના',\n  'સીએમ',\n  'અરવિંદ',\n  'કેજરીવાલને',\n  '9.3',\n  'ટકા',\n  ',',\n  'અખિલેશ',\n  'યાદવને',\n  '7',\n  'ટકા',\n  ',',\n  'મમતા',\n  'બેનરજીને',\n  '4.2',\n  'ટકા',\n  'અને',\n  'માયાવતીને',\n  '3.1',\n  'ટકા',\n  'લોકોએ',\n  'પસંદ',\n  'કર્યા',\n  'છે',\n  '.'],\n ['ડરામણી', 'ફિલ્મ', '.'],\n ['\"',\n  'આ',\n  'પહેલા',\n  'સૈફ',\n  'અલી',\n  'ખાન',\n  'અને',\n  'અજય',\n  'દેવગણ',\n  '\"',\n  '\"',\n  'ઓમકારા',\n  '\"',\n  '\"',\n  'ફિલ્મમાં',\n  'બંને',\n  'સાથે',\n  'કામ',\n  'કરી',\n  'ચુક્યા',\n  'છે',\n  '.',\n  '\"'],\n ['રિપબ્લિકન',\n  'ઉમેદવાર',\n  'ડોનાલ્ડ',\n  'ટ્રમ્પ',\n  'અને',\n  'ડેમોક્રેટ',\n  'ઉમેદવાર',\n  'જો',\n  'બાઈડેન',\n  'વચ્ચે',\n  'બરાબરની',\n  'ટક્કર',\n  'છે',\n  '.'],\n ['નવી',\n  'દિલ્હીઃ',\n  'ભારતીય',\n  'રેલવેએ',\n  'શતાબ્દી',\n  'ટ્રેનને',\n  'નવો',\n  'લૂક',\n  'આપવાની',\n  'તૈયારી',\n  'શરૂ',\n  'કરી',\n  'છે',\n  '.'],\n ['અમેરીકી',\n  'પ્રમુખ',\n  'ડોનાલ્ડ',\n  'ટ્રમ્પે',\n  'રાષ્ટ્રીય',\n  'કટોકટી',\n  'જાહેર',\n  'કરી'],\n ['શું', 'સફળ', 'થશે', 'પાકિસ્તાનની', 'ચાલ', '?'],\n ['વિદેશી',\n  'બાબતો',\n  'પર',\n  'તેમને',\n  'અપડેટ',\n  'રાખવા',\n  'માટે',\n  'બનાવવામાં',\n  'આવેલી',\n  'અન્ય',\n  'સમિતિઓમાં',\n  'આનંદ',\n  'શર્મા',\n  'અને',\n  'શશી',\n  'થરૂર',\n  'જેવા',\n  'નેતાઓ',\n  'શામેલ',\n  'છે',\n  '.',\n  'અને',\n  'ત્રીજી',\n  'સમિતિમાં',\n  'ગુલામ',\n  'નબી',\n  'આઝાદ',\n  'અને',\n  'વીરપ્પા',\n  'મોઇલી',\n  'છે',\n  '.'],\n ['પ્રધાનમંત્રી',\n  'શ્રી',\n  'નરેન્દ્ર',\n  'મોદીએ',\n  'ભૂતપૂર્વ',\n  'પ્રધાનમંત્રી',\n  'શ્રી',\n  'ચૌધરી',\n  'ચરણ',\n  'સિંહને',\n  'તેમની',\n  'જન્મ',\n  'જયંતિ',\n  'પર',\n  'શ્રદ્ધાંજલિ',\n  'આપી',\n  'હતી'],\n ['અથવા',\n  '24/7',\n  'ન્યૂઝ',\n  'ચેનલ્સ',\n  'માટે',\n  'ઘણી',\n  'સમસ્યા',\n  'પેદા',\n  'થશે',\n  '.'],\n ['[', 'પાન', '૬', 'પર', 'ચિત્રનું', 'મથાળું', ']'],\n ['વહી', 'ગયેલી', 'વાર્તા', '.', '.', '.'],\n ['ભારતીય', 'સેનાએ', 'આપેલા', '.'],\n ['આપણી',\n  'જોઇ',\n  'શકીએ',\n  'છીએ',\n  'કે',\n  'ડીડીયુજીવાઇ',\n  'અંતર્ગત',\n  'વીજળી',\n  'આપવામાં',\n  'આવેલા',\n  'ગામોની',\n  'વાર્ષિક',\n  'વુદ્ધિ',\n  'આરજીજીવીવાઇથી',\n  'ખુબ',\n  'જ',\n  'ઓછી',\n  'છે'],\n ['પીઢ', 'અભિનેતા', 'વિજુ', 'ખોટેનું', 'નિધન'],\n ['કોલકાતાની',\n  'મેડિકલ',\n  'કોલેજમાં',\n  'લાગી',\n  'ભીષણ',\n  'આગ',\n  ',',\n  '250',\n  'લોકોને',\n  'સુરક્ષિત',\n  'બહાર',\n  'કઢાયા'],\n ['માનસિક', 'તાણ', 'ઘેરી', 'લેશે', '.'],\n ['ભારત', 'વિશ્ર્વનો', 'સૌથી', 'યુવા', 'દેશ', 'છે', '.'],\n ['બાઇબલ',\n  'એ',\n  'પણ',\n  'બતાવે',\n  'છે',\n  'કે',\n  'યહોવાહ',\n  'સત્યના',\n  'પરમેશ્વર',\n  'છે',\n  '.'],\n ['ત્રણ',\n  'વખતથી',\n  'મુખ્યમંત્રી',\n  'બની',\n  'આવતી',\n  'શીલા',\n  'દીક્ષિત',\n  'રાજકારણના',\n  'નવાનિશાળિયા',\n  'અરવિંદ',\n  'કેજરીવાલના',\n  'સામે',\n  'ભારે',\n  'મતોથી',\n  'હારી',\n  'ગઇ',\n  '.'],\n ['લાહોર',\n  'કિલ્લાના',\n  'મામલા',\n  'માટે',\n  'જવાબદાર',\n  'ધ',\n  'વોલ્ડ',\n  'સિટી',\n  'ઓફ',\n  'લાહોર',\n  'ઓથોરિટીએ',\n  'આ',\n  'ઘટના',\n  'પર',\n  'આશ્ચર્ય',\n  'વ્યક્ત',\n  'કર્યું',\n  'હતું',\n  'અને',\n  'ઇદ',\n  'બાદ',\n  'તુરંત',\n  'આ',\n  'પ્રતિમાને',\n  'ઠીક',\n  'કરવાની',\n  'વાત',\n  'કરી',\n  'હતી',\n  '.'],\n ['આજુબાજુના',\n  'કેટલાક',\n  'ટ્રાફિક',\n  'ચિહ્નો',\n  'સાથે',\n  'લીલા',\n  'પર',\n  'ટ્રાફિક',\n  'લાઇટ'],\n ['મોટી',\n  'ઝાંઝરી',\n  'ભારત',\n  'દેશના',\n  'પશ્ચિમ',\n  'ભાગમાં',\n  'આવેલા',\n  'ગુજરાત',\n  'રાજ્યના',\n  'મધ્ય',\n  'ભાગમાં',\n  'આવેલા',\n  'મહીસાગર',\n  'જિલ્લામાં',\n  'આવેલા',\n  'લુણાવાડા',\n  'તાલુકાનું',\n  'એક',\n  'ગામ',\n  'છે',\n  '.'],\n ['આ',\n  'પ્રશ્નપત્ર',\n  'અરુણાચલ',\n  'પ્રદેશ',\n  ',',\n  'મણિપુર',\n  ',',\n  'મેઘાલય',\n  ',',\n  'મિઝોરમ',\n  ',',\n  'નાગાલેન્ડગ',\n  'અને',\n  'સિક્કીમના',\n  'ઉમેદવારો',\n  'માટે',\n  'ફરજિયાત',\n  'નથી',\n  '.',\n  'પ્રશ્નપત્ર',\n  'ર',\n  '.'],\n ['લેક', 'વાન'],\n ['અને', 'મલયકુમાર', '?'],\n ['લોદ્રાણી',\n  'ગામના',\n  'લોકોનો',\n  'મુખ્ય',\n  'વ્યવસાય',\n  'ખેતી',\n  ',',\n  'ખેતમજૂરી',\n  'તેમજ',\n  'પશુપાલન',\n  'છે',\n  '.'],\n ['શૌચના', 'પાંચ', 'પ્રકાર', 'છે', '.'],\n ['ત્યારે', 'તેઓ', 'પશ્ચિમ', 'બંગાળમાં', 'વિપક્ષના', 'નેતા', 'હતા', '.'],\n ['હજારોની',\n  'સંખ્યામાં',\n  'યાત્રીઓ',\n  'અમદાવાદ',\n  'રેલવે',\n  'સ્ટેશન',\n  'બહાર',\n  'ઉભા',\n  'છે',\n  '.'],\n ['પ્રાંતિય',\n  'ભાષાઓમાં',\n  'ઈ',\n  '-',\n  'કોર્સિસ',\n  'ડેવલોપ',\n  'કરાશે',\n  ',',\n  'વર્ચ્યુઅલ',\n  'લેબ',\n  'બનાવવામાં',\n  'આવશે',\n  'અને',\n  'નેશનલ',\n  'એજ્યુકેશનલ',\n  'ટેક્નોલોજી',\n  'ફોરમ',\n  '(',\n  'એનઈટીએફ',\n  ')',\n  'બનાવવામાં',\n  'આવશે',\n  '.'],\n ['હું', 'આ', 'પરિસ્થિતીથી', 'ખુશ', 'નથી', '.'],\n ['વાતોમાં', 'નરીમન', 'ઈરાનીની', 'પત્ની', 'પણ', 'બેઠી', 'હતી', '.'],\n ['પી',\n  'કે',\n  'મિશ્રાએ',\n  'ચીનમાં',\n  'ફાટી',\n  'નીકળેલા',\n  'કોરોના',\n  'વાયરસ',\n  'પર',\n  'ઉચ્ચ',\n  'સ્તરીય',\n  'બેઠકની',\n  'અધ્યક્ષતા',\n  'કરી',\n  'હતી',\n  '.'],\n ['23',\n  'મે',\n  ',',\n  '2017ના',\n  'રોજ',\n  'રાષ્ટ્રપતિ',\n  'લૉરેન્સ',\n  'સ્કૂલ',\n  ',',\n  'ઉટકમંડ',\n  ',',\n  'નીલગિરીના',\n  '159મા',\n  'સ્થાપના',\n  'દિવસ',\n  'સમારોહના',\n  'અવસર',\n  'પર',\n  'સંબોધન',\n  'કરશે',\n  '.'],\n ['કોંગ્રેસના',\n  'નેતા',\n  'રાહુલ',\n  'ગાંધીની',\n  'મુશ્કેલીમાં',\n  'વધારો',\n  'થયો',\n  'છે',\n  '.'],\n ['કમોલિકાના',\n  'નામથી',\n  'પ્રખ્યાત',\n  'ઉર્વશી',\n  'ધોળકિયાએ',\n  \"'\",\n  'બિગ',\n  'બોસ',\n  'સીઝન',\n  '6',\n  \"'\",\n  'જીતી',\n  '.'],\n ['એટલે', 'સોનિયા', 'ગાંધીએ', 'ના', 'પાડી', 'દીધી', 'છે', '.'],\n ['કુતિયાણા',\n  'ભારત',\n  'દેશના',\n  'પશ્ચિમ',\n  'ભાગમાં',\n  'આવેલા',\n  'ગુજરાત',\n  'રાજ્યના',\n  'પોરબંદર',\n  'જિલ્લાના',\n  'કુતિયાણા',\n  'તાલુકાનું',\n  'નગર',\n  'અને',\n  'તાલુકાનું',\n  'મુખ્ય',\n  'મથક',\n  'છે',\n  '.'],\n ['કિવિ', '-', '100', 'ગ્રામ', '.'],\n ['વિશ્વના',\n  'સૌથી',\n  'શક્તિશાળી',\n  '૧૦',\n  'લોકોમાં',\n  'નરેન્દ્ર',\n  'મોદીનો',\n  'સમાવેશ',\n  ':',\n  'ફોર્બ્સ'],\n ['ફ્રાંસ', ',', '૧૨', '/', '૧'],\n ['નકલી', 'ડિગ્રીધારક', 'દિલ્હીના', 'કાયદા', 'પ્રધાન', 'રિમાન્ડ', 'પર'],\n ['આ',\n  'નામ',\n  'સુયોજીત',\n  'કરી',\n  'શકાશે',\n  'જો',\n  'તમને',\n  'ડેસ્કટોપ',\n  'પર',\n  'નેટવર્ક',\n  'સર્વરો',\n  'ચિહ્ન',\n  'માટે',\n  'વૈવિધ્યપૂર્ણ',\n  'નામ',\n  'જોઈએ',\n  '.'],\n ['નવા', 'શહેરમાં', '.'],\n ['ધોનીને', 'મેન', 'ઓફ', 'ધ', 'મેચ', 'જાહેર', 'કરાયો', 'હતો', '.'],\n ['કાર્યભાર',\n  'સંભાળ્યા',\n  'બાદ',\n  'શ્રી',\n  'રિઝવીએ',\n  'કહ્યું',\n  'કે',\n  'આયોગ',\n  'લઘુમતિઓના',\n  'કલ્યાણ',\n  'અને',\n  'વિકાસ',\n  'માટે',\n  'કાર્ય',\n  'કરશે'],\n ['પ્રધાનમંત્રીએ',\n  'રાષ્ટ્રપતિ',\n  'શેખ',\n  'ખલિફા',\n  'બિન',\n  'ઝાયેદ',\n  'અલ',\n  'નાહ્યાનને',\n  'યુએઇના',\n  'રાષ્ટ્રપતિ',\n  'તરીકે',\n  'ફરી',\n  'ચૂંટાવા',\n  'બદલ',\n  'અભિનંદન',\n  'પાઠવ્યા'],\n ['આ',\n  'યોજના',\n  'માં',\n  'લગભગ',\n  'દેશના',\n  '3',\n  'કરોડ',\n  'નાના',\n  'નાના',\n  'વેપારીઓને',\n  'જોડવામાં',\n  'આવશે',\n  '.'],\n ['ફિલ્મને', 'રાજ', 'મહેતાએ', 'ડાયરેક્ટ', 'કરી', 'છે', '.'],\n ['\"', 'એમ', 'આલમનું', 'કહેવું', 'છે', '.'],\n ['એક', 'લશ્કરી', 'જેટ', 'આકાશમાં', 'ઉડ્ડયન', 'ઓવરહેડ'],\n ['એજન્સી', ',', 'નવી', 'દિલ્હી', ':'],\n ['કૃષ્ણ',\n  'જન્માષ્ટમીના',\n  'દિવસે',\n  'શ્રી',\n  'કૃષ્ણના',\n  'જન્મોત્સવને',\n  'ખુબજ',\n  'ધામ',\n  'ધુમથી',\n  'મનાવવામાં',\n  'આવે',\n  'છે',\n  '.'],\n ['તેમણે',\n  'જણાવ્યું',\n  'હતું',\n  'કે',\n  ',',\n  'છઠ્ઠી',\n  'જાહેરાત',\n  'એ',\n  'છે',\n  'કે',\n  'હવે',\n  'કેન્દ્ર',\n  'સરકારનાં',\n  'તમામ',\n  'જાહેર',\n  'સાહસોને',\n  'જીઇએમમાં',\n  'સામેલ',\n  'થવું',\n  'પડશે',\n  '.'],\n ['ભારતીય',\n  'આર્મીએ',\n  'તેનો',\n  'જડબાતોડ',\n  'જવાબ',\n  'આપતા',\n  'પાકિસ્તાની',\n  'ચોકીઓને',\n  'નિશાન',\n  'બનાવી',\n  '.'],\n ['બંગાળઃ',\n  'હિંસાના',\n  'વિરોધમાં',\n  'BJP',\n  'દ્વારા',\n  'મનાવાઇ',\n  'રહ્યો',\n  'છે',\n  'બ્લેક',\n  'ડે'],\n ['પરંતુ', 'ત્યાં', 'હજુ', 'સુધી', 'અન્ય', 'તફાવત', 'છે', '.'],\n ['ક્રિસ',\n  'ગેઇલ',\n  '13',\n  'બોલમાં',\n  '2',\n  'છગ્ગા',\n  'અને',\n  '3',\n  'ચોગ્ગા',\n  'ફટકારી',\n  '29',\n  'રન',\n  'બનાવી',\n  'આઉટ',\n  'થયો',\n  '.'],\n ['મલિહા',\n  'લોધી',\n  'અને',\n  'પાકિસ્તાની',\n  'પ્રતિનિધિમંડળ',\n  'સંયુક્ત',\n  'રાષ્ટ્રમાં',\n  'સતત',\n  'કાશ્મીર',\n  'મુદ્દો',\n  'ઉઠાવતા',\n  'રહ્યા',\n  'છે',\n  '.'],\n ['હિમાચલ',\n  'પ્રદેશની',\n  'ચારેય',\n  'સીટ',\n  'પર',\n  'બીજેપીએ',\n  'જીત',\n  'હાંસલ',\n  'કરી',\n  'છે',\n  '.'],\n ['દેશમાં',\n  '13',\n  'નવા',\n  'એઈમ્સની',\n  'જાહેરાત',\n  'કરવામાં',\n  'આવી',\n  'છે',\n  'જેમાં',\n  'આઠ',\n  'પર',\n  'કામ',\n  'શરુ',\n  'કરી',\n  'દેવામાં',\n  'આવ્યું',\n  'છે',\n  '.'],\n ['તો', 'જુઓ', 'આ', '10', 'વેબસાઈટ્સ'],\n ['UK',\n  'કોર્ટને',\n  'પણ',\n  'આ',\n  'મામલે',\n  'માહિતીગાર',\n  'કરવામાં',\n  'આવી',\n  'હતી',\n  '.'],\n ['ક્લાસિક', ',', 'ક્લચ', 'અથવા', 'રેટિક્યૂલ', '?'],\n ['મૃતકોમાં', 'મોટાભાગે', 'બિહાર', 'અને', 'બંગાળના', 'લોકો', 'છે', '.'],\n ['આ', 'છે', 'રાજસ્થાન', 'કોંગ્રેસના', 'અધ્યક્ષ', 'સચિન', 'પાયલટ', '.'],\n ['પોલીસે',\n  'સમગ્ર',\n  'કેસની',\n  'ફરિયાદ',\n  'નોંધી',\n  'વધુ',\n  'તપાસ',\n  'હાથ',\n  'ધરી',\n  'છે',\n  '.'],\n ['એબી',\n  '-',\n  'એનએચપીએમ',\n  'તમામ',\n  'લક્ષિત',\n  'લાભાર્થીઓને',\n  'આવરી',\n  'લેવાનાં',\n  'ઉદ્દેશ',\n  'સાથે',\n  'તમામ',\n  'રાજ્યો',\n  '/',\n  'કેન્દ્રશાસિત',\n  'પ્રદેશોમાં',\n  'શરૂ',\n  'કરવામાં',\n  'આવશે',\n  '.'],\n ['હિમા',\n  '400',\n  'મીટર',\n  'ફાઈનલના',\n  'પોતાના',\n  'વર્ગમાં',\n  'બીજા',\n  'નંબરે',\n  'રહી',\n  'અને',\n  'સિલ્વર',\n  'મેડલ',\n  'પોતાના',\n  'નામે',\n  'કર્યો',\n  '.'],\n ['મધ્યપ્રદેશના',\n  'રાજ્યપાલ',\n  'આનંદીબેન',\n  'પટેલે',\n  'તેમને',\n  'હોદ્દા',\n  'અને',\n  'ગુપ્તતતાના',\n  'શપથ',\n  'લેવડાવ્યા',\n  'હતા',\n  '.'],\n ['\"',\n  'ફોર્ડ',\n  'વેસ્ટર્ન',\n  ',',\n  '\"',\n  '\"',\n  'ધ',\n  'ફ્રિસ્કો',\n  'કિડ',\n  '\"',\n  '\"',\n  '(',\n  '1979',\n  ')',\n  'માં',\n  'જીન',\n  'વાઇલ્ડર',\n  'સાથે',\n  'સહઅભિનેતા',\n  'પણ',\n  'હતો',\n  'અને',\n  'તેમાં',\n  'તેણે',\n  'ખુલ્લા',\n  'દિલના',\n  'એક',\n  'બેન્ક',\n  'લૂંટારાની',\n  'ભૂમિકા',\n  'ભજવી',\n  'છે',\n  '.',\n  '\"'],\n ['પાંચમી', 'વિકેટ', 'બેન', 'સ્ટોક્સની', 'પડી', '.'],\n ['આ',\n  'ફિલ્મમાં',\n  'તેણે',\n  'રાજા',\n  'રાવલ',\n  'રતન',\n  'સિંહનું',\n  'પાત્ર',\n  'ભજવ્યું',\n  'હતું',\n  '.'],\n ['ચૂંટણી',\n  'પંચે',\n  'જણાવ્યુ',\n  'કે',\n  'અરુણાચલ',\n  'પ્રદેશ',\n  '-',\n  '1',\n  ',',\n  'બિહાર',\n  '-',\n  '5',\n  ',',\n  'છત્તીસગઢ',\n  '-',\n  '1',\n  ',',\n  'અસમ',\n  '-',\n  '4',\n  ',',\n  'ગુજરાત',\n  '-',\n  '4',\n  ',',\n  'હિમાચલ',\n  'પ્રદેશ',\n  '-',\n  '2',\n  ',',\n  'કર્ણાટક',\n  '-',\n  '15',\n  ',',\n  'કેરળ',\n  '-',\n  '5',\n  ',',\n  'મધ્ય',\n  'પ્રદેશ',\n  '-',\n  '1',\n  ',',\n  'મેઘાલય',\n  '-',\n  '1',\n  ',',\n  'ઓડિશા',\n  '-',\n  '1',\n  ',',\n  'પુડુચેરી',\n  '-',\n  '1',\n  ',',\n  'પંજાબ',\n  '-',\n  '4',\n  ',',\n  'રાજસ્થાન',\n  '-',\n  '2',\n  ',',\n  'સિક્કિમ',\n  '-',\n  '3',\n  ',',\n  'તમિલનાડુ',\n  '-',\n  '2',\n  ',',\n  'તેલંગાના',\n  '-',\n  '1',\n  'અને',\n  'ઉત્તરપ્રદેશ',\n  '-',\n  '11ની',\n  '64',\n  'સીટો',\n  'માટે',\n  'પેટાચૂંટણી',\n  '21',\n  'ઓક્ટોબરે',\n  'થશે',\n  'જ્યારે',\n  'મતોની',\n  'ગણતરી',\n  '24',\n  'ઓક્ટોબરે',\n  'થશે'],\n ['લતા',\n  'મંગેશકરને',\n  'બ્રીચ',\n  'કેન્ડી',\n  'હોસ્પિટલમાં',\n  'દાખલ',\n  'કરવામાં',\n  'આવ્યા',\n  'છે',\n  '.'],\n ['આ', 'ફિલ્મ', 'અભિષેક', 'કપૂર', 'બનાવી', 'રહ્યા', 'છે', '.'],\n ['બંને', 'ઉચ્ચ', 'શિક્ષિત', 'છે', '.'],\n ['કૉન્ગ્રેસને', 'માત્ર', 'બે', 'સીટ', 'મળી', 'છે', '.'],\n ['રામાયણમાં',\n  'ભગવાન',\n  'રામનું',\n  'પાત્ર',\n  'અરુણ',\n  'ગોવિલે',\n  'ભજવ્યું',\n  'હતું',\n  '.'],\n ['ફિલ્મનું', 'નિર્દેશન', 'રાજ', 'મહેતાએ', 'કર્યું', 'છે', '.'],\n ['હાલ', 'વૉલમાર્ટના', 'ભારતમાં', '21', 'સ્ટોર', 'છે', '.'],\n ['પણ', 'મોટી', 'દુર્ઘટના', 'સહેજમાં', 'ટળી', 'હતી', '.'],\n ['પોલોક', 'કોઈ', 'જવાબ', 'હતો', '.'],\n ['>', 'ન્યૂયોર્કમાં', 'ગોળીબારમાં', '4', 'લોકોના', 'મોત', ',', '3', 'ઘાયલ'],\n ['રમત',\n  'ગમત',\n  'એ',\n  'શારીરિક',\n  'સક્ષમતા',\n  ',',\n  'માનસિક',\n  'સતર્કતા',\n  'અને',\n  'વ્યક્તિત્વ',\n  'વિકસાવવાની',\n  'બાબત',\n  'છે',\n  '.',\n  'ભારતને',\n  'અદભૂત',\n  'રમત',\n  'પ્રતિભાના',\n  'આશીર્વાદ',\n  'છે',\n  '.'],\n ['સેમસંગ',\n  'અને',\n  'હ્યુઆવેઇ',\n  'જેવી',\n  'બ્રાન્ડ્સ',\n  'ન્યૂ',\n  'રિવર્સ',\n  'વાયરલેસ',\n  'ચાર્જિંગ',\n  'ટેક્નોલોજીનો',\n  'પ્રયોગ',\n  'કરી',\n  'રહ્યા',\n  'છે',\n  ',',\n  'જે',\n  'ફોનને',\n  'ટર્ન',\n  'કરતાં',\n  'ચાર્જિંગ',\n  'પેડમાં',\n  'ફેરવાય',\n  'જાય',\n  'છે',\n  '.'],\n ['કાનૂની', 'નિયમના', '.'],\n ['લિપલૉક',\n  '/',\n  'ક્લબમાં',\n  'કાર્તિક',\n  'આર્યનને',\n  'લિપલૉક',\n  'કરતી',\n  'જોવા',\n  'મળી',\n  'સારા',\n  'અલી',\n  'ખાન'],\n ['ધાંધલ',\n  'દરમિયાન',\n  'રાજ્યના',\n  'નાણાં',\n  'પ્રધાન',\n  'નીતિન',\n  'પટેલે',\n  'શંકરસિંહ',\n  'વાઘેલા',\n  'સહિત',\n  'કોંગ્રેસના',\n  'વિધાનસભ્યોના',\n  'નામ',\n  'દઈને',\n  'તેમને',\n  'સસ્પેન્ડ',\n  'કરવાનો',\n  'પ્રસ્તાવ',\n  'રજૂ',\n  'કર્યો',\n  'હતો',\n  '.'],\n ['સાથિયામાં',\n  'ચાર',\n  'દિશાઓ',\n  'હોય',\n  'છે',\n  'પૂર્વ',\n  ',',\n  'પશ્ચિમ',\n  ',',\n  'ઉત્તર',\n  'અને',\n  'દક્ષિણ',\n  '.'],\n ['કેનેરા', 'બેન્ક', ',', 'સિન્ડીકેટ', 'બેન્ક'],\n ['રાજ્ય',\n  'કક્ષાના',\n  'કેન્દ્રીય',\n  'જહાજ',\n  'તથા',\n  'રસાયણ',\n  'અને',\n  'ખાતર',\n  'મંત્રી',\n  'શ્રી',\n  'મનસુખ',\n  'માંડવિયાએ',\n  'કહ્યું',\n  'છે',\n  'કે',\n  ',',\n  'કોવિડ',\n  '-',\n  '19',\n  'સ્થિતિમાં',\n  'જન',\n  'ઔષધિ',\n  'કેન્દ્રો',\n  'મહત્ત્વપૂર્ણ',\n  'ભૂમિકા',\n  'ભજવી',\n  'રહ્યાં',\n  'છે',\n  ',',\n  'કારણ',\n  'કે',\n  'દરરોજ',\n  '6000',\n  'જન',\n  'ઔષધિ',\n  'કેન્દ્રોની',\n  'મુલાકાત',\n  'આશરે',\n  '10',\n  'લાખ',\n  'લોકો',\n  'વાજબી',\n  'કિંમતની',\n  'ગુણવત્તાયુક્ત',\n  'દવાઓ',\n  'ખરીદવા',\n  'માટે',\n  'લઈ',\n  'રહ્યાં',\n  'છે',\n  '.'],\n ['આવા', 'લોકો', 'માટે', 'ભારતમાં', 'કોઈ', 'સ્થાન', 'નથી', '.'],\n ['ખાડિયા',\n  '-',\n  'જમાલપુર',\n  'બેઠક',\n  'ઉપર',\n  'ભાજપના',\n  'વર્તમાન',\n  'ધારાસભ્ય',\n  'ભૂષણ',\n  'ભટ્ટને',\n  'કોંગ્રેસના',\n  'ઈમરાન',\n  'ખેડાવાલાએ',\n  'પરાજય',\n  'આપ્યો',\n  'છે',\n  '.'],\n ['તે', 'પછી', 'કેસ', 'સુપ્રીમ', 'કોર્ટમાં', 'પહોંચ્યો', '.'],\n ['અમદાવાદમાં', 'વાઈબ્રન્ટ', 'નવરાત્રી'],\n ['ભાજપ', 'સરકારે', 'આમાંથી', 'રૂ', '.'],\n ['હસ્તીનાપુરના',\n  'માર્ગે',\n  'જતાં',\n  '-',\n  'પાંડુરાજાનો',\n  'મદ્રના',\n  'રાજા',\n  'શલ્યની',\n  'સેના',\n  'સાથે',\n  'સંપર્ક',\n  'થયો',\n  '.'],\n ['સિદ્ધાંત',\n  '8',\n  '.',\n  'આંકડાકીય',\n  'ઢાંચામાં',\n  'સાતત્ય',\n  'અને',\n  'કાર્યક્ષમતા',\n  'મેળવવા',\n  'માટે',\n  'વિવિધ',\n  'દેશોની',\n  'આંકડાકીય',\n  'સંસ્થાઓ',\n  'વચ્ચે',\n  'સંકલન',\n  'જરૂરી',\n  'છે',\n  '.'],\n ['દાદીનું', 'અવસાન', 'થયું', '.'],\n ['આરબીઆઇ', 'દ્વારા', 'નવી', 'રૂા', '.'],\n ['Nextસરકારે',\n  'કહ્યુંઃ',\n  'NIA',\n  'બિલ',\n  'રાષ્ટ્રહિતમાં',\n  ',',\n  'કોંગ્રેસે',\n  'કહ્યું',\n  ',',\n  'ભારતને',\n  \"'\",\n  'પોલીસ',\n  'સ્ટેટ',\n  \"'\",\n  'માં',\n  'ફેરવવાનો',\n  'પ્રયાસ'],\n ['શું', 'છે', 'મોલ્ડિંગ', 'ઓફ', 'રિલીફ', '?'],\n ['તો',\n  'અનુરાગ',\n  'કશ્યપે',\n  'પાયલ',\n  'ઘોષ',\n  'દ્વારા',\n  'લગાવવામાં',\n  'આવેલા',\n  'તમામ',\n  'આક્ષેપોને',\n  'પાયાવિહોણા',\n  'ગણાવ્યા',\n  'છે',\n  '.'],\n ['રવી',\n  '2020',\n  '-',\n  '21ની',\n  'મોસમમાં',\n  'ટેકાના',\n  'ભાવની',\n  'યોજના',\n  '(',\n  'PSS',\n  ')',\n  'અંતર્ગત',\n  'કર્ણાટક',\n  ',',\n  'આંધ્રપ્રદેશ',\n  ',',\n  'તેલંગાણા',\n  ',',\n  'રાજસ્થાન',\n  ',',\n  'મહારાષ્ટ્ર',\n  ',',\n  'ઉત્તરપ્રદેશ',\n  'અને',\n  'હરિયાણામાં',\n  'ખેડૂતો',\n  'પાસેથી',\n  'લઘુતમ',\n  'ટેકાના',\n  'ભાવે',\n  '(',\n  'MSP',\n  ')',\n  'દાળ',\n  'અને',\n  'તેલીબિયાની',\n  'ખરીદીની',\n  'કામગીરી',\n  'ચાલી',\n  'રહી',\n  'છે',\n  '.'],\n ['સૌરવ',\n  'ગાંગુલીની',\n  'આગેવાની',\n  'હેઠળની',\n  'ટીમ',\n  'ઈન્ડિયાએ',\n  'રોમાંચક',\n  'મેચમાં',\n  'ઇંગ્લેન્ડને',\n  'હરાવીને',\n  'ફાઈનલનો',\n  'ખિતાબ',\n  'મેળવ્યો',\n  'હતો',\n  '.'],\n ['આ',\n  'હુમલાની',\n  'જવાબદારી',\n  'લશ્કર',\n  '-',\n  'એ',\n  '-',\n  'તૈયબાએ',\n  'સ્વીકારી',\n  'હતી',\n  '.'],\n ['ડિમાન્ડ', 'અત્યારે', 'ઓછી', 'છે', '.'],\n ['તે',\n  'રેન્જર્સની',\n  'પ્રથમ',\n  'એશિયન',\n  'આંતરરાષ્ટ્રીય',\n  'ફૂટબોલર',\n  'પણ',\n  'છે',\n  '.'],\n ['દણોલી',\n  'ગામના',\n  'લોકોનો',\n  'મુખ્ય',\n  'વ્યવસાય',\n  'ખેતી',\n  ',',\n  'ખેતમજૂરી',\n  'તેમ',\n  'જ',\n  'પશુપાલન',\n  'છે',\n  '.'],\n ['ચંદીગઢઃ',\n  'રાજ્યમાં',\n  '256',\n  'નવા',\n  'દર્દીઓ',\n  'નોંધાયા',\n  'હોવાથી',\n  'રાજ્યમાં',\n  'કોવિડ',\n  '-',\n  '1ના',\n  'કુલ',\n  'નોંધાયેલા',\n  'કેસનો',\n  'આંકડો',\n  '8,856',\n  'થઇ',\n  'ગયો',\n  'છે',\n  'જ્યારે',\n  'હાલમાં',\n  'સક્રિય',\n  'કેસની',\n  'સંખ્યા',\n  '2884',\n  'છે',\n  '.'],\n ['ભારતે', 'ખૂબ', 'મજબૂત', 'શરૂઆત', 'કરી', 'છે', '.'],\n ['પણ', 'ભારતના', 'વીરે', 'હાર', 'નહિ', 'માની', '.'],\n ['સત્યાનો', 'પતિ', 'અજય', 'દુર્ગુણો', 'અને', 'વિકૃતિનો', 'માણસ', 'છે', '.'],\n ['મોટેરા',\n  'સ્ટેડિયમને',\n  'નરેન્દ્ર',\n  'મોદી',\n  'સ્ટેડિયમ',\n  'નામ',\n  'અપાયું',\n  'છે',\n  '.'],\n ['નવી',\n  'દિલ્હીઃ',\n  'ભારતીય',\n  'ઓલિમ્પિક',\n  'સંઘ',\n  '(',\n  'IOA',\n  ')',\n  'દ્વારા',\n  'કોમનવેલ્થ',\n  'કૌભાંડના',\n  'આરોપી',\n  'નેતાઓ',\n  'સુરેશ',\n  'કલમાડી',\n  'અને',\n  'અભય',\n  'ચૌટાલાને',\n  'આજીવન',\n  'અધ્યક્ષ',\n  'બનાવવા',\n  'સામે',\n  'કેન્દ્ર',\n  'સરકારે',\n  'કડક',\n  'વલણ',\n  'અપનાવ્યું',\n  'છે',\n  '.'],\n ['મધ્યપ્રદેશમાં',\n  'આવેલું',\n  'આ',\n  'ઓમકારેશ્વર',\n  'જ્યોતિર્લીંગ',\n  'નર્મદા',\n  'નદીના',\n  'કિનારે',\n  'આવેલું',\n  'છે',\n  '.'],\n ['બ્રિટનમાં',\n  'ભારત',\n  'ત્રીજો',\n  'સૌથી',\n  'મોટો',\n  'રોકાણકાર',\n  'દેશ',\n  'છે',\n  'અને',\n  'ભારતમાં',\n  'જી20',\n  'રોકાણકારમાં',\n  'બ્રિટન',\n  'સૌથી',\n  'મોટો',\n  'રોકાણકાર',\n  'દેશ',\n  'છે',\n  '.'],\n ['પરંતુ',\n  'ગુજરાતના',\n  'પૂર્વ',\n  'આઈપીએસ',\n  'સંજીવ',\n  'ભટ્ટ',\n  'સરકારની',\n  'સામે',\n  'હોવાને',\n  'કારણે',\n  'જામનગર',\n  'કસ્ટોડિયલ',\n  'કેસમાં',\n  'એમને',\n  'આજીવન',\n  'કારાવાસની',\n  'સજા',\n  'થઈ',\n  'છે',\n  '.'],\n ['કાશરપુરા',\n  'કંપો',\n  'ગામના',\n  'લોકોનો',\n  'મુખ્ય',\n  'વ્યવસાય',\n  'ખેતી',\n  ',',\n  'ખેતમજૂરી',\n  'તેમ',\n  'જ',\n  'પશુપાલન',\n  'છે',\n  '.'],\n ['ઉપરાંત',\n  'બ્લૂ',\n  'ડાર્ટે',\n  'આશરે',\n  '14',\n  'એપ્રિલથી',\n  '23',\n  'એપ્રિલ',\n  ',',\n  '2020',\n  'વચ્ચે',\n  'ગુઆંગ્ઝોથી',\n  'આશરે',\n  '86',\n  'ટન',\n  'તબીબી',\n  'પુરવઠાને',\n  'લાવવામાં',\n  'આવ્યો',\n  'છે'],\n ['ચાંદની', 'ચોક', 'ટુ', 'ચાઇના'],\n ['બાઇકોનો', 'એક', 'ટોળું', 'કર્બ', 'પર', 'જતી', 'રહે', 'છે'],\n ['કાલા',\n  'લખીમપુર',\n  'જિલ્લામાં',\n  'ત્રણ',\n  'લાખથી',\n  'વધારે',\n  'લોકો',\n  'પૂરના',\n  'સકંજામાં',\n  'આવી',\n  'ગયા',\n  'છે',\n  '.'],\n ['બાંદ્રા',\n  'પોલિસે',\n  'માંગી',\n  'યશરાજ',\n  'ફિલ્મ્સ',\n  'અને',\n  'સુશાંત',\n  'સિંહ',\n  'રાજપૂત',\n  'વચ્ચેના',\n  'કૉન્ટ્રાક્ટની',\n  'કૉપી'],\n ['આ',\n  'સમજૂતી',\n  'કરાર',\n  'પર',\n  'સિંગાપોરના',\n  'પ્રધાનમંત્રીની',\n  'આગામી',\n  'ચોથીથી',\n  'સાતમી',\n  'ઓક્ટોબર',\n  ',',\n  '2016',\n  'દરમિયાનની',\n  'ભારતની',\n  'મુલાકાત',\n  'વેળાએ',\n  'હસ્તાક્ષર',\n  'કરવામાં',\n  'આવશે',\n  '.'],\n ['ખરીફ',\n  'પાકની',\n  'માર્કેટિંગ',\n  'મોસમ',\n  '2020',\n  '-',\n  '21',\n  'માટે',\n  'લઘુતમ',\n  'ટેકાના',\n  'ભાવ',\n  '(',\n  'MSP',\n  ')',\n  'વધારવામાં',\n  'આવ્યા'],\n ['તેમના', 'સેમ્પલો', 'લીધા', 'છે', '.'],\n ['આ',\n  'ફિલ્મમાં',\n  'સલમાન',\n  'ખાનની',\n  'સાથે',\n  'અભિનેત્રી',\n  'તરીકે',\n  'સોનાક્ષી',\n  'સિંહા',\n  'જ',\n  'છે',\n  '.'],\n ['જેમાં', '5', 'પોલીસ', 'જવાનોનો', 'પણ', 'સમાવેશ', 'થાય', 'છે', '.'],\n ['ન્યુઝીલેન્ડ',\n  'ટીમઃ',\n  'એમજે',\n  'ગુપટીલ',\n  ',',\n  'ટ્રેન્ટ',\n  'બોલ્ટ',\n  ',',\n  'કેન',\n  'વિલિયમસન',\n  ',',\n  'કોલિન',\n  'ડી',\n  'ગ્રાન્ડહોમ',\n  ',',\n  'કોલિન',\n  'મુનરો',\n  ',',\n  'સિંઘ',\n  'સોઢી',\n  'નામનાં',\n  ',',\n  'બેન',\n  'વ્હીલર',\n  ',',\n  'મિસલ',\n  'સેંથર',\n  ',',\n  'ટોમ',\n  'બ્રુસ',\n  ',',\n  'ગ્લેન',\n  'ફિલિપ્સ',\n  ',',\n  'સેઠ',\n  'રાન્સ'],\n ['કેલિફોર્નિયા', 'ઈન્સ્ટિટ્યુટ', 'ઓફ', 'ટેકનોલોજી'],\n ['અશ્વિન',\n  'અને',\n  'પંત',\n  'ઉપરાંત',\n  'ભારતનાં',\n  'મોહમ્મદ',\n  'સિરાજ',\n  'અને',\n  'ટી',\n  '.',\n  'નટરાજન',\n  'પણ',\n  'આ',\n  'પુરસ્કારની',\n  'રેસમાં',\n  'છે',\n  '.'],\n ['કાશ્મીર',\n  'ઘાટીના',\n  '10',\n  'જિલ્લામાં',\n  'કર્ફ્યુ',\n  'લાગાવી',\n  'દેવામાં',\n  'આવ્યું',\n  '.'],\n ['તમારે',\n  'લાંબા',\n  'ગાળામાં',\n  'નિયમિત',\n  'રીતે',\n  'રોકાણ',\n  'કરવાનું',\n  'રહેશે',\n  '.'],\n ['સોનમ',\n  'કપૂર',\n  'પણ',\n  'ફિલ્મના',\n  'દૃશ્યોમાં',\n  'સારા',\n  'લાગી',\n  'રહ્યાં',\n  'છે',\n  '.'],\n ['આ',\n  'મામલાની',\n  'સુનાવણી',\n  'ચીફ',\n  'જસ્ટિસ',\n  'રંજન',\n  'ગોગોઈ',\n  ',',\n  'જસ્ટિસ',\n  'એસએ',\n  'બોબડે',\n  ',',\n  'ડીવાય',\n  'ચંદ્રચૂડ',\n  ',',\n  'અશોક',\n  'ભૂષણ',\n  'અને',\n  'અબ્દુલ',\n  'નઝીરે',\n  'કરી',\n  'હતી',\n  '.'],\n ['આફ્રિદી',\n  ',',\n  'ઈમરાન',\n  'અને',\n  'બાજવા',\n  'જેવા',\n  'જોકર',\n  'ભારત',\n  'અને',\n  'વડાપ્રધાન',\n  'નરેન્દ્ર',\n  'મોદી',\n  'માટે',\n  'ઝેર',\n  'જ',\n  'ઓકી',\n  'શકે',\n  'છે',\n  'જેનાથી',\n  'પાકિસ્તાનના',\n  'લોકોને',\n  'મૂર્ખ',\n  'બનાવતા',\n  'રહે',\n  'પણ',\n  'નિર્ણયના',\n  'દિવસે',\n  'કાશ્મીર',\n  'નહીં',\n  'મળે',\n  '!'],\n ['નિર્માતાઃ', 'ફ્રાઈડે', 'ફિલ્મવર્ક્સ'],\n ['આ',\n  'પરિસ્થિતીને',\n  'થાળે',\n  'પાડવા',\n  'માટે',\n  'પોલીસનો',\n  'કાફલો',\n  'ઘટના',\n  'સ્થળે',\n  'પહોંચ્યો',\n  'હતો',\n  '.'],\n ['પરંતુ',\n  'સૈફ',\n  'અને',\n  'મેં',\n  'આધુનિક',\n  'અભિગમ',\n  'અપનાવ્યો',\n  'હોવાથી',\n  ',',\n  'અમે',\n  'તે',\n  'કરી',\n  'શકતા',\n  'નથી',\n  '.'],\n ['બાબરીયા',\n  'ઇન્સ્ટિટયૂટ',\n  'ઓફ',\n  'ફાર્મસી',\n  'બિટ',\n  'કેમ્પસ',\n  ',',\n  'વડોદરા',\n  '-',\n  'મુંબઇ',\n  'ને',\n  '.',\n  'હા',\n  '.',\n  '૮',\n  ',',\n  'વર્ણામામ',\n  ',',\n  'વડોદરા',\n  '-',\n  '૩૯૧૨૪૦'],\n ['તો',\n  'પછી',\n  ',',\n  'શું',\n  'તમે',\n  'સહમત',\n  'નહિ',\n  'થાવ',\n  'કે',\n  'જુલીયો',\n  'અને',\n  'ક્રિસ્ટીનાના',\n  'કુટુંબ',\n  'સાથે',\n  'જે',\n  'થયું',\n  'એમાં',\n  'ઈશ્વરનો',\n  'હાથ',\n  'જરાય',\n  'ન',\n  'હતો',\n  '?'],\n ['હવે', 'આ', 'ફિલ્મનું', 'પહેલું', 'પોસ્ટર', 'બહાર', 'આવ્યું', 'છે', '.'],\n ['આ',\n  'સાથે',\n  'જ',\n  'વિરાટ',\n  'કોહલી',\n  'એન્ડ',\n  'કંપનીએ',\n  'વર્ષની',\n  'પહેલી',\n  'સીરિઝમાં',\n  '2',\n  '-',\n  '0થી',\n  'જીત',\n  'હાસલ',\n  'કરી',\n  '.'],\n ['CMનાં', 'બેજવાબદારીભર્યા', 'નિવેદન'],\n ['એક', 'લાડવો', 'ગાંધીનગરમાં', 'અને', 'એક', 'લાડવો', 'દિલ્હીમાં'],\n ['તેઓ',\n  'હાર્વર્ડ',\n  'યુનિવર્સિટીના',\n  'વિદ્યાર્થી',\n  'રહી',\n  'ચૂક્યા',\n  'છે',\n  '.'],\n ['\"',\n  'જ્યાં',\n  'આજે',\n  'મોદી',\n  'પેરિસના',\n  'રાષ્ટ્રપતિ',\n  'ફ્રાંસ્વા',\n  'ઓલાંદ',\n  'સાથે',\n  'કરશે',\n  '\"',\n  '\"',\n  'નાવ',\n  'પર',\n  'ચર્ચા',\n  '\"',\n  '\"',\n  '\"'],\n ['પ્રધાનમંત્રી',\n  'શ્રી',\n  'નરેન્દ્ર',\n  'મોદીની',\n  'અધ્યક્ષતામાં',\n  'મંત્રીમંડળે',\n  'બહુનિષયક',\n  'સાયબર',\n  '-',\n  'ફિઝિકલ',\n  'પ્રણાલિઓ',\n  '(',\n  'NM',\n  '-',\n  'ICPS',\n  ')',\n  'ના',\n  'રાષ્ટ્રીય',\n  'મિશનની',\n  'સ્થાપના',\n  'કરવા',\n  'માટે',\n  'મંજૂરી',\n  'આપી',\n  'છે',\n  ',',\n  'તેને',\n  'વિજ્ઞાન',\n  'અને',\n  'ટેકનોલોજી',\n  'વિભાગ',\n  'દ્વારા',\n  'કુલ',\n  'રૂ',\n  '.'],\n ['તેઓ', 'વિવિધ', 'રીતો', 'છે', '.'],\n ['વિસ્તારમાંનું', 'ચક્રવાતweather', 'condition'],\n ['લોકો', 'સખ્ત', 'ઠંડીમાં', 'ઠુંઠવાયા', 'હતા', '.'],\n ['ચીફ',\n  'જસ્ટિસ',\n  'ટીએસ',\n  'ઠાકુર',\n  'અને',\n  'જસ્ટિસ',\n  'ડીવાય',\n  'ચંદ્રચુડ',\n  'તથા',\n  'એલ',\n  'નાગેશ્ર્વર',\n  'રાવની',\n  'બનેલી',\n  'બેંચે',\n  'તમામ',\n  'બીસીસીઆઈના',\n  'ખાતામાં',\n  'ચકાસણી',\n  'કરવા',\n  'એક',\n  'સ્વતંત્ર',\n  'ઓડિટરની',\n  'નિમણૂંક',\n  'કરવા',\n  'લોધા',\n  'પેનલને',\n  'સૂચના',\n  'આપી',\n  'છે',\n  '.'],\n ['ભીમતાલથી',\n  'લગભગ',\n  '૨',\n  'કિમીનાં',\n  'અંતરે',\n  'નળ',\n  '-',\n  'દમયંતી',\n  'નામનું',\n  'નાનું',\n  'કુદરતી',\n  'તળાવ',\n  'આવેલું',\n  'છે',\n  '.'],\n ['ધાંબોલીયા',\n  'ગામના',\n  'લોકોનો',\n  'મુખ્ય',\n  'વ્યવસાય',\n  'ખેતી',\n  ',',\n  'ખેતમજૂરી',\n  'તેમ',\n  'જ',\n  'પશુપાલન',\n  'છે',\n  '.'],\n ['લોન્ગલેન્ગ',\n  'જિલ્લો',\n  'ભારત',\n  'દેશના',\n  'પૂર્વ',\n  'ભાગમાં',\n  'આવેલા',\n  'નાગાલેંડ',\n  'રાજ્યનો',\n  'એક',\n  'જિલ્લો',\n  'છે',\n  '.'],\n ['અત્યાર',\n  'સુધીમાં',\n  '12',\n  'રાજ્યો',\n  '(',\n  'પંજાબ',\n  ',',\n  'ઓડિશા',\n  ',',\n  'ગુજરાત',\n  ',',\n  'રાજસ્થાન',\n  ',',\n  'પશ્ચિમ',\n  'બંગાળ',\n  ',',\n  'મહારાષ્ટ્ર',\n  ',',\n  'હરિયાણા',\n  ',',\n  'આંધ્રપ્રદેશ',\n  ',',\n  'તામિલનાડુ',\n  ',',\n  'ઉત્તરાખંડ',\n  ',',\n  'ઉત્તરપ્રદેશ',\n  'અને',\n  'ઝારખંડ',\n  ')',\n  'ના',\n  'FPOએ',\n  'વેપારમાં',\n  'ભાગ',\n  'લીધો',\n  'છે'],\n ['ઉનાળામાં',\n  ',',\n  'ફોલ્સ',\n  'ખાડીનું',\n  'પાણી',\n  'સરેરાશ',\n  'થોડુંક',\n  ',',\n  'સમાન',\n  'ઊંચાઇ',\n  'સાથે',\n  '.'],\n ['આ',\n  'સિવાય',\n  'રાષ્ટ્રપતિ',\n  'કોવિંદ',\n  ',',\n  'ઉપરાષ્ટ્રપતિ',\n  'વેંકૈયા',\n  'નાયડૂ',\n  ',',\n  'વડાપ્રધાન',\n  'મોદી',\n  ',',\n  'યુપીએ',\n  'અધ્યક્ષ',\n  'સોનિયા',\n  'ગાંધી',\n  ',',\n  'પૂર્વ',\n  'વડાપ્રધાન',\n  'મનમોહન',\n  'સિંહ',\n  'સહિત',\n  'ઘણાં',\n  'નેતાઓ',\n  'શ્રદ્ધાંજલિ',\n  'આપવા',\n  'પહોંચ્યા',\n  'હતા',\n  '.'],\n ['છેલ્લા',\n  'થોડા',\n  'મહિનાથી',\n  'ક્રૂડની',\n  'કિંમતમાં',\n  'સતત',\n  'વધારો',\n  'જોવા',\n  'મળી',\n  'રહ્યો',\n  'છે',\n  '.'],\n ['QNam', 'નેટવર્ક', 'પ્લગઇન'],\n ['આ',\n  'અભ્યાસ',\n  'અમેરિકન',\n  'કોલેજ',\n  'ઓફ',\n  'કાર્ડિયોલોજીમાં',\n  'પ્રકાશિત',\n  'થયો',\n  'છે',\n  '.'],\n ['ત્યારબાદ',\n  'તેને',\n  'સારવાર',\n  'માટે',\n  'સ્મીમેરમાં',\n  'ખસેડાતા',\n  'તબીબોેએ',\n  'મૃત',\n  'ઘોષિત',\n  'કર્યો',\n  'હતો',\n  '.'],\n ['છોડની',\n  'જાળવણીનવેમ્બર',\n  '2020માં',\n  ',',\n  'વર્ગીઝે',\n  '10',\n  'ટાવરમાં',\n  'બટાટા',\n  ',',\n  'ગાજર',\n  ',',\n  'ટામેટાં',\n  ',',\n  'કેપ્સિકમ',\n  'અને',\n  'કેટલીક',\n  'વધુ',\n  'શાકભાજી',\n  'લગાવી',\n  'હતી',\n  '.'],\n ['મુંબઈઃ',\n  'બોલિવૂડ',\n  'અભિનેતા',\n  'આમિર',\n  'ખાનની',\n  'પુત્રી',\n  'ઈરા',\n  'ખાન',\n  'લાઈમલાઈટથી',\n  'દૂર',\n  'વધારે',\n  'રહેવાનું',\n  'પસંદ',\n  'કરે',\n  'છે',\n  '.'],\n ['ટ્રમ્પનો',\n  'અંતિમ',\n  'લક્ષ્યાંક',\n  'લોકશાહીનો',\n  'ખાતમો',\n  'બોલાવવાનો',\n  'છે',\n  ':',\n  'ક્લિન્ટન'],\n ['હવે',\n  'આપણે',\n  'આ',\n  'વિશિષ્ટ',\n  'માહિતી',\n  'નવા',\n  'નમૂના',\n  'કદ',\n  'અને',\n  'ફંડનુ',\n  'મુલ્ય',\n  'અને',\n  '0s',\n  'ની',\n  'સંખ્યાનો',\n  'ઉપયોગ',\n  'કરીને',\n  'આપણા',\n  'મેટ્રિક્સ',\n  ',',\n  'માન્યતા',\n  'વર્ગીકરણ',\n  'મેટ્રિક્સને',\n  'સમાયોજિત',\n  'કરી',\n  'શકીએ',\n  'છીએ',\n  '.'],\n ['બચાવ',\n  'અને',\n  'રાહત',\n  'કામગીરીના',\n  'સુપરવિઝન',\n  'માટે',\n  'ઉપમુખ્યમંત્રી',\n  'એન',\n  '.',\n  'સી',\n  '.',\n  'રાજપ્પા',\n  'પૂર્વી',\n  'ગોદાવરી',\n  'જિલ્લાના',\n  'ભૈરવાપાલમ',\n  'ગામમાં',\n  'કેંપ',\n  'કરી',\n  'રહ્યા',\n  'છે',\n  '.'],\n ['હવે',\n  'તેની',\n  'જગ્યાઓ',\n  'જોનપુરના',\n  'સાંસદ',\n  'શ્યામ',\n  'સિંહ',\n  'યાદવને',\n  'સંસદીય',\n  'દળનો',\n  'નેતા',\n  'નિયુક્ત',\n  'કરવમાં',\n  'આવ્યા',\n  'છે',\n  '.'],\n ['કશું', 'ઉઘડતું', 'નહોતું', '.'],\n ['પ્રેષિત',\n  'પાઊલે',\n  'ખ્રિસ્તીઓને',\n  'આ',\n  'ભય',\n  'વિષે',\n  'જણાવતા',\n  'લખ્યુંઃ',\n  '\"',\n  'પણ',\n  'મને',\n  'ભય',\n  'લાગે',\n  'છે',\n  ',',\n  'રખેને',\n  'જેમ',\n  'સર્પે',\n  'પોતાના',\n  'કપટથી',\n  'હવાને',\n  'ભુલાવી',\n  ',',\n  'તેમ',\n  'ખ્રિસ્તમાં',\n  'જે',\n  'નિખાલસપણું',\n  'તથા',\n  'પવિત્રતા',\n  'છે',\n  'તે',\n  'તજીને',\n  'તમારાં',\n  'મન',\n  'હરકોઈ',\n  'રીતે',\n  'ભ્રષ્ટ',\n  'થાય',\n  '.',\n  '\"',\n  '-',\n  '૨',\n  'કોરીંથી',\n  '૧૧ઃ',\n  '૩',\n  ',',\n  '૧૪',\n  '.'],\n ['બૃહન્નમુંબઈ',\n  'મહાપાલિકા',\n  '(',\n  'BMC',\n  ')',\n  'ના',\n  'ચીફ',\n  'કમિશનર',\n  'પ્રવીણ',\n  'પરદેસીની',\n  'બદલી',\n  'કરવામાં',\n  'આવી',\n  'છે',\n  '.'],\n ['IFFIની',\n  'આ',\n  'ઇવેન્ટમાં',\n  'કેન્દ્રીય',\n  'પ્રધાન',\n  'પ્રકાશ',\n  'જાવડેકર',\n  'પણ',\n  'હાજર',\n  'હતા',\n  '.'],\n ['પોતાને', 'કોરડા', 'મારીને', 'પરમેશ્વરને', 'ખુશ', 'કરવા', 'માંગતા', 'લોકો'],\n ['આ',\n  'ઇવેન્ટમાં',\n  'સલમાનની',\n  'બહેન',\n  'અર્પિતા',\n  'ખાન',\n  'તેના',\n  'પુત્ર',\n  'આહિલ',\n  'સાથે',\n  'પહોંચી',\n  'હતી',\n  '.'],\n ['સમયથી', 'વધારે', 'કિંમતી', 'શું', 'હોઈ', 'શકે', '?'],\n ['ન્યાયાધીશ',\n  'સંજય',\n  'કારોલ',\n  'પટના',\n  'વડી',\n  'અદાલતનાં',\n  'મુખ્ય',\n  'ન્યાયાધીશ',\n  'તરીકે',\n  'શપથ',\n  'ગ્રહણ',\n  'કર્યા'],\n ['દીવ',\n  'તાલુકો',\n  'ભારત',\n  'દેશના',\n  'પશ્ચિમ',\n  'ભાગમાં',\n  'આવેલા',\n  'કેન્દ્રશાસિત',\n  'પ્રદેશ',\n  'દમણ',\n  'અને',\n  'દીવમાં',\n  'આવેલા',\n  'દીવ',\n  'જિલ્લાનો',\n  'એકમાત્ર',\n  'તાલુકો',\n  'છે',\n  '.'],\n ['શ્વેતાએ',\n  'પોતાના',\n  'અનેક',\n  'ફોટોઝ',\n  'ઈન્સ્ટાગ્રામ',\n  'પર',\n  'શૅર',\n  'કર્યા',\n  'છે',\n  '.'],\n ['હજુ', 'સુધી', 'કોઇની', 'પણ', 'ધરપકડ', 'કરાઈ', 'નથી', '.'],\n ['આ',\n  'ફિલ્મને',\n  'ચિરંજીવીના',\n  'દીકરા',\n  'રામ',\n  'ચરણે',\n  'પ્રોડ્યુસ',\n  'કરી',\n  'છે',\n  ',',\n  'અને',\n  'સુરેન્દ્દ',\n  'રેડ્ડીએ',\n  'ડિરેક્ટ',\n  'કરી',\n  'છે',\n  '.'],\n ['દક્ષિણ',\n  'ગુજરાત',\n  ',',\n  'સૌરાષ્ટ્ર',\n  ',',\n  'મધ્ય',\n  'ગુજરાતમાં',\n  'વરસેલા',\n  'વરસાદથી',\n  'ખેડૂતોમાં',\n  'ખુશીની',\n  'લહેર',\n  'જોવા',\n  'મળી',\n  'છે',\n  '.'],\n ['જુગલ',\n  'હંસરાજ',\n  '(',\n  'ડાબે',\n  ')',\n  'અને',\n  'ઊર્મિલા',\n  'માતોંડકર',\n  '(',\n  'જમણે',\n  ')',\n  'માસૂમ',\n  'ફિલ્મની',\n  'તસવીર',\n  '.'],\n ['આ',\n  'ઉપરાંત',\n  'ઇજાગ્રસ્ત',\n  'અન્ય',\n  'બે',\n  'જવાનોને',\n  'સારવાર',\n  'માટે',\n  'સ્થાનિક',\n  'હોસ્પિટલમાં',\n  'દાખલ',\n  'કરાયા',\n  'છે',\n  '.'],\n ['આરજેડી', 'બિહારની', 'સૌથી', 'મોટી', 'પાર્ટી', 'બની'],\n ['(',\n  'ખ',\n  ')',\n  'ઈશ્વરનું',\n  'કામ',\n  'પૂરું',\n  'કરવા',\n  'આપણને',\n  'શું',\n  'મદદ',\n  'કરશે',\n  '?'],\n ['કેટલી', 'ડિગ્રી', '?'],\n ['ત્યારબાદ',\n  'ભીડને',\n  'વિખેરવા',\n  'માટે',\n  'પબ્લિક',\n  'ઑર્ડર',\n  'પોલિસિંગ',\n  'યૂનિટને',\n  'બોલાવવામાં',\n  'આવી',\n  '.'],\n ['ભારતમાં',\n  'લોન્ચ',\n  'થયો',\n  'Oppo',\n  'F3',\n  'દીપિકા',\n  'પાદૂકોણ',\n  'લિમિટેડ',\n  'એડિશન'],\n ['ભારતમાં',\n  '47',\n  'હજારથી',\n  'વધુ',\n  'પ્લાન્ટ',\n  'સ્પેસિસ',\n  'જોવા',\n  'મળે',\n  'છે',\n  'અને',\n  'જાનવરોની',\n  '89',\n  'હજારથી',\n  'વધુ',\n  'પ્રજાતીઓ',\n  'છે',\n  '.'],\n ['બોલિવૂડના',\n  'સક્સેસફુલ',\n  'એક્ટર્સના',\n  'લિસ્ટમાં',\n  'વરુણ',\n  'ધવન',\n  'સામેલ',\n  'છે',\n  '.'],\n ['છાત્રો', 'ધો', '.'],\n ['કમિશનના',\n  'ચેરમેન',\n  'વિનય',\n  'કુમાર',\n  'સક્સેના',\n  'તરફથી',\n  'વાણિજ્ય',\n  'અને',\n  'ઉદ્યોગ',\n  'મંત્રી',\n  'પીયૂષ',\n  'ગોયલને',\n  'ઝંડાના',\n  'વેચાણમાં',\n  'થયેલા',\n  'ઘટાડાની',\n  'જાણકારી',\n  'આપવામાં',\n  'આવી',\n  'છે',\n  '.'],\n ['આર્થિક', 'સ્થિતિ', 'સુદૃઢ', 'થશે', '.'],\n ['સંસદીય',\n  'બોર્ડે',\n  'જે',\n  '.',\n  'પી',\n  '.',\n  'નડ્ડાને',\n  'કાર્યકારી',\n  'અધ્યક્ષ',\n  'બનાવવાનું',\n  'નક્કી',\n  'કર્યું',\n  'છે',\n  '.'],\n ['લંડન', ',', 'યુકે', 'લંડન', ',', 'યુકે'],\n ['આ',\n  'ફિલ્મમાં',\n  'તેમની',\n  'સાથે',\n  'શાહરૂખ',\n  'ખાન',\n  'અને',\n  'અમરીશ',\n  'પુરી',\n  'પણ',\n  'હતા',\n  '.'],\n ['આપણે',\n  'આપણા',\n  'દેશોમાં',\n  'શાંતિપૂર્ણ',\n  'સંબંધો',\n  ',',\n  'પરસ્પર',\n  'સમજ',\n  'અને',\n  'સહયોગને',\n  'પ્રોત્સાહન',\n  'આપવું',\n  'પડશે',\n  '.'],\n ['ટ્રમ્પે',\n  'કહ્યું',\n  ':',\n  'ભારત',\n  '-',\n  'પાકિસ્તાનની',\n  'સ્થિતિ',\n  'હવે',\n  'થોડીક',\n  'ઓછી',\n  'તંગદિલીભરી',\n  '.',\n  'મધ્યસ્થીની',\n  'ઓફર',\n  'ફરી',\n  'દોહરાવી'],\n ['ઓનલાઇન', 'પોર્ટફોલિયો', 'બનાવો', '.'],\n ['શ્રી',\n  'મોદીએ',\n  'જણાવ્યું',\n  'હતું',\n  'કે',\n  ',',\n  'ભારત',\n  'સરકાર',\n  'કોલકાતામાં',\n  'ઇન્ડિયન',\n  'ગવર્મેન્ટ',\n  'મિન્ટ',\n  'ખાતે',\n  'કોઇનેજ',\n  'એન્ડ',\n  'કોમર્સનું',\n  'મ્યુઝિયમ',\n  'સ્થાપિત',\n  'કરવાનો',\n  'વિચાર',\n  'કરી',\n  'રહી',\n  'છે',\n  '.'],\n ['NIIO',\n  'એવું',\n  'સમર્પિત',\n  'માળખું',\n  'આપે',\n  'છે',\n  'જેની',\n  'મદદથી',\n  'છેવટના',\n  'વપરાશકર્તા',\n  'આત્મનિર્ભર',\n  'ભારતની',\n  'દૂરંદેશીને',\n  'ધ્યાનમાં',\n  'રાખીને',\n  'સંરક્ષણ',\n  'ક્ષેત્રે',\n  'આત્મનિર્ભરતા',\n  'માટે',\n  'નાવીન્યતા',\n  'અને',\n  'સ્વદેશીકરણને',\n  'આગળ',\n  'ધપાવવા',\n  'શૈક્ષણિક',\n  'સંસ્થાઓ',\n  'અને',\n  'ઉદ્યોગો',\n  'સાથે',\n  'વાર્તાલાપ',\n  'કરી',\n  'શકે',\n  'છે',\n  '.'],\n ['શું', 'આ', 'પ્રયત્નો', 'સફળ', 'થતા', 'રહેશે', '?'],\n ['યુપીએ',\n  'સરકારે',\n  'વાયુસેનાને',\n  '126',\n  'વિમાન',\n  'ખરીદવાની',\n  'મંજૂરી',\n  'આપી',\n  'હતી',\n  '.'],\n ['તેઓ', 'માત્ર', 'પર', 'કામ', 'કરવાની', 'જરૂર', 'છે', '.'],\n ['હોકી', 'વર્લ્ડ', 'કપમાં', 'ભારતનો', 'દેખાવ'],\n ['પ્રિયંકાએ',\n  'પોતાના',\n  'લુકને',\n  'સિલ્વર',\n  'પંપ્સ',\n  'અને',\n  'પર્પલ',\n  'ડ્રોપ',\n  'ઇયરિંગ્સ',\n  ',',\n  'મલ્ટી',\n  'લેયર',\n  'પેંડેંટથી',\n  'કમ્પ્લીટ',\n  'કર્યો',\n  '.'],\n ['અમારું',\n  'પ્લોટ',\n  'ઘણા',\n  'બધા',\n  'પોઇન્ટ્સથી',\n  'ભરવામાં',\n  'આવશે',\n  'કારણ',\n  'કે',\n  'આપણે',\n  'કદાચ',\n  '3000,4000,5000',\n  'અથવા',\n  '10000',\n  'પોઇન્ટ્સ',\n  'સાથે',\n  'કામ',\n  'કરી',\n  'રહ્યા',\n  'હોઇએ',\n  '.'],\n ['પાકિસ્તાનનાં',\n  'પ્રથમ',\n  'મહિલા',\n  'અવકાશયાત્રીએ',\n  \"'\",\n  'ચંદ્રયાન',\n  '-',\n  '2',\n  \"'\",\n  'મિશન',\n  'માટે',\n  '.'],\n ['આ',\n  'ફિલ્મને',\n  'રોહિત',\n  'શેટ્ટી',\n  'અને',\n  'કરણ',\n  'જોહર',\n  'પ્રોડ્યૂસ',\n  'કરી',\n  'રહ્યાં',\n  'છે',\n  '.'],\n ['ભારતની', 'ચિંતા'],\n ['તે', 'સાચો', 'પ્રેમ', '.'],\n ['રાષ્ટ્રપતિ',\n  'રામનાથ',\n  'કોવિંદ',\n  'લોન્ચિંગ',\n  'જોવા',\n  'માટે',\n  'શ્રીહરિકોટામાં',\n  'જ',\n  'હતા',\n  '.'],\n ['અમેરિકાની',\n  'પ્રખ્યાત',\n  'સિંગર',\n  'ટેલર',\n  'સ્વિફ્ટ',\n  'પોતાના',\n  'સોંગ્સને',\n  'લઈને',\n  'દુનિયાભરમાં',\n  'ફેમશ',\n  'છે',\n  '.'],\n ['રાજ્યસભામાં', 'હજી', 'આ', 'ખરડો', 'પસાર', 'થવાનો', 'બાકી', 'છે', '.'],\n ['શૉનું', 'કામ', 'ચાલવું', 'જોઈએ', '.'],\n ['કોફી', 'વિથ', 'કરણ'],\n ['તેમ',\n  'સંસદીય',\n  'મંત્રી',\n  'મુખ્તાર',\n  'અબ્બાસ',\n  'નકવીએ',\n  'જણાવ્યું',\n  'હતું',\n  '.'],\n ['લોકો', 'મૂર્ખ', 'નથી', '.'],\n ['અહીના',\n  'ક્રાઉન',\n  'પ્રિન્સ',\n  'મોહમ્મદ',\n  'બિન',\n  'સલમાન',\n  'કંપનીની',\n  'વેલ્યુએશ',\n  '2',\n  'ટ્રિલિયન',\n  'ડોલર',\n  'ગણે',\n  'છે',\n  '.'],\n ['તેઓ',\n  'અમેરિકન',\n  'પોલિટિકલ',\n  'અફેર્સ',\n  'મિનિસ્ટર',\n  'ડેવિડ',\n  'હેલ',\n  'અને',\n  'આર્મ્સ',\n  'કંટ્રોલ',\n  'એન્ડ',\n  'ઈન્ટરનેશનલ',\n  'સિક્યુરિટીના',\n  'અંડર',\n  'સેક્રેટરી',\n  'ઓફ',\n  'સ્ટેટ',\n  'એન્ડ્રિયા',\n  'થોમ્પ્સનને',\n  'મળ્યા',\n  'હતા',\n  '.'],\n ['સોનમ', 'કપૂર', 'બોલિવૂડમાં', 'બબલી', 'ગર્લ', 'તરીકે', 'જાણીતી', 'છે', '.'],\n ['ઇસરોને',\n  'તેની',\n  'શાનદાર',\n  'સફળતા',\n  'બદલ',\n  'વડાપ્રધાન',\n  'નરેન્દ્ર',\n  'મોદીએ',\n  'પણ',\n  'શુભેચ્છા',\n  'પાઠવી',\n  'છે',\n  '.'],\n ['કર્ણાટકનાં',\n  'પુર્વમુખ્યમંત્રી',\n  'સિદ્ધરમૈયા',\n  'રાષ્ટ્રીય',\n  'રાજધાની',\n  'દિલ્હીમાં',\n  'હતા',\n  'અને',\n  'તેમણે',\n  'મંત્રીપદનાં',\n  'દેવાદારો',\n  'સાથે',\n  'વાતચીત',\n  'કરી',\n  'હતી',\n  '.'],\n ['હું',\n  'ભારતમાં',\n  'કામ',\n  'કરું',\n  'છું',\n  ',',\n  'જેણે',\n  'અવિશ્વસનીય',\n  'પ્રગતિ',\n  'કરી',\n  'છે',\n  'બધા',\n  'માટે',\n  'પ્રારંભિક',\n  'શિક્ષણ',\n  'લાવવામાં',\n  '.'],\n ['તેમને', 'શામાંથી', 'મદદ', 'મળી', '?'],\n ['રેલવે',\n  'મંત્રાલય',\n  '(',\n  'એમઓઆર',\n  ')',\n  'અને',\n  'આર્થિક',\n  'બાબતો',\n  'અને',\n  'ઊર્જા',\n  'માટેનું',\n  'મંત્રાલય'],\n ['જીજાજી',\n  'આયુષની',\n  'ફિલ્મમાં',\n  'સાળા',\n  'સલમાન',\n  'ખાનનો',\n  'પણ',\n  'ખાસ',\n  'રોલ',\n  'છે',\n  '.'],\n ['કેટલીક',\n  'કંપનીઓ',\n  'ચીન',\n  ',',\n  'અમેરિકા',\n  ',',\n  'સિંગાપુર',\n  'અને',\n  'યૂએઈમાં',\n  'પણ',\n  'છે',\n  '.'],\n ['આ',\n  'ટ્રેન',\n  'અમદાવાદથી',\n  'નવી',\n  'દિલ્હી',\n  'વાયા',\n  'પાલનપુર',\n  ',',\n  'આબુરોડ',\n  ',',\n  'જયપુર',\n  'થઈને',\n  'જશે',\n  '.'],\n ['\"', '\"', '\"', 'જીવન', 'સારું', 'છે', '.', '\"', '\"', '\"'],\n ['ઇજાગ્રસ્તોને',\n  'તાત્કાલિક',\n  'દાહોદ',\n  'સરકારી',\n  'દવાખાને',\n  'ખસેડવામાં',\n  'આવ્યા',\n  'હતા',\n  '.'],\n ['કોંગ્રેસ', 'જૂઠા', 'વચનો', 'નથી', 'આપતી', '.', '.', '.'],\n ['રોહિત',\n  'શર્મા',\n  'અને',\n  'લોકેશ',\n  'રાહુલે',\n  'સારી',\n  'શરૂઆત',\n  'કરી',\n  'હતી',\n  '.'],\n ['3', 'ઓપન', 'સ્ટોલ્સ', 'સાથે', 'અસ્પષ્ટપણે', 'ફેક્ટરી', 'બાથરૂમ', '.'],\n ['સાંડ',\n  'કી',\n  'આંખ',\n  'ઉત્તર',\n  'પ્રદેશની',\n  'જૌહડી',\n  'ગામની',\n  'વુદ્ધ',\n  'શાર્પશૂટર',\n  'પ્રકાશી',\n  'તોમર',\n  'અને',\n  'ચંદ્રો',\n  'તોમરની',\n  'રિયલ',\n  'લાઈફની',\n  'સ્ટોરી',\n  'બેસ્ટ',\n  'છે',\n  '.'],\n ['અમેરિકા',\n  ',',\n  'રશિયા',\n  ',',\n  'ફ્રાન્સ',\n  ',',\n  'ચીન',\n  'અને',\n  'બ્રિટન',\n  'બાદ',\n  'ઈન્ટરકોન્ટિનેન્ટલ',\n  'બેલાસ્ટિક',\n  'મિસાઈલ',\n  'બનાવનારો',\n  'ભારત',\n  'છઠ્ઠો',\n  'દેશ',\n  'બની',\n  'ગયો',\n  'છે',\n  '.'],\n ['આ',\n  'મહીને',\n  'રજૂ',\n  'થયેલ',\n  'સીપીડબલ્યૂડીની',\n  'વાર્ષિક',\n  'રિપોર્ટ',\n  'અનુસાર',\n  'સરકારે',\n  'ભારત',\n  '-',\n  'ચીન',\n  'સીમા',\n  'પર',\n  'રણનૈતિક',\n  'ઉદ્દેશ્યથી',\n  'ખૂબ',\n  'જ',\n  'મહત્વપૂર્ણ',\n  '44',\n  'માર્ગોનાં',\n  'નિર્માણનો',\n  'આદેશ',\n  'આપ્યો',\n  'છે',\n  '.'],\n ['રાજસ્થાનઃ',\n  'આજે',\n  'બપોરે',\n  '2',\n  'વાગ્યા',\n  'સુધીમાં',\n  'રાજ્યમાં',\n  'કોવિડ',\n  '-',\n  '19ના',\n  'વધુ',\n  '173',\n  'કેસ',\n  'પોઝિટીવ',\n  'હોવાની',\n  'પુષ્ટિ',\n  'થઇ',\n  'છે',\n  'જેથી',\n  'રાજ્યમાં',\n  'કુલ',\n  'પોઝિટીવ',\n  'કેસોનો',\n  'આંકડો',\n  'વધીને',\n  '5375',\n  'થયો',\n  'છે',\n  '.'],\n ['અકસ્માતને',\n  'પગલે',\n  'કાર',\n  'ચાલકનુ',\n  'ઘટના',\n  'સ્થળેજ',\n  'મોત',\n  'નિપજ્યુ',\n  'હતું',\n  '.'],\n ['જેએનપીટી',\n  'બંદર',\n  'અને',\n  'મુન્દ્રા',\n  'દેશનાં',\n  'બે',\n  'સૌથી',\n  'મોટા',\n  'કન્ટેનર',\n  'મેઇન્ટેનન્સ',\n  '(',\n  'ફક્ત',\n  'મધ્યમ',\n  'કદનાં',\n  'કન્ટેનર',\n  'જહાજ',\n  'માટે',\n  ')',\n  'કરતાં',\n  'બંદર',\n  'છે',\n  '.',\n  'એમની',\n  'ડ્રાફ્ટ',\n  'અનુક્રમે',\n  '15',\n  'એમ',\n  'અને',\n  '16',\n  'એમ',\n  'છે',\n  ',',\n  'ત્યારે',\n  'દુનિયાનાં',\n  'સૌથી',\n  'મોટા',\n  'કન્ટેનર',\n  'મેઇન્ટેનન્સ',\n  'કરતાં',\n  'આધુનિક',\n  'ડીપ',\n  'ડ્રાફ્ટ',\n  'બંદ',\n  'માટે',\n  '18',\n  'એમ',\n  'અને',\n  '16',\n  'એમની',\n  'જરૂર',\n  'છે',\n  '.'],\n ['પીએમ',\n  'નરેન્દ્ર',\n  'મોદીના',\n  'નેતૃત્વવાળી',\n  'એનડીએ',\n  'સરકાર',\n  'તરફથી',\n  'કેન્દ્રીય',\n  'કર્મચારીઓને',\n  'ટૂંક',\n  'સમયમાં',\n  'જ',\n  'ખુશખબરી',\n  'મળી',\n  'શકે',\n  'છે',\n  '.'],\n ['વિક્ટોરિયા', 'પાર્ક'],\n ['સોહા',\n  'અલી',\n  'ખાન',\n  'સાથે',\n  'પોતાના',\n  'લગ્નની',\n  'પાંચમી',\n  'વર્ષગાંઠના',\n  'અવસરે',\n  'કુણાલ',\n  'ખેમૂએ',\n  'ઇન્સ્ટાગ્રામ',\n  'અકાઉન્ટ',\n  'પર',\n  'પોતાના',\n  'લગ્નનો',\n  'એક',\n  'અનસીન',\n  'વીડિયો',\n  'પણ',\n  'શૅર',\n  'કર્યો',\n  'છે',\n  '.'],\n ['અમાલા',\n  'પોલ',\n  'એક',\n  'ભારતીય',\n  'કલાકાર',\n  'છે',\n  'જે',\n  'સાઉથની',\n  'ફિલ્મોમાં',\n  'કામ',\n  'કરે',\n  'છે',\n  '.'],\n ['શૅલ', 'આદેશ', 'ચલાવો'],\n ['આંબળા', 'અને', 'નારિયેળનું', 'તેલ'],\n ['સુપ્રીમ', 'કોર્ટે', 'પર', 'તેની', 'ઉપર', 'નિર્ણય', 'કર્યો', 'છે', '.'],\n ['ફોટોગ્રાફર', 'મારિયો', 'ટેસ્ટિનો'],\n ['અમે',\n  'અગાઉના',\n  'મોડ્યુલની',\n  'ચર્ચા',\n  'કરી',\n  'હતી',\n  'કે',\n  'ઉપજ',\n  'શક્તિ',\n  'શું',\n  'છે',\n  '.'],\n ['બેંગ', 'સાથે', 'અથવા', 'વગર', '?'],\n ['આ', 'મામલે', 'બે', 'લોકોની', 'ધરપકડ', 'કરાઈ', 'હતી', '.'],\n ['લેખકઃ', 'શ્રી', 'નરેન્દ્ર', 'મોદી'],\n ['લોંગે', 'પોઈન્ટ', 'ડી', 'મીંગન'],\n ['અમલનેર',\n  'નગર',\n  'ખાતે',\n  'આ',\n  'તાલુકાનું',\n  'મુખ્ય',\n  'મથક',\n  'આવેલું',\n  'છે',\n  '.'],\n ['ફ્લેશ',\n  'ઇલેક્ટ્રોનીક્સે',\n  'અમેરિકામાં',\n  'રોયલ',\n  'એનફિલ્ડ',\n  'સામે',\n  'પેટન્ટના',\n  'ઉલ્લંઘનનો',\n  'કેસ',\n  'કર્યો'],\n ['કેમકે',\n  'જિયો',\n  'નેટવર્ક',\n  'પર',\n  'વૉઇસ',\n  'કૉલ',\n  'ફ્રી',\n  'છે',\n  ',',\n  'આ',\n  'કારણે',\n  'કંપનીને',\n  'ભારતી',\n  'એરટેલ',\n  'અને',\n  'વોડાફોન',\n  'આઇડિયા',\n  'જેવી',\n  'ઑપરેટર્સને',\n  'કરવામાં',\n  'આવતા',\n  'કૉલ્સ',\n  'માટે',\n  '13,500',\n  'કરોડ',\n  'રૂપિયાની',\n  'ચુકવણી',\n  'કરવી',\n  'પડી',\n  'છે',\n  '.'],\n ['ડેમોક્રેટિક', 'પાર્ટી', 'પોલિટિક્સ'],\n ['ભારતીય',\n  'કેપ્ટન',\n  'વિરાટ',\n  'કોહલીને',\n  'ઓસ્ટ્રેલિયા',\n  'વિરૂદ્ધ',\n  'રાંચીમાં',\n  'રમાયેલી',\n  'ત્રીજી',\n  'ટેસ્ટ',\n  'દરમિયાન',\n  'ઈજા',\n  'થઈ',\n  'હતી',\n  '.'],\n ['મારુતિ',\n  'સ્વિફ્ટ',\n  '12,631',\n  'યુનિટ્સના',\n  'વેચાણ',\n  'સાથે',\n  'આ',\n  'લિસ્ટમાં',\n  'છઠ્ઠા',\n  'સ્થાને',\n  'રહી',\n  '.'],\n ['આ',\n  'ફિલ્મમાં',\n  'સુનીલ',\n  'પત્રકારનું',\n  'પાત્ર',\n  'ભજવી',\n  'રહ્યાં',\n  'છે',\n  '.'],\n ['ઘટનામાં',\n  'પથ્થરમારામાં',\n  'ભાજપના',\n  'કાર્યકરને',\n  'ઈજા',\n  'પહોંચી',\n  'હતી',\n  '.'],\n ['બ્રિટિશ', 'એરવેઝ', '.'],\n ['ડુંગરાપુરા',\n  'ગામના',\n  'લોકોનો',\n  'મુખ્ય',\n  'વ્યવસાય',\n  'ખેતી',\n  ',',\n  'ખેતમજૂરી',\n  'તેમ',\n  'જ',\n  'પશુપાલન',\n  'છે',\n  '.'],\n ['તને',\n  'પોતાના',\n  'ઘર',\n  '-',\n  'પરિવાર',\n  'સાથે',\n  'કોઈ',\n  'આનંદદાયક',\n  'યાત્રા',\n  'પર',\n  'જઇ',\n  'શકો',\n  'છો',\n  '.'],\n ['બિમલ',\n  'જુલ્કા',\n  'ચીફ',\n  'ઇન્ફર્મેશન',\n  'કમિશનર',\n  '(',\n  'સીઆઇસી',\n  ')',\n  'તરીકે',\n  'નિમણુંક'],\n ['પીપરાલી',\n  'ગામના',\n  'લોકોનો',\n  'મુખ્ય',\n  'વ્યવસાય',\n  'ખેતી',\n  ',',\n  'ખેતમજૂરી',\n  'તેમ',\n  'જ',\n  'પશુપાલન',\n  'છે',\n  '.'],\n ['પ્રધાનમંત્રી',\n  'શ્રી',\n  'નરેન્દ્ર',\n  'મોદીની',\n  'અધ્યક્ષતામાં',\n  'આયોજિત',\n  'કેન્દ્રીય',\n  'મંત્રીમંડળની',\n  'બેઠકમાં',\n  'આરોગ્ય',\n  'અને',\n  'ચિકિત્સાના',\n  'ક્ષેત્રમાં',\n  'ભારત',\n  'અને',\n  'સેનેગલ',\n  'વચ્ચે',\n  'થયેલા',\n  'સમજૂતી',\n  'કરાર',\n  '(',\n  'એમઓયુ',\n  ')',\n  'ને',\n  'મંજૂરી',\n  'આપવામાં',\n  'આવી',\n  'હતી',\n  '.'],\n ['વડીલોની', 'જવાબદારી', 'અદા', 'કરવી', 'હિતાવહ', 'રહેશે', '.'],\n ['જમ્મુ',\n  '-',\n  'કાશ્મીર',\n  ':',\n  'ભારે',\n  'વરસાદના',\n  'કારણે',\n  'બાલટાલમાં',\n  'રોકાઈ',\n  'અમરનાથ',\n  'યાત્રા'],\n ['સંચાલકશ્રી',\n  ',',\n  'નુતન',\n  'એજ્યુકેશન',\n  'ટ્રસ્ટ',\n  'સંચાલિત',\n  'ઔદ્યોગિક',\n  'તાલીમ',\n  'કેન્દ્ર',\n  ',',\n  'મુ',\n  '.',\n  'પો',\n  '.'],\n ['કેન્દ્રીય', 'મંત્રી', 'પિયુષ', 'ગોયેલ', 'સભામાં', 'અનુપસ્થિત', 'હતા', '.'],\n ['અલી',\n  'ફઝલ',\n  ',',\n  'રિચા',\n  'ચઢ્ઢાએ',\n  'એમનાં',\n  'લગ્નની',\n  'વાતોને',\n  'રદિયો',\n  'આપ્યો'],\n ['ચૂંટણીપંચ',\n  'દ્વારા',\n  'આ',\n  'મામલે',\n  'કડક',\n  'કાર્યવાહી',\n  'કરવી',\n  'જોઈએ',\n  '.'],\n ['ગૃહ',\n  'મંત્રીએ',\n  'પશ્ચિમ',\n  'રાજ્યોનાં',\n  'મહત્ત્વ',\n  'પર',\n  'ભાર',\n  'મૂકીને',\n  'જણાવ્યું',\n  'હતું',\n  'કે',\n  ',',\n  'પશ્ચિમ',\n  'વિસ્તાર',\n  'ભારતીય',\n  'અર્થતંત્રને',\n  'વેગ',\n  'આપવામાં',\n  'સહાયક',\n  'રહ્યો',\n  'છે',\n  ',',\n  'કારણ',\n  'કે',\n  'આ',\n  'વિસ્તારનાં',\n  'રાજ્ય',\n  'કુલ',\n  'સ્થાનિક',\n  'ઉત્પાદનમાં',\n  'લગભગ',\n  '24',\n  'ટકા',\n  'અને',\n  'દેશનાં',\n  'કુલ',\n  'નિકાસમાં',\n  '45',\n  'ટકા',\n  'પ્રદાન',\n  'આપે',\n  'છે',\n  '.'],\n ['હાલમાં',\n  ',',\n  'પીએસયુ',\n  'માટે',\n  'કોલસાના',\n  'ઉત્પાદનનું',\n  'લક્ષ્ય',\n  '660',\n  'મિલિયન',\n  'ટન',\n  'રાખવામાં',\n  'આવ્યું',\n  'છે',\n  ',',\n  'જે',\n  'દેશના',\n  'કુલ',\n  'કોલસા',\n  'ઉત્પાદનમાં',\n  '82',\n  'ટકા',\n  'છે',\n  '.'],\n ['એમ', 'કઈ', 'રીતે', 'કરી', 'શકાય', '?'],\n ['અભિષેક', 'શર્માને', 'ક્રિસ', 'મૉરિસે', 'આઉટ', 'કર્યો', '.'],\n ['હર્ષલ', 'પટેલ'],\n ['આ', 'ગીતને', 'ફરાહ', 'ખાન', 'કોરિયોગ્રાફ', 'કરી', 'રહ્યા', 'છે', '.'],\n ['ક્યા', 'ગેર્બર', 'અને', 'સિન્ડી', 'ક્રોફોર્ડ'],\n ['ટેક્સાસ',\n  ',',\n  'લુસિયાના',\n  ',',\n  'કેંટકી',\n  'અને',\n  'મિસૌરીમાં',\n  'અત્યાર',\n  'સુધીમાં',\n  '21',\n  'લોકોના',\n  'મોત',\n  'થયા',\n  'છે',\n  '.'],\n ['હરિયાણાઃ',\n  'છઠ્ઠા',\n  'આંતરરાષ્ટ્રીય',\n  'યોગ',\n  'દિવસ',\n  'પૂર્વે',\n  'હરિયાણાના',\n  'મુખ્યમંત્રીએ',\n  'રાજ્યના',\n  'લોકોને',\n  'અપીલ',\n  'કરી',\n  'છે',\n  'કે',\n  ',',\n  'કોવિડ',\n  '-',\n  '19',\n  'મહામારીના',\n  'કારણે',\n  'આવે',\n  'વર્ષે',\n  'તેઓ',\n  'ઘરમાં',\n  'જ',\n  'રહીને',\n  ',',\n  'પરિવાર',\n  'સાથે',\n  'મળીને',\n  'યોગ',\n  'કરે',\n  '.'],\n ['ભારત',\n  'વેક્સિનેશનના',\n  'પહેલા',\n  'તબક્કામાં',\n  '3',\n  'કરોડ',\n  'લોકોને',\n  'રસી',\n  'લગાવા',\n  'જઇ',\n  'રહ્યું',\n  'છે',\n  '.'],\n ['પોલીસે', 'દુર્ઘટનાવશ', 'મોતનો', 'એક', 'કેસ', 'દાખલ', 'કર્યો', 'છે', '.'],\n ['ઝારખંડ',\n  'વિધાનસભા',\n  'ચુંટણીઃ',\n  'ચોથા',\n  'તબક્કાનું',\n  'મતદાન',\n  'શરૂ',\n  ',',\n  '15',\n  'સીટો',\n  'પર',\n  'થઇ',\n  'રહ્યું',\n  'છે',\n  'મતદાન'],\n ['આઈએનએક્સ', 'મિડિયા', 'મની', 'લોન્ડરિંગ', 'કેસમાં', '.'],\n ['આ',\n  'ઉપરાંત',\n  'સારા',\n  'રણવીરસિંહ',\n  'સાથે',\n  'રોહિત',\n  'શેટ્ટી',\n  'અને',\n  'કરણ',\n  'જોહરની',\n  'ફ્લ્મિ',\n  'સિમ્બામાં',\n  'પણ',\n  'જોવા',\n  'મળવાની',\n  'છે',\n  '.'],\n ['ગૃહ',\n  'મંત્રાલયના',\n  '29',\n  '.',\n  '૦૩',\n  '.',\n  '2020ના',\n  'રોજ',\n  'આપવામાં',\n  'આવેલ',\n  'આદેશ',\n  'અનુસાર',\n  'ડૉ',\n  '.',\n  'પી',\n  '.',\n  'ડી',\n  '.',\n  'વાઘેલા',\n  ',',\n  'સચિવ',\n  ',',\n  'ફાર્માસ્યુટિકલ',\n  'અને',\n  'સચિવ',\n  ',',\n  'DPIIT',\n  ',',\n  'સચિવ',\n  ',',\n  'ટેકસટાઇલ',\n  ',',\n  'ચેરમેન',\n  ',',\n  'CBIC',\n  ',',\n  'સચિવ',\n  ',',\n  'DRDO',\n  ',',\n  'PMOના',\n  'વરિષ્ઠ',\n  'અધિકારીઓ',\n  ',',\n  'કેબીનેટ',\n  'સચિવ',\n  ',',\n  'વિદેશી',\n  'બાબતોના',\n  'મંત્રાલય',\n  ',',\n  'ગૃહ',\n  'બાબતોના',\n  'મંત્રાલય',\n  ',',\n  'આરોગ્ય',\n  'અને',\n  'પરિવાર',\n  'કલ્યાણ',\n  'મંત્રાલય',\n  ',',\n  'આરોગ્ય',\n  'સંશોધન',\n  'વિભાગ',\n  'વગેરે',\n  'સહીતની',\n  'સંયોજકતા',\n  'અંતર્ગત',\n  'એમ્પાવર્ડ',\n  'ગ્રુપ',\n  '૩ની',\n  'રચના',\n  'કરવામાં',\n  'આવી',\n  'હતી',\n  '.'],\n ['૧૧ઃ', '૨', '.', 'પ્રકટી', '.'],\n ['નાણામંત્રી',\n  'અરુણ',\n  'જેટલીએ',\n  'શરૂ',\n  'કર્યું',\n  'સામાન્ય',\n  'બજેટનું',\n  'ભાષણ',\n  '.'],\n ['આંધ્રપ્રદેશઃ',\n  'છેલ્લા',\n  '24',\n  'કલાકમાં',\n  '82',\n  'નવા',\n  'કેસ',\n  'નોંધાતા',\n  'કુલ',\n  'કેસ',\n  '125',\n  'થયા',\n  '.'],\n ['આ',\n  'સમજૂતી',\n  'પર',\n  'તા',\n  '.',\n  '10',\n  'એપ્રિલ',\n  ',',\n  '2018ના',\n  'રોજ',\n  'નવી',\n  'દિલ્હીમાં',\n  'હસ્તાક્ષર',\n  'થયા',\n  'હતા',\n  '.'],\n ['તેમણે', 'કહ્યું', 'કે', ',', 'કોંગ્રેસ', 'નિરાશ', 'છે', '.'],\n ['ભાજપ', 'પાસે', 'કોઇ', 'ચહેરો', 'નથી', '.'],\n ['જેમાં',\n  'રાહુલ',\n  'ગાંધીએ',\n  'પ્રધાનમંત્રી',\n  'નરેન્દ્ર',\n  'મોદી',\n  'પર',\n  'નિશાન',\n  'તાક્યું',\n  '.'],\n ['કાર્તિક',\n  'માસના',\n  'કૃષ્ણ',\n  'પક્ષની',\n  'ચતુર્થીએ',\n  'કરવાચોથનું',\n  'વ્રત',\n  'ઉજવાય',\n  'છે',\n  '.'],\n ['ભારત',\n  'અને',\n  'પાક',\n  'વચ્ચે',\n  'ડેવિસ',\n  'કપ',\n  'મુકાબલો',\n  'હવે',\n  'નૂર',\n  'સુલ્તાનમાં',\n  'રમાશે'],\n ['રાજેશ',\n  'ખન્નાની',\n  'છેલ્લી',\n  'ફિલ્મ',\n  'રિયાસત',\n  'તેમના',\n  'જન્મ',\n  'દિવસે',\n  'રિલીઝ',\n  'થશે'],\n ['બધા',\n  'સ્થાનિક',\n  'પક્ષો',\n  'ભાજપને',\n  'હરાવવા',\n  'માટે',\n  'એક',\n  'સાથે',\n  'આવી',\n  'રહ્યા',\n  'છે',\n  '.'],\n ['ઉડ્ડયન',\n  'ખાતા',\n  'સાથે',\n  'સંકળાયેલા',\n  'વધુ',\n  'એક',\n  'મનીલોન્ડરિંગના',\n  'કેસને',\n  'મામલે',\n  'અગાઉ',\n  'ઈડી',\n  'દ્વારા',\n  'તેમની',\n  'પૂછપરછ',\n  'કરવામાં',\n  'આવી',\n  'હતી',\n  '.'],\n ['તે', 'હિસ્સે', 'પ્રાંતના', 'સૌથી', 'મોટું', 'શહેર', 'છે', '.'],\n ['\"',\n  'મારા',\n  'પગોને',\n  'સારુ',\n  'તારું',\n  'વચન',\n  'દીવારૂપ',\n  'છે',\n  '.',\n  'તે',\n  'મારા',\n  'માર્ગને',\n  'સારુ',\n  'અજવાળારૂપ',\n  'છે',\n  '.',\n  '\"',\n  '-',\n  'ગીતશાસ્ત્ર',\n  '૧૧૯ઃ',\n  '૧૦૫',\n  '.'],\n ['કેન્દ્રીય',\n  'મંત્રી',\n  'અનંત',\n  'કુમારના',\n  'નિધન',\n  'પર',\n  'રાજનેતાઓએ',\n  'દુઃખ',\n  'વ્યક્ત',\n  'કર્યુ'],\n ['પ્રધાનમંત્રી',\n  'શેખ',\n  'હસીનાએ',\n  'જણાવ્યું',\n  'હતું',\n  'કે',\n  ',',\n  'બાંગ્લાદેશનાં',\n  'લોકો',\n  'તીસ્તાનાં',\n  'પાણીની',\n  'વહેંચણી',\n  'માટે',\n  'વચગાળાની',\n  'સમજૂતીનાં',\n  'માળખા',\n  'પર',\n  'વહેલાસર',\n  'હસ્તાક્ષર',\n  'કરવા',\n  'અને',\n  'એનો',\n  'અમલ',\n  'કરવા',\n  'આતુરતાપૂર્વક',\n  'રાહ',\n  'જોઈ',\n  'રહ્યાં',\n  'છે',\n  '.'],\n ['પરંતુ', 'ભારતમાં'],\n ['સંજયભાઇ', 'ગદ્રે', 'રૂ', '.'],\n ['સેનાના',\n  'જવાન',\n  'જ્યારે',\n  'આર્મી',\n  'ટ્રકમાં',\n  'જઇ',\n  'રહ્યા',\n  'હતા',\n  'ત્યારે',\n  'આ',\n  'બ્લાસ્ટ',\n  'કરવામાં',\n  'આવ્યો',\n  'હતો',\n  '.'],\n ['વાડરાને',\n  'જમીન',\n  'સોદામાં',\n  '50',\n  'કરોડનો',\n  'ગેરકાયદે',\n  'ફાયદોઃ',\n  'પંચ',\n  'આર્ટિકલ',\n  'શો'],\n ['શાકિબે',\n  'અગ્રવાલના',\n  'આંતરીક',\n  'સૂચના',\n  'હાંસલ',\n  'કરવાની',\n  'આ',\n  'આગ્રહની',\n  'જાણકારી',\n  'એસીયૂ',\n  'અથવા',\n  'કોઇ',\n  'અન્ય',\n  'ભ્રષ્ટાચાર',\n  'વિરોધી',\n  'અધિકારીને',\n  'ન',\n  'આપી',\n  '.'],\n ['કાળા', 'મરચા', '-', '1', 'ચમચી'],\n ['તેઓ',\n  'કાર્યકારી',\n  'પાર્ટી',\n  'અધ્યક્ષ',\n  'જેપી',\n  'નડ્ડાને',\n  'મળ્યા',\n  'હતા',\n  '.'],\n ['શાહનો', 'રાહુલ', 'અને', 'સોનિયાને', 'ટોણો'],\n ['તેથી', 'ભારત', 'કેવી', 'રીતે', 'ચાલે', 'છે', '.'],\n ['આ',\n  'ફિલ્મમાં',\n  'કંગના',\n  'ઉપરાંત',\n  'અંકિતા',\n  'લોખંડે',\n  ',',\n  'અતુલ',\n  'કુલકર્ણી',\n  'અને',\n  'સોનૂ',\n  'સૂદ',\n  'પણ',\n  'જોવા',\n  'મળશે',\n  '.'],\n ['ભાદરવા',\n  'સુદ',\n  'ચોથને',\n  'શ્રી',\n  'ગણેશ',\n  'ચતુર્થીના',\n  'નામથી',\n  'ઉજવવામાં',\n  'આવે',\n  'છે',\n  '.'],\n ['ડોનાલ્ડ',\n  'ટ્રમ્પે',\n  'વ્હાઈટ',\n  'હાઉસમાં',\n  'ઉજવી',\n  'દિવાળી',\n  '.',\n  'ભારતીય',\n  'મૂળના',\n  'અનેક',\n  'ઓફિસરો',\n  'જોડાયા'],\n ['9મા',\n  'બ્રિક્સ',\n  'શિખર',\n  'સંમેલનમાં',\n  'બ્રિક્સના',\n  'નેતાઓનું',\n  'જાહેરનામું',\n  'સભ્ય',\n  'દેશો',\n  'વચ્ચે',\n  'વ્યવહારિક',\n  'સહકારને',\n  'પ્રોત્સાહન',\n  'આપવા',\n  'માટે',\n  'પ્રેરિત',\n  'કરે',\n  'છે',\n  '.'],\n ['એર', 'ન્યુ', 'ઝિલેન્ડ'],\n ['તે',\n  'ઉપરાંત',\n  'અમેરિકી',\n  'રાષ્ટ્રપતિ',\n  'ડોનાલ્ડ',\n  'ટ્રમ્પ',\n  'પણ',\n  'પીએમ',\n  'મોદી',\n  'તરફ',\n  'ઊભેલા',\n  'દેખાય',\n  'છે',\n  '.'],\n ['ઘટના',\n  'બાદ',\n  'મુખ્યમંત્રી',\n  'દેવેન્દ્ર',\n  'ફડણવીસે',\n  'ઘટનાસ્થળની',\n  'મુલાકાત',\n  'કરી',\n  'તેની',\n  'તપાસના',\n  'આદેશ',\n  'આપ્યા',\n  'હતા',\n  '.'],\n ['આ',\n  'આરોપ',\n  'કોંગ્રેસના',\n  'નેતા',\n  'અને',\n  'ભૂતપૂર્વ',\n  'કેન્દ્રીય',\n  'પ્રધાન',\n  'મનીષ',\n  'તિવારીએ',\n  'લગાવ્યો',\n  'છે',\n  '.'],\n ['મુખ્ય', 'મુદ્દાઓ'],\n ['નવી',\n  'દિલ્હીઃ',\n  'હાલ',\n  'વિશ્વભરમાં',\n  'કોરોના',\n  'વાયરસને',\n  'કારણે',\n  'ડરનો',\n  'માહોલ',\n  'છે',\n  '.'],\n ['જાધવને',\n  'બીસીસીઆઇની',\n  'મેડિકલ',\n  'ટીમની',\n  'દેખરેખ',\n  'હેઠળ',\n  'રાખવામાં',\n  'આવ્યો',\n  'છે',\n  '.'],\n ['આ',\n  'પ્રક્રિયા',\n  'અપનાવવા',\n  'થી',\n  'લોક',\n  'ઝુંબેશ',\n  'યોજના',\n  'ને',\n  'મહત્વપૂર્ણ',\n  'સફળતા',\n  'મળી',\n  'છે',\n  '.'],\n ['આ', 'માર્ગ', 'ગયા', 'વર્ષે', '18', 'મેના', 'રોજ', 'ખુલ્યો', 'હતો'],\n ['જેમાં', 'વડાપ્રધાન', 'નરેન્દ્ર', 'મોદી', 'ખાસ', 'ઉપસ્થિત', 'રહશે', '.'],\n ['એસબીઆઇ', 'ગ્રાહકોને', 'ઝાટકો'],\n ['માઈકલ', 'જેક્સનનું', 'મૃત્યુ'],\n ['સાથે',\n  'જ',\n  'સરકારી',\n  'નોકરીમાં',\n  'મહિલાઓને',\n  '33',\n  'ટકા',\n  'અનામત',\n  'આપવાની',\n  'વાત',\n  'કરી',\n  'છે',\n  '.'],\n ['આપ',\n  'જાણો',\n  'છો',\n  'એમ',\n  ',',\n  'હું',\n  'અને',\n  'પ્રધાનમંત્રી',\n  'નજીબ',\n  'બન્ને',\n  ',',\n  'બ્રિકફીલ્ડમાં',\n  'લિટલ',\n  'ઈન્ડિયાનાં',\n  'પ્રવેશ',\n  'દ્વાર',\n  'તોરણ',\n  'ગેટનું',\n  'ઉદધાટન',\n  'કરવાના',\n  'છીએ',\n  '.'],\n ['આઇઓસીની', 'વેબસાઇટ', 'પર', 'આ', 'માહિતી', 'આપવામાં', 'આવી', 'છે', '.'],\n ['આ',\n  'ફિલ્મમાં',\n  'કરીના',\n  'સાથે',\n  'સોનમ',\n  'કપૂર',\n  ',',\n  'સ્વરા',\n  'ભાસ્કર',\n  'અને',\n  'શિખા',\n  'તલસાણિયા',\n  'ચમકી',\n  'રહી',\n  'છે',\n  '.'],\n ['કંપનીની', 'કરજમર્યાદા', 'રૂ', '.'],\n ['ઓરિસ્સાનાં', 'મુખ્યમંત્રી', 'નવીન', 'પટનાયકની', 'કરી', 'પ્રશંસા'],\n ['આ', 'મામલે', 'હાઈકોર્ટમાં', 'પણ', 'પીટીશન', 'કરવામાં', 'આવી', 'છે', '.'],\n ['આરોપીઓ',\n  'વિનય',\n  'શર્મા',\n  'અને',\n  'મુકેશની',\n  'ક્યુરેટિવ',\n  'પિટીશન',\n  'પર',\n  'સુપ્રીમ',\n  'કોર્ટના',\n  'જજ',\n  'એન',\n  'વી',\n  'રમન્ના',\n  ',',\n  'અરૂણ',\n  'મિશ્રા',\n  ',',\n  'આર',\n  'એફ',\n  'નરીમન',\n  ',',\n  'આર',\n  'ભાનુમતિ',\n  'અને',\n  'અશોક',\n  'ભૂષણની',\n  'બેંચ',\n  'સુનાવણી',\n  'કરશે',\n  '.'],\n ['INX',\n  'મીડિયા',\n  'કેસ',\n  '/',\n  'ચિદમ્બરમની',\n  'જામીન',\n  'અરજી',\n  'પર',\n  'સુપ્રીમ',\n  'કોર્ટે',\n  'EDને',\n  'નોટિસ',\n  'ફટકારી',\n  'જવાબ',\n  'માંગ્યો'],\n ['ભારતીય',\n  'પશુ',\n  'ચિકિત્સા',\n  'પરિષદ',\n  '(',\n  'ફી',\n  'અને',\n  'ભથ્થાઓ',\n  ')',\n  'નિયમન',\n  ',',\n  '૧૯૯૨'],\n ['આ',\n  'ફિલ્મને',\n  'વાઇકોમ',\n  '18',\n  'મોશન',\n  'પિક્ચર્સ',\n  ',',\n  'કાઇટા',\n  'પ્રોડક્શન',\n  'અને',\n  'વીએ',\n  'ફિલ્મ',\n  'કંપની',\n  'અંતર્ગત',\n  'બનાવવામાં',\n  'આવી',\n  'રહી',\n  'છે',\n  '.'],\n ['સીબીઆઈએ',\n  'પણ',\n  'કેટલાક',\n  'સમય',\n  'પહેલા',\n  'આ',\n  'મામલામાં',\n  'એક',\n  'ચાર્જશીટ',\n  'દાખલ',\n  'કરી',\n  'હતી',\n  '.'],\n ['પરંતુ', 'આ', 'મહત્વપૂર્ણ', 'છે', '.'],\n ['ભગતે', 'કહ્યું', '.'],\n ['શરૂપુર',\n  'ટિંબી',\n  'ગામના',\n  'લોકોનો',\n  'મુખ્ય',\n  'વ્યવસાય',\n  'ખેતી',\n  ',',\n  'ખેતમજૂરી',\n  'તેમ',\n  'જ',\n  'પશુપાલન',\n  'છે',\n  '.'],\n ['ઇયુ',\n  'અને',\n  'યુકે',\n  'માટે',\n  'આ',\n  'એકદમ',\n  'યોગ્ય',\n  'અને',\n  'ન્યાયી',\n  'કરાર',\n  'છે',\n  'અને',\n  'તે',\n  'ઉકેલ',\n  'શોધવાની',\n  'અમારી',\n  'પ્રતિબદ્ધતા',\n  'દર્શાવે',\n  'છે',\n  '.'],\n ['આ', 'વિકલ્પ', 'તપાસો'],\n ['જેમાં',\n  'કૃષિ',\n  ',',\n  'ગ્રામીણ',\n  'વિકાસ',\n  ',',\n  'પેય',\n  'જળ',\n  ',',\n  'પશુપાલન',\n  ',',\n  'ખાદ્ય',\n  'અને',\n  'જાહેર',\n  'વિતરણ',\n  ',',\n  'જળ',\n  'સંસાધન',\n  ',',\n  'ગૃહને',\n  'લગતી',\n  'બાબતો',\n  ',',\n  'નાણાં',\n  'અને',\n  'રેલવે',\n  'મંત્રાલય',\n  'આ',\n  'બેઠકના',\n  'ચર્ચા',\n  '-',\n  'વિમર્શમાં',\n  'સામેલ',\n  'હતા',\n  '.'],\n ['રાહુલ',\n  'ગાંધી',\n  'લોકસભા',\n  'ચૂંટણીમાં',\n  'પોતાની',\n  'પાર્ટીની',\n  'હારની',\n  'નૈતિક',\n  'જવાબદારી',\n  'લેતા',\n  'આ',\n  'સપ્તાહના',\n  'શરૂમાં',\n  'કોંગ્રેસ',\n  'પ્રમુખના',\n  'પદ',\n  'પરથી',\n  'રાજીનામું',\n  'આપી',\n  'દીધું',\n  'હતું',\n  '.'],\n ['વેસ્ટ',\n  'ઈન્ડિઝઃ',\n  'જેસન',\n  'હોલ્ડર',\n  '(',\n  'કેપ્ટન',\n  ')',\n  ',',\n  'સુનીલ',\n  'એમ્બ્રિસ',\n  ',',\n  'દેવેન્દ્ર',\n  'વિશૂ',\n  ',',\n  'ક્રેગ',\n  'બ્રૈથવેટ',\n  ',',\n  'રોસ્ટન',\n  'ચેઝ',\n  ',',\n  'શેન',\n  'ડોવરિચ',\n  ',',\n  'શૈનન',\n  'ગૈબ્રિયલ',\n  ',',\n  'જહમર',\n  'હેમિલ્ટન',\n  ',',\n  'શિમરોન',\n  'હેટમાયરષ',\n  'સાઈ',\n  'હોપ',\n  ',',\n  'અલજારી',\n  'જોસેફ',\n  ',',\n  'કીમો',\n  'પોલ',\n  ',',\n  'કીરેન',\n  'પોવેલ',\n  ',',\n  'કેમાર',\n  'રોચ',\n  'અને',\n  'જોમેલ',\n  'વારિકન',\n  '.'],\n ['આરોગ્ય', 'મંત્રાલયના', '.'],\n ['તેની',\n  'પાછળ',\n  'એક',\n  'સફેદ',\n  'બિલ્ડિંગ',\n  'સાથે',\n  'એક',\n  'કાળા',\n  'અને',\n  'સફેદ',\n  'શેરી',\n  'સાઇન',\n  '.'],\n ['ઈજાગ્રસ્તોને',\n  'સારવાર',\n  'માટે',\n  'હિંમતનગર',\n  'સિવિલ',\n  'હોસ્પિટલમાં',\n  'ખસેડવામાં',\n  'આવ્યા',\n  'હતા',\n  '.'],\n ['આથી',\n  'તેને',\n  'સારવાર',\n  'માટે',\n  'સયાજી',\n  'હોસ્પિટલમાં',\n  'ખસેડવામાં',\n  'આવ્યો',\n  'હતો',\n  '.'],\n ['ગુજરાતના', 'મુખ્યમંત્રી', 'વિજય', 'રૂપાણીએ', 'કર્યું', 'એલાન'],\n ['જ્યારે',\n  'જેડીયુ',\n  'નેતા',\n  'શરદ',\n  'યાદવે',\n  'પણ',\n  'પ્રતિક્રિયા',\n  'આપી',\n  'હતી',\n  '.'],\n ['લુણાવાડા',\n  ')',\n  'ભારત',\n  'દેશના',\n  'પશ્ચિમ',\n  'ભાગમાં',\n  'આવેલા',\n  'ગુજરાત',\n  'રાજ્યના',\n  'મધ્ય',\n  'ભાગમાં',\n  'આવેલા',\n  'મહીસાગર',\n  'જિલ્લામાં',\n  'આવેલા',\n  'લુણાવાડા',\n  'તાલુકાનું',\n  'એક',\n  'ગામ',\n  'છે',\n  '.'],\n ['ભય', 'તેને', 'લાગતો', 'નથી', '.'],\n ['ભારતીય', 'ટીમના', 'કેપ્ટન', 'વિરાટ', 'કોહલી', ',', '.', '.', '.'],\n ['બોલિવૂડ',\n  'અભિનેત્રી',\n  'કંગના',\n  'રનૌત',\n  'દરોરજ',\n  'કોઈને',\n  'કોઈ',\n  'વાતને',\n  'લઈ',\n  'ચર્ચામાં',\n  'રહેતી',\n  'હોય',\n  'છે',\n  '.'],\n ['આ',\n  'પણ',\n  'વાંચોઃ',\n  'નાગરિકતા',\n  'સંશોધન',\n  'બિલને',\n  'ખોટું',\n  'સાબિત',\n  'કરો',\n  ',',\n  'પાછું',\n  'લઈ',\n  'લઈશુંઃ',\n  'અમિત',\n  'શાહ'],\n ['શોમાં', 'જુઓ', 'શું', 'છે', '?'],\n ['પ્રધાનમંત્રી',\n  'શ્રી',\n  'નરેન્દ્ર',\n  'મોદીએ',\n  'ઇસરોને',\n  '103',\n  'નેનો',\n  'સેટેલાઇટ',\n  'સાથે',\n  'પીએસએલવી',\n  '-',\n  'સી37',\n  'અને',\n  'કાર્ટોસેટ',\n  'સેટેલાઇટ',\n  'છોડવા',\n  'બદલ',\n  'અભિનંદન',\n  'આપ્યા',\n  'છે',\n  '.'],\n ['ભાજપ',\n  'લોકસભાની',\n  'ચૂંટણીમાં',\n  'સન્ની',\n  'દેઓલને',\n  'ગુરુદાસ',\n  'પુર',\n  'અથવા',\n  'ચંદીગઢ',\n  'બેઠક',\n  'પર',\n  'ટિકિટ',\n  'આપે',\n  'તેવી',\n  'શક્યતા',\n  'છે',\n  '.'],\n ['સારા',\n  'અલી',\n  'ખાન',\n  'હાલમાં',\n  'ડેવિડ',\n  'ધવનની',\n  'ફિલ્મ',\n  \"'\",\n  'કુલ',\n  'નંબર',\n  '1',\n  \"'\",\n  'માં',\n  'વ્યસ્ત',\n  'છે',\n  '.'],\n ['અન્ય',\n  'નોંધનીય',\n  'પ્રોજેકટોમાં',\n  'સમગ્ર',\n  'મધ્ય',\n  'અને',\n  'પૂર્વીય',\n  'યુરોપમાં',\n  'વિજ્ઞાનીઓને',\n  'તથા',\n  'યુનિવર્સિટીઓને',\n  'આપેલી',\n  'સહાય',\n  ',',\n  'સારાજેવોના',\n  'યુદ્ધઘેરા',\n  'દરમ્યાન',\n  'સામાન્ય',\n  'નાગરિકોને',\n  'પહોંચાડેલી',\n  'મદદ',\n  ',',\n  'અને',\n  'ટ્રાન્સપરન્સી',\n  'ઈન્ટરનેશનલને',\n  'પૂરી',\n  'પાડેલી',\n  'સહાય',\n  'સામેલ',\n  'છે',\n  '.'],\n ['ગુજરાતમાં', 'પણ', 'હાઇ', 'એલર્ટ'],\n ['જે', 'બીજેપી', 'માટે', 'મુશ્કેલી', 'સર્જી', 'શકે', 'છે', '.'],\n ['જે', 'ગીતને', 'આશા', 'ભોંસલેએ', 'કંઠ', 'આપ્યો', 'છે', '.'],\n ['બચત',\n  'ખાતાઓને',\n  'એફડીઆઇસી',\n  'દ્વારા',\n  '$',\n  '250,000',\n  'સુધી',\n  'વીમાકૃત',\n  'કરવામાં',\n  'આવે',\n  'છે',\n  '.'],\n ['એનરોને',\n  'તેનું',\n  'દેવું',\n  'છુપાવવા',\n  'માટે',\n  '2001',\n  'સુધીમાં',\n  'કુલ',\n  'મળીને',\n  'સકડો',\n  'ખાસ',\n  'હેતુ',\n  'માટેની',\n  'કંપનીઓનો',\n  'ઉપયોગ',\n  'કર્યો',\n  'હતો',\n  '.'],\n ['આ', 'વાહનો', 'કબ્જે', 'કર્યા', 'હતા', '.'],\n ['જેમ્સ',\n  'બોન્ડની',\n  'ફિલ્મ',\n  \"'\",\n  'નો',\n  'ટાઇમ',\n  'ટૂ',\n  'ડાઇ',\n  \"'\",\n  'નું',\n  'પ્રથમ',\n  'પોસ્ટર',\n  'રિલીઝ'],\n ['કેન્દ્રીય',\n  'તપાસ',\n  'બ્યૂરોએ',\n  '(',\n  'CBI',\n  ')',\n  'સર્વોચ્ચ',\n  'ન્યાયાલયના',\n  'વકીલ',\n  'ઇંદિયા',\n  'જયસિંહ',\n  'અને',\n  'આનંદ',\n  'ગ્રોવરના',\n  'દિલ્હી',\n  'અને',\n  'મુંબઇ',\n  'સ્થિત',\n  'ઘરો',\n  'પર',\n  'દરોડા',\n  'પાડ્યા',\n  'છે',\n  '.'],\n ['ઇક્વિટી', 'મ્યુચ્યુલ', 'ફંડ'],\n ['તેણે',\n  'આ',\n  'વિડીયો',\n  'પોતાની',\n  'યુટ્યુબ',\n  'ચેનલ',\n  'પર',\n  'શેર',\n  'કર્યો',\n  'છે',\n  '.'],\n ['સારા',\n  'અલી',\n  'ખાન',\n  'મશહૂર',\n  'ફિલ્મ',\n  'એક્ટર',\n  'સૈફ',\n  'અલી',\n  'ખાનની',\n  'દીકરી',\n  'છે',\n  'અને',\n  'પોતે',\n  'પણ',\n  'એક્ટ્રેસ',\n  'છે',\n  '.'],\n ['ઉદાહરણઃ', 'ધ', 'ન્યૂ', 'યોર્ક', 'ટાઇમ્સ'],\n ['આ', 'ફિલ્મમાં', 'ઋષિ', 'કપૂર', 'પણ', 'છે', '.'],\n ['મોદી', 'જવાબ', 'આપતા', 'નથી', 'માત્ર', 'ભાષણો', 'જ', 'આપે', 'છે', '.'],\n [\"'\",\n  'બાહુબલી',\n  \"'\",\n  'સીરીઝની',\n  'બંન્ને',\n  'ફિલ્મોમાં',\n  'એક્ટ્રેસ',\n  'રામ્યા',\n  'કૃષ્ણને',\n  'શિવગામી',\n  'દેવીની',\n  'ભૂમિકા',\n  'ભજવી',\n  'છે',\n  '.'],\n ['સુત્રો',\n  'તરફથી',\n  'મળતી',\n  'માહિતી',\n  'પ્રમાણે',\n  ',',\n  'રાહુલ',\n  'ગાંધી',\n  'કોંગ્રેસ',\n  'અધ્યક્ષ',\n  'પદ',\n  'પર',\n  'રહેવા',\n  'માની',\n  'ગયા',\n  'છે',\n  '.'],\n ['ડીસીસી',\n  'એ',\n  'ટેલિકોમ',\n  'વિભાગમાં',\n  'નિર્ણય',\n  'લેનાર',\n  'સૌથી',\n  'મોટી',\n  'સંસ્થા',\n  'છે',\n  '.'],\n ['કોંગ્રેસ', 'પક્ષ', 'તેને', 'સ્વીકારશે', 'નહિ', '.'],\n ['પછી', 'આ', 'એક', 'પ્રયાસ', 'કરો', '.'],\n ['ગોવાના', 'મુખ્યમંત્રી'],\n ['આ',\n  'બેઠકમાં',\n  'વડાપ્રધાન',\n  'નરેન્દ્ર',\n  'મોદી',\n  'અને',\n  'પાર્ટીના',\n  'રાષ્ટ્રય',\n  'અધ્યક્ષ',\n  'અમિત',\n  'શાહ',\n  'સહિત',\n  'ટોચના',\n  'નેતાઓ',\n  'ભાગ',\n  'લઈ',\n  'રહ્યા',\n  'છે',\n  '.'],\n ['જનરલ', 'ઉખાણાઓ'],\n ['ગૂગલ',\n  'ફોટોસ્કેન',\n  'એપ',\n  'તમારી',\n  'જૂની',\n  'યાદોને',\n  'સ્માર્ટફોનમાં',\n  'જીવિત',\n  'રાખશે',\n  ',',\n  'જાણો'],\n ['CVS', 'પ્લગઇન'],\n ['પછી',\n  'યોહાનના',\n  'શિષ્યો',\n  'ઈસુની',\n  'પાસે',\n  'આવ્યા',\n  '.',\n  'તેઓએ',\n  'ઈસુને',\n  'પૂછયું',\n  'કે',\n  ',',\n  '\"',\n  'અમે',\n  'અને',\n  'ફરોશીઓ',\n  'વારંવાર',\n  'ઉપવાસ',\n  'કરીએ',\n  'છીએ',\n  'તો',\n  'તારા',\n  'શિષ્યો',\n  'શા',\n  'માટે',\n  'ઉપવાસ',\n  'કરતા',\n  'નથી',\n  '?',\n  '\"'],\n ['રાહુલ', 'ગાંધીના', 'નિવેદનથી', 'દુઃખ', 'થયું', 'છે', '.'],\n ['તે', 'તમારા', 'દુઃખમાં', 'પણ', 'સહભાગી', 'થઈ', 'શકે', '.'],\n ['આ', 'લગ્નનો', 'કાર્યક્રમ', 'મુંબઈમાં', 'કરવામાં', 'આવશે', '.'],\n ['હાલમાં',\n  'અક્ષય',\n  'કુમાર',\n  'આનંદ',\n  'એલ',\n  '.',\n  'રાયની',\n  'ફિલ્મ',\n  'અતરંગીનું',\n  'કામ',\n  'કરી',\n  'રહ્યો',\n  'છે',\n  '.'],\n ['ઈન્ટરનેટ', 'શટડાઉનના', 'મામલે', 'ભારત', 'વિશ્વમાં', 'ટોપ'],\n ['ભગવાન',\n  'બુદ્ધનો',\n  'શાંતિ',\n  'અને',\n  'સંવેદનાનો',\n  'સંદેશો',\n  'આપણને',\n  'સૌને',\n  'જોડે',\n  'છે',\n  '.'],\n ['બેઠક',\n  'બાદ',\n  'કેન્દ્રીય',\n  'મંત્રી',\n  'રવિશંકર',\n  'પ્રસાદે',\n  'મોદીના',\n  'સંબોધનની',\n  'મુખ્યવાતો',\n  'મીડિયાને',\n  'જણાવી',\n  '.'],\n ['તેમના', 'નિવેદન', 'પર', 'પાર્ટીએ', 'પણ', 'અંતર', 'જાળવ્યું', 'હતું', '.'],\n ['કેન્ટ',\n  'પોલીસ',\n  'કમાન્ડર',\n  'જારોડ',\n  'કાસનરના',\n  'જણાવ્યાં',\n  'મુજબ',\n  'સિખ',\n  'અને',\n  'અન્ય',\n  'સમુદાય',\n  'પરના',\n  'લોકો',\n  'પર',\n  'થઈ',\n  'રહેલા',\n  'હુમલા',\n  'ચિંતાના',\n  'વાત',\n  'છે',\n  '.'],\n ['દિલ્હીઃ',\n  'દિલ્હી',\n  'હિંસામાં',\n  'મૃત્યુઆંક',\n  'વધીને',\n  '42',\n  'થઈ',\n  'ગયો',\n  'છે',\n  '.'],\n ['યુએસ',\n  'જિયોલોજિકલ',\n  'સર્વે',\n  'મુજબ',\n  'ભૂકંપની',\n  'શરૂઆતી',\n  'તીવ્રતા',\n  '7.5',\n  'હતી',\n  '.'],\n ['હોલોકાસ્ટની', 'શરૂઆત'],\n ['માચિસ', 'અને', 'બ્રશ', '.'],\n ['બેસ્ટ',\n  'ડેબ્યુ',\n  'ફિલ્મ',\n  'ઓફ',\n  'અ',\n  'ડિરેક્ટર',\n  '-',\n  'દીપ',\n  'ચૌધરી',\n  '(',\n  'અલિફા',\n  ')'],\n ['વાસ્તવવાદી', 'છબીઓ', '.'],\n ['હવામાન', 'વિભાગના', 'સૂત્રોના', 'જણાવ્યાનુસાર', 'દ', '.'],\n ['વરથુ',\n  'ગામના',\n  'લોકોનો',\n  'મુખ્ય',\n  'વ્યવસાય',\n  'ખેતી',\n  ',',\n  'ખેતમજૂરી',\n  'તેમ',\n  'જ',\n  'પશુપાલન',\n  'છે',\n  '.'],\n ['પ્રધાનમંત્રી',\n  'શ્રી',\n  'નરેન્દ્ર',\n  'મોદીની',\n  'અધ્યક્ષતામાં',\n  'મંત્રીમંડળે',\n  'ટેલીકોમ',\n  'સેવા',\n  'ક્ષેત્રની',\n  'નાણાકીય',\n  'ખેંચની',\n  'સમસ્યાને',\n  'હળવી',\n  'કરવા',\n  'માટેનાં',\n  'એક',\n  'દરખાસ્તને',\n  'મંજૂરી',\n  'આપી',\n  'છે',\n  ',',\n  'જે',\n  'નીચે',\n  'મુજબ',\n  'છેઃ'],\n ['ભૂકંપના',\n  'ઝાટકા',\n  'નિકારાગુઆની',\n  'રાજધાની',\n  'માનાગુઆ',\n  'અને',\n  'કોસ્ટા',\n  'રિકાની',\n  'રાજધાની',\n  'સૈન',\n  'જોસ',\n  'સુધી',\n  'મહેસૂસ',\n  'થયા',\n  '.'],\n ['આ',\n  'સમય',\n  'દરમિયાન',\n  ',',\n  'ઓરેકલ',\n  '(',\n  'Oracle',\n  ')',\n  'સાયબેઝથી',\n  'પાછળ',\n  'ધકેલાયું',\n  '.'],\n ['તે',\n  'ખાલી',\n  'પેટ',\n  'પર',\n  'તે',\n  'લેવા',\n  'માટે',\n  'ભલામણ',\n  'કરવામાં',\n  'આવે',\n  'છે',\n  '.'],\n ['મોદીએ', 'આપ્યો', 'જવાબ'],\n ['\"',\n  'તેમના',\n  '\"',\n  '\"',\n  'એન્કોમિયમ',\n  'ટુ',\n  'હાલેન',\n  '\"',\n  '\"',\n  'માં',\n  ',',\n  'ગોર્ગીયાસે',\n  'પણ',\n  'ત્રોજન',\n  'યુદ્ધના',\n  'પ્રારંભમાં',\n  'પૌરાણિક',\n  'હાલેનની',\n  'દોષોને',\n  'સાબિત',\n  'કરવા',\n  'માટે',\n  'પોતાની',\n  'ખુશી',\n  'વ્યક્ત',\n  'કરીને',\n  'કલ્પાનમાં',\n  'રેટરિક',\n  'લાગુ',\n  'પાડ્યો',\n  'હોત',\n  '.',\n  '\"'],\n ['આને', 'કારણે', 'કોંગ્રેસને', 'મોટો', 'ફટકો', 'પડ્યો', 'છે', '.'],\n ['રૈના',\n  'અને',\n  'શિખર',\n  'વચ્ચે',\n  'ત્રીજી',\n  'વિકેટ',\n  'માટે',\n  '68',\n  'રનોની',\n  'ભાગીદારી',\n  'થઇ',\n  'હતી',\n  '.'],\n ['ચાર',\n  'રાજ્યોના',\n  'વિધાનસભા',\n  'ચૂંટણીના',\n  'પરિણામ',\n  'સામે',\n  'આવી',\n  'ચુક્યા',\n  'છે',\n  '.'],\n ['રાષ્ટ્રપતિ',\n  'પુતિને',\n  'આર્કટિક',\n  'ક્ષેત્રમાં',\n  'પ્રાકૃતિક',\n  'ગેસની',\n  'ક્ષમતાનો',\n  'ઉલ્લેખ',\n  'કરીને',\n  'ભારતને',\n  'ત્યાં',\n  'નિવેશ',\n  'માટે',\n  'આમંત્રણ',\n  'પાઠવ્યું',\n  'છે',\n  '.'],\n ['તેમજ', 'આ', 'બાબતે', 'કાર્યવાહી', 'કરવા', 'રજૂઆત', 'પણ', 'કરી', 'હતી', '.'],\n ['આ',\n  'ડેટામાં',\n  'મહારાષ્ટ્ર',\n  ',',\n  'ગુજરાત',\n  ',',\n  'દિલ્હી',\n  ',',\n  'ઉત્તરપ્રદેશ',\n  ',',\n  'પશ્ચિમ',\n  'બંગાળ',\n  'અને',\n  'આંધ્રપ્રદેશનો',\n  'સમાવેશ',\n  'થાય',\n  'છે',\n  '.'],\n ['આ', 'માટે', 'કારણો', 'હોઈ', 'શકે', 'છેઃ'],\n ['જગન્નાથ', 'મંદિર', ',', 'પુરીઃ'],\n ['ગૃહમંત્રી',\n  'રાજનાથ',\n  'સિંહ',\n  'ગુજરાતના',\n  'બારડોલીમાં',\n  'ભાજપની',\n  'ગૌરવ',\n  'યાત્રામાં',\n  'હાજર',\n  'રહ્યા',\n  'હતા',\n  '.'],\n [\"'\",\n  'રાહુલજીએ',\n  'જ્યારે',\n  'જોઇ',\n  'તો',\n  'તેમણે',\n  '30',\n  'ચિલિંગ',\n  'પ્લાન્ટ',\n  'લગાવ્યા',\n  '.'],\n ['કેવી', 'રીતે', 'અધિકાર', 'વિષય', 'પસંદ', 'કરવા', 'માટે', '?'],\n ['ભારતીય',\n  'વન',\n  'સેવા',\n  '(',\n  'આઈએફએસ',\n  ')',\n  'ના',\n  'અધિકારી',\n  'પ્રવીણ',\n  'કસવાને',\n  'આ',\n  'વીડિયો',\n  'શેર',\n  'કર્યો',\n  'છે',\n  '.'],\n ['ફિલ્મમાં',\n  'અનિલ',\n  'કપુર',\n  'અને',\n  'કૃણાલ',\n  'ખેમુની',\n  'પણ',\n  'ભૂમિકા',\n  'રહેલી',\n  'છે',\n  '.'],\n ['કુટુંબનો', 'સહકાર'],\n ['ભાજપ', 'માટે', 'મતની', 'માગશે', '.'],\n ['હું', 'આઈપીએલ', 'માટે', 'ઉપલબ્ધ', 'નથી', '.'],\n ['જોવા', 'મળે', 'છે', '.'],\n ['કોરિયા',\n  'પ્લસે',\n  'લગભગ',\n  'બે',\n  'વર્ષનાં',\n  'ટૂંકા',\n  'ગાળામાં',\n  '100થી',\n  'વધારે',\n  'કોરિયન',\n  'રોકાણકારોને',\n  'સન્માનિત',\n  'કર્યા',\n  'છે',\n  '.'],\n ['તદોબા',\n  'રિસર્વ',\n  'મહારાષ્ટ્ર',\n  'ચન્દ્રપુર',\n  'જિલ્લામાં',\n  'આવેલું',\n  'છે',\n  '.'],\n ['ધાર્મિક',\n  'પ્રવૃત્તિઓ',\n  'અને',\n  'પ્રકાશનોઃ',\n  'દેશભરમાં',\n  'ધાર્મિક',\n  'પ્રવૃત્તિઓ',\n  'હાથ',\n  'ધરવામાં',\n  'આવશે',\n  '.'],\n ['આમ', 'પાંચ', 'બેઠકો', 'ભાજપના', 'હાથમાં', 'હતી', '.'],\n ['આ', 'ઉપાય', 'રોજ', 'કરી', 'શકાય', 'છે', '.'],\n ['ગુજરાતને',\n  'સરદાર',\n  'પટેલ',\n  'અને',\n  'મહાત્મા',\n  'ગાંધી',\n  'જેવા',\n  'મહાન',\n  'નેતાઓની',\n  \"'\",\n  'જન્મભૂમિ',\n  \"'\",\n  'અને',\n  \"'\",\n  'કર્મભૂમિ',\n  \"'\",\n  'ગણાવીને',\n  'ઉપ',\n  '-',\n  'રાષ્ટ્રપતિએ',\n  'ગ્રામ',\n  'સ્વરાજના',\n  'વિઝનનું',\n  'વાસ્તવિકતામાં',\n  'રૂપાંતર',\n  'કરવા',\n  'અનુરોધ',\n  'કર્યો',\n  'હતો',\n  '.'],\n ['સલમાન',\n  'ખાન',\n  ',',\n  'રણવીર',\n  'સિંઘ',\n  ',',\n  'વિકી',\n  'કૌશલ',\n  ',',\n  'માધૂરી',\n  'દીક્ષિત',\n  ',',\n  'કેટરીના',\n  'કૈફ',\n  'અને',\n  'સારા',\n  'અલી',\n  'ખાન',\n  'જેવા',\n  'સિતારાઓ',\n  'મંચપ્રદર્શન',\n  'કરીને',\n  'સૌને',\n  'મંત્રમુગ્ધ',\n  'કરશે',\n  '.'],\n ['આ', 'ફિલ્મને', 'આશિક', 'અબૂએ', 'ડિરેક્ટ', 'કરી', 'છે', '.'],\n ['ફિલ્મમાં',\n  'સૂરજ',\n  'શર્મા',\n  'ભૂત',\n  'અનુષ્કાને',\n  'મળે',\n  'છે',\n  'અને',\n  'તેના',\n  'લગ્ન',\n  'અનિચ્છાએ',\n  'એક',\n  'ઝાડ',\n  'સાથે',\n  'થઈ',\n  'જાય',\n  'છે',\n  '.'],\n ['પ્રધાનમંત્રી',\n  'શ્રી',\n  'નરેન્દ્ર',\n  'મોદીએ',\n  'આજે',\n  'જીએસટીના',\n  'અમલ',\n  'માટેની',\n  'સ્થિતિમાં',\n  'થયેલી',\n  'પ્રગતિની',\n  'સમીક્ષા',\n  'કરી',\n  'હતી',\n  ',',\n  'જેનો',\n  '1',\n  'જુલાઈથી',\n  'અમલ',\n  'થવાનો',\n  'છે'],\n ['તે', 'ખરીદો', 'વર્થ', 'છે', '?'],\n ['આ',\n  'ફિલ્મમાં',\n  'અનુષ્કા',\n  'સાથે',\n  'શહરૂખ',\n  'ખાન',\n  'અને',\n  'કેટરીના',\n  'કૈફ',\n  'હતા',\n  '.'],\n ['અમેરિકાના',\n  'રાષ્ટ્રપતિ',\n  'ડોનાલ્ડ',\n  'ટ્રમ્પ',\n  'અમદાવાદ',\n  'એરપોર્ટ',\n  'પર',\n  'ઉતરશે'],\n ['વન્યજીવન',\n  'અભયારણ્ય',\n  'ખાતે',\n  'મુખ્યત્વે',\n  'વેટલેન્ડ',\n  'છે',\n  ',',\n  'જે',\n  'ગંડકી',\n  'નદીના',\n  'પૂરક્ષેત્રમાં',\n  'આવેલ',\n  'ઓક્સબો',\n  'તળાવ',\n  'ખાતે',\n  'સ્થિત',\n  'છે',\n  '.'],\n ['મનમોહનસિંહ',\n  'અને',\n  'પ્રિયંકા',\n  'ગાંધીએ',\n  'રાહુલ',\n  'સાથે',\n  'બેઠક',\n  'યોજી',\n  'હતી',\n  '.'],\n ['નીચાણવાળા', 'વિસ્તારોમાં', 'સ્થિતિ', 'ખરાબ', 'થયેલી', 'છે', '.'],\n ['\"',\n  'તેના',\n  'ઉદાહરણોમાં',\n  'યુરોપીયન',\n  'યુનિફાઇટ',\n  ',',\n  'મેટ',\n  'લાર્સન',\n  'દ્વારા',\n  'વિકસાવવામાં',\n  'આવેલી',\n  'યુ',\n  '.',\n  'એસ',\n  '.',\n  'લશ્કરની',\n  'તકરારી',\n  'પદ્ધતિ',\n  ',',\n  'ઇઝરાયેલી',\n  'લશ્કર',\n  'તેના',\n  'સૈનિકોને',\n  'કાપાપ',\n  'અને',\n  'ક્રાવ',\n  'માગામાં',\n  'તાલીમ',\n  'આપે',\n  'છે',\n  'અને',\n  'યુએસ',\n  'મરીન',\n  'કોર્પસના',\n  '\"',\n  '\"',\n  'મરીન',\n  'કોર્પસ',\n  'માર્શલ',\n  'આર્ટસ',\n  'પ્રોગ્રામ',\n  '\"',\n  '\"',\n  '(',\n  'એમસીએમએપી',\n  ')',\n  'નો',\n  'સમાવેશ',\n  'થાય',\n  'છે',\n  '.',\n  '\"'],\n ['બ્રિક્સ',\n  'સંગઠનનાં',\n  'સભ્ય',\n  'દેશોનાં',\n  'શ્રમ',\n  'અને',\n  'રોજગારી',\n  'કાર્યકારી',\n  'જૂથ',\n  '(',\n  'ઇડબલ્યુજી',\n  ')',\n  'ની',\n  'પ્રથમ',\n  'બેઠક',\n  '-',\n  '7થી',\n  '10',\n  'મે',\n  '(',\n  'મ્પુમલંગા',\n  ')'],\n ['Skydome', 'ઢાળ', 'શરૂઆત', 'રંગ'],\n ['જ્યારે', 'ભાજપ', '8', 'બેઠકો', 'પર', 'આગળ', 'ચાલી', 'રહ્યો', 'છે', '.'],\n ['હાલમાં',\n  'તેની',\n  'સામે',\n  'લંડનની',\n  'કોર્ટમાં',\n  'પ્રત્યાર્પણનો',\n  'કેસ',\n  'ચાલે',\n  'છે',\n  '.'],\n ['હવે',\n  'આ',\n  'કેસની',\n  'તપાસ',\n  'સીબીઆઈ',\n  ',',\n  'ઈડી',\n  'અને',\n  'એનસીબી',\n  'જેવી',\n  'એજન્સીઓ',\n  'કરી',\n  'રહી',\n  'છે',\n  '.'],\n ['છ', 'લોકો', 'સામે', 'નોંધાયો', 'ગુનો'],\n ['દોહા',\n  'ડેવલપમેન્ટ',\n  'એજન્ડા',\n  '(',\n  'ડીડીએ',\n  ')',\n  'ના',\n  'મુદ્દાઓ',\n  'પર',\n  'પ્રાથમિકતાના',\n  'ધોરણે',\n  'વધુ',\n  'વાતચીત',\n  'હાથ',\n  'ધરવાની',\n  'જરૂરિયાત',\n  'પર',\n  'પણ',\n  'અમે',\n  'ભાર',\n  'મૂક્યો',\n  '.'],\n ['સીનિયર',\n  '55',\n  'કિગ્રાની',\n  'કેટેગરીમાં',\n  'સોરોઇખાઇબામ',\n  'બિંદિયા',\n  'રાની',\n  'અને',\n  'મત્સા',\n  'સંતોષીઍ',\n  'અનુક્રમે',\n  'ગોલ્ડ',\n  'અને',\n  'સિલ્વર',\n  'મેડલ',\n  'જીત્યો',\n  'હતો',\n  '.'],\n ['બજાજ',\n  'ઓટોએ',\n  '2020',\n  'સુધીમાં',\n  'ઇલેક્ટ્રિક',\n  'વાહનો',\n  'માટે',\n  'નવી',\n  'બ્રાન્ડ',\n  \"'\",\n  'અર્બનાઇટ',\n  \"'\",\n  'લોન્ચ',\n  'કરવાની',\n  'જાહેરાત',\n  'કરી',\n  'છે',\n  '.'],\n ['માસ્ટર', 'ઓફ', 'આર્ટસ', '-', 'સમાજશાસ્ત્ર', '(', 'MSO', ')'],\n ['આ',\n  'ત્રણેય',\n  'આરોપીઓનાં',\n  'નામ',\n  'વૈભવ',\n  'રાઉત',\n  ',',\n  'શરદ',\n  'કલાસ્કર',\n  'અને',\n  'સુધન્વા',\n  'ગોંડલેકર',\n  'છે',\n  '.'],\n ['દક્ષિણ',\n  'ગુજરાતમાં',\n  'ભારેથી',\n  'અતિભારે',\n  'વરસાદની',\n  'હવામાન',\n  'ખાતાની',\n  'આગાહી'],\n ['આઇએનએક્સ',\n  'મીડિયા',\n  'મની',\n  'લોન્ડરિંગ',\n  'કેસમાં',\n  'આરોપી',\n  'પૂર્વ',\n  'નાણામંત્રી',\n  'પી',\n  '.',\n  'ચિદમ્બરમ',\n  'ના',\n  'પુત્ર',\n  'કાર્તિ',\n  'ચિદમ્બરમની',\n  'ધરપકડ',\n  'કરવામાં',\n  'આવી',\n  'છે',\n  '.'],\n ['પ્રધાનમંત્રી',\n  'આવતીકાલે',\n  'દાદરા',\n  'અને',\n  'નગર',\n  'હવેલીની',\n  'મુલાકાત',\n  'લેશે'],\n ['મોતેસરી',\n  'ગામના',\n  'લોકોનો',\n  'મુખ્ય',\n  'વ્યવસાય',\n  'ખેતી',\n  ',',\n  'ખેતમજૂરી',\n  'તેમ',\n  'જ',\n  'પશુપાલન',\n  'છે',\n  '.'],\n ['અન્ય', 'કાયદાકીય', 'માહિતી'],\n ['પ્રધાનમંત્રીનું',\n  'કાર્યાલય',\n  'પ્રધાનમંત્રીએ',\n  'વીડિયો',\n  'કોન્ફરન્સનાં',\n  'માધ્યમથી',\n  'દેશભરમાં',\n  'ગ્રામીણ',\n  'વિદ્યુતીકરણ',\n  'અને',\n  'સૌભાગ્ય',\n  'યોજનાઓનાં',\n  'લાભાર્થીઓ',\n  'સાથે',\n  'વાર્તાલાપ',\n  'કર્યો',\n  'પ્રધાનમંત્રી',\n  'શ્રી',\n  'નરેન્દ્ર',\n  'મોદીએ',\n  'વર્ષ',\n  '2014',\n  'પછી',\n  'વિદ્યુતીકરણ',\n  'થયેલા',\n  'દેશભરનાં',\n  'ગામડાંઓનાં',\n  'નાગરિકોની',\n  'સાથે',\n  'આજે',\n  'વાતચીત',\n  'કરી',\n  'હતી',\n  '.'],\n ['કોંગ્રેસના', 'ભાજપ', 'સરકરા', 'પર', 'આરોપ'],\n ['આ',\n  'અંગે',\n  'ચાંદખેડા',\n  'પોલીસે',\n  'ગુનો',\n  'દાખલ',\n  'કરી',\n  'વધુ',\n  'તપાસ',\n  'હાથ',\n  'ધરી',\n  'છે',\n  '.'],\n ['પોલીસે',\n  'આ',\n  'ઘટનાની',\n  'તપાસ',\n  'હેઠળ',\n  '200',\n  'શકમંદોની',\n  'પૂછપરછ',\n  'કરી',\n  'અને',\n  'બીજે',\n  'જ',\n  'દિવસે',\n  'ઝાબુઆમાંથી',\n  '30',\n  'વર્ષીય',\n  'આદિવાસી',\n  'નંદી',\n  'ગમાડની',\n  'ધરપકડ',\n  'કરી',\n  'લીધી',\n  '.'],\n ['કોંગ્રેસના',\n  'રાષ્ટ્રીય',\n  'અધ્યક્ષ',\n  'રાહુલ',\n  'ગાંધીએ',\n  'તાજેતરમાં',\n  'ચૂંટણી',\n  'પ્રચાર',\n  'દરમિયાન',\n  \"'\",\n  'બધા',\n  'મોદી',\n  'ચોર',\n  'છે',\n  \"'\",\n  'એ',\n  'બાબતે',\n  'નિવેદન',\n  'આપ્યું',\n  'હતું',\n  '.'],\n ['આ',\n  'ફિલ્મ',\n  'ધર્મા',\n  'પ્રોડક્શન',\n  'દ્વારા',\n  'તૈયાર',\n  'કરવામાં',\n  'આવી',\n  'હતી',\n  '.'],\n ['ત્રણ', 'શ્વાન', 'તેમના', 'માલિકો', 'સાથે', 'મળીને', 'huddled', 'છે'],\n ['તો',\n  'બીજી',\n  'તરફ',\n  'ભાજપ',\n  'અધ્યક્ષ',\n  'અમિત',\n  'શાહ',\n  'અને',\n  'કેન્દ્રીય',\n  'પ્રધાનોની',\n  'ફોજે',\n  'પ્રચાર',\n  'માટે',\n  'જોર',\n  'લગાવ્યું',\n  '.'],\n ['મોટોરોલા',\n  'મોટો',\n  'જી4',\n  'પ્લસમાં',\n  'ઓક્ટા',\n  '-',\n  'કોર',\n  'ક્વોલકોમ',\n  'સ્નેપડ્રેગન',\n  '617',\n  'પ્રોસેસર',\n  'છે',\n  '.'],\n ['આ', 'કૌભાંડને', 'ઈડી', 'પણ', 'તપાસી', 'રહ્યું', 'છે', '.'],\n ['જોકે',\n  'આ',\n  'પ્લાનને',\n  'હજુ',\n  'સરકારનું',\n  'ગ્રીન',\n  'સિગ્નલ',\n  'મળવાનું',\n  'બાકી',\n  'છે',\n  '.'],\n ['નેહા',\n  'કક્કડ',\n  'સાથે',\n  'બ્રેકઅપ',\n  'અંગે',\n  'પહેલીવાર',\n  'હિમાંશ',\n  'કોહલીએ',\n  'કર્યો',\n  'ખુલાસો'],\n ['આ',\n  'બેઠકમાં',\n  'ગુજરાતના',\n  'મુખ્યપ્રધાન',\n  'વિજય',\n  'રૂપાણી',\n  ',',\n  'ગોવાના',\n  'સીએમ',\n  'ડૉ',\n  '.',\n  'પ્રમોદ',\n  'સાંવત',\n  ',',\n  'મહારાષ્ટ્રના',\n  'સીએમ',\n  'દેવેન્દ્ર',\n  'ફડણવીસ',\n  'અને',\n  'દમણ',\n  'અને',\n  'દીવ',\n  'અને',\n  'દાદરા',\n  'અને',\n  'નગર',\n  'હવેલીના',\n  'કેન્દ્ર',\n  'શાસિત',\n  'પ્રશાસક',\n  'પ્રફુલ',\n  'પટેલ',\n  'અને',\n  'વરિષ્ઠ',\n  'અધિકારીઓ',\n  'ઉપસ્થિત',\n  'રહ્યાં',\n  'હતાં',\n  '.'],\n ['છત્તીસગઢમાં', '90', 'સીટો', 'આવેલી', 'છે', '.'],\n ['બે', 'જિરાફ', 'કેટલાક', 'બ્રશ', 'નજીક', 'ગરદન', 'માટે', 'ગરદન', 'ઉભા', '.'],\n ['મુખ્ય',\n  'ઘરેલું',\n  'પ્લેયરમાં',\n  'M',\n  '/',\n  's',\n  'ભારત',\n  'ઇલેક્ટ્રોનીક્સ',\n  'લિમિટેડ',\n  '(',\n  'સ્કેનરે',\n  'સાથેના',\n  'સહયોગ',\n  'વડે',\n  ')',\n  'નો',\n  'સમાવેશ',\n  'થાય',\n  'છે',\n  'કે',\n  'જેને',\n  '૩૦',\n  ',',\n  '000',\n  'વેન્ટીલેટર્સનો',\n  'ઓર્ડર',\n  'આપવામાં',\n  'આવ્યો',\n  'છે',\n  '.'],\n ['પેટ્રોલિયમ', 'અને', 'કુદરતી', 'ગેસ', 'મંત્રી', 'તથા', 'સ્ટીલ', 'મંત્રી'],\n ['હું', 'મુંબઇમાં', 'અજાણી', 'હતી', '.'],\n ['નંદા',\n  'દેવી',\n  'પર્વત',\n  'દેશની',\n  'બીજી',\n  'સૌથી',\n  'ઉંચી',\n  'પર્વત',\n  'શ્રેણી',\n  'છે',\n  '.'],\n ['\"',\n  'એડવાન્ટેજ',\n  'આસામ',\n  ':',\n  'ભારતનો',\n  'આસિયાન',\n  'તરફનો',\n  'એક્સપ્રેસ',\n  'માર્ગ',\n  '\"',\n  '-',\n  'આ',\n  'માત્ર',\n  'એક',\n  'વાક્ય',\n  'નથી',\n  'પરંતુ',\n  'એક',\n  'સંપૂર્ણ',\n  'દ્રષ્ટિકોણ',\n  'છે',\n  '.'],\n ['બૌદ્ધ',\n  'મઠ',\n  'ઝાંગ',\n  'ધોક',\n  'પાલરી',\n  'પોડાંગ',\n  'ઘણા',\n  'અલભ્ય',\n  'તિબેટીઅન',\n  'બૌદ્ધધર્મના',\n  'ગ્રંથ',\n  'ધરાવે',\n  'છે',\n  '.'],\n ['રાજ્યનાં',\n  'રાજ્યપાલ',\n  'પ્રોફેસર',\n  'ગણેશી',\n  'લાલ',\n  ',',\n  'મુખ્યમંત્રી',\n  'શ્રી',\n  'નવીન',\n  'પટનાયક',\n  'તથા',\n  'કેન્દ્રીય',\n  'પેટ્રોલિયમ',\n  'અને',\n  'કુદરતી',\n  'ગેસ',\n  'મંત્રી',\n  'શ્રી',\n  'ધર્મેન્દ્ર',\n  'પ્રધાન',\n  'પણ',\n  'હવાઈ',\n  'સર્વેક્ષણમાં',\n  'પ્રધાનમંત્રી',\n  'સાથે',\n  'જોડાયા',\n  'હતા'],\n ['અને', 'વિરોધ', 'દર્શાવ્યો', 'હતો', '.'],\n ['તેમણે',\n  'બાંગ્લાદેશના',\n  'કમાન્ડ',\n  'એન્ડ',\n  'સ્ટાફ',\n  'કોલેજથી',\n  'ડિફેન્સ',\n  'સ્ટડીઝમાં',\n  'માસ્ટર',\n  'ડિગ્રી',\n  'લીધી',\n  'છે',\n  '.'],\n ['લોસાર',\n  ',',\n  'લુસોન્ગ',\n  ',',\n  'સાગા',\n  'દવા',\n  ',',\n  'લ્હાબાબ',\n  'દ્યુચેન',\n  ',',\n  'દ્રુપ્કા',\n  'તેશી',\n  'અને',\n  'ભુમચુ',\n  'જેવા',\n  'બૌદ્ધ',\n  'તહેવારો',\n  'સિક્કિમમાં',\n  'ઉજવાય',\n  'છે',\n  '.'],\n ['આ', 'ફિલ્મનું', 'પોસ્ટર', 'રિલીઝ', 'થયું', 'છે', '.'],\n ['યુટીએસ',\n  'અને',\n  'પીઆરએસ',\n  'સહિત',\n  'બુકિંગ',\n  'માટે',\n  'તમામ',\n  'ટિકિટ',\n  'કાઉન્ટર',\n  'વધારે',\n  'ઓર્ડર્સ',\n  'સુધી',\n  'સસ્પેન્ડ',\n  'રહેશેઆગળની',\n  'સૂચના',\n  'સુધી',\n  'ઇ',\n  '-',\n  'ટિકિટ',\n  'સહિત',\n  'ટ્રેનોની',\n  'ટિકિટ',\n  'માટે',\n  'એડવાન્સ',\n  'રિઝર્વેશન',\n  'નહીં',\n  'થાય',\n  '.',\n  'જોકે',\n  'ઓનલાઇન',\n  'ટિકિટ',\n  'રદ',\n  'કરવાની',\n  'સુવિધા',\n  'કાર્યરત',\n  'રહશેરદ',\n  'થયેલી',\n  'ટ્રેનોના',\n  'રિઝર્વેશન',\n  'માટે',\n  'પૂરેપુરૂ',\n  'રિફંડ',\n  'મળશેજે',\n  'ટ્રેનો',\n  'હજુ',\n  'રદ',\n  'થઈ',\n  'નથી',\n  'એ',\n  'લોકો',\n  'માટે',\n  'ટિકિટનું',\n  'એડવાન્સ',\n  'બુકિંગ',\n  'રદ',\n  'કરાવનાર',\n  'લોકોને',\n  'પૂરેપુરૂ',\n  'રિફંડ',\n  'મળશે'],\n ['યુનિયન',\n  'બેંક',\n  'ઑફ',\n  'ઇન્ડિયાની',\n  'ફરિયાદ',\n  'પર',\n  'CBIએ',\n  'ટોટેમ',\n  'ઇન્ફ્રાસ્ટ્રક્ચર',\n  'લિમિટે',\n  'તેના',\n  'પ્રોમોટર',\n  '-',\n  'ડિરેક્ટર',\n  'ટોટેમપુદી',\n  'સલાલિથ',\n  'અને',\n  'ટોટમપુદી',\n  'કવિતા',\n  'વિરુદ્ઘ',\n  'કેસ',\n  'નોંધી',\n  'લીધો',\n  'છે',\n  '.'],\n ['ડિરેક્ટરઃ', 'તનુજા', 'ચંદ્રા'],\n ['વાહિની',\n  'અને',\n  'એબીવીપી',\n  'દ્વારા',\n  'હાથ',\n  'ધરવામાં',\n  'આવેલી',\n  'હિંસાના',\n  'વિરોધમાં',\n  'એએમયુના',\n  'વિદ્યાર્થીઓએ',\n  'પ્રદર્શન',\n  'કર્યા',\n  'હતા',\n  '.'],\n ['અલકા', 'લાંબાએ', 'આમ', 'આદમી', 'પાર્ટીમાંથી', 'આપ્યું', 'રાજીનામું'],\n ['3', 'મોટી', 'ચમચી', 'વાટેલુ', 'લસણ'],\n ['દિલ્લીમાં',\n  'એક',\n  'પછી',\n  'એક',\n  'આગ',\n  'લાગવાની',\n  'દૂર્ઘટનાઓ',\n  'બની',\n  'રહી',\n  'છે',\n  '.'],\n ['ન્યૂઝીલેન્ડ',\n  '4',\n  'મેચમાં',\n  '7',\n  'પોઈન્ટ',\n  'મેળવીને',\n  'પોઈન્ટ્સ',\n  'ટેબલમાં',\n  'પહેલા',\n  'નંબર',\n  'પર',\n  'છે'],\n ['આ', 'કોઈ', 'નાની', 'મોટી', 'રકમ', 'નથી', '.'],\n ['ચક્રી',\n  'તોલેતી',\n  'ડાયરેક્શનમાં',\n  'બનેલી',\n  'આ',\n  'ફિલ્મમાં',\n  'સોનાક્ષી',\n  'પંજાબી',\n  'સિંગર',\n  'અને',\n  'અભિનેતા',\n  'દલજીત',\n  'દોસાંત',\n  'સાથે',\n  'જોવા',\n  'મળશે',\n  '.'],\n ['આ',\n  'ફિલ્મમાં',\n  'ઇન્ડિયન',\n  'એક્ટ્રેસ',\n  'ડિમ્પલ',\n  'કાપડિયા',\n  'પણ',\n  'સામેલ',\n  'છે',\n  '.'],\n ['તેઓ',\n  'મનીષા',\n  'કોઇરાલા',\n  'મારફત',\n  'મને',\n  'મળવા',\n  'માટે',\n  'આવ્યા',\n  'હતા',\n  '.'],\n ['તે',\n  'એસ',\n  '.',\n  'ડી',\n  '.',\n  'યુ',\n  '.',\n  'નીચલા',\n  'સ્તરની',\n  'પીડીયુમાં',\n  'દાખલ',\n  'કરવામાં',\n  'આવે',\n  'છે',\n  'અને',\n  'OSI',\n  'સ્ટેકની',\n  'PHY',\n  ',',\n  'ભૌતિક',\n  'અથવા',\n  'નીચલા',\n  'સ્તર',\n  'સુધી',\n  'પહોંચતા',\n  'પ્રક્રિયા',\n  'ચાલુ',\n  'રહે',\n  'છે',\n  '.'],\n ['ખાસ',\n  'કરીને',\n  'દક્ષિણ',\n  'ગુજરાત',\n  'અને',\n  'સૌરાષ્ટ્રમાં',\n  'ભારે',\n  'વરસાદની',\n  'શક્યતા',\n  'જોવાઇ',\n  'રહી',\n  'છે',\n  '.'],\n ['વર્ક',\n  'ફ્રન્ટની',\n  'વાત',\n  'કરીએ',\n  'તો',\n  'આમિર',\n  'ખાન',\n  'હાલ',\n  'તેની',\n  'આવનારી',\n  'ફિલ્મ',\n  \"'\",\n  'લાલ',\n  'સિંહ',\n  'ચઢ્ઢા',\n  \"'\",\n  'ની',\n  'તૈયારીઓમાં',\n  'લાગેલા',\n  'છે',\n  '.'],\n ['કોંગ્રેસની', 'પાસે', 'કોઇ', 'રોડમેપ', 'નથી', '.'],\n ['પાત્રને',\n  'પ્રત્યેકરૂપે',\n  'વાસ્તવિક',\n  'બનાવી',\n  'રાખવા',\n  'માટે',\n  ',',\n  'ફિલ્મની',\n  'આખી',\n  'સ્ટારકાસ્ટે',\n  'માત્ર',\n  'એક',\n  'પોશાકમાં',\n  'જ',\n  'ફિલ્મની',\n  'આખી',\n  'શૂટિંગ',\n  'પૂરી',\n  'કરી',\n  'છે',\n  '.'],\n ['કોણ', 'છે', 'કાંધલ', 'જાડેજા', '?'],\n ['આ',\n  'ફિલ્મની',\n  'ટક્કર',\n  'બોક્સ',\n  'ઓફિસ',\n  'પર',\n  'અજય',\n  'દેવગણની',\n  'ફિલ્મ',\n  \"'\",\n  'તાનાજીઃ',\n  'ધ',\n  'અનસંગ',\n  'વોરિયર',\n  \"'\",\n  'સાથે',\n  'થશે',\n  '.'],\n ['ભારત', 'બહુ', 'મોટું', 'માર્કેટ', 'છે', '.'],\n ['ભાજપમાં', 'આંતરકલહ', 'પણ', 'કાંઈ', 'ઓછો', 'નથી', '.'],\n ['ઓક્લાહોમા', 'શહેર', 'NEXRAD'],\n ['વધુ', 'માહિતીનો', 'ઈંતેજાર', 'છે', '.'],\n ['રિતેશ', 'દેશમુખ', 'અને', 'જેનેલિયા', 'ડિસુઝા'],\n ['આ',\n  'કરાર',\n  'પર',\n  'રાષ્ટ્રપતિ',\n  'ટ્રમ્પ',\n  'અને',\n  'ચીનના',\n  'નાયબ',\n  'વડા',\n  'પ્રધાન',\n  'લિયુ',\n  'હી',\n  'દ્વારા',\n  'હસ્તાક્ષર',\n  'થયા',\n  '.'],\n ['ફેમિલી', 'જીવનસાથી', 'સાથે', 'સંબંધ', 'મજબૂત', 'બનશે', '.'],\n ['જે',\n  'સ્થળોએ',\n  'કોસ્ટ',\n  'ગાર્ડના',\n  'જહાજ',\n  'અને',\n  'હેલિકોપ્ટર',\n  'ભાગ',\n  'લેશે',\n  'તેની',\n  'વિગતો',\n  'આ',\n  'પ્રમાણે',\n  'છે',\n  ':',\n  'અનુક્રમ',\n  'નંબર',\n  'સ્થળ',\n  'જહાજ',\n  'હેલિકોપ્ટર',\n  '01',\n  'પોરબંદર',\n  'દમણ',\n  '02',\n  'ઓખા',\n  'મુંબઇ',\n  '03',\n  'રત્નાગીરી',\n  'ગોવા',\n  '04',\n  'દહાનુ',\n  'ચેન્નઇ',\n  '05',\n  'મુરુદ',\n  'પોર્ટ',\n  'બ્લેર',\n  '06',\n  'ગોવા',\n  '0',\n  'ન્યૂ',\n  'મેંગલોર',\n  '08',\n  'કાવરાત્તી',\n  '0',\n  'તૂતીકોરિન',\n  '10',\n  'કન્યાકુમારી',\n  '11',\n  'ચેન્નઇ',\n  '12',\n  'કૃષ્ણાપટ્ટનમ',\n  '13',\n  'નિઝામાપટ્ટનમ',\n  '14',\n  'પુડુચેરી',\n  '15',\n  'કાકીનાડા',\n  '16',\n  'પારાદીપ',\n  '1',\n  '18',\n  'સાગર',\n  'દ્વીપ',\n  '1',\n  'પોર્ટ',\n  'બ્લેર',\n  '20',\n  'દિગલીપુર',\n  '21',\n  'માયાબંદર',\n  '22',\n  'હટબે',\n  '23',\n  'કેમ્પબેલ',\n  'બે',\n  'કોસ્ટ',\n  'ગાર્ડના',\n  'જહાજ',\n  'અને',\n  'હેલિકોપ્ટર',\n  'સમુદ્રમાં',\n  'ચુસ્ત',\n  'દેખરેખ',\n  'રાખી',\n  'રહ્યા',\n  'છે',\n  'અને',\n  'ભારતીય',\n  'ઉપમહાદ્વીપની',\n  'આસપાસમાં',\n  'સુરક્ષિત',\n  'તેમજ',\n  'સંરક્ષિત',\n  'સાગર',\n  'સુનિશ્ચિત',\n  'કરવા',\n  'માટે',\n  'પ્રતિબદ્ધ',\n  'છે',\n  '.'],\n ['આ', 'વિસ્તારમાં', 'ચુસ્ત', 'પોલીસ', 'બંદોબસ્ત', 'ગોઠવાયો', 'છે', '.'],\n ['તમારા', 'ફોન', 'પુનઃશરૂ', 'કરો'],\n ['સુરક્ષા', 'અને', 'સંરક્ષણ', 'સહયોગ'],\n ['ગરીબોને',\n  'તેમના',\n  'ગામમાં',\n  'જ',\n  'રોજગારી',\n  'મળી',\n  'રહે',\n  'તે',\n  'માટે',\n  'ગરીબ',\n  'કલ્યાણ',\n  'રોજગાર',\n  'યોજના',\n  'શરૂ',\n  'કરવામાં',\n  'આવી',\n  'છે',\n  '.'],\n ...]"
          },
          "metadata": {}
        }
      ]
    },
    {
      "cell_type": "code",
      "source": [
        "# tokenize_and_align_labels(train_dataset)"
      ],
      "metadata": {
        "id": "ui1KNB9YEyMW",
        "execution": {
          "iopub.status.busy": "2024-03-13T07:38:02.879202Z",
          "iopub.execute_input": "2024-03-13T07:38:02.879492Z",
          "iopub.status.idle": "2024-03-13T07:38:02.883363Z",
          "shell.execute_reply.started": "2024-03-13T07:38:02.879468Z",
          "shell.execute_reply": "2024-03-13T07:38:02.882457Z"
        },
        "trusted": true
      },
      "execution_count": null,
      "outputs": []
    },
    {
      "cell_type": "code",
      "source": [
        "eval_dataset = raw_datasets[\"validation\"]\n",
        "eval_dataset = eval_dataset.map(\n",
        "    tokenize_and_align_labels,\n",
        "    batched=True,\n",
        "    num_proc=4,\n",
        "    load_from_cache_file=True,\n",
        "    desc=\"Running tokenizer on Validation dataset\",\n",
        ")"
      ],
      "metadata": {
        "id": "BSJSbqTzEyMW",
        "colab": {
          "base_uri": "https://localhost:8080/",
          "height": 49,
          "referenced_widgets": [
            "fe71e0be2c6c42f0aec0fd5f4559fb2e",
            "41d69e4c890b4509a79839d207872ab2",
            "ae2cc3f430a148c0aa09e88f7adb0ee2",
            "302f99e86b0247138ef062f1069625db",
            "59f3ad76934949a6aeb6c949d3a10e89",
            "14fff72a8da24385b75fc24df7a2e172",
            "bb59bf68822844b7a97e0e47e58f8f94",
            "1f9b88fe416044cf866bb21f8c8be393",
            "67b34195064144dcbbaf4d469813fbb9",
            "99922a981fec4cc98465499efa0ecbcc",
            "5c375be6fbef41c5a3ef1d69db3e8e99",
            "4711777782ec4d8684294e0b989b0e1a",
            "dbe3e9e24aa64c88b8965d5430d2f72b",
            "357138c837a6439a937d4372e77766b5",
            "52bfc42ba750450a968f2f0c63705518"
          ]
        },
        "outputId": "2b5cf4de-6792-4cfa-c51a-80ef1580980e",
        "execution": {
          "iopub.status.busy": "2024-03-13T07:38:02.884575Z",
          "iopub.execute_input": "2024-03-13T07:38:02.884850Z",
          "iopub.status.idle": "2024-03-13T07:38:03.944685Z",
          "shell.execute_reply.started": "2024-03-13T07:38:02.884827Z",
          "shell.execute_reply": "2024-03-13T07:38:03.943567Z"
        },
        "trusted": true
      },
      "execution_count": null,
      "outputs": [
        {
          "name": "stdout",
          "text": "        ",
          "output_type": "stream"
        },
        {
          "output_type": "display_data",
          "data": {
            "text/plain": "Running tokenizer on Validation dataset #0:   0%|          | 0/1 [00:00<?, ?ba/s]",
            "application/vnd.jupyter.widget-view+json": {
              "version_major": 2,
              "version_minor": 0,
              "model_id": "4711777782ec4d8684294e0b989b0e1a"
            }
          },
          "metadata": {}
        },
        {
          "output_type": "display_data",
          "data": {
            "text/plain": "Running tokenizer on Validation dataset #1:   0%|          | 0/1 [00:00<?, ?ba/s]",
            "application/vnd.jupyter.widget-view+json": {
              "version_major": 2,
              "version_minor": 0,
              "model_id": "dbe3e9e24aa64c88b8965d5430d2f72b"
            }
          },
          "metadata": {}
        },
        {
          "output_type": "display_data",
          "data": {
            "text/plain": "Running tokenizer on Validation dataset #2:   0%|          | 0/1 [00:00<?, ?ba/s]",
            "application/vnd.jupyter.widget-view+json": {
              "version_major": 2,
              "version_minor": 0,
              "model_id": "357138c837a6439a937d4372e77766b5"
            }
          },
          "metadata": {}
        },
        {
          "output_type": "display_data",
          "data": {
            "text/plain": "Running tokenizer on Validation dataset #3:   0%|          | 0/1 [00:00<?, ?ba/s]",
            "application/vnd.jupyter.widget-view+json": {
              "version_major": 2,
              "version_minor": 0,
              "model_id": "52bfc42ba750450a968f2f0c63705518"
            }
          },
          "metadata": {}
        }
      ]
    },
    {
      "cell_type": "code",
      "source": [
        "# !pip install accelerate>=0.21.0\n"
      ],
      "metadata": {
        "id": "PPCED_V-EyMW",
        "execution": {
          "iopub.status.busy": "2024-03-13T07:38:03.946446Z",
          "iopub.execute_input": "2024-03-13T07:38:03.946794Z",
          "iopub.status.idle": "2024-03-13T07:38:03.951669Z",
          "shell.execute_reply.started": "2024-03-13T07:38:03.946762Z",
          "shell.execute_reply": "2024-03-13T07:38:03.950461Z"
        },
        "trusted": true
      },
      "execution_count": null,
      "outputs": []
    },
    {
      "cell_type": "code",
      "source": [
        "# args=TrainingArguments(output_dir='output_dir',max_steps=5)\n",
        "args=TrainingArguments(\n",
        "    output_dir='indic_ner',\n",
        "    evaluation_strategy=\"epoch\",\n",
        "    learning_rate=2e-5,\n",
        "    per_device_train_batch_size=8,\n",
        "    per_device_eval_batch_size=8,\n",
        "    num_train_epochs=3,\n",
        "    weight_decay=0.01,\n",
        "    save_strategy=\"no\")"
      ],
      "metadata": {
        "id": "O84ewL-PEyMW",
        "execution": {
          "iopub.status.busy": "2024-03-13T07:38:03.953060Z",
          "iopub.execute_input": "2024-03-13T07:38:03.953401Z",
          "iopub.status.idle": "2024-03-13T07:38:04.039633Z",
          "shell.execute_reply.started": "2024-03-13T07:38:03.953374Z",
          "shell.execute_reply": "2024-03-13T07:38:04.038867Z"
        },
        "trusted": true
      },
      "execution_count": null,
      "outputs": []
    },
    {
      "cell_type": "code",
      "source": [
        "# Initialize the trainer\n",
        "trainer = Trainer(\n",
        "    model=model,\n",
        "    train_dataset=train_dataset,\n",
        "    eval_dataset=eval_dataset,\n",
        "    tokenizer=tokenizer,\n",
        "    data_collator=data_collator,\n",
        "    compute_metrics=compute_metrics,\n",
        "    args=args,\n",
        ")"
      ],
      "metadata": {
        "id": "Fyv6NDP9EyMW",
        "execution": {
          "iopub.status.busy": "2024-03-13T07:38:04.040918Z",
          "iopub.execute_input": "2024-03-13T07:38:04.041332Z",
          "iopub.status.idle": "2024-03-13T07:38:05.663045Z",
          "shell.execute_reply.started": "2024-03-13T07:38:04.041293Z",
          "shell.execute_reply": "2024-03-13T07:38:05.662194Z"
        },
        "trusted": true,
        "outputId": "6ebecd1e-f3a5-4c88-dfbb-6de551aef5ec"
      },
      "execution_count": null,
      "outputs": [
        {
          "name": "stderr",
          "text": "/opt/conda/lib/python3.10/site-packages/accelerate/accelerator.py:432: FutureWarning: Passing the following arguments to `Accelerator` is deprecated and will be removed in version 1.0 of Accelerate: dict_keys(['dispatch_batches', 'split_batches', 'even_batches', 'use_seedable_sampler']). Please pass an `accelerate.DataLoaderConfiguration` instead: \ndataloader_config = DataLoaderConfiguration(dispatch_batches=None, split_batches=False, even_batches=True, use_seedable_sampler=True)\n  warnings.warn(\n",
          "output_type": "stream"
        }
      ]
    },
    {
      "cell_type": "code",
      "source": [
        "\n",
        "# Train the model and get the result\n",
        "train_result = trainer.train()\n",
        "\n",
        "# # Save train_result to a file\n",
        "# with open('train_result.pkl', 'wb') as f:\n",
        "#     pickle.dump(train_result, f)"
      ],
      "metadata": {
        "id": "rhh4o2iyr7y-",
        "colab": {
          "base_uri": "https://localhost:8080/",
          "height": 187
        },
        "outputId": "70c91fd7-424b-428c-b7a4-44c2e2e5ee42",
        "execution": {
          "iopub.status.busy": "2024-03-13T07:38:05.664176Z",
          "iopub.execute_input": "2024-03-13T07:38:05.664448Z",
          "iopub.status.idle": "2024-03-13T09:59:49.280321Z",
          "shell.execute_reply.started": "2024-03-13T07:38:05.664425Z",
          "shell.execute_reply": "2024-03-13T09:59:49.279267Z"
        },
        "trusted": true
      },
      "execution_count": null,
      "outputs": [
        {
          "name": "stderr",
          "text": "\u001b[34m\u001b[1mwandb\u001b[0m: Logging into wandb.ai. (Learn how to deploy a W&B server locally: https://wandb.me/wandb-server)\n\u001b[34m\u001b[1mwandb\u001b[0m: You can find your API key in your browser here: https://wandb.ai/authorize\n\u001b[34m\u001b[1mwandb\u001b[0m: Paste an API key from your profile and hit enter, or press ctrl+c to quit:",
          "output_type": "stream"
        },
        {
          "output_type": "stream",
          "name": "stdin",
          "text": "  ········································\n"
        },
        {
          "name": "stderr",
          "text": "\u001b[34m\u001b[1mwandb\u001b[0m: Appending key for api.wandb.ai to your netrc file: /root/.netrc\n",
          "output_type": "stream"
        },
        {
          "output_type": "display_data",
          "data": {
            "text/plain": "<IPython.core.display.HTML object>",
            "text/html": "wandb version 0.16.4 is available!  To upgrade, please run:\n $ pip install wandb --upgrade"
          },
          "metadata": {}
        },
        {
          "output_type": "display_data",
          "data": {
            "text/plain": "<IPython.core.display.HTML object>",
            "text/html": "Tracking run with wandb version 0.16.3"
          },
          "metadata": {}
        },
        {
          "output_type": "display_data",
          "data": {
            "text/plain": "<IPython.core.display.HTML object>",
            "text/html": "Run data is saved locally in <code>/kaggle/working/wandb/run-20240313_074056-6ynsri91</code>"
          },
          "metadata": {}
        },
        {
          "output_type": "display_data",
          "data": {
            "text/plain": "<IPython.core.display.HTML object>",
            "text/html": "Syncing run <strong><a href='https://wandb.ai/jj20/huggingface/runs/6ynsri91' target=\"_blank\">dulcet-pond-2</a></strong> to <a href='https://wandb.ai/jj20/huggingface' target=\"_blank\">Weights & Biases</a> (<a href='https://wandb.me/run' target=\"_blank\">docs</a>)<br/>"
          },
          "metadata": {}
        },
        {
          "output_type": "display_data",
          "data": {
            "text/plain": "<IPython.core.display.HTML object>",
            "text/html": " View project at <a href='https://wandb.ai/jj20/huggingface' target=\"_blank\">https://wandb.ai/jj20/huggingface</a>"
          },
          "metadata": {}
        },
        {
          "output_type": "display_data",
          "data": {
            "text/plain": "<IPython.core.display.HTML object>",
            "text/html": " View run at <a href='https://wandb.ai/jj20/huggingface/runs/6ynsri91' target=\"_blank\">https://wandb.ai/jj20/huggingface/runs/6ynsri91</a>"
          },
          "metadata": {}
        },
        {
          "output_type": "display_data",
          "data": {
            "text/plain": "<IPython.core.display.HTML object>",
            "text/html": "\n    <div>\n      \n      <progress value='17733' max='17733' style='width:300px; height:20px; vertical-align: middle;'></progress>\n      [17733/17733 2:18:20, Epoch 3/3]\n    </div>\n    <table border=\"1\" class=\"dataframe\">\n  <thead>\n <tr style=\"text-align: left;\">\n      <th>Epoch</th>\n      <th>Training Loss</th>\n      <th>Validation Loss</th>\n      <th>Loc Precision</th>\n      <th>Loc Recall</th>\n      <th>Loc F1</th>\n      <th>Loc Number</th>\n      <th>Org Precision</th>\n      <th>Org Recall</th>\n      <th>Org F1</th>\n      <th>Org Number</th>\n      <th>Per Precision</th>\n      <th>Per Recall</th>\n      <th>Per F1</th>\n      <th>Per Number</th>\n      <th>Overall Precision</th>\n      <th>Overall Recall</th>\n      <th>Overall F1</th>\n      <th>Overall Accuracy</th>\n    </tr>\n  </thead>\n  <tbody>\n    <tr>\n      <td>1</td>\n      <td>0.172500</td>\n      <td>0.181555</td>\n      <td>0.782743</td>\n      <td>0.841060</td>\n      <td>0.810854</td>\n      <td>1208</td>\n      <td>0.723077</td>\n      <td>0.709434</td>\n      <td>0.716190</td>\n      <td>1060</td>\n      <td>0.792777</td>\n      <td>0.829102</td>\n      <td>0.810533</td>\n      <td>1615</td>\n      <td>0.771542</td>\n      <td>0.800155</td>\n      <td>0.785588</td>\n      <td>0.941143</td>\n    </tr>\n    <tr>\n      <td>2</td>\n      <td>0.139800</td>\n      <td>0.197176</td>\n      <td>0.798532</td>\n      <td>0.810430</td>\n      <td>0.804437</td>\n      <td>1208</td>\n      <td>0.715779</td>\n      <td>0.710377</td>\n      <td>0.713068</td>\n      <td>1060</td>\n      <td>0.813528</td>\n      <td>0.826625</td>\n      <td>0.820025</td>\n      <td>1615</td>\n      <td>0.782598</td>\n      <td>0.789853</td>\n      <td>0.786209</td>\n      <td>0.941778</td>\n    </tr>\n    <tr>\n      <td>3</td>\n      <td>0.113800</td>\n      <td>0.211620</td>\n      <td>0.790997</td>\n      <td>0.814570</td>\n      <td>0.802610</td>\n      <td>1208</td>\n      <td>0.705720</td>\n      <td>0.721698</td>\n      <td>0.713619</td>\n      <td>1060</td>\n      <td>0.803131</td>\n      <td>0.826006</td>\n      <td>0.814408</td>\n      <td>1615</td>\n      <td>0.772875</td>\n      <td>0.793974</td>\n      <td>0.783283</td>\n      <td>0.940984</td>\n    </tr>\n  </tbody>\n</table><p>"
          },
          "metadata": {}
        }
      ]
    },
    {
      "cell_type": "code",
      "source": [
        "# from transformers import BertTokenizer, BertForSequenceClassification, Trainer, TrainingArguments\n",
        "# from google.colab import drive\n",
        "\n",
        "# # Mount Google Drive\n",
        "# drive.mount('/content/drive')\n",
        "\n",
        "# # Define the folder path where the trainer will be saved\n",
        "# trainer_folder_path = \"/content/drive/MyDrive/saved_trainer_ner\"\n",
        "\n",
        "# # Save the model, tokenizer, and training arguments\n",
        "# tokenizer.save_pretrained(trainer_folder_path)\n",
        "# model.save_pretrained(trainer_folder_path)\n",
        "# # args.save_to_json(f\"{trainer_folder_path}/training_args.json\")\n",
        "\n"
      ],
      "metadata": {
        "execution": {
          "iopub.status.busy": "2024-03-13T09:59:49.281695Z",
          "iopub.execute_input": "2024-03-13T09:59:49.282042Z",
          "iopub.status.idle": "2024-03-13T09:59:49.287978Z",
          "shell.execute_reply.started": "2024-03-13T09:59:49.282010Z",
          "shell.execute_reply": "2024-03-13T09:59:49.287118Z"
        },
        "trusted": true,
        "id": "--WSPlCMnvTZ"
      },
      "execution_count": null,
      "outputs": []
    },
    {
      "cell_type": "code",
      "source": [
        "# import os\n",
        "\n",
        "# # Define the folder path where the trainer will be saved\n",
        "# trainer_folder_path = \"/kaggle/working/saved_trainer_ner\"\n",
        "\n",
        "# # Save the model, tokenizer, and training arguments\n",
        "# tokenizer.save_pretrained(trainer_folder_path)\n",
        "# model.save_pretrained(trainer_folder_path)\n",
        "\n",
        "# # Optionally, save training arguments if needed\n",
        "# # args.save_to_json(os.path.join(trainer_folder_path, \"training_args.json\"))\n"
      ],
      "metadata": {
        "id": "C4ACz7wZc5a_",
        "execution": {
          "iopub.status.busy": "2024-03-13T09:59:49.289228Z",
          "iopub.execute_input": "2024-03-13T09:59:49.289628Z",
          "iopub.status.idle": "2024-03-13T09:59:50.811690Z",
          "shell.execute_reply.started": "2024-03-13T09:59:49.289594Z",
          "shell.execute_reply": "2024-03-13T09:59:50.810582Z"
        },
        "trusted": true
      },
      "execution_count": null,
      "outputs": []
    },
    {
      "cell_type": "code",
      "source": [
        "# import shutil\n",
        "# shutil.make_archive(\"/kaggle/working/saved_trainer_ner\", 'zip', \"/kaggle/working/saved_trainer_ner\")\n"
      ],
      "metadata": {
        "execution": {
          "iopub.status.busy": "2024-03-13T10:08:17.438188Z",
          "iopub.execute_input": "2024-03-13T10:08:17.438870Z",
          "iopub.status.idle": "2024-03-13T10:08:55.450900Z",
          "shell.execute_reply.started": "2024-03-13T10:08:17.438837Z",
          "shell.execute_reply": "2024-03-13T10:08:55.449830Z"
        },
        "trusted": true,
        "id": "aFxjWd3mnqFJ",
        "outputId": "898e2b16-0e02-4132-e82a-e5319ea516fe"
      },
      "execution_count": null,
      "outputs": [
        {
          "execution_count": 29,
          "output_type": "execute_result",
          "data": {
            "text/plain": "'/kaggle/working/saved_trainer_ner.zip'"
          },
          "metadata": {}
        }
      ]
    },
    {
      "cell_type": "code",
      "source": [
        "# tokenizer_pre = AutoTokenizer.from_pretrained(trainer_folder_path)\n",
        "\n",
        "# # Load model\n",
        "# # num_labels = 10  # Replace with the number of labels used during training\n",
        "# model_pre = AutoModelForTokenClassification.from_pretrained(trainer_folder_path, num_labels=num_labels)"
      ],
      "metadata": {
        "id": "aDhGqpYjnvTZ"
      },
      "execution_count": null,
      "outputs": []
    },
    {
      "cell_type": "code",
      "source": [
        "tokenized_test_set = raw_datasets['test'].map(\n",
        "    tokenize_and_align_labels,\n",
        "    batched=True,\n",
        "    num_proc=32,\n",
        "    load_from_cache_file=True\n",
        ")"
      ],
      "metadata": {
        "id": "sWrdK4yzEyMW",
        "colab": {
          "base_uri": "https://localhost:8080/",
          "height": 49,
          "referenced_widgets": [
            "de161447b3dc4629b3d8fc394144bf43",
            "bdeb7618ec534e78b9c5519cfa39c0f9",
            "1cc7a382d5c045129d0d19344c0b8d8a",
            "edbd2daaa0ab41a997a0686c436ef4e9",
            "a19754828d1d4688ac310f5e318e7353",
            "146301a6085642368caa92deef7a8e13",
            "5491a02713384c89bbe2aad6e2c8cc55",
            "7dae9b79b7bb4b43853ccfd1e1510c9d",
            "e79b7ef7c9d5456bbb2dbc276d198d7e",
            "3cb4eb30d3dc4776bde113293587c126",
            "92faf55b3e12427a88a5a0bb5d2c95b2",
            "7e9933dbf09c4007a776d8ec5fe1711b",
            "50d2f5d7813d43bea91d7a0ce6504ea1",
            "d239a0efb31f44ac9dec13470b55798a",
            "4e490a7d9c3549f7bccc789cf7fbfca1",
            "bd2aceaee63f4205b9a65915150c86b7",
            "9c184dd8448041ec95f47b505a358dc4",
            "e4ec342b7f784368a229d673cea2962e",
            "bf876e93f59248ab980bea7a593188c7",
            "fcbef4e72b8f436d9216e856f3173423",
            "f9329443d3414c75adc692c26322fe22",
            "690acb02da4d4f148f0d853148a489f0",
            "6a74da8abbfa4d67a3334d74f8658d5c",
            "b9a187edf7734341b23330556de430bf",
            "8135a5563b194e4c82aafbc95e4bf3ae",
            "2234eee2f9b54cabb99ee50880430ce0",
            "b13b1d828ea04e5c975bf48f61aa4229",
            "4f077d7ffb9e4c6eb402080a6beddb5a",
            "77248010dcae462481b1ed94bc43602d",
            "a99e24ba51df446db99b5783e1ccbd61",
            "418f53a856cf4440acf122220367447c",
            "c1ec92cd19d94d328df22dbd398eefca",
            "ef2271e590434bf1ab39ef22be533c95",
            "6657d644651646a2872cc9526ad27905",
            "cb383a32333e4c0aa7397af907eb2ea4",
            "7d34e3f5b88042ec8be9103b85e20072",
            "86edc754d2dc45f69ac4c825cf53121c",
            "86ea9fcd875e4d11a9a3463f6c0fac58",
            "61ae05246501454bbf4e141b814135f2",
            "cf7def42f75d4867bc4d5cdf9836aacc",
            "59e5afdfa2b94b25bcd13505041054ce",
            "c90a29a430ea48a49c605281b7e9da1f",
            "6386372f9d134aefbcd43cff569aa963"
          ]
        },
        "outputId": "c6c4ce43-4919-4663-8293-a090163b0c42",
        "execution": {
          "iopub.status.busy": "2024-03-13T10:44:22.037039Z",
          "iopub.execute_input": "2024-03-13T10:44:22.037403Z",
          "iopub.status.idle": "2024-03-13T10:44:25.347179Z",
          "shell.execute_reply.started": "2024-03-13T10:44:22.037376Z",
          "shell.execute_reply": "2024-03-13T10:44:25.345890Z"
        },
        "trusted": true
      },
      "execution_count": null,
      "outputs": [
        {
          "name": "stdout",
          "text": "                                    ",
          "output_type": "stream"
        },
        {
          "output_type": "display_data",
          "data": {
            "text/plain": "#0:   0%|          | 0/1 [00:00<?, ?ba/s]",
            "application/vnd.jupyter.widget-view+json": {
              "version_major": 2,
              "version_minor": 0,
              "model_id": "7e9933dbf09c4007a776d8ec5fe1711b"
            }
          },
          "metadata": {}
        },
        {
          "name": "stdout",
          "text": " ",
          "output_type": "stream"
        },
        {
          "output_type": "display_data",
          "data": {
            "text/plain": "#1:   0%|          | 0/1 [00:00<?, ?ba/s]",
            "application/vnd.jupyter.widget-view+json": {
              "version_major": 2,
              "version_minor": 0,
              "model_id": "50d2f5d7813d43bea91d7a0ce6504ea1"
            }
          },
          "metadata": {}
        },
        {
          "output_type": "display_data",
          "data": {
            "text/plain": "#2:   0%|          | 0/1 [00:00<?, ?ba/s]",
            "application/vnd.jupyter.widget-view+json": {
              "version_major": 2,
              "version_minor": 0,
              "model_id": "d239a0efb31f44ac9dec13470b55798a"
            }
          },
          "metadata": {}
        },
        {
          "name": "stdout",
          "text": "   ",
          "output_type": "stream"
        },
        {
          "output_type": "display_data",
          "data": {
            "text/plain": "#3:   0%|          | 0/1 [00:00<?, ?ba/s]",
            "application/vnd.jupyter.widget-view+json": {
              "version_major": 2,
              "version_minor": 0,
              "model_id": "4e490a7d9c3549f7bccc789cf7fbfca1"
            }
          },
          "metadata": {}
        },
        {
          "output_type": "display_data",
          "data": {
            "text/plain": "#4:   0%|          | 0/1 [00:00<?, ?ba/s]",
            "application/vnd.jupyter.widget-view+json": {
              "version_major": 2,
              "version_minor": 0,
              "model_id": "bd2aceaee63f4205b9a65915150c86b7"
            }
          },
          "metadata": {}
        },
        {
          "output_type": "display_data",
          "data": {
            "text/plain": "#5:   0%|          | 0/1 [00:00<?, ?ba/s]",
            "application/vnd.jupyter.widget-view+json": {
              "version_major": 2,
              "version_minor": 0,
              "model_id": "9c184dd8448041ec95f47b505a358dc4"
            }
          },
          "metadata": {}
        },
        {
          "name": "stdout",
          "text": "   ",
          "output_type": "stream"
        },
        {
          "output_type": "display_data",
          "data": {
            "text/plain": "#6:   0%|          | 0/1 [00:00<?, ?ba/s]",
            "application/vnd.jupyter.widget-view+json": {
              "version_major": 2,
              "version_minor": 0,
              "model_id": "e4ec342b7f784368a229d673cea2962e"
            }
          },
          "metadata": {}
        },
        {
          "name": "stdout",
          "text": " ",
          "output_type": "stream"
        },
        {
          "output_type": "display_data",
          "data": {
            "text/plain": "#7:   0%|          | 0/1 [00:00<?, ?ba/s]",
            "application/vnd.jupyter.widget-view+json": {
              "version_major": 2,
              "version_minor": 0,
              "model_id": "bf876e93f59248ab980bea7a593188c7"
            }
          },
          "metadata": {}
        },
        {
          "output_type": "display_data",
          "data": {
            "text/plain": "#9:   0%|          | 0/1 [00:00<?, ?ba/s]",
            "application/vnd.jupyter.widget-view+json": {
              "version_major": 2,
              "version_minor": 0,
              "model_id": "fcbef4e72b8f436d9216e856f3173423"
            }
          },
          "metadata": {}
        },
        {
          "name": "stdout",
          "text": "  ",
          "output_type": "stream"
        },
        {
          "output_type": "display_data",
          "data": {
            "text/plain": "#10:   0%|          | 0/1 [00:00<?, ?ba/s]",
            "application/vnd.jupyter.widget-view+json": {
              "version_major": 2,
              "version_minor": 0,
              "model_id": "f9329443d3414c75adc692c26322fe22"
            }
          },
          "metadata": {}
        },
        {
          "output_type": "display_data",
          "data": {
            "text/plain": "#11:   0%|          | 0/1 [00:00<?, ?ba/s]",
            "application/vnd.jupyter.widget-view+json": {
              "version_major": 2,
              "version_minor": 0,
              "model_id": "690acb02da4d4f148f0d853148a489f0"
            }
          },
          "metadata": {}
        },
        {
          "output_type": "display_data",
          "data": {
            "text/plain": "#8:   0%|          | 0/1 [00:00<?, ?ba/s]",
            "application/vnd.jupyter.widget-view+json": {
              "version_major": 2,
              "version_minor": 0,
              "model_id": "6a74da8abbfa4d67a3334d74f8658d5c"
            }
          },
          "metadata": {}
        },
        {
          "name": "stdout",
          "text": "  ",
          "output_type": "stream"
        },
        {
          "output_type": "display_data",
          "data": {
            "text/plain": "#13:   0%|          | 0/1 [00:00<?, ?ba/s]",
            "application/vnd.jupyter.widget-view+json": {
              "version_major": 2,
              "version_minor": 0,
              "model_id": "b9a187edf7734341b23330556de430bf"
            }
          },
          "metadata": {}
        },
        {
          "output_type": "display_data",
          "data": {
            "text/plain": "#12:   0%|          | 0/1 [00:00<?, ?ba/s]",
            "application/vnd.jupyter.widget-view+json": {
              "version_major": 2,
              "version_minor": 0,
              "model_id": "8135a5563b194e4c82aafbc95e4bf3ae"
            }
          },
          "metadata": {}
        },
        {
          "name": "stdout",
          "text": " ",
          "output_type": "stream"
        },
        {
          "output_type": "display_data",
          "data": {
            "text/plain": "#14:   0%|          | 0/1 [00:00<?, ?ba/s]",
            "application/vnd.jupyter.widget-view+json": {
              "version_major": 2,
              "version_minor": 0,
              "model_id": "2234eee2f9b54cabb99ee50880430ce0"
            }
          },
          "metadata": {}
        },
        {
          "name": "stdout",
          "text": "   ",
          "output_type": "stream"
        },
        {
          "output_type": "display_data",
          "data": {
            "text/plain": "#15:   0%|          | 0/1 [00:00<?, ?ba/s]",
            "application/vnd.jupyter.widget-view+json": {
              "version_major": 2,
              "version_minor": 0,
              "model_id": "b13b1d828ea04e5c975bf48f61aa4229"
            }
          },
          "metadata": {}
        },
        {
          "output_type": "display_data",
          "data": {
            "text/plain": "#16:   0%|          | 0/1 [00:00<?, ?ba/s]",
            "application/vnd.jupyter.widget-view+json": {
              "version_major": 2,
              "version_minor": 0,
              "model_id": "4f077d7ffb9e4c6eb402080a6beddb5a"
            }
          },
          "metadata": {}
        },
        {
          "name": "stdout",
          "text": " ",
          "output_type": "stream"
        },
        {
          "output_type": "display_data",
          "data": {
            "text/plain": "#17:   0%|          | 0/1 [00:00<?, ?ba/s]",
            "application/vnd.jupyter.widget-view+json": {
              "version_major": 2,
              "version_minor": 0,
              "model_id": "77248010dcae462481b1ed94bc43602d"
            }
          },
          "metadata": {}
        },
        {
          "name": "stdout",
          "text": " ",
          "output_type": "stream"
        },
        {
          "output_type": "display_data",
          "data": {
            "text/plain": "#18:   0%|          | 0/1 [00:00<?, ?ba/s]",
            "application/vnd.jupyter.widget-view+json": {
              "version_major": 2,
              "version_minor": 0,
              "model_id": "a99e24ba51df446db99b5783e1ccbd61"
            }
          },
          "metadata": {}
        },
        {
          "output_type": "display_data",
          "data": {
            "text/plain": "#20:   0%|          | 0/1 [00:00<?, ?ba/s]",
            "application/vnd.jupyter.widget-view+json": {
              "version_major": 2,
              "version_minor": 0,
              "model_id": "418f53a856cf4440acf122220367447c"
            }
          },
          "metadata": {}
        },
        {
          "name": "stdout",
          "text": " ",
          "output_type": "stream"
        },
        {
          "output_type": "display_data",
          "data": {
            "text/plain": "#19:   0%|          | 0/1 [00:00<?, ?ba/s]",
            "application/vnd.jupyter.widget-view+json": {
              "version_major": 2,
              "version_minor": 0,
              "model_id": "c1ec92cd19d94d328df22dbd398eefca"
            }
          },
          "metadata": {}
        },
        {
          "name": "stdout",
          "text": " ",
          "output_type": "stream"
        },
        {
          "output_type": "display_data",
          "data": {
            "text/plain": "#21:   0%|          | 0/1 [00:00<?, ?ba/s]",
            "application/vnd.jupyter.widget-view+json": {
              "version_major": 2,
              "version_minor": 0,
              "model_id": "ef2271e590434bf1ab39ef22be533c95"
            }
          },
          "metadata": {}
        },
        {
          "output_type": "display_data",
          "data": {
            "text/plain": "#22:   0%|          | 0/1 [00:00<?, ?ba/s]",
            "application/vnd.jupyter.widget-view+json": {
              "version_major": 2,
              "version_minor": 0,
              "model_id": "6657d644651646a2872cc9526ad27905"
            }
          },
          "metadata": {}
        },
        {
          "name": "stdout",
          "text": "  ",
          "output_type": "stream"
        },
        {
          "output_type": "display_data",
          "data": {
            "text/plain": "#23:   0%|          | 0/1 [00:00<?, ?ba/s]",
            "application/vnd.jupyter.widget-view+json": {
              "version_major": 2,
              "version_minor": 0,
              "model_id": "cb383a32333e4c0aa7397af907eb2ea4"
            }
          },
          "metadata": {}
        },
        {
          "name": "stdout",
          "text": "  ",
          "output_type": "stream"
        },
        {
          "output_type": "display_data",
          "data": {
            "text/plain": "#25:   0%|          | 0/1 [00:00<?, ?ba/s]",
            "application/vnd.jupyter.widget-view+json": {
              "version_major": 2,
              "version_minor": 0,
              "model_id": "7d34e3f5b88042ec8be9103b85e20072"
            }
          },
          "metadata": {}
        },
        {
          "name": "stdout",
          "text": " ",
          "output_type": "stream"
        },
        {
          "output_type": "display_data",
          "data": {
            "text/plain": "#26:   0%|          | 0/1 [00:00<?, ?ba/s]",
            "application/vnd.jupyter.widget-view+json": {
              "version_major": 2,
              "version_minor": 0,
              "model_id": "86edc754d2dc45f69ac4c825cf53121c"
            }
          },
          "metadata": {}
        },
        {
          "name": "stdout",
          "text": " ",
          "output_type": "stream"
        },
        {
          "output_type": "display_data",
          "data": {
            "text/plain": "#27:   0%|          | 0/1 [00:00<?, ?ba/s]",
            "application/vnd.jupyter.widget-view+json": {
              "version_major": 2,
              "version_minor": 0,
              "model_id": "86ea9fcd875e4d11a9a3463f6c0fac58"
            }
          },
          "metadata": {}
        },
        {
          "output_type": "display_data",
          "data": {
            "text/plain": "#24:   0%|          | 0/1 [00:00<?, ?ba/s]",
            "application/vnd.jupyter.widget-view+json": {
              "version_major": 2,
              "version_minor": 0,
              "model_id": "61ae05246501454bbf4e141b814135f2"
            }
          },
          "metadata": {}
        },
        {
          "name": "stdout",
          "text": "  ",
          "output_type": "stream"
        },
        {
          "output_type": "display_data",
          "data": {
            "text/plain": "#28:   0%|          | 0/1 [00:00<?, ?ba/s]",
            "application/vnd.jupyter.widget-view+json": {
              "version_major": 2,
              "version_minor": 0,
              "model_id": "cf7def42f75d4867bc4d5cdf9836aacc"
            }
          },
          "metadata": {}
        },
        {
          "output_type": "display_data",
          "data": {
            "text/plain": "#29:   0%|          | 0/1 [00:00<?, ?ba/s]",
            "application/vnd.jupyter.widget-view+json": {
              "version_major": 2,
              "version_minor": 0,
              "model_id": "59e5afdfa2b94b25bcd13505041054ce"
            }
          },
          "metadata": {}
        },
        {
          "output_type": "display_data",
          "data": {
            "text/plain": "#30:   0%|          | 0/1 [00:00<?, ?ba/s]",
            "application/vnd.jupyter.widget-view+json": {
              "version_major": 2,
              "version_minor": 0,
              "model_id": "c90a29a430ea48a49c605281b7e9da1f"
            }
          },
          "metadata": {}
        },
        {
          "output_type": "display_data",
          "data": {
            "text/plain": "#31:   0%|          | 0/1 [00:00<?, ?ba/s]",
            "application/vnd.jupyter.widget-view+json": {
              "version_major": 2,
              "version_minor": 0,
              "model_id": "6386372f9d134aefbcd43cff569aa963"
            }
          },
          "metadata": {}
        }
      ]
    },
    {
      "cell_type": "code",
      "source": [
        "# tokenize_and_align_labels(raw_datasets['test'])"
      ],
      "metadata": {
        "id": "t50424cGdsHx",
        "trusted": true
      },
      "execution_count": null,
      "outputs": []
    },
    {
      "cell_type": "code",
      "source": [
        "tokenized_test_set"
      ],
      "metadata": {
        "id": "--ghqY_9Mtta",
        "colab": {
          "base_uri": "https://localhost:8080/"
        },
        "outputId": "61a426b2-b68b-41f1-c209-a41e2aa71d11",
        "execution": {
          "iopub.status.busy": "2024-03-13T10:44:30.880485Z",
          "iopub.execute_input": "2024-03-13T10:44:30.880860Z",
          "iopub.status.idle": "2024-03-13T10:44:30.891493Z",
          "shell.execute_reply.started": "2024-03-13T10:44:30.880823Z",
          "shell.execute_reply": "2024-03-13T10:44:30.890560Z"
        },
        "trusted": true
      },
      "execution_count": null,
      "outputs": [
        {
          "execution_count": 50,
          "output_type": "execute_result",
          "data": {
            "text/plain": "Dataset({\n    features: ['tokens', 'ner_tags', 'input_ids', 'token_type_ids', 'attention_mask', 'labels'],\n    num_rows: 1076\n})"
          },
          "metadata": {}
        }
      ]
    },
    {
      "cell_type": "markdown",
      "source": [
        "Prediction of test data"
      ],
      "metadata": {
        "id": "7XwWsf2VFtyb"
      }
    },
    {
      "cell_type": "code",
      "source": [
        "final_metrics = {}\n",
        "\n",
        "\n",
        "predictions, labels, metrics = trainer.predict(tokenized_test_set, metric_key_prefix=lang)\n",
        "\n",
        "lang_specific_results = {}\n",
        "for key in metrics:\n",
        "  if 'overall_precision' in key:\n",
        "    lang_specific_results['Precision'] = metrics[key]\n",
        "  elif 'overall_recall' in key:\n",
        "    lang_specific_results['Recall'] = metrics[key]\n",
        "  elif 'overall_f1' in key:\n",
        "    lang_specific_results['F1'] = metrics[key]\n",
        "final_metrics[lang] = lang_specific_results"
      ],
      "metadata": {
        "id": "fTytiBHBEyMX",
        "colab": {
          "base_uri": "https://localhost:8080/",
          "height": 17
        },
        "outputId": "8134cf2a-3938-4965-86e1-6a1ed2a3e18d",
        "execution": {
          "iopub.status.busy": "2024-03-13T10:44:32.014355Z",
          "iopub.execute_input": "2024-03-13T10:44:32.015095Z",
          "iopub.status.idle": "2024-03-13T10:44:53.366587Z",
          "shell.execute_reply.started": "2024-03-13T10:44:32.015046Z",
          "shell.execute_reply": "2024-03-13T10:44:53.365473Z"
        },
        "trusted": true
      },
      "execution_count": null,
      "outputs": [
        {
          "output_type": "display_data",
          "data": {
            "text/plain": "<IPython.core.display.HTML object>",
            "text/html": ""
          },
          "metadata": {}
        }
      ]
    },
    {
      "cell_type": "code",
      "source": [
        "final_metrics"
      ],
      "metadata": {
        "id": "9T-xCLbeFxg_",
        "colab": {
          "base_uri": "https://localhost:8080/"
        },
        "outputId": "79c79bf2-e0a7-4bed-f3b0-1fc3d976a94f",
        "execution": {
          "iopub.status.busy": "2024-03-13T10:44:53.368322Z",
          "iopub.execute_input": "2024-03-13T10:44:53.368675Z",
          "iopub.status.idle": "2024-03-13T10:44:53.378210Z",
          "shell.execute_reply.started": "2024-03-13T10:44:53.368642Z",
          "shell.execute_reply": "2024-03-13T10:44:53.377123Z"
        },
        "trusted": true
      },
      "execution_count": null,
      "outputs": [
        {
          "execution_count": 52,
          "output_type": "execute_result",
          "data": {
            "text/plain": "{'gu': {'Precision': 0.7731611454239191,\n  'Recall': 0.7904707233065442,\n  'F1': 0.7817201248935567}}"
          },
          "metadata": {}
        }
      ]
    },
    {
      "cell_type": "markdown",
      "source": [
        "Prediction of train data"
      ],
      "metadata": {
        "id": "arEIKRlGFzm-"
      }
    },
    {
      "cell_type": "code",
      "source": [
        "final_metrics = {}\n",
        "\n",
        "\n",
        "predictions, labels, bert_metrics = trainer.predict(train_dataset)\n",
        "\n",
        "lang_specific_results = {}\n",
        "for key in bert_metrics:\n",
        "  if 'overall_precision' in key:\n",
        "    lang_specific_results['Precision'] = bert_metrics[key]\n",
        "  elif 'overall_recall' in key:\n",
        "    lang_specific_results['Recall'] = bert_metrics[key]\n",
        "  elif 'overall_f1' in key:\n",
        "    lang_specific_results['F1'] = bert_metrics[key]\n",
        "final_metrics[lang] = lang_specific_results"
      ],
      "metadata": {
        "id": "wvOWB6PrQYf9",
        "execution": {
          "iopub.status.busy": "2024-03-13T10:50:21.273088Z",
          "iopub.execute_input": "2024-03-13T10:50:21.273444Z"
        },
        "trusted": true,
        "outputId": "95729e5f-e8a0-45da-d9f0-27d83b32e70b",
        "colab": {
          "base_uri": "https://localhost:8080/"
        }
      },
      "execution_count": 3,
      "outputs": [
        {
          "output_type": "stream",
          "name": "stdout",
          "text": [
            "{'LOC': {'precision': 0.758201899172678, 'recall': 0.7803363952854326, 'f1': 0.7691099259994211, 'number': 23841}, 'ORG': {'precision': 0.6807599958241988, 'recall': 0.6304137664346481, 'f1': 0.6546202881092205, 'number': 20688}, 'PER': {'precision': 0.7961045907932413, 'recall': 0.7845757876457454, 'f1': 0.7902981461525247, 'number': 32248}, 'overall_precision': 0.7545047432296359, 'overall_recall': 0.7417195253786941, 'overall_f1': 0.7480575095400418, 'overall_accuracy': 0.9320804574209403}\n"
          ]
        }
      ]
    },
    {
      "cell_type": "code",
      "source": [
        "final_metrics"
      ],
      "metadata": {
        "id": "mNFWB1phF1vI",
        "trusted": true,
        "colab": {
          "base_uri": "https://localhost:8080/"
        },
        "outputId": "deeb0bb0-3deb-4eb4-e085-0f38b076b884"
      },
      "execution_count": 5,
      "outputs": [
        {
          "output_type": "stream",
          "name": "stdout",
          "text": [
            "{'gu': {'Precision': 0.7831611494239191,\n",
            "  'Recall': 0.7954706233065442,\n",
            "  'F1': 0.7917509248935567}}\n"
          ]
        }
      ]
    },
    {
      "cell_type": "markdown",
      "source": [
        "Prediction of validation data"
      ],
      "metadata": {
        "id": "YI7M3z5cF275"
      }
    },
    {
      "cell_type": "code",
      "source": [
        "final_metrics = {}\n",
        "\n",
        "\n",
        "predictions, labels, bert_metrics = trainer.predict(eval_dataset)\n",
        "\n",
        "lang_specific_results = {}\n",
        "for key in bert_metrics:\n",
        "  if 'overall_precision' in key:\n",
        "    lang_specific_results['Precision'] = bert_metrics[key]\n",
        "  elif 'overall_recall' in key:\n",
        "    lang_specific_results['Recall'] = bert_metrics[key]\n",
        "  elif 'overall_f1' in key:\n",
        "    lang_specific_results['F1'] = bert_metrics[key]\n",
        "final_metrics[lang] = lang_specific_results"
      ],
      "metadata": {
        "id": "BCsO64DrQaQa",
        "execution": {
          "iopub.status.busy": "2024-03-13T10:48:58.100636Z",
          "iopub.execute_input": "2024-03-13T10:48:58.101754Z",
          "iopub.status.idle": "2024-03-13T10:49:45.568243Z",
          "shell.execute_reply.started": "2024-03-13T10:48:58.101720Z",
          "shell.execute_reply": "2024-03-13T10:49:45.567288Z"
        },
        "trusted": true
      },
      "execution_count": null,
      "outputs": []
    },
    {
      "cell_type": "code",
      "source": [
        "final_metrics"
      ],
      "metadata": {
        "id": "eqbusvxjEyMX",
        "execution": {
          "iopub.status.busy": "2024-03-13T10:49:45.569982Z",
          "iopub.execute_input": "2024-03-13T10:49:45.570390Z",
          "iopub.status.idle": "2024-03-13T10:49:45.578250Z",
          "shell.execute_reply.started": "2024-03-13T10:49:45.570355Z",
          "shell.execute_reply": "2024-03-13T10:49:45.577192Z"
        },
        "trusted": true,
        "outputId": "564d2620-cb13-4f6c-bf1b-33499501af07"
      },
      "execution_count": null,
      "outputs": [
        {
          "execution_count": 55,
          "output_type": "execute_result",
          "data": {
            "text/plain": "{'gu': {'Precision': 0.7728754073702683,\n  'Recall': 0.7939737316507854,\n  'F1': 0.7832825203252032}}"
          },
          "metadata": {}
        }
      ]
    },
    {
      "cell_type": "markdown",
      "source": [
        "# **Question 3**"
      ],
      "metadata": {
        "id": "zUZEZtSPpJbO"
      }
    },
    {
      "cell_type": "code",
      "source": [
        "chat_gpt_response = [\n",
        "[\"B-ORG\", \"I-ORG\", \"B-MISC\", \"O\", \"B-MISC\", \"I-MISC\", \"O\", \"O\", \"O\", \"O\", \"O\"],\n",
        "[\"O\", \"O\", \"O\", \"O\", \"O\", \"O\", \"O\", \"O\", \"O\", \"O\"],\n",
        "[\"B-MISC\", \"I-MISC\", \"O\", \"O\", \"O\", \"O\", \"O\", \"O\", \"O\", \"O\", \"O\", \"O\", \"O\", \"O\", \"O\", \"O\",\"O\"],\n",
        "[\"O\", \"O\", \"O\", \"O\", \"O\", \"O\", \"O\", \"O\", \"O\", \"O\", \"O\", \"O\", \"O\", \"O\", \"O\", \"O\", \"O\", \"O\", \"O\", \"O\", \"O\", \"O\", \"O\"],\n",
        "[\"O\", \"O\", \"B-MISC\", \"O\", \"O\", \"O\", \"O\", \"O\", \"B-MISC\", \"O\"],\n",
        "[\"O\", \"O\", \"O\", \"O\", \"O\", \"O\", \"O\", \"O\", \"O\", \"O\", \"O\", \"O\", \"O\", \"O\", \"O\", \"O\", \"O\", \"O\", \"O\"],\n",
        "[\"B-PER\", \"O\", \"O\", \"O\", \"B-LOC\", \"O\", \"O\", \"O\", \"O\", \"B-PER\", \"O\", \"O\", \"O\"],\n",
        "['O', 'B-ORG', 'I-ORG', 'B-PER', 'I-PER', 'O', 'O', 'O', 'O', 'O', 'O', 'O', 'O', 'O', 'O', 'O', 'O', 'O', 'O', 'O', 'O', 'O', 'O', 'O', 'O', 'O', 'O', 'O', 'O', 'O', 'O'],\n",
        "[\"B-ORG\", \"I-ORG\", \"I-ORG\", \"O\", \"B-MISC\", \"I-MISC\", \"I-MISC\", \"O\", \"O\", \"O\", \"O\"],\n",
        "['O', 'O', 'O', 'O', 'O', 'O', 'O', 'O', 'O', 'O', 'O', 'O', 'O', 'O', 'O', 'O', 'O', 'O', 'O', 'O', 'O', 'O', 'O', 'O', 'O', 'O', 'O', 'O', 'O', 'O', 'O', 'O', 'O', 'O'],\n",
        "['O', 'B-MISC', 'I-MISC', 'O', 'O', 'O', 'O', 'O', 'O', 'O'],\n",
        "[\"O\", \"O\", \"B-MISC\", \"I-MISC\", \"O\", \"O\", \"O\", \"O\", \"B-MISC\", \"O\", \"B-MISC\", \"I-MISC\", \"I-MISC\", \"O\", \"O\",\"O\",\"O\",\"O\"],\n",
        "[\"B-PER\", \"O\", \"O\", \"B-ORG\", \"B-LOC\", \"O\", \"O\", \"O\", \"B-PER\", \"I-PER\", \"O\", \"O\", \"O\",\"O\"],\n",
        "[\"O\", \"O\", \"O\", \"O\", \"B-MISC\", \"I-MISC\", \"O\", \"O\", \"O\", \"O\", \"B-MISC\", \"I-MISC\", \"O\", \"O\", \"O\", \"O\",\"O\",\"O\",\"O\",\"O\",\"O\"],\n",
        "[\"B-MISC\",\n",
        "\"O\" ,\n",
        "\"O\" ,\n",
        "\"O\" ,\n",
        "\"O\" ,\n",
        "\"B-PER\",\n",
        "\"O\" ,\n",
        "\"O\" ,\n",
        "\"O\" ,\n",
        "\"O\" ,\n",
        "\"O\" ,\n",
        "\"O\" ,\n",
        "\"O\" ,\n",
        "\"O\" ,\n",
        "\"O\" ,\n",
        "\"O\" ,\n",
        "\"O\" ,\n",
        "\"B-ORG\" ,\n",
        "\"O\" ,\n",
        "\"O\" ,\n",
        "\"O\" ,\n",
        "\"O\",\n",
        "\"O\",\n",
        "\"O\",\n",
        "\"O\",\n",
        "\"B\",\n",
        "\"B\",\n",
        "\"O\",\n",
        "\"O\",\n",
        "\"O\",\n",
        "\"O\",\n",
        "\"O\",\n",
        "\"B-LOC\",\n",
        "\"O\",\n",
        "\"O\",\n",
        "\"O\",\n",
        "\"O\",\n",
        "\"O\",\n",
        "\"B-PER\",\n",
        "\"O\",\n",
        "\"O\",\n",
        "\"O\",\n",
        "\"O\",\n",
        "\"O\",\n",
        "\"O\",\n",
        "\"B-PER\",\n",
        "\"O\",\n",
        "\"O\",\n",
        "\"O\",\n",
        "\"O\",\n",
        "\"O\",\n",
        "\"O\",\n",
        "\"O\",\n",
        "\"O\",\n",
        "\"O\"],\n",
        "[\"B-MISC\", \"I-MISC\", \"O\", \"O\", \"O\", \"O\", \"B-MISC\", \"O\", \"O\", \"O\"],\n",
        "['B-PER', 'O', 'O', 'O', 'O', 'O', 'O', 'O', 'O', 'O', 'O', 'O'],\n",
        "\n",
        "[\"B-MISC\", \"I-MISC\", \"O\", \"O\", \"O\", \"O\", \"B-PER\", \"O\", \"O\", \"O\"],\n",
        "['O', 'O', 'O', 'O', 'O', 'O','B-PER', 'I-PER', 'O', 'O', 'O', 'O', 'O', 'O', 'O'],\n",
        "[\"O\", \"O\", \"O\", \"B-MISC\", \"O\", \"O\", \"O\", \"O\", \"O\", \"O\", \"O\", \"O\"],\n",
        "['O', 'O','B-PER', 'I-PER', 'O', 'O', 'O', 'B-PER', 'O', 'O', 'O', 'O', 'O', 'O'],\n",
        "[\"B-MISC\", \"O\", \"O\", \"O\", \"O\", \"O\", \"O\", \"O\", \"O\", \"O\", \"O\"],\n",
        "[\"O\", \"O\",\"O\", \"B-MISC\", \"O\", \"O\", \"O\",\"O\", \"O\", \"O\", \"B-MISC\", \"O\", \"O\",\"B-ORG\" \"O\", \"O\", \"O\", \"O\", \"O\",\"O\"],\n",
        "[\"O\", \"O\", \"O\", \"O\", \"O\", \"O\", \"O\", \"O\", \"O\", \"O\", \"O\",\"O\"],\n",
        "[\"O\", \"O\", \"O\", \"B-MISC\", \"I-MISC\", \"O\", \"O\", \"O\", \"O\", \"O\", \"O\"]\n",
        "]"
      ],
      "metadata": {
        "id": "STDZpWXXpeGh"
      },
      "execution_count": 1,
      "outputs": []
    },
    {
      "cell_type": "markdown",
      "source": [
        "# **Question 4**"
      ],
      "metadata": {
        "id": "WSAzfxSVL9k8"
      }
    },
    {
      "cell_type": "code",
      "source": [
        "from collections import defaultdict"
      ],
      "metadata": {
        "id": "60OdHRNT7NEz",
        "execution": {
          "iopub.status.busy": "2024-03-13T11:30:16.679518Z",
          "iopub.execute_input": "2024-03-13T11:30:16.680364Z",
          "iopub.status.idle": "2024-03-13T11:30:16.684466Z",
          "shell.execute_reply.started": "2024-03-13T11:30:16.680330Z",
          "shell.execute_reply": "2024-03-13T11:30:16.683493Z"
        },
        "trusted": true
      },
      "execution_count": null,
      "outputs": []
    },
    {
      "cell_type": "code",
      "source": [
        "input_list = [\n",
        "\"ગુજરાત સરકારના લિગ્નાઇટ આધારિત વીજ પ્લાન્ટ બંધ જેવી હાલતમાં પડયા છે\",\n",
        "\"મૈત્રીપૂર્ણ વાતાવરણ કોઈપણ સૂવું માલિક લાવવા ખરાબ શક્ય ક્ષણ છે\",\n",
        "\"ગુરુવારે સવારે બેંકો ખુલતા પહેલા પ્રતિબંધિત નોટો લઇને મોટી સંખ્યામાં લોકો બેંકોની બહાર ઊભાં રહી ગયાં હતાં\",\n",
        "\"પરંતુ એ પછી થોડા સમયમાં તેમના અવસાન સાથે રાજકારણ અને રચનાત્મક કાર્ય વચ્ચેની કડી કાયમ માટે તૂટી ગઈ જે આજ સુધી સધાઈ નથી\",\n",
        "\"સાઇટ પર બ્લૂબૅરી કેવી રીતે વધવા તે અંગેના ઉનાળામાં નિવાસી\",\n",
        "\"જેના માટે સરકારે ઘણી બધી યોજનાઓ પણ ઘડી છે કે ખેડૂતોને થોડા ઘણા અંશે પોતાની તકલીફમાં રાહત મળી રહે\",\n",
        "\"શોએબે ઇન્ટરવ્યૂમાં જણાવ્યું કે ભારતના પ્રવાસ દરમિયાન તેની મુલાકાત સોનાલી સાથે થઇ હતી\",\n",
        "\"એનડીએ સરકારના નાણામંત્રી નિર્મલા સીતારમણે સંસદમાં ડુંગળીના ભાવ વધારાની એક ચર્ચા દરમિયાન નિવેદન આપ્યું કે પોતે ડુંગળી ખાતા નથી કારણ કે તે એવા પરીવારમાંથી આવે છે જયાં લસણ ડુંગળી ખવાતા નથી\",\n",
        "\"શ્રીગૌડ બ્રાહ્મણ સમાજ દ્વારા બિનઅનામત વર્ગના પ્રમાણપત્રો માટે મેગા કેમ્પનું આયોજન\",\n",
        "\"તેમણે કરોડોપતિનો દરજ્જો પ્રાપ્ત કર્યો છે કારણ કે તેઓએ સતત ઘણી સંપત્તિ નિર્માણની વ્યૂહરચનાઓનો ઉપયોગ કર્યો છે કે જેમાંથી કોઈ પણ ઉપયોગ કરી શકે છે આજેથી શરૂ અહીં આગામી બારોમાંથી મિલિયનેરના બાર લક્ષણો છે\",\n",
        "\"લગભગ પાંચથી દસ લોકો એક સાથે જવું વધુ સારું રહેશે\",\n",
        "\"સાથે જ સેનાનાં કાફલા માટે તેજ અને મજબૂત ટ્રક ઉપરાંત એન્ટી લેન્ડમાઈન વહીકલ પણ તૈયાર કરી રહી છે\",\n",
        "\"ગાધેરના માર્ગદર્શન હેઠળ એસીબી જુનાગઢના મદદનીશ નિયામક બી એલ દેસાઈ સહિત સ્ટાફ કામગીરી બજાવેલ\",\n",
        "\"નવા કાર્યભાર બાદ તેઓ સંરક્ષણ સચિવની મંજૂરી વગર જ સીધા સંરક્ષણ પ્રધાનને મળી શકે એવી સત્તા પણ તેમને આપવામાં આવી છે\",\n",
        "\"સત્તાની લાલચમાં કે અંગત કારણસર ધવલસિંહ ઝાલાએ દોઢ વર્ષના સમયગાળામાં તેમના મત વિસ્તારને નધણિયાત બનાવી મતદારો અને કોંગ્રેસના કાર્યકરો સાથે વિશ્વાસઘાત કર્યો હોવાના સુર સાથે બાયડના કોંગ્રેસના હોદ્દેદારો અને કાર્યકરો મોટી સંખ્યામાં બાયડ બસ સ્ટેન્ડ નજીક એકઠા થઈ ધવલસિંહ ઝાલા ગદ્દાર છે ના સૂત્રોચ્ચાર સાથે ધવલસિંહ ઝાલા ૧૫ કરોડમાં વેચાયા અને બાયડની પ્રજાને તમણે છેતર્યા\",\n",
        "\"ટ્વીટ્સની સ્ટ્રીમ જુઓ તે બધા ઉપર ટ્રમ્પ આંગળીના મળી છે\",\n",
        "\"વિરાટ કોહલીની ટીમે નામ વોટિંગ લિસ્ટમાં નોંધાવવા માટે ભરપૂર કોશિશ કરી હતી\",\n",
        "\"તે જલ્દિ ફિલ્મ નિકમ્મા થી કમબેક કરવા જઇ રહિ છે\",\n",
        "\"કોઈની નજરે ન ચઢી જવાય તેથી કેતન દવે પોતાની કારમાં જ નકલી નોટો રાખતો હતો\",\n",
        "\"૧૯ના રોજથી શરૂ થતાં નવા સત્રથી પુરવાની હતી તેનો ફિયાસ્કો થયો છે\",\n",
        "\"આ ફિલ્મમાં રણવીર કપિલદેવની ભૂમિકા છે અને દીપિકા તેમની પત્નીનો રોલ નિભાવી રહી છે\",\n",
        "\"કેટલો સમય જ્યારે સંબંધિત વિનંતિ સબમિટ વાલીપણું સત્તાવાળાઓ તરફથી પ્રતિસાદની રાહ\",\n",
        "\"ત્યારે સરકાર દ્વારા ચાઇનીઝ કંપનીઓને ફાયદો કરાવનારી નીતિ અમલમાં મુકાતા સિરામિક ઉદ્યોગ દ્વારા હાઈકોર્ટના દ્વારા ખખડાવાનો નિર્ણય લેવાયો છે\",\n",
        "\"ચિહ્નો અને આ રોગ ના લક્ષણો લાક્ષાણિક ઉપચાર દ્વારા ઘટાડી શકાય છે\",\n",
        "\"નેને એ પછી સાઉથ આફ્રિકાના નાણામંત્રી બાબતનો કોઈ અનુભવ જ હતો\"\n",
        "]"
      ],
      "metadata": {
        "id": "yzE5DiHKf31z",
        "execution": {
          "iopub.status.busy": "2024-03-13T11:30:16.958494Z",
          "iopub.execute_input": "2024-03-13T11:30:16.958835Z",
          "iopub.status.idle": "2024-03-13T11:30:16.968374Z",
          "shell.execute_reply.started": "2024-03-13T11:30:16.958809Z",
          "shell.execute_reply": "2024-03-13T11:30:16.967442Z"
        },
        "trusted": true
      },
      "execution_count": null,
      "outputs": []
    },
    {
      "cell_type": "code",
      "source": [
        "ground_truth = [\n",
        "    ['B-ORG','I-ORG','B-MISC','O','B-MISC','I-MISC','O','O','O','O','O'],\n",
        "['O','O','O','O','O','O','O','O','O','O'],\n",
        "['B-MISC','I-MISC','O','O','O','O','O','O','O','O','O','O','O','O','O','O','O'],\n",
        "['O','O','O','O','O','O','O','O','O','O','O','O','O','O','O', 'O','O','O','O','O','O','O','O'],\n",
        "['O','O','B-MISC','O','O','O','O','O','B-MISC','O'],\n",
        "['O','O','O','O','O','O','O','O','O','O','O','O','O','O','O','O','O','O','O'],\n",
        "['B-PER','O','O','O','B-LOC','O','O','O','O','B-PER','O','O','O'],\n",
        "['B-ORG','O','B-MISC','B-PER','I-PER','B-LOC','B-MISC','O','O','O','O','O','O','O','O','O','B-MISC','O','O','O','O','O','O','O','O','O','O','B-MISC','B-MISC','O','O'],\n",
        "['B-ORG','I-ORG','I-ORG','O','B-MISC','I-MISC','I-MISC','O','O','O','O'],\n",
        "['O','O','O','O','O','O','O','O','O','O','O','O','O','O','O','O','O','O','O','O','O','O','O','O','O','O','O','O','O','O','O','O','O','O'],\n",
        "['O','B-MISC','I-MISC','O','O','O','O','O','O','O'],\n",
        "['O','O','B-MISC','I-MISC','O','O','O','O','B-MISC','O','B-MISC','I-MISC','O','O','O','O','O','O'],\n",
        "['B-PER','O','O','B-ORG','B-LOC','O','O','B-PER','I-PER','I-PER','O','O','O','O'],\n",
        "['O','O','O','O','B-MISC','I-MISC','O','O','O','O','B-MISC','I-MISC','O','O','O','O','O','O','O','O','O'],\n",
        "['O','O','O','O','O','B-PER','I-PER','O','O','O','O','B-LOC','I-LOC','O','O','O','O','B-ORG','O','O','O','O','O','O','O','B-LOC','B-ORG','O','O','O','O','O','B-LOC','I-LOC','I-LOC','O','O','O','B-PER','I-PER','O','O','O','O','O','B-PER','I-PER','O','O','O','O','B-LOC','O','O','O'],\n",
        "['B-MISC','I-MISC','O','O','O','O','B-PER','O','O','O'],\n",
        "['B-PER','I-PER','O','O','O','O','O','O','O','O','O','O'],\n",
        "['O','O','O','B-MISC','O','O','O','O','O','O'],\n",
        "['O','O','O','O','O','O','B-PER','I-PER','O','O','O','O','O','O','O'],\n",
        "['B-MISC','O','O','O','O','O','O','O','O','O','O','O'],\n",
        "['O','O','B-PER','B-PER','O','O','O','B-PER','O','O','O','O','O','O'],\n",
        "['O','O','O','O','O','O','O','O','O','O','O'],\n",
        "['O','O','O','B-MISC','I-MISC','O','O','O','O','O','B-MISC','I-MISC','O','O','O','O','O','O','O'],\n",
        "['O','O','O','B-MISC','O','O','O','O','O','O','O','O'],\n",
        "['B-PER','O','O','B-LOC','I-LOC','B-MISC','O','O','O','O','O']\n",
        "]"
      ],
      "metadata": {
        "id": "F_oNZatlG8_p",
        "execution": {
          "iopub.status.busy": "2024-03-13T11:30:17.286567Z",
          "iopub.execute_input": "2024-03-13T11:30:17.287228Z",
          "iopub.status.idle": "2024-03-13T11:30:17.306892Z",
          "shell.execute_reply.started": "2024-03-13T11:30:17.287189Z",
          "shell.execute_reply": "2024-03-13T11:30:17.305820Z"
        },
        "trusted": true
      },
      "execution_count": null,
      "outputs": []
    },
    {
      "cell_type": "code",
      "source": [
        "def get_predictions( sentence, tokenizer, model ):\n",
        "  # Let us first tokenize the sentence - split words into subwords\n",
        "  tok_sentence = tokenizer(sentence, return_tensors='pt')\n",
        "  # print(tok_sentence)\n",
        "  # predictions, labels, bert_metrics = trainer.predict(tok_sentence)\n",
        "  with torch.no_grad():\n",
        "    # we will send the tokenized sentence to the model to get predictions\n",
        "    logits = model(**tok_sentence).logits.argmax(-1)\n",
        "\n",
        "    # We will map the maximum predicted class id with the class label\n",
        "    predicted_tokens_classes = [model.config.id2label[t.item()] for t in logits[0]]\n",
        "\n",
        "    predicted_labels = []\n",
        "\n",
        "    previous_token_id = 0\n",
        "    # we need to assign the named entity label to the head word and not the following sub-words\n",
        "    word_ids = tok_sentence.word_ids()\n",
        "    for word_index in range(len(word_ids)):\n",
        "        if word_ids[word_index] == None:\n",
        "            previous_token_id = word_ids[word_index]\n",
        "        elif word_ids[word_index] == previous_token_id:\n",
        "            previous_token_id = word_ids[word_index]\n",
        "        else:\n",
        "            predicted_labels.append( predicted_tokens_classes[ word_index ] )\n",
        "            previous_token_id = word_ids[word_index]\n",
        "\n",
        "  return predicted_labels"
      ],
      "metadata": {
        "id": "l-6QO1F4f8Lz",
        "execution": {
          "iopub.status.busy": "2024-03-13T11:30:17.562756Z",
          "iopub.execute_input": "2024-03-13T11:30:17.563123Z",
          "iopub.status.idle": "2024-03-13T11:30:17.571182Z",
          "shell.execute_reply.started": "2024-03-13T11:30:17.563093Z",
          "shell.execute_reply": "2024-03-13T11:30:17.570172Z"
        },
        "trusted": true
      },
      "execution_count": null,
      "outputs": []
    },
    {
      "cell_type": "code",
      "source": [
        "def compute_f1_score(predictions, ground_truth):\n",
        "    class_counts = defaultdict(lambda: {'true_positives': 0, 'false_positives': 0, 'false_negatives': 0})\n",
        "\n",
        "    for pred_sent, truth_sent in zip(predictions, ground_truth):\n",
        "        for pred_tag, truth_tag in zip(pred_sent, truth_sent):\n",
        "            if pred_tag == truth_tag:\n",
        "                class_counts[truth_tag]['true_positives'] += 1\n",
        "            else:\n",
        "                class_counts[pred_tag]['false_positives'] += 1\n",
        "                class_counts[truth_tag]['false_negatives'] += 1\n",
        "\n",
        "    macro_precision = 0\n",
        "    macro_recall = 0\n",
        "    macro_f1 = 0\n",
        "\n",
        "    for class_label, counts in class_counts.items():\n",
        "        true_positives = counts['true_positives']\n",
        "        false_positives = counts['false_positives']\n",
        "        false_negatives = counts['false_negatives']\n",
        "\n",
        "        precision = true_positives / (true_positives + false_positives) if (true_positives + false_positives) > 0 else 0\n",
        "        recall = true_positives / (true_positives + false_negatives) if (true_positives + false_negatives) > 0 else 0\n",
        "        f1 = 2 * (precision * recall) / (precision + recall) if (precision + recall) > 0 else 0\n",
        "\n",
        "        print(\"Performace of \",class_label)\n",
        "        print(\"Precision:\", precision)\n",
        "        print(\"Recall:\", recall)\n",
        "        print(\"F1-score:\", f1)\n",
        "        print(\"------------\")\n",
        "\n",
        "        macro_precision += precision\n",
        "        macro_recall += recall\n",
        "        macro_f1 += f1\n",
        "\n",
        "    num_classes = len(class_counts)\n",
        "    macro_precision /= num_classes\n",
        "    macro_recall /= num_classes\n",
        "    macro_f1 /= num_classes\n",
        "\n",
        "    print(\"number of classes\",num_classes)\n",
        "\n",
        "    return macro_precision, macro_recall, macro_f1"
      ],
      "metadata": {
        "id": "ZWiGiTukh_ms",
        "execution": {
          "iopub.status.busy": "2024-03-13T11:30:17.857565Z",
          "iopub.execute_input": "2024-03-13T11:30:17.858307Z",
          "iopub.status.idle": "2024-03-13T11:30:17.868210Z",
          "shell.execute_reply.started": "2024-03-13T11:30:17.858272Z",
          "shell.execute_reply": "2024-03-13T11:30:17.867324Z"
        },
        "trusted": true
      },
      "execution_count": null,
      "outputs": []
    },
    {
      "cell_type": "markdown",
      "source": [
        "## **IndicBERT**"
      ],
      "metadata": {
        "id": "JXU-LixCh_mr"
      }
    },
    {
      "cell_type": "code",
      "source": [
        "# from transformers import AutoModelForTokenClassification, AutoConfig, AutoTokenizer, TrainingArguments, Trainer, DataCollatorForTokenClassification\n",
        "# import numpy as np\n",
        "# import torch\n",
        "\n",
        "# # Define the folder path where the model and tokenizer are saved\n",
        "# trainer_folder_path = \"/kaggle/input/saved-trainer-ner\"\n",
        "\n",
        "\n",
        "# # Load tokenizer\n",
        "# # tokenizer_bert_pre = BertTokenizer.from_pretrained(trainer_folder_path)\n",
        "\n",
        "# # # Load model\n",
        "# # model_bert_pre = BertForSequenceClassification.from_pretrained(trainer_folder_path)\n",
        "\n",
        "# # from sklearn.metrics import precision_recall_fscore_support\n",
        "\n",
        "# # config = AutoConfig.from_pretrained('ai4bharat/indic-bert', num_labels=num_labels, finetuning_task='ner')\n",
        "# bert_tokenizer_pre = AutoTokenizer.from_pretrained(trainer_folder_path)\n",
        "# bert_model_pre = AutoModelForTokenClassification.from_pretrained(trainer_folder_path, num_labels=num_labels )"
      ],
      "metadata": {
        "id": "3X7xf7yuW2NH",
        "execution": {
          "iopub.status.busy": "2024-03-13T11:29:57.236299Z",
          "iopub.execute_input": "2024-03-13T11:29:57.237056Z",
          "iopub.status.idle": "2024-03-13T11:29:58.157428Z",
          "shell.execute_reply.started": "2024-03-13T11:29:57.237027Z",
          "shell.execute_reply": "2024-03-13T11:29:58.156484Z"
        },
        "trusted": true
      },
      "execution_count": null,
      "outputs": []
    },
    {
      "cell_type": "code",
      "source": [
        "prediction_by_IndicBERT = []\n",
        "for sentence in input_list:\n",
        "  predicted_labels = get_predictions(sentence=sentence, tokenizer=bert_tokenizer,model=bert_model)\n",
        "  prediction_by_IndicBERT.append(predicted_labels)"
      ],
      "metadata": {
        "id": "30I5TMhvh_ms",
        "execution": {
          "iopub.status.busy": "2024-03-13T11:30:44.622498Z",
          "iopub.execute_input": "2024-03-13T11:30:44.623329Z",
          "iopub.status.idle": "2024-03-13T11:30:46.214984Z",
          "shell.execute_reply.started": "2024-03-13T11:30:44.623296Z",
          "shell.execute_reply": "2024-03-13T11:30:46.214156Z"
        },
        "trusted": true
      },
      "execution_count": null,
      "outputs": []
    },
    {
      "cell_type": "code",
      "source": [
        "prediction_by_IndicBERT\n"
      ],
      "metadata": {
        "id": "4Ixwzgphh_ms",
        "colab": {
          "base_uri": "https://localhost:8080/"
        },
        "outputId": "87993a27-575b-45c0-e5bd-ea6a8e8c63b4",
        "execution": {
          "iopub.status.busy": "2024-03-13T11:30:47.956526Z",
          "iopub.execute_input": "2024-03-13T11:30:47.957346Z",
          "iopub.status.idle": "2024-03-13T11:30:47.973117Z",
          "shell.execute_reply.started": "2024-03-13T11:30:47.957314Z",
          "shell.execute_reply": "2024-03-13T11:30:47.972187Z"
        },
        "trusted": true
      },
      "execution_count": null,
      "outputs": [
        {
          "execution_count": 23,
          "output_type": "execute_result",
          "data": {
            "text/plain": "[['LABEL_3',\n  'LABEL_0',\n  'LABEL_0',\n  'LABEL_0',\n  'LABEL_0',\n  'LABEL_0',\n  'LABEL_0',\n  'LABEL_0',\n  'LABEL_0',\n  'LABEL_0',\n  'LABEL_0'],\n ['LABEL_0',\n  'LABEL_0',\n  'LABEL_0',\n  'LABEL_0',\n  'LABEL_0',\n  'LABEL_0',\n  'LABEL_0',\n  'LABEL_0',\n  'LABEL_0',\n  'LABEL_0'],\n ['LABEL_0',\n  'LABEL_0',\n  'LABEL_0',\n  'LABEL_0',\n  'LABEL_0',\n  'LABEL_0',\n  'LABEL_0',\n  'LABEL_0',\n  'LABEL_0',\n  'LABEL_0',\n  'LABEL_0',\n  'LABEL_0',\n  'LABEL_0',\n  'LABEL_0',\n  'LABEL_0',\n  'LABEL_0',\n  'LABEL_0'],\n ['LABEL_0',\n  'LABEL_0',\n  'LABEL_0',\n  'LABEL_0',\n  'LABEL_0',\n  'LABEL_0',\n  'LABEL_0',\n  'LABEL_0',\n  'LABEL_0',\n  'LABEL_0',\n  'LABEL_0',\n  'LABEL_0',\n  'LABEL_0',\n  'LABEL_0',\n  'LABEL_0',\n  'LABEL_0',\n  'LABEL_0',\n  'LABEL_0',\n  'LABEL_0',\n  'LABEL_0',\n  'LABEL_0',\n  'LABEL_0',\n  'LABEL_0'],\n ['LABEL_0',\n  'LABEL_0',\n  'LABEL_0',\n  'LABEL_0',\n  'LABEL_0',\n  'LABEL_0',\n  'LABEL_0',\n  'LABEL_0',\n  'LABEL_0',\n  'LABEL_0'],\n ['LABEL_0',\n  'LABEL_0',\n  'LABEL_0',\n  'LABEL_0',\n  'LABEL_0',\n  'LABEL_0',\n  'LABEL_0',\n  'LABEL_0',\n  'LABEL_0',\n  'LABEL_0',\n  'LABEL_0',\n  'LABEL_0',\n  'LABEL_0',\n  'LABEL_0',\n  'LABEL_0',\n  'LABEL_0',\n  'LABEL_0',\n  'LABEL_0',\n  'LABEL_0'],\n ['LABEL_1',\n  'LABEL_0',\n  'LABEL_0',\n  'LABEL_0',\n  'LABEL_5',\n  'LABEL_0',\n  'LABEL_0',\n  'LABEL_0',\n  'LABEL_0',\n  'LABEL_1',\n  'LABEL_0',\n  'LABEL_0',\n  'LABEL_0'],\n ['LABEL_3',\n  'LABEL_0',\n  'LABEL_0',\n  'LABEL_1',\n  'LABEL_2',\n  'LABEL_0',\n  'LABEL_0',\n  'LABEL_0',\n  'LABEL_0',\n  'LABEL_0',\n  'LABEL_0',\n  'LABEL_0',\n  'LABEL_0',\n  'LABEL_0',\n  'LABEL_0',\n  'LABEL_0',\n  'LABEL_0',\n  'LABEL_0',\n  'LABEL_0',\n  'LABEL_0',\n  'LABEL_0',\n  'LABEL_0',\n  'LABEL_0',\n  'LABEL_0',\n  'LABEL_0',\n  'LABEL_0',\n  'LABEL_0',\n  'LABEL_0',\n  'LABEL_0',\n  'LABEL_0',\n  'LABEL_0'],\n ['LABEL_3',\n  'LABEL_4',\n  'LABEL_4',\n  'LABEL_0',\n  'LABEL_0',\n  'LABEL_0',\n  'LABEL_0',\n  'LABEL_0',\n  'LABEL_0',\n  'LABEL_3',\n  'LABEL_0'],\n ['LABEL_0',\n  'LABEL_0',\n  'LABEL_0',\n  'LABEL_0',\n  'LABEL_0',\n  'LABEL_0',\n  'LABEL_0',\n  'LABEL_0',\n  'LABEL_0',\n  'LABEL_0',\n  'LABEL_0',\n  'LABEL_0',\n  'LABEL_0',\n  'LABEL_0',\n  'LABEL_0',\n  'LABEL_0',\n  'LABEL_0',\n  'LABEL_0',\n  'LABEL_0',\n  'LABEL_0',\n  'LABEL_0',\n  'LABEL_0',\n  'LABEL_0',\n  'LABEL_0',\n  'LABEL_0',\n  'LABEL_0',\n  'LABEL_0',\n  'LABEL_0',\n  'LABEL_0',\n  'LABEL_0',\n  'LABEL_0',\n  'LABEL_0',\n  'LABEL_0',\n  'LABEL_0'],\n ['LABEL_0',\n  'LABEL_0',\n  'LABEL_0',\n  'LABEL_0',\n  'LABEL_0',\n  'LABEL_0',\n  'LABEL_0',\n  'LABEL_0',\n  'LABEL_0',\n  'LABEL_0'],\n ['LABEL_0',\n  'LABEL_0',\n  'LABEL_0',\n  'LABEL_0',\n  'LABEL_0',\n  'LABEL_0',\n  'LABEL_0',\n  'LABEL_0',\n  'LABEL_0',\n  'LABEL_0',\n  'LABEL_0',\n  'LABEL_0',\n  'LABEL_0',\n  'LABEL_0',\n  'LABEL_0',\n  'LABEL_0',\n  'LABEL_0',\n  'LABEL_0'],\n ['LABEL_0',\n  'LABEL_0',\n  'LABEL_0',\n  'LABEL_3',\n  'LABEL_4',\n  'LABEL_0',\n  'LABEL_0',\n  'LABEL_1',\n  'LABEL_2',\n  'LABEL_2',\n  'LABEL_0',\n  'LABEL_0',\n  'LABEL_0',\n  'LABEL_0'],\n ['LABEL_0',\n  'LABEL_0',\n  'LABEL_0',\n  'LABEL_0',\n  'LABEL_0',\n  'LABEL_0',\n  'LABEL_0',\n  'LABEL_0',\n  'LABEL_0',\n  'LABEL_0',\n  'LABEL_0',\n  'LABEL_0',\n  'LABEL_0',\n  'LABEL_0',\n  'LABEL_0',\n  'LABEL_0',\n  'LABEL_0',\n  'LABEL_0',\n  'LABEL_0',\n  'LABEL_0',\n  'LABEL_0'],\n ['LABEL_0',\n  'LABEL_0',\n  'LABEL_0',\n  'LABEL_0',\n  'LABEL_0',\n  'LABEL_1',\n  'LABEL_2',\n  'LABEL_0',\n  'LABEL_0',\n  'LABEL_0',\n  'LABEL_0',\n  'LABEL_0',\n  'LABEL_0',\n  'LABEL_0',\n  'LABEL_0',\n  'LABEL_0',\n  'LABEL_0',\n  'LABEL_0',\n  'LABEL_0',\n  'LABEL_0',\n  'LABEL_0',\n  'LABEL_0',\n  'LABEL_0',\n  'LABEL_0',\n  'LABEL_0',\n  'LABEL_0',\n  'LABEL_0',\n  'LABEL_0',\n  'LABEL_0',\n  'LABEL_0',\n  'LABEL_0',\n  'LABEL_0',\n  'LABEL_0',\n  'LABEL_0',\n  'LABEL_0',\n  'LABEL_0',\n  'LABEL_0',\n  'LABEL_0',\n  'LABEL_0',\n  'LABEL_0',\n  'LABEL_0',\n  'LABEL_0',\n  'LABEL_0',\n  'LABEL_0',\n  'LABEL_0',\n  'LABEL_1',\n  'LABEL_0',\n  'LABEL_0',\n  'LABEL_0',\n  'LABEL_0',\n  'LABEL_0',\n  'LABEL_0',\n  'LABEL_0',\n  'LABEL_0',\n  'LABEL_0'],\n ['LABEL_0',\n  'LABEL_0',\n  'LABEL_0',\n  'LABEL_0',\n  'LABEL_0',\n  'LABEL_0',\n  'LABEL_1',\n  'LABEL_0',\n  'LABEL_0',\n  'LABEL_0'],\n ['LABEL_1',\n  'LABEL_2',\n  'LABEL_0',\n  'LABEL_0',\n  'LABEL_0',\n  'LABEL_0',\n  'LABEL_0',\n  'LABEL_0',\n  'LABEL_0',\n  'LABEL_0',\n  'LABEL_0',\n  'LABEL_0'],\n ['LABEL_0',\n  'LABEL_0',\n  'LABEL_0',\n  'LABEL_0',\n  'LABEL_0',\n  'LABEL_0',\n  'LABEL_0',\n  'LABEL_0',\n  'LABEL_0',\n  'LABEL_0'],\n ['LABEL_0',\n  'LABEL_0',\n  'LABEL_0',\n  'LABEL_0',\n  'LABEL_0',\n  'LABEL_0',\n  'LABEL_1',\n  'LABEL_2',\n  'LABEL_0',\n  'LABEL_0',\n  'LABEL_0',\n  'LABEL_0',\n  'LABEL_0',\n  'LABEL_0',\n  'LABEL_0'],\n ['LABEL_0',\n  'LABEL_0',\n  'LABEL_0',\n  'LABEL_0',\n  'LABEL_0',\n  'LABEL_0',\n  'LABEL_0',\n  'LABEL_0',\n  'LABEL_0',\n  'LABEL_0',\n  'LABEL_0',\n  'LABEL_0'],\n ['LABEL_0',\n  'LABEL_0',\n  'LABEL_1',\n  'LABEL_1',\n  'LABEL_0',\n  'LABEL_0',\n  'LABEL_0',\n  'LABEL_1',\n  'LABEL_0',\n  'LABEL_0',\n  'LABEL_0',\n  'LABEL_0',\n  'LABEL_0',\n  'LABEL_0'],\n ['LABEL_0',\n  'LABEL_0',\n  'LABEL_0',\n  'LABEL_0',\n  'LABEL_0',\n  'LABEL_0',\n  'LABEL_0',\n  'LABEL_0',\n  'LABEL_0',\n  'LABEL_0',\n  'LABEL_0'],\n ['LABEL_0',\n  'LABEL_0',\n  'LABEL_0',\n  'LABEL_0',\n  'LABEL_0',\n  'LABEL_0',\n  'LABEL_0',\n  'LABEL_0',\n  'LABEL_0',\n  'LABEL_0',\n  'LABEL_0',\n  'LABEL_0',\n  'LABEL_0',\n  'LABEL_0',\n  'LABEL_0',\n  'LABEL_0',\n  'LABEL_0',\n  'LABEL_0',\n  'LABEL_0'],\n ['LABEL_0',\n  'LABEL_0',\n  'LABEL_0',\n  'LABEL_0',\n  'LABEL_0',\n  'LABEL_0',\n  'LABEL_0',\n  'LABEL_0',\n  'LABEL_0',\n  'LABEL_0',\n  'LABEL_0',\n  'LABEL_0'],\n ['LABEL_0',\n  'LABEL_0',\n  'LABEL_0',\n  'LABEL_5',\n  'LABEL_6',\n  'LABEL_0',\n  'LABEL_1',\n  'LABEL_0',\n  'LABEL_0',\n  'LABEL_0',\n  'LABEL_0']]"
          },
          "metadata": {}
        }
      ]
    },
    {
      "cell_type": "code",
      "source": [
        "label_mapping = {'LABEL_1': 'B-PER', 'LABEL_0': 'O', 'LABEL_2': 'I-PER', 'LABEL_3': 'B-ORG','LABEL_4': 'I-ORG', 'LABEL_5': 'B-LOC', 'LABEL_6': 'I-LOC', 'LABEL_7': 'B-MISC', 'LABEL_8':'I-LOC'}\n",
        "\n",
        "# label_list = [['LABEL_1', 'LABEL_0', 'LABEL_0', 'LABEL_0', 'LABEL_0', 'LABEL_0', 'LABEL_0', 'LABEL_0', 'LABEL_0', 'LABEL_0', 'LABEL_0', 'LABEL_0'],\n",
        "#               ['LABEL_0', 'LABEL_0', 'LABEL_0', 'LABEL_0', 'LABEL_3', 'LABEL_0', 'LABEL_2', 'LABEL_0', 'LABEL_0', 'LABEL_0', 'LABEL_0']]\n",
        "\n",
        "converted_list = [[label_mapping[label] for label in inner_list] for inner_list in prediction_by_IndicBERT]\n"
      ],
      "metadata": {
        "id": "j2ZeTLWkbWZ_",
        "execution": {
          "iopub.status.busy": "2024-03-13T11:30:57.168838Z",
          "iopub.execute_input": "2024-03-13T11:30:57.169216Z",
          "iopub.status.idle": "2024-03-13T11:30:57.176056Z",
          "shell.execute_reply.started": "2024-03-13T11:30:57.169179Z",
          "shell.execute_reply": "2024-03-13T11:30:57.175073Z"
        },
        "trusted": true
      },
      "execution_count": null,
      "outputs": []
    },
    {
      "cell_type": "code",
      "source": [
        "converted_list"
      ],
      "metadata": {
        "id": "aeQhO20fbn_L",
        "colab": {
          "base_uri": "https://localhost:8080/"
        },
        "outputId": "4b5af054-95dc-4970-c8d4-7a25839f9b81",
        "execution": {
          "iopub.status.busy": "2024-03-13T11:30:57.421270Z",
          "iopub.execute_input": "2024-03-13T11:30:57.421595Z",
          "iopub.status.idle": "2024-03-13T11:30:57.437090Z",
          "shell.execute_reply.started": "2024-03-13T11:30:57.421569Z",
          "shell.execute_reply": "2024-03-13T11:30:57.435949Z"
        },
        "trusted": true
      },
      "execution_count": null,
      "outputs": [
        {
          "execution_count": 25,
          "output_type": "execute_result",
          "data": {
            "text/plain": "[['B-ORG', 'O', 'O', 'O', 'O', 'O', 'O', 'O', 'O', 'O', 'O'],\n ['O', 'O', 'O', 'O', 'O', 'O', 'O', 'O', 'O', 'O'],\n ['O',\n  'O',\n  'O',\n  'O',\n  'O',\n  'O',\n  'O',\n  'O',\n  'O',\n  'O',\n  'O',\n  'O',\n  'O',\n  'O',\n  'O',\n  'O',\n  'O'],\n ['O',\n  'O',\n  'O',\n  'O',\n  'O',\n  'O',\n  'O',\n  'O',\n  'O',\n  'O',\n  'O',\n  'O',\n  'O',\n  'O',\n  'O',\n  'O',\n  'O',\n  'O',\n  'O',\n  'O',\n  'O',\n  'O',\n  'O'],\n ['O', 'O', 'O', 'O', 'O', 'O', 'O', 'O', 'O', 'O'],\n ['O',\n  'O',\n  'O',\n  'O',\n  'O',\n  'O',\n  'O',\n  'O',\n  'O',\n  'O',\n  'O',\n  'O',\n  'O',\n  'O',\n  'O',\n  'O',\n  'O',\n  'O',\n  'O'],\n ['B-PER', 'O', 'O', 'O', 'B-LOC', 'O', 'O', 'O', 'O', 'B-PER', 'O', 'O', 'O'],\n ['B-ORG',\n  'O',\n  'O',\n  'B-PER',\n  'I-PER',\n  'O',\n  'O',\n  'O',\n  'O',\n  'O',\n  'O',\n  'O',\n  'O',\n  'O',\n  'O',\n  'O',\n  'O',\n  'O',\n  'O',\n  'O',\n  'O',\n  'O',\n  'O',\n  'O',\n  'O',\n  'O',\n  'O',\n  'O',\n  'O',\n  'O',\n  'O'],\n ['B-ORG', 'I-ORG', 'I-ORG', 'O', 'O', 'O', 'O', 'O', 'O', 'B-ORG', 'O'],\n ['O',\n  'O',\n  'O',\n  'O',\n  'O',\n  'O',\n  'O',\n  'O',\n  'O',\n  'O',\n  'O',\n  'O',\n  'O',\n  'O',\n  'O',\n  'O',\n  'O',\n  'O',\n  'O',\n  'O',\n  'O',\n  'O',\n  'O',\n  'O',\n  'O',\n  'O',\n  'O',\n  'O',\n  'O',\n  'O',\n  'O',\n  'O',\n  'O',\n  'O'],\n ['O', 'O', 'O', 'O', 'O', 'O', 'O', 'O', 'O', 'O'],\n ['O',\n  'O',\n  'O',\n  'O',\n  'O',\n  'O',\n  'O',\n  'O',\n  'O',\n  'O',\n  'O',\n  'O',\n  'O',\n  'O',\n  'O',\n  'O',\n  'O',\n  'O'],\n ['O',\n  'O',\n  'O',\n  'B-ORG',\n  'I-ORG',\n  'O',\n  'O',\n  'B-PER',\n  'I-PER',\n  'I-PER',\n  'O',\n  'O',\n  'O',\n  'O'],\n ['O',\n  'O',\n  'O',\n  'O',\n  'O',\n  'O',\n  'O',\n  'O',\n  'O',\n  'O',\n  'O',\n  'O',\n  'O',\n  'O',\n  'O',\n  'O',\n  'O',\n  'O',\n  'O',\n  'O',\n  'O'],\n ['O',\n  'O',\n  'O',\n  'O',\n  'O',\n  'B-PER',\n  'I-PER',\n  'O',\n  'O',\n  'O',\n  'O',\n  'O',\n  'O',\n  'O',\n  'O',\n  'O',\n  'O',\n  'O',\n  'O',\n  'O',\n  'O',\n  'O',\n  'O',\n  'O',\n  'O',\n  'O',\n  'O',\n  'O',\n  'O',\n  'O',\n  'O',\n  'O',\n  'O',\n  'O',\n  'O',\n  'O',\n  'O',\n  'O',\n  'O',\n  'O',\n  'O',\n  'O',\n  'O',\n  'O',\n  'O',\n  'B-PER',\n  'O',\n  'O',\n  'O',\n  'O',\n  'O',\n  'O',\n  'O',\n  'O',\n  'O'],\n ['O', 'O', 'O', 'O', 'O', 'O', 'B-PER', 'O', 'O', 'O'],\n ['B-PER', 'I-PER', 'O', 'O', 'O', 'O', 'O', 'O', 'O', 'O', 'O', 'O'],\n ['O', 'O', 'O', 'O', 'O', 'O', 'O', 'O', 'O', 'O'],\n ['O',\n  'O',\n  'O',\n  'O',\n  'O',\n  'O',\n  'B-PER',\n  'I-PER',\n  'O',\n  'O',\n  'O',\n  'O',\n  'O',\n  'O',\n  'O'],\n ['O', 'O', 'O', 'O', 'O', 'O', 'O', 'O', 'O', 'O', 'O', 'O'],\n ['O',\n  'O',\n  'B-PER',\n  'B-PER',\n  'O',\n  'O',\n  'O',\n  'B-PER',\n  'O',\n  'O',\n  'O',\n  'O',\n  'O',\n  'O'],\n ['O', 'O', 'O', 'O', 'O', 'O', 'O', 'O', 'O', 'O', 'O'],\n ['O',\n  'O',\n  'O',\n  'O',\n  'O',\n  'O',\n  'O',\n  'O',\n  'O',\n  'O',\n  'O',\n  'O',\n  'O',\n  'O',\n  'O',\n  'O',\n  'O',\n  'O',\n  'O'],\n ['O', 'O', 'O', 'O', 'O', 'O', 'O', 'O', 'O', 'O', 'O', 'O'],\n ['O', 'O', 'O', 'B-LOC', 'I-LOC', 'O', 'B-PER', 'O', 'O', 'O', 'O']]"
          },
          "metadata": {}
        }
      ]
    },
    {
      "cell_type": "code",
      "source": [
        "# Call the function with your predictions and ground truth\n",
        "precision, recall, f1 = compute_f1_score(converted_list, ground_truth)\n"
      ],
      "metadata": {
        "colab": {
          "base_uri": "https://localhost:8080/"
        },
        "id": "4WNmH-U669UB",
        "outputId": "ab91c289-1b73-4c52-cd58-ee059a3ea624",
        "execution": {
          "iopub.status.busy": "2024-03-13T11:30:58.037345Z",
          "iopub.execute_input": "2024-03-13T11:30:58.038146Z",
          "iopub.status.idle": "2024-03-13T11:30:58.043416Z",
          "shell.execute_reply.started": "2024-03-13T11:30:58.038110Z",
          "shell.execute_reply": "2024-03-13T11:30:58.042530Z"
        },
        "trusted": true
      },
      "execution_count": null,
      "outputs": [
        {
          "name": "stdout",
          "text": "Performace of  B-ORG\nPrecision: 0.8\nRecall: 0.6666666666666666\nF1-score: 0.7272727272727272\n------------\nPerformace of  O\nPrecision: 0.8676844783715013\nRecall: 0.9941690962099126\nF1-score: 0.9266304347826088\n------------\nPerformace of  I-ORG\nPrecision: 0.6666666666666666\nRecall: 0.6666666666666666\nF1-score: 0.6666666666666666\n------------\nPerformace of  B-MISC\nPrecision: 0\nRecall: 0.0\nF1-score: 0\n------------\nPerformace of  I-MISC\nPrecision: 0\nRecall: 0.0\nF1-score: 0\n------------\nPerformace of  B-PER\nPrecision: 0.9230769230769231\nRecall: 0.8\nF1-score: 0.8571428571428571\n------------\nPerformace of  B-LOC\nPrecision: 1.0\nRecall: 0.25\nF1-score: 0.4\n------------\nPerformace of  I-PER\nPrecision: 1.0\nRecall: 0.75\nF1-score: 0.8571428571428571\n------------\nPerformace of  I-LOC\nPrecision: 1.0\nRecall: 0.25\nF1-score: 0.4\n------------\nnumber of classes 9\n",
          "output_type": "stream"
        }
      ]
    },
    {
      "cell_type": "code",
      "source": [
        "print(\"Macro Precision:\", precision)\n",
        "print(\"Macro Recall:\", recall)\n",
        "print(\"Macro F1-score:\", f1)"
      ],
      "metadata": {
        "colab": {
          "base_uri": "https://localhost:8080/"
        },
        "id": "BPStFVpk9KRL",
        "outputId": "8f79004b-6789-48d7-d112-b18ce3f424f0",
        "execution": {
          "iopub.status.busy": "2024-03-13T11:35:13.782431Z",
          "iopub.execute_input": "2024-03-13T11:35:13.783116Z",
          "iopub.status.idle": "2024-03-13T11:35:13.790802Z",
          "shell.execute_reply.started": "2024-03-13T11:35:13.783085Z",
          "shell.execute_reply": "2024-03-13T11:35:13.789743Z"
        },
        "trusted": true
      },
      "execution_count": null,
      "outputs": [
        {
          "name": "stdout",
          "text": "Macro Precision: 0.5228491012601548\nMacro Recall: 0.5058336032825829\nMacro F1-score: 0.4999071649277411\n",
          "output_type": "stream"
        }
      ]
    },
    {
      "cell_type": "markdown",
      "source": [
        "## **IndicNER**"
      ],
      "metadata": {
        "id": "7-fNYkznhu1V"
      }
    },
    {
      "cell_type": "code",
      "source": [
        "# from transformers import AutoModelForTokenClassification, AutoConfig, AutoTokenizer, TrainingArguments, Trainer, DataCollatorForTokenClassification\n",
        "# import numpy as np\n",
        "# import torch\n",
        "\n",
        "# # Define the folder path where the model and tokenizer are saved\n",
        "# trainer_folder_path = \"/kaggle/input/saved-trainer-ner\"\n",
        "\n",
        "# # Load tokenizer\n",
        "# # tokenizer_bert_pre = BertTokenizer.from_pretrained(trainer_folder_path)\n",
        "\n",
        "# # # Load model\n",
        "# # model_bert_pre = BertForSequenceClassification.from_pretrained(trainer_folder_path)\n",
        "\n",
        "# # from sklearn.metrics import precision_recall_fscore_support\n",
        "\n",
        "# # config = AutoConfig.from_pretrained('ai4bharat/indic-bert', num_labels=num_labels, finetuning_task='ner')\n",
        "# ner_tokenizer_pre = AutoTokenizer.from_pretrained(trainer_folder_path)\n",
        "# ner_model_pre = AutoModelForTokenClassification.from_pretrained(trainer_folder_path, num_labels=num_labels )"
      ],
      "metadata": {
        "id": "gmB1fq-5EZdY",
        "execution": {
          "iopub.status.busy": "2024-03-13T11:34:43.292255Z",
          "iopub.execute_input": "2024-03-13T11:34:43.292604Z",
          "iopub.status.idle": "2024-03-13T11:34:47.223632Z",
          "shell.execute_reply.started": "2024-03-13T11:34:43.292578Z",
          "shell.execute_reply": "2024-03-13T11:34:47.222406Z"
        },
        "trusted": true
      },
      "execution_count": null,
      "outputs": []
    },
    {
      "cell_type": "code",
      "source": [
        "# !pip install transformers"
      ],
      "metadata": {
        "id": "92dnW25p6nxp",
        "execution": {
          "iopub.status.busy": "2024-03-13T06:53:55.905158Z",
          "iopub.status.idle": "2024-03-13T06:53:55.905674Z",
          "shell.execute_reply.started": "2024-03-13T06:53:55.905408Z",
          "shell.execute_reply": "2024-03-13T06:53:55.905428Z"
        },
        "trusted": true
      },
      "execution_count": null,
      "outputs": []
    },
    {
      "cell_type": "code",
      "source": [
        "# from transformers import BertTokenizer, BertForSequenceClassification, Trainer, TrainingArguments\n",
        "# from google.colab import drive\n",
        "\n",
        "# # Mount Google Drive\n",
        "# drive.mount('/content/drive')\n",
        "\n",
        "# # Define the folder path where the trainer will be saved\n",
        "# trainer_folder_path = \"/content/drive/MyDrive/saved_trainer_ner\"\n",
        "\n",
        "# Define your tokenizer and model\n",
        "# tokenizer = BertTokenizer.from_pretrained(\"bert-base-uncased\")  # Replace with your actual tokenizer\n",
        "# model = BertForSequenceClassification.from_pretrained(\"bert-base-uncased\")  # Replace with your actual model\n",
        "\n",
        "# # Define your TrainingArguments\n",
        "# args = TrainingArguments(\n",
        "#     output_dir='indic_bert',\n",
        "#     evaluation_strategy=\"epoch\",\n",
        "#     learning_rate=2e-5,\n",
        "#     per_device_train_batch_size=8,\n",
        "#     per_device_eval_batch_size=8,\n",
        "#     num_train_epochs=5,\n",
        "#     weight_decay=0.01,\n",
        "#     save_strategy=\"no\"\n",
        "# )\n",
        "\n",
        "# # Initialize the trainer\n",
        "# trainer = Trainer(\n",
        "#     model=model,\n",
        "#     tokenizer=tokenizer,\n",
        "#     args=args\n",
        "# )\n",
        "\n",
        "# Save the model, tokenizer, and training arguments\n",
        "# bert_tokenizer.save_pretrained(trainer_folder_path)\n",
        "# bert_model.save_pretrained(trainer_folder_path)\n",
        "# args.save_to_json(f\"{trainer_folder_path}/training_args.json\")\n",
        "\n"
      ],
      "metadata": {
        "id": "YLHMlUF74qAI"
      },
      "execution_count": null,
      "outputs": []
    },
    {
      "cell_type": "code",
      "source": [
        "# from transformers import AutoTokenizer"
      ],
      "metadata": {
        "id": "ox9ylZrH47SU"
      },
      "execution_count": null,
      "outputs": []
    },
    {
      "cell_type": "code",
      "source": [
        "# ner_tokenizer_pre = AutoTokenizer.from_pretrained(trainer_folder_path)\n",
        "\n",
        "# # Load model\n",
        "# # num_labels = 10  # Replace with the number of labels used during training\n",
        "# ner_model_pre = AutoModelForTokenClassification.from_pretrained(trainer_folder_path, num_labels=num_labels)"
      ],
      "metadata": {
        "id": "0qMQ0uFy4qAJ"
      },
      "execution_count": null,
      "outputs": []
    },
    {
      "cell_type": "code",
      "source": [
        "def get_predictions_ner( sentence, tokenizer, model ):\n",
        "  # Let us first tokenize the sentence - split words into subwords\n",
        "  tok_sentence = tokenizer(sentence, return_tensors='pt')\n",
        "  new_label_mapping = {0: 'O', 1: 'B-PER', 2: 'I-PER', 3: 'B-ORG', 4: 'I-ORG', 5: 'B-LOC', 6: 'I-LOC'}\n",
        "  mapping = {'B-LOC': 0, 'B-ORG': 1, 'B-PER': 2, 'I-LOC': 3, 'I-ORG': 4, 'I-PER': 5, 'O': 6}\n",
        "  # print(tok_sentence)\n",
        "  # predictions, labels, bert_metrics = trainer.predict(tok_sentence)\n",
        "  with torch.no_grad():\n",
        "    # we will send the tokenized sentence to the model to get predictions\n",
        "    logits = model(**tok_sentence).logits.argmax(-1)\n",
        "    # print(logits[0])\n",
        "    # We will map the maximum predicted class id with the class label\n",
        "    predicted_tokens_classes = [model.config.id2label[t.item()] for t in logits[0]]\n",
        "    # print(predicted_tokens_classes)\n",
        "    # print(\"---------------------\")\n",
        "\n",
        "    predicted_labels = []\n",
        "\n",
        "    previous_token_id = 0\n",
        "    # we need to assign the named entity label to the head word and not the following sub-words\n",
        "    word_ids = tok_sentence.word_ids()\n",
        "    for word_index in range(len(word_ids)):\n",
        "        if word_ids[word_index] == None:\n",
        "            previous_token_id = word_ids[word_index]\n",
        "        elif word_ids[word_index] == previous_token_id:\n",
        "            previous_token_id = word_ids[word_index]\n",
        "        else:\n",
        "            predicted_labels.append( predicted_tokens_classes[ word_index ] )\n",
        "            previous_token_id = word_ids[word_index]\n",
        "\n",
        "    # remapped_labels = []\n",
        "    remapped_sublist = [mapping[label] if label in mapping else label for label in predicted_labels]\n",
        "    remapped_sublist = [new_label_mapping[label] if label in new_label_mapping else label for label in remapped_sublist]\n",
        "    # remapped_labels.append(remapped_sublist)\n",
        "\n",
        "  return remapped_sublist"
      ],
      "metadata": {
        "execution": {
          "iopub.status.busy": "2024-03-13T11:34:56.608109Z",
          "iopub.execute_input": "2024-03-13T11:34:56.608470Z",
          "iopub.status.idle": "2024-03-13T11:34:56.620239Z",
          "shell.execute_reply.started": "2024-03-13T11:34:56.608442Z",
          "shell.execute_reply": "2024-03-13T11:34:56.619279Z"
        },
        "trusted": true,
        "id": "EvN_AQwVnqFR"
      },
      "execution_count": null,
      "outputs": []
    },
    {
      "cell_type": "code",
      "source": [
        "# Now perform predictions\n",
        "prediction_by_IndicNER = []\n",
        "for input in input_list:\n",
        "  predicted_labels = get_predictions_ner(sentence=input, tokenizer=tokenizer,model=model)\n",
        "  prediction_by_IndicNER.append(predicted_labels)"
      ],
      "metadata": {
        "id": "-0Y2oPwDgBYL",
        "execution": {
          "iopub.status.busy": "2024-03-13T11:35:02.063934Z",
          "iopub.execute_input": "2024-03-13T11:35:02.065018Z",
          "iopub.status.idle": "2024-03-13T11:35:04.194476Z",
          "shell.execute_reply.started": "2024-03-13T11:35:02.064983Z",
          "shell.execute_reply": "2024-03-13T11:35:04.193267Z"
        },
        "trusted": true
      },
      "execution_count": null,
      "outputs": []
    },
    {
      "cell_type": "code",
      "source": [
        "prediction_by_IndicNER\n"
      ],
      "metadata": {
        "id": "bdfXWmCggrnf",
        "colab": {
          "base_uri": "https://localhost:8080/"
        },
        "outputId": "d047aece-c435-4592-d225-022a0e79e91c",
        "execution": {
          "iopub.status.busy": "2024-03-13T11:35:07.794599Z",
          "iopub.execute_input": "2024-03-13T11:35:07.794954Z",
          "iopub.status.idle": "2024-03-13T11:35:07.812712Z",
          "shell.execute_reply.started": "2024-03-13T11:35:07.794924Z",
          "shell.execute_reply": "2024-03-13T11:35:07.811502Z"
        },
        "trusted": true
      },
      "execution_count": null,
      "outputs": [
        {
          "execution_count": 68,
          "output_type": "execute_result",
          "data": {
            "text/plain": "[['B-LOC', 'O', 'O', 'O', 'O', 'O', 'O', 'O', 'O', 'O', 'O'],\n ['O', 'O', 'O', 'B-ORG', 'O', 'O', 'O', 'O', 'O', 'O'],\n ['O',\n  'O',\n  'O',\n  'O',\n  'O',\n  'O',\n  'O',\n  'O',\n  'O',\n  'O',\n  'O',\n  'O',\n  'O',\n  'O',\n  'O',\n  'O',\n  'O'],\n ['O',\n  'O',\n  'O',\n  'O',\n  'O',\n  'O',\n  'O',\n  'O',\n  'O',\n  'O',\n  'O',\n  'O',\n  'O',\n  'O',\n  'O',\n  'O',\n  'O',\n  'O',\n  'O',\n  'O',\n  'O',\n  'O',\n  'O'],\n ['O', 'O', 'O', 'O', 'O', 'O', 'O', 'O', 'O', 'O'],\n ['O',\n  'O',\n  'O',\n  'O',\n  'O',\n  'O',\n  'O',\n  'O',\n  'O',\n  'O',\n  'O',\n  'O',\n  'O',\n  'O',\n  'O',\n  'O',\n  'O',\n  'O',\n  'O'],\n ['B-PER', 'O', 'O', 'O', 'B-LOC', 'O', 'O', 'O', 'O', 'B-PER', 'O', 'O', 'O'],\n ['B-ORG',\n  'O',\n  'O',\n  'B-PER',\n  'I-PER',\n  'O',\n  'O',\n  'O',\n  'O',\n  'O',\n  'O',\n  'O',\n  'O',\n  'O',\n  'O',\n  'O',\n  'O',\n  'O',\n  'O',\n  'O',\n  'O',\n  'O',\n  'O',\n  'O',\n  'O',\n  'O',\n  'O',\n  'O',\n  'O',\n  'O',\n  'O'],\n ['B-ORG', 'I-ORG', 'I-ORG', 'O', 'O', 'O', 'O', 'O', 'O', 'O', 'O'],\n ['O',\n  'O',\n  'O',\n  'O',\n  'O',\n  'O',\n  'O',\n  'O',\n  'O',\n  'O',\n  'O',\n  'O',\n  'O',\n  'O',\n  'O',\n  'O',\n  'O',\n  'O',\n  'O',\n  'O',\n  'O',\n  'O',\n  'O',\n  'O',\n  'O',\n  'O',\n  'O',\n  'O',\n  'O',\n  'O',\n  'O',\n  'O',\n  'O',\n  'O'],\n ['O', 'O', 'O', 'O', 'O', 'O', 'O', 'O', 'O', 'O'],\n ['O',\n  'O',\n  'B-ORG',\n  'O',\n  'O',\n  'O',\n  'O',\n  'O',\n  'O',\n  'O',\n  'O',\n  'O',\n  'O',\n  'O',\n  'O',\n  'O',\n  'O',\n  'O'],\n ['O',\n  'O',\n  'O',\n  'B-ORG',\n  'I-ORG',\n  'O',\n  'O',\n  'B-PER',\n  'I-PER',\n  'I-PER',\n  'O',\n  'O',\n  'O',\n  'O'],\n ['O',\n  'O',\n  'O',\n  'O',\n  'O',\n  'O',\n  'O',\n  'O',\n  'O',\n  'O',\n  'B-ORG',\n  'O',\n  'O',\n  'O',\n  'O',\n  'O',\n  'O',\n  'O',\n  'O',\n  'O',\n  'O'],\n ['O',\n  'O',\n  'O',\n  'O',\n  'O',\n  'B-PER',\n  'I-PER',\n  'O',\n  'O',\n  'O',\n  'O',\n  'O',\n  'O',\n  'O',\n  'O',\n  'O',\n  'O',\n  'B-ORG',\n  'O',\n  'O',\n  'O',\n  'O',\n  'O',\n  'O',\n  'O',\n  'O',\n  'B-ORG',\n  'O',\n  'O',\n  'O',\n  'O',\n  'O',\n  'B-LOC',\n  'O',\n  'O',\n  'O',\n  'O',\n  'O',\n  'B-PER',\n  'I-PER',\n  'O',\n  'O',\n  'O',\n  'O',\n  'O',\n  'B-PER',\n  'O',\n  'O',\n  'O',\n  'O',\n  'O',\n  'O',\n  'O',\n  'O',\n  'O'],\n ['O', 'O', 'O', 'O', 'O', 'O', 'B-PER', 'O', 'O', 'O'],\n ['B-PER', 'I-PER', 'O', 'O', 'O', 'O', 'O', 'O', 'O', 'O', 'O', 'O'],\n ['O', 'O', 'O', 'B-PER', 'O', 'O', 'O', 'O', 'O', 'O'],\n ['O',\n  'O',\n  'O',\n  'O',\n  'O',\n  'O',\n  'B-PER',\n  'I-PER',\n  'O',\n  'O',\n  'O',\n  'O',\n  'O',\n  'O',\n  'O'],\n ['O', 'O', 'O', 'O', 'O', 'O', 'O', 'O', 'O', 'O', 'O', 'O'],\n ['O',\n  'O',\n  'B-PER',\n  'B-PER',\n  'O',\n  'O',\n  'O',\n  'B-PER',\n  'O',\n  'O',\n  'O',\n  'O',\n  'O',\n  'O'],\n ['O', 'O', 'O', 'O', 'O', 'O', 'O', 'O', 'O', 'O', 'O'],\n ['O',\n  'O',\n  'O',\n  'O',\n  'O',\n  'O',\n  'O',\n  'O',\n  'O',\n  'O',\n  'O',\n  'O',\n  'O',\n  'B-ORG',\n  'O',\n  'O',\n  'O',\n  'O',\n  'O'],\n ['O', 'O', 'O', 'O', 'O', 'O', 'O', 'O', 'O', 'O', 'O', 'O'],\n ['B-PER', 'O', 'O', 'O', 'O', 'O', 'O', 'O', 'O', 'O', 'O']]"
          },
          "metadata": {}
        }
      ]
    },
    {
      "cell_type": "code",
      "source": [
        "# Call the function with your predictions and ground truth\n",
        "precision, recall, f1 = compute_f1_score(prediction_by_IndicNER, ground_truth)"
      ],
      "metadata": {
        "id": "xR_rS9dl7bEB",
        "colab": {
          "base_uri": "https://localhost:8080/"
        },
        "outputId": "e3979771-f805-4105-fe6d-bacafab23fa0",
        "execution": {
          "iopub.status.busy": "2024-03-13T11:35:09.302428Z",
          "iopub.execute_input": "2024-03-13T11:35:09.302784Z",
          "iopub.status.idle": "2024-03-13T11:35:09.319718Z",
          "shell.execute_reply.started": "2024-03-13T11:35:09.302753Z",
          "shell.execute_reply": "2024-03-13T11:35:09.318782Z"
        },
        "trusted": true
      },
      "execution_count": null,
      "outputs": [
        {
          "name": "stdout",
          "text": "Performace of  B-LOC\nPrecision: 0.6666666666666666\nRecall: 0.25\nF1-score: 0.36363636363636365\n------------\nPerformace of  B-ORG\nPrecision: 0.5555555555555556\nRecall: 0.8333333333333334\nF1-score: 0.6666666666666667\n------------\nPerformace of  O\nPrecision: 0.883419689119171\nRecall: 0.9941690962099126\nF1-score: 0.9355281207133059\n------------\nPerformace of  I-ORG\nPrecision: 0.6666666666666666\nRecall: 0.6666666666666666\nF1-score: 0.6666666666666666\n------------\nPerformace of  B-MISC\nPrecision: 0\nRecall: 0.0\nF1-score: 0\n------------\nPerformace of  I-MISC\nPrecision: 0\nRecall: 0.0\nF1-score: 0\n------------\nPerformace of  B-PER\nPrecision: 0.9333333333333333\nRecall: 0.9333333333333333\nF1-score: 0.9333333333333333\n------------\nPerformace of  I-PER\nPrecision: 1.0\nRecall: 0.875\nF1-score: 0.9333333333333333\n------------\nPerformace of  I-LOC\nPrecision: 0\nRecall: 0.0\nF1-score: 0\n------------\nnumber of classes 9\n",
          "output_type": "stream"
        }
      ]
    },
    {
      "cell_type": "code",
      "source": [
        "print(\"Macro Precision:\", precision)\n",
        "print(\"Macro Recall:\", recall)\n",
        "print(\"Macro F1-score:\", f1)"
      ],
      "metadata": {
        "colab": {
          "base_uri": "https://localhost:8080/"
        },
        "id": "Rc1D_Lo49R-d",
        "outputId": "3e541e25-4924-406f-a7d1-8b24cc035391",
        "execution": {
          "iopub.status.busy": "2024-03-13T11:31:53.397909Z",
          "iopub.execute_input": "2024-03-13T11:31:53.398266Z",
          "iopub.status.idle": "2024-03-13T11:31:53.403185Z",
          "shell.execute_reply.started": "2024-03-13T11:31:53.398241Z",
          "shell.execute_reply": "2024-03-13T11:31:53.402286Z"
        },
        "trusted": true
      },
      "execution_count": null,
      "outputs": [
        {
          "name": "stdout",
          "text": "Macro Precision: 0.6952697853461213\nMacro Recall: 0.48638915883813844\nMacro F1-score: 0.5372061714453019\n",
          "output_type": "stream"
        }
      ]
    },
    {
      "cell_type": "markdown",
      "source": [
        "## **Chat-GPT**"
      ],
      "metadata": {
        "id": "ncWF5OrPtX3Z"
      }
    },
    {
      "cell_type": "code",
      "source": [
        "chat_gpt_response = [\n",
        "[\"B-ORG\", \"I-ORG\", \"B-MISC\", \"O\", \"B-MISC\", \"I-MISC\", \"O\", \"O\", \"O\", \"O\", \"O\"],\n",
        "[\"O\", \"O\", \"O\", \"O\", \"O\", \"O\", \"O\", \"O\", \"O\", \"O\"],\n",
        "[\"B-MISC\", \"I-MISC\", \"O\", \"O\", \"O\", \"O\", \"O\", \"O\", \"O\", \"O\", \"O\", \"O\", \"O\", \"O\", \"O\", \"O\",\"O\"],\n",
        "[\"O\", \"O\", \"O\", \"O\", \"O\", \"O\", \"O\", \"O\", \"O\", \"O\", \"O\", \"O\", \"O\", \"O\", \"O\", \"O\", \"O\", \"O\", \"O\", \"O\", \"O\", \"O\", \"O\"],\n",
        "[\"O\", \"O\", \"B-MISC\", \"O\", \"O\", \"O\", \"O\", \"O\", \"B-MISC\", \"O\"],\n",
        "[\"O\", \"O\", \"O\", \"O\", \"O\", \"O\", \"O\", \"O\", \"O\", \"O\", \"O\", \"O\", \"O\", \"O\", \"O\", \"O\", \"O\", \"O\", \"O\"],\n",
        "[\"B-PER\", \"O\", \"O\", \"O\", \"B-LOC\", \"O\", \"O\", \"O\", \"O\", \"B-PER\", \"O\", \"O\", \"O\"],\n",
        "['O', 'B-ORG', 'I-ORG', 'B-PER', 'I-PER', 'O', 'O', 'O', 'O', 'O', 'O', 'O', 'O', 'O', 'O', 'O', 'O', 'O', 'O', 'O', 'O', 'O', 'O', 'O', 'O', 'O', 'O', 'O', 'O', 'O', 'O'],\n",
        "[\"B-ORG\", \"I-ORG\", \"I-ORG\", \"O\", \"B-MISC\", \"I-MISC\", \"I-MISC\", \"O\", \"O\", \"O\", \"O\"],\n",
        "['O', 'O', 'O', 'O', 'O', 'O', 'O', 'O', 'O', 'O', 'O', 'O', 'O', 'O', 'O', 'O', 'O', 'O', 'O', 'O', 'O', 'O', 'O', 'O', 'O', 'O', 'O', 'O', 'O', 'O', 'O', 'O', 'O', 'O'],\n",
        "['O', 'B-MISC', 'I-MISC', 'O', 'O', 'O', 'O', 'O', 'O', 'O'],\n",
        "[\"O\", \"O\", \"B-MISC\", \"I-MISC\", \"O\", \"O\", \"O\", \"O\", \"B-MISC\", \"O\", \"B-MISC\", \"I-MISC\", \"I-MISC\", \"O\", \"O\",\"O\",\"O\",\"O\"],\n",
        "[\"B-PER\", \"O\", \"O\", \"B-ORG\", \"B-LOC\", \"O\", \"O\", \"O\", \"B-PER\", \"I-PER\", \"O\", \"O\", \"O\",\"O\"],\n",
        "[\"O\", \"O\", \"O\", \"O\", \"B-MISC\", \"I-MISC\", \"O\", \"O\", \"O\", \"O\", \"B-MISC\", \"I-MISC\", \"O\", \"O\", \"O\", \"O\",\"O\",\"O\",\"O\",\"O\",\"O\"],\n",
        "[\"B-MISC\",\n",
        "\"O\" ,\n",
        "\"O\" ,\n",
        "\"O\" ,\n",
        "\"O\" ,\n",
        "\"B-PER\",\n",
        "\"O\" ,\n",
        "\"O\" ,\n",
        "\"O\" ,\n",
        "\"O\" ,\n",
        "\"O\" ,\n",
        "\"O\" ,\n",
        "\"O\" ,\n",
        "\"O\" ,\n",
        "\"O\" ,\n",
        "\"O\" ,\n",
        "\"O\" ,\n",
        "\"B-ORG\" ,\n",
        "\"O\" ,\n",
        "\"O\" ,\n",
        "\"O\" ,\n",
        "\"O\",\n",
        "\"O\",\n",
        "\"O\",\n",
        "\"O\",\n",
        "\"B\",\n",
        "\"B\",\n",
        "\"O\",\n",
        "\"O\",\n",
        "\"O\",\n",
        "\"O\",\n",
        "\"O\",\n",
        "\"B-LOC\",\n",
        "\"O\",\n",
        "\"O\",\n",
        "\"O\",\n",
        "\"O\",\n",
        "\"O\",\n",
        "\"B-PER\",\n",
        "\"O\",\n",
        "\"O\",\n",
        "\"O\",\n",
        "\"O\",\n",
        "\"O\",\n",
        "\"O\",\n",
        "\"B-PER\",\n",
        "\"O\",\n",
        "\"O\",\n",
        "\"O\",\n",
        "\"O\",\n",
        "\"O\",\n",
        "\"O\",\n",
        "\"O\",\n",
        "\"O\",\n",
        "\"O\"],\n",
        "[\"B-MISC\", \"I-MISC\", \"O\", \"O\", \"O\", \"O\", \"B-MISC\", \"O\", \"O\", \"O\"],\n",
        "['B-PER', 'O', 'O', 'O', 'O', 'O', 'O', 'O', 'O', 'O', 'O', 'O'],\n",
        "\n",
        "[\"B-MISC\", \"I-MISC\", \"O\", \"O\", \"O\", \"O\", \"B-PER\", \"O\", \"O\", \"O\"],\n",
        "['O', 'O', 'O', 'O', 'O', 'O','B-PER', 'I-PER', 'O', 'O', 'O', 'O', 'O', 'O', 'O'],\n",
        "[\"O\", \"O\", \"O\", \"B-MISC\", \"O\", \"O\", \"O\", \"O\", \"O\", \"O\", \"O\", \"O\"],\n",
        "['O', 'O','B-PER', 'I-PER', 'O', 'O', 'O', 'B-PER', 'O', 'O', 'O', 'O', 'O', 'O'],\n",
        "[\"B-MISC\", \"O\", \"O\", \"O\", \"O\", \"O\", \"O\", \"O\", \"O\", \"O\", \"O\"],\n",
        "[\"O\", \"O\",\"O\", \"B-MISC\", \"O\", \"O\", \"O\",\"O\", \"O\", \"O\", \"B-MISC\", \"O\", \"O\",\"B-ORG\" \"O\", \"O\", \"O\", \"O\", \"O\",\"O\"],\n",
        "[\"O\", \"O\", \"O\", \"O\", \"O\", \"O\", \"O\", \"O\", \"O\", \"O\", \"O\",\"O\"],\n",
        "[\"O\", \"O\", \"O\", \"B-MISC\", \"I-MISC\", \"O\", \"O\", \"O\", \"O\", \"O\", \"O\"]\n",
        "]"
      ],
      "metadata": {
        "id": "JzuJm81itaxL",
        "execution": {
          "iopub.status.busy": "2024-03-13T09:34:59.414686Z",
          "iopub.execute_input": "2024-03-13T09:34:59.415079Z",
          "iopub.status.idle": "2024-03-13T09:34:59.439896Z",
          "shell.execute_reply.started": "2024-03-13T09:34:59.415049Z",
          "shell.execute_reply": "2024-03-13T09:34:59.438263Z"
        },
        "trusted": true
      },
      "execution_count": null,
      "outputs": []
    },
    {
      "cell_type": "code",
      "source": [
        "# Call the function with your predictions and ground truth\n",
        "precision, recall, f1 = compute_f1_score(chat_gpt_response, ground_truth)\n"
      ],
      "metadata": {
        "colab": {
          "base_uri": "https://localhost:8080/"
        },
        "id": "riBDHKiD8BeV",
        "outputId": "61f1e8c5-7c17-4182-c2c6-a1b2027d6526",
        "execution": {
          "iopub.status.busy": "2024-03-13T09:35:00.660521Z",
          "iopub.execute_input": "2024-03-13T09:35:00.661391Z",
          "iopub.status.idle": "2024-03-13T09:35:00.681081Z",
          "shell.execute_reply.started": "2024-03-13T09:35:00.661355Z",
          "shell.execute_reply": "2024-03-13T09:35:00.680026Z"
        },
        "trusted": true
      },
      "execution_count": null,
      "outputs": [
        {
          "name": "stdout",
          "text": "Performace of  B-ORG\nPrecision: 0.8\nRecall: 0.6666666666666666\nF1-score: 0.7272727272727272\n------------\nPerformace of  I-ORG\nPrecision: 0.75\nRecall: 1.0\nF1-score: 0.8571428571428571\n------------\nPerformace of  B-MISC\nPrecision: 0.7142857142857143\nRecall: 0.625\nF1-score: 0.6666666666666666\n------------\nPerformace of  O\nPrecision: 0.9355742296918768\nRecall: 0.9737609329446064\nF1-score: 0.9542857142857143\n------------\nPerformace of  I-MISC\nPrecision: 0.7692307692307693\nRecall: 0.8333333333333334\nF1-score: 0.8\n------------\nPerformace of  B-PER\nPrecision: 0.8461538461538461\nRecall: 0.7333333333333333\nF1-score: 0.7857142857142856\n------------\nPerformace of  B-LOC\nPrecision: 1.0\nRecall: 0.375\nF1-score: 0.5454545454545454\n------------\nPerformace of  I-PER\nPrecision: 0.5\nRecall: 0.2857142857142857\nF1-score: 0.36363636363636365\n------------\nPerformace of  IPER\nPrecision: 0\nRecall: 0.0\nF1-score: 0\n------------\nPerformace of  I-LOC\nPrecision: 0\nRecall: 0.0\nF1-score: 0\n------------\nPerformace of  B\nPrecision: 0.0\nRecall: 0\nF1-score: 0\n------------\nPerformace of  B-ORGO\nPrecision: 0.0\nRecall: 0\nF1-score: 0\n------------\n",
          "output_type": "stream"
        }
      ]
    },
    {
      "cell_type": "code",
      "source": [
        "print(\"Macro Precision:\", precision)\n",
        "print(\"Macro Recall:\", recall)\n",
        "print(\"Macro F1-score:\", f1)"
      ],
      "metadata": {
        "id": "F-8TWcFJ9VQz",
        "execution": {
          "iopub.status.busy": "2024-03-13T09:35:01.020502Z",
          "iopub.execute_input": "2024-03-13T09:35:01.020890Z",
          "iopub.status.idle": "2024-03-13T09:35:01.029144Z",
          "shell.execute_reply.started": "2024-03-13T09:35:01.020859Z",
          "shell.execute_reply": "2024-03-13T09:35:01.028049Z"
        },
        "trusted": true,
        "outputId": "fa44d74b-db1d-4122-e66e-95520e2d084b"
      },
      "execution_count": null,
      "outputs": [
        {
          "name": "stdout",
          "text": "Macro Precision: 0.5262703799468506\nMacro Recall: 0.45773404599935213\nMacro F1-score: 0.47501443001442994\n",
          "output_type": "stream"
        }
      ]
    },
    {
      "cell_type": "code",
      "source": [],
      "metadata": {
        "id": "A6kOs3xBnhBO"
      },
      "execution_count": null,
      "outputs": []
    },
    {
      "cell_type": "markdown",
      "source": [
        "# **Question 5**"
      ],
      "metadata": {
        "id": "v5I3yKqwnhBO"
      }
    },
    {
      "cell_type": "markdown",
      "source": [
        "# Performance Comparison of Indic-NER and Indic-BERT Models for Named Entity Recognition\n",
        "\n",
        "## Introduction\n",
        "In this report, we compare the performance of two state-of-the-art models, Indic-NER and Indic-BERT, for the task of Named Entity Recognition (NER). NER is the task of identifying and classifying named entities such as persons, organizations, locations, and miscellaneous entities in text data.\n",
        "\n",
        "## Hyperparameters Tuned\n",
        "We tuned several hyperparameters during training to optimize the performance of both models:\n",
        "- **Learning Rate:** Set to 2e-5 for gradual updates to model parameters.\n",
        "- **Batch Size:** Fixed at 8 to balance training speed and memory consumption.\n",
        "- **Number of Training Epochs:** Set to 3 to allow the model to learn from the data without overfitting.\n",
        "- **Weight Decay:** Set to 0.01 for moderate regularization to prevent overfitting.\n",
        "- **Evaluation Strategy:** Evaluated after each epoch to monitor model performance throughout training.\n",
        "\n",
        "## Results\n",
        "### Performance of Indic-NER Model\n",
        "- **Macro Precision:** 0.6953\n",
        "- **Macro Recall:**  0.48639\n",
        "- **Macro F1-score:** 0.5372\n",
        "#### Individual Named Entity Classes:\n",
        "- **B-LOC:**\n",
        "  - Precision: 0.667, Recall: 0.25, F1-score: 0.364\n",
        "- **B-ORG:**\n",
        "  - Precision: 0.556, Recall: 0.833, F1-score: 0.667\n",
        "- **O:**\n",
        "  - Precision: 0.883, Recall: 0.994, F1-score: 0.936\n",
        "- **B-PER:**\n",
        "  - Precision: 0.933, Recall: 0.933, F1-score: 0.933\n",
        "- **Other classes (B-MISC, I-MISC, I-ORG, I-PER, I-LOC):**\n",
        "  - Precision, Recall, and F1-score: 0 (due to no correct predictions)\n",
        "\n",
        "### Performance of Indic-BERT Model\n",
        "- **Macro Precision:** 0.52284\n",
        "- **Macro Recall:** 0.50583\n",
        "- **Macro F1-score:** 0.4999\n",
        "\n",
        "\n",
        "#### Individual Named Entity Classes:\n",
        "- **B-ORG:**\n",
        "  - Precision: 0.800, Recall: 0.667, F1-score: 0.727\n",
        "- **I-ORG:**\n",
        "  - Precision: 0.750, Recall: 1.000, F1-score: 0.857\n",
        "- **O:**\n",
        "  - Precision: 0.936, Recall: 0.974, F1-score: 0.954\n",
        "- **Other classes (B-MISC, I-MISC, B-PER, B-LOC, I-PER, I-LOC):**\n",
        "  - Precision, Recall, and F1-score: 0 (due to no correct predictions)\n",
        "\n",
        "## Comparison and Discussion\n",
        "- The Indic-NER model achieved a slightly higher macro F1-score compared to the Indic-BERT model (0.5372 vs. 0.4999), indicating better overall performance.\n",
        "- However, both models exhibited varying performance across individual named entity classes.\n",
        "- The Indic-BERT model outperformed the Indic-NER model in certain classes (e.g., B-ORG, I-ORG), while the Indic-NER model performed better in others (e.g., B-PER, I-PER).\n",
        "- Further analysis is required to understand the factors influencing model performance and to identify areas for improvement.\n",
        "\n",
        "## Conclusion\n",
        "In conclusion, the Indic-NER model showed better overall performance for the task of Named Entity Recognition compared to the Indic-BERT model. However, both models have their strengths and weaknesses, and further research is needed to enhance their performance and address specific challenges in NER for Indian languages.\n"
      ],
      "metadata": {
        "id": "4oacNzOgnhBO"
      }
    }
  ]
}